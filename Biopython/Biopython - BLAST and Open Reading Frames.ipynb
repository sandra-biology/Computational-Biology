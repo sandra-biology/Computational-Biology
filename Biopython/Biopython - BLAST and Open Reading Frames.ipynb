{
 "cells": [
  {
   "cell_type": "markdown",
   "metadata": {},
   "source": [
    "### Searching for sequence"
   ]
  },
  {
   "cell_type": "code",
   "execution_count": 5,
   "metadata": {},
   "outputs": [],
   "source": [
    "from Bio.Blast import NCBIWWW\n",
    "result_handle = NCBIWWW.qblast('blastn', 'nt', '8332116')"
   ]
  },
  {
   "cell_type": "code",
   "execution_count": 8,
   "metadata": {},
   "outputs": [
    {
     "ename": "ValueError",
     "evalue": "Your XML file was empty",
     "output_type": "error",
     "traceback": [
      "\u001b[1;31m---------------------------------------------------------------------------\u001b[0m",
      "\u001b[1;31mValueError\u001b[0m                                Traceback (most recent call last)",
      "\u001b[1;32m<ipython-input-8-4981b02546e5>\u001b[0m in \u001b[0;36m<module>\u001b[1;34m\u001b[0m\n\u001b[0;32m      1\u001b[0m \u001b[1;32mfrom\u001b[0m \u001b[0mBio\u001b[0m\u001b[1;33m.\u001b[0m\u001b[0mBlast\u001b[0m \u001b[1;32mimport\u001b[0m \u001b[0mNCBIXML\u001b[0m\u001b[1;33m\u001b[0m\u001b[1;33m\u001b[0m\u001b[0m\n\u001b[0;32m      2\u001b[0m \u001b[0mblast_records\u001b[0m \u001b[1;33m=\u001b[0m \u001b[0mNCBIXML\u001b[0m\u001b[1;33m.\u001b[0m\u001b[0mparse\u001b[0m\u001b[1;33m(\u001b[0m\u001b[0mresult_handle\u001b[0m\u001b[1;33m)\u001b[0m\u001b[1;33m\u001b[0m\u001b[1;33m\u001b[0m\u001b[0m\n\u001b[1;32m----> 3\u001b[1;33m \u001b[0mblast_record\u001b[0m \u001b[1;33m=\u001b[0m \u001b[0mnext\u001b[0m\u001b[1;33m(\u001b[0m\u001b[0mblast_records\u001b[0m\u001b[1;33m)\u001b[0m\u001b[1;33m\u001b[0m\u001b[1;33m\u001b[0m\u001b[0m\n\u001b[0m",
      "\u001b[1;32m~\\anaconda3\\lib\\site-packages\\Bio\\Blast\\NCBIXML.py\u001b[0m in \u001b[0;36mparse\u001b[1;34m(handle, debug)\u001b[0m\n\u001b[0;32m    798\u001b[0m     \u001b[1;32mif\u001b[0m \u001b[1;32mnot\u001b[0m \u001b[0mtext\u001b[0m\u001b[1;33m:\u001b[0m\u001b[1;33m\u001b[0m\u001b[1;33m\u001b[0m\u001b[0m\n\u001b[0;32m    799\u001b[0m         \u001b[1;31m# NO DATA FOUND!\u001b[0m\u001b[1;33m\u001b[0m\u001b[1;33m\u001b[0m\u001b[1;33m\u001b[0m\u001b[0m\n\u001b[1;32m--> 800\u001b[1;33m         \u001b[1;32mraise\u001b[0m \u001b[0mValueError\u001b[0m\u001b[1;33m(\u001b[0m\u001b[1;34m\"Your XML file was empty\"\u001b[0m\u001b[1;33m)\u001b[0m\u001b[1;33m\u001b[0m\u001b[1;33m\u001b[0m\u001b[0m\n\u001b[0m\u001b[0;32m    801\u001b[0m \u001b[1;33m\u001b[0m\u001b[0m\n\u001b[0;32m    802\u001b[0m     \u001b[1;32mwhile\u001b[0m \u001b[0mtext\u001b[0m\u001b[1;33m:\u001b[0m\u001b[1;33m\u001b[0m\u001b[1;33m\u001b[0m\u001b[0m\n",
      "\u001b[1;31mValueError\u001b[0m: Your XML file was empty"
     ]
    }
   ],
   "source": [
    "from Bio.Blast import NCBIXML\n",
    "blast_records = NCBIXML.parse(result_handle)\n",
    "blast_record = next(blast_records)  # or use a for loop"
   ]
  },
  {
   "cell_type": "markdown",
   "metadata": {},
   "source": [
    "### Bio.SearchIO object model - representation of your search results"
   ]
  },
  {
   "cell_type": "code",
   "execution_count": 9,
   "metadata": {},
   "outputs": [
    {
     "name": "stdout",
     "output_type": "stream",
     "text": [
      "Program: blastn (2.13.0+)\n",
      "  Query: [Glycine (94336)\n",
      "         max] Forrest B100B10 BAC sequence, Rhg4\n",
      " Target: nt\n",
      "   Hits: ----  -----  ----------------------------------------------------------\n",
      "            #  # HSP  ID + description\n",
      "         ----  -----  ----------------------------------------------------------\n",
      "            0      4  gi|1003312939|gb|KT873795.1|  Glycine max cultivar Forr...\n",
      "            1     11  gi|148372212|gb|EF623856.1|  Glycine max cultivar Willi...\n",
      "            2      1  gi|148372211|gb|EF623855.1|  Glycine max cultivar Willi...\n",
      "            3      1  gi|308083482|gb|HM367084.1|  Glycine max cultivar Forre...\n",
      "            4      2  gi|21239383|gb|AF506518.1|  Glycine max receptor-like k...\n",
      "            5      1  gi|226693208|dbj|AB495281.1|  Glycine max Rhg4s gene fo...\n",
      "            6      1  gi|226693210|dbj|AB495282.1|  Glycine max Rhg4-like gen...\n",
      "            7      1  gi|226693212|dbj|AB495283.1|  Glycine max Rhg4-like gen...\n",
      "            8      1  gi|389548695|gb|JQ714083.1|  Glycine max cultivar Forre...\n",
      "            9      1  gi|389548697|gb|JQ714084.1|  Glycine max cultivar Essex...\n",
      "           10      2  gi|1590548380|ref|XM_028387685.1|  PREDICTED: Glycine s...\n",
      "           11      3  gi|1590551797|ref|XM_028389464.1|  PREDICTED: Glycine s...\n",
      "           12     10  gi|1036030069|gb|AH005955.2|  Glycine max cultivar cent...\n",
      "           13      3  gi|2027480380|ref|XM_006585084.4|  PREDICTED: Glycine m...\n",
      "           14      2  gi|2030823703|ref|NM_001249781.3|  Glycine max receptor...\n",
      "           15      2  gi|90655931|gb|DQ439708.1|  Glycine max cultivar Forres...\n",
      "           16      2  gi|90655935|gb|DQ439710.1|  Glycine max cultivar Essex ...\n",
      "           17      3  gi|2027480381|ref|XM_041018094.1|  PREDICTED: Glycine m...\n",
      "           18      2  gi|26518501|gb|AY163905.1|  Glycine max receptor-like k...\n",
      "           19      1  gi|2027465333|ref|XR_003267094.2|  PREDICTED: Glycine m...\n",
      "           20      2  gi|1590527603|ref|XM_028376951.1|  PREDICTED: Glycine s...\n",
      "           21      2  gi|1209601088|ref|NM_001249092.2|  Glycine max Rhg4-lik...\n",
      "           22      2  gi|90655933|gb|DQ439709.1|  Glycine max cultivar Forres...\n",
      "           23      2  gi|90655937|gb|DQ439711.1|  Glycine max cultivar Essex ...\n",
      "           24      1  gi|1590527635|ref|XM_028376968.1|  PREDICTED: Glycine s...\n",
      "           25      1  gi|2027480377|ref|XM_014778869.3|  PREDICTED: Glycine m...\n",
      "           26      1  gi|1590548291|ref|XM_028387637.1|  PREDICTED: Glycine s...\n",
      "           27      2  gi|1215189853|ref|NM_001353430.1|  Glycine max heat str...\n",
      "           28      2  gi|1590548392|ref|XR_003668559.1|  PREDICTED: Glycine s...\n",
      "           29      2  gi|255644798|gb|BT097651.1|  Soybean clone JCVI-FLGm-26...\n",
      "           ~~~\n",
      "           97      2  gi|1190064287|gb|KX881930.1|  Glycine max isolate SHMT0...\n",
      "           98      2  gi|1190064285|gb|KX881929.1|  Glycine max isolate SHMT0...\n",
      "           99      2  gi|1190064283|gb|KX881928.1|  Glycine max isolate SHMT0...\n"
     ]
    }
   ],
   "source": [
    "from Bio import SearchIO\n",
    "blast_qresult = SearchIO.read('my_blast.xml', 'blast-xml')\n",
    "print(blast_qresult)"
   ]
  },
  {
   "cell_type": "code",
   "execution_count": 13,
   "metadata": {},
   "outputs": [
    {
     "data": {
      "text/plain": [
       "100"
      ]
     },
     "execution_count": 13,
     "metadata": {},
     "output_type": "execute_result"
    }
   ],
   "source": [
    "for hit in blast_qresult:\n",
    "    hit\n",
    "\n",
    "len(blast_qresult)  # check how many hits a QueryResult has"
   ]
  },
  {
   "cell_type": "code",
   "execution_count": 16,
   "metadata": {},
   "outputs": [
    {
     "name": "stdout",
     "output_type": "stream",
     "text": [
      "first hit: Query: [Glycine\n",
      "       max] Forrest B100B10 BAC sequence, Rhg4\n",
      "  Hit: gi|1003312939|gb|KT873795.1| (93011)\n",
      "       Glycine max cultivar Forrest clone BAC B100B10 genomic sequence\n",
      " HSPs: ----  --------  ---------  ------  ---------------  ---------------------\n",
      "          #   E-value  Bit score    Span      Query range              Hit range\n",
      "       ----  --------  ---------  ------  ---------------  ---------------------\n",
      "          0         0  171760.00   93011     [1042:94053]              [0:93011]\n",
      "          1    1e-177     643.75     589    [86219:86798]          [84490:85076]\n",
      "          2  5.3e-111     422.16     241    [40570:40811]          [39254:39494]\n",
      "          3  5.3e-111     422.16     241    [40296:40536]          [39528:39769]\n",
      "last hit: Query: [Glycine\n",
      "       max] Forrest B100B10 BAC sequence, Rhg4\n",
      "  Hit: gi|1190064283|gb|KX881928.1| (1413)\n",
      "       Glycine max isolate SHMT08_L299F(F1336) serine hydroxymethyltransferas...\n",
      " HSPs: ----  --------  ---------  ------  ---------------  ---------------------\n",
      "          #   E-value  Bit score    Span      Query range              Hit range\n",
      "       ----  --------  ---------  ------  ---------------  ---------------------\n",
      "          0         0    1971.50    1070      [1687:2757]               [0:1070]\n",
      "          1   1.2e-42     195.02     105      [1491:1596]            [1068:1173]\n",
      "first three hits: Program: blastn (2.13.0+)\n",
      "  Query: [Glycine (94336)\n",
      "         max] Forrest B100B10 BAC sequence, Rhg4\n",
      " Target: nt\n",
      "   Hits: ----  -----  ----------------------------------------------------------\n",
      "            #  # HSP  ID + description\n",
      "         ----  -----  ----------------------------------------------------------\n",
      "            0      4  gi|1003312939|gb|KT873795.1|  Glycine max cultivar Forr...\n",
      "            1     11  gi|148372212|gb|EF623856.1|  Glycine max cultivar Willi...\n",
      "            2      1  gi|148372211|gb|EF623855.1|  Glycine max cultivar Willi...\n"
     ]
    }
   ],
   "source": [
    "print(f'first hit: {blast_qresult[0]}')  # retrieves first hit\n",
    "print(f'last hit: {blast_qresult[-1]}')  # retrieves last hit\n",
    "print(f'first three hits: {blast_qresult[:3]}')"
   ]
  },
  {
   "cell_type": "markdown",
   "metadata": {},
   "source": [
    "#### Hit"
   ]
  },
  {
   "cell_type": "code",
   "execution_count": 17,
   "metadata": {},
   "outputs": [
    {
     "name": "stdout",
     "output_type": "stream",
     "text": [
      "Query: [Glycine\n",
      "       max] Forrest B100B10 BAC sequence, Rhg4\n",
      "  Hit: gi|308083482|gb|HM367084.1| (10031)\n",
      "       Glycine max cultivar Forrest leucine-rich repeat receptor-like kinase ...\n",
      " HSPs: ----  --------  ---------  ------  ---------------  ---------------------\n",
      "          #   E-value  Bit score    Span      Query range              Hit range\n",
      "       ----  --------  ---------  ------  ---------------  ---------------------\n",
      "          0         0   18519.30   10031    [72583:82614]              [0:10031]\n"
     ]
    }
   ],
   "source": [
    "from Bio import SearchIO\n",
    "blast_qresult = SearchIO.read('my_blast.xml', 'blast-xml')\n",
    "blast_hit = blast_qresult[3]\n",
    "print(blast_hit)"
   ]
  },
  {
   "cell_type": "markdown",
   "metadata": {},
   "source": [
    "#### HSP (high-scoring pair) represents region(s) in the hit sequence that contains significant alignment(s) to the query sequence. It contains the actual match between your query sequence and a database entry."
   ]
  },
  {
   "cell_type": "code",
   "execution_count": 21,
   "metadata": {},
   "outputs": [
    {
     "name": "stdout",
     "output_type": "stream",
     "text": [
      "      Query: [Glycine max] Forrest B100B10 BAC sequence, Rhg4\n",
      "        Hit: gi|1003312939|gb|KT873795.1| Glycine max cultivar Forrest clone ...\n",
      "Query range: [1042:94053] (1)\n",
      "  Hit range: [0:93011] (1)\n",
      "Quick stats: evalue 0; bitscore 171760.00\n",
      "  Fragments: 1 (93011 columns)\n",
      "     Query - TAGCCCGAACTAACATACCTCCTTTGTTAAAGCACTAAAAAACACATCCTCAATGAAAT~~~AGATG\n",
      "             |||||||||||||||||||||||||||||||||||||||||||||||||||||||||||~~~|||||\n",
      "       Hit - TAGCCCGAACTAACATACCTCCTTTGTTAAAGCACTAAAAAACACATCCTCAATGAAAT~~~AGATG\n",
      "query_range: (1042, 94053)\n",
      "e value: 0.0\n",
      "start: 0\n",
      "end: 93011\n",
      "query span: 93011\n",
      "alignment length: 93011\n",
      "number of gaps: 0\n",
      "number of identical residues: 93011\n"
     ]
    }
   ],
   "source": [
    "from Bio import SearchIO\n",
    "blast_qresult = SearchIO.read('my_blast.xml', 'blast-xml')\n",
    "blast_hsp = blast_qresult[0][0]\n",
    "print(blast_hsp)\n",
    "\n",
    "print(f'query_range: {blast_hsp.query_range}')\n",
    "print(f'e value: {blast_hsp.evalue}')\n",
    "print(f'start: {blast_hsp.hit_start}')\n",
    "print(f'end: {blast_hsp.hit_end}')\n",
    "print(f'query span: {blast_hsp.query_span}')\n",
    "print(f'alignment length: {blast_hsp.aln_span}')\n",
    "print(f'number of gaps: {blast_hsp.gap_num}')\n",
    "print(f'number of identical residues: {blast_hsp.ident_num}')"
   ]
  },
  {
   "cell_type": "markdown",
   "metadata": {},
   "source": [
    "### Searching for instances"
   ]
  },
  {
   "cell_type": "code",
   "execution_count": 26,
   "metadata": {},
   "outputs": [
    {
     "name": "stdout",
     "output_type": "stream",
     "text": [
      "TACAA\n",
      "TACGC\n",
      "TACAC\n",
      "TACCC\n",
      "AACCC\n",
      "AATGC\n",
      "AATGC\n",
      "\n"
     ]
    }
   ],
   "source": [
    "# motif objects and creating motif from sequences\n",
    "from Bio import motifs\n",
    "from Bio.Seq import Seq\n",
    "instances = [Seq('TACAA'),\n",
    "                Seq('TACGC'),\n",
    "                Seq('TACAC'),\n",
    "                Seq('TACCC'),\n",
    "                Seq('AACCC'),\n",
    "                Seq('AATGC'),\n",
    "                Seq('AATGC')\n",
    "               ]\n",
    "m = motifs.create(instances)\n",
    "print(m)"
   ]
  },
  {
   "cell_type": "code",
   "execution_count": 27,
   "metadata": {},
   "outputs": [
    {
     "name": "stdout",
     "output_type": "stream",
     "text": [
      "5\n",
      "TACGC\n"
     ]
    }
   ],
   "source": [
    "print(len(m))\n",
    "print(m.consensus)"
   ]
  },
  {
   "cell_type": "code",
   "execution_count": 30,
   "metadata": {},
   "outputs": [
    {
     "name": "stdout",
     "output_type": "stream",
     "text": [
      "0 TACAC\n",
      "10 TACAA\n",
      "13 AACCC\n"
     ]
    }
   ],
   "source": [
    "# simplest way to search for instances is to find exact match\n",
    "test_seq = Seq('TACACTGCATTACAACCCAAGCATTA')\n",
    "for pos, seq in m.instances.search(test_seq):\n",
    "    print('%i %s' % (pos, seq))\n",
    "\n",
    "# we can do same thing for reverse strand (complements)\n",
    "# for pos, seq in r.instances.search(test_seq):\n",
    "#     print('%i %s' % (pos, seq))"
   ]
  },
  {
   "cell_type": "markdown",
   "metadata": {},
   "source": [
    "### Identifying Open Reading Frames (ORFs)"
   ]
  },
  {
   "cell_type": "code",
   "execution_count": 31,
   "metadata": {},
   "outputs": [
    {
     "name": "stdout",
     "output_type": "stream",
     "text": [
      "GCLMKKSSIVATIITILSGSANAASSQLIP...YRF - length 315, strand 1, frame 0\n",
      "KSGELRQTPPASSTLHLRLILQRSGVMMEL...NPE - length 285, strand 1, frame 1\n",
      "GLNCSFFSICNWKFIDYINRLFQIIYLCKN...YYH - length 176, strand 1, frame 1\n",
      "VKKILYIKALFLCTVIKLRRFIFSVNNMKF...DLP - length 165, strand 1, frame 1\n",
      "NQIQGVICSPDSGEFMVTFETVMEIKILHK...GVA - length 355, strand 1, frame 2\n",
      "RRKEHVSKKRRPQKRPRRRRFFHRLRPPDE...PTR - length 128, strand 1, frame 2\n",
      "TGKQNSCQMSAIWQLRQNTATKTRQNRARI...AIK - length 100, strand 1, frame 2\n",
      "QGSGYAFPHASILSGIAMSHFYFLVLHAVK...CSD - length 114, strand -1, frame 0\n",
      "IYSTSEHTGEQVMRTLDEVIASRSPESQTR...FHV - length 111, strand -1, frame 0\n",
      "WGKLQVIGLSMWMVLFSQRFDDWLNEQEDA...ESK - length 125, strand -1, frame 1\n",
      "RGIFMSDTMVVNGSGGVPAFLFSGSTLSSY...LLK - length 361, strand -1, frame 1\n",
      "WDVKTVTGVLHHPFHLTFSLCPEGATQSGR...VKR - length 111, strand -1, frame 1\n",
      "LSHTVTDFTDQMAQVGLCQCVNVFLDEVTG...KAA - length 107, strand -1, frame 2\n",
      "RALTGLSAPGIRSQTSCDRLRELRYVPVSL...PLQ - length 119, strand -1, frame 2\n"
     ]
    }
   ],
   "source": [
    "from Bio import SeqIO\n",
    "record = SeqIO.read('NC_005816.fna', 'fasta')\n",
    "table = 11\n",
    "min_pro_len = 100\n",
    "\n",
    "for strand, nuc in [(+1, record.seq), (-1, record.seq.reverse_complement())]:\n",
    "    for frame in range(3):\n",
    "        length = 3 * ((len(record)-frame) // 3)  #Multiple of three\n",
    "        for pro in nuc[frame:frame+length].translate(table).split('*'):\n",
    "            if len(pro) >= min_pro_len:\n",
    "                print('%s...%s - length %i, strand %i, frame %i' \\\n",
    "                      % (pro[:30], pro[-3:], len(pro), strand, frame))"
   ]
  },
  {
   "cell_type": "code",
   "execution_count": 34,
   "metadata": {},
   "outputs": [
    {
     "name": "stderr",
     "output_type": "stream",
     "text": [
      "C:\\Users\\sandr\\anaconda3\\lib\\site-packages\\Bio\\Seq.py:2334: BiopythonWarning: Partial codon, len(sequence) not a multiple of three. Explicitly trim the sequence or add trailing N before translation. This may become an error in future.\n",
      "  warnings.warn(\n"
     ]
    },
    {
     "ename": "ValueError",
     "evalue": "too many values to unpack (expected 3)",
     "output_type": "error",
     "traceback": [
      "\u001b[1;31m---------------------------------------------------------------------------\u001b[0m",
      "\u001b[1;31mValueError\u001b[0m                                Traceback (most recent call last)",
      "\u001b[1;32m<ipython-input-34-56866423b28f>\u001b[0m in \u001b[0;36m<module>\u001b[1;34m\u001b[0m\n\u001b[0;32m     30\u001b[0m \u001b[0morf_list\u001b[0m \u001b[1;33m=\u001b[0m \u001b[0mfind_orfs_with_trans\u001b[0m\u001b[1;33m(\u001b[0m\u001b[0mrecord\u001b[0m\u001b[1;33m.\u001b[0m\u001b[0mseq\u001b[0m\u001b[1;33m,\u001b[0m \u001b[0mtable\u001b[0m\u001b[1;33m,\u001b[0m \u001b[0mmin_pro_len\u001b[0m\u001b[1;33m)\u001b[0m\u001b[1;33m\u001b[0m\u001b[1;33m\u001b[0m\u001b[0m\n\u001b[0;32m     31\u001b[0m \u001b[1;33m\u001b[0m\u001b[0m\n\u001b[1;32m---> 32\u001b[1;33m \u001b[1;32mfor\u001b[0m \u001b[0mstart\u001b[0m\u001b[1;33m,\u001b[0m \u001b[0mend\u001b[0m\u001b[1;33m,\u001b[0m \u001b[0mpro\u001b[0m \u001b[1;32min\u001b[0m \u001b[0morf_list\u001b[0m\u001b[1;33m:\u001b[0m\u001b[1;33m\u001b[0m\u001b[1;33m\u001b[0m\u001b[0m\n\u001b[0m\u001b[0;32m     33\u001b[0m     \u001b[0mprint\u001b[0m\u001b[1;33m(\u001b[0m\u001b[1;34m'%s...%s - length %i, strand %i, %i:%i'\u001b[0m \u001b[1;33m%\u001b[0m \u001b[1;33m(\u001b[0m\u001b[0mpro\u001b[0m\u001b[1;33m[\u001b[0m\u001b[1;33m:\u001b[0m\u001b[1;36m30\u001b[0m\u001b[1;33m]\u001b[0m\u001b[1;33m,\u001b[0m \u001b[0mpro\u001b[0m\u001b[1;33m[\u001b[0m\u001b[1;33m-\u001b[0m\u001b[1;36m3\u001b[0m\u001b[1;33m:\u001b[0m\u001b[1;33m]\u001b[0m\u001b[1;33m,\u001b[0m \u001b[0mlen\u001b[0m\u001b[1;33m(\u001b[0m\u001b[0mpro\u001b[0m\u001b[1;33m)\u001b[0m\u001b[1;33m,\u001b[0m \u001b[0mstrand\u001b[0m\u001b[1;33m,\u001b[0m \u001b[0mstart\u001b[0m\u001b[1;33m,\u001b[0m \u001b[0mend\u001b[0m\u001b[1;33m)\u001b[0m\u001b[1;33m)\u001b[0m\u001b[1;33m\u001b[0m\u001b[1;33m\u001b[0m\u001b[0m\n",
      "\u001b[1;31mValueError\u001b[0m: too many values to unpack (expected 3)"
     ]
    }
   ],
   "source": [
    "# tracking the locations in terms of the protein counting\n",
    "def find_orfs_with_trans(seq, trans_table, min_protein_length):\n",
    "    answer = []\n",
    "    seq_len = len(seq)\n",
    "    for strand, nuc in [(+1, seq), (-1, seq.reverse_complement())]:\n",
    "        for frame in range(3):\n",
    "            trans = nuc[frame:].translate(trans_table)\n",
    "            trans_len = len(trans)\n",
    "            aa_start = 0\n",
    "            aa_end = 0\n",
    "            while aa_start < trans_len:\n",
    "                aa_end = trans.find('*', aa_start)\n",
    "                if aa_end == -1:\n",
    "                    aa_end = trans_len  # reached the end of the protein\n",
    "                if aa_end - aa_start >= min_protein_length:\n",
    "                    if strand == 1:\n",
    "                        start = frame + aa_start * 3\n",
    "                        end = min(seq_len, frame + aa_end * 3 + 3)\n",
    "                    else:\n",
    "                        start = seq_len - frame - aa_end * 3 - 3\n",
    "                        end = seq_len - frame - aa_start * 3\n",
    "                    answer.append((start, end, strand, trans[aa_start:aa_end]))\n",
    "                aa_start = aa_end + 1\n",
    "    answer.sort()\n",
    "    return answer\n",
    "\n",
    "record = SeqIO.read(\"NC_005816.gb\", \"genbank\")\n",
    "table = 11\n",
    "min_pro_len = 100\n",
    "orf_list = find_orfs_with_trans(record.seq, table, min_pro_len)\n",
    "\n",
    "for start, end, pro in orf_list:\n",
    "    print('%s...%s - length %i, strand %i, %i:%i' % (pro[:30], pro[-3:], len(pro), strand, start, end))"
   ]
  }
 ],
 "metadata": {
  "kernelspec": {
   "display_name": "Python 3",
   "language": "python",
   "name": "python3"
  },
  "language_info": {
   "codemirror_mode": {
    "name": "ipython",
    "version": 3
   },
   "file_extension": ".py",
   "mimetype": "text/x-python",
   "name": "python",
   "nbconvert_exporter": "python",
   "pygments_lexer": "ipython3",
   "version": "3.8.5"
  }
 },
 "nbformat": 4,
 "nbformat_minor": 4
}
