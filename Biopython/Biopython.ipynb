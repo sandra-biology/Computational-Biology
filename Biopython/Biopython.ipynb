{
 "cells": [
  {
   "cell_type": "code",
   "execution_count": 1,
   "metadata": {},
   "outputs": [
    {
     "name": "stdout",
     "output_type": "stream",
     "text": [
      "1.78\n"
     ]
    }
   ],
   "source": [
    "import Bio\n",
    "print(Bio.__version__)"
   ]
  },
  {
   "cell_type": "markdown",
   "metadata": {},
   "source": [
    "### Working with sequences"
   ]
  },
  {
   "cell_type": "code",
   "execution_count": 2,
   "metadata": {},
   "outputs": [
    {
     "data": {
      "text/plain": [
       "Seq('AGTACACTGGT')"
      ]
     },
     "execution_count": 2,
     "metadata": {},
     "output_type": "execute_result"
    }
   ],
   "source": [
    "from Bio.Seq import Seq\n",
    "\n",
    "my_seq = Seq('AGTACACTGGT')\n",
    "my_seq"
   ]
  },
  {
   "cell_type": "code",
   "execution_count": 3,
   "metadata": {},
   "outputs": [
    {
     "name": "stdout",
     "output_type": "stream",
     "text": [
      "my sequence:    AGTACACTGGT\n",
      "complement:     TCATGTGACCA\n",
      "rev complement: ACCAGTGTACT\n"
     ]
    }
   ],
   "source": [
    "print(f'my sequence:    {my_seq}')\n",
    "print(f'complement:     {my_seq.complement()}')\n",
    "print(f'rev complement: {my_seq.reverse_complement()}')"
   ]
  },
  {
   "cell_type": "code",
   "execution_count": 6,
   "metadata": {},
   "outputs": [
    {
     "name": "stdout",
     "output_type": "stream",
     "text": [
      "gi|2765658|emb|Z78533.1|CIZ78533\n",
      "Seq('CGTAACAAGGTTTCCGTAGGTGAACCTGCGGAAGGATCATTGATGAGACCGTGG...CGC')\n",
      "740\n",
      "gi|2765657|emb|Z78532.1|CCZ78532\n",
      "Seq('CGTAACAAGGTTTCCGTAGGTGAACCTGCGGAAGGATCATTGTTGAGACAACAG...GGC')\n",
      "753\n",
      "gi|2765656|emb|Z78531.1|CFZ78531\n",
      "Seq('CGTAACAAGGTTTCCGTAGGTGAACCTGCGGAAGGATCATTGTTGAGACAGCAG...TAA')\n",
      "748\n",
      "gi|2765655|emb|Z78530.1|CMZ78530\n",
      "Seq('CGTAACAAGGTTTCCGTAGGTGAACCTGCGGAAGGATCATTGTTGAAACAACAT...CAT')\n",
      "744\n",
      "gi|2765654|emb|Z78529.1|CLZ78529\n",
      "Seq('ACGGCGAGCTGCCGAAGGACATTGTTGAGACAGCAGAATATACGATTGAGTGAA...AAA')\n",
      "733\n",
      "gi|2765652|emb|Z78527.1|CYZ78527\n",
      "Seq('CGTAACAAGGTTTCCGTAGGTGAACCTGCGGAAGGATCATTGTTGAGACAGTAG...CCC')\n",
      "718\n",
      "gi|2765651|emb|Z78526.1|CGZ78526\n",
      "Seq('CGTAACAAGGTTTCCGTAGGTGAACCTGCGGAAGGATCATTGTTGAGACAGTAG...TGT')\n",
      "730\n",
      "gi|2765650|emb|Z78525.1|CAZ78525\n",
      "Seq('TGTTGAGATAGCAGAATATACATCGAGTGAATCCGGAGGACCTGTGGTTATTCG...GCA')\n",
      "704\n",
      "gi|2765649|emb|Z78524.1|CFZ78524\n",
      "Seq('CGTAACAAGGTTTCCGTAGGTGAACCTGCGGAAGGATCATTGTTGAGATAGTAG...AGC')\n",
      "740\n",
      "gi|2765648|emb|Z78523.1|CHZ78523\n",
      "Seq('CGTAACCAGGTTTCCGTAGGTGAACCTGCGGCAGGATCATTGTTGAGACAGCAG...AAG')\n",
      "709\n",
      "gi|2765647|emb|Z78522.1|CMZ78522\n",
      "Seq('CGTAACAAGGTTTCCGTAGGTGAACCTGCGGAAGGATCATTGTTGAGACAGCAG...GAG')\n",
      "700\n",
      "gi|2765646|emb|Z78521.1|CCZ78521\n",
      "Seq('GTAGGTGAACCTGCGGAAGGATCATTGTTGAGACAGTAGAATATATGATCGAGT...ACC')\n",
      "726\n",
      "gi|2765645|emb|Z78520.1|CSZ78520\n",
      "Seq('CGTAACAAGGTTTCCGTAGGTGAACCTGCGGAAGGATCATTGTTGAGACAGCAG...TTT')\n",
      "753\n",
      "gi|2765644|emb|Z78519.1|CPZ78519\n",
      "Seq('ATATGATCGAGTGAATCTGGTGGACTTGTGGTTACTCAGCTCGCCATAGGCTTT...TTA')\n",
      "699\n",
      "gi|2765643|emb|Z78518.1|CRZ78518\n",
      "Seq('CGTAACAAGGTTTCCGTAGGTGAACCTGCGGGAGGATCATTGTTGAGATAGTAG...TCC')\n",
      "658\n",
      "gi|2765642|emb|Z78517.1|CFZ78517\n",
      "Seq('CGTAACAAGGTTTCCGTAGGTGAACCTGCGGAAGGATCATTGTTGAGACAGTAG...AGC')\n",
      "752\n",
      "gi|2765641|emb|Z78516.1|CPZ78516\n",
      "Seq('CGTAACAAGGTTTCCGTAGGTGAACCTGCGGAAGGATCATTGTTGAGACAGTAT...TAA')\n",
      "726\n",
      "gi|2765640|emb|Z78515.1|MXZ78515\n",
      "Seq('CGTAACAAGGTTTCCGTAGGTGAACCTGCGGAAGGATCATTGCTGAGACCGTAG...AGC')\n",
      "765\n",
      "gi|2765639|emb|Z78514.1|PSZ78514\n",
      "Seq('CGTAACAAGGTTTCCGTAGGTGGACCTTCGGGAGGATCATTTTTGAAGCCCCCA...CTA')\n",
      "755\n",
      "gi|2765638|emb|Z78513.1|PBZ78513\n",
      "Seq('CGTAACAAGGTTTCCGTAGGTGAACCTGCGGAAGGATCATTGTTGAGACCGCCA...GAG')\n",
      "742\n",
      "gi|2765637|emb|Z78512.1|PWZ78512\n",
      "Seq('CGTAACAAGGTTTCCGTAGGTGGACCTTCGGGAGGATCATTTTTGAAGCCCCCA...AGC')\n",
      "762\n",
      "gi|2765636|emb|Z78511.1|PEZ78511\n",
      "Seq('CGTAACAAGGTTTCCGTAGGTGAACCTTCGGAAGGATCATTGTTGAGACCCCCA...GGA')\n",
      "745\n",
      "gi|2765635|emb|Z78510.1|PCZ78510\n",
      "Seq('CTAACCAGGGTTCCGAGGTGACCTTCGGGAGGATTCCTTTTTAAGCCCCCGAAA...TTA')\n",
      "750\n",
      "gi|2765634|emb|Z78509.1|PPZ78509\n",
      "Seq('CGTAACAAGGTTTCCGTAGGTGAACCTGCGGAAGGATCATTGTTGAGACCGCCA...GGA')\n",
      "731\n",
      "gi|2765633|emb|Z78508.1|PLZ78508\n",
      "Seq('CGTAACAAGGTTTCCGTAGGTGAACCTGCGGAAGGATCATTGTTGAGACCGCCA...TGA')\n",
      "741\n",
      "gi|2765632|emb|Z78507.1|PLZ78507\n",
      "Seq('CGTAACAAGGTTTCCGTAGGTGAACCTGCGGAAGGATCATTGTTGAGACCCCCA...TGA')\n",
      "740\n",
      "gi|2765631|emb|Z78506.1|PLZ78506\n",
      "Seq('CGTAACAAGGTTTCCGTAGGTGAACCTGCGGAAGGATCATTGTTGAGACCGCAA...TGA')\n",
      "727\n",
      "gi|2765630|emb|Z78505.1|PSZ78505\n",
      "Seq('CGTAACAAGGTTTCCGTAGGTGAACCTGCGGAAGGATCATTGTTGAGACCGCCA...TTT')\n",
      "711\n",
      "gi|2765629|emb|Z78504.1|PKZ78504\n",
      "Seq('CGTAACAAGGTTTCCGTAGGTGAACCTTCGGAAGGATCATTGTTGAGACCGCAA...TAA')\n",
      "743\n",
      "gi|2765628|emb|Z78503.1|PCZ78503\n",
      "Seq('CGTAACCAGGTTTCCGTAGGTGAACCTCCGGAAGGATCCTTGTTGAGACCGCCA...TAA')\n",
      "727\n",
      "gi|2765627|emb|Z78502.1|PBZ78502\n",
      "Seq('CGTAACCAGGTTTCCGTAGGTGAACCTCCGGAAGGATCATTGTTGAGACCGCCA...CGC')\n",
      "757\n",
      "gi|2765626|emb|Z78501.1|PCZ78501\n",
      "Seq('CGTAACAAGGTTTCCGTAGGTGAACCTGCGGAAGGATCATTGTTGAGACCGCAA...AGA')\n",
      "770\n",
      "gi|2765625|emb|Z78500.1|PWZ78500\n",
      "Seq('CGTAACAAGGTTTCCGTAGGTGAACCTGCGGAAGGCTCATTGTTGAGACCGCAA...AAG')\n",
      "767\n",
      "gi|2765624|emb|Z78499.1|PMZ78499\n",
      "Seq('CGTAACAAGGTTTCCGTAGGTGAACCTGCGGAGGGATCATTGTTGAGATCGCAT...ACC')\n",
      "759\n",
      "gi|2765623|emb|Z78498.1|PMZ78498\n",
      "Seq('CGTAACAAGGTTTCCGTAGGTGAACCTGCGGAAAGGTCATTGTTGAGATCACAT...AGC')\n",
      "750\n",
      "gi|2765622|emb|Z78497.1|PDZ78497\n",
      "Seq('CGTAACAAGGTTTCCGTAGGTGAACCTGCGGAAGGATCATTGTTGAGATCACAT...AGC')\n",
      "788\n",
      "gi|2765621|emb|Z78496.1|PAZ78496\n",
      "Seq('CGTAACAAGGTTTCCGTAGGTGAACCTGCGGAAGGATCATTGTTGAGATCGCAT...AGC')\n",
      "774\n",
      "gi|2765620|emb|Z78495.1|PEZ78495\n",
      "Seq('CGTAACAAGGTTTCCGTAGGTGAACCTCCGGAAGGATCATTGTTGAGATCACAT...GTG')\n",
      "789\n",
      "gi|2765619|emb|Z78494.1|PNZ78494\n",
      "Seq('CGTAACAAGGTTTCCGTAGGTGAACCTGCGGAAGGATCATTGTTGAGGTCGCAT...AAG')\n",
      "688\n",
      "gi|2765618|emb|Z78493.1|PGZ78493\n",
      "Seq('CGTAACAAGGATTCCGTAGGTGAACCTGCGGAAGGATCATTGTTGAGATCGCAT...CCC')\n",
      "719\n",
      "gi|2765617|emb|Z78492.1|PBZ78492\n",
      "Seq('CGTAACAAGGTTTCCGTAGGTGAACCTGCGGAAGGATCATTGTTGAGATCGCAT...ATA')\n",
      "743\n",
      "gi|2765616|emb|Z78491.1|PCZ78491\n",
      "Seq('CGTAACAAGGTTTCCGTAGGTGAACCTGCGGAAGGATCATTGTTGAGATCGCAT...AGC')\n",
      "737\n",
      "gi|2765615|emb|Z78490.1|PFZ78490\n",
      "Seq('CGTAACAAGGTTTCCGTAGGTGAACCTGCGGAAGGATCATTGTTGAGATCACAT...TGA')\n",
      "728\n",
      "gi|2765614|emb|Z78489.1|PDZ78489\n",
      "Seq('CGTAACAAGGTTTCCGTAGGTGAACCTGCGGAAGGATCATTGTTGAGATCACAT...GGC')\n",
      "740\n",
      "gi|2765613|emb|Z78488.1|PTZ78488\n",
      "Seq('CTGTAGGTGAACCTGCGGAAGGATCATTGTTGAGATCACGCAATAATTGATCGA...GCT')\n",
      "696\n",
      "gi|2765612|emb|Z78487.1|PHZ78487\n",
      "Seq('CGTAACAAGGTTTCCGTAGGTGAACCTGCGGAAGGATCATTGTTGAGATCACAT...TAA')\n",
      "732\n",
      "gi|2765611|emb|Z78486.1|PBZ78486\n",
      "Seq('CGTCACGAGGTTTCCGTAGGTGAATCTGCGGGAGGATCATTGTTGAGATCACAT...TGA')\n",
      "731\n",
      "gi|2765610|emb|Z78485.1|PHZ78485\n",
      "Seq('CTGAACCTGGTGTCCGAAGGTGAATCTGCGGATGGATCATTGTTGAGATATCAT...GTA')\n",
      "735\n",
      "gi|2765609|emb|Z78484.1|PCZ78484\n",
      "Seq('CGTAACAAGGTTTCCGTAGGTGAACCTGGGGAAGGATCATTGTTGAGATCACAT...TTT')\n",
      "720\n",
      "gi|2765608|emb|Z78483.1|PVZ78483\n",
      "Seq('CGTAACAAGGTTTCCGTAGGTGAACCTGCGGAAGGATCATTGTTGAGATCACAT...GCA')\n",
      "740\n",
      "gi|2765607|emb|Z78482.1|PEZ78482\n",
      "Seq('TCTACTGCAGTGACCGAGATTTGCCATCGAGCCTCCTGGGAGCTTTCTTGCTGG...GCA')\n",
      "629\n",
      "gi|2765606|emb|Z78481.1|PIZ78481\n",
      "Seq('CGTAACAAGGTTTCCGTAGGTGAACCTGCGGAAGGATCATTGTTGAGATCACAT...TGA')\n",
      "572\n",
      "gi|2765605|emb|Z78480.1|PGZ78480\n",
      "Seq('CGTAACAAGGTTTCCGTAGGTGAACCTGCGGAAGGATCATTGTTGAGATCACAT...TGA')\n",
      "587\n",
      "gi|2765604|emb|Z78479.1|PPZ78479\n",
      "Seq('CGTAACAAGGTTTCCGTAGGTGAACCTGCGGAAGGATCATTGTTGAGATCACAT...AGT')\n",
      "700\n",
      "gi|2765603|emb|Z78478.1|PVZ78478\n",
      "Seq('CGTAACAAGGTTTCCGTAGGTGAACCTCCGGAAGGATCAGTGTTGAGATCACAT...GGC')\n",
      "636\n",
      "gi|2765602|emb|Z78477.1|PVZ78477\n",
      "Seq('CGTAACAAGGTTTCCGTAGGTGAACCTGCGGAAGGATCATTGTTGAGATCACAT...TGC')\n",
      "716\n",
      "gi|2765601|emb|Z78476.1|PGZ78476\n",
      "Seq('CGTAACAAGGTTTCCGTAGGTGAACCTGCGGAAGGATCATTGTTGAGATCACAT...CCC')\n",
      "592\n",
      "gi|2765600|emb|Z78475.1|PSZ78475\n",
      "Seq('CGTAACAAGGTTTCCGTAGGTGAACCTGCGGAAGGATCATTGTTGAGATCACAT...GGT')\n",
      "716\n",
      "gi|2765599|emb|Z78474.1|PKZ78474\n",
      "Seq('CGTAACAAGGTTTCCGTAGGTGAACCTGCGGAAGGATCATTGTTGAGATCACGT...CTT')\n",
      "733\n",
      "gi|2765598|emb|Z78473.1|PSZ78473\n",
      "Seq('CGTAACAAGGTTTCCGTAGGTGAACCTGCGGAAGGATCATTGTTGAGATCACAT...AGG')\n",
      "626\n",
      "gi|2765597|emb|Z78472.1|PLZ78472\n",
      "Seq('CGTAACAAGGTTTCCGTAGGTGAACCTGCGGAAGGATCATTGTTGAGATCACAT...AGC')\n",
      "737\n",
      "gi|2765596|emb|Z78471.1|PDZ78471\n",
      "Seq('CGTAACAAGGTTTCCGTAGGTGAACCTGCGGAAGGATCATTGTTGAGATCACAT...AGC')\n",
      "740\n",
      "gi|2765595|emb|Z78470.1|PPZ78470\n",
      "Seq('CGTAACAAGGTTTCCGTAGGTGAACCTGCGGAAGGATCATTGTTGAGATCACAT...GTT')\n",
      "574\n",
      "gi|2765594|emb|Z78469.1|PHZ78469\n",
      "Seq('CGTAACAAGGTTTCCGTAGGTGAACCTGCGGAAGGATCATTGTTGAGATCACAT...GTT')\n",
      "594\n",
      "gi|2765593|emb|Z78468.1|PAZ78468\n",
      "Seq('CGTAACAAGGTTTCCGTAGGTGAACCTGCGGAAGGATCATTGTTGAGATCGCAT...GTT')\n",
      "610\n",
      "gi|2765592|emb|Z78467.1|PSZ78467\n",
      "Seq('CGTAACAAGGTTTCCGTAGGTGAACCTGCGGAAGGATCATTGTTGAGATCACAT...TGA')\n",
      "730\n",
      "gi|2765591|emb|Z78466.1|PPZ78466\n",
      "Seq('CGTAACAAGGTTTCCGTAGGTGAACCTGCGGAAGGATCATTGTTGAGATCACAT...CCC')\n",
      "641\n",
      "gi|2765590|emb|Z78465.1|PRZ78465\n",
      "Seq('CGTAACAAGGTTTCCGTAGGTGAACCTGCGGAAGGATCATTGTTGAGATCACAT...TGC')\n",
      "702\n",
      "gi|2765589|emb|Z78464.1|PGZ78464\n",
      "Seq('CGTAACAAGGTTTCCGTAGGTGAGCGGAAGGGTCATTGTTGAGATCACATAATA...AGC')\n",
      "733\n",
      "gi|2765588|emb|Z78463.1|PGZ78463\n",
      "Seq('CGTAACAAGGTTTCCGTAGGTGAACCTGCGGAAGGTTCATTGTTGAGATCACAT...AGC')\n",
      "738\n",
      "gi|2765587|emb|Z78462.1|PSZ78462\n",
      "Seq('CGTCACGAGGTCTCCGGATGTGACCCTGCGGAAGGATCATTGTTGAGATCACAT...CAT')\n",
      "736\n",
      "gi|2765586|emb|Z78461.1|PWZ78461\n",
      "Seq('CGTAACAAGGTTTCCGTAGGTGAACCTCCGGAAGGATCATTGTTGAGATCACAT...TAA')\n",
      "732\n",
      "gi|2765585|emb|Z78460.1|PCZ78460\n",
      "Seq('CGTAACAAGGTTTCCGTAGGTGAACCTCCGGAAGGATCATTGTTGAGATCACAT...TTA')\n",
      "745\n",
      "gi|2765584|emb|Z78459.1|PDZ78459\n",
      "Seq('CGTAACAAGGTTTCCGTAGGTGAACCTGCGGAAGGATCATTGTTGAGATCACAT...TTT')\n",
      "744\n",
      "gi|2765583|emb|Z78458.1|PHZ78458\n",
      "Seq('CGTAACAAGGTTTCCGTAGGTGAACCTGCGGAAGGATCATTGTTGAGATCACAT...TTG')\n",
      "738\n",
      "gi|2765582|emb|Z78457.1|PCZ78457\n",
      "Seq('CGTAACAAGGTTTCCGTAGGTGAACCTCCGGAAGGATCATTGTTGAGATCACAT...GAG')\n",
      "739\n",
      "gi|2765581|emb|Z78456.1|PTZ78456\n",
      "Seq('CGTAACAAGGTTTCCGTAGGTGAACCTGCGGAAGGATCATTGTTGAGATCACAT...AGC')\n",
      "740\n",
      "gi|2765580|emb|Z78455.1|PJZ78455\n",
      "Seq('CGTAACCAGGTTTCCGTAGGTGGACCTTCGGGAGGATCATTTTTGAGATCACAT...GCA')\n",
      "745\n",
      "gi|2765579|emb|Z78454.1|PFZ78454\n",
      "Seq('CGTAACAAGGTTTCCGTAGGTGAACCTGCGGAAGGATCATTGTTGAGATCACAT...AAC')\n",
      "695\n",
      "gi|2765578|emb|Z78453.1|PSZ78453\n",
      "Seq('CGTAACAAGGTTTCCGTAGGTGAACCTGCGGAAGGATCATTGTTGAGATCACAT...GCA')\n",
      "745\n",
      "gi|2765577|emb|Z78452.1|PBZ78452\n",
      "Seq('CGTAACAAGGTTTCCGTAGGTGAACCTGCGGAAGGATCATTGTTGAGATCACAT...GCA')\n",
      "743\n",
      "gi|2765576|emb|Z78451.1|PHZ78451\n",
      "Seq('CGTAACAAGGTTTCCGTAGGTGTACCTCCGGAAGGATCATTGTTGAGATCACAT...AGC')\n",
      "730\n",
      "gi|2765575|emb|Z78450.1|PPZ78450\n",
      "Seq('GGAAGGATCATTGCTGATATCACATAATAATTGATCGAGTTAAGCTGGAGGATC...GAG')\n",
      "706\n",
      "gi|2765574|emb|Z78449.1|PMZ78449\n",
      "Seq('CGTAACAAGGTTTCCGTAGGTGAACCTGCGGAAGGATCATTGTTGAGATCACAT...TGC')\n",
      "744\n",
      "gi|2765573|emb|Z78448.1|PAZ78448\n",
      "Seq('CGTAACAAGGTTTCCGTAGGTGAACCTGCGGAAGGATCATTGTTGAGATCACAT...AGG')\n",
      "742\n",
      "gi|2765572|emb|Z78447.1|PVZ78447\n",
      "Seq('CGTAACAAGGATTCCGTAGGTGAACCTGCGGGAGGATCATTGTTGAGATCACAT...AGC')\n",
      "694\n",
      "gi|2765571|emb|Z78446.1|PAZ78446\n",
      "Seq('CGTAACAAGGTTTCCGTAGGTGAACCTCCGGAAGGATCATTGTTGAGATCACAT...CCC')\n",
      "712\n",
      "gi|2765570|emb|Z78445.1|PUZ78445\n",
      "Seq('CGTAACAAGGTTTCCGTAGGTGAACCTGCGGAAGGATCATTGTTGAGATCACAT...TGT')\n",
      "715\n",
      "gi|2765569|emb|Z78444.1|PAZ78444\n",
      "Seq('CGTAACAAGGTTTCCGTAGGGTGAACTGCGGAAGGATCATTGTTGAGATCACAT...ATT')\n",
      "688\n",
      "gi|2765568|emb|Z78443.1|PLZ78443\n",
      "Seq('CGTAACAAGGTTTCCGTAGGTGAACCTGCGGAAGGATCATTGTTGAGATCACAT...AGG')\n",
      "784\n",
      "gi|2765567|emb|Z78442.1|PBZ78442\n",
      "Seq('GTAGGTGAACCTGCGGAAGGATCATTGTTGAGATCACATAATAATTGATCGAGT...AGT')\n",
      "721\n",
      "gi|2765566|emb|Z78441.1|PSZ78441\n",
      "Seq('GGAAGGTCATTGCCGATATCACATAATAATTGATCGAGTTAATCTGGAGGATCT...GAG')\n",
      "703\n",
      "gi|2765565|emb|Z78440.1|PPZ78440\n",
      "Seq('CGTAACAAGGTTTCCGTAGGTGGACCTCCGGGAGGATCATTGTTGAGATCACAT...GCA')\n",
      "744\n",
      "gi|2765564|emb|Z78439.1|PBZ78439\n",
      "Seq('CATTGTTGAGATCACATAATAATTGATCGAGTTAATCTGGAGGATCTGTTTACT...GCC')\n",
      "592\n"
     ]
    }
   ],
   "source": [
    "from Bio import SeqIO\n",
    "\n",
    "for seq_record in SeqIO.parse('ls_orchid.fasta', 'fasta'):\n",
    "    print(seq_record.id)\n",
    "    print(repr(seq_record.seq))\n",
    "    print(len(seq_record))"
   ]
  },
  {
   "cell_type": "code",
   "execution_count": 8,
   "metadata": {},
   "outputs": [
    {
     "name": "stdout",
     "output_type": "stream",
     "text": [
      "Z78533.1\n",
      "Seq('CGTAACAAGGTTTCCGTAGGTGAACCTGCGGAAGGATCATTGATGAGACCGTGG...CGC')\n",
      "740\n",
      "Z78532.1\n",
      "Seq('CGTAACAAGGTTTCCGTAGGTGAACCTGCGGAAGGATCATTGTTGAGACAACAG...GGC')\n",
      "753\n",
      "Z78531.1\n",
      "Seq('CGTAACAAGGTTTCCGTAGGTGAACCTGCGGAAGGATCATTGTTGAGACAGCAG...TAA')\n",
      "748\n",
      "Z78530.1\n",
      "Seq('CGTAACAAGGTTTCCGTAGGTGAACCTGCGGAAGGATCATTGTTGAAACAACAT...CAT')\n",
      "744\n",
      "Z78529.1\n",
      "Seq('ACGGCGAGCTGCCGAAGGACATTGTTGAGACAGCAGAATATACGATTGAGTGAA...AAA')\n",
      "733\n",
      "Z78527.1\n",
      "Seq('CGTAACAAGGTTTCCGTAGGTGAACCTGCGGAAGGATCATTGTTGAGACAGTAG...CCC')\n",
      "718\n",
      "Z78526.1\n",
      "Seq('CGTAACAAGGTTTCCGTAGGTGAACCTGCGGAAGGATCATTGTTGAGACAGTAG...TGT')\n",
      "730\n",
      "Z78525.1\n",
      "Seq('TGTTGAGATAGCAGAATATACATCGAGTGAATCCGGAGGACCTGTGGTTATTCG...GCA')\n",
      "704\n",
      "Z78524.1\n",
      "Seq('CGTAACAAGGTTTCCGTAGGTGAACCTGCGGAAGGATCATTGTTGAGATAGTAG...AGC')\n",
      "740\n",
      "Z78523.1\n",
      "Seq('CGTAACCAGGTTTCCGTAGGTGAACCTGCGGCAGGATCATTGTTGAGACAGCAG...AAG')\n",
      "709\n",
      "Z78522.1\n",
      "Seq('CGTAACAAGGTTTCCGTAGGTGAACCTGCGGAAGGATCATTGTTGAGACAGCAG...GAG')\n",
      "700\n",
      "Z78521.1\n",
      "Seq('GTAGGTGAACCTGCGGAAGGATCATTGTTGAGACAGTAGAATATATGATCGAGT...ACC')\n",
      "726\n",
      "Z78520.1\n",
      "Seq('CGTAACAAGGTTTCCGTAGGTGAACCTGCGGAAGGATCATTGTTGAGACAGCAG...TTT')\n",
      "753\n",
      "Z78519.1\n",
      "Seq('ATATGATCGAGTGAATCTGGTGGACTTGTGGTTACTCAGCTCGCCATAGGCTTT...TTA')\n",
      "699\n",
      "Z78518.1\n",
      "Seq('CGTAACAAGGTTTCCGTAGGTGAACCTGCGGGAGGATCATTGTTGAGATAGTAG...TCC')\n",
      "658\n",
      "Z78517.1\n",
      "Seq('CGTAACAAGGTTTCCGTAGGTGAACCTGCGGAAGGATCATTGTTGAGACAGTAG...AGC')\n",
      "752\n",
      "Z78516.1\n",
      "Seq('CGTAACAAGGTTTCCGTAGGTGAACCTGCGGAAGGATCATTGTTGAGACAGTAT...TAA')\n",
      "726\n",
      "Z78515.1\n",
      "Seq('CGTAACAAGGTTTCCGTAGGTGAACCTGCGGAAGGATCATTGCTGAGACCGTAG...AGC')\n",
      "765\n",
      "Z78514.1\n",
      "Seq('CGTAACAAGGTTTCCGTAGGTGGACCTTCGGGAGGATCATTTTTGAAGCCCCCA...CTA')\n",
      "755\n",
      "Z78513.1\n",
      "Seq('CGTAACAAGGTTTCCGTAGGTGAACCTGCGGAAGGATCATTGTTGAGACCGCCA...GAG')\n",
      "742\n",
      "Z78512.1\n",
      "Seq('CGTAACAAGGTTTCCGTAGGTGGACCTTCGGGAGGATCATTTTTGAAGCCCCCA...AGC')\n",
      "762\n",
      "Z78511.1\n",
      "Seq('CGTAACAAGGTTTCCGTAGGTGAACCTTCGGAAGGATCATTGTTGAGACCCCCA...GGA')\n",
      "745\n",
      "Z78510.1\n",
      "Seq('CTAACCAGGGTTCCGAGGTGACCTTCGGGAGGATTCCTTTTTAAGCCCCCGAAA...TTA')\n",
      "750\n",
      "Z78509.1\n",
      "Seq('CGTAACAAGGTTTCCGTAGGTGAACCTGCGGAAGGATCATTGTTGAGACCGCCA...GGA')\n",
      "731\n",
      "Z78508.1\n",
      "Seq('CGTAACAAGGTTTCCGTAGGTGAACCTGCGGAAGGATCATTGTTGAGACCGCCA...TGA')\n",
      "741\n",
      "Z78507.1\n",
      "Seq('CGTAACAAGGTTTCCGTAGGTGAACCTGCGGAAGGATCATTGTTGAGACCCCCA...TGA')\n",
      "740\n",
      "Z78506.1\n",
      "Seq('CGTAACAAGGTTTCCGTAGGTGAACCTGCGGAAGGATCATTGTTGAGACCGCAA...TGA')\n",
      "727\n",
      "Z78505.1\n",
      "Seq('CGTAACAAGGTTTCCGTAGGTGAACCTGCGGAAGGATCATTGTTGAGACCGCCA...TTT')\n",
      "711\n",
      "Z78504.1\n",
      "Seq('CGTAACAAGGTTTCCGTAGGTGAACCTTCGGAAGGATCATTGTTGAGACCGCAA...TAA')\n",
      "743\n",
      "Z78503.1\n",
      "Seq('CGTAACCAGGTTTCCGTAGGTGAACCTCCGGAAGGATCCTTGTTGAGACCGCCA...TAA')\n",
      "727\n",
      "Z78502.1\n",
      "Seq('CGTAACCAGGTTTCCGTAGGTGAACCTCCGGAAGGATCATTGTTGAGACCGCCA...CGC')\n",
      "757\n",
      "Z78501.1\n",
      "Seq('CGTAACAAGGTTTCCGTAGGTGAACCTGCGGAAGGATCATTGTTGAGACCGCAA...AGA')\n",
      "770\n",
      "Z78500.1\n",
      "Seq('CGTAACAAGGTTTCCGTAGGTGAACCTGCGGAAGGCTCATTGTTGAGACCGCAA...AAG')\n",
      "767\n",
      "Z78499.1\n",
      "Seq('CGTAACAAGGTTTCCGTAGGTGAACCTGCGGAGGGATCATTGTTGAGATCGCAT...ACC')\n",
      "759\n",
      "Z78498.1\n",
      "Seq('CGTAACAAGGTTTCCGTAGGTGAACCTGCGGAAAGGTCATTGTTGAGATCACAT...AGC')\n",
      "750\n",
      "Z78497.1\n",
      "Seq('CGTAACAAGGTTTCCGTAGGTGAACCTGCGGAAGGATCATTGTTGAGATCACAT...AGC')\n",
      "788\n",
      "Z78496.1\n",
      "Seq('CGTAACAAGGTTTCCGTAGGTGAACCTGCGGAAGGATCATTGTTGAGATCGCAT...AGC')\n",
      "774\n",
      "Z78495.1\n",
      "Seq('CGTAACAAGGTTTCCGTAGGTGAACCTCCGGAAGGATCATTGTTGAGATCACAT...GTG')\n",
      "789\n",
      "Z78494.1\n",
      "Seq('CGTAACAAGGTTTCCGTAGGTGAACCTGCGGAAGGATCATTGTTGAGGTCGCAT...AAG')\n",
      "688\n",
      "Z78493.1\n",
      "Seq('CGTAACAAGGATTCCGTAGGTGAACCTGCGGAAGGATCATTGTTGAGATCGCAT...CCC')\n",
      "719\n",
      "Z78492.1\n",
      "Seq('CGTAACAAGGTTTCCGTAGGTGAACCTGCGGAAGGATCATTGTTGAGATCGCAT...ATA')\n",
      "743\n",
      "Z78491.1\n",
      "Seq('CGTAACAAGGTTTCCGTAGGTGAACCTGCGGAAGGATCATTGTTGAGATCGCAT...AGC')\n",
      "737\n",
      "Z78490.1\n",
      "Seq('CGTAACAAGGTTTCCGTAGGTGAACCTGCGGAAGGATCATTGTTGAGATCACAT...TGA')\n",
      "728\n",
      "Z78489.1\n",
      "Seq('CGTAACAAGGTTTCCGTAGGTGAACCTGCGGAAGGATCATTGTTGAGATCACAT...GGC')\n",
      "740\n",
      "Z78488.1\n",
      "Seq('CTGTAGGTGAACCTGCGGAAGGATCATTGTTGAGATCACGCAATAATTGATCGA...GCT')\n",
      "696\n",
      "Z78487.1\n",
      "Seq('CGTAACAAGGTTTCCGTAGGTGAACCTGCGGAAGGATCATTGTTGAGATCACAT...TAA')\n",
      "732\n",
      "Z78486.1\n",
      "Seq('CGTCACGAGGTTTCCGTAGGTGAATCTGCGGGAGGATCATTGTTGAGATCACAT...TGA')\n",
      "731\n",
      "Z78485.1\n",
      "Seq('CTGAACCTGGTGTCCGAAGGTGAATCTGCGGATGGATCATTGTTGAGATATCAT...GTA')\n",
      "735\n",
      "Z78484.1\n",
      "Seq('CGTAACAAGGTTTCCGTAGGTGAACCTGGGGAAGGATCATTGTTGAGATCACAT...TTT')\n",
      "720\n",
      "Z78483.1\n",
      "Seq('CGTAACAAGGTTTCCGTAGGTGAACCTGCGGAAGGATCATTGTTGAGATCACAT...GCA')\n",
      "740\n",
      "Z78482.1\n",
      "Seq('TCTACTGCAGTGACCGAGATTTGCCATCGAGCCTCCTGGGAGCTTTCTTGCTGG...GCA')\n",
      "629\n",
      "Z78481.1\n",
      "Seq('CGTAACAAGGTTTCCGTAGGTGAACCTGCGGAAGGATCATTGTTGAGATCACAT...TGA')\n",
      "572\n",
      "Z78480.1\n",
      "Seq('CGTAACAAGGTTTCCGTAGGTGAACCTGCGGAAGGATCATTGTTGAGATCACAT...TGA')\n",
      "587\n",
      "Z78479.1\n",
      "Seq('CGTAACAAGGTTTCCGTAGGTGAACCTGCGGAAGGATCATTGTTGAGATCACAT...AGT')\n",
      "700\n",
      "Z78478.1\n",
      "Seq('CGTAACAAGGTTTCCGTAGGTGAACCTCCGGAAGGATCAGTGTTGAGATCACAT...GGC')\n",
      "636\n",
      "Z78477.1\n",
      "Seq('CGTAACAAGGTTTCCGTAGGTGAACCTGCGGAAGGATCATTGTTGAGATCACAT...TGC')\n",
      "716\n",
      "Z78476.1\n",
      "Seq('CGTAACAAGGTTTCCGTAGGTGAACCTGCGGAAGGATCATTGTTGAGATCACAT...CCC')\n",
      "592\n",
      "Z78475.1\n",
      "Seq('CGTAACAAGGTTTCCGTAGGTGAACCTGCGGAAGGATCATTGTTGAGATCACAT...GGT')\n",
      "716\n",
      "Z78474.1\n",
      "Seq('CGTAACAAGGTTTCCGTAGGTGAACCTGCGGAAGGATCATTGTTGAGATCACGT...CTT')\n",
      "733\n",
      "Z78473.1\n",
      "Seq('CGTAACAAGGTTTCCGTAGGTGAACCTGCGGAAGGATCATTGTTGAGATCACAT...AGG')\n",
      "626\n",
      "Z78472.1\n",
      "Seq('CGTAACAAGGTTTCCGTAGGTGAACCTGCGGAAGGATCATTGTTGAGATCACAT...AGC')\n",
      "737\n",
      "Z78471.1\n",
      "Seq('CGTAACAAGGTTTCCGTAGGTGAACCTGCGGAAGGATCATTGTTGAGATCACAT...AGC')\n",
      "740\n",
      "Z78470.1\n",
      "Seq('CGTAACAAGGTTTCCGTAGGTGAACCTGCGGAAGGATCATTGTTGAGATCACAT...GTT')\n",
      "574\n",
      "Z78469.1\n",
      "Seq('CGTAACAAGGTTTCCGTAGGTGAACCTGCGGAAGGATCATTGTTGAGATCACAT...GTT')\n",
      "594\n",
      "Z78468.1\n",
      "Seq('CGTAACAAGGTTTCCGTAGGTGAACCTGCGGAAGGATCATTGTTGAGATCGCAT...GTT')\n",
      "610\n",
      "Z78467.1\n",
      "Seq('CGTAACAAGGTTTCCGTAGGTGAACCTGCGGAAGGATCATTGTTGAGATCACAT...TGA')\n",
      "730\n",
      "Z78466.1\n",
      "Seq('CGTAACAAGGTTTCCGTAGGTGAACCTGCGGAAGGATCATTGTTGAGATCACAT...CCC')\n",
      "641\n",
      "Z78465.1\n",
      "Seq('CGTAACAAGGTTTCCGTAGGTGAACCTGCGGAAGGATCATTGTTGAGATCACAT...TGC')\n",
      "702\n",
      "Z78464.1\n",
      "Seq('CGTAACAAGGTTTCCGTAGGTGAGCGGAAGGGTCATTGTTGAGATCACATAATA...AGC')\n",
      "733\n",
      "Z78463.1\n",
      "Seq('CGTAACAAGGTTTCCGTAGGTGAACCTGCGGAAGGTTCATTGTTGAGATCACAT...AGC')\n",
      "738\n",
      "Z78462.1\n",
      "Seq('CGTCACGAGGTCTCCGGATGTGACCCTGCGGAAGGATCATTGTTGAGATCACAT...CAT')\n",
      "736\n",
      "Z78461.1\n",
      "Seq('CGTAACAAGGTTTCCGTAGGTGAACCTCCGGAAGGATCATTGTTGAGATCACAT...TAA')\n",
      "732\n",
      "Z78460.1\n",
      "Seq('CGTAACAAGGTTTCCGTAGGTGAACCTCCGGAAGGATCATTGTTGAGATCACAT...TTA')\n",
      "745\n",
      "Z78459.1\n",
      "Seq('CGTAACAAGGTTTCCGTAGGTGAACCTGCGGAAGGATCATTGTTGAGATCACAT...TTT')\n",
      "744\n",
      "Z78458.1\n",
      "Seq('CGTAACAAGGTTTCCGTAGGTGAACCTGCGGAAGGATCATTGTTGAGATCACAT...TTG')\n",
      "738\n",
      "Z78457.1\n",
      "Seq('CGTAACAAGGTTTCCGTAGGTGAACCTCCGGAAGGATCATTGTTGAGATCACAT...GAG')\n",
      "739\n",
      "Z78456.1\n",
      "Seq('CGTAACAAGGTTTCCGTAGGTGAACCTGCGGAAGGATCATTGTTGAGATCACAT...AGC')\n",
      "740\n",
      "Z78455.1\n",
      "Seq('CGTAACCAGGTTTCCGTAGGTGGACCTTCGGGAGGATCATTTTTGAGATCACAT...GCA')\n",
      "745\n",
      "Z78454.1\n",
      "Seq('CGTAACAAGGTTTCCGTAGGTGAACCTGCGGAAGGATCATTGTTGAGATCACAT...AAC')\n",
      "695\n",
      "Z78453.1\n",
      "Seq('CGTAACAAGGTTTCCGTAGGTGAACCTGCGGAAGGATCATTGTTGAGATCACAT...GCA')\n",
      "745\n",
      "Z78452.1\n",
      "Seq('CGTAACAAGGTTTCCGTAGGTGAACCTGCGGAAGGATCATTGTTGAGATCACAT...GCA')\n",
      "743\n",
      "Z78451.1\n",
      "Seq('CGTAACAAGGTTTCCGTAGGTGTACCTCCGGAAGGATCATTGTTGAGATCACAT...AGC')\n",
      "730\n",
      "Z78450.1\n",
      "Seq('GGAAGGATCATTGCTGATATCACATAATAATTGATCGAGTTAAGCTGGAGGATC...GAG')\n",
      "706\n",
      "Z78449.1\n",
      "Seq('CGTAACAAGGTTTCCGTAGGTGAACCTGCGGAAGGATCATTGTTGAGATCACAT...TGC')\n",
      "744\n",
      "Z78448.1\n",
      "Seq('CGTAACAAGGTTTCCGTAGGTGAACCTGCGGAAGGATCATTGTTGAGATCACAT...AGG')\n",
      "742\n",
      "Z78447.1\n",
      "Seq('CGTAACAAGGATTCCGTAGGTGAACCTGCGGGAGGATCATTGTTGAGATCACAT...AGC')\n",
      "694\n",
      "Z78446.1\n",
      "Seq('CGTAACAAGGTTTCCGTAGGTGAACCTCCGGAAGGATCATTGTTGAGATCACAT...CCC')\n",
      "712\n",
      "Z78445.1\n",
      "Seq('CGTAACAAGGTTTCCGTAGGTGAACCTGCGGAAGGATCATTGTTGAGATCACAT...TGT')\n",
      "715\n",
      "Z78444.1\n",
      "Seq('CGTAACAAGGTTTCCGTAGGGTGAACTGCGGAAGGATCATTGTTGAGATCACAT...ATT')\n",
      "688\n",
      "Z78443.1\n",
      "Seq('CGTAACAAGGTTTCCGTAGGTGAACCTGCGGAAGGATCATTGTTGAGATCACAT...AGG')\n",
      "784\n",
      "Z78442.1\n",
      "Seq('GTAGGTGAACCTGCGGAAGGATCATTGTTGAGATCACATAATAATTGATCGAGT...AGT')\n",
      "721\n",
      "Z78441.1\n",
      "Seq('GGAAGGTCATTGCCGATATCACATAATAATTGATCGAGTTAATCTGGAGGATCT...GAG')\n",
      "703\n",
      "Z78440.1\n",
      "Seq('CGTAACAAGGTTTCCGTAGGTGGACCTCCGGGAGGATCATTGTTGAGATCACAT...GCA')\n",
      "744\n",
      "Z78439.1\n",
      "Seq('CATTGTTGAGATCACATAATAATTGATCGAGTTAATCTGGAGGATCTGTTTACT...GCC')\n",
      "592\n"
     ]
    }
   ],
   "source": [
    "from Bio import SeqIO\n",
    "\n",
    "for seq_record in SeqIO.parse('ls_orchid.gbk', 'genbank'):\n",
    "    print(seq_record.id)\n",
    "    print(repr(seq_record.seq))\n",
    "    print(len(seq_record))"
   ]
  },
  {
   "cell_type": "markdown",
   "metadata": {},
   "source": [
    "### Sequence objects"
   ]
  },
  {
   "cell_type": "code",
   "execution_count": 10,
   "metadata": {},
   "outputs": [
    {
     "name": "stdout",
     "output_type": "stream",
     "text": [
      "0 G\n",
      "1 A\n",
      "2 T\n",
      "3 C\n",
      "4 G\n"
     ]
    }
   ],
   "source": [
    "from Bio.Seq import Seq\n",
    "\n",
    "my_seq = Seq('GATCG')\n",
    "for index, letter in enumerate(my_seq):\n",
    "    print('%i %s' % (index, letter))"
   ]
  },
  {
   "cell_type": "code",
   "execution_count": 11,
   "metadata": {},
   "outputs": [
    {
     "name": "stdout",
     "output_type": "stream",
     "text": [
      "G\n",
      "T\n",
      "G\n"
     ]
    }
   ],
   "source": [
    "print(my_seq[0])\n",
    "print(my_seq[2])\n",
    "print(my_seq[-1])"
   ]
  },
  {
   "cell_type": "code",
   "execution_count": 13,
   "metadata": {},
   "outputs": [
    {
     "name": "stdout",
     "output_type": "stream",
     "text": [
      "4\n"
     ]
    },
    {
     "data": {
      "text/plain": [
       "2"
      ]
     },
     "execution_count": 13,
     "metadata": {},
     "output_type": "execute_result"
    }
   ],
   "source": [
    "print('AAAA'.count('A'))\n",
    "Seq('AAAA').count('AA')"
   ]
  },
  {
   "cell_type": "code",
   "execution_count": 37,
   "metadata": {},
   "outputs": [
    {
     "name": "stdout",
     "output_type": "stream",
     "text": [
      "sequence length: 32\n",
      "G count: 9\n",
      "46.875\n"
     ]
    }
   ],
   "source": [
    "from Bio.Seq import Seq\n",
    "\n",
    "my_seq = Seq('GATCGATGGGCCTATATAGGATCGAAAATCGC')\n",
    "print(f'sequence length: {len(my_seq)}')\n",
    "print(f'G count: {my_seq.count(\"G\")}')  # otherwise Python returns syntax error\n",
    "print(100 * float(my_seq.count('G') + my_seq.count('C')) / len(my_seq))"
   ]
  },
  {
   "cell_type": "code",
   "execution_count": 27,
   "metadata": {},
   "outputs": [
    {
     "data": {
      "text/plain": [
       "46.875"
      ]
     },
     "execution_count": 27,
     "metadata": {},
     "output_type": "execute_result"
    }
   ],
   "source": [
    "# a better way of getting percentage of GC\n",
    "from Bio.Seq import Seq\n",
    "from Bio.SeqUtils import GC\n",
    "\n",
    "my_seq = Seq('GATCGATGGGCCTATATAGGATCGAAAATCGC')\n",
    "GC(my_seq)"
   ]
  },
  {
   "cell_type": "code",
   "execution_count": 29,
   "metadata": {},
   "outputs": [
    {
     "name": "stdout",
     "output_type": "stream",
     "text": [
      "my seq 4-11: GATGGGCC\n"
     ]
    },
    {
     "data": {
      "text/plain": [
       "Seq('GATGGGCC')"
      ]
     },
     "execution_count": 29,
     "metadata": {},
     "output_type": "execute_result"
    }
   ],
   "source": [
    "from Bio.Seq import Seq\n",
    "\n",
    "my_seq = Seq('GATCGATGGGCCTATATAGGATCGAAAATCGC')\n",
    "print(f'my seq 4-11: {my_seq[4:12]}')\n",
    "my_seq[4:12]"
   ]
  },
  {
   "cell_type": "code",
   "execution_count": 34,
   "metadata": {},
   "outputs": [
    {
     "name": "stdout",
     "output_type": "stream",
     "text": [
      "my seq starting from index of 0,stepping by 3:  GCTGTAGTAAG\n",
      "my seq starting from index of 1, stepping by 3: AGGCATGCATC\n",
      "my seq starting from index of 2, stepping by 3: TAGCTAAGAC\n",
      "my seq backwards: CGCTAAAAGCTAGGATATATCCGGGTAGCTAG\n"
     ]
    }
   ],
   "source": [
    "my_seq = Seq('GATCGATGGGCCTATATAGGATCGAAAATCGC')\n",
    "print(f'my seq starting from index of 0,stepping by 3:  {my_seq[::3]}')\n",
    "print(f'my seq starting from index of 1, stepping by 3: {my_seq[1::3]}')\n",
    "print(f'my seq starting from index of 2, stepping by 3: {my_seq[2::3]}')\n",
    "print(f'my seq backwards: {my_seq[::-1]}')"
   ]
  },
  {
   "cell_type": "code",
   "execution_count": 38,
   "metadata": {},
   "outputs": [
    {
     "data": {
      "text/plain": [
       "'GATCGATGGGCCTATATAGGATCGAAAATCGC'"
      ]
     },
     "execution_count": 38,
     "metadata": {},
     "output_type": "execute_result"
    }
   ],
   "source": [
    "str(my_seq)"
   ]
  },
  {
   "cell_type": "code",
   "execution_count": 39,
   "metadata": {},
   "outputs": [
    {
     "name": "stdout",
     "output_type": "stream",
     "text": [
      "GATCGATGGGCCTATATAGGATCGAAAATCGC\n"
     ]
    }
   ],
   "source": [
    "print(my_seq)"
   ]
  },
  {
   "cell_type": "code",
   "execution_count": 40,
   "metadata": {},
   "outputs": [
    {
     "name": "stdout",
     "output_type": "stream",
     "text": [
      ">Name\n",
      "GATCGATGGGCCTATATAGGATCGAAAATCGC\n",
      "\n"
     ]
    }
   ],
   "source": [
    "fasta_format_string = '>Name\\n%s\\n' % my_seq\n",
    "print(fasta_format_string)"
   ]
  },
  {
   "cell_type": "code",
   "execution_count": 41,
   "metadata": {},
   "outputs": [
    {
     "data": {
      "text/plain": [
       "Seq('EVRNAKACGT')"
      ]
     },
     "execution_count": 41,
     "metadata": {},
     "output_type": "execute_result"
    }
   ],
   "source": [
    "from Bio.Seq import Seq\n",
    "\n",
    "protein_seq = Seq('EVRNAK')\n",
    "dna_seq = Seq('ACGT')\n",
    "protein_seq + dna_seq"
   ]
  },
  {
   "cell_type": "code",
   "execution_count": 42,
   "metadata": {},
   "outputs": [
    {
     "data": {
      "text/plain": [
       "Seq('ACGTAACCGGTT')"
      ]
     },
     "execution_count": 42,
     "metadata": {},
     "output_type": "execute_result"
    }
   ],
   "source": [
    "list_of_seqs = [Seq('ACGT'), Seq('AACC'), Seq('GGTT')]\n",
    "concatenated = ''\n",
    "for s in list_of_seqs:\n",
    "    concatenated += s\n",
    "concatenated"
   ]
  },
  {
   "cell_type": "code",
   "execution_count": 43,
   "metadata": {},
   "outputs": [
    {
     "data": {
      "text/plain": [
       "Seq('ATGNNNNNNNNNNATCCCGNNNNNNNNNNTTGCA')"
      ]
     },
     "execution_count": 43,
     "metadata": {},
     "output_type": "execute_result"
    }
   ],
   "source": [
    "contigs = [Seq('ATG'), Seq('ATCCCG'), Seq('TTGCA')]\n",
    "spacer = Seq('N' * 10)\n",
    "spacer.join(contigs)"
   ]
  },
  {
   "cell_type": "code",
   "execution_count": 44,
   "metadata": {},
   "outputs": [
    {
     "name": "stdout",
     "output_type": "stream",
     "text": [
      "dna_seq orig case: acgtACGT\n",
      "dan_seq uppercase: ACGTACGT\n",
      "dna_seq lowercase: acgtacgt\n"
     ]
    }
   ],
   "source": [
    "# uppercase and lowercase\n",
    "dna_seq = Seq('acgtACGT')\n",
    "print(f'dna_seq orig case: {dna_seq}')\n",
    "print(f'dan_seq uppercase: {dna_seq.upper()}')\n",
    "print(f'dna_seq lowercase: {dna_seq.lower()}')"
   ]
  },
  {
   "cell_type": "code",
   "execution_count": 46,
   "metadata": {},
   "outputs": [
    {
     "name": "stdout",
     "output_type": "stream",
     "text": [
      "False\n"
     ]
    },
    {
     "data": {
      "text/plain": [
       "True"
      ]
     },
     "execution_count": 46,
     "metadata": {},
     "output_type": "execute_result"
    }
   ],
   "source": [
    "# case insensitive matching\n",
    "print('GTAC' in dna_seq)\n",
    "'GTAC' in dna_seq.upper()"
   ]
  },
  {
   "cell_type": "code",
   "execution_count": 48,
   "metadata": {},
   "outputs": [
    {
     "name": "stdout",
     "output_type": "stream",
     "text": [
      "original sequence:      GATCGATGGGCCTATATAGGATCGAAAATCGC\n",
      "complement sequence:    CTAGCTACCCGGATATATCCTAGCTTTTAGCG\n",
      "reverse complement seq: GCGATTTTCGATCCTATATAGGCCCATCGATC\n",
      "reversed sequence:      CGCTAAAAGCTAGGATATATCCGGGTAGCTAG\n"
     ]
    }
   ],
   "source": [
    "#complement and reverse complement\n",
    "dna_seq = Seq('GATCGATGGGCCTATATAGGATCGAAAATCGC')\n",
    "print(f'original sequence:      {dna_seq}')\n",
    "print(f'complement sequence:    {dna_seq.complement()}')\n",
    "print(f'reverse complement seq: {dna_seq.reverse_complement()}')\n",
    "print(f'reversed sequence:      {dna_seq[::-1]}')"
   ]
  },
  {
   "cell_type": "code",
   "execution_count": 49,
   "metadata": {},
   "outputs": [
    {
     "data": {
      "text/plain": [
       "Seq('EBYNTM')"
      ]
     },
     "execution_count": 49,
     "metadata": {},
     "output_type": "execute_result"
    }
   ],
   "source": [
    "protein_seq = Seq('EVRNAK')\n",
    "protein_seq.complement()"
   ]
  },
  {
   "cell_type": "code",
   "execution_count": 54,
   "metadata": {},
   "outputs": [
    {
     "name": "stdout",
     "output_type": "stream",
     "text": [
      "coding DNA:    ATGGCCATTGTAATGGGCCGCTGAAAGGGTGCCCGATAG\n",
      "template DNA:  CTATCGGGCACCCTTTCAGCGGCCCATTACAATGGCCAT\n",
      "\n",
      "coding DNA:    ATGGCCATTGTAATGGGCCGCTGAAAGGGTGCCCGATAG\n",
      "messenger RNA: AUGGCCAUUGUAAUGGGCCGCUGAAAGGGUGCCCGAUAG\n"
     ]
    }
   ],
   "source": [
    "# transcription\n",
    "from Bio.Seq import Seq\n",
    "\n",
    "coding_dna = Seq('ATGGCCATTGTAATGGGCCGCTGAAAGGGTGCCCGATAG')\n",
    "print(f'coding DNA:    {coding_dna}')\n",
    "template_dna = coding_dna.reverse_complement()  # why not use complement?\n",
    "print(f'template DNA:  {template_dna}')\n",
    "\n",
    "print()\n",
    "print(f'coding DNA:    {coding_dna}')\n",
    "messenger_rna = coding_dna.transcribe()\n",
    "print(f'messenger RNA: {messenger_rna}')"
   ]
  },
  {
   "cell_type": "code",
   "execution_count": 57,
   "metadata": {},
   "outputs": [
    {
     "name": "stdout",
     "output_type": "stream",
     "text": [
      "coding DNA:     ATGGCCATTGTAATGGGCCGCTGAAAGGGTGCCCGATAG\n",
      "template DNA:   CTATCGGGCACCCTTTCAGCGGCCCATTACAATGGCCAT\n",
      "mRNA other way: CUAUCGGGCACCCUUUCAGCGGCCCAUUACAAUGGCCAU\n"
     ]
    }
   ],
   "source": [
    "# true biological transcription process\n",
    "\n",
    "coding_dna = Seq('ATGGCCATTGTAATGGGCCGCTGAAAGGGTGCCCGATAG')\n",
    "print(f'coding DNA:     {coding_dna}')\n",
    "template_dna = coding_dna.reverse_complement()  # why not use complement?\n",
    "print(f'template DNA:   {template_dna}')\n",
    "# m_rna = template_dna.reverse_complement().trasncribe()\n",
    "# print(f'mRNA:           {m_rna}')\n",
    "print(f'mRNA other way: {template_dna.transcribe()}')  # doesn't give true mRNA for this DNA sequence"
   ]
  },
  {
   "cell_type": "code",
   "execution_count": 59,
   "metadata": {},
   "outputs": [
    {
     "name": "stdout",
     "output_type": "stream",
     "text": [
      "messenger_rna: AUGGCCAUUGUAAUGGGCCGCUGAAAGGGUGCCCGAUAG\n"
     ]
    },
    {
     "data": {
      "text/plain": [
       "Seq('ATGGCCATTGTAATGGGCCGCTGAAAGGGTGCCCGATAG')"
      ]
     },
     "execution_count": 59,
     "metadata": {},
     "output_type": "execute_result"
    }
   ],
   "source": [
    "# back to DNA from mRNA\n",
    "\n",
    "messenger_rna = Seq('AUGGCCAUUGUAAUGGGCCGCUGAAAGGGUGCCCGAUAG')\n",
    "print(f'messenger_rna: {messenger_rna}')\n",
    "messenger_rna.back_transcribe()"
   ]
  },
  {
   "cell_type": "code",
   "execution_count": 61,
   "metadata": {},
   "outputs": [
    {
     "name": "stdout",
     "output_type": "stream",
     "text": [
      "messenger_rna: AUGGCCAUUGUAAUGGGCCGCUGAAAGGGUGCCCGAUAG\n"
     ]
    },
    {
     "data": {
      "text/plain": [
       "Seq('MAIVMGR*KGAR*')"
      ]
     },
     "execution_count": 61,
     "metadata": {},
     "output_type": "execute_result"
    }
   ],
   "source": [
    "# translation - * represents stop codons\n",
    "\n",
    "from Bio.Seq import Seq\n",
    "messenger_rna = Seq('AUGGCCAUUGUAAUGGGCCGCUGAAAGGGUGCCCGAUAG')\n",
    "print(f'messenger_rna: {messenger_rna}')\n",
    "messenger_rna.translate()"
   ]
  },
  {
   "cell_type": "code",
   "execution_count": 62,
   "metadata": {},
   "outputs": [
    {
     "data": {
      "text/plain": [
       "Seq('MAIVMGRWKGAR*')"
      ]
     },
     "execution_count": 62,
     "metadata": {},
     "output_type": "execute_result"
    }
   ],
   "source": [
    "coding_dna.translate(table='Vertebrate Mitochondrial')"
   ]
  },
  {
   "cell_type": "code",
   "execution_count": 63,
   "metadata": {},
   "outputs": [
    {
     "data": {
      "text/plain": [
       "Seq('MAIVMGRWKGAR*')"
      ]
     },
     "execution_count": 63,
     "metadata": {},
     "output_type": "execute_result"
    }
   ],
   "source": [
    "coding_dna.translate(table=2)"
   ]
  },
  {
   "cell_type": "code",
   "execution_count": 65,
   "metadata": {},
   "outputs": [
    {
     "name": "stdout",
     "output_type": "stream",
     "text": [
      "translated sequence:   MAIVMGR*KGAR*\n",
      "translation in nature: MAIVMGR\n",
      "amino acid sequence:   MAIVMGRWKGAR*\n"
     ]
    },
    {
     "data": {
      "text/plain": [
       "Seq('MAIVMGRWKGAR')"
      ]
     },
     "execution_count": 65,
     "metadata": {},
     "output_type": "execute_result"
    }
   ],
   "source": [
    "translated_sequence = coding_dna.translate()\n",
    "print(f'translated sequence:   {translated_sequence}')\n",
    "translation_nature = coding_dna.translate(to_stop=True)\n",
    "print(f'translation in nature: {translation_nature}')\n",
    "aa_sequence = coding_dna.translate(table=2)\n",
    "print(f'amino acid sequence:   {aa_sequence}')\n",
    "coding_dna.translate(table=2, to_stop=True)"
   ]
  },
  {
   "cell_type": "code",
   "execution_count": 66,
   "metadata": {},
   "outputs": [
    {
     "data": {
      "text/plain": [
       "Seq('MAIVMGRWKGAR@')"
      ]
     },
     "execution_count": 66,
     "metadata": {},
     "output_type": "execute_result"
    }
   ],
   "source": [
    "# another way of specifying stop symbol\n",
    "coding_dna.translate(table=2, stop_symbol='@')"
   ]
  },
  {
   "cell_type": "markdown",
   "metadata": {},
   "source": [
    "#### Now, suppose you have a complete coding sequence CDS, which is to say a nucleotide sequence (e.g. mRNA – after any splicing) which is a whole number of codons (i.e. the length is a multiple of three), commences with a start codon, ends with a stop codon, and has no internal in-frame stop codons. In general, given a complete CDS, the default translate method will do what you want (perhaps with the to_stop option). However, what if your sequence uses a non-standard start codon? This happens a lot in bacteria – for example the gene yaaX in E. coli K12:"
   ]
  },
  {
   "cell_type": "code",
   "execution_count": 69,
   "metadata": {},
   "outputs": [
    {
     "data": {
      "text/plain": [
       "Seq('VKKMQSIVLALSLVLVAPMAAQAAEITLVPSVKLQIGDRDNRGYYWDGGHWRDH...HR*')"
      ]
     },
     "execution_count": 69,
     "metadata": {},
     "output_type": "execute_result"
    }
   ],
   "source": [
    "from Bio.Seq import Seq\n",
    "\n",
    "gene = Seq('GTGAAAAAGATGCAATCTATCGTACTCGCACTTTCCCTGGTTCTGGTCGCTCCCATGGCA'\n",
    "           'GCACAGGCTGCGGAAATTACGTTAGTCCCGTCAGTAAAATTACAGATAGGCGATCGTGAT'\n",
    "           'AATCGTGGCTATTACTGGGATGGAGGTCACTGGCGCGACCACGGCTGGTGGAAACAACAT'\n",
    "           'TATGAATGGCGAGGCAATCGCTGGCACCTACACGGACCGCCGCCACCGCCGCGCCACCAT'\n",
    "           'AAGAAAGCTCCTCATGATCATCACGGCGGTCATGGTCCAGGCAAACATCACCGCTAA')\n",
    "gene.translate(table='Bacterial')"
   ]
  },
  {
   "cell_type": "code",
   "execution_count": 70,
   "metadata": {},
   "outputs": [
    {
     "data": {
      "text/plain": [
       "Seq('VKKMQSIVLALSLVLVAPMAAQAAEITLVPSVKLQIGDRDNRGYYWDGGHWRDH...HHR')"
      ]
     },
     "execution_count": 70,
     "metadata": {},
     "output_type": "execute_result"
    }
   ],
   "source": [
    "gene.translate(table='Bacterial', to_stop=True)"
   ]
  },
  {
   "cell_type": "code",
   "execution_count": 71,
   "metadata": {},
   "outputs": [
    {
     "data": {
      "text/plain": [
       "Seq('MKKMQSIVLALSLVLVAPMAAQAAEITLVPSVKLQIGDRDNRGYYWDGGHWRDH...HHR')"
      ]
     },
     "execution_count": 71,
     "metadata": {},
     "output_type": "execute_result"
    }
   ],
   "source": [
    "# if used as a start codon GTG should be translated as methionine (M)\n",
    "\n",
    "gene.translate(table='Bacterial', cds=True)"
   ]
  },
  {
   "cell_type": "code",
   "execution_count": 72,
   "metadata": {},
   "outputs": [
    {
     "name": "stdout",
     "output_type": "stream",
     "text": [
      "Table 1 Standard, SGC0\n",
      "\n",
      "  |  T      |  C      |  A      |  G      |\n",
      "--+---------+---------+---------+---------+--\n",
      "T | TTT F   | TCT S   | TAT Y   | TGT C   | T\n",
      "T | TTC F   | TCC S   | TAC Y   | TGC C   | C\n",
      "T | TTA L   | TCA S   | TAA Stop| TGA Stop| A\n",
      "T | TTG L(s)| TCG S   | TAG Stop| TGG W   | G\n",
      "--+---------+---------+---------+---------+--\n",
      "C | CTT L   | CCT P   | CAT H   | CGT R   | T\n",
      "C | CTC L   | CCC P   | CAC H   | CGC R   | C\n",
      "C | CTA L   | CCA P   | CAA Q   | CGA R   | A\n",
      "C | CTG L(s)| CCG P   | CAG Q   | CGG R   | G\n",
      "--+---------+---------+---------+---------+--\n",
      "A | ATT I   | ACT T   | AAT N   | AGT S   | T\n",
      "A | ATC I   | ACC T   | AAC N   | AGC S   | C\n",
      "A | ATA I   | ACA T   | AAA K   | AGA R   | A\n",
      "A | ATG M(s)| ACG T   | AAG K   | AGG R   | G\n",
      "--+---------+---------+---------+---------+--\n",
      "G | GTT V   | GCT A   | GAT D   | GGT G   | T\n",
      "G | GTC V   | GCC A   | GAC D   | GGC G   | C\n",
      "G | GTA V   | GCA A   | GAA E   | GGA G   | A\n",
      "G | GTG V   | GCG A   | GAG E   | GGG G   | G\n",
      "--+---------+---------+---------+---------+--\n"
     ]
    }
   ],
   "source": [
    "from Bio.Data import CodonTable\n",
    "\n",
    "standard_table = CodonTable.unambiguous_dna_by_name['Standard']\n",
    "mito_table = CodonTable.unambiguous_dna_by_name['Vertebrate Mitochondrial']\n",
    "\n",
    "# same thing as:\n",
    "standard_table = CodonTable.unambiguous_dna_by_id[1]\n",
    "mito_table = CodonTable.unambiguous_dna_by_id[2]\n",
    "print(standard_table)"
   ]
  },
  {
   "cell_type": "code",
   "execution_count": 73,
   "metadata": {},
   "outputs": [
    {
     "name": "stdout",
     "output_type": "stream",
     "text": [
      "Table 2 Vertebrate Mitochondrial, SGC1\n",
      "\n",
      "  |  T      |  C      |  A      |  G      |\n",
      "--+---------+---------+---------+---------+--\n",
      "T | TTT F   | TCT S   | TAT Y   | TGT C   | T\n",
      "T | TTC F   | TCC S   | TAC Y   | TGC C   | C\n",
      "T | TTA L   | TCA S   | TAA Stop| TGA W   | A\n",
      "T | TTG L   | TCG S   | TAG Stop| TGG W   | G\n",
      "--+---------+---------+---------+---------+--\n",
      "C | CTT L   | CCT P   | CAT H   | CGT R   | T\n",
      "C | CTC L   | CCC P   | CAC H   | CGC R   | C\n",
      "C | CTA L   | CCA P   | CAA Q   | CGA R   | A\n",
      "C | CTG L   | CCG P   | CAG Q   | CGG R   | G\n",
      "--+---------+---------+---------+---------+--\n",
      "A | ATT I(s)| ACT T   | AAT N   | AGT S   | T\n",
      "A | ATC I(s)| ACC T   | AAC N   | AGC S   | C\n",
      "A | ATA M(s)| ACA T   | AAA K   | AGA Stop| A\n",
      "A | ATG M(s)| ACG T   | AAG K   | AGG Stop| G\n",
      "--+---------+---------+---------+---------+--\n",
      "G | GTT V   | GCT A   | GAT D   | GGT G   | T\n",
      "G | GTC V   | GCC A   | GAC D   | GGC G   | C\n",
      "G | GTA V   | GCA A   | GAA E   | GGA G   | A\n",
      "G | GTG V(s)| GCG A   | GAG E   | GGG G   | G\n",
      "--+---------+---------+---------+---------+--\n"
     ]
    }
   ],
   "source": [
    "print(mito_table)"
   ]
  },
  {
   "cell_type": "code",
   "execution_count": 77,
   "metadata": {},
   "outputs": [
    {
     "name": "stdout",
     "output_type": "stream",
     "text": [
      "mitochondrial table stop codons: ['TAA', 'TAG', 'AGA', 'AGG']\n",
      "mitochondrial table start codons: ['ATT', 'ATC', 'ATA', 'ATG', 'GTG']\n"
     ]
    },
    {
     "data": {
      "text/plain": [
       "'T'"
      ]
     },
     "execution_count": 77,
     "metadata": {},
     "output_type": "execute_result"
    }
   ],
   "source": [
    "# useful properties - if you're doing your own gene finding\n",
    "print(f'mitochondrial table stop codons: {mito_table.stop_codons}')\n",
    "print(f'mitochondrial table start codons: {mito_table.start_codons}')\n",
    "mito_table.forward_table['ACG']"
   ]
  },
  {
   "cell_type": "code",
   "execution_count": 79,
   "metadata": {},
   "outputs": [
    {
     "name": "stdout",
     "output_type": "stream",
     "text": [
      "standard table stop codons: ['TAA', 'TAG', 'TGA']\n",
      "standard table start codons: ['TTG', 'CTG', 'ATG']\n"
     ]
    },
    {
     "data": {
      "text/plain": [
       "'T'"
      ]
     },
     "execution_count": 79,
     "metadata": {},
     "output_type": "execute_result"
    }
   ],
   "source": [
    "# does this work for Standard table as well?\n",
    "print(f'standard table stop codons: {standard_table.stop_codons}')\n",
    "print(f'standard table start codons: {standard_table.start_codons}')\n",
    "standard_table.forward_table['ACG']"
   ]
  },
  {
   "cell_type": "code",
   "execution_count": 80,
   "metadata": {},
   "outputs": [
    {
     "name": "stdout",
     "output_type": "stream",
     "text": [
      "True\n",
      "True\n"
     ]
    }
   ],
   "source": [
    "# comparing Seq objects\n",
    "\n",
    "from Bio.Seq import Seq\n",
    "\n",
    "\n",
    "seq1 = 'ACGT'\n",
    "print('ACGT' == seq1)\n",
    "print(seq1 == 'ACGT')"
   ]
  },
  {
   "cell_type": "code",
   "execution_count": 1,
   "metadata": {},
   "outputs": [
    {
     "ename": "TypeError",
     "evalue": "__init__() takes 2 positional arguments but 3 were given",
     "output_type": "error",
     "traceback": [
      "\u001b[1;31m---------------------------------------------------------------------------\u001b[0m",
      "\u001b[1;31mTypeError\u001b[0m                                 Traceback (most recent call last)",
      "\u001b[1;32m<ipython-input-1-df432ab82f87>\u001b[0m in \u001b[0;36m<module>\u001b[1;34m\u001b[0m\n\u001b[0;32m      1\u001b[0m \u001b[1;31m# unknown contents\u001b[0m\u001b[1;33m\u001b[0m\u001b[1;33m\u001b[0m\u001b[1;33m\u001b[0m\u001b[0m\n\u001b[0;32m      2\u001b[0m \u001b[1;32mfrom\u001b[0m \u001b[0mBio\u001b[0m\u001b[1;33m.\u001b[0m\u001b[0mSeq\u001b[0m \u001b[1;32mimport\u001b[0m \u001b[0mSeq\u001b[0m\u001b[1;33m\u001b[0m\u001b[1;33m\u001b[0m\u001b[0m\n\u001b[1;32m----> 3\u001b[1;33m \u001b[0munknown_seq\u001b[0m \u001b[1;33m=\u001b[0m \u001b[0mSeq\u001b[0m\u001b[1;33m(\u001b[0m\u001b[1;32mNone\u001b[0m\u001b[1;33m,\u001b[0m \u001b[1;36m10\u001b[0m\u001b[1;33m)\u001b[0m\u001b[1;33m\u001b[0m\u001b[1;33m\u001b[0m\u001b[0m\n\u001b[0m\u001b[0;32m      4\u001b[0m \u001b[0munknown_seq\u001b[0m\u001b[1;33m\u001b[0m\u001b[1;33m\u001b[0m\u001b[0m\n",
      "\u001b[1;31mTypeError\u001b[0m: __init__() takes 2 positional arguments but 3 were given"
     ]
    }
   ],
   "source": [
    "# unknown contents\n",
    "from Bio.Seq import Seq\n",
    "unknown_seq = Seq(None, 10)\n",
    "unknown_seq"
   ]
  },
  {
   "cell_type": "code",
   "execution_count": 6,
   "metadata": {},
   "outputs": [
    {
     "ename": "TypeError",
     "evalue": "'Seq' object does not support item assignment",
     "output_type": "error",
     "traceback": [
      "\u001b[1;31m---------------------------------------------------------------------------\u001b[0m",
      "\u001b[1;31mTypeError\u001b[0m                                 Traceback (most recent call last)",
      "\u001b[1;32m<ipython-input-6-1158da09b501>\u001b[0m in \u001b[0;36m<module>\u001b[1;34m\u001b[0m\n\u001b[0;32m      1\u001b[0m \u001b[1;32mfrom\u001b[0m \u001b[0mBio\u001b[0m\u001b[1;33m.\u001b[0m\u001b[0mSeq\u001b[0m \u001b[1;32mimport\u001b[0m \u001b[0mSeq\u001b[0m\u001b[1;33m\u001b[0m\u001b[1;33m\u001b[0m\u001b[0m\n\u001b[0;32m      2\u001b[0m \u001b[0mmy_seq\u001b[0m \u001b[1;33m=\u001b[0m \u001b[0mSeq\u001b[0m\u001b[1;33m(\u001b[0m\u001b[1;34m'GCCATTGTAATGGGCCGCTGAAAGGGTGCCCGA'\u001b[0m\u001b[1;33m)\u001b[0m\u001b[1;33m\u001b[0m\u001b[1;33m\u001b[0m\u001b[0m\n\u001b[1;32m----> 3\u001b[1;33m \u001b[0mmy_seq\u001b[0m\u001b[1;33m[\u001b[0m\u001b[1;36m5\u001b[0m\u001b[1;33m]\u001b[0m \u001b[1;33m=\u001b[0m \u001b[1;34m'G'\u001b[0m\u001b[1;33m\u001b[0m\u001b[1;33m\u001b[0m\u001b[0m\n\u001b[0m",
      "\u001b[1;31mTypeError\u001b[0m: 'Seq' object does not support item assignment"
     ]
    }
   ],
   "source": [
    "from Bio.Seq import Seq\n",
    "my_seq = Seq('GCCATTGTAATGGGCCGCTGAAAGGGTGCCCGA')\n",
    "my_seq[5] = 'G'"
   ]
  },
  {
   "cell_type": "code",
   "execution_count": 7,
   "metadata": {},
   "outputs": [
    {
     "data": {
      "text/plain": [
       "MutableSeq('GCCATTGTAATGGGCCGCTGAAAGGGTGCCCGA')"
      ]
     },
     "execution_count": 7,
     "metadata": {},
     "output_type": "execute_result"
    }
   ],
   "source": [
    "from Bio.Seq import MutableSeq\n",
    "mutable_seq = MutableSeq('GCCATTGTAATGGGCCGCTGAAAGGGTGCCCGA')\n",
    "mutable_seq"
   ]
  },
  {
   "cell_type": "code",
   "execution_count": 11,
   "metadata": {},
   "outputs": [
    {
     "name": "stdout",
     "output_type": "stream",
     "text": [
      "mutable_seq with C at index 5: GCCATCGTAATGGGCCGCTGAAAGGGTGCCCGA\n",
      "mutable_seq with T removed: GCCACGTAATGGGCCGCTGAAAGGGTGCCCGA\n",
      "mutable_seq right to left: AGCCCGTGGGAAAGTCGCCGGGTAATGCACCG\n"
     ]
    }
   ],
   "source": [
    "from Bio.Seq import MutableSeq\n",
    "mutable_seq = MutableSeq('GCCATTGTAATGGGCCGCTGAAAGGGTGCCCGA')\n",
    "mutable_seq[5] = 'C'\n",
    "print(f'mutable_seq with C at index 5: {mutable_seq}')\n",
    "mutable_seq.remove('T')\n",
    "print(f'mutable_seq with T removed: {mutable_seq}')\n",
    "mutable_seq.reverse()\n",
    "print(f'mutable_seq right to left: {mutable_seq}')"
   ]
  },
  {
   "cell_type": "markdown",
   "metadata": {},
   "source": [
    "#### Unlike the Seq object, the MutableSeq object’s methods like reverse_complement() and reverse() act in-situ!"
   ]
  },
  {
   "cell_type": "code",
   "execution_count": 15,
   "metadata": {},
   "outputs": [
    {
     "data": {
      "text/plain": [
       "Seq('AGCCCGTGGGAAAGTCGCCGGGTAATGCACCG')"
      ]
     },
     "execution_count": 15,
     "metadata": {},
     "output_type": "execute_result"
    }
   ],
   "source": [
    "# getting back to read-only Seq\n",
    "from Bio.Seq import Seq\n",
    "new_seq = Seq(str(mutable_seq))  # sequence data given to a Seq object should be a string (not another Seq object etc)\n",
    "new_seq"
   ]
  },
  {
   "cell_type": "code",
   "execution_count": 20,
   "metadata": {},
   "outputs": [
    {
     "name": "stdout",
     "output_type": "stream",
     "text": [
      "my_string:                 GCTGTTATGGGTCGTTGGAAGGGTGGTCGTGCTGCTGGTTAG\n",
      "reverse complement:        CTAACCAGCAGCACGACCACCCTTCCAACGACCCATAACAGC\n",
      "my_string transcribed:     GCUGUUAUGGGUCGUUGGAAGGGUGGUCGUGCUGCUGGUUAG\n",
      "my_string backtranscribed: GCTGTTATGGGTCGTTGGAAGGGTGGTCGTGCTGCTGGTTAG\n",
      "my_string translated:      AVMGRWKGGRAAG*\n"
     ]
    }
   ],
   "source": [
    "# working with strings directly - functional programming\n",
    "from Bio.Seq import reverse_complement, transcribe, back_transcribe, translate\n",
    "my_string = 'GCTGTTATGGGTCGTTGGAAGGGTGGTCGTGCTGCTGGTTAG'\n",
    "print(f'my_string:                 {my_string}')\n",
    "print(f'reverse complement:        {reverse_complement(my_string)}')\n",
    "print(f'my_string transcribed:     {transcribe(my_string)}')\n",
    "print(f'my_string backtranscribed: {back_transcribe(my_string)}')\n",
    "print(f'my_string translated:      {translate(my_string)}')"
   ]
  },
  {
   "cell_type": "markdown",
   "metadata": {},
   "source": [
    "### Sequence Annotation Objects"
   ]
  },
  {
   "cell_type": "markdown",
   "metadata": {},
   "source": [
    "#### Using a SeqRecord object is not very complicated, since all of the information is presented as attributes of the class. Usually you won’t create a SeqRecord “by hand”, but instead use Bio.SeqIO to read in a sequence file for you."
   ]
  },
  {
   "cell_type": "code",
   "execution_count": 22,
   "metadata": {},
   "outputs": [
    {
     "data": {
      "text/plain": [
       "'<unknown id>'"
      ]
     },
     "execution_count": 22,
     "metadata": {},
     "output_type": "execute_result"
    }
   ],
   "source": [
    "# SeqRecord from scratch\n",
    "from Bio.Seq import Seq\n",
    "simple_seq = Seq('GATC')\n",
    "from Bio.SeqRecord import SeqRecord\n",
    "simple_seq_r = SeqRecord(simple_seq)\n",
    "simple_seq_r.id"
   ]
  },
  {
   "cell_type": "code",
   "execution_count": 24,
   "metadata": {},
   "outputs": [
    {
     "name": "stdout",
     "output_type": "stream",
     "text": [
      "description: Made up sequence I wish I could write a paper about\n",
      "sequence from sequence record: GATC\n"
     ]
    }
   ],
   "source": [
    "simple_seq_r.id = 'AC12345'\n",
    "simple_seq_r.description = 'Made up sequence I wish I could write a paper about'\n",
    "print(f'description: {simple_seq_r.description}')\n",
    "print(f'sequence from sequence record: {simple_seq_r.seq}')"
   ]
  },
  {
   "cell_type": "code",
   "execution_count": 25,
   "metadata": {},
   "outputs": [
    {
     "data": {
      "text/plain": [
       "SeqRecord(seq=Seq('GATC'), id='AC12345', name='<unknown name>', description='<unknown description>', dbxrefs=[])"
      ]
     },
     "execution_count": 25,
     "metadata": {},
     "output_type": "execute_result"
    }
   ],
   "source": [
    "# including an identifier when creating the object\n",
    "from Bio.Seq import Seq\n",
    "from Bio.SeqRecord import SeqRecord\n",
    "\n",
    "simple_seq = Seq('GATC')\n",
    "simple_seq_r = SeqRecord(simple_seq, id='AC12345')\n",
    "simple_seq_r"
   ]
  },
  {
   "cell_type": "markdown",
   "metadata": {},
   "source": [
    "#### SeqRecord has an dictionary attribute annotations. This is used for any miscellaneous annotations that doesn’t fit under one of the other more specific attributes."
   ]
  },
  {
   "cell_type": "code",
   "execution_count": 34,
   "metadata": {},
   "outputs": [
    {
     "name": "stdout",
     "output_type": "stream",
     "text": [
      "simple_seq_r.annotations: {'evidence': 'None. I just made it up.', 'phred_quality': [40, 40, 38, 30]}\n",
      "simple_seq_r.annotations[\"evidence\"]: None. I just made it up.\n"
     ]
    }
   ],
   "source": [
    "# adding annotations\n",
    "simple_seq_r.annotations['evidence'] = 'None. I just made it up.'\n",
    "print(f'simple_seq_r.annotations: {simple_seq_r.annotations}')\n",
    "print(f'simple_seq_r.annotations[\"evidence\"]: {simple_seq_r.annotations[\"evidence\"]}')"
   ]
  },
  {
   "cell_type": "code",
   "execution_count": 36,
   "metadata": {},
   "outputs": [
    {
     "name": "stdout",
     "output_type": "stream",
     "text": [
      "simple_seq_r.letter_annotations: {'phred_quality': [40, 40, 38, 30]}\n",
      "simple_seq_r.letter_annotations['phred_quality']: [40, 40, 38, 30]\n"
     ]
    }
   ],
   "source": [
    "# working with letter annotations\n",
    "simple_seq_r.letter_annotations['phred_quality'] = [40, 40, 38, 30]\n",
    "print(f'simple_seq_r.letter_annotations: {simple_seq_r.letter_annotations}')\n",
    "print(f\"simple_seq_r.letter_annotations['phred_quality']: {simple_seq_r.letter_annotations['phred_quality']}\")"
   ]
  },
  {
   "cell_type": "code",
   "execution_count": 39,
   "metadata": {},
   "outputs": [
    {
     "ename": "SyntaxError",
     "evalue": "unmatched ']' (<ipython-input-39-d054b029d4d7>, line 2)",
     "output_type": "error",
     "traceback": [
      "\u001b[1;36m  File \u001b[1;32m\"<ipython-input-39-d054b029d4d7>\"\u001b[1;36m, line \u001b[1;32m2\u001b[0m\n\u001b[1;33m    breaklines=true,breaksymbolleft=]{pycon}\u001b[0m\n\u001b[1;37m                                    ^\u001b[0m\n\u001b[1;31mSyntaxError\u001b[0m\u001b[1;31m:\u001b[0m unmatched ']'\n"
     ]
    }
   ],
   "source": [
    "# SeqRecord objects from FASTA files\n",
    "breaklines=true,breaksymbolleft=]{pycon}\n",
    "from Bio import SeqIO\n",
    "record = SeqIO.read('NC_005816.fna', 'fasta')\n",
    "record"
   ]
  },
  {
   "cell_type": "code",
   "execution_count": 41,
   "metadata": {},
   "outputs": [
    {
     "data": {
      "text/plain": [
       "Seq('TGTAACGAACGGTGCAATAGTGATCCACACCCAACGCCTGAAATCAGATCCAGG...CTG')"
      ]
     },
     "execution_count": 41,
     "metadata": {},
     "output_type": "execute_result"
    }
   ],
   "source": [
    "# SeqRecord objects from FASTA files\n",
    "# breaklines=true,breaksymbolleft=]{pycon}\n",
    "from Bio import SeqIO\n",
    "record = SeqIO.read('NC_005816.fna', 'fasta')\n",
    "record.seq"
   ]
  },
  {
   "cell_type": "code",
   "execution_count": 44,
   "metadata": {},
   "outputs": [
    {
     "name": "stdout",
     "output_type": "stream",
     "text": [
      "record.id: gi|45478711|ref|NC_005816.1|\n",
      "record.name: gi|45478711|ref|NC_005816.1|\n",
      "record.description: gi|45478711|ref|NC_005816.1| Yersinia pestis biovar Microtus str. 91001 plasmid pPCP1, complete sequence\n"
     ]
    }
   ],
   "source": [
    "print(f'record.id: {record.id}')\n",
    "print(f'record.name: {record.name}')\n",
    "print(f'record.description: {record.description}')"
   ]
  },
  {
   "cell_type": "code",
   "execution_count": 45,
   "metadata": {},
   "outputs": [
    {
     "name": "stdout",
     "output_type": "stream",
     "text": [
      "record.dbxrefs: []\n",
      "record.dbxrefs: {}\n",
      "record.letter_annotations: {}\n",
      "record.features: []\n"
     ]
    }
   ],
   "source": [
    "print(f'record.dbxrefs: {record.dbxrefs}')\n",
    "print(f'record.dbxrefs: {record.annotations}')\n",
    "print(f'record.letter_annotations: {record.letter_annotations}')\n",
    "print(f'record.features: {record.features}')"
   ]
  },
  {
   "cell_type": "code",
   "execution_count": 52,
   "metadata": {},
   "outputs": [
    {
     "data": {
      "text/plain": [
       "SeqRecord(seq=Seq('TGTAACGAACGGTGCAATAGTGATCCACACCCAACGCCTGAAATCAGATCCAGG...CTG'), id='NC_005816.1', name='NC_005816', description='Yersinia pestis biovar Microtus str. 91001 plasmid pPCP1, complete sequence', dbxrefs=['Project:58037'])"
      ]
     },
     "execution_count": 52,
     "metadata": {},
     "output_type": "execute_result"
    }
   ],
   "source": [
    "# SeqRecord objects from GenBank\n",
    "record = SeqIO.read('NC_005816.gb', 'genbank')\n",
    "record"
   ]
  },
  {
   "cell_type": "code",
   "execution_count": 50,
   "metadata": {},
   "outputs": [
    {
     "data": {
      "text/plain": [
       "Seq('TGTAACGAACGGTGCAATAGTGATCCACACCCAACGCCTGAAATCAGATCCAGG...CTG')"
      ]
     },
     "execution_count": 50,
     "metadata": {},
     "output_type": "execute_result"
    }
   ],
   "source": [
    "record.seq"
   ]
  },
  {
   "cell_type": "code",
   "execution_count": 54,
   "metadata": {},
   "outputs": [
    {
     "name": "stdout",
     "output_type": "stream",
     "text": [
      "record.id: NC_005816.1\n",
      "record.name: NC_005816\n",
      "record.description: Yersinia pestis biovar Microtus str. 91001 plasmid pPCP1, complete sequence\n",
      "record.letter_annotations: {}\n"
     ]
    }
   ],
   "source": [
    "print(f'record.id: {record.id}')\n",
    "print(f'record.name: {record.name}')\n",
    "print(f'record.description: {record.description}')\n",
    "print(f'record.letter_annotations: {record.letter_annotations}')  # GenBank files don't have per-letter annotations"
   ]
  },
  {
   "cell_type": "code",
   "execution_count": 57,
   "metadata": {},
   "outputs": [
    {
     "name": "stdout",
     "output_type": "stream",
     "text": [
      "length of record annotations: 13\n",
      "record.annotations[\"source\"]: Yersinia pestis biovar Microtus str. 91001\n",
      "record.dbxrefs: ['Project:58037']\n",
      "length of features: 41\n"
     ]
    }
   ],
   "source": [
    "# most of the annotations information gets recorded in the annotations dictionary\n",
    "print(f'length of record annotations: {len(record.annotations)}')\n",
    "print(f'record.annotations[\"source\"]: {record.annotations[\"source\"]}')\n",
    "# dbxrefs list gets populated from any PROJECT or DBLINK lines\n",
    "print(f'record.dbxrefs: {record.dbxrefs}')\n",
    "# entries in the features table (e.g. the genes or CDS features) get recorded as SeqFeature objects in the features list\n",
    "print(f'length of features: {len(record.features)}')"
   ]
  },
  {
   "cell_type": "code",
   "execution_count": 61,
   "metadata": {},
   "outputs": [
    {
     "name": "stdout",
     "output_type": "stream",
     "text": [
      "[>5:(8^9)]\n"
     ]
    },
    {
     "data": {
      "text/plain": [
       "AfterPosition(5)"
      ]
     },
     "execution_count": 61,
     "metadata": {},
     "output_type": "execute_result"
    }
   ],
   "source": [
    "# creating a position with fuzzy end points\n",
    "\n",
    "from Bio import SeqFeature\n",
    "start_pos = SeqFeature.AfterPosition(5)\n",
    "end_pos = SeqFeature.BetweenPosition(9, left=8, right=9)\n",
    "my_location = SeqFeature.FeatureLocation(start_pos, end_pos)\n",
    "print(my_location)\n",
    "my_location.start"
   ]
  },
  {
   "cell_type": "code",
   "execution_count": 64,
   "metadata": {},
   "outputs": [
    {
     "data": {
      "text/plain": [
       "BetweenPosition(9, left=8, right=9)"
      ]
     },
     "execution_count": 64,
     "metadata": {},
     "output_type": "execute_result"
    }
   ],
   "source": [
    "my_location.end"
   ]
  },
  {
   "cell_type": "code",
   "execution_count": 65,
   "metadata": {},
   "outputs": [
    {
     "name": "stdout",
     "output_type": "stream",
     "text": [
      "(8^9)\n"
     ]
    }
   ],
   "source": [
    "print(my_location.end)"
   ]
  },
  {
   "cell_type": "code",
   "execution_count": 68,
   "metadata": {},
   "outputs": [
    {
     "name": "stdout",
     "output_type": "stream",
     "text": [
      "start: 5\n",
      "end: 9\n"
     ]
    }
   ],
   "source": [
    "# don’t want to deal with fuzzy positions and just want numbers, they are actually subclasses of integers\n",
    "print(f'start: {int(my_location.start)}')\n",
    "print(f'end: {int(my_location.end)}')"
   ]
  },
  {
   "cell_type": "markdown",
   "metadata": {},
   "source": [
    "no_fuzzy_start and no_fuzzy_end give attribute locations and are compatible with older versions of Biopython"
   ]
  },
  {
   "cell_type": "code",
   "execution_count": 74,
   "metadata": {},
   "outputs": [
    {
     "name": "stdout",
     "output_type": "stream",
     "text": [
      "exact_location: [5:9]\n",
      "start: 5\n",
      "end: 9\n"
     ]
    }
   ],
   "source": [
    "# create a position without worrying about fuzzy positions\n",
    "\n",
    "exact_location = SeqFeature.FeatureLocation(5, 9)\n",
    "print(f'exact_location: {exact_location}')\n",
    "print(f'start: {exact_location.start}')\n",
    "print(f'end: {exact_location.end}')\n",
    "# exact_location.no_fuzzy_end  # gives exact_location = SeqFeature.FeatureLocation(5, 9)\n",
    "# exact_location.no_fuzzy_start  # gives exact_location = SeqFeature.FeatureLocation(5, 9)"
   ]
  },
  {
   "cell_type": "markdown",
   "metadata": {},
   "source": [
    "#### Location testing"
   ]
  },
  {
   "cell_type": "code",
   "execution_count": 75,
   "metadata": {},
   "outputs": [
    {
     "name": "stdout",
     "output_type": "stream",
     "text": [
      "source ['taxon:229193']\n",
      "gene ['GeneID:2767712']\n",
      "CDS ['GI:45478716', 'GeneID:2767712']\n"
     ]
    }
   ],
   "source": [
    "from Bio import SeqIO\n",
    "\n",
    "my_snp = 4350\n",
    "record = SeqIO.read(\"NC_005816.gb\", \"genbank\")\n",
    "for feature in record.features:\n",
    "    if my_snp in feature:\n",
    "         print('%s %s' % (feature.type, feature.qualifiers.get('db_xref')))"
   ]
  },
  {
   "cell_type": "markdown",
   "metadata": {},
   "source": [
    "gene and CDS features from GenBank or EMBL files defined with joins are the union of the exons – they do not cover any introns"
   ]
  },
  {
   "cell_type": "code",
   "execution_count": 78,
   "metadata": {},
   "outputs": [
    {
     "name": "stdout",
     "output_type": "stream",
     "text": [
      "AGCCTTTGCCGTC\n"
     ]
    }
   ],
   "source": [
    "# sequence described by feature or location\n",
    "\n",
    "from Bio.Seq import Seq\n",
    "from Bio.SeqFeature import SeqFeature, FeatureLocation\n",
    "seq = Seq('ACCGAGACGGCAAAGGCTAGCATAGGTATGAGACTTCCTTCCTGCCAGTGCTGAGGAACTGGGAGCCTAC')\n",
    "feature = SeqFeature(FeatureLocation(5, 18), type='gene', strand=1)\n",
    "feature_seq = seq[feature.location.start:feature.location.end].reverse_complement()\n",
    "print(feature_seq)"
   ]
  },
  {
   "cell_type": "code",
   "execution_count": 80,
   "metadata": {},
   "outputs": [
    {
     "name": "stdout",
     "output_type": "stream",
     "text": [
      "feature_seq: GACGGCAAAGGCT\n",
      "length of feature_seq: 13\n",
      "length of feature: 13\n",
      "length of feature.location: 13\n"
     ]
    }
   ],
   "source": [
    "# using extract method to get the sequence described by feature or location\n",
    "feature_seq = feature.extract(seq)\n",
    "print(f'feature_seq: {feature_seq}')\n",
    "print(f'length of feature_seq: {len(feature_seq)}')\n",
    "print(f'length of feature: {len(feature)}')\n",
    "print(f'length of feature.location: {len(feature.location)}')"
   ]
  },
  {
   "cell_type": "markdown",
   "metadata": {},
   "source": [
    "#### Comparison"
   ]
  },
  {
   "cell_type": "code",
   "execution_count": 81,
   "metadata": {},
   "outputs": [
    {
     "ename": "NotImplementedError",
     "evalue": "SeqRecord comparison is deliberately not implemented. Explicitly compare the attributes of interest.",
     "output_type": "error",
     "traceback": [
      "\u001b[1;31m---------------------------------------------------------------------------\u001b[0m",
      "\u001b[1;31mNotImplementedError\u001b[0m                       Traceback (most recent call last)",
      "\u001b[1;32m<ipython-input-81-228198f7b18e>\u001b[0m in \u001b[0;36m<module>\u001b[1;34m\u001b[0m\n\u001b[0;32m      3\u001b[0m \u001b[0mrecord1\u001b[0m \u001b[1;33m=\u001b[0m \u001b[0mSeqRecord\u001b[0m\u001b[1;33m(\u001b[0m\u001b[0mSeq\u001b[0m\u001b[1;33m(\u001b[0m\u001b[1;34m'ACGT'\u001b[0m\u001b[1;33m)\u001b[0m\u001b[1;33m,\u001b[0m \u001b[0mid\u001b[0m\u001b[1;33m=\u001b[0m\u001b[1;34m'test'\u001b[0m\u001b[1;33m)\u001b[0m\u001b[1;33m\u001b[0m\u001b[1;33m\u001b[0m\u001b[0m\n\u001b[0;32m      4\u001b[0m \u001b[0mrecord2\u001b[0m \u001b[1;33m=\u001b[0m \u001b[0mSeqRecord\u001b[0m\u001b[1;33m(\u001b[0m\u001b[0mSeq\u001b[0m\u001b[1;33m(\u001b[0m\u001b[1;34m'ACGT'\u001b[0m\u001b[1;33m)\u001b[0m\u001b[1;33m,\u001b[0m \u001b[0mid\u001b[0m\u001b[1;33m=\u001b[0m\u001b[1;34m'test'\u001b[0m\u001b[1;33m)\u001b[0m\u001b[1;33m\u001b[0m\u001b[1;33m\u001b[0m\u001b[0m\n\u001b[1;32m----> 5\u001b[1;33m \u001b[0mrecord1\u001b[0m \u001b[1;33m==\u001b[0m \u001b[0mrecord2\u001b[0m\u001b[1;33m\u001b[0m\u001b[1;33m\u001b[0m\u001b[0m\n\u001b[0m",
      "\u001b[1;32m~\\anaconda3\\lib\\site-packages\\Bio\\SeqRecord.py\u001b[0m in \u001b[0;36m__eq__\u001b[1;34m(self, other)\u001b[0m\n\u001b[0;32m    787\u001b[0m     \u001b[1;32mdef\u001b[0m \u001b[0m__eq__\u001b[0m\u001b[1;33m(\u001b[0m\u001b[0mself\u001b[0m\u001b[1;33m,\u001b[0m \u001b[0mother\u001b[0m\u001b[1;33m)\u001b[0m\u001b[1;33m:\u001b[0m\u001b[1;33m\u001b[0m\u001b[1;33m\u001b[0m\u001b[0m\n\u001b[0;32m    788\u001b[0m         \u001b[1;34m\"\"\"Define the equal-to operand (not implemented).\"\"\"\u001b[0m\u001b[1;33m\u001b[0m\u001b[1;33m\u001b[0m\u001b[0m\n\u001b[1;32m--> 789\u001b[1;33m         \u001b[1;32mraise\u001b[0m \u001b[0mNotImplementedError\u001b[0m\u001b[1;33m(\u001b[0m\u001b[0m_NO_SEQRECORD_COMPARISON\u001b[0m\u001b[1;33m)\u001b[0m\u001b[1;33m\u001b[0m\u001b[1;33m\u001b[0m\u001b[0m\n\u001b[0m\u001b[0;32m    790\u001b[0m \u001b[1;33m\u001b[0m\u001b[0m\n\u001b[0;32m    791\u001b[0m     \u001b[1;32mdef\u001b[0m \u001b[0m__ne__\u001b[0m\u001b[1;33m(\u001b[0m\u001b[0mself\u001b[0m\u001b[1;33m,\u001b[0m \u001b[0mother\u001b[0m\u001b[1;33m)\u001b[0m\u001b[1;33m:\u001b[0m\u001b[1;33m\u001b[0m\u001b[1;33m\u001b[0m\u001b[0m\n",
      "\u001b[1;31mNotImplementedError\u001b[0m: SeqRecord comparison is deliberately not implemented. Explicitly compare the attributes of interest."
     ]
    }
   ],
   "source": [
    "from Bio.Seq import Seq\n",
    "from Bio.SeqRecord import SeqRecord\n",
    "record1 = SeqRecord(Seq('ACGT'), id='test')\n",
    "record2 = SeqRecord(Seq('ACGT'), id='test')\n",
    "record1 == record2"
   ]
  },
  {
   "cell_type": "code",
   "execution_count": 83,
   "metadata": {},
   "outputs": [
    {
     "name": "stdout",
     "output_type": "stream",
     "text": [
      "True\n",
      "True\n"
     ]
    }
   ],
   "source": [
    "from Bio.Seq import Seq\n",
    "from Bio.SeqRecord import SeqRecord\n",
    "record1 = SeqRecord(Seq('ACGT'), id='test')\n",
    "record2 = SeqRecord(Seq('ACGT'), id='test')\n",
    "print(record1.id == record2.id)\n",
    "print(record1.seq == record2.seq)"
   ]
  },
  {
   "cell_type": "code",
   "execution_count": 86,
   "metadata": {},
   "outputs": [
    {
     "name": "stdout",
     "output_type": "stream",
     "text": [
      ">gi|14150838|gb|AAK54648.1|AF376133_1 chalcone synthase [Cucumis sativus]\n",
      "MMYQQGCFAGGTVLRLAKDLAENNRGARVLVVCSEITAVTFRGPSETHLDSMVGQALFGD\n",
      "GAGAVIVGSDPDLSVERPLYELVWTGATLLPDSEGAIDGHLREVGLTFHLLKDVPGLISK\n",
      "NIEKSLKEAFTPLGISDWNSTFWIAHPGGPAILDQVEAKLGLKEEKMRATREVLSEYGNM\n",
      "SSAC\n",
      "\n"
     ]
    }
   ],
   "source": [
    "# format\n",
    "from Bio.Seq import Seq\n",
    "from Bio.SeqRecord import SeqRecord\n",
    "record = SeqRecord(\n",
    "     Seq(\n",
    "         \"MMYQQGCFAGGTVLRLAKDLAENNRGARVLVVCSEITAVTFRGPSETHLDSMVGQALFGD\"\n",
    "         \"GAGAVIVGSDPDLSVERPLYELVWTGATLLPDSEGAIDGHLREVGLTFHLLKDVPGLISK\"\n",
    "         \"NIEKSLKEAFTPLGISDWNSTFWIAHPGGPAILDQVEAKLGLKEEKMRATREVLSEYGNM\"\n",
    "         \"SSAC\"\n",
    "     ),\n",
    "     id=\"gi|14150838|gb|AAK54648.1|AF376133_1\",\n",
    "     description=\"chalcone synthase [Cucumis sativus]\",\n",
    " )\n",
    "print(record.format(\"fasta\"))"
   ]
  },
  {
   "cell_type": "code",
   "execution_count": 89,
   "metadata": {},
   "outputs": [
    {
     "data": {
      "text/plain": [
       "SeqRecord(seq=Seq('TGTAACGAACGGTGCAATAGTGATCCACACCCAACGCCTGAAATCAGATCCAGG...CTG'), id='NC_005816.1', name='NC_005816', description='Yersinia pestis biovar Microtus str. 91001 plasmid pPCP1, complete sequence', dbxrefs=['Project:58037'])"
      ]
     },
     "execution_count": 89,
     "metadata": {},
     "output_type": "execute_result"
    }
   ],
   "source": [
    "# slicing record\n",
    "from Bio import SeqIO\n",
    "record = SeqIO.read('NC_005816.gb', 'genbank')\n",
    "record"
   ]
  },
  {
   "cell_type": "code",
   "execution_count": 93,
   "metadata": {},
   "outputs": [
    {
     "name": "stdout",
     "output_type": "stream",
     "text": [
      "length of record: 9609\n",
      "number of features: 41\n"
     ]
    }
   ],
   "source": [
    "print(f'length of record: {len(record)}')\n",
    "print(f'number of features: {len(record.features)}')"
   ]
  },
  {
   "cell_type": "markdown",
   "metadata": {},
   "source": [
    "#### Adding SeqRecord objects"
   ]
  },
  {
   "cell_type": "code",
   "execution_count": 96,
   "metadata": {},
   "outputs": [
    {
     "name": "stdout",
     "output_type": "stream",
     "text": [
      "length of record: 9609\n",
      "number of features: 41\n",
      "record.dbxrefs: ['Project:58037']\n",
      "annotations: dict_keys(['molecule_type', 'topology', 'data_file_division', 'date', 'accessions', 'sequence_version', 'gi', 'keywords', 'source', 'organism', 'taxonomy', 'references', 'comment'])\n"
     ]
    }
   ],
   "source": [
    "from Bio import SeqIO\n",
    "record = SeqIO.read('NC_005816.gb', 'genbank')\n",
    "print(f'length of record: {len(record)}')\n",
    "print(f'number of features: {len(record.features)}')\n",
    "print(f'record.dbxrefs: {record.dbxrefs}')\n",
    "print(f'annotations: {record.annotations.keys()}')"
   ]
  },
  {
   "cell_type": "code",
   "execution_count": 99,
   "metadata": {},
   "outputs": [
    {
     "name": "stdout",
     "output_type": "stream",
     "text": [
      "len(shifted): 9609\n"
     ]
    },
    {
     "data": {
      "text/plain": [
       "SeqRecord(seq=Seq('GATACGCAGTCATATTTTTTACACAATTCTCTAATCCCGACAAGGTCGTAGGTC...GGA'), id='NC_005816.1', name='NC_005816', description='Yersinia pestis biovar Microtus str. 91001 plasmid pPCP1, complete sequence', dbxrefs=[])"
      ]
     },
     "execution_count": 99,
     "metadata": {},
     "output_type": "execute_result"
    }
   ],
   "source": [
    "# shift the origin\n",
    "shifted = record[2000:] + record[:2000]\n",
    "print(f'len(shifted): {len(shifted)}')\n",
    "shifted"
   ]
  },
  {
   "cell_type": "markdown",
   "metadata": {},
   "source": [
    "this isn’t perfect in that some annotation like the database cross references, all the annotations except molecule type, and one of the features (the source feature) have been lost"
   ]
  },
  {
   "cell_type": "code",
   "execution_count": 100,
   "metadata": {},
   "outputs": [
    {
     "name": "stdout",
     "output_type": "stream",
     "text": [
      "number of features in shifted: 40\n",
      "shifted.dbxrefs: []\n",
      "annotations: dict_keys([])\n"
     ]
    }
   ],
   "source": [
    "print(f'number of features in shifted: {len(shifted.features)}')\n",
    "print(f'shifted.dbxrefs: {shifted.dbxrefs}')\n",
    "print(f'annotations: {shifted.annotations.keys()}')"
   ]
  },
  {
   "cell_type": "code",
   "execution_count": 103,
   "metadata": {},
   "outputs": [
    {
     "name": "stdout",
     "output_type": "stream",
     "text": [
      "shifted.dbxrefs explicitly: ['Project:58037']\n",
      "annotations explicitly: dict_keys(['molecule_type', 'topology', 'data_file_division', 'date', 'accessions', 'sequence_version', 'gi', 'keywords', 'source', 'organism', 'taxonomy', 'references', 'comment'])\n"
     ]
    }
   ],
   "source": [
    "# SeqRecord slicing step is cautious in what annotation it preserves\n",
    "# (erroneously propagating annotation can cause major problems)\n",
    "# to keep the database cross references or the annotations dictionary, this must be done explicitly\n",
    "shifted.dbxrefs = record.dbxrefs[:]\n",
    "shifted.annotations = record.annotations.copy()\n",
    "print(f'shifted.dbxrefs explicitly: {shifted.dbxrefs}')\n",
    "print(f'annotations explicitly: {shifted.annotations.keys()}')"
   ]
  },
  {
   "cell_type": "markdown",
   "metadata": {},
   "source": [
    "#### Reverse complementing SeqRecord objects"
   ]
  },
  {
   "cell_type": "code",
   "execution_count": 104,
   "metadata": {},
   "outputs": [
    {
     "name": "stdout",
     "output_type": "stream",
     "text": [
      "NC_005816.1 9609 41 1 13\n"
     ]
    }
   ],
   "source": [
    "from Bio import SeqIO\n",
    "record = SeqIO.read('NC_005816.gb', 'genbank')\n",
    "print('%s %i %i %i %i' % (record.id, len(record), len(record.features), len(record.dbxrefs), len(record.annotations)))"
   ]
  },
  {
   "cell_type": "code",
   "execution_count": 105,
   "metadata": {},
   "outputs": [
    {
     "name": "stdout",
     "output_type": "stream",
     "text": [
      "TESTING 9609 41 0 0\n"
     ]
    }
   ],
   "source": [
    "rc = record.reverse_complement(id='TESTING')\n",
    "print('%s %i %i %i %i' % (rc.id, len(rc), len(rc.features), len(rc.dbxrefs), len(rc.annotations)))"
   ]
  },
  {
   "cell_type": "markdown",
   "metadata": {},
   "source": [
    "### Parsing and reading sequences"
   ]
  },
  {
   "cell_type": "code",
   "execution_count": 1,
   "metadata": {},
   "outputs": [
    {
     "name": "stdout",
     "output_type": "stream",
     "text": [
      "gi|2765658|emb|Z78533.1|CIZ78533\n",
      "Seq('CGTAACAAGGTTTCCGTAGGTGAACCTGCGGAAGGATCATTGATGAGACCGTGG...CGC')\n",
      "740\n",
      "gi|2765657|emb|Z78532.1|CCZ78532\n",
      "Seq('CGTAACAAGGTTTCCGTAGGTGAACCTGCGGAAGGATCATTGTTGAGACAACAG...GGC')\n",
      "753\n",
      "gi|2765656|emb|Z78531.1|CFZ78531\n",
      "Seq('CGTAACAAGGTTTCCGTAGGTGAACCTGCGGAAGGATCATTGTTGAGACAGCAG...TAA')\n",
      "748\n",
      "gi|2765655|emb|Z78530.1|CMZ78530\n",
      "Seq('CGTAACAAGGTTTCCGTAGGTGAACCTGCGGAAGGATCATTGTTGAAACAACAT...CAT')\n",
      "744\n",
      "gi|2765654|emb|Z78529.1|CLZ78529\n",
      "Seq('ACGGCGAGCTGCCGAAGGACATTGTTGAGACAGCAGAATATACGATTGAGTGAA...AAA')\n",
      "733\n",
      "gi|2765652|emb|Z78527.1|CYZ78527\n",
      "Seq('CGTAACAAGGTTTCCGTAGGTGAACCTGCGGAAGGATCATTGTTGAGACAGTAG...CCC')\n",
      "718\n",
      "gi|2765651|emb|Z78526.1|CGZ78526\n",
      "Seq('CGTAACAAGGTTTCCGTAGGTGAACCTGCGGAAGGATCATTGTTGAGACAGTAG...TGT')\n",
      "730\n",
      "gi|2765650|emb|Z78525.1|CAZ78525\n",
      "Seq('TGTTGAGATAGCAGAATATACATCGAGTGAATCCGGAGGACCTGTGGTTATTCG...GCA')\n",
      "704\n",
      "gi|2765649|emb|Z78524.1|CFZ78524\n",
      "Seq('CGTAACAAGGTTTCCGTAGGTGAACCTGCGGAAGGATCATTGTTGAGATAGTAG...AGC')\n",
      "740\n",
      "gi|2765648|emb|Z78523.1|CHZ78523\n",
      "Seq('CGTAACCAGGTTTCCGTAGGTGAACCTGCGGCAGGATCATTGTTGAGACAGCAG...AAG')\n",
      "709\n",
      "gi|2765647|emb|Z78522.1|CMZ78522\n",
      "Seq('CGTAACAAGGTTTCCGTAGGTGAACCTGCGGAAGGATCATTGTTGAGACAGCAG...GAG')\n",
      "700\n",
      "gi|2765646|emb|Z78521.1|CCZ78521\n",
      "Seq('GTAGGTGAACCTGCGGAAGGATCATTGTTGAGACAGTAGAATATATGATCGAGT...ACC')\n",
      "726\n",
      "gi|2765645|emb|Z78520.1|CSZ78520\n",
      "Seq('CGTAACAAGGTTTCCGTAGGTGAACCTGCGGAAGGATCATTGTTGAGACAGCAG...TTT')\n",
      "753\n",
      "gi|2765644|emb|Z78519.1|CPZ78519\n",
      "Seq('ATATGATCGAGTGAATCTGGTGGACTTGTGGTTACTCAGCTCGCCATAGGCTTT...TTA')\n",
      "699\n",
      "gi|2765643|emb|Z78518.1|CRZ78518\n",
      "Seq('CGTAACAAGGTTTCCGTAGGTGAACCTGCGGGAGGATCATTGTTGAGATAGTAG...TCC')\n",
      "658\n",
      "gi|2765642|emb|Z78517.1|CFZ78517\n",
      "Seq('CGTAACAAGGTTTCCGTAGGTGAACCTGCGGAAGGATCATTGTTGAGACAGTAG...AGC')\n",
      "752\n",
      "gi|2765641|emb|Z78516.1|CPZ78516\n",
      "Seq('CGTAACAAGGTTTCCGTAGGTGAACCTGCGGAAGGATCATTGTTGAGACAGTAT...TAA')\n",
      "726\n",
      "gi|2765640|emb|Z78515.1|MXZ78515\n",
      "Seq('CGTAACAAGGTTTCCGTAGGTGAACCTGCGGAAGGATCATTGCTGAGACCGTAG...AGC')\n",
      "765\n",
      "gi|2765639|emb|Z78514.1|PSZ78514\n",
      "Seq('CGTAACAAGGTTTCCGTAGGTGGACCTTCGGGAGGATCATTTTTGAAGCCCCCA...CTA')\n",
      "755\n",
      "gi|2765638|emb|Z78513.1|PBZ78513\n",
      "Seq('CGTAACAAGGTTTCCGTAGGTGAACCTGCGGAAGGATCATTGTTGAGACCGCCA...GAG')\n",
      "742\n",
      "gi|2765637|emb|Z78512.1|PWZ78512\n",
      "Seq('CGTAACAAGGTTTCCGTAGGTGGACCTTCGGGAGGATCATTTTTGAAGCCCCCA...AGC')\n",
      "762\n",
      "gi|2765636|emb|Z78511.1|PEZ78511\n",
      "Seq('CGTAACAAGGTTTCCGTAGGTGAACCTTCGGAAGGATCATTGTTGAGACCCCCA...GGA')\n",
      "745\n",
      "gi|2765635|emb|Z78510.1|PCZ78510\n",
      "Seq('CTAACCAGGGTTCCGAGGTGACCTTCGGGAGGATTCCTTTTTAAGCCCCCGAAA...TTA')\n",
      "750\n",
      "gi|2765634|emb|Z78509.1|PPZ78509\n",
      "Seq('CGTAACAAGGTTTCCGTAGGTGAACCTGCGGAAGGATCATTGTTGAGACCGCCA...GGA')\n",
      "731\n",
      "gi|2765633|emb|Z78508.1|PLZ78508\n",
      "Seq('CGTAACAAGGTTTCCGTAGGTGAACCTGCGGAAGGATCATTGTTGAGACCGCCA...TGA')\n",
      "741\n",
      "gi|2765632|emb|Z78507.1|PLZ78507\n",
      "Seq('CGTAACAAGGTTTCCGTAGGTGAACCTGCGGAAGGATCATTGTTGAGACCCCCA...TGA')\n",
      "740\n",
      "gi|2765631|emb|Z78506.1|PLZ78506\n",
      "Seq('CGTAACAAGGTTTCCGTAGGTGAACCTGCGGAAGGATCATTGTTGAGACCGCAA...TGA')\n",
      "727\n",
      "gi|2765630|emb|Z78505.1|PSZ78505\n",
      "Seq('CGTAACAAGGTTTCCGTAGGTGAACCTGCGGAAGGATCATTGTTGAGACCGCCA...TTT')\n",
      "711\n",
      "gi|2765629|emb|Z78504.1|PKZ78504\n",
      "Seq('CGTAACAAGGTTTCCGTAGGTGAACCTTCGGAAGGATCATTGTTGAGACCGCAA...TAA')\n",
      "743\n",
      "gi|2765628|emb|Z78503.1|PCZ78503\n",
      "Seq('CGTAACCAGGTTTCCGTAGGTGAACCTCCGGAAGGATCCTTGTTGAGACCGCCA...TAA')\n",
      "727\n",
      "gi|2765627|emb|Z78502.1|PBZ78502\n",
      "Seq('CGTAACCAGGTTTCCGTAGGTGAACCTCCGGAAGGATCATTGTTGAGACCGCCA...CGC')\n",
      "757\n",
      "gi|2765626|emb|Z78501.1|PCZ78501\n",
      "Seq('CGTAACAAGGTTTCCGTAGGTGAACCTGCGGAAGGATCATTGTTGAGACCGCAA...AGA')\n",
      "770\n",
      "gi|2765625|emb|Z78500.1|PWZ78500\n",
      "Seq('CGTAACAAGGTTTCCGTAGGTGAACCTGCGGAAGGCTCATTGTTGAGACCGCAA...AAG')\n",
      "767\n",
      "gi|2765624|emb|Z78499.1|PMZ78499\n",
      "Seq('CGTAACAAGGTTTCCGTAGGTGAACCTGCGGAGGGATCATTGTTGAGATCGCAT...ACC')\n",
      "759\n",
      "gi|2765623|emb|Z78498.1|PMZ78498\n",
      "Seq('CGTAACAAGGTTTCCGTAGGTGAACCTGCGGAAAGGTCATTGTTGAGATCACAT...AGC')\n",
      "750\n",
      "gi|2765622|emb|Z78497.1|PDZ78497\n",
      "Seq('CGTAACAAGGTTTCCGTAGGTGAACCTGCGGAAGGATCATTGTTGAGATCACAT...AGC')\n",
      "788\n",
      "gi|2765621|emb|Z78496.1|PAZ78496\n",
      "Seq('CGTAACAAGGTTTCCGTAGGTGAACCTGCGGAAGGATCATTGTTGAGATCGCAT...AGC')\n",
      "774\n",
      "gi|2765620|emb|Z78495.1|PEZ78495\n",
      "Seq('CGTAACAAGGTTTCCGTAGGTGAACCTCCGGAAGGATCATTGTTGAGATCACAT...GTG')\n",
      "789\n",
      "gi|2765619|emb|Z78494.1|PNZ78494\n",
      "Seq('CGTAACAAGGTTTCCGTAGGTGAACCTGCGGAAGGATCATTGTTGAGGTCGCAT...AAG')\n",
      "688\n",
      "gi|2765618|emb|Z78493.1|PGZ78493\n",
      "Seq('CGTAACAAGGATTCCGTAGGTGAACCTGCGGAAGGATCATTGTTGAGATCGCAT...CCC')\n",
      "719\n",
      "gi|2765617|emb|Z78492.1|PBZ78492\n",
      "Seq('CGTAACAAGGTTTCCGTAGGTGAACCTGCGGAAGGATCATTGTTGAGATCGCAT...ATA')\n",
      "743\n",
      "gi|2765616|emb|Z78491.1|PCZ78491\n",
      "Seq('CGTAACAAGGTTTCCGTAGGTGAACCTGCGGAAGGATCATTGTTGAGATCGCAT...AGC')\n",
      "737\n",
      "gi|2765615|emb|Z78490.1|PFZ78490\n",
      "Seq('CGTAACAAGGTTTCCGTAGGTGAACCTGCGGAAGGATCATTGTTGAGATCACAT...TGA')\n",
      "728\n",
      "gi|2765614|emb|Z78489.1|PDZ78489\n",
      "Seq('CGTAACAAGGTTTCCGTAGGTGAACCTGCGGAAGGATCATTGTTGAGATCACAT...GGC')\n",
      "740\n",
      "gi|2765613|emb|Z78488.1|PTZ78488\n",
      "Seq('CTGTAGGTGAACCTGCGGAAGGATCATTGTTGAGATCACGCAATAATTGATCGA...GCT')\n",
      "696\n",
      "gi|2765612|emb|Z78487.1|PHZ78487\n",
      "Seq('CGTAACAAGGTTTCCGTAGGTGAACCTGCGGAAGGATCATTGTTGAGATCACAT...TAA')\n",
      "732\n",
      "gi|2765611|emb|Z78486.1|PBZ78486\n",
      "Seq('CGTCACGAGGTTTCCGTAGGTGAATCTGCGGGAGGATCATTGTTGAGATCACAT...TGA')\n",
      "731\n",
      "gi|2765610|emb|Z78485.1|PHZ78485\n",
      "Seq('CTGAACCTGGTGTCCGAAGGTGAATCTGCGGATGGATCATTGTTGAGATATCAT...GTA')\n",
      "735\n",
      "gi|2765609|emb|Z78484.1|PCZ78484\n",
      "Seq('CGTAACAAGGTTTCCGTAGGTGAACCTGGGGAAGGATCATTGTTGAGATCACAT...TTT')\n",
      "720\n",
      "gi|2765608|emb|Z78483.1|PVZ78483\n",
      "Seq('CGTAACAAGGTTTCCGTAGGTGAACCTGCGGAAGGATCATTGTTGAGATCACAT...GCA')\n",
      "740\n",
      "gi|2765607|emb|Z78482.1|PEZ78482\n",
      "Seq('TCTACTGCAGTGACCGAGATTTGCCATCGAGCCTCCTGGGAGCTTTCTTGCTGG...GCA')\n",
      "629\n",
      "gi|2765606|emb|Z78481.1|PIZ78481\n",
      "Seq('CGTAACAAGGTTTCCGTAGGTGAACCTGCGGAAGGATCATTGTTGAGATCACAT...TGA')\n",
      "572\n",
      "gi|2765605|emb|Z78480.1|PGZ78480\n",
      "Seq('CGTAACAAGGTTTCCGTAGGTGAACCTGCGGAAGGATCATTGTTGAGATCACAT...TGA')\n",
      "587\n",
      "gi|2765604|emb|Z78479.1|PPZ78479\n",
      "Seq('CGTAACAAGGTTTCCGTAGGTGAACCTGCGGAAGGATCATTGTTGAGATCACAT...AGT')\n",
      "700\n",
      "gi|2765603|emb|Z78478.1|PVZ78478\n",
      "Seq('CGTAACAAGGTTTCCGTAGGTGAACCTCCGGAAGGATCAGTGTTGAGATCACAT...GGC')\n",
      "636\n",
      "gi|2765602|emb|Z78477.1|PVZ78477\n",
      "Seq('CGTAACAAGGTTTCCGTAGGTGAACCTGCGGAAGGATCATTGTTGAGATCACAT...TGC')\n",
      "716\n",
      "gi|2765601|emb|Z78476.1|PGZ78476\n",
      "Seq('CGTAACAAGGTTTCCGTAGGTGAACCTGCGGAAGGATCATTGTTGAGATCACAT...CCC')\n",
      "592\n",
      "gi|2765600|emb|Z78475.1|PSZ78475\n",
      "Seq('CGTAACAAGGTTTCCGTAGGTGAACCTGCGGAAGGATCATTGTTGAGATCACAT...GGT')\n",
      "716\n",
      "gi|2765599|emb|Z78474.1|PKZ78474\n",
      "Seq('CGTAACAAGGTTTCCGTAGGTGAACCTGCGGAAGGATCATTGTTGAGATCACGT...CTT')\n",
      "733\n",
      "gi|2765598|emb|Z78473.1|PSZ78473\n",
      "Seq('CGTAACAAGGTTTCCGTAGGTGAACCTGCGGAAGGATCATTGTTGAGATCACAT...AGG')\n",
      "626\n",
      "gi|2765597|emb|Z78472.1|PLZ78472\n",
      "Seq('CGTAACAAGGTTTCCGTAGGTGAACCTGCGGAAGGATCATTGTTGAGATCACAT...AGC')\n",
      "737\n",
      "gi|2765596|emb|Z78471.1|PDZ78471\n",
      "Seq('CGTAACAAGGTTTCCGTAGGTGAACCTGCGGAAGGATCATTGTTGAGATCACAT...AGC')\n",
      "740\n",
      "gi|2765595|emb|Z78470.1|PPZ78470\n",
      "Seq('CGTAACAAGGTTTCCGTAGGTGAACCTGCGGAAGGATCATTGTTGAGATCACAT...GTT')\n",
      "574\n",
      "gi|2765594|emb|Z78469.1|PHZ78469\n",
      "Seq('CGTAACAAGGTTTCCGTAGGTGAACCTGCGGAAGGATCATTGTTGAGATCACAT...GTT')\n",
      "594\n",
      "gi|2765593|emb|Z78468.1|PAZ78468\n",
      "Seq('CGTAACAAGGTTTCCGTAGGTGAACCTGCGGAAGGATCATTGTTGAGATCGCAT...GTT')\n",
      "610\n",
      "gi|2765592|emb|Z78467.1|PSZ78467\n",
      "Seq('CGTAACAAGGTTTCCGTAGGTGAACCTGCGGAAGGATCATTGTTGAGATCACAT...TGA')\n",
      "730\n",
      "gi|2765591|emb|Z78466.1|PPZ78466\n",
      "Seq('CGTAACAAGGTTTCCGTAGGTGAACCTGCGGAAGGATCATTGTTGAGATCACAT...CCC')\n",
      "641\n",
      "gi|2765590|emb|Z78465.1|PRZ78465\n",
      "Seq('CGTAACAAGGTTTCCGTAGGTGAACCTGCGGAAGGATCATTGTTGAGATCACAT...TGC')\n",
      "702\n",
      "gi|2765589|emb|Z78464.1|PGZ78464\n",
      "Seq('CGTAACAAGGTTTCCGTAGGTGAGCGGAAGGGTCATTGTTGAGATCACATAATA...AGC')\n",
      "733\n",
      "gi|2765588|emb|Z78463.1|PGZ78463\n",
      "Seq('CGTAACAAGGTTTCCGTAGGTGAACCTGCGGAAGGTTCATTGTTGAGATCACAT...AGC')\n",
      "738\n",
      "gi|2765587|emb|Z78462.1|PSZ78462\n",
      "Seq('CGTCACGAGGTCTCCGGATGTGACCCTGCGGAAGGATCATTGTTGAGATCACAT...CAT')\n",
      "736\n",
      "gi|2765586|emb|Z78461.1|PWZ78461\n",
      "Seq('CGTAACAAGGTTTCCGTAGGTGAACCTCCGGAAGGATCATTGTTGAGATCACAT...TAA')\n",
      "732\n",
      "gi|2765585|emb|Z78460.1|PCZ78460\n",
      "Seq('CGTAACAAGGTTTCCGTAGGTGAACCTCCGGAAGGATCATTGTTGAGATCACAT...TTA')\n",
      "745\n",
      "gi|2765584|emb|Z78459.1|PDZ78459\n",
      "Seq('CGTAACAAGGTTTCCGTAGGTGAACCTGCGGAAGGATCATTGTTGAGATCACAT...TTT')\n",
      "744\n",
      "gi|2765583|emb|Z78458.1|PHZ78458\n",
      "Seq('CGTAACAAGGTTTCCGTAGGTGAACCTGCGGAAGGATCATTGTTGAGATCACAT...TTG')\n",
      "738\n",
      "gi|2765582|emb|Z78457.1|PCZ78457\n",
      "Seq('CGTAACAAGGTTTCCGTAGGTGAACCTCCGGAAGGATCATTGTTGAGATCACAT...GAG')\n",
      "739\n",
      "gi|2765581|emb|Z78456.1|PTZ78456\n",
      "Seq('CGTAACAAGGTTTCCGTAGGTGAACCTGCGGAAGGATCATTGTTGAGATCACAT...AGC')\n",
      "740\n",
      "gi|2765580|emb|Z78455.1|PJZ78455\n",
      "Seq('CGTAACCAGGTTTCCGTAGGTGGACCTTCGGGAGGATCATTTTTGAGATCACAT...GCA')\n",
      "745\n",
      "gi|2765579|emb|Z78454.1|PFZ78454\n",
      "Seq('CGTAACAAGGTTTCCGTAGGTGAACCTGCGGAAGGATCATTGTTGAGATCACAT...AAC')\n",
      "695\n",
      "gi|2765578|emb|Z78453.1|PSZ78453\n",
      "Seq('CGTAACAAGGTTTCCGTAGGTGAACCTGCGGAAGGATCATTGTTGAGATCACAT...GCA')\n",
      "745\n",
      "gi|2765577|emb|Z78452.1|PBZ78452\n",
      "Seq('CGTAACAAGGTTTCCGTAGGTGAACCTGCGGAAGGATCATTGTTGAGATCACAT...GCA')\n",
      "743\n",
      "gi|2765576|emb|Z78451.1|PHZ78451\n",
      "Seq('CGTAACAAGGTTTCCGTAGGTGTACCTCCGGAAGGATCATTGTTGAGATCACAT...AGC')\n",
      "730\n",
      "gi|2765575|emb|Z78450.1|PPZ78450\n",
      "Seq('GGAAGGATCATTGCTGATATCACATAATAATTGATCGAGTTAAGCTGGAGGATC...GAG')\n",
      "706\n",
      "gi|2765574|emb|Z78449.1|PMZ78449\n",
      "Seq('CGTAACAAGGTTTCCGTAGGTGAACCTGCGGAAGGATCATTGTTGAGATCACAT...TGC')\n",
      "744\n",
      "gi|2765573|emb|Z78448.1|PAZ78448\n",
      "Seq('CGTAACAAGGTTTCCGTAGGTGAACCTGCGGAAGGATCATTGTTGAGATCACAT...AGG')\n",
      "742\n",
      "gi|2765572|emb|Z78447.1|PVZ78447\n",
      "Seq('CGTAACAAGGATTCCGTAGGTGAACCTGCGGGAGGATCATTGTTGAGATCACAT...AGC')\n",
      "694\n",
      "gi|2765571|emb|Z78446.1|PAZ78446\n",
      "Seq('CGTAACAAGGTTTCCGTAGGTGAACCTCCGGAAGGATCATTGTTGAGATCACAT...CCC')\n",
      "712\n",
      "gi|2765570|emb|Z78445.1|PUZ78445\n",
      "Seq('CGTAACAAGGTTTCCGTAGGTGAACCTGCGGAAGGATCATTGTTGAGATCACAT...TGT')\n",
      "715\n",
      "gi|2765569|emb|Z78444.1|PAZ78444\n",
      "Seq('CGTAACAAGGTTTCCGTAGGGTGAACTGCGGAAGGATCATTGTTGAGATCACAT...ATT')\n",
      "688\n",
      "gi|2765568|emb|Z78443.1|PLZ78443\n",
      "Seq('CGTAACAAGGTTTCCGTAGGTGAACCTGCGGAAGGATCATTGTTGAGATCACAT...AGG')\n",
      "784\n",
      "gi|2765567|emb|Z78442.1|PBZ78442\n",
      "Seq('GTAGGTGAACCTGCGGAAGGATCATTGTTGAGATCACATAATAATTGATCGAGT...AGT')\n",
      "721\n",
      "gi|2765566|emb|Z78441.1|PSZ78441\n",
      "Seq('GGAAGGTCATTGCCGATATCACATAATAATTGATCGAGTTAATCTGGAGGATCT...GAG')\n",
      "703\n",
      "gi|2765565|emb|Z78440.1|PPZ78440\n",
      "Seq('CGTAACAAGGTTTCCGTAGGTGGACCTCCGGGAGGATCATTGTTGAGATCACAT...GCA')\n",
      "744\n",
      "gi|2765564|emb|Z78439.1|PBZ78439\n",
      "Seq('CATTGTTGAGATCACATAATAATTGATCGAGTTAATCTGGAGGATCTGTTTACT...GCC')\n",
      "592\n"
     ]
    }
   ],
   "source": [
    "from Bio import SeqIO\n",
    "\n",
    "for seq_record in SeqIO.parse('ls_orchid.fasta', 'fasta'):  # to load a GenBank file, just change the file and format\n",
    "    print(seq_record.id)\n",
    "    print(repr(seq_record.seq))\n",
    "    print(len(seq_record))"
   ]
  },
  {
   "cell_type": "code",
   "execution_count": 3,
   "metadata": {},
   "outputs": [
    {
     "data": {
      "text/plain": [
       "['gi|2765658|emb|Z78533.1|CIZ78533',\n",
       " 'gi|2765657|emb|Z78532.1|CCZ78532',\n",
       " 'gi|2765656|emb|Z78531.1|CFZ78531',\n",
       " 'gi|2765655|emb|Z78530.1|CMZ78530',\n",
       " 'gi|2765654|emb|Z78529.1|CLZ78529',\n",
       " 'gi|2765652|emb|Z78527.1|CYZ78527',\n",
       " 'gi|2765651|emb|Z78526.1|CGZ78526',\n",
       " 'gi|2765650|emb|Z78525.1|CAZ78525',\n",
       " 'gi|2765649|emb|Z78524.1|CFZ78524',\n",
       " 'gi|2765648|emb|Z78523.1|CHZ78523',\n",
       " 'gi|2765647|emb|Z78522.1|CMZ78522',\n",
       " 'gi|2765646|emb|Z78521.1|CCZ78521',\n",
       " 'gi|2765645|emb|Z78520.1|CSZ78520',\n",
       " 'gi|2765644|emb|Z78519.1|CPZ78519',\n",
       " 'gi|2765643|emb|Z78518.1|CRZ78518',\n",
       " 'gi|2765642|emb|Z78517.1|CFZ78517',\n",
       " 'gi|2765641|emb|Z78516.1|CPZ78516',\n",
       " 'gi|2765640|emb|Z78515.1|MXZ78515',\n",
       " 'gi|2765639|emb|Z78514.1|PSZ78514',\n",
       " 'gi|2765638|emb|Z78513.1|PBZ78513',\n",
       " 'gi|2765637|emb|Z78512.1|PWZ78512',\n",
       " 'gi|2765636|emb|Z78511.1|PEZ78511',\n",
       " 'gi|2765635|emb|Z78510.1|PCZ78510',\n",
       " 'gi|2765634|emb|Z78509.1|PPZ78509',\n",
       " 'gi|2765633|emb|Z78508.1|PLZ78508',\n",
       " 'gi|2765632|emb|Z78507.1|PLZ78507',\n",
       " 'gi|2765631|emb|Z78506.1|PLZ78506',\n",
       " 'gi|2765630|emb|Z78505.1|PSZ78505',\n",
       " 'gi|2765629|emb|Z78504.1|PKZ78504',\n",
       " 'gi|2765628|emb|Z78503.1|PCZ78503',\n",
       " 'gi|2765627|emb|Z78502.1|PBZ78502',\n",
       " 'gi|2765626|emb|Z78501.1|PCZ78501',\n",
       " 'gi|2765625|emb|Z78500.1|PWZ78500',\n",
       " 'gi|2765624|emb|Z78499.1|PMZ78499',\n",
       " 'gi|2765623|emb|Z78498.1|PMZ78498',\n",
       " 'gi|2765622|emb|Z78497.1|PDZ78497',\n",
       " 'gi|2765621|emb|Z78496.1|PAZ78496',\n",
       " 'gi|2765620|emb|Z78495.1|PEZ78495',\n",
       " 'gi|2765619|emb|Z78494.1|PNZ78494',\n",
       " 'gi|2765618|emb|Z78493.1|PGZ78493',\n",
       " 'gi|2765617|emb|Z78492.1|PBZ78492',\n",
       " 'gi|2765616|emb|Z78491.1|PCZ78491',\n",
       " 'gi|2765615|emb|Z78490.1|PFZ78490',\n",
       " 'gi|2765614|emb|Z78489.1|PDZ78489',\n",
       " 'gi|2765613|emb|Z78488.1|PTZ78488',\n",
       " 'gi|2765612|emb|Z78487.1|PHZ78487',\n",
       " 'gi|2765611|emb|Z78486.1|PBZ78486',\n",
       " 'gi|2765610|emb|Z78485.1|PHZ78485',\n",
       " 'gi|2765609|emb|Z78484.1|PCZ78484',\n",
       " 'gi|2765608|emb|Z78483.1|PVZ78483',\n",
       " 'gi|2765607|emb|Z78482.1|PEZ78482',\n",
       " 'gi|2765606|emb|Z78481.1|PIZ78481',\n",
       " 'gi|2765605|emb|Z78480.1|PGZ78480',\n",
       " 'gi|2765604|emb|Z78479.1|PPZ78479',\n",
       " 'gi|2765603|emb|Z78478.1|PVZ78478',\n",
       " 'gi|2765602|emb|Z78477.1|PVZ78477',\n",
       " 'gi|2765601|emb|Z78476.1|PGZ78476',\n",
       " 'gi|2765600|emb|Z78475.1|PSZ78475',\n",
       " 'gi|2765599|emb|Z78474.1|PKZ78474',\n",
       " 'gi|2765598|emb|Z78473.1|PSZ78473',\n",
       " 'gi|2765597|emb|Z78472.1|PLZ78472',\n",
       " 'gi|2765596|emb|Z78471.1|PDZ78471',\n",
       " 'gi|2765595|emb|Z78470.1|PPZ78470',\n",
       " 'gi|2765594|emb|Z78469.1|PHZ78469',\n",
       " 'gi|2765593|emb|Z78468.1|PAZ78468',\n",
       " 'gi|2765592|emb|Z78467.1|PSZ78467',\n",
       " 'gi|2765591|emb|Z78466.1|PPZ78466',\n",
       " 'gi|2765590|emb|Z78465.1|PRZ78465',\n",
       " 'gi|2765589|emb|Z78464.1|PGZ78464',\n",
       " 'gi|2765588|emb|Z78463.1|PGZ78463',\n",
       " 'gi|2765587|emb|Z78462.1|PSZ78462',\n",
       " 'gi|2765586|emb|Z78461.1|PWZ78461',\n",
       " 'gi|2765585|emb|Z78460.1|PCZ78460',\n",
       " 'gi|2765584|emb|Z78459.1|PDZ78459',\n",
       " 'gi|2765583|emb|Z78458.1|PHZ78458',\n",
       " 'gi|2765582|emb|Z78457.1|PCZ78457',\n",
       " 'gi|2765581|emb|Z78456.1|PTZ78456',\n",
       " 'gi|2765580|emb|Z78455.1|PJZ78455',\n",
       " 'gi|2765579|emb|Z78454.1|PFZ78454',\n",
       " 'gi|2765578|emb|Z78453.1|PSZ78453',\n",
       " 'gi|2765577|emb|Z78452.1|PBZ78452',\n",
       " 'gi|2765576|emb|Z78451.1|PHZ78451',\n",
       " 'gi|2765575|emb|Z78450.1|PPZ78450',\n",
       " 'gi|2765574|emb|Z78449.1|PMZ78449',\n",
       " 'gi|2765573|emb|Z78448.1|PAZ78448',\n",
       " 'gi|2765572|emb|Z78447.1|PVZ78447',\n",
       " 'gi|2765571|emb|Z78446.1|PAZ78446',\n",
       " 'gi|2765570|emb|Z78445.1|PUZ78445',\n",
       " 'gi|2765569|emb|Z78444.1|PAZ78444',\n",
       " 'gi|2765568|emb|Z78443.1|PLZ78443',\n",
       " 'gi|2765567|emb|Z78442.1|PBZ78442',\n",
       " 'gi|2765566|emb|Z78441.1|PSZ78441',\n",
       " 'gi|2765565|emb|Z78440.1|PPZ78440',\n",
       " 'gi|2765564|emb|Z78439.1|PBZ78439']"
      ]
     },
     "execution_count": 3,
     "metadata": {},
     "output_type": "execute_result"
    }
   ],
   "source": [
    "# another common way within a list comprehension\n",
    "\n",
    "from Bio import SeqIO\n",
    "identifiers = [seq_record.id for seq_record in SeqIO.parse('ls_orchid.fasta', 'fasta')]\n",
    "identifiers"
   ]
  },
  {
   "cell_type": "code",
   "execution_count": 6,
   "metadata": {},
   "outputs": [
    {
     "name": "stdout",
     "output_type": "stream",
     "text": [
      "first record: ID: gi|2765658|emb|Z78533.1|CIZ78533\n",
      "Name: gi|2765658|emb|Z78533.1|CIZ78533\n",
      "Description: gi|2765658|emb|Z78533.1|CIZ78533 C.irapeanum 5.8S rRNA gene and ITS1 and ITS2 DNA\n",
      "Number of features: 0\n",
      "Seq('CGTAACAAGGTTTCCGTAGGTGAACCTGCGGAAGGATCATTGATGAGACCGTGG...CGC')\n",
      "\n",
      "gi|2765658|emb|Z78533.1|CIZ78533\n",
      "gi|2765658|emb|Z78533.1|CIZ78533 C.irapeanum 5.8S rRNA gene and ITS1 and ITS2 DNA\n",
      "\n",
      "gi|2765657|emb|Z78532.1|CCZ78532\n",
      "gi|2765657|emb|Z78532.1|CCZ78532 C.californicum 5.8S rRNA gene and ITS1 and ITS2 DNA\n"
     ]
    }
   ],
   "source": [
    "# using next() function on an iterator to step through the entries\n",
    "from Bio import SeqIO\n",
    "record_iterator = SeqIO.parse('ls_orchid.fasta', 'fasta')\n",
    "first_record = next(record_iterator)\n",
    "print(f'first record: {first_record}')\n",
    "print()\n",
    "print(first_record.id)\n",
    "print(first_record.description)\n",
    "print()\n",
    "second_record = next(record_iterator)\n",
    "print(second_record.id)\n",
    "print(second_record.description)"
   ]
  },
  {
   "cell_type": "markdown",
   "metadata": {},
   "source": [
    "#### One special case to consider is when your sequence files have multiple records, but you only want the first one. In this situation the following code is very concise"
   ]
  },
  {
   "cell_type": "code",
   "execution_count": 8,
   "metadata": {},
   "outputs": [
    {
     "name": "stdout",
     "output_type": "stream",
     "text": [
      "ID: Z78533.1\n",
      "Name: Z78533\n",
      "Description: C.irapeanum 5.8S rRNA gene and ITS1 and ITS2 DNA\n",
      "Number of features: 5\n",
      "/molecule_type=DNA\n",
      "/topology=linear\n",
      "/data_file_division=PLN\n",
      "/date=30-NOV-2006\n",
      "/accessions=['Z78533']\n",
      "/sequence_version=1\n",
      "/gi=2765658\n",
      "/keywords=['5.8S ribosomal RNA', '5.8S rRNA gene', 'internal transcribed spacer', 'ITS1', 'ITS2']\n",
      "/source=Cypripedium irapeanum\n",
      "/organism=Cypripedium irapeanum\n",
      "/taxonomy=['Eukaryota', 'Viridiplantae', 'Streptophyta', 'Embryophyta', 'Tracheophyta', 'Spermatophyta', 'Magnoliophyta', 'Liliopsida', 'Asparagales', 'Orchidaceae', 'Cypripedioideae', 'Cypripedium']\n",
      "/references=[Reference(title='Phylogenetics of the slipper orchids (Cypripedioideae: Orchidaceae): nuclear rDNA ITS sequences', ...), Reference(title='Direct Submission', ...)]\n",
      "Seq('CGTAACAAGGTTTCCGTAGGTGAACCTGCGGAAGGATCATTGATGAGACCGTGG...CGC')\n"
     ]
    }
   ],
   "source": [
    "from Bio import SeqIO\n",
    "first_record = next(SeqIO.parse('ls_orchid.gbk', 'genbank'))\n",
    "print(first_record)"
   ]
  },
  {
   "cell_type": "markdown",
   "metadata": {},
   "source": [
    "#### A word of warning here – using the next() function like this will silently ignore any additional records in the file. If your files have one and only one record, like some of the online examples later in this chapter, or a GenBank file for a single chromosome, then use the new Bio.SeqIO.read() function instead. This will check there are no extra unexpected records present."
   ]
  },
  {
   "cell_type": "markdown",
   "metadata": {},
   "source": [
    "#### Getting list of records in a sequence file"
   ]
  },
  {
   "cell_type": "code",
   "execution_count": 11,
   "metadata": {},
   "outputs": [
    {
     "name": "stdout",
     "output_type": "stream",
     "text": [
      "Found 94 records\n",
      "The last record\n",
      "Z78439.1\n",
      "Seq('CATTGTTGAGATCACATAATAATTGATCGAGTTAATCTGGAGGATCTGTTTACT...GCC')\n",
      "592\n",
      "Z78533.1\n",
      "Seq('CGTAACAAGGTTTCCGTAGGTGAACCTGCGGAAGGATCATTGATGAGACCGTGG...CGC')\n",
      "740\n"
     ]
    }
   ],
   "source": [
    "from Bio import SeqIO\n",
    "\n",
    "records = list(SeqIO.parse('ls_orchid.gbk', 'genbank'))\n",
    "print('Found %i records' % (len(records)))  # similar to f string\n",
    "\n",
    "print('The last record')\n",
    "last_record = records[-1]\n",
    "print(last_record.id)\n",
    "print(repr(last_record.seq))\n",
    "print(len(last_record))\n",
    "first_record = records[0]\n",
    "print(first_record.id)\n",
    "print(repr(first_record.seq))\n",
    "print(len(first_record))"
   ]
  },
  {
   "cell_type": "markdown",
   "metadata": {},
   "source": [
    "#### Extracting data"
   ]
  },
  {
   "cell_type": "code",
   "execution_count": 14,
   "metadata": {},
   "outputs": [
    {
     "name": "stdout",
     "output_type": "stream",
     "text": [
      "ID: Z78533.1\n",
      "Name: Z78533\n",
      "Description: C.irapeanum 5.8S rRNA gene and ITS1 and ITS2 DNA\n",
      "Number of features: 5\n",
      "/molecule_type=DNA\n",
      "/topology=linear\n",
      "/data_file_division=PLN\n",
      "/date=30-NOV-2006\n",
      "/accessions=['Z78533']\n",
      "/sequence_version=1\n",
      "/gi=2765658\n",
      "/keywords=['5.8S ribosomal RNA', '5.8S rRNA gene', 'internal transcribed spacer', 'ITS1', 'ITS2']\n",
      "/source=Cypripedium irapeanum\n",
      "/organism=Cypripedium irapeanum\n",
      "/taxonomy=['Eukaryota', 'Viridiplantae', 'Streptophyta', 'Embryophyta', 'Tracheophyta', 'Spermatophyta', 'Magnoliophyta', 'Liliopsida', 'Asparagales', 'Orchidaceae', 'Cypripedioideae', 'Cypripedium']\n",
      "/references=[Reference(title='Phylogenetics of the slipper orchids (Cypripedioideae: Orchidaceae): nuclear rDNA ITS sequences', ...), Reference(title='Direct Submission', ...)]\n",
      "Seq('CGTAACAAGGTTTCCGTAGGTGAACCTGCGGAAGGATCATTGATGAGACCGTGG...CGC')\n",
      "\n",
      "{'molecule_type': 'DNA', 'topology': 'linear', 'data_file_division': 'PLN', 'date': '30-NOV-2006', 'accessions': ['Z78533'], 'sequence_version': 1, 'gi': '2765658', 'keywords': ['5.8S ribosomal RNA', '5.8S rRNA gene', 'internal transcribed spacer', 'ITS1', 'ITS2'], 'source': 'Cypripedium irapeanum', 'organism': 'Cypripedium irapeanum', 'taxonomy': ['Eukaryota', 'Viridiplantae', 'Streptophyta', 'Embryophyta', 'Tracheophyta', 'Spermatophyta', 'Magnoliophyta', 'Liliopsida', 'Asparagales', 'Orchidaceae', 'Cypripedioideae', 'Cypripedium'], 'references': [Reference(title='Phylogenetics of the slipper orchids (Cypripedioideae: Orchidaceae): nuclear rDNA ITS sequences', ...), Reference(title='Direct Submission', ...)]}\n",
      "keys: dict_keys(['molecule_type', 'topology', 'data_file_division', 'date', 'accessions', 'sequence_version', 'gi', 'keywords', 'source', 'organism', 'taxonomy', 'references'])\n",
      "values: dict_values(['DNA', 'linear', 'PLN', '30-NOV-2006', ['Z78533'], 1, '2765658', ['5.8S ribosomal RNA', '5.8S rRNA gene', 'internal transcribed spacer', 'ITS1', 'ITS2'], 'Cypripedium irapeanum', 'Cypripedium irapeanum', ['Eukaryota', 'Viridiplantae', 'Streptophyta', 'Embryophyta', 'Tracheophyta', 'Spermatophyta', 'Magnoliophyta', 'Liliopsida', 'Asparagales', 'Orchidaceae', 'Cypripedioideae', 'Cypripedium'], [Reference(title='Phylogenetics of the slipper orchids (Cypripedioideae: Orchidaceae): nuclear rDNA ITS sequences', ...), Reference(title='Direct Submission', ...)]])\n",
      "\n",
      "Cypripedium irapeanum\n"
     ]
    }
   ],
   "source": [
    "record_iterator = SeqIO.parse('ls_orchid.gbk', 'genbank')\n",
    "first_record = next(record_iterator)\n",
    "print(first_record)\n",
    "print()\n",
    "print(first_record.annotations)\n",
    "print(f'keys: {first_record.annotations.keys()}')\n",
    "print(f'values: {first_record.annotations.values()}')\n",
    "print()\n",
    "print(first_record.annotations['source'])"
   ]
  },
  {
   "cell_type": "code",
   "execution_count": 15,
   "metadata": {},
   "outputs": [
    {
     "name": "stdout",
     "output_type": "stream",
     "text": [
      "['Cypripedium irapeanum', 'Cypripedium californicum', 'Cypripedium fasciculatum', 'Cypripedium margaritaceum', 'Cypripedium lichiangense', 'Cypripedium yatabeanum', 'Cypripedium guttatum', 'Cypripedium acaule', 'Cypripedium formosanum', 'Cypripedium himalaicum', 'Cypripedium macranthon', 'Cypripedium calceolus', 'Cypripedium segawai', 'Cypripedium parviflorum var. pubescens', 'Cypripedium reginae', 'Cypripedium flavum', 'Cypripedium passerinum', 'Mexipedium xerophyticum', 'Phragmipedium schlimii', 'Phragmipedium besseae', 'Phragmipedium wallisii', 'Phragmipedium exstaminodium', 'Phragmipedium caricinum', 'Phragmipedium pearcei', 'Phragmipedium longifolium', 'Phragmipedium lindenii', 'Phragmipedium lindleyanum', 'Phragmipedium sargentianum', 'Phragmipedium kaiteurum', 'Phragmipedium czerwiakowianum', 'Phragmipedium boissierianum', 'Phragmipedium caudatum', 'Phragmipedium warszewiczianum', 'Paphiopedilum micranthum', 'Paphiopedilum malipoense', 'Paphiopedilum delenatii', 'Paphiopedilum armeniacum', 'Paphiopedilum emersonii', 'Paphiopedilum niveum', 'Paphiopedilum godefroyae', 'Paphiopedilum bellatulum', 'Paphiopedilum concolor', 'Paphiopedilum fairrieanum', 'Paphiopedilum druryi', 'Paphiopedilum tigrinum', 'Paphiopedilum hirsutissimum', 'Paphiopedilum barbigerum', 'Paphiopedilum henryanum', 'Paphiopedilum charlesworthii', 'Paphiopedilum villosum', 'Paphiopedilum exul', 'Paphiopedilum insigne', 'Paphiopedilum gratrixianum', 'Paphiopedilum primulinum', 'Paphiopedilum victoria', 'Paphiopedilum victoria', 'Paphiopedilum glaucophyllum', 'Paphiopedilum supardii', 'Paphiopedilum kolopakingii', 'Paphiopedilum sanderianum', 'Paphiopedilum lowii', 'Paphiopedilum dianthum', 'Paphiopedilum parishii', 'Paphiopedilum haynaldianum', 'Paphiopedilum adductum', 'Paphiopedilum stonei', 'Paphiopedilum philippinense', 'Paphiopedilum rothschildianum', 'Paphiopedilum glanduliferum', 'Paphiopedilum glanduliferum', 'Paphiopedilum sukhakulii', 'Paphiopedilum wardii', 'Paphiopedilum ciliolare', 'Paphiopedilum dayanum', 'Paphiopedilum hennisianum', 'Paphiopedilum callosum', 'Paphiopedilum tonsum', 'Paphiopedilum javanicum', 'Paphiopedilum fowliei', 'Paphiopedilum schoseri', 'Paphiopedilum bougainvilleanum', 'Paphiopedilum hookerae', 'Paphiopedilum papuanum', 'Paphiopedilum mastersianum', 'Paphiopedilum argus', 'Paphiopedilum venustum', 'Paphiopedilum acmodontum', 'Paphiopedilum urbanianum', 'Paphiopedilum appletonianum', 'Paphiopedilum lawrenceanum', 'Paphiopedilum bullenianum', 'Paphiopedilum superbiens', 'Paphiopedilum purpuratum', 'Paphiopedilum barbatum']\n"
     ]
    }
   ],
   "source": [
    "# go through all the records, building up a list of the species each orchid sequence is from\n",
    "from Bio import SeqIO\n",
    "\n",
    "all_species = []\n",
    "for seq_record in SeqIO.parse('ls_orchid.gbk', 'genbank'):\n",
    "    all_species.append(seq_record.annotations['organism'])\n",
    "print(all_species)"
   ]
  },
  {
   "cell_type": "code",
   "execution_count": 16,
   "metadata": {},
   "outputs": [
    {
     "name": "stdout",
     "output_type": "stream",
     "text": [
      "using list comprehension: ['Cypripedium irapeanum', 'Cypripedium californicum', 'Cypripedium fasciculatum', 'Cypripedium margaritaceum', 'Cypripedium lichiangense', 'Cypripedium yatabeanum', 'Cypripedium guttatum', 'Cypripedium acaule', 'Cypripedium formosanum', 'Cypripedium himalaicum', 'Cypripedium macranthon', 'Cypripedium calceolus', 'Cypripedium segawai', 'Cypripedium parviflorum var. pubescens', 'Cypripedium reginae', 'Cypripedium flavum', 'Cypripedium passerinum', 'Mexipedium xerophyticum', 'Phragmipedium schlimii', 'Phragmipedium besseae', 'Phragmipedium wallisii', 'Phragmipedium exstaminodium', 'Phragmipedium caricinum', 'Phragmipedium pearcei', 'Phragmipedium longifolium', 'Phragmipedium lindenii', 'Phragmipedium lindleyanum', 'Phragmipedium sargentianum', 'Phragmipedium kaiteurum', 'Phragmipedium czerwiakowianum', 'Phragmipedium boissierianum', 'Phragmipedium caudatum', 'Phragmipedium warszewiczianum', 'Paphiopedilum micranthum', 'Paphiopedilum malipoense', 'Paphiopedilum delenatii', 'Paphiopedilum armeniacum', 'Paphiopedilum emersonii', 'Paphiopedilum niveum', 'Paphiopedilum godefroyae', 'Paphiopedilum bellatulum', 'Paphiopedilum concolor', 'Paphiopedilum fairrieanum', 'Paphiopedilum druryi', 'Paphiopedilum tigrinum', 'Paphiopedilum hirsutissimum', 'Paphiopedilum barbigerum', 'Paphiopedilum henryanum', 'Paphiopedilum charlesworthii', 'Paphiopedilum villosum', 'Paphiopedilum exul', 'Paphiopedilum insigne', 'Paphiopedilum gratrixianum', 'Paphiopedilum primulinum', 'Paphiopedilum victoria', 'Paphiopedilum victoria', 'Paphiopedilum glaucophyllum', 'Paphiopedilum supardii', 'Paphiopedilum kolopakingii', 'Paphiopedilum sanderianum', 'Paphiopedilum lowii', 'Paphiopedilum dianthum', 'Paphiopedilum parishii', 'Paphiopedilum haynaldianum', 'Paphiopedilum adductum', 'Paphiopedilum stonei', 'Paphiopedilum philippinense', 'Paphiopedilum rothschildianum', 'Paphiopedilum glanduliferum', 'Paphiopedilum glanduliferum', 'Paphiopedilum sukhakulii', 'Paphiopedilum wardii', 'Paphiopedilum ciliolare', 'Paphiopedilum dayanum', 'Paphiopedilum hennisianum', 'Paphiopedilum callosum', 'Paphiopedilum tonsum', 'Paphiopedilum javanicum', 'Paphiopedilum fowliei', 'Paphiopedilum schoseri', 'Paphiopedilum bougainvilleanum', 'Paphiopedilum hookerae', 'Paphiopedilum papuanum', 'Paphiopedilum mastersianum', 'Paphiopedilum argus', 'Paphiopedilum venustum', 'Paphiopedilum acmodontum', 'Paphiopedilum urbanianum', 'Paphiopedilum appletonianum', 'Paphiopedilum lawrenceanum', 'Paphiopedilum bullenianum', 'Paphiopedilum superbiens', 'Paphiopedilum purpuratum', 'Paphiopedilum barbatum']\n"
     ]
    }
   ],
   "source": [
    "# another way using list comprehension\n",
    "all_species = [seq_record.annotations['organism'] for seq_record in SeqIO.parse('ls_orchid.gbk', 'genbank')]\n",
    "print(f'using list comprehension: {all_species}')"
   ]
  },
  {
   "cell_type": "code",
   "execution_count": 17,
   "metadata": {},
   "outputs": [
    {
     "name": "stdout",
     "output_type": "stream",
     "text": [
      "['C.irapeanum', 'C.californicum', 'C.fasciculatum', 'C.margaritaceum', 'C.lichiangense', 'C.yatabeanum', 'C.guttatum', 'C.acaule', 'C.formosanum', 'C.himalaicum', 'C.macranthum', 'C.calceolus', 'C.segawai', 'C.pubescens', 'C.reginae', 'C.flavum', 'C.passerinum', 'M.xerophyticum', 'P.schlimii', 'P.besseae', 'P.wallisii', 'P.exstaminodium', 'P.caricinum', 'P.pearcei', 'P.longifolium', 'P.lindenii', 'P.lindleyanum', 'P.sargentianum', 'P.kaiteurum', 'P.czerwiakowianum', 'P.boissierianum', 'P.caudatum', 'P.warszewiczianum', 'P.micranthum', 'P.malipoense', 'P.delenatii', 'P.armeniacum', 'P.emersonii', 'P.niveum', 'P.godefroyae', 'P.bellatulum', 'P.concolor', 'P.fairrieanum', 'P.druryi', 'P.tigrinum', 'P.hirsutissimum', 'P.barbigerum', 'P.henryanum', 'P.charlesworthii', 'P.villosum', 'P.exul', 'P.insigne', 'P.gratrixianum', 'P.primulinum', 'P.victoria', 'P.victoria', 'P.glaucophyllum', 'P.supardii', 'P.kolopakingii', 'P.sanderianum', 'P.lowii', 'P.dianthum', 'P.parishii', 'P.haynaldianum', 'P.adductum', 'P.stonei', 'P.philippinense', 'P.rothschildianum', 'P.glanduliferum', 'P.glanduliferum', 'P.sukhakulii', 'P.wardii', 'P.ciliolare', 'P.dayanum', 'P.hennisianum', 'P.callosum', 'P.tonsum', 'P.javanicum', 'P.fowliei', 'P.schoseri', 'P.bougainvilleanum', 'P.hookerae', 'P.papuanum', 'P.mastersianum', 'P.argus', 'P.venustum', 'P.acmodontum', 'P.urbanianum', 'P.appletonianum', 'P.lawrenceanum', 'P.bullenianum', 'P.superbiens', 'P.purpuratum', 'P.barbatum']\n"
     ]
    }
   ],
   "source": [
    "# extracting data from a FASTA file\n",
    "all_species = []\n",
    "for seq_record in SeqIO.parse('ls_orchid.fasta', 'fasta'):\n",
    "    all_species.append(seq_record.description.split()[1])\n",
    "print(all_species)"
   ]
  },
  {
   "cell_type": "code",
   "execution_count": 18,
   "metadata": {},
   "outputs": [
    {
     "name": "stdout",
     "output_type": "stream",
     "text": [
      "from FASTA file using list comprehension: ['C.irapeanum', 'C.californicum', 'C.fasciculatum', 'C.margaritaceum', 'C.lichiangense', 'C.yatabeanum', 'C.guttatum', 'C.acaule', 'C.formosanum', 'C.himalaicum', 'C.macranthum', 'C.calceolus', 'C.segawai', 'C.pubescens', 'C.reginae', 'C.flavum', 'C.passerinum', 'M.xerophyticum', 'P.schlimii', 'P.besseae', 'P.wallisii', 'P.exstaminodium', 'P.caricinum', 'P.pearcei', 'P.longifolium', 'P.lindenii', 'P.lindleyanum', 'P.sargentianum', 'P.kaiteurum', 'P.czerwiakowianum', 'P.boissierianum', 'P.caudatum', 'P.warszewiczianum', 'P.micranthum', 'P.malipoense', 'P.delenatii', 'P.armeniacum', 'P.emersonii', 'P.niveum', 'P.godefroyae', 'P.bellatulum', 'P.concolor', 'P.fairrieanum', 'P.druryi', 'P.tigrinum', 'P.hirsutissimum', 'P.barbigerum', 'P.henryanum', 'P.charlesworthii', 'P.villosum', 'P.exul', 'P.insigne', 'P.gratrixianum', 'P.primulinum', 'P.victoria', 'P.victoria', 'P.glaucophyllum', 'P.supardii', 'P.kolopakingii', 'P.sanderianum', 'P.lowii', 'P.dianthum', 'P.parishii', 'P.haynaldianum', 'P.adductum', 'P.stonei', 'P.philippinense', 'P.rothschildianum', 'P.glanduliferum', 'P.glanduliferum', 'P.sukhakulii', 'P.wardii', 'P.ciliolare', 'P.dayanum', 'P.hennisianum', 'P.callosum', 'P.tonsum', 'P.javanicum', 'P.fowliei', 'P.schoseri', 'P.bougainvilleanum', 'P.hookerae', 'P.papuanum', 'P.mastersianum', 'P.argus', 'P.venustum', 'P.acmodontum', 'P.urbanianum', 'P.appletonianum', 'P.lawrenceanum', 'P.bullenianum', 'P.superbiens', 'P.purpuratum', 'P.barbatum']\n"
     ]
    }
   ],
   "source": [
    "# extracting data from a FASTA file using list comprehension\n",
    "all_species = [seq_record.description.split()[1] for seq_record in SeqIO.parse('ls_orchid.fasta', 'fasta')]\n",
    "print(f'from FASTA file using list comprehension: {all_species}')"
   ]
  },
  {
   "cell_type": "markdown",
   "metadata": {},
   "source": [
    "#### Annotation information is much easier to deal with if we can get our sequences from GenBank or EMBL"
   ]
  },
  {
   "cell_type": "markdown",
   "metadata": {},
   "source": [
    "#### Modifying data"
   ]
  },
  {
   "cell_type": "code",
   "execution_count": 22,
   "metadata": {},
   "outputs": [
    {
     "name": "stdout",
     "output_type": "stream",
     "text": [
      "first_record.id before: gi|2765658|emb|Z78533.1|CIZ78533\n",
      "first_record.id after: new_id\n"
     ]
    }
   ],
   "source": [
    "from Bio import SeqIO\n",
    "record_iterator = SeqIO.parse('ls_orchid.fasta', 'fasta')\n",
    "first_record = next(record_iterator)\n",
    "print(f'first_record.id before: {first_record.id}')\n",
    "first_record.id = 'new_id'\n",
    "print(f'first_record.id after: {first_record.id}')"
   ]
  },
  {
   "cell_type": "markdown",
   "metadata": {},
   "source": [
    "#### Parsing sequences from compresed files"
   ]
  },
  {
   "cell_type": "code",
   "execution_count": 23,
   "metadata": {},
   "outputs": [
    {
     "name": "stdout",
     "output_type": "stream",
     "text": [
      "67518\n"
     ]
    }
   ],
   "source": [
    "# calculate the total length of the sequences in a multiple record GenBank file using a generator expression\n",
    "from Bio import SeqIO\n",
    "print(sum(len(r) for r in SeqIO.parse('ls_orchid.gbk', 'gb')))"
   ]
  },
  {
   "cell_type": "code",
   "execution_count": 24,
   "metadata": {},
   "outputs": [
    {
     "name": "stdout",
     "output_type": "stream",
     "text": [
      "67518\n"
     ]
    }
   ],
   "source": [
    "# calculate the total length of the sequences in a multiple record GenBank file using with statement and file handle\n",
    "from Bio import SeqIO\n",
    "with open('ls_orchid.gbk') as handle:\n",
    "    print(sum(len(r) for r in SeqIO.parse(handle, 'gb')))"
   ]
  },
  {
   "cell_type": "code",
   "execution_count": 25,
   "metadata": {},
   "outputs": [
    {
     "name": "stdout",
     "output_type": "stream",
     "text": [
      "67518\n"
     ]
    }
   ],
   "source": [
    "# calculate the total length of the sequences in a multiple record GenBank file old fastioned way (closing the file)\n",
    "from Bio import SeqIO\n",
    "handle = open('ls_orchid.gbk')\n",
    "print(sum(len(r) for r in SeqIO.parse(handle, 'gb')))\n",
    "handle.close()"
   ]
  },
  {
   "cell_type": "code",
   "execution_count": 27,
   "metadata": {},
   "outputs": [
    {
     "ename": "FileNotFoundError",
     "evalue": "[Errno 2] No such file or directory: 'ls_orchid.gbk.gz'",
     "output_type": "error",
     "traceback": [
      "\u001b[1;31m---------------------------------------------------------------------------\u001b[0m",
      "\u001b[1;31mFileNotFoundError\u001b[0m                         Traceback (most recent call last)",
      "\u001b[1;32m<ipython-input-27-ccf0e133c015>\u001b[0m in \u001b[0;36m<module>\u001b[1;34m\u001b[0m\n\u001b[0;32m      1\u001b[0m \u001b[1;31m# gzip compressed file\u001b[0m\u001b[1;33m\u001b[0m\u001b[1;33m\u001b[0m\u001b[1;33m\u001b[0m\u001b[0m\n\u001b[0;32m      2\u001b[0m \u001b[1;32mimport\u001b[0m \u001b[0mgzip\u001b[0m\u001b[1;33m\u001b[0m\u001b[1;33m\u001b[0m\u001b[0m\n\u001b[1;32m----> 3\u001b[1;33m \u001b[1;32mwith\u001b[0m \u001b[0mgzip\u001b[0m\u001b[1;33m.\u001b[0m\u001b[0mopen\u001b[0m\u001b[1;33m(\u001b[0m\u001b[1;34m'ls_orchid.gbk.gz'\u001b[0m\u001b[1;33m,\u001b[0m \u001b[1;34m'rt'\u001b[0m\u001b[1;33m)\u001b[0m \u001b[1;32mas\u001b[0m \u001b[0mhandle\u001b[0m\u001b[1;33m:\u001b[0m\u001b[1;33m\u001b[0m\u001b[1;33m\u001b[0m\u001b[0m\n\u001b[0m\u001b[0;32m      4\u001b[0m     \u001b[0mprint\u001b[0m\u001b[1;33m(\u001b[0m\u001b[0msum\u001b[0m\u001b[1;33m(\u001b[0m\u001b[0mlen\u001b[0m\u001b[1;33m(\u001b[0m\u001b[0mr\u001b[0m\u001b[1;33m)\u001b[0m \u001b[1;32mfor\u001b[0m \u001b[0mr\u001b[0m \u001b[1;32min\u001b[0m \u001b[0mSeqIO\u001b[0m\u001b[1;33m.\u001b[0m\u001b[0mparse\u001b[0m\u001b[1;33m(\u001b[0m\u001b[0mhandle\u001b[0m\u001b[1;33m,\u001b[0m \u001b[1;34m'gb'\u001b[0m\u001b[1;33m)\u001b[0m\u001b[1;33m)\u001b[0m\u001b[1;33m)\u001b[0m\u001b[1;33m\u001b[0m\u001b[1;33m\u001b[0m\u001b[0m\n",
      "\u001b[1;32m~\\anaconda3\\lib\\gzip.py\u001b[0m in \u001b[0;36mopen\u001b[1;34m(filename, mode, compresslevel, encoding, errors, newline)\u001b[0m\n\u001b[0;32m     56\u001b[0m     \u001b[0mgz_mode\u001b[0m \u001b[1;33m=\u001b[0m \u001b[0mmode\u001b[0m\u001b[1;33m.\u001b[0m\u001b[0mreplace\u001b[0m\u001b[1;33m(\u001b[0m\u001b[1;34m\"t\"\u001b[0m\u001b[1;33m,\u001b[0m \u001b[1;34m\"\"\u001b[0m\u001b[1;33m)\u001b[0m\u001b[1;33m\u001b[0m\u001b[1;33m\u001b[0m\u001b[0m\n\u001b[0;32m     57\u001b[0m     \u001b[1;32mif\u001b[0m \u001b[0misinstance\u001b[0m\u001b[1;33m(\u001b[0m\u001b[0mfilename\u001b[0m\u001b[1;33m,\u001b[0m \u001b[1;33m(\u001b[0m\u001b[0mstr\u001b[0m\u001b[1;33m,\u001b[0m \u001b[0mbytes\u001b[0m\u001b[1;33m,\u001b[0m \u001b[0mos\u001b[0m\u001b[1;33m.\u001b[0m\u001b[0mPathLike\u001b[0m\u001b[1;33m)\u001b[0m\u001b[1;33m)\u001b[0m\u001b[1;33m:\u001b[0m\u001b[1;33m\u001b[0m\u001b[1;33m\u001b[0m\u001b[0m\n\u001b[1;32m---> 58\u001b[1;33m         \u001b[0mbinary_file\u001b[0m \u001b[1;33m=\u001b[0m \u001b[0mGzipFile\u001b[0m\u001b[1;33m(\u001b[0m\u001b[0mfilename\u001b[0m\u001b[1;33m,\u001b[0m \u001b[0mgz_mode\u001b[0m\u001b[1;33m,\u001b[0m \u001b[0mcompresslevel\u001b[0m\u001b[1;33m)\u001b[0m\u001b[1;33m\u001b[0m\u001b[1;33m\u001b[0m\u001b[0m\n\u001b[0m\u001b[0;32m     59\u001b[0m     \u001b[1;32melif\u001b[0m \u001b[0mhasattr\u001b[0m\u001b[1;33m(\u001b[0m\u001b[0mfilename\u001b[0m\u001b[1;33m,\u001b[0m \u001b[1;34m\"read\"\u001b[0m\u001b[1;33m)\u001b[0m \u001b[1;32mor\u001b[0m \u001b[0mhasattr\u001b[0m\u001b[1;33m(\u001b[0m\u001b[0mfilename\u001b[0m\u001b[1;33m,\u001b[0m \u001b[1;34m\"write\"\u001b[0m\u001b[1;33m)\u001b[0m\u001b[1;33m:\u001b[0m\u001b[1;33m\u001b[0m\u001b[1;33m\u001b[0m\u001b[0m\n\u001b[0;32m     60\u001b[0m         \u001b[0mbinary_file\u001b[0m \u001b[1;33m=\u001b[0m \u001b[0mGzipFile\u001b[0m\u001b[1;33m(\u001b[0m\u001b[1;32mNone\u001b[0m\u001b[1;33m,\u001b[0m \u001b[0mgz_mode\u001b[0m\u001b[1;33m,\u001b[0m \u001b[0mcompresslevel\u001b[0m\u001b[1;33m,\u001b[0m \u001b[0mfilename\u001b[0m\u001b[1;33m)\u001b[0m\u001b[1;33m\u001b[0m\u001b[1;33m\u001b[0m\u001b[0m\n",
      "\u001b[1;32m~\\anaconda3\\lib\\gzip.py\u001b[0m in \u001b[0;36m__init__\u001b[1;34m(self, filename, mode, compresslevel, fileobj, mtime)\u001b[0m\n\u001b[0;32m    171\u001b[0m             \u001b[0mmode\u001b[0m \u001b[1;33m+=\u001b[0m \u001b[1;34m'b'\u001b[0m\u001b[1;33m\u001b[0m\u001b[1;33m\u001b[0m\u001b[0m\n\u001b[0;32m    172\u001b[0m         \u001b[1;32mif\u001b[0m \u001b[0mfileobj\u001b[0m \u001b[1;32mis\u001b[0m \u001b[1;32mNone\u001b[0m\u001b[1;33m:\u001b[0m\u001b[1;33m\u001b[0m\u001b[1;33m\u001b[0m\u001b[0m\n\u001b[1;32m--> 173\u001b[1;33m             \u001b[0mfileobj\u001b[0m \u001b[1;33m=\u001b[0m \u001b[0mself\u001b[0m\u001b[1;33m.\u001b[0m\u001b[0mmyfileobj\u001b[0m \u001b[1;33m=\u001b[0m \u001b[0mbuiltins\u001b[0m\u001b[1;33m.\u001b[0m\u001b[0mopen\u001b[0m\u001b[1;33m(\u001b[0m\u001b[0mfilename\u001b[0m\u001b[1;33m,\u001b[0m \u001b[0mmode\u001b[0m \u001b[1;32mor\u001b[0m \u001b[1;34m'rb'\u001b[0m\u001b[1;33m)\u001b[0m\u001b[1;33m\u001b[0m\u001b[1;33m\u001b[0m\u001b[0m\n\u001b[0m\u001b[0;32m    174\u001b[0m         \u001b[1;32mif\u001b[0m \u001b[0mfilename\u001b[0m \u001b[1;32mis\u001b[0m \u001b[1;32mNone\u001b[0m\u001b[1;33m:\u001b[0m\u001b[1;33m\u001b[0m\u001b[1;33m\u001b[0m\u001b[0m\n\u001b[0;32m    175\u001b[0m             \u001b[0mfilename\u001b[0m \u001b[1;33m=\u001b[0m \u001b[0mgetattr\u001b[0m\u001b[1;33m(\u001b[0m\u001b[0mfileobj\u001b[0m\u001b[1;33m,\u001b[0m \u001b[1;34m'name'\u001b[0m\u001b[1;33m,\u001b[0m \u001b[1;34m''\u001b[0m\u001b[1;33m)\u001b[0m\u001b[1;33m\u001b[0m\u001b[1;33m\u001b[0m\u001b[0m\n",
      "\u001b[1;31mFileNotFoundError\u001b[0m: [Errno 2] No such file or directory: 'ls_orchid.gbk.gz'"
     ]
    }
   ],
   "source": [
    "# gzip compressed file\n",
    "import gzip\n",
    "with gzip.open('ls_orchid.gbk.gz', 'rt') as handle:\n",
    "    print(sum(len(r) for r in SeqIO.parse(handle, 'gb')))"
   ]
  },
  {
   "cell_type": "markdown",
   "metadata": {},
   "source": [
    "#### Parsing sequences from the net"
   ]
  },
  {
   "cell_type": "markdown",
   "metadata": {},
   "source": [
    "#### Note that just because you can download sequence data and parse it into a SeqRecord object in one go doesn’t mean this is a good idea. In general, you should probably download sequences once and save them to a file for reuse."
   ]
  },
  {
   "cell_type": "code",
   "execution_count": 28,
   "metadata": {},
   "outputs": [
    {
     "name": "stdout",
     "output_type": "stream",
     "text": [
      "AF191665.1 with 0 features\n"
     ]
    }
   ],
   "source": [
    "from Bio import Entrez\n",
    "from Bio import SeqIO\n",
    "\n",
    "Entrez.email = 'A.N.Other@example.com'\n",
    "with Entrez.efetch(db='nucleotide', rettype='fasta', retmode='text', id='6273291') as handle:\n",
    "    seq_record = SeqIO.read(handle, 'fasta')\n",
    "print('%s with %i features' % (seq_record.id, len(seq_record.features)))"
   ]
  },
  {
   "cell_type": "code",
   "execution_count": 30,
   "metadata": {},
   "outputs": [
    {
     "name": "stdout",
     "output_type": "stream",
     "text": [
      "AF191665.1 with 3 features\n"
     ]
    }
   ],
   "source": [
    "from Bio import Entrez\n",
    "from Bio import SeqIO\n",
    "\n",
    "Entrez.email = 'A.N.Other@example.com'\n",
    "with Entrez.efetch(db='nucleotide', rettype='gb', retmode='text', id='6273291') as handle:\n",
    "    seq_record = SeqIO.read(handle, 'gb')\n",
    "print('%s with %i features' % (seq_record.id, len(seq_record.features)))"
   ]
  },
  {
   "cell_type": "code",
   "execution_count": 34,
   "metadata": {},
   "outputs": [
    {
     "name": "stdout",
     "output_type": "stream",
     "text": [
      "AF191665.1 Opuntia marenae rpl16 gene; chloroplast gene for c...\n",
      "Sequence length 902, 3 features, from: chloroplast Grusonia marenae\n",
      "AF191664.1 Opuntia clavata rpl16 gene; chloroplast gene for c...\n",
      "Sequence length 899, 3 features, from: chloroplast Grusonia clavata\n",
      "AF191663.1 Opuntia bradtiana rpl16 gene; chloroplast gene for...\n",
      "Sequence length 899, 3 features, from: chloroplast Grusonia bradtiana\n"
     ]
    }
   ],
   "source": [
    "# fetching several records\n",
    "from Bio import Entrez\n",
    "from Bio import SeqIO\n",
    "\n",
    "Entrez.email = 'A.N.Other@example.com'\n",
    "with Entrez.efetch(db='nucleotide', rettype='gb', retmode='text', id='6273291, 6273290, 6273289') as handle:\n",
    "    for seq_record in SeqIO.parse(handle, 'gb'):\n",
    "        print('%s %s...' % (seq_record.id, seq_record.description[:50]))\n",
    "        print('Sequence length %i, %i features, from: %s'\n",
    "                % (\n",
    "                    len(seq_record),\n",
    "                    len(seq_record.features),\n",
    "                    seq_record.annotations['source'],\n",
    "                )\n",
    "            )"
   ]
  },
  {
   "cell_type": "markdown",
   "metadata": {},
   "source": [
    "#### Sequence files as dictionaries"
   ]
  },
  {
   "cell_type": "code",
   "execution_count": null,
   "metadata": {},
   "outputs": [],
   "source": [
    "from Bio import SeqIO\n",
    "handle = open('sequence.bigendian.2bit', 'rb')\n",
    "records = SeqIO.parse(handle, 'twobit')\n",
    "print(f'records keys: {records.keys()}')\n",
    "print(f\"seq222: {records['seq222']}\")\n",
    "print(f\"seq222.seq: {records['seq222'].seq}\")\n",
    "handle.close()\n",
    "print(f\"seq222.seq: {records['seq222'].seq}\")"
   ]
  },
  {
   "cell_type": "code",
   "execution_count": 36,
   "metadata": {},
   "outputs": [
    {
     "name": "stdout",
     "output_type": "stream",
     "text": [
      "dictionary length: 94\n",
      "orchid keys: dict_keys(['Z78533.1', 'Z78532.1', 'Z78531.1', 'Z78530.1', 'Z78529.1', 'Z78527.1', 'Z78526.1', 'Z78525.1', 'Z78524.1', 'Z78523.1', 'Z78522.1', 'Z78521.1', 'Z78520.1', 'Z78519.1', 'Z78518.1', 'Z78517.1', 'Z78516.1', 'Z78515.1', 'Z78514.1', 'Z78513.1', 'Z78512.1', 'Z78511.1', 'Z78510.1', 'Z78509.1', 'Z78508.1', 'Z78507.1', 'Z78506.1', 'Z78505.1', 'Z78504.1', 'Z78503.1', 'Z78502.1', 'Z78501.1', 'Z78500.1', 'Z78499.1', 'Z78498.1', 'Z78497.1', 'Z78496.1', 'Z78495.1', 'Z78494.1', 'Z78493.1', 'Z78492.1', 'Z78491.1', 'Z78490.1', 'Z78489.1', 'Z78488.1', 'Z78487.1', 'Z78486.1', 'Z78485.1', 'Z78484.1', 'Z78483.1', 'Z78482.1', 'Z78481.1', 'Z78480.1', 'Z78479.1', 'Z78478.1', 'Z78477.1', 'Z78476.1', 'Z78475.1', 'Z78474.1', 'Z78473.1', 'Z78472.1', 'Z78471.1', 'Z78470.1', 'Z78469.1', 'Z78468.1', 'Z78467.1', 'Z78466.1', 'Z78465.1', 'Z78464.1', 'Z78463.1', 'Z78462.1', 'Z78461.1', 'Z78460.1', 'Z78459.1', 'Z78458.1', 'Z78457.1', 'Z78456.1', 'Z78455.1', 'Z78454.1', 'Z78453.1', 'Z78452.1', 'Z78451.1', 'Z78450.1', 'Z78449.1', 'Z78448.1', 'Z78447.1', 'Z78446.1', 'Z78445.1', 'Z78444.1', 'Z78443.1', 'Z78442.1', 'Z78441.1', 'Z78440.1', 'Z78439.1'])\n"
     ]
    }
   ],
   "source": [
    "from Bio import SeqIO\n",
    "orchid_dict = SeqIO.to_dict(SeqIO.parse('ls_orchid.gbk', 'genbank'))\n",
    "print(f'dictionary length: {len(orchid_dict)}')\n",
    "print(f'orchid keys: {orchid_dict.keys()}')"
   ]
  },
  {
   "cell_type": "code",
   "execution_count": 37,
   "metadata": {},
   "outputs": [
    {
     "name": "stdout",
     "output_type": "stream",
     "text": [
      "description: P.supardii 5.8S rRNA gene and ITS1 and ITS2 DNA\n",
      "sequence: CGTAACAAGGTTTCCGTAGGTGAACCTGCGGAAGGATCATTGTTGAGATCACATAATAATTGATCGAGTTAATCTGGAGGATCAGTTTACTTTGGTCACCCATGGGCATCTGCTCTTGCAGTGACCTGGATTTGCCATCGAGCCTCCTTGGGAGCTTTCTTGCTGGCGATCTAAACCCGTCCCGGCGCAGTTTTGCGCCAAGTCATATGACACATAATTGGAAGGGGGTGGCATGCTGCCTTGACCCTCCCCAAATTATTTTTTTGACAACTCTCAGCAACGGATATCTCGGCTCTTNNNNNNNNNNNNNNNNNNNNNNNNNNNNNNNNNNNNNNNNNNNNNNNNNNNNNNNNNNNNNNNNNNNNNNNNNNNNNNNNNNNNNNNNNNNNNNNNATCAGGCCAAGGGCACGCCTGCCTGGGCATTGCGAGTCATATCTCTCCCTTAATGAGGCTGTCCATACATACTGTTCAGCCAATGCGGATGTGAGTTTGGCCCCTTGTTCTTTGGTACGGGGGGTCTAAGAGCTGCATGGGCTTTTGATGGTCCAAAATACGGCAAGAGGTGGACGAACTATGCTACAACAAAATTGTTGTGCGAATGCCCCGGGTTGTCGTATTAGATGGGCCAGCATAATCTAAAGACCCTTTTGAACCCCATTGGAGGCCCATCAACCCATGATCAGTTGACGGCCATTTGGTTGCGACCCAGGTCAGGT\n"
     ]
    }
   ],
   "source": [
    "seq_record = orchid_dict['Z78475.1']\n",
    "print(f'description: {seq_record.description}')\n",
    "print(f'sequence: {seq_record.seq}')"
   ]
  },
  {
   "cell_type": "markdown",
   "metadata": {},
   "source": [
    "#### Specifiying dictionary keys"
   ]
  },
  {
   "cell_type": "code",
   "execution_count": 38,
   "metadata": {},
   "outputs": [
    {
     "name": "stdout",
     "output_type": "stream",
     "text": [
      "orchid keys: dict_keys(['gi|2765658|emb|Z78533.1|CIZ78533', 'gi|2765657|emb|Z78532.1|CCZ78532', 'gi|2765656|emb|Z78531.1|CFZ78531', 'gi|2765655|emb|Z78530.1|CMZ78530', 'gi|2765654|emb|Z78529.1|CLZ78529', 'gi|2765652|emb|Z78527.1|CYZ78527', 'gi|2765651|emb|Z78526.1|CGZ78526', 'gi|2765650|emb|Z78525.1|CAZ78525', 'gi|2765649|emb|Z78524.1|CFZ78524', 'gi|2765648|emb|Z78523.1|CHZ78523', 'gi|2765647|emb|Z78522.1|CMZ78522', 'gi|2765646|emb|Z78521.1|CCZ78521', 'gi|2765645|emb|Z78520.1|CSZ78520', 'gi|2765644|emb|Z78519.1|CPZ78519', 'gi|2765643|emb|Z78518.1|CRZ78518', 'gi|2765642|emb|Z78517.1|CFZ78517', 'gi|2765641|emb|Z78516.1|CPZ78516', 'gi|2765640|emb|Z78515.1|MXZ78515', 'gi|2765639|emb|Z78514.1|PSZ78514', 'gi|2765638|emb|Z78513.1|PBZ78513', 'gi|2765637|emb|Z78512.1|PWZ78512', 'gi|2765636|emb|Z78511.1|PEZ78511', 'gi|2765635|emb|Z78510.1|PCZ78510', 'gi|2765634|emb|Z78509.1|PPZ78509', 'gi|2765633|emb|Z78508.1|PLZ78508', 'gi|2765632|emb|Z78507.1|PLZ78507', 'gi|2765631|emb|Z78506.1|PLZ78506', 'gi|2765630|emb|Z78505.1|PSZ78505', 'gi|2765629|emb|Z78504.1|PKZ78504', 'gi|2765628|emb|Z78503.1|PCZ78503', 'gi|2765627|emb|Z78502.1|PBZ78502', 'gi|2765626|emb|Z78501.1|PCZ78501', 'gi|2765625|emb|Z78500.1|PWZ78500', 'gi|2765624|emb|Z78499.1|PMZ78499', 'gi|2765623|emb|Z78498.1|PMZ78498', 'gi|2765622|emb|Z78497.1|PDZ78497', 'gi|2765621|emb|Z78496.1|PAZ78496', 'gi|2765620|emb|Z78495.1|PEZ78495', 'gi|2765619|emb|Z78494.1|PNZ78494', 'gi|2765618|emb|Z78493.1|PGZ78493', 'gi|2765617|emb|Z78492.1|PBZ78492', 'gi|2765616|emb|Z78491.1|PCZ78491', 'gi|2765615|emb|Z78490.1|PFZ78490', 'gi|2765614|emb|Z78489.1|PDZ78489', 'gi|2765613|emb|Z78488.1|PTZ78488', 'gi|2765612|emb|Z78487.1|PHZ78487', 'gi|2765611|emb|Z78486.1|PBZ78486', 'gi|2765610|emb|Z78485.1|PHZ78485', 'gi|2765609|emb|Z78484.1|PCZ78484', 'gi|2765608|emb|Z78483.1|PVZ78483', 'gi|2765607|emb|Z78482.1|PEZ78482', 'gi|2765606|emb|Z78481.1|PIZ78481', 'gi|2765605|emb|Z78480.1|PGZ78480', 'gi|2765604|emb|Z78479.1|PPZ78479', 'gi|2765603|emb|Z78478.1|PVZ78478', 'gi|2765602|emb|Z78477.1|PVZ78477', 'gi|2765601|emb|Z78476.1|PGZ78476', 'gi|2765600|emb|Z78475.1|PSZ78475', 'gi|2765599|emb|Z78474.1|PKZ78474', 'gi|2765598|emb|Z78473.1|PSZ78473', 'gi|2765597|emb|Z78472.1|PLZ78472', 'gi|2765596|emb|Z78471.1|PDZ78471', 'gi|2765595|emb|Z78470.1|PPZ78470', 'gi|2765594|emb|Z78469.1|PHZ78469', 'gi|2765593|emb|Z78468.1|PAZ78468', 'gi|2765592|emb|Z78467.1|PSZ78467', 'gi|2765591|emb|Z78466.1|PPZ78466', 'gi|2765590|emb|Z78465.1|PRZ78465', 'gi|2765589|emb|Z78464.1|PGZ78464', 'gi|2765588|emb|Z78463.1|PGZ78463', 'gi|2765587|emb|Z78462.1|PSZ78462', 'gi|2765586|emb|Z78461.1|PWZ78461', 'gi|2765585|emb|Z78460.1|PCZ78460', 'gi|2765584|emb|Z78459.1|PDZ78459', 'gi|2765583|emb|Z78458.1|PHZ78458', 'gi|2765582|emb|Z78457.1|PCZ78457', 'gi|2765581|emb|Z78456.1|PTZ78456', 'gi|2765580|emb|Z78455.1|PJZ78455', 'gi|2765579|emb|Z78454.1|PFZ78454', 'gi|2765578|emb|Z78453.1|PSZ78453', 'gi|2765577|emb|Z78452.1|PBZ78452', 'gi|2765576|emb|Z78451.1|PHZ78451', 'gi|2765575|emb|Z78450.1|PPZ78450', 'gi|2765574|emb|Z78449.1|PMZ78449', 'gi|2765573|emb|Z78448.1|PAZ78448', 'gi|2765572|emb|Z78447.1|PVZ78447', 'gi|2765571|emb|Z78446.1|PAZ78446', 'gi|2765570|emb|Z78445.1|PUZ78445', 'gi|2765569|emb|Z78444.1|PAZ78444', 'gi|2765568|emb|Z78443.1|PLZ78443', 'gi|2765567|emb|Z78442.1|PBZ78442', 'gi|2765566|emb|Z78441.1|PSZ78441', 'gi|2765565|emb|Z78440.1|PPZ78440', 'gi|2765564|emb|Z78439.1|PBZ78439'])\n"
     ]
    }
   ],
   "source": [
    "# using FASTA file instead of GenBank file\n",
    "orchid_dict = SeqIO.to_dict(SeqIO.parse('ls_orchid.fasta', 'fasta'))\n",
    "print(f'orchid keys: {orchid_dict.keys()}')"
   ]
  },
  {
   "cell_type": "code",
   "execution_count": 2,
   "metadata": {},
   "outputs": [
    {
     "name": "stdout",
     "output_type": "stream",
     "text": [
      "dict_keys(['Z78533.1', 'Z78532.1', 'Z78531.1', 'Z78530.1', 'Z78529.1', 'Z78527.1', 'Z78526.1', 'Z78525.1', 'Z78524.1', 'Z78523.1', 'Z78522.1', 'Z78521.1', 'Z78520.1', 'Z78519.1', 'Z78518.1', 'Z78517.1', 'Z78516.1', 'Z78515.1', 'Z78514.1', 'Z78513.1', 'Z78512.1', 'Z78511.1', 'Z78510.1', 'Z78509.1', 'Z78508.1', 'Z78507.1', 'Z78506.1', 'Z78505.1', 'Z78504.1', 'Z78503.1', 'Z78502.1', 'Z78501.1', 'Z78500.1', 'Z78499.1', 'Z78498.1', 'Z78497.1', 'Z78496.1', 'Z78495.1', 'Z78494.1', 'Z78493.1', 'Z78492.1', 'Z78491.1', 'Z78490.1', 'Z78489.1', 'Z78488.1', 'Z78487.1', 'Z78486.1', 'Z78485.1', 'Z78484.1', 'Z78483.1', 'Z78482.1', 'Z78481.1', 'Z78480.1', 'Z78479.1', 'Z78478.1', 'Z78477.1', 'Z78476.1', 'Z78475.1', 'Z78474.1', 'Z78473.1', 'Z78472.1', 'Z78471.1', 'Z78470.1', 'Z78469.1', 'Z78468.1', 'Z78467.1', 'Z78466.1', 'Z78465.1', 'Z78464.1', 'Z78463.1', 'Z78462.1', 'Z78461.1', 'Z78460.1', 'Z78459.1', 'Z78458.1', 'Z78457.1', 'Z78456.1', 'Z78455.1', 'Z78454.1', 'Z78453.1', 'Z78452.1', 'Z78451.1', 'Z78450.1', 'Z78449.1', 'Z78448.1', 'Z78447.1', 'Z78446.1', 'Z78445.1', 'Z78444.1', 'Z78443.1', 'Z78442.1', 'Z78441.1', 'Z78440.1', 'Z78439.1'])\n"
     ]
    }
   ],
   "source": [
    "from Bio import SeqIO\n",
    "\n",
    "def get_accession(record):\n",
    "    \"\"\"\n",
    "    Given a SeqRecord, return the accession number as a string.\n",
    "\n",
    "    e.g. 'gi|2765613|emb|Z78488.1|PTZ78488' -> 'Z78488.1'\n",
    "    \"\"\"\n",
    "    parts = record.id.split('|')  # | is the pipe symbol\n",
    "    assert len(parts) == 5 and parts[0] == 'gi' and parts[2] == 'emb'\n",
    "    return parts[3]\n",
    "\n",
    "orchid_dict = SeqIO.to_dict(SeqIO.parse('ls_orchid.fasta', 'fasta'), key_function=get_accession)\n",
    "print(orchid_dict.keys())"
   ]
  },
  {
   "cell_type": "code",
   "execution_count": 3,
   "metadata": {},
   "outputs": [
    {
     "data": {
      "text/plain": [
       "dict_keys(['Z78533.1', 'Z78532.1', 'Z78531.1', 'Z78530.1', 'Z78529.1', 'Z78527.1', 'Z78526.1', 'Z78525.1', 'Z78524.1', 'Z78523.1', 'Z78522.1', 'Z78521.1', 'Z78520.1', 'Z78519.1', 'Z78518.1', 'Z78517.1', 'Z78516.1', 'Z78515.1', 'Z78514.1', 'Z78513.1', 'Z78512.1', 'Z78511.1', 'Z78510.1', 'Z78509.1', 'Z78508.1', 'Z78507.1', 'Z78506.1', 'Z78505.1', 'Z78504.1', 'Z78503.1', 'Z78502.1', 'Z78501.1', 'Z78500.1', 'Z78499.1', 'Z78498.1', 'Z78497.1', 'Z78496.1', 'Z78495.1', 'Z78494.1', 'Z78493.1', 'Z78492.1', 'Z78491.1', 'Z78490.1', 'Z78489.1', 'Z78488.1', 'Z78487.1', 'Z78486.1', 'Z78485.1', 'Z78484.1', 'Z78483.1', 'Z78482.1', 'Z78481.1', 'Z78480.1', 'Z78479.1', 'Z78478.1', 'Z78477.1', 'Z78476.1', 'Z78475.1', 'Z78474.1', 'Z78473.1', 'Z78472.1', 'Z78471.1', 'Z78470.1', 'Z78469.1', 'Z78468.1', 'Z78467.1', 'Z78466.1', 'Z78465.1', 'Z78464.1', 'Z78463.1', 'Z78462.1', 'Z78461.1', 'Z78460.1', 'Z78459.1', 'Z78458.1', 'Z78457.1', 'Z78456.1', 'Z78455.1', 'Z78454.1', 'Z78453.1', 'Z78452.1', 'Z78451.1', 'Z78450.1', 'Z78449.1', 'Z78448.1', 'Z78447.1', 'Z78446.1', 'Z78445.1', 'Z78444.1', 'Z78443.1', 'Z78442.1', 'Z78441.1', 'Z78440.1', 'Z78439.1'])"
      ]
     },
     "execution_count": 3,
     "metadata": {},
     "output_type": "execute_result"
    }
   ],
   "source": [
    "orchid_dict.keys()"
   ]
  },
  {
   "cell_type": "markdown",
   "metadata": {},
   "source": [
    "#### Sequence files as dictionaries - indexed files"
   ]
  },
  {
   "cell_type": "code",
   "execution_count": 4,
   "metadata": {},
   "outputs": [
    {
     "name": "stdout",
     "output_type": "stream",
     "text": [
      "dictionary length: 94\n",
      "dictionary keys: KeysView(SeqIO.index('ls_orchid.gbk', 'genbank', alphabet=None, key_function=None))\n"
     ]
    },
    {
     "data": {
      "text/plain": [
       "KeysView(SeqIO.index('ls_orchid.gbk', 'genbank', alphabet=None, key_function=None))"
      ]
     },
     "execution_count": 4,
     "metadata": {},
     "output_type": "execute_result"
    }
   ],
   "source": [
    "# for larger files (previous example is limited by computer RAM)\n",
    "from Bio import SeqIO\n",
    "orchid_dict = SeqIO.index('ls_orchid.gbk', 'genbank')\n",
    "print(f'dictionary length: {len(orchid_dict)}')\n",
    "print(f'dictionary keys: {orchid_dict.keys()}')\n",
    "orchid_dict.keys()"
   ]
  },
  {
   "cell_type": "code",
   "execution_count": 7,
   "metadata": {},
   "outputs": [
    {
     "name": "stdout",
     "output_type": "stream",
     "text": [
      "seq record description: P.supardii 5.8S rRNA gene and ITS1 and ITS2 DNA\n",
      "seq record sequence: CGTAACAAGGTTTCCGTAGGTGAACCTGCGGAAGGATCATTGTTGAGATCACATAATAATTGATCGAGTTAATCTGGAGGATCAGTTTACTTTGGTCACCCATGGGCATCTGCTCTTGCAGTGACCTGGATTTGCCATCGAGCCTCCTTGGGAGCTTTCTTGCTGGCGATCTAAACCCGTCCCGGCGCAGTTTTGCGCCAAGTCATATGACACATAATTGGAAGGGGGTGGCATGCTGCCTTGACCCTCCCCAAATTATTTTTTTGACAACTCTCAGCAACGGATATCTCGGCTCTTNNNNNNNNNNNNNNNNNNNNNNNNNNNNNNNNNNNNNNNNNNNNNNNNNNNNNNNNNNNNNNNNNNNNNNNNNNNNNNNNNNNNNNNNNNNNNNNNATCAGGCCAAGGGCACGCCTGCCTGGGCATTGCGAGTCATATCTCTCCCTTAATGAGGCTGTCCATACATACTGTTCAGCCAATGCGGATGTGAGTTTGGCCCCTTGTTCTTTGGTACGGGGGGTCTAAGAGCTGCATGGGCTTTTGATGGTCCAAAATACGGCAAGAGGTGGACGAACTATGCTACAACAAAATTGTTGTGCGAATGCCCCGGGTTGTCGTATTAGATGGGCCAGCATAATCTAAAGACCCTTTTGAACCCCATTGGAGGCCCATCAACCCATGATCAGTTGACGGCCATTTGGTTGCGACCCAGGTCAGGT\n"
     ]
    }
   ],
   "source": [
    "seq_record = orchid_dict['Z78475.1']\n",
    "print(f'seq record description: {seq_record.description}')\n",
    "print(f'seq record sequence: {seq_record.seq}')\n",
    "orchid_dict.close()"
   ]
  },
  {
   "cell_type": "code",
   "execution_count": 9,
   "metadata": {},
   "outputs": [
    {
     "data": {
      "text/plain": [
       "KeysView(SeqIO.index('ls_orchid.fasta', 'fasta', alphabet=None, key_function=<function get_acc at 0x00000249A6C15550>))"
      ]
     },
     "execution_count": 9,
     "metadata": {},
     "output_type": "execute_result"
    }
   ],
   "source": [
    "# want to use the same keys as before\n",
    "from Bio import SeqIO\n",
    "\n",
    "def get_acc(identifier):\n",
    "    \"\"\"\n",
    "    Given a SeqRecord, return the accession number as a string.\n",
    "    e.g. 'gi|2765613|emb|Z78488.1|PTZ78488' -> 'Z78488.1'\n",
    "    \"\"\"\n",
    "    parts = identifier.split('|')\n",
    "    assert len(parts) == 5 and parts[0] == 'gi' and parts[2] == 'emb'\n",
    "    return parts[3]\n",
    "\n",
    "orchid_dict = SeqIO.index('ls_orchid.fasta', 'fasta', key_function=get_acc)\n",
    "orchid_dict.keys()"
   ]
  },
  {
   "cell_type": "markdown",
   "metadata": {},
   "source": [
    "#### Biopython 1.57 introduced an alternative, Bio.SeqIO.index_db(), which can work on even extremely large files since it stores the record information as a file on disk (using an SQLite3 database) rather than in memory. Also, you can index multiple files together (providing all the record identifiers are unique)."
   ]
  },
  {
   "cell_type": "markdown",
   "metadata": {},
   "source": [
    "#### Writing sequence files"
   ]
  },
  {
   "cell_type": "code",
   "execution_count": 12,
   "metadata": {},
   "outputs": [
    {
     "data": {
      "text/plain": [
       "3"
      ]
     },
     "execution_count": 12,
     "metadata": {},
     "output_type": "execute_result"
    }
   ],
   "source": [
    "from Bio.Seq import Seq\n",
    "from Bio.SeqRecord import SeqRecord\n",
    "from Bio import SeqIO\n",
    "\n",
    "rec1 = SeqRecord(\n",
    "    Seq(\n",
    "        'MMYQQGCFAGGTVLRLAKDLAENNRGARVLVVCSEITAVTFRGPSETHLDSMVGQALFGD'\n",
    "        'GAGAVIVGSDPDLSVERPLYELVWTGATLLPDSEGAIDGHLREVGLTFHLLKDVPGLISK'\n",
    "        'NIEKSLKEAFTPLGISDWNSTFWIAHPGGPAILDQVEAKLGLKEEKMRATREVLSEYGNM'\n",
    "        'SSAC',\n",
    "    ),\n",
    "    id=\"gi|14150838|gb|AAK54648.1|AF376133_1\",\n",
    "    description=\"chalcone synthase [Cucumis sativus]\",\n",
    ")  # why does Python give Syntax error: invalid syntax when I use single quotes in lines 12-13?\n",
    "\n",
    "rec2 = SeqRecord(\n",
    "    Seq(\n",
    "        'YPDYYFRITNREHKAELKEKFQRMCDKSMIKKRYMYLTEEILKENPSMCEYMAPSLDARQ'\n",
    "        'DMVVVEIPKLGKEAAVKAIKEWGQ',\n",
    "    ),\n",
    "    id=\"gi|13919613|gb|AAK33142.1|\",\n",
    "    description=\"chalcone synthase [Fragaria vesca subsp. bracteata]\",\n",
    ")\n",
    "\n",
    "rec3 = SeqRecord(\n",
    "    Seq(\n",
    "        'MVTVEEFRRAQCAEGPATVMAIGTATPSNCVDQSTYPDYYFRITNSEHKVELKEKFKRMC'\n",
    "        'EKSMIKKRYMHLTEEILKENPNICAYMAPSLDARQDIVVVEVPKLGKEAAQKAIKEWGQP'\n",
    "        'KSKITHLVFCTTSGVDMPGCDYQLTKLLGLRPSVKRFMMYQQGCFAGGTVLRMAKDLAEN'\n",
    "        'NKGARVLVVCSEITAVTFRGPNDTHLDSLVGQALFGDGAAAVIIGSDPIPEVERPLFELV'\n",
    "        'SAAQTLLPDSEGAIDGHLREVGLTFHLLKDVPGLISKNIEKSLVEAFQPLGISDWNSLFW'\n",
    "        'IAHPGGPAILDQVELKLGLKQEKLKATRKVLSNYGNMSSACVLFILDEMRKASAKEGLGT'\n",
    "        'TGEGLEWGVLFGFGPGLTVETVVLHSVAT',\n",
    "    ),\n",
    "    id=\"gi|13925890|gb|AAK49457.1|\",\n",
    "    description=\"chalcone synthase [Nicotiana tabacum]\",\n",
    ")\n",
    "\n",
    "my_records = [rec1, rec2, rec3]\n",
    "SeqIO.write(my_records, 'my_example.faa', 'fasta')  # function returns number of SeqRecord objects written to the file"
   ]
  },
  {
   "cell_type": "markdown",
   "metadata": {},
   "source": [
    "#### Converting between sequence file formats"
   ]
  },
  {
   "cell_type": "code",
   "execution_count": 13,
   "metadata": {},
   "outputs": [
    {
     "name": "stdout",
     "output_type": "stream",
     "text": [
      "Converted 94 records\n"
     ]
    }
   ],
   "source": [
    "from Bio import SeqIO\n",
    "records = SeqIO.parse('ls_orchid.gbk', 'genbank')\n",
    "count = SeqIO.write(records, 'my_example.fasta', 'fasta')\n",
    "print('Converted %i records' % count)"
   ]
  },
  {
   "cell_type": "code",
   "execution_count": 14,
   "metadata": {},
   "outputs": [
    {
     "name": "stdout",
     "output_type": "stream",
     "text": [
      "Converted 94 records\n"
     ]
    }
   ],
   "source": [
    "from Bio import SeqIO\n",
    "count = SeqIO.convert('ls_orchid.gbk', 'genbank', 'my_example.fasta', 'fasta')  # helper function\n",
    "print('Converted %i records' % count)"
   ]
  },
  {
   "cell_type": "markdown",
   "metadata": {},
   "source": [
    "Bio.SeqIO.convert() function will take handles or filenames. Watch out though – if the output file already exists, it will overwrite it! To find out more, see the built in help"
   ]
  },
  {
   "cell_type": "markdown",
   "metadata": {},
   "source": [
    "#### Converting file sequences to their reverse complements"
   ]
  },
  {
   "cell_type": "code",
   "execution_count": 15,
   "metadata": {},
   "outputs": [
    {
     "name": "stdout",
     "output_type": "stream",
     "text": [
      "Z78533.1\n",
      "GCGTAAACTCAGCGGGTGCCCCCGCCTGACCTGGGGTCACATCCGAATGGCGGTCAACCGCCCTCCATTGGGGTTCGGAAGGGTTCTCCTGCCTGTCCGACAAGCACGACAACATGGGGGATTCGCACGGCAGCTGCTGCCAGCATCCGTCCACCTCTTGCCGGGTTCCGGGCCATCAAAACACCAGCTCTTGGACCCGCCGCACCTAGGCACAAGGGGCCAATCTTTCACATCCGCACCACGCCGGCCTGGCTGTATGCCGGGCAAGCATTGGCAGGAGAGAGACGAAGCGCGACGCCCAAGCAGGCGTGCCCTTAGCCTGATGGCCTCGGGCGCAACTTGCGTTCAAAAGACTCGATGGTTCACGGGATCTTGCAATTCACACCACTTATCGCATTTCGCTGCGTCCTTCCATCCGATGCAAAGAGCCAAGATTCCCGTTTGCGAGAGTCATCAAAATTCATTGGGCACGCGACAGCACGCCGCCGCTCCGGGTTTTGGGGAAGACAATGCCATTCGCCGGTGATGCTTTCATATGGCTTGGCGCCCAAACTGCGCCGGGCTAGAGGTTCAAACCCGCCATGGACGCTCCCGAGGCGGCCCAACAACAAATCAGGGTCACCACGGGAGCAATGCCCCCGGTGAGCTGAGTACACCGGTCCTCCGGATTCACTCGATCGTTTATTCCACGGTCTCATCAATGATCCTTCCGCAGGTTCACCTACGGAAACCTTGTTACG\n",
      "Z78532.1\n",
      "GCCTCAACTCAGCGGGTGGCCCCGCCTGACCTGGGGTCGCATCTGAATGGAAATCAACTGCCCAATGGTTATTTTAGCTCCATTGGGGTTCAATTAGGTTCTTGTGTAGGTTCGAAAAAATACAACAACATGGGGGATTCAAATAGCAGCCTTATGACTGTTAGCATTCTCCACCTCGTGCCACATTCCTACCCATCAAAGCAACAATCCTTAGACCCACCGCACCTAGGCACAAGGGGCCAATCATTCACATCCGTATAATGCCAGCTTAGCGATATGCCAAGCAAGCATTGGTAGGAGAGACGCAACACACGACGCCCAGGCAGGCGTGCCCTTAGCCTGATGGCCTCGAGCGCAACTTGCGTTCAAAGACTCGATGGTTCACGGGATTCTGCAATTCACACCACTTATCGCATTTAGCTGCGTTCTTCATCGATGTTAGAGCCAAGATATCCGTTGCGAGAGTCATAAAAATTCACTGGCATGCTCAGTAGCATACTGCCCCTCTGATTTTTTCTGACAATAATGTCATTCATCAGTGATGCTTTATATGACTTGGCGCAAACTGCACCGTACTAAAGTTCAAACCTGCCATGAAAGCTCTTGAGGAGGCCCAACAACAAAGCAGGGTCACGACAAAAGCAGTGCCACGACGAGCTGAGTTACCACAGGTCCTCCAGATTCACTCGATCATATATTCTGTTGTCTCAACAATGATCCTTCCGCAGGTTCACCTACGGAAACCTTGTTACG\n",
      "Z78531.1\n",
      "TTACTCACGGGTGGCCCGCCTGACTGGGGTCGCATCTGAATGGAAATCACCGCCCGAGGGCGGTTTTGCGTCCACTGGGGGTTCAAACAGGTTCTTCTGTAGGCCTGACGAGTACGACAACACGGGGGATTCGAACGGCAGCCTTGCGGCTGCCAGCATCCTCCACCTACTGCCAAGTTCCGGGCCATCAGAACACCGATGCTTAGACCCGCCGCACCTAGGCGCAAGGGGCCAATCTTTCACGTCCTCACAATGACAGACTAGCCGCATGCCAATCAAGCATTATCAGGAGAGACGCAGCACACGACGCCCAGGCAGGCGTGCCCTTAGCCTGATGGCCTCGGGCGCAACTTGCGTTCAAAGACTCGATGGTTCGCGGGATTCTGCAATTCACACCACTTATCGCATTTCGCTGCGTTCTTCATCGATGCAAGAGCCAGATATCCCGTTGCCGAGAGTCGTCATAAATTCATTGGCACGCGCAACAGACGCCGCCCCTCCGAGTTTTTCTTGACAAAAATGCCATCCATCGGTGACGCTCCATATGACTTGGCGCAAACTGCGCCGCGCTAGACGTTCAAACCCGCCATGAAAGTTCCCGAGGCGGCCCGGTCGCAAACCGGGTTCACCACGAGAGCAAAGCCACGGTGAGCCGTGTAACCACGGGTCCTCCGGATTCACTCGATCGTATGTTCTGCTGTCTCAACAATGATCCTTCCGCAGGTTCACCTACGGAAACCTTGTTACG\n",
      "Z78530.1\n",
      "ATGGGGTGGCCCCCTGACTGGGGTCGCATCTGATTGGAAATCAACCACCCAAGGATTGTTTTGCCTTAATTAGGGTCCAAACAAGTTGTTCTATAGGCCCAACAAACATGACAACATGGGGGATTCAAACAATAGCCTTGCGGCTGCCAGCATCCTCCACCTCTTGCCAAGTTTCAGACCATCAAAACACATATCCTTAGACCCACCGCACCTAAGCACAAGGGGCCAATCTTTCACATCCACACAATGATGGCCTAGCTATATGCTGGACAAGCATTGGAAGGAGAGATAAAACATACGACGCCCAGGCAGGCGTGCCCTTAGCCTGATGGCCTCGGGCGCAACTTGCGTTCAAAGACTCGATGGTTCACGGGATTCTGCAATTCACACCACTTATCACATTTCGGTGCGTTCTTCATCGATGCAAGAGTCAAGATATCCGTCTGCCGAGAGTCATCAAAATTCATTGGAATGAACATTAACACACCACACCTCCGACGTTGTGTGGGGCAATAATGTCATTCATCGGTGATTCTTTATATACCTTGGTGCAAACTGGACCGTGCTAGAGGTTCAAACCCGCCATGAAAGCTCTCAATGAGGCCCAATGACAAATCATGGTCACCACAAAAGGATATCCCTAGCGAGCCAAATTACCACAAGTCCTCCAGATTCACTCAATCGTTTATTATGTTGTTTCAACAATGATCCTTCCGCAGGTTCACCTACGGAAACCTTGTTACG\n",
      "Z78529.1\n",
      "TTTTAGCTCAGCTGGTGGCCCGCTGACTGGGGTCGCATCTGATTGGAAATCAACCACCCAAGGATTGTTTTGCCTTAATTAGGGTCCAAACAAGTTGTTCTATAGGCCCAACAAATATGACAACATGGGGGATTCAAACAATAGCCTTGCGGCTGCCAGCATCCTCCACCTCTTGCCAAGTTTCAGACCATCAAAACACATATCCTTAGACCCACCGCACCTAAGCACAAGGGGCCAATCTTTCACATCCACACAATGATGGCCTAGCTATATGCTGGACAAGCATTGGAAGGAGAGATAAAACATACGACGCCCAGGCAGGCGTGCCCTTAGCCTGATGGCCTCGGGCGCAACTTGCGTTCAAAGACTCGATGGTTCACGGGATTCTGCAATTCACACCACTTATCACATTTCGGTGGGATTCTTCATCGATGCAAGAGCCAAGATATCCCTCGGCGAGAGTCATCAACAATTCATTGGCATGACCAATAACACACCACACCTCCGACTTTTTTGACAATAATGTCATTCATCGGTGATTCTTTATATACCTTGGTGCAAACTGCACCGTGCTAGAGGTTCAAACCCGCCATGAAAGCTCTCAATGAGGCCCAATGACAAATCATGGTCACCACAAAAGGAAATCCCTAGCGAGCCAAATAACCACAAGTCCTCCAGATTCACTCAATCGTATATTCTGCTGTCTCAACAATGTCCTTCGGCAGCTCGCCGT\n",
      "Z78527.1\n",
      "GGGTGGCCCGCCTGACCTGGGGTCGCATCTAAATGGAAATCAACCGCCAAGGGTCATTTTACAATCCATTGGGGTTCAAGCATGTTCTTTTATAGGTTCGACAAATATGACAACATGGGGGATTCGAACGACAGCCTTGCGGCTTCCAGCATCCTCCACCTCCTGCCAGGTTTCGATCCATCAAAACATCAATCCTTAGACCCACCGCACCTAGGCACAAGGGGCCAATCTTTCACATCCACCCAATGCCAGCCTAGTTGTATGCCGGGTAAGCATTGGCAAGAGAGATGCGATACACGACGCCCAGGCAGGCGTGCCCTTAGCCTGATGGCCTCGGGCGCAACTTGCGTTCAAAGACTCGATGGTTCGCGGGATTCTGCAATTCACACCACTTATCGCATTTCGCTGCGTTCCTTCATCGATGCAAAGAGCCAGATATCCGTTGGCCGAGAGTCATCAAAAATCCATTAGCGCATGCAATAACACACTGCCACTCCAACTTTTGGTGACAGTAGTGCCATTTGCAGTTATGCTTCATATGACTTGGCGCAAACTGCACCGTGGTAGAGGTTCAAACCCGCCATGTAAGCTCCTAAGGAAGCCCAACAACAAATCAGGCGAGCCGAGTAACCACAGGTCATCCAGATTCACTCGATCATATATTCTACTGTCTCAACAATGATCCTTCCGCAGGTTCACCTACGGAAACCTTGTTACG\n",
      "Z78526.1\n",
      "ACATAAACTCAGCGGGTGGCCCCGCCTGACCTGGGGTCGCATCTAAATGGAAATCAACCGCCAAGGGTCATTTTACATCCATTGGGGTTCAAGCATGTTCTTTTATAGGTTCGACAAATATGACAACATGGGGGATTCGAACGACAGCCTTGCGGCTTCCAGCATCCTCCACCTCCTGCCAGGTTTCGATCCATCAAAACATCAATCCTTAGACCCACCGCACCTAGGCACAAGGGGCCAATCTTTCACATCCGCACAATGCCAGCCTAGTTGTATGCCGGGTAAGCATTGGCAAGAGAGATGCGATACACGACGCCCAGGCAGGCGTGCCCTTAGCCTGATGGCCTCGGGCGCAACTTGCGTTCAAAGACTCGATGGTTCGCGGGATTCTGCAATTCACACCACTTATCGCATTTCGCTGGGTTCTTCATCGATGCAAGAGCCAAGATATCCGTTGGCGAGAGTCATCAAAAATCCATTAGCGCATGCAATAGCACACTGCCACTCCAACTTTTGGTGACAATAATGCCATTGTTCAGTTATGCTTCATATGACTTGGCGCAAACTGCACCGTGGTAGAGGTTCAAACCCGGCATGTAAGCTCCTAAGGAAGCCCAACAACAAATCAGGGGAGCCGAGTAACCACAGGTCCTCCAGATTCACTCGATCATATATTCTACTGTCTCAACAATGATCCTTCCGCAGGTTCACCTACGGAAACCTTGTTACG\n",
      "Z78525.1\n",
      "TGCAGCGGGTGGCCCGCCTGACCTGGGGTCGCATATGAATGGCAGTCAACCATCCAAGGGTCATTTTGCCTCCACTGGGGTTCAAACAAGTTATTATATAGGTCCGATAAATACGATAACATGGGGGATTTAAATGACAACCTTGTGGCAGCCAATGTCCTCCACCTCCTGCCAAGTTTCGGGCCATCAAAACATTCCTTAGACCCAACGCGCCAAGGCACAAGGGGCCAATCTTTCGCATCCGCACAATGCAAGCCTAGATATATGGACAGGCATTGGCAAGAGAGACACAACACACGACGCCCAGGCAGGCGTGCCCTTAGCCTGATGGCCTCGGGCGCAACTTGCGTTCAAAAGACTCGATGGTTCACGGGATCTTGCAATTCACACCACTTATCGCATTTCGCTGGGTTCTTCATCCGATGCAAGAGCCAAGATATCCGCTTGTCGAGAGTCATCAAAATTATATTCGGCATGCACAGGAGGACACCGCCCCTCCAACTTTTTTGACAATAATGTCATTTGTCGGTGATGCTTCATATGACTTGGCACAAACTGTGCCGTGCTAGAGTTTGAAACCTGCCATGAAAGCTCCCGAGGAGGCCCAACGACAAATTTGGGTCACCACAAAAGCAAAGCCCTCGGCAAGCCGAATAACCACAGGTCCTCCGGATTCACTCGATGTATATTCTGCTATCTCAACA\n",
      "Z78524.1\n",
      "GCTTAATCTCAGGGTGGCCACCTGACCTGGGGTTGCATCTGAATGAAAATCAACCGCCCAAGGGTCATTTTTCCTTCATTGGGGTTCAAACAAGTTCTTTTATAGGTTCAACAAATACGACAACATGGGGAATTCAAATGGCAGCCTTGCAGCTACCAACATTCTCCACCTCCTGCCGAGTTCCGAGCTATCAAAATACTAATCCTTAGACCCACCGCACCTAAGCACAAGGGGCCAATATTTCATCCGCACAATGCTAACCTAGCTATATGCTGGGCAAGCATTGGNAGGAGAGATGCAGCACACGACGCCCAGGCAGGCGTGCCCTTAGCCTGATGGCCTTGGGCGCAACTTGCGTTCAAATACTCGATGGTTCACGGGATTCTGCAATTCACACCACTTATCGCATTTCGCTGCGTTCTTCATCGGATGTAAAGAGCCAAGTTCCGTTGCGAGAGTCATCAAAAAATTCATTAGCATGCACAACAGCATGCCGCCCCTCCGACTTTTTTAACAACAATGCCATTCATCAGGGATGCTTATATGACTTGGCACAAACTGCGCCGTGCTAAAGGTTTGAACCCGCCATGAAAGCTCCTAAGGAGGCCCAATTAAGGTCACCACAAAAGCAAAGCACTGACGAGCCAAGTAACCACATGTCCTCCATATTCACTCAATCATATATTCTACTATCTCAACAATGATCCTTCCGCAGGTTCACCTACGGAAACCTTGTTACG\n",
      "Z78523.1\n",
      "CTTAAACTCAGCGGTGGCCCCGCCTGACCTGGGTCGCAATATGAATGGCAATCAACCGCCCGAGGGTTGTTTGCCTCCATTGGGATTCAAACAGGTTCTTCTCTAGGTCCGACAAACACGACAATATGGGGGGTTCAAACGATAGCCTTATAGCTGCCAACATCCTCCACCTCCTGCCAGGTTTCGAACCATCAAAACACTAGTCCTTAGACCCACCGCACCTAGGCACAAGGGGCCAATCTTTCGCATCCACGCAATGCAAACCAATCTATATGATAGGAAAGCATTGATAGGAGAGACGCAGCACACGACGCCCAGGCAGGCGTGCCCTTAGCCTGATGGCATCGGGCGCAACTTGCGTTCAAAGACTCGATGGTTCACGGGATTCTGCAATTCACACCACATATGTCGAGAGTCAATAAAAAATTCATTATGCATGCATGCAAGAGCACGCTTCCACTCTAGCTTTTGGGACAATAATGTCATTCCTCAGTGATGCTTCATATGACTTGGCGCATACTGCACCGTGCTAGAGGTTCACACCCACAAGGAAAGCTTGGGAGGAGGCCCAATGACAAGTTAGGGTCACCGCAAAAGCAAAGCCTATGTCGAGCTGAGTAACCACAAGTCCACCGGATTCACTCGATCATATATTCTGCTGTCTCAACAATGATCCTGCCGCAGGTTCACCTACGGAAACCTGGTTACG\n",
      "Z78522.1\n",
      "CTCAGCGGGTGGCCGCCTGACCTGGGGTCGCATATGAATGGCAATCAACCGCCCGAGGGTTGTTTGCCCCCATTGGGATTCAAACATGTTCTTCTCTAGGTCCGACAAACACGACAATATGGGGGATTCAAATGATAGCCTTATAGCTGCCAACATCCTCCACCTCCTGCCAGGTTTCGAACCATCAAAACACTAGTCCTTAGACCCACCGCACCTAGGCACAAGGGGCCAATCTTTCACATCCACGCAATGCAAACCTGTCTATATGACGTATAACCATTGACAGGAGAGACGCAGCACACGACGCCCAGGCAGGCGTTCCCTTAGCCTGATGGCATCGGGCGCAACTTGCGTTCAAAGACTCGATGGTTCACGGGATTCTGCGATCACACCACGATATGTCGAGAGTCATAAAAAATTCATTTGCATGTATGCAATAGCACGCTTCCACTCCAACTTTTTGGACAATAATGTCATTCATCAGTGATGCTTCATATGACTTGGCGCATACTGCACCGTGCTAGAGGTTCAAACCCACAAGGAAAGCTTGGGGGGAGGCCCAATGACAAATTAGGGTCACCGCAAAAGCAAAGCCTATGTCGAGCTGAGTAACCACAAGTCCACCGGATTCACTCGATCATATATTCTGCTGTCTCAACAATGATCCTTCCGCAGGTTCACCTACGGAAACCTTGTTACG\n",
      "Z78521.1\n",
      "GGTGGCCCCGCCTGACCTGGGGTCGCATATGAATGGCAATCAACCGCCCGAGAGTTGTTTGCCTCCATTGGGATTCAAACATGTTTTTCTCTAGGTCCGACAAACACGACAATATGGGGGATTCAAATGATAGCCTTATAGCTGCCAACATCCTCCACCTCCTGCCAGGTTTCGAACCATCAAAACACTAGTCCTTAGACCCACCGTACCTAGGCACAAGGGGCCATTCTTTCACATCCACGCAATGCAAACCTATCTATATGACATGAAAGCATTGACAGGAGAGACGCAGCACACGACGCCCAGGCAGGCGTGCCCTTAGCCTGATGGCATCGGGCGCAACTTGCGTTCAAAGACTCGATGGTTCACGGGATTCTGCAATTCACACCACTTATCGCATTTTGCTGCGTTCTTCATCGATGCAAGAGCCAAGATATCCGTTGTCGAGAGTCATAAAAAATTCATTTGCATGCATGCAATAGCACGCTTCCACTCCAACTTTTTGACAATAATGTCATTCATCGGTGATGCTTCATATGACTTGGCGCATACTGCACCGTGCTAGAGGTTCAAACCCACAAGGAAAGCTTTGGAGGAGGCCCAATGGCAAATTAGGGTCACCGCCAAAGCCAAGCCTATGTCGAGCTGAGTAACCACAAGTCCACCGGATTCACTCGATCATATATTCTACTGTCTCAACAATGATCCTTCCGCAGGTTCACCTAC\n",
      "Z78520.1\n",
      "AAACTCAGCGGGTGGCCCGCCTGACCTGGGGTCGCATATGAATGGCAATCAACCGCCCGAGGGTTGTTTGCCTCCATTGGGATTCAAACAGGTTCTTCTCCAGGTCCGACAAACACGACAATATGGGGGATTCACATGACAACCTTATAGCTGCCAACATCCTCCACCTCCTGCCAGGTTTCGAACCATCAAAACACTAGTCCTTAGACCCACCGCACCTAGGCACAAGGGGCCAATCTTTCACATCCACACAATGCAAACCTATCGATATGACAGGAAAGCATTGACAGGAGAGACGCAGCACACGACGCCCAGGCAGGCGTGCCCTTAGCCTGATGGCATCGGGCGCAACTTGCGTTCACATACTCGATGGTTCACGGGATTCTGCAATTCACACCACTTATCACAATTTCGCTGCGTTCTTCATCCGATGCAAGAGCCAAGATATCCCTTGTCGAGAGTCATAAAATATTCTATTGCATGCATGCAATAGCACGCTTCTACTCCAACTTTTTGGACAATAATGTCATTCATCGGTGATGATTCATATGACTTGGCGCATACTGCACCGTGCTAGAGGTTCAAACCCACAAGGAAAGCTTTGGAGGAGGCCCAATGACAAATTAGGGTCACCGCAAAAGCAAAGCCTATGGCGAGCTGAGTAACCACAAGTCCACCGGATTCACTCGATCATATATTCTGCTGTCTCAACAATGATCCTTCCGCAGGTTCACCTACGGAAACCTTGTTACG\n",
      "Z78519.1\n",
      "TAAACTCAGCGGGTGGCCCCGCCTGACCTGGGGTCGCATATGAATGGCAATCAACCGCCCGAGGGTTGTTTGCCTCCATTGGGATTCAAACATGTTCTTCTCTAGGTCCAACAAACGCGACAATATGGGGGATTCAAATGATAGCCTTATATAGCTGCCAACATCCTCCACCTCCTGCCAGGTTTCGAACCATCAAAACATTAAGTTCTTAGACCCACCGCACCTAGGCACAAGGGGCCAATCTTTCACATCCACACAATGCAAACCTATCTATATGATGGGAAAGCATTGACAGGAGAGACGCAGCACACGACGCCCAGGCAGGCGTGCCCTTAGCCTGATGGCATCGGGCGCAACTTGCGTTCAAAGACTCGATGGTTCACGGGATTCTGCAATTCACACCACTTATCGCATTTCGCTGCGTTCTTCATCGATGCAAGAGCCAAGATATCCGTTGTCGAGAGTCATAAAAAAATTCATTTGCATGCATGCAGTAGCACGCTTCCACTCCAACTTTTGGACAATAATGTCATTCATCGGCAATGCTTCATATGACTTGGTGCATACTGCACCGTGCTAGAGGTTCAAACCCACAAGGAAAGCTTGGGAGGAGGCCCAATGACAAATTAGGGTCACCGCAAAAGCAAAGCCTATGGCGAGCTGAGTAACCACAAGTCCACCAGATTCACTCGATCATAT\n",
      "Z78518.1\n",
      "GGAAAACTCAGCGGGTGGCCCCGCCTGACCTGGGGTCGTATCTGAATGGCAATCAATCGCTCAAGGGTTGTTTTGCCTCCATAGGGGTTCAAATAGGTTCTTCTGTGGGTCCGGCAAATACGACAACATGTGGGATTTGAACGACAGCCTTGCGACTATCAACATGCTCCACCTCCTGCCGGGGTTTGGGCCATCAAAACACCAATCCTTAGACCCACCGCACCTAAGCACAAGGGGTCAATCTTTCATATCTATGCAATACTGGCCTAATTGTATGTCGAGCAAGCATTGGCAAAAGAGATGCAGCACACGACGCCCAGGCAGGCGTGCCCTTAGCCTGATGGCCTTGGGCGCAACTTGCGTTCAAAGACTCGATGGTTCACGGGTATGCGTAACACACACCGTCCATCCGAGTTTGGGGGACAATAATGTAATTCGTCGGCGATGCTTCATATGACTTGGCGCAAACTGCGCCGTGATAGAGGCTCAAACCCGCCATAAAAGCTCTCGAGGATGCCCAACTACAAATCAGGGTCACCACAAAAGTTAAGCCTTCGACGAGCCGAGTAACCACAAGTCCTCCGGATTCACTCGATCGAATATTCTACTATCTCAACAATGATCCTCCCGCAGGTTCACCTACGGAAACCTTGTTACG\n",
      "Z78517.1\n",
      "GCTTAAACTCAGCGGGTGGCCCCGCCTGACCTGGGGTCGTATCTGAATGGCAATCAATCGCTCGAGGGTTGTTTTGCCTCCATTGGGGTTCAAATAGGTTCTTCTGTGGGTCCGACAAATACGACAACATGTGGGATTTGAATGACAGTCTTGCGACTATCAACATGATCCACCTCCTGCCGGGGTTCGGGCCACCAAAACACCAATCCTTAGACCCACCGCACCTAAGCACAAGGGGTCAATCTTTCATATCTATGCAATACTGTCCTAATTGTATGTCGGGCAAGCATTGGCAAAAGAGATGCAGCACACGACGCCCAGGCAGGCGTGCCCTTAGCCTGATGGCCTTGGGCGCAACTTGCGTTCAAAGACTCGATGGTTCACGGGATTCTGCAATTCACACCACTTATCGCATTTCGCTGCGTTCTTCATCGATGGAAGAGCAAGATATCCGTTGGCCGAGAGTCATCAAAAATTTATTGGCATGCACAACAGCACACCGCCCATCCGACTTTTGTGACAATAATGTCATTCATCGGTGATGCTTCATATGACTTGGCGCAAACTGCACCGTGATAGAGGTTCAAACCCGCCATAAAATCTCCTGAGGATGCCCAACGACAAATCAGGGCCACAAAAGCTAAGACTTGGACGAGCCGAGTAACCACAAGTCCTCTGGATTCACTCGATCGTATATTCTACTGTCTCAACAATGATCCTTCCGCAGGTTCACCTACGGAAACCTTGTTACG\n",
      "Z78516.1\n",
      "TTAAACTCAGCGGGTGGCCCCGCCTGACCTGGGGTCATATCTGAATGGCAATCAATCACTCGAGGGTTGTTTTGCCTCCATTGGGGTTCAAATAGGTTCTTCTGTGGGTCCGACAAATACGACAACATGTGGGATTTGAACGATAGTCTTGCGACTATCAACATGCTCCACCTCCTGCCGGGGTTCGGGACATCAAAACACCAATCCTTAGACCCACCGCACCTAAGCACAAGGGGTCAATCTTTCATATCTATGCAATACTGGCCTAATTGTATGTCGGGCAAGCATTGGCAAAAGAGATGCAGCACACGACGCCCAGGCAGGCGTGCCCTTAGCCTGATGGCCTTGGGCGCAACTTGCGTTCAAAGACTCGATGGTTCACGGGATTCTGCAATTCACACCACTTATCGCATTTCGCTAAGATATCCGTTGACGAGAGTCATCAAAAAATTATTGGTATGCACAATAGCACACCGCCCATCCGACTTTGGTGACAATAATGTCATTCGTCGGTGATGCTTCATATGACTTGGCGCAAACTGCGCCGTGATAGAGGTTCAAACCCGCCATAAAAGCTCCTGAGGATGCCCAACGACAAATCAGGGCCACAAAAGCTAAGACTTGGACGAGCCGAGTAACCACAAGTCCTCCGGATTCACTCGATCATATATTATACTGTCTCAACAATGATCCTTCCGCAGGTTCACCTACGGAAACCTTGTTACG\n",
      "Z78515.1\n",
      "GCTTAAACTCAGCGGGTGGCCTCACCTGACCTGGGGTTGCTTCCAAATGGCAATCAACCGCCCATGGGTTGGGTTGATGTGGCACCAATGGGGTTCCGAAGGGTCCTACGAATTATGATGGCCCATCAAATCGGACAACATACGGCATTCGCACAACAGCTTTGGCTCAGCCATTGCCCATCCACCTCTTGTCGAATTTTGGACCATCAAAAGCCCGAGGTCTTAGACCCATTGAACCGAAGAACAAGGGGCCAAACTCACATCCGCACCGACCGAACGGTATTCTTGGACAACCATTGGTGGGAGAGACACAGTACACAACGCCCAGGCAGGCGTGCCCTTAGCCTGACGGCCTCGAGCGCAACTTGCGTTCAAAGACTCGATGTTCACGGGATTCTGCAATTCACACCACTTATCGCATTTCGCTGCGTCCTCCATCGATGCAAGAGCCGAGATATCCGTTGCCGAGAGTTGTAAAAATGTAACTTGGGGGGCACGAATCAAGTGCCACCCCCACCGGCTACAAGGGAACACCCCTATGCCGATTCTTGTCTCAAAAGACTTGGCGCGAAGCTGCGCCGGGCTAGAAGTTTGATCGCCTTCAAGAACACTCCCAAGGAGGCCCGATGGCAGATCAAAGGCCACCACAGTAGCGAAAGCCCCTGGGAGATCGAAGTACACCGGTCCTCCAGATTAACTCGATCGTTTATTCTACGGTCTCAGCAATGATCCTTCCGCAGGTTCACCTACGGAAACCTTGTTACG\n",
      "Z78514.1\n",
      "TAGCGGGTAGTCTCACCTGACCTGGGGTTGCATCCTAATGGCCGTCAACCGCCCATGGGTTGGGTCGACGTGCCTCCGACGGGGTTCGAAAGGGATCATTCCGGCCCATCAAATACGACAACATAGGGCATTCGCACAACAGCTTTGTCGCAGCCACCGTCCGTCCACCTCTTGCCGGATTTGTGGACCGTCACAAGCCCAAGTCTTGGACCCATCGCACCGAAGAACAAGGGGCCAAACTCTCATCCTCGCCGGCCGAACAGTATGGCTGTTCAACCTTAGCATTGGGAGAGATGCAGCACGCAACGCCCAGGCAGGCGTGCCCTTAGCCTGATGGCCTCGGGCGCAACTTGCGTTCAAAGACTCGATGGTTCACGGGATTCTGCAATTCACACCACTTATCACATTTCGCTGGGTTCTTCATCGATGCAAGAGCCGAGATATCCGTTGACGAGAGTTGTCAGACGAATCTTAAGGGGGCACAGCAGCACGCCGGCCCTCCCCGGTCCATCCATGGAGGACGAAGACCCTTGTCGGTTCTATCTCATTTGACTTGGAGCGAAACTGCGCCGGGCCAAGGGTTCAATTGCCATAGAGAACTCTCCCAAGGAGGTTCGATGGGAAATCATGGTCACCACAGCGGCGGAAGCCCCTGGGAGACCAAAGTACACCGGTCCTCCGGATTATCTCGATCGTATATTTGGGGGCTTCAAAAATGATCCTCCCGAAGGTCCACCTACGGAAACCTTGTTACG\n",
      "Z78513.1\n",
      "CTCAGCGGTAGCTCACTGACTGGGTTGCATCCTAATGGCGTCACCGCCCATGGGTTGGGTCGACGTGCCTCCGAAGGGGTTCGAAAGGGATCGTTCTGGCACATCAAATACGACAACATAGGGCATTCGCACAAAAGCTTCGTCGCAGCCACCGTCCGTCCACCTCTTGCCGGATTTGTGGACCGTCACAAGCCCAAGTCTTGGACCCATCGCACAGAAGAACAAGGGGCCAAACTCTCATCCTCGCCGGCCGAACAGTATGGCTGTTCAACCTTAGCATTGGGAGAGATGCAGCACGCAACGCCCAGGCAGGCGTGCCCTTAGCCTGATGGCCTCGGGCGCAACTTGCGTTCAAAGACTCGATGGTTCACGGGATTCTGCAATTCACACCACTTATCACATTTCGCTGCGTTCTTCATCGATGCAAGAGCCGAGATATCCGTTGCCGAGAGTTGTCGAAAATTCTTTCGGGCACAGCAGCATGCCGGCCTCCCCGGCTCCATGGAGGACGATGCCCTTGCCGGTTCTATCTCATTTGACTTGGCGCGAAACTGCGCCGGGCCAAGGGTTCAATTGCCATGGAGAAATCTCCCAATGAGGCTCGATGGCAAATCATGGTCACCACAGCGGCGGAAGCCCCTGGGAGACCAAAGTACACCGGTCCTCCGGATTAACTCGATCGTGTATTTGGCGGTCTCAACAATGATCCTTCCGCAGGTTCACCTACGGAAACCTTGTTACG\n",
      "Z78512.1\n",
      "GCTTAAACTCAGCGGGTGGCCTCACCTGACCTGGGGTTGGATCCAAATGACCGTCGACCGCCCACGGGTTGACGTGCCTCCAATGGGGTTCAAAAGGGATTTATTCCGGCCCATCAAATACGACAACGCAGGGCATTCGCACGACAGCTTCGTCGCAGCCACCGTCCGTCCACCTCTTGCCGGATTTCCGGCCGTCAAAAGCCCAGGTCTTGGACCCATCGCACCGAAGAACAAGGGGCCAAACACTCATCCGCGCCGGCCGAACAGTATGCCTGTTCAGCCTTAGCAATGGGAGAGAGATGCAGCACGCAACGCCCAGGCAGGCGTGCCCTTAGCCTGATGGCCTCGGGCGCAACTTGCGTTCAAAGACTCGATGGTTCACGGGATTCTGCAATTCACACCAGCTTATCACATTTCGCTGCGTTCTTCATCGATGCAAGAGCCGAGATATCCGTTGCGAGAGTTGTCAAAAAATAATTTCATTGGGGGAACGGAAGAACGCCGGCCCTCCCCGGTTCCATGGGGGACGATGCCCTCCGCCGGTTCCATCTCATTTGATTTGGGGCGAAACTGCGCCGGGCCAAGGGTTTCATTTGCCATCAAGAATTCCTCCCAGAGGGTTCGACGGAAATTCACGGTCACCACAGTAGCCAAGGCCCCTGGGAGACCAAACTACACCGGCCCTCCGGATTAATTCGATCGTTTTTTTGGGGGCTTCAAAAATGATCCTCCCGAAGGTCCACCTACGGAAACCTTGTTACG\n",
      "Z78511.1\n",
      "TCCTCACCTGACCTGGGGTTGCATCCAAATGGCCGTCGACCGCCCACGGGTTGACGTGCCTCCAATGGGGCTCAAAAGGGATTTATTCCGGCCCATCAAATACGACAGCGTAGGGCATTCGCACGACAGCTTCGTCGCAGCCACCGTCCGTCCACCTCTTGCCGGATTTCCGGCCGTCAAAAGCCCAGGTCTTGGACCCATCGCACCGAAGAACAAGGGGCCAAACACTCATCCGCGCCGGCCGAACAGTATGCCTGTTCAGCCTTAGCAATGGGAGAGAGATGCAGCACGCAACGCCCAGGCAGGCGTGCCCTTAGCCTGATGGCCTCGGGCGCAACTTGCGTTCAAAGACTCGATGGTTCACGGGATTCTGCAATTCACACCACTTATCACATTTCGCTGGGTTCTTTCATCGGATGCAAAGAGCCGAGATATCCGTTGCCGAGAGTTGTCAAAAAAAAATTCATGGGGGGAACGGAAGAACGCCGGCCCTCCCCGGTTCCATGGAGGACGATGCCCTCCGCCGGTTCCATCTCATTTGACTTGGGGCGAAACTGCGCCGGGCCAAGGGTTCAATTGCCATCAAGAATTCTCCCAAGGAGGTTCGACGGAAATTCACGGCCACCACAGTAGCCAAAGCCCCTGGGAGACCAAACTACACCGGTCCTCCGGATTAACTCGATCGTTTTTTTGGGGGTCTCAACAATGATCCTTCCGAAGGTTCACCTACGGAAACCTTGTTACG\n",
      "Z78510.1\n",
      "TAAACTCAGCGGGTGGCTCACCTGACCTGGGGTTGCATCCAAATGGCCGTCAACCGCCCATGGGTTGACGTGCCTCCAATGGGGTTCAAAAGGGATTTATTCCGGCCCATCAAAAACGACAACGCAGGGCATTCGCACGACAGCTTTGTCGCAGCCACCGTCCGTCCACCTCTTGCCGGATTTTGGACCGTCAAAAGCCCAGGTCTTGGACCCATCGCACCGAAGAACAAGGGGCCAATCTCTCATCCGCGCCGGCCGAACAGTATGCCCGTTCAACCTTAGCAATGGGAGAGATGCAGCACGCAACGCCCAGGCAGGCGTGCCCTTAGCCTGATGGCCTCGGGCGCAACTTGCGTTCAAAGACTCGATGGTTCACGGGATTCTGCAATTCACACCACTTATCACATTTCGCTGCGTTCTTCCATCCGATGCAAAGAGGCGAGATATCCGTTGCGAGAGTTGTCAAAAAATCCGAGGGGGGAACGGAAGAATGCCGGCCCTCCCCGGTTCCATGGGGGGGGACGCCCCCTGCCGGTCCTATCTCATTTGATTGGGGGGGAAATTGCGCCGGGCCAAGGGTCCATTGGCCACCAAGAATTCTCCCAGGGGGGTTCGATGGAAATTCACGGCCACCAAGGGGGGAAAGCCCCTGGGGAGACCAAATTAAACCGGTCCTCCGGTTTAATTCGATCGTTTTTTCGGGGGCTTAAAAAGGAATCCTCCCGAAGGTCACCTCGGAACCCTGGTTAG\n",
      "Z78509.1\n",
      "TCCTAAAATTAACGGGTGCCTTAACTTGCCGGGGTTAACCAAATGCCCGTCACCCCCCATTGGGTTGACGTGCCTCCAATGGGGTTCAAAAGGGATTTATTCTGGCCCATCAAAAACGACAACGTAGGGCATTCGCACGACAGCTCTGTCGCAGCCACCGTCCGTCCACCTCTTGCCGGATTTTGGACCGTCAAAAGCCCAGGTCTTGGACCCATCGCACCGAAGAACAAGGGGCCAAACTCTCATCCGCGCCGGCCGAACAGTATGCCCGTTCAACCTTAGCAATGGGAGAGATGCAGCACGCAACGCCCAGGCAGGCGTGCCCTTAACCTGATGGCCTCGGGCGCAACTTGCGTTCAAAGACTCGATGGTTCACGGGATTCTGCAATTCACACCTGCTTATCACATTTAAACCTTGTTACGTCCGTTGCCGAGAGTTGTCAGAAAAATTCATGGGGGGGCACGGAGCATGCCGGCCCTCCCCGCTCCATGGAGGACGACGCCCTCCGCCGGTTCTATCTCATATGACTTGGCGCGAAACTGCGCCGGGCCAAGGGTTCAATTGCCATCAAGAAATCTCCCAAGGAGGCTCGATGGCAAATCACGGTCACCACAGCGGCGAAAGCCCCTGGGAGACCAAACTACACCGGTCCTCCGGATTAACTCGATCGTATATTTGGCGGTCTCAACAATGATCCTTCCGCAGGTTCACCTACGGAAACCTTGTTACG\n",
      "Z78508.1\n",
      "TCAGCGGTGGCTCACTGACTGGGTTGCATCCAAGTGGCCGTCACCGCCCATGGGGTTGACGTGCCTCCAATGGGGTTCAAAGGGATTTATTCCGGCCCATCAAATACGACAACGTAGGGCATTCGCACGACAGCTCTGTCGCAGCCACCGTCCGTCCACCTCTTGCCGGATTTTGGACCGTCAAAAGCCCAGGTCTTGGACCCATCGCACCGAAGAACAAGGGGCCAAACTCTCATCCGCGCCGGCCGAACAGTATGCCCGTTCAACCTTAGCAATGGGAGAGATGCAGCACGCAACGCCCAGGCAGGCGTGCCCTTAGCCTGATGGCCTCGGGCGCAACTTGCGTTCAAAGACTCGATGGTTCACGGGATTCTGCAATTCACACCACTTATCACATTTCGCTGCGTTCTTCATCGATGCAAGAGCCGAGATATCCGTTGCCGAGAGTTGTCAAAAAATTCATTGGGGGCACGGCAGCATGCCGGCCCTCCCCGGCTCCATGGAGGACGACGCCCCCTGCCGGTTCTATCTCATATGACTTGGCGCGAAACTGCGCCGGGCCAAGGGTTCAATTGCCATCAAGAAATCTCCCAAGGAGGCTCGATGGCAAATCACGGTCACCACAGCGGCGAAAGCCCCTGGGAGACCAAACTACACCGGTCCTCCGGATTAACTCGATCGTATATTTGGCGGTCTCAACAATGATCCTTCCGCAGGTTCACCTACGGAAACCTTGTTACG\n",
      "Z78507.1\n",
      "TCAGCGGTGGCTCACTGACTGGGTTGCATCCAAATGGCCGTCGACCGCCACGGGTTGACGTGCCTCCAATGGGGTTCAAAGGGATTTATTCCGGCCCATCAAATACGACAACGCAGGGCATTCGCACGACAGCTTCGTCGCAGCCACCGTCCGTCCACCTCTTGCCGGATTTCCGGCCGTCAAAAGCCCAGGTCTTGGACCCATCGCACCGAAGAACAAGGGGCCAAACACTCATCCGCGCCGGCCGAACAGTATGCCTGTTCAGCCTTAGCAATGGGAGAGAGATGCAGCACGCAACGCCCAGGCAGGCGTGCCCTTAGCCTGATGGCCTCGGGCGCAACTTGCGTTCAAAGACTCGATGGTTCACGGGATTCTGCAATTCACACCACTTATCACATTTCGCTGTGTTCTTCATCGATGCAAGAGCGAGATATCCGTTGCGAGAGTTGTCAAAAAAATTCATTGGGGGACGGAAGCACGCCGGCCCTCCCCGGTTCCATGGAGGACGATGCCCTCCGCCGGTTCCATCTCATTTGACTTGGGGCGAAACTGCGCCGGGCCAAGGGTTCAATTGCCATCAAGAAATCTCCCAAGGAGGCTCGACGGAAATTCACGGTCACCACAGTAGCCAAAGCCCCTGGGAGACCAAACTACACCGGTCCTCCGGATTAACTCGATCGTTTTTTTGGGGGTCTCAACAATGATCCTTCCGCAGGTTCACCTACGGAAACCTTGTTACG\n",
      "Z78506.1\n",
      "TCAGCGGGTGGCCTCACCTGACTGGGTTGGCATCCAATGGCCGTCAAACCGCCCATGGGTTGACGTGCCTCCAATGGGGTTCAAAAGGGATTTATTCTGGCCCATCAAATACGACAACGTAGGGCATTCGCACGACAGCTTTGTCGCAGCCACCGTCCGTCCACCTCTTGCCGGATTTTTTACCGTCAAAAGCCCAGGTCTTGGACCCATCGCACCGAAGAACAAGGGGCCAAACTCTCATCCGCGCCGGCCGAACAGTATATGCCTGTTCGACCTTAGCAACGGGAGAGATGCAGCACGCAACGCCCAGGCAGGCGTGCCCTTAGCCTGATGGCCTCGGGCGCAACTTGCGTTCAAAGACTCGATGGTTCACGGGATTCTGCAATTCACACCACTTATCACATTATGAGCTGAGGGCTCCTTGAACGAGAGTTGTCAGCCCGATTCAAAGGGGGTACGGCGGCATGCCGGTCCTCCCCGGTTCCATGGAGGACGAAGCCCTCTGCCGGTTCTATCTCATACGACTTGGCGCGAAACTGCGCCGGGCCAAGGGTTCAATTGCCATCAAGAAATCTCCCGAGGAGGCTCGATGGAAAATCATGGTCACCGCAGTAGCCAACGCCCCTGGGAGACCAAACTACACCAGTCCTCCGGATTAACTCGATCGTATATTTTGCGGTCTCAACAATGATCCTTCCGCAGGTTCACCTACGGAAACCTTGTTACG\n",
      "Z78505.1\n",
      "AAAACTCAGCGGGTGGCTCACCTGACCTGGGGTTGCATCCAAATGGCCGTCAACCGCCCATGGGTTGACGTGCCTCCAATGGGGTTCAAAAGGGATTTATTCCGGCCCATCAAATACGACAACGCAGGGCATTCGCACGACAGCTTTGTCGCAGCCACCGTCCGTCCACCTCTTGCCGGATTTTTTACCGTCAAAAGCCCAGGTCTTGGACCCATCGCACCGAAGAACAAGGGGCCAAACTCTCATCCGCGCCGACCGAACAGTATGCCTGTTCGACCTTAGCAACGGGAGAGATGCAGCACGCAACGCCCAGGCAGGCGTGCCCTTAGCCTGATGGCCTCGGGCGCAACTTGCGTTCAAAGACTCGATGGTTCACGGGATTCTGCAATTCACACCACTTATCACATTGACGAGAGTTGTCACAAAGATTCATTGGGGGTATGGTGGTATGCCGGGCCTCCCCGGTTCCATGGAGGACGAAGACCTCTGCCGGTTCTATCTCATACGACTTGGCGCGAAACTGCGCCGGGCCACGGGTTCAATTGCCATCAAGAAATCTCCCGAGGAGGCTCGATGGAATATCATGGTCACCGCAGTAGCCACCGCCCCTGGGAGACCAAACTACACCAGTCCTCCGGATTAACTCGATCGTATATTTGGCGGTCTCAACAATGATCCTTCCGCAGGTTCACCTACGGAAACCTTGTTACG\n",
      "Z78504.1\n",
      "TTACTCAGCGGTGGCTCACTGACTGGGGTTGCATCCAATGGCCGTCACCGCCCATGGGTTGACGTGCCTCCAATGGGGTTCAAAAGGGATTTATTCTGGCCCATCAAATACGACAACGTAGGGCATTCGCACGACAGTTTTGTCGCAGCCACCGTCCGTCCACCTCTTGTCGGATTTGGTACCGTCAAAAGCCCAGGTCTTGGACCCATCGCACCGAAGAACAAGGGGCCAAACTCTCATCCGCGCCGGCCGAACAGTATGTCTGTTCGACCTTAGCAACGGGAGAGATGCAGCACGCAACGCCCAGGCAGGCGTGCCCTTAGCCTGATGGCTCGGGCGCAACTTGCGTTCAAAGACTCGATGGTTCACGGGATTCTGCAATTCACACCACTTATCACATTTCGCTGCGTTCTTCATCGATGAAGAGCGAGATATCCGTTGCGAGAGTTGTCAAAAAGATTCATTGGGGGCACGGCGGGCATGCCGGCCCTCCCCGGCTCCATGGAGGGACGATGCCCTCTGACGGTTCTATCTCATACGACTTGGCGCGAAACTGCGCCGGGCCAAGGGTTCAATTGCCATCAAGAAATCTCCCGAGGAGGCTCGATGGAAAATCATGGTCACCGCAGTAGCCAACGCCCCTGGGAGACAAACTACACCAGTCCTCCGGATTAACTCGATCGTATATTTTGCGGTCTCAACAATGATCCTTCCGAAGGTTCACCTACGGAAACCTTGTTACG\n",
      "Z78503.1\n",
      "TTATCTCAGCGGGTGGCTCACCTGACCTGGGGTTGCATCCAAATGGCCGTCAACCGCCCATGGGTTGACGTGCCTCCAATGGGGTTCAAAAGGGATTTATTCTGGCCCATCAAATACGACAACGTAGGGCATTCGCACGACAGCTTTGTCGCAGCCACCGTCCGTCCACCTCTTGCCGGATTTTGGACCGTCAAAAGCCCAGGTCTTGGACCCATCGCACCGAAGAACAAGGGGCCAAACTCTCGTCCGCGCCGGCCGAACAGTATGCCCGTTCAACCTTAGCAATGGGAGAGATGCAGCACGCAACGCCCAGGCAGGCGTGCCCTTAGCCTGATGGCCTCGGGCGCAACTTGCGTTCAAAGACTCGATGGTTCACGGGATTCTGCAATTCACACCACTTATCACAAAGAGCTGAGACTCCGTTGCCGAGAGTTGTCAAAATAATTCATTGGGGGTACGGTAGCATGCCGGCCCTCCCCGGTTCCATGGAGGACGACGCCCCCTGCCGGTTCTATCTCATATGACTTGGCGCGAAACTGCGCCGGGCCATGGGTTCAATTGCCATCAAGAAATCTCCCAAGGAGGCTCGATGGTAAATCACGGACACCACAGCGGCGAAAGCCCCTGGGAGACCAAACTACACCGGTCCTCCGGATTAACTCGATCGTATATTTGGCGGTCTCAACAAGGATCCTTCCGGAGGTTCACCTACGGAAACCTGGTTACG\n",
      "Z78502.1\n",
      "GCGTAAACTCACGGGGTGGCCTCACCTGACCTGGGGTTGCATCCAAATGGCCGTCAACCGCCCATGGGTTGACGTGCCTCCAATGGGGTTCAAAAGGGATTTATTCTGGCCCATCAAATACGACAACGTAGGGCATTCGCACGACAGCTTTGTCGCAGCCACCGTCCGTCCACCTCTTGCCGGATTTTGGACCGTCAAAAGCCCAGGTCTTGGACCCATCGCACCGAAGAACAAGGGGCCAAACTCTCGTCCGCGCCGGCCGAACAGTACGCCCGTTCAACCTTAGCAATGGGAGAGATGCAGCACGCAACGCCCAGGCAGGCGTGCCCTTAGCCTGATGGCCTCGGGCGCAACTTGCGTTCAAAGACTCGATGGTTCACGGGATTCTGCAATTCACACCACTTATCACATTTTCGCTGCGTCCTTCCATCGATGCAAGAGCCGAGATTCCGGCCGAGAGTTGTCAATATAAAATTCATTGGGGGGACGGTAGTATGCCGGCCCTCCCCGGCTCCATGGAGGACGACGACCCCTGCCGGTTCTATCTCATATGACTTGGCGCGAAACTGCGCCGGGTCATGGGTTCAATTGCCATCAAGAAATCTCCCAAGGAGGCTCGATGGCAAATCACGGTCACCACAGGGGCGAAAGCCCCTGGGAGACCAAACTACACCGGTCCTCCGGATTAACTCGATCGTATATTTGGCGGTCTCAACAATGATCCTTCCGGAGGTTCACCTACGGAAACCTGGTTACG\n",
      "Z78501.1\n",
      "TCTTAAACTCAGCGGGTGGCCTCACCTGACCTGGGGTTGCATCCAAATGGCCGTCGACCGCCCACGGGTTGACGTGCCTCCAATGGGGTTCAAAAGGGATTTATTCCGGCCCATCAAATACGACAGCGTAGGGCATTCGCTCGACAGCTTCGTCGCAGCCACCGTCCGTCCACCTCTTGCCGGATTTCCGGCCGTCAAAAGCCCAGGTCTTGGACCCATCGCACCGAAGAACAAGGGGCCAAACACTCATCCGCGCCGGCCGAACAGTATGCCTGTTCAGCCTTAGCAATGGGAGAGAGATGCAGCACGCAACGCCCAGGCAGGCGTGCCCTTAGCCTGATGGCCTCGGGCGCAACTTGCGTTCAAAAGACTCGATGGTTCACGGGATTCTGCAATTCACAACACTTATCACAATTTCGCTGCGTCCTTCCATCCGATGCAAGGAGCCGAGATTTCCCGTTTGGCCGAGAGTTGCCCAAAAAAAAATTCATTGGGGGCACGGCAACACGCCGGCCCTCCCCGGCTCCATGGAGGACGATTCCCTCCGCCGGTTCCATCTCATATGACTTGGCGCGAAACTGCGCCGGGCCAAGGGTTCAATTTCCATCAAGAAATCTCCCAAGGAGGCTCGACGGCAAAGTCACGGTCACCACAGTAACCAAAGCCCCTGGGAGACCAAACTACACCGGTCCTCCGGATTAACTCGATCGTATATTTTGCGGTCTCAACAATGATCCTTCCGCAGGTTCACCTACGGAAACCTTGTTACG\n",
      "Z78500.1\n",
      "CTTAAACTCAGCGGGTGGCCTCACCTGACCTGGGGTTGCATCCAAATGGCCGTCGACCGCCCACGGGTTGACGTGCCTCCAATGGGGTTCAAAAGGGATTTATTCCGGCCCATCAAATACGACAGCGTAGGGCATTCGCACGACAGCTTCGTCGCAGCCACCGTCCGTCCACCTCTTGCCGGATTTCCGGCCGTCAAAAGCCCAGGTCTTGGACCCATCGCACCGAAGAACAAGGGGCCAAACACTCATCCGCGCCGGCCGAACAGTATGCCTGTTCAGCCTTAGCAATGGGAGAGAGATGCAGCACGCAACGCCCAGGCAGGCGTGCCCTTAGCCTGATGGCCTCGGGCGCAACTTGCGTTCAAAGACTCGATGGTTCACGGGATTCTGCAATTCACACCACTTATCACAATTCGCTGCGTCCTTCCATCCGATGCAAAGAGCCGAGATTCCCGTTGGCCGAGAAGTTTTCCCAAAGAAAAATTCATTGGGGGCACGGCAGGACGCCGGCCCTCCCCGGCTCCATGGAGGGCGATGCCCTCCGCCGGTTCCATCTCATATGACTTGGCGCGAAACTGCGCCGGGCCAAGGGTTCAATTGCCATCAAGAAATCTCCCAAGGAGGCTCGACGGCAAAGTCACGGTCACCACAGTAACCAAAGCCCCTGGGAGACCAAACTACACCGGTCCTCCGGATTAACTCGATCAATTATTTTGCGGTCTCAACAATGAGCCTTCCGCAGGTTCACCTACGGAAACCTTGTTACG\n",
      "Z78499.1\n",
      "GGTTGCTCACCTGACCTGGGGTCGCATCCAAAAGGCCATCAACTGATCATGGGTTGATGGGCCTCCAATGGGGTTCACAAGGGTCTCTAGATTATGATGGCCCATCTAATACGACAACCTGGAGCATTCGCCCAACAGTTTTGTTGTAGCATGATTCGTCCACCTCTTGCCGAATTTAGGACCATCAAAAGCCCCTGCAGCTCTTAGACCCCCAGCACCAAAGAACAAGGGGGCAAACTCACATCCGCACCGGCTGAACAGTATGCATGGACAGCCTCATTAAGGGAGAGATATGACTCGCAATGCCCAGGCAGGCGTGCCCTTGGCCTGATGGCTTGGGCGCAACTTGCGTTCAAAGACTCGATGGTTCACGGGATCTTGCAATTCACACACTTATCGCATTTCGCTGCGTCCTCCATCCGATGCAAAGAGCCGAGATATCCGTTGGCTGAGAGTTGTCAAAAAAATAATTGGGAGAGGTCAAGGCCACATGCCGTCCCCTCCTCGAATTCAACGAAGGGGGTATGTCCTTCACCATTTATGTGTCATATGACTTGGTGCAAAACTGCGACGGGCAAGGGTTAGATCGCCGGCAAGAAAGCTCCCAAGGAGGCTCCCTCCATGGAAAATCTAGGTCACCGCAATAGCAGGCGCCCAAGGGTGACCAAAGTAAACCGATCCTCTGGATTATCTCGATCAATTATTATGCGATCTCAACAATGATCCCTCCGCAGGTTCACCTACGGAAACCTTGTTACG\n",
      "Z78498.1\n",
      "GCTTAAACTCAGCGGGTTGCTCACTGACTGGGGTCGCAACAAATGGCCATCAACTGATCACGGGTTGATGTGCCTCCAGTGGGGTTCACAAGGGTCTTTAGATTATGCTGGCCCATCTAATACGACAACCTGGAGCATTCGCACAACAGTTTTGTTGTAATTCGTCCACCTCTTGCCGAATTTAGGACCATCAAAAGCCCCTGCAGCTCTTAGACCCCCAGCACCGAAGAACAAGGGGCCAAACTCACATCCGCACCGGCTGAACAGTATGCATGTACAGCCTCATTAAGGGAGAGATATGACTCGCAATGCCCAGGCAGGCGTGCCCTTGGCCTGATGGCCTTGGGCGCAACTTGCGTTCAAAGACTCGATGGTTCACGGGATCCTGCAATTCACACCACTTATCGCATTTCGCTGGGTTCTTCATCGATGCAAGAGCCGAGATATCCGTTGCTGAGAGTTGTCCAAAAATAATTTGGAGAGGGGGAGTGATTGTAGGGTCAAGGGCAAAATGCCGCCCCCTCCTTCGCCATTATTGTGTCATATGACTTGGGGCAAAACTGCCCCGGGCAAGGGTAAGATCGCCGGCAAGAAAACTCCCAAGGAGGCTCCATGGCAAATCTAGGTCACCGCAATAGCAAGCACCCATGGGTGACCGGAGTAAACTGATCCTCTGGAGTAACTCGATCAATTATTATGTGATCTCAACAATGACCTTTCCGCAGGTTCACCTACGGAAACCTTGTTACG\n",
      "Z78497.1\n",
      "GCTTAAACTCAGCGGGTTGCCTCACCTGACCTGGGGTCGCAACCAAATGGCCATCAACTGATCATGGGTTGATGGGCCTCCAATGGGGTTCACAAGGGTGTTTAGATTATGCTGGCCCATCTAATACGACAACCCGGGGCATTCGCACAACAGTTTTGTTGTAGCGCGTTGCGTCCACCTCTTGCCGAATTTAGGACCATCAAAAGCCCCTGCAGCTCTTAGACCCCCAGCACCAAAGAACAAGGGGCCAAACTCACACCCGCACCGGCTGAACAGTATGCCTGGACAGCCTCGTTAAGGGAGAGATATGACTCGCAATGCCCAGGCAGGCGTGCCCTTGGCCTGATGGCCTTGGGCGCAACTTGCGTTCAAAGACTCGATGGTTCACGGGATTCTGCAATTCACACCACTTATCGCATTTCGCTGCGTTCCTTCATCGATGCAAGAGCTGAGATCTCCGTTGCTGAGAGTTGTTTCACAAAAAATAATTTGGAGAGGGGGAGGGAGTGTAGGCTCAAGGCCACATGCCCTTCACCTCCTTGAATTCACAAAGGGCCGTGCCCTTCACCATTTATGTGTCATGTGACTTGGCGCAAAACTGCGCCGGGCAAGGGTTAGATCGCCGGCAAGAAAGCTCCCAAGGAGGCTCCATGGCAAATCTAGGTCACCGCAATAGCAAGCGCCCATGGGCGACCAAAGTAAACTGATCCTCTGGATTCACTCGATCAATTATTATGTGATCTCAACAATGATCCTTCCGCAGGTTCACCTACGGAAACCTTGTTACG\n",
      "Z78496.1\n",
      "GCTTAAACTCAGCTGGTTGCCTCACCTGACCTGGGGTCGCAACCCAAAAGGCCATCAACTGATCATGGGTTGATGGGCCTCCAATGGGGTTCACAAGGGTCTCTAGATTATGATGGCCCATCTAATACGACAACCTGGAGCATTCGCCCAACAGTTTTGTTGTAGCATGATTCGTCCACCTCTTGCCGAATTTAGGACCATCAAAAGCCCCTGCAGCTCTTAGACCCCCAGCACCAAAGAACAAGGGGCCAAACTCACATCCGCACCGGCTGAACAGTATGCATGGACAGCCTCATTAAGGGAGAGATATGACTCGCAATGCCCAGGCAGGCGTGCCCTTGGCCTGATGGCCTTGGGCGCAACTTGCGTTCAAAAGACTCGATGGTTCACGGGATTCTGCAATTCACACCACTTATCGCATTTCGGTGCGTCCCTCCATCGATGCAAGAGCCGAGATATCCGTTGCTGAGAGTTGTTCAAAAAATTAATTGGAGAGGTCAAGGCCACATGCCGGCCCCTCCTCGAATTCACGAAGGGATATGCCCTTCACCAATTATGTGTCATATGACTTGGCGCAAAACTGCGCCGGGCAAGGGTTAGATCGCCGGCAAGAAAGCTCCCAAGGAGGCTCCCTCCATGGCAAATCTAGGTCACCGCAATAGCAGGCGCCCAAGGGTGACCAAAGTAAACCGATCCTCTGGATTAACTCGATCAATTATTATGCGATCTCAACAATGATCCTTCCGCAGGTTCACCTACGGAAACCTTGTTACG\n",
      "Z78495.1\n",
      "CACTCAGCGGGTTGCTCACTGACCTGGGGTCGCAACCGAATGGCCATCAACTGATCATGGGTTGATGGGCCTCCAATGGGGTTCACAAGGGTCTCTGGATTATGCCGGCCCATCTAATACGACAACCTGGAGCATTCGCACAACAACAGTGTTGTTGTAGCCTGATTCGTCCACCTCTTGCCGAATTTAGGACCATCAAAAGCCCCTGCTGCTCTTAGACCCCCAGCACCAAAGAACAAGGGGCCAAACTCACATCCGCACCGGCTGAACAGTATGCATGGACAGCCTCATTGAGGGAGAGAGATGACTCGCAATGCCCAGGCAGGCGTGCCCTTGGCCTCATGGCCTCGGGCGCAACTTGCGTTCAAAAGACTCGATGGTTCACGGGATTCTGCAATTCACACCACTTATCGGATTTCGCTGCGTTCCTCCATCCGATGCAAGAGCTGAGATATCCGTTGCTGAGAGTTGTTCAGAAAAATACTTTGGAGAGGGGGAGAGCGAGTGCAGTGTCAAGGCCACATGCCGCCCCCCCTCCTTGAATACACGAAGGGCTATGCCCTTCACCAATTATGTGTCATATGACTTGGCGCAAAACCGCGCCGGACAAGGGTTAGATCGCCGGCAAGAAAGCTCCCAAGGAGGCTCTCCATGGCAACTCTAGGTCACCGCAATAGCAAGCGCCCATGGGTGACCAAAGTAAACCGATCCTCTGGATTATCTCGATCAATTATTATGTGATCTCAACAATGATCCTTCCGGAGGTTCACCTACGGAAACCTTGTTACG\n",
      "Z78494.1\n",
      "CTTAAACTCAGCGGGTTGCCTCACCTGACCTGGGATCGCAACCAAATGGCCATTCAACTGATCATGGGTCGATGGGCCTCCAATGGGGTTCAAAAGGGTCTTCTGATTAAACACAACAACCCGGGGCATTCGCACAACAGTTTTGTTGTAGCATAGTTCGTCCACCTCTTGCCGTATTTAGGACCATCAAAAGCCCATGCAGCTCTTAGACCCCCCGTACCGAAGAACAAGGGGCCAAACTCACATCCGCACCGGCTGAACAGTACGTATGGACAGCCTCATTAAGGGAGAGATATGACTCGCAATGCCCAGACAGGCGTTCCCTTGGCCTGTTGGCCTCGGGCCCAACTTGCGTTCAAAGACTCGATGTTAACGGGATTCTGCAATTCACACCTGAGATATCCGAAGTTGAGAGTGTTACCTCAATAATGGGGAGTTGGTCAAGGCAGTATGCCGTCCCCCTTCATTAATTATGGGTCATTTGATTTGGCGCATTACTGCGCCGGGCAAGGGTATAGATCGCCAGCAGGAAAGTTCCCAAGGAGGCCCGATGGTAAATCTAGGTCACTGCAACAGTAAATGTCCATGGGTGACCAAAGTAAACTGATCCTCCAGATTAACTCGATCAATTATTATGCGACCTCAACAATGATCCTTCCGCAGGTTCACCTACGGAAACCTTGTTACG\n",
      "Z78493.1\n",
      "GGGTTGCCTCACCTGACCTGGGATCGCAACCAAATGGCCATTCAACTGATCATGGGTCGATGGGCCTCCAATGGGGTTCAAAAGGGTCTTCTGATTAAACACAACAACCCGGGGCATTCGCACAACAGTTTTGTTGTAGCATAGTTCGTCCACCTCTTGCCGTATTTAGGACCATCAAAAGCCCATGCAGCTCTTAGACCCCCCGTACCGAAGAACAAGGGGCCAAACTCACATCCACACCGGATGACCAGTACGTTTGGACAGCCTCATTAAGGGAGAGATATGAGTCGCAATGTCCAGGCAGGCGTCCCCTTGGGCTGATGGCCTCGCGCGCAACTTGCGTTCAAAGATTCGATGGTTCACGGGATTCTGCAAGGCACACCATTTATCGAATCTCGCTGCGTTCCTTCATCGATGCATGAGCCGAGATATCCGTTGCTGAGAGTTGTTACCTAAATACTTGGGGGCTGGTCAAGGAAGAATGCCGCCCCCCTTCACCACTTATGTAAAATTTGACTTGGCGCAAAACTGCGCCGGGCAAGGGTATAGATCGCCAGCAGGAAAGCTCCCAGGGAGGCCCGATGGAAATTCTAGGTCACTGCAACAGAAAATGCCCATGGGTGACCAAAGTAAACCGATCCTCCAGATTAACTCGATCAATTATTATGCGATCTCAACAATGATCCTTCCGCAGGTTCACCTACGGAATCCTTGTTACG\n",
      "Z78492.1\n",
      "TATTAAACTCAGCGGTGTGCCTCACCTGACTGGGATCGCAACCAAATGGCCAATCAACTGATCATGGGTTGATGGGCCTCCAATGGGGTCCAAAAGGGTCTTCTGATTAAGCTGGCCCATGTAACACAACAACCCGGGGCATTCGCACAACAGTTTTGTTGTAGCATAATTCGTCCACCTCTTGCCGTATTTAGGACCATCAAAAGCCCGTGCAGCTCTTAGACCCCCCGTCCCAAAGAACAAGGGGCCAAACTCACATCCGCACCGGCTGAACAGTATGTATGGACAGCCTCATTAAGGGAGAGATTTGACTCGCAATGCCCAGGCAGGCGTGCCCTTGGCCTGATGGCCTCGGGCGCAACTTGCGTTCAAAGACTCGATGGTCCACGGGATTCTGCAAATCACACCAGTATCGCATTTCGCTGGGTTCTACATCGATGCAAGAGCCGAGATATCCGTTGCTGAGAGTTGTTAAAAAAATAATTTGGAGTGGGTCAAGGCAGTACGCTCCCCCCCTTCACCAATTATGTGACATATGACTTGGCGCAAAACTGCGCCGGGCAAGGGTATAGATCGCCAGCAAGAAAGCTCCCAAGGAGGCTCGATGGCAAATTCTAGGTCACTGCAACAGCAAATGCCCGTGGGTGACCAAAGTAAACTGATCCTCCAGATTAACTCGATCAATTATTATGCGATCTCAACAATGATCCTTCCGCAGGTTCACCTACGGAAACCTTGTTACG\n",
      "Z78491.1\n",
      "GCTTATCTCAGCGGGTTGCTCACCTGACTGGGATCGCAACAAATGGCCATTCAACTGATCATGGGTTGATGGGCCTCTAATGGGGTCCAAAGGGTCTTCTGATTATGCTGGTCCATGTAACACAACAACCCGGGGCATTCGCACAACATTTTGTTGTAGCATAGTTCGTCCACCTCTTGCCGTATTTAGGACCATCAAAAGCCCATGCAGCTCTTAGACCCCCCGTACCAAAGAACAAGGGGCCAAACTCACATCCGCACCGGCTGAACAGTATGTATGGACAGCCTCATTAAGGGAGAGATATGACTCGCAATGCCCAGGCAGGCGTGCCCTTGGCCTGATGGCCTCGGGCGCAACTTGCGTTCAAAGACTCGATGGTTCACGGGATTCTGCAATTCACACCATTTATCGCATTTCGCTGGTTCTTCATCGATGCAAGAGCCGAGATATCCGTTGCTGAGAGTTGTTAAAAATATAATTTGGAGCGGGTCAAGGCAGCACGCCTCCCCCCAACACCAATTATGTGTCATATGACTTGGCGCAAAACTGCGCCGGGCAAGGGTATAGATCGCCAGCAAGAAAGCTCCTAAGGAGGCCCGATGGCAAATCTAGGTCACTGCAACAGCAAATGCCCGTGGGTGACCAAAGTAAACTGATCCTCCAGATTAACTCGATCAATTATTATGCGATCTCAACAATGATCCTTCCGCAGGTTCACCTACGGAAACCTTGTTACG\n",
      "Z78490.1\n",
      "TCAGCTGGTTGCTCACCTGACTGGGGTCGCAACCAAATGGCCGTCAACTGATCATGGGTTGACGGGCCTCCAATGGGGTTCAAAAGGGTCTTCAAATTATGCTGGCCCATCTAATACGACAACGCGGGGCATTCGCACAACACTTGTTGCAGAACAGTCGTCCACCTCTTGCCGTATTTAGGACCATCAAAAGCCCATGCAGCGTTTAGACCCCCCGTACCAAAGAACAAGGGGCCAAACTCACATCCGCACCGGCTGAACAGTATGTTTGGACAGCCTCATTAAGGGAGAGATATGACTCGCAATGCCCAGGCAGGCGTGCCCTTGGCCTGATGGCCTCGGGCGCAACTTGCGTTCAAAGACTCGATGGTTCACGGGATTCTGCAATTCACACCATTTATCGCATTTCGCTGCGTTCTTCATCGATGCAAGAGCCGAGATATCCGTTGCTGAGAGTTGTTAAAAAATAATTTGGGGAGGGTCGAGGCAGCATGCCGCCCCCTTCACCAATTATGTGCCATATGACTTGGCGCAAAACTGCGCCGGACTAGGGTTCAGATCGCCAGCAAGAAAGCTCCCAAGGAGGCTCGATGGCAAATCTCGGTCACTGCAACAGCAAATGCCCATGGGTGACCAAAGTAAACTGATCCTCCAGATTAACTCGATCAATTATTATGTGATCTCAACAATGATCCTTCCGCAGGTTCACCTACGGAAACCTTGTTACG\n",
      "Z78489.1\n",
      "GCCTAAACTCAGCGGGTTGCCTCACCTGACCTGGGGTCGCAACCAAATGGCCATCAACTGATCATGGGTTGATGGGCCTCCATGGGGTTCAAAAGGGTCTTCAGATATGCTGGGCCCATCTAATACGACAACTCGGGGCATTCGCACAACAGTTTTGTTGTAGCATAGTTCGTCCACCTCTTGCCGTATTTAGGACCATCAAAATCCCATGCAGCTCTTAGACCCCCCGTACCAATGAACAAGGGGCCAAACCCACATCCCCACCGGCTGAACAGTATGTATGGACAGCCTCATTAAGGGAGAGATATGACTCGCAATGCCCAGGCAGGCGTGCCCTTGGCCTGATGGCCTCGGGCGCAACTTGCGTTCAAAGACTCGATGGTTCACGGGATTCTGCAATTCACACCATTTATCGCATTTCGCTGCGTTCTTCATCGATGCAAGAGCCGAGATATCCGTTGCTGAGAGTTGTTAAAAAATAATCTGGGGAGGGTCAAGGCAGCATGCCGCCCCCTTCACCAATTATGTGTCATATGACTTGGCGCAAAACTGCGCCGGGCTCGGGTTTAGATCGCCAGCAAGAAAGCTCCCAAGGAGGCTCGATGGCAAATCTCGGTCACTGCAATAGCAAATGCCCTCGGGTGACCAAAGTAAACTGATCCTCCAGATTAACTCGATCAATTATTATGTGATCTCAACAATGATCCTTCCGCAGGTTCACCTACGGAAACCTTGTTACG\n",
      "Z78488.1\n",
      "AGCCGGTTGCTCACCTGACTGGGGTCGCAACAAATGTCCATCAACTGATCATGGGTTGATGGGCCTCCGATGGGGTTCAAAAGGGTCTTCAGATTATGATGGCCCATCTAATACGACAACCCGGGGGATCCGCACAACAGTTTGGTTGTGGCGTTGTTCGTCCACCTCTTGCCGTTTTTAGGACCATCAAAAGCCCATGCAGCTCTTAGACCCCCCGTACCAATGAACAAGGGGGCAAACTCACATCCGCACCGGTTGAACAGTATGTATGGACAGCCTCATTAAGGGAGAGATTTGACTCGCAATGCCCAGGCAGGCGTGCCCTTGGCCTGATGGCCTCGGGCGCAACTTGGGTTCAAAGACTCGATGGTTCACGGGATTCTGCAATTCACACCATTTATCGCATTTCGCTGCGTTCTCCATCCCGTTGATGAGAGTTGTTAGAAAATAATTAGGGGAGGGTCAAGGCACCATGCCGCCCCCTTCACCAATTATGTGTCGTATGACTTGGCGCAAAACTGCGCCGGGCTAGGGTTAAGATCGCCAGCAAGAAAGCTCCCAAGGAGGCTCGATGGCAAATCTCGGTCACTGCAATAACAAATGCCCATGGGTGACCAAAGTAAACTGATCCTCCAGATTAACTCGATCAATTATTGCGTGATCTCAACAATGATCCTTCCGCAGGTTCACCTACAG\n",
      "Z78487.1\n",
      "TTACTCAGCGGTTGCTCACCTGACTGGGGTCGCAACAAGTGGCCCCAACTGATCATGGGTTGATGGGCCTCTAATGGGGTTCAAAAGGGTCTTTAGATTACGCTGGCCCATCTAATACGACAACCCGGGGCATTCGCACAACAGTTTTGTTGTAGCATAGTTCGTCCACCTCTTGCCGCATTTAGGACCATCGATAGCCCATGCTGCTCTTAGACCCCCCGTACCGAAGAACAAGGGGCCGAACTCACATCCGCACCGGCTGAACAATATGTATGGACAGCCTCATTAAGGGAGAGATATGACTCGCAATGCCCAGGCAGGCGTGCCCTTGGCCTGATGGCCTCGGGCGCAACTTGCGTTCAAAGACTCGATGGTTCACGGGATTCTGCAATTCACACCATTTATCGCATTTCGCTGCGTTCTTCATCGATGCAAGAGCCGAGATATCCGTTGCTGAGAGTTGTTAAAAAATAATTTGGGGAGGGTAAAGGCAGCATGCCGCCCCCTTCACCAATTATGTGTCATATGACTTGGCGCAAAACTGCGCCGGGCTAGGGTTTAGATCGCCAGCAAGAAAGCTCCCAAGGAGGCTCGATGGCAAATCCCGGTCACTGCAATAGCAAATGCCCATGGGTGACCAAAGTAAACTGATCCTCCAGAGTAACTCGATCAATTATTATGTGATCTCAACAATGATCCTTCCGCAGGTTCACCTACGGAAACCTTGTTACG\n",
      "Z78486.1\n",
      "TCAGCGGGTTGCCTCACCTGACCTGGGGTCGCTACCAAATGGCCATCAACTGATCATGGGTTGATGGGCCTCCAATGGGGTTCAAAAGGGTCTTTAGATTATGCTGGCCCATCTAATACGACAACCCGGGGCATTCGCACAACAGTTTTGTTGTAGCATAGTTCGTCCACCTCTTGCCGTATTTAGGACCATCAAAAGCCCACGCAGCTCTTAGACCCCCCGTACCAATGAACAAGGGGCCAAACTCACATCCGCACCGGCTGAACAGTATGTATGGACAGCCTCATTAAGGGAGAGATATGACTCGCAATGCCCAGGCAGGCGTGCCCTTGGCCTGATGGCCTCGGGCGCAACTTGCGTTCAAAGACTCGATGGTTCACGGGATTCTGCAATTCACACCATTTATCGCATTTCGCTGCGTTCTTCATCGATGCAAGAGCGAGATATCCGTTGCTGAGAGTTGTTAAGAAATAATTTGGGGAGGGTCAGGCACCATGCCGCACCCTTCACCAATTATGTGTCATATGACTTGGCGCAAAACTGCGCCGGGCTAGGGTTTAGATCGCCAGCAAGAAAGCTCCCAAGGAGGCTCGATGGCAAATCTCGGGCACTGCAATAGCAAATGTCCATGGGTGACCAAAGTAAACTGATCCTCCAGATAATCTCGATCAATTATTATGTGATCTCAACAATGATCCTCCCGCAGATTCACCTACGGAAACCTCGTGACG\n",
      "Z78485.1\n",
      "TACTAAATCAGGGGTTGCTCAGCTGACTGGGGTCGCAACACATGGCCATCAACTGATCATGGGTTGATGGGCCTCCAATGGGGTTCAAAGGGGTCTTTAGATTGTGCTGGCCCGTCTAATACGACAACCCGGGGCATTCGCACAACAGTTTTGTTGTAGCATAGTTCGTCCACCTCTTGGCGTATTTAGGACCATCAAAAGCCCACGCAGCTCTTAGACCCCCCGTACCAATGAACAAGGGCCCAAACTCACATCCGCACCGGCTGCACAGTATGTATGGACAGCCTCATTAAGGGAGAGATATGACTCGCAATGCCCAGGCAGGCGTGCCCTTGGCCTGATGGCCTCGGGCGCAACTTGCGTTCAAAGACTCGATGTTCACGGGGATTCTGCAATTCACACCATTTATCGCATTTCGCTGCGTTCTTCATCGATGCAAGAGCCGAGATATCCGTTGCTGAGAGTTGTTAAGAAATAATTTGGGGAGGGTCAAGGCACCATGCCGCACCCTTCACCAATTATGTGTCATATGACTTGGCGCAAAACTGCCCCGGGCTAGGGTTTAGATCGCCAGCAAGAAAGCTCCCAAGGAGGCTCGATGGCAAATCTCGGTCACTGCAATAGCAAATGCCCATGGTGACCAAAGTAAACTGATCCTCCAGATTAACTCGATCAATTATTATGATATCTCAACAATGATCCATCCGCAGATTCACCTTCGGACACCAGGTTCAG\n",
      "Z78484.1\n",
      "AAAACTCAGGGAGTTGCTTCACCTGACTTGGGGTCGCAACCCAATGGACCATCAACTGATCATGGGTTGATGGGCCTCCAATGGGGTGTCAAAGGGTCTTTAGATTATGCTGGCCCATCTAATACGACAACCCGGGGCATTCGCACAACAGTTTTGTTGTAGCATAGTTCGTCCACCTCTTGCCGTATTTAGGACCATCAAAAGCCCACGCAGCTCTTAGACCCCCCGTACCAATGAACAAGGGGCCAAACTCACATCCGCACCGGCTGAACAGTATGTATGGACAGCCTCATTAAGGGAGAGATATGACTCGCAATGCCCAGGCAGGCGTGCCCTTGGCCTGATGGCCTCGGGCGCAACTTGCGTTCCAAGACTCGATGGTTCACGGGATTCTGCAATTCACACCATTTATCGCATTTCGCTGCGTTCTTCATCGATGCAAGAGCGAGATATCCGTTGCTGAGAGTTGGGAGGGTAGGAAACATGCCGCCCCTTCACAATTATGTGTCATATGACTTGGGCCAAAACTGCGCCGGGCTAGGGTTTAGATCGCCAGCAAGAAAGCTCCCATGGAGGCTCGATGGTAAACTCTCGGTCACTGCAATAGCCAAATGCCCATGGGTGACCAAAGTAAACTGATCCTCCAGATTAACTCGATCAATTATTATGTGATCTCAACAATGATCCTTCCCCAGGTTCACCTACGGAAACCTTGTTACG\n",
      "Z78483.1\n",
      "TGCTAAACTCAGGGGTTGCTTCACTTGACCTGGGGTCGCAACCAAATGGCCATCAACTGATCATGGGTTGATGGGCCTCCAATGGGGTTCAAAAGGGTCTTTAGATTATGCTGGCCCATCTAATACGACAACCCGGGGCATTCGCACAACAGTTTTGTTGTAGCATAGTTCGTCCACCTCTTGCCGTATTTAGGACCAACAAAAGCCCATGCAGCTCTTAGACCCCCCGTACCAATGAACAAGGGGCCAAACTCACATCCGCACCGGCTGAACAGATATGTGTGGACAGCCTCATTAAGGGAGAGATATGACTCGCAATGCCCAGGCAGGCGTGCCCTTGGCCTGATGGCCTCGGGCGCAACTTGCGTTCAAAGACTCGATTGTTCACGGGATTCTGCAATTCACACCATTTATGATTTCGGTTTGGTCTTCATCCATGCAAGAGGCCAGATTTCCGTTGCTGAGAGTTGTTAAAAAATAATTTGGGGGAGGGTCAAGGCAGCATGCCGCCCCCTTCACCAATTATGTGTCATATGACTTGGCGCAAAACTGCGCCGGGCTAGGGTTTAGATCGCCAGCAAGAAAGCTCCCAAGGAGGCTCGATGGCAAATCTCGGTCACTGCAATAGCAAATGCCCATGGGTGACCAAAGTAAACTGATCCTCCAGATTAACTCGATCAATTATTATGTGATCTCAACAATGATCCTTCCGCAGGTTCACCTACGGAAACCTTGTTACG\n",
      "Z78482.1\n",
      "TGCTAAACTCAGCGGGTTGCCTCACCTGACCTGGGGTCGCAACCAAATGGCCATCAACTGATCATGGGTTGATGGGCCTCCAATGGGGTTCAAAAGGGTCTTTAGATTATGCTGGCCCATCTAATACGACAACCCGGGGCATTCGCACAACAGTTTTGTTGTAGCATAGTTCGTCCACCTCTTGCCGTATTTAGGACCATCAAAAGCCCACGCAGCTCTTAGACCCCCCGTACCAATGAACAAGGGGCCAAACGCACATCCGCACCGGCTGAACAGTATGTATGGACAGCCTCATTAAGGGAGAGATATGACTCGCAATGCCCAGGCAGGCGTGCCCTTGGCCTGATGGCCTCGGGCGCAACTTGCGTTCAAAGACTCGATGGNTTCACGGGATTCTGCAATTCACACCATTTATCGCATTTCGCTGCGTTCTTCATCGATGAAGAGGCGAGATATCCGTTGCNGAGAGTTGTTAAAAAATAATTTGGGGAGGGTCAAGGCAGCATGCCGCCCCCTTCACCAATTATGTGTCATATGACTTGGCGCAAAACTGCGCCGGGCTACGGTTTAGATCGCCAGCAAGAAAGCTCCCAGGAGGCTCGATGGCAAATCTCGGTCACTGCAGTAGA\n",
      "Z78481.1\n",
      "TCAACTGATCATGGGTTGATGGGCCTCCAATGGGGTTCAAAAGGGTCTTTAGATTATGCTGGCCCATCTAATACGACAACCCGGGGCATTCGCACAACAGTTTTGTTGTAGCATAGTTCGTCCACCTCTTGCCGTATTTAGGACCAACAAAAGCCCACGCAGCTCTTAGACCCCCCGTACCAATGAACAAGGGGCCAAACTCACATCCGCACCGGCTGAACAGTATGTGTGGACAGCCTCATTAAGGGAGAGATATGACTCGCAATGCCCAGGCAGGCGTGCCCTTCCGTTGCTGAGAGTTGTTAAAAAAATGATTTGGGGAGGGTCAAGGCACCATGCCGCCCCCTTCGCCAATTATGTGTCATATGACTTGGCGCAAAACTGCGCCGGGCTAGGGTTTAGATCGCCAGCAAGAAAGCTCCCAAGGAGGCTCGATGGCAAATCTCGGTCACTGCAATAGCAAATGCCCATGGGTGACCAAAGTAAACTGATCCTCCAGATTAACTCGATCAATTATTATGTGATCTCAACAATGATCCTTCCGCAGGTTCACCTACGGAAACCTTGTTACG\n",
      "Z78480.1\n",
      "TCAACTGATCATGGGTTGATGGGCCTCCAATGGGGTTCAAAAGGGTCTTTAGATTATGCTGGCCCATCTATACGACAACCCGGGGCATTCGCACAACATTTTTGTTGTAGCATAGTTCGTCCACCTCTTGCCGTATTTAGGTACCAACAAAAGCCCACGCAGCTCTTAGACCCCCCGTACCAATGAACAAGGGGCCAAACTCACATCCGCACCGGCTGAACAGTATGTGTGGACAGCCTCATTGAAGGGAGAGATATGACTCGCAATGCCCAGGCAGGCGTGCCCTTAGCCTGATGGCCTATCCGTTGCTGAGAGTTGTTAAAAAATAATTTGGGGAGGGTCAAGGCAGCATGCCGCCCCCTTCGCCAATTATGTGTCATATGACTTGGCGCAAAACTGCGCCGGGCTAGGGTTTAGATCGCCAGCAAGAAAGCTCCCAAGGAGGCTCGATGGCAAATCTCGGTCACTGCAATAGCAAATGCCCATGGGTGACCAAAGTAAACTGATCCTCCAGATTAACTCGATCAATTATTATGTGATCTCAACAATGATCCTTCCGCAGGTTCACCTACGGAAACCTTGTTACG\n",
      "Z78479.1\n",
      "ACTCAGAGGGTTGCCTCACCTGACCTGGGGTCGCATCCAAATGGCCGTCAACTGATCTTGGGTTGATGGGCCTCCAATGGGGTTCAAAAGGGTCTTTAGATTATGCTGGCCCATCTAATACGACAACCCGGGGCATTCGCACAACAGTTCTGTTGTCGCATAGTTCGTCCACCTCTTGCCGTATTTAGGACCATCAAAAGCCCATGCAGCTCTTAGACCCCCCGTACCAAAGAACAAGGGGCCAAACTCACATCCGCACCGGCTGAACGACAGCCTCATTAAGGGAGAGATATGTCTCGCAATGCCCAGGCAGGCGTGCCCTTGGCCTGATGGCCTCGGGCGCAACTTGCGTTCAAGACTCGATGGTTCACGGGATCTCTGTATTCACACCATTTATCGCATTTCGCTGCGTTCTTCATCGATGCAAGAGGCGAGATATCCGTTGCTGAGAGTTGTTAAAAAATAATTTGGGGGGCAAGGCAAGGCAGCATCCCTCCCCTTCCAGTAATGTCTCATATAAATTGGCGCAAATCTGCGCCGGGCAAGGGTTTAGTTCGGCTCGATGGCAAATCTAGGTCACTGAAACAGCAAATGCCCATGGGTGACCAAAGTAACCTGATCCTCCTGATTAACTCGATCAATTATTATGTGATCTCAACAATGATCCTTCCGCAGGTTCACCTACGGAAACCTTGTTACG\n",
      "Z78478.1\n",
      "GCCTAAACTCAGCGGGTGCCTCATCTGACCTGGGTCGCAACCAAATGTCCTCAACTGATAATGGGTTGATGGGCCTCCAATGGGGGTCAAAAGGGTCTTTAGATTATGCTGACCCATCTAAACGACAACCGGGGCATTCGCACAACAGTTCTGTTGTCACATAGCTCGTCCACCTCTTGCCGTATTTAGGACCATCCAACCCATACAGCTCTTAGACCCCCGTACCAAAGGACAAGGGGCCAAACTCACATCCGCACCGGCTGAACAGTATGTATGGCAGCCTCATTAAGGGAGAGATATGTCTCACAATTTCCAGGCAGGCGTCCCCTTGACCTGATGGCCTCGGACGCAACATGCGTTCAAAACTCGATGTTCAGGGATCTGCTATCACGCCATTATCAATATTTGGGGGAGCCATGGCAGCATGCCGCCCCTTCCAGTTATGTGTCATATGACTTGGCGCAAAACTGCGCCGGGCAAGGGTTTAGATCGGCTCGATGGCAAACTCTAGGCCACTGCAACAGCAAATGCCCATGGGTGACCAAAGTAAACTGATCCCCCAGATTAACTCGATCAATTATTATGTGATCTCAACACTGATCCTTCCGGAGGTTCACCTACGGAAACCTTGTTACG\n",
      "Z78477.1\n",
      "GCATAAACTCAGCGGTTGCCTCACCTGACCTGGGGTCGCAACCAAATGGCCGTCAACTGATCATGGGTTGATGGGCCTCCAATGGGGTTCAAAAGGGTCTTTAGATTATGCTGGCCCATCTAATACGACAACCCGGGGCATTCGCACAACAGTTCTGTTGTCGCATAGTTCGTCCACCTCTTGCCGTATTTAGGACCATCAAAAGCCCATGCAGCTCTTAGACCCCCCGTACCAAAGAACAAGGGGCCAAACTCACATCCGCACCGGCTGAACAGTATGTGTGGACAGCCTCATTAAGGGAGAGATATGTCTCGCAATGCCCAGGCAGGCGTGCCCTTGGCCTGATGGCCTCGGCCGCAACTTGCGTTCCAAAGACTCGATGGTTCAGGGATTCTTGCAATTCACACCATTTATCGCATTTCGCTGCGTCCTTCCATCCGATGCAAGAGCCGAGATACTCGTTGCTGAGAGTTGGTTAACAAATATTTGGGGAGGGCAAGGCAGCATGCCGCCCCTTCCAATTATGTGTCATATGACTTGGCGCAAAACTGCGCCGGGCAAGGGTTTAGATCGGCTCGATGGCAAATCTAGGTCACTGCAACAGCAAATGCCCATGGGTGACCAAAGCAAACTGATCCTCCAGATTAACTCGATCAATTATCATGTGATCTCAACAATGATCCTTCCGCAGGTTCACCTACGGAAACCTTGTTACG\n",
      "Z78476.1\n",
      "GGGTCGCAACCAAATGGCCGTCAACTGATCATGGGTTGATGGGCCTCCAATGGGATTCAAAAGGGTCTTTAGATTATGCTGGCCCATCTAATACGACAACCCGGGGCATTCGCGCAACAGTTCTGTTGTCGCATAGTTCGTCCACCTCTTGCCGTATTTAGGTGGATCAAAAGCCCATGCAGCTCTTAGACCCCCCGTACCAAAGAACAAGGGGCCAAACTCACATCCGCACCGGCTGAACTGTATGTATGGACAGCCTCATTAAGGGAGAGATATGTCTCGCAATGCCCAGGCAGGCGTGCCCTTGGCCGGATGGCCTAAGAGCCGAGATATCCGTTGCTGAGAGTTGTTAAAAAAATAATTTGGGGAGGGCCAAGGCAGCATGCCGCCCTTCCAATTATGTGTCATATGACTTGGCGCAAAACTGCGCCGGGCAAGGGTTTAGATCGGCTCGATGGCAAATCTAGGTCACTACAACAGCAAATGCCCATGGGTGACCAAAGTAAACTGATCCTCCAGATTAACTCGATCAATTATCATGTGATCTCAACAATGATCCTTCCGCAGGTTCACCTACGGAAACCTTGTTACG\n",
      "Z78475.1\n",
      "ACCTGACCTGGGTCGCAACCAAATGGCCGTCAACTGATCATGGGTTGATGGGCCTCCAATGGGGTTCAAAAGGGTCTTTAGATTATGCTGGCCCATCTAATACGACAACCCGGGGCATTCGCACAACAATTTTGTTGTAGCATAGTTCGTCCACCTCTTGCCGTATTTTGGACCATCAAAAGCCCATGCAGCTCTTAGACCCCCCGTACCAAAGAACAAGGGGCCAAACTCACATCCGCATTGGCTGAACAGTATGTATGGACAGCCTCATTAAGGGAGAGATATGACTCGCAATGCCCAGGCAGGCGTGCCCTTGGCCTGATNNNNNNNNNNNNNNNNNNNNNNNNNNNNNNNNNNNNNNNNNNNNNNNNNNNNNNNNNNNNNNNNNNNNNNNNNNNNNNNNNNNNNNNNNNNNNNNNAAGAGCCGAGATATCCGTTGCTGAGAGTTGTCAAAAAAATAATTTGGGGAGGGTCAAGGCAGCATGCCACCCCCTTCCAATTATGTGTCATATGACTTGGCGCAAAACTGCGCCGGGACGGGTTTAGATCGCCAGCAAGAAAGCTCCCAAGGAGGCTCGATGGCAAATCCAGGTCACTGCAAGAGCAGATGCCCATGGGTGACCAAAGTAAACTGATCCTCCAGATTAACTCGATCAATTATTATGTGATCTCAACAATGATCCTTCCGCAGGTTCACCTACGGAAACCTTGTTACG\n",
      "Z78474.1\n",
      "AAGCTCAACGGGTTGCTTCACCTGACCTGGGGTCGCAACCAAATGGCCGTCAACTGATCATGGGTTGATGGGCCTCCAATGGGGTTCAGAAGGGTCTGTAGATTATGCTGGCCCATCTAATACGACAACCCGGGGCATTCGCACAACAATTTTGTTGTAGCATAGTTCGTCCACCTCTTGCCGTATTTTGGACCATCAAAAGCCCATGCAGCTCTTAGACCCCCCGTACCAAAGAACAAGGGGCCAAACTCACATCCGCACCGGCTGAACAGTATGTATGGACAGCCTCATTAAGGGAGAGATATGACTCGCAATGCCCAGGCAGGCGTGCCCTTGGCCTGATGGCCTCGGGCGCAACTTGCGTTCAAAGACTCGATGGTTCACGGGATTCTGCAATTCACACCATTTATCGCATTTCGCTGTGTCTTCATCGATGCAAGAGGCGAGATATCCGTTGCTGAGAGTTGTCAAAAATATAATTTGGGGAGGGTCAAGGCAGGATGCCGCCCTTCCAATTATGTGTCATATGATTGGGCGCAAAACTGCGCCGGGCAAGGGTTTAGATCGCCAGCAAGAAAGCTCCCAAGGAGGCTCGATGGCAAATCCAGGTCACTGAAAGAGCAGATGCCCATGGGTGACCAAAGTAAACTGATCCTCCAGATTAACTCGATCAATTATTACGTGATCTCAACAATGATCCTTCCGCAGGTTCACCTACGGAAACCTTGTTACG\n",
      "Z78473.1\n",
      "CCTGGGTCGCAACCAAATGGCCGTCAACTGATCATGGGTTGATGGGCCTCCAATGGGGTTCAAAAGGGTCTTTAGATTATGCTGGCCCATCTAATACGACAACCCGGGGCATTCGCACAACAATTTTGTTGTAGCATAGTTCGTCCACCTCTTGCCGTATTTAGGTACCATCAAAAGCCCATGCAGCTCTTAGACCCCCCGTAGGCAAGAACAAGGGGCCAAACTCACATCCGCACCGACTGAACAGTATGTATGGACAGCCTCATTGAAGGGAGAGATATGACTCGCAATGCCCAGGCAGGCGTGCCCTTGGCCTGATGGCCTCGGGAAGAGCCGAGATATCCGTTGCTGAGAGTTGTTAACAAAATAATTTGGGGAGGGTCAAGGCAGCATGCCGCCCCCTTCCAATTATGTGTCATATGACTTGGCGCAAAACTGCGCCGGGCAAGGGTTTAGATCGCCACCAAGAAAGCTCCCATGGAGGCTCGATGGCAAATCCAGGTCACTACAAGAGCAGATGCCCATGGGTGACCAAAGTAAACTGATCCTCCAGATTAACCCGATCAATTATTATGTGATCTCAACAATGATCCTTCCGCAGGTTCACCTACGGAAACCTTGTTACG\n",
      "Z78472.1\n",
      "GCTTAAACTCAGCGGTTGCCTCACCTGACTTGGGGTCGCAACCAAATGGCCATCAACTGATCATGGGTTGATTGGCCTCTAAAGGGGTTCAAAGGGTCTTTAGATTATGCTGGCCCATCTAATACGACAACCCTGGGCATTCGAACTACAATTTTGTTGTAGCATACTTCGTCCACCTCTTGCCGTATTTAAGACCATCAAAAGCCCATGCAGCTCTTAGACCCCCCGTACCAAAGAACAAGGGGCCAAACTCACATCCGCTGTGGCTGAACAGTATGTATAGACAGCCTCATTAAAGGAGAGATATGACTCGCAATGCCCAGGCAGGCGTGCCCTTGGCCTGATGGCCTCGGGCGCAACTTGCGTTCAAAGACTCGATGGTTCACGGGATTCTGCAATTCACACCATTTATCGCATTTCGCTGCGTCCTCCATCGATGCAAGAGCCGAGATTCCGTTGCTGAGAGTTATCAAAAAATAATTTGGGGAGGGTCTTAGACTGCATGCCGCCCCCTTCCAATTATGTGTGAAATGACTTGGCGCAAGACTGCGCCGGGCAACGATTTAGATCGCCAGCAAGAAAGCTCCCAAGGAGGCTCGATGGCAAATCCAGGTCACTGCAAGAGCAGATGCCCATGGGTGACTAAAGTAAACTGATCCTCCAGATTAACTCGATCAATTATTATGTGATCTCAACAATGATCCTTCCGCAGGTTCACCTACGGAAACCTTGTTACG\n",
      "Z78471.1\n",
      "GCTTAAACTCAGCGGGTTGCCTCACCTGACTTGGGGTCGCAACCAAATGGCCATCAACTGATCAGGGTTGATGGGCCTCTAATGGGGTTCAAAAGGGTCTTTAAATTATGCTGGCCCATCTAATACGACAACCCGGGGCATTCGCACTACAATTTTGTTGTAGCATACTTTGTCCACCTCTTGCCGTATTTAGGACCAGCAAAAGCCCATGCAGCTTTTAGACCCCCCGTACTAAAGAACAAGGGGCCAAACTCACATCCGCACTGGCTGAACAGTATGTATGGACAGCCTCATTAAGGGAGAGATATGACTCGCAATGCCCAAGCAGGCGTGCCCTTGGCCTGATGGCCTCGGGCGCAACTTGCGTTCAAAGACTCGATGGTTCACGGGATTCTGCAATTCACACCATTTATCGCATTTCGCTGCGTTCTTCATCGATGCAAGAGCCGAGATATCCGATGTTGAGAGTTGTCAAAAAATTAATTTGGGGAAGGGTCAAGGCAGCATGCCGCCCCCTTCCATTATGTGTCGGGGTGACTTGACGCAAGGCTGCGTCGGGCAACGATTTAGATCGCCAGCAAGACAGCTCCCAAGGAGGCTCGATGGCAAATCCAGGTCACTGTAAGAGCAGATGCCCATGGGTGACCAAAGTAAACCGATCCTCTAGATTAACTCGATCAATTATTATGTGATCTCAACAATGATCCTTCCGCAGGTTCACCTACGGAAACCTTGTTACG\n",
      "Z78470.1\n",
      "AACTGATCAGGGTTGATGGGCCTCTAATGGGGTTCAAAAGGGTCTTTAAATTATGCTGGCCCATCTAATACGACAACCCGGGGCATTCGCACTACAATTTTGTTGTAGCATACTTTGTCCACCTCTTGCCGTATTTAGGACCAGCAAAAGCCCATGCAGCTTTTAGACCCCCCGTAGTAAAGAACAAGGGGCCAAACTCACATCCGCACTGGCTGAACAGTATGTATGGACAGCCTCATTAAGGGAGAGATATGACTCGCAATGCCCAAGCAGGCGTGCCCTTGGCCTGATGGCCTCGGGCGCAACTTAAAAAAATAATTTGGGAAGGGTCAAGGCAGCATGCCGCCCCCTTCCAATTATGTGTCATATGACTTGACGCAAGGCTGCGTCGGGCAACGATTTAGATCGCCAGCAAGAAAGCTCCCAAGGAGGCTCGATGGCAAATCCAGGTCACTGTAAGAGCAGATGCCCATGGGTGACCAAAGTAAACTGATCCTCTAGATTAACTCGATCAATTATTATGTGATCTCAACAATGATCCTTCCGCAGGTTCACCTACGGAAACCTTGTTACG\n",
      "Z78469.1\n",
      "AACTGATCATGGGTTGATGGGCCTCTAATGGGGTTCAAAAGGGTCTTTAGATTATGCTGGCCCATCTAATACGACAACCCTGGGCATTCGCACTATCATTTTGTTGTAGCATACTTCGTCCACCTCTTGCCGTATTTAGGTACCATCAAAAGCCCATGCAGCTCTTAGACCCCCCGTACCAAAGAACAAGGGGCCAAACTCACATCCGCTGTGGCTGAACAGTATGTATGGACAGCCTCATTAAGGGAGAGATATGACTCGCAATGCCCAGGCAGGCGTGCCCTTGGCCTGATGGAAGAGCCGAGATATCCGTTGCTGAGAGTTGTCAAAAAAATAATTTGGGGAGGGTCTAGACCGCATGCCGCCCCCTTCCAATTATGTGTGATATGACTTGGCGCAAGACTGCGCCGGGCAACGAATTTAGATCGCCAGCAAGAAAGCTCCCAAGGAGGCTCGATGGCAAATCCAGGTCACTGCAAGAGCAGATGCCCATGGGTGACTAAAGTAAACTGATCCTCCAGATTAACTCGATCAATTATTATGTGATCTCAACAATGATCCTTCCGCAGGTTCACCTACGGAAACCTTGTTACG\n",
      "Z78468.1\n",
      "AACCAAATGGCCGTCAACTGATCATGGGTTGATGGGCCTCCAATGGGGTTCAAAAGGGTCTTTAGATTATGCTGGCCCATCTATACGACAACCCGGGGCATTCACACAATAATTTTGTTGTAGCATACTTCGTCCACCTCTTGCCGTATTTAGGTCCATCAAAAGCCCAGCTGCTCTTAGACCCCCCGTACCGAAGAACAAGGGGCCAAACTCACATCCGCACTGGCTGAACAGTATGTATGGACAGCCTCATTAAGGGAGAGATATGACTCGCAATGCCCAGGCAGGCGTGCCCTTAGCCTGATGGCCTCGGGCGCAACTTGAGTTCCGGAGCTGAGAGTCGTTAAAAAAATGATATGGGGAGGGTCAAGGCAGCATGCTGCCCCTCCCAATTATGTGTCATATGACTTGGCGCAAAACTGCGCCGGGCAAGGGTTCAGATCGCCATCAAGAAAGCTCCCAAGGAGGCTCGATGGCAAATCCAGGTCACTACAAGAGCAGATTCCCATGAGTGACCAAAGTAAACTGATCCTCCAGATTAACTCAATCAATTATTATGCGATCTCAACAATGATCCTTCCGCAGGTTCACCTACGGAAACCTTGTTACG\n",
      "Z78467.1\n",
      "TCAGCGGGTTGCCTCACCTGACCTGGGTCGCAAACATATGGCCGTCAACTGATCATGGGTTGATGGGCCTCCAATGGGGTTCAAGAGGGTCTTTAGATTATGCTGGCCCAGCTAATACGACAACCCGGGTCATTCGCACAACAATTTTGTTGTAGCATAGTTCGTCCACCTCTTGCCGTATTTTGGACCACCAAAGGCACATGCAGCTCTTAGACCCCCCGTACCAAAGAACAAGGGGCCAAACTCACATCCGCACCGGCTGAACAGTATGTATGGACAGCCTCATTAAGGGAGAGATATGACTCGCAATGCCCAGGCAGGCGTACCCTTGGCCTGATGGCCTCGGGCGCAACTTGCGTTCAAAGACTCGATGGTTCACGGGATTCTGCAATTCACACCATTTATCGCATTTCGCTGCGTTCTTCATCGATGCAAGAGCCGAGATATCCGTTGCTGAGAGTTGTCAAAAAATAATTTGGGGAGGGTCAAGGCAGCATGCCACCCCCTTCCAATTATGTGTCATATGACTTGGCGCAAAACTGCGCCGGGCAAGGGTTTAGATCGCCAGCAAGAAAGCTCCCAAGGAGGCTCGATGGCAAATCCAGGTCACTGCAAGAGCAGATGCCCATGGGTGACCAAAGTAAACTGATCCTCCAGATTAACTCGATCAATTATTATGTGATCTCAACAATGATCCTTCCGCAGGTTCACCTACGGAAACCTTGTTACG\n",
      "Z78466.1\n",
      "GGGTTGCCTCACCTGACCTGGGTCGCAACCAAATGGCCGTCAACTGATCATGGGTTGATGGGCCTCCAATGGGGTTCAAAAGGGTCTTTAGATTATGCTGGCCCATCTAATACGACAACCCGGGGCATTCGCACAACAATTTTGTTGTAGCATAGTTCGTCCACCTCTTGCCGTATTTAGGACCATCAAAAGCCCATGCAGCTCTTAGACCCCCCGTACGCAAGAACAAGGGGCCAAACTCACATCCGCACAGGCTGAACTGTATGTATGGACAGCCTCATTAAGGGAGAGATATGACTCGCAATGCCCAGGCAGGCGTGCCCTTGGCCTGATGGCCTCGGCAAAGAGCCGAGATATCCGTTGCTGAGAGTTGTTACAAAAATAATTTGGGGAGGGTCAAGGCAGCATGCCGCCCCCTTCCAATTATGTGTCATATGACTTGGCGCAAAACTGCGCCGGGCAAGGGTTTAGATCGCCAGCAAGAAAGCTCCCATGAAGGCTCGATGGCAAATCCAGGTCACTACAAGAGCAGATGCCCATGGGTGACCAAAGTAAACTGATCCTCCAGATTAACTCGATCAATTATTATGTGATCTCAACAATGATCCTTCCGCAGGTTCACCTACGGAAACCTTGTTACG\n",
      "Z78465.1\n",
      "GCAACCAAATGGCCGTCAACTGATCATGGGTTGATGGGCCTCCAATGGGGTTCAAAAGGGTCTTTAGATTATGCTGGCCCATCTAATACGACAACCCGGGGCATTCGCACAACAATTTTGTTGTAGCATAGTTCGTCCACCTCTTGCCGTATTTAGGACCATCAAAAGCCCATGCAGCTCTTAGACCCCCCGTACCAAAGAACAAGGGGCCAAACTCACATCCGCACTCGCTGAACAGTATGTATGGACAGCCTCATTAAGGGAGAGATATGACTCGCAATGCCCAGGCAGGCGTTCCCTTGGCCTGATGGCCTCGGGCGCAACTTTCGTTCAAAGACTCGATGGTTTACGGGATTCTTCAATTCACACCAATTATCGCATTTCGCTGCGTTCCTCATCGATTCAAGAACCGAGAAATCCGTTGCTGAGAGTTGTCAAAAAAATAATTTGGGGAGGGTCAAGGCAGCATGCCGCCCCCTTCCAATTATGTGTCATATGACTTGGCGCAAAACTGCGCCGGGCAAGGGTTTAGATCGCCAGCAAGAAAGCTCCCAAGGAGGCTCGATGGCAAATCCAGGTCACTGCAAGAGCAGATGCCCATGGGTGACCAAAGTAAACTGATCCTCCAGATTAACTCGATCAATTATTATGTGATCTCAACAATGATCCTTCCGCAGGTTCACCTACGGAAACCTTGTTACG\n",
      "Z78464.1\n",
      "GCTTAAACTCAGCGGGTTGCTCACCTGACCTGGGGTCGCACCAAATGGCCGTCAACTGATCATGGGTTGATGGGCCTCCAATGGGGTTCAAAAGGGTCTTTAGATTATGCTGGCCCATCTATTACGAAAGCCCGGGGAATCCGAACAGAAATTTGGTTGAAGAATAGTCCGCCCACCTCTTGCCGTTTTTAGGACCACCAAAAGCCCATGAAGTTCTTAGACCCCCCGCCCCAAAGAAAAAGGGGCCAAACTCACATCCGAACCGGTTGAACAGTATGTTTGGACAGCCTCATTAAGGGAGAGATTTGATTCGAAATGCCCAGGCAGGCGTGCCCTTGGCCTGATGGCCTCGGGCGAACTTGGCGTTCAAAGACTCGATGGTTCACGGGATTCTGAAATTCACACCATTTATCGGATTTCGCTGCGTTCTTCATCGATGCAAGAGCCGAGATATCCGTTGCTGAGAGTTGTTAAGAAAATAATTTGGGGAGGGTCAAGGCAGCATGCCGCCCCCTTCCAATTATGTGTCATATGACTTGGCGCAAAACTGCTCCGGGCAAGGGTTTAGATCTCCAGCAAGAAAGCTCCCAAGGAGGCTCGATGGCAATCCAGGTCACTACAAGAGCAGATGCCCATGGGTGACCAAAGTAAACTGATCCTCCAGACTCAACCGATCAATTATTATGTGATCTCAACAATGACCCTTCCGCTCACCTACGGAAACCTTGTTACG\n",
      "Z78463.1\n",
      "GCTTAAACTCAGCGGGTTGCTCACCTGATCTGGGGTCGCAACCAAATGGCCGTCAACTGATCATGGGTTGATGGGCCTCCAATGGGGTTCAAAAGGGTCTTTAGATTATGCTGGCCCATCTAATACGACAACCCGGGGTATTCGCACAGCAATTTTGTTGCAGCATAGTTCGTCCACCTCTTGCCGTATTTAGGACCATCAAAAGCCCATGCAGCTCTTAGACCCCCCGCCCCAAAGAAAAAGGGGCCAAACTCACATCCGCACCGGTTGAACAGTATGTATGGACAGCCTCATTAAGGGAGAGATATGACTCGCAATGCCCAGGCAGGCGTGCCCTTGGCCTGATGGCCTCGGGCGCAACTTGCGTTCAAAGACTCGATGGTTCACGGGATTCTGCAATTCACACCATTTATCGCATTTCGCTGCGTTCTTCCATCGATGCAAGAGCCGAGATATCCGTTGCTGAGAGTTGTTAAGAAAATAATTTGGGGAGGGTCAAGGCAACATGCCGCCCCCTCCCAATTATGTGTCATATGACTTGGCGCAAAACTCCCCCGGGCGAGGGTTTAGATCCCCAGCAAGAAAGCTCCCAAGGAGGCTCGATGGCAATCCAGGTCACTACAAGAGCAGATGCCCATGGTGACCAAAGTAAACTGATCCTCCAGACTCAACCGAACAATGATTATGTGATCTCAACAATGAACCTTCCGCAGGTTCACCTACGGAAACCTTGTTACG\n",
      "Z78462.1\n",
      "ATGGGCCTCCAATGGGGTTCAAAAGGGTCTTCAGATTACGGTGGCCCATCTAATACGACAACCCGGGGCCTTTGCACAACAATTTTGTTGTAGCATAGTTCGTCCACCTCTTGCCGTATTTAGGACCATCAAAAGCCCATGCAGCTCTTAGACCCCCCGTACCAAAGAACAAGGGGCCAAACTCACATCCGCACCGGCTGAACAGTATGTATGGACAGCCTCGTTAAGGGAGAGATATGACTCGCAATGCCCAGGCAGGCGNNNNNNNNNNNNNNNNNNNNNNNNNNNNNNNNNNNNNNNNNNNNNNNNNNNNNNNNNNNNNNNNNNNNNNNNNNNNNNNNNNNNNNNNNNNNNNNNNNNNNNNNNNNNNNNNNNNNNNNNNNNNNNNNNNNNNNNNNNNNNNNNNNNNNNNNNNNNNNNNNNNNNNNNNNNNNNNNNNNNNNNNNNNNNNNNNNNNNNNNNNNNNNNNNNNNNNNNNNNNNNNNNNNNNNNNNNNNNNNNNNNNNNNNNNNNNNNNNNNNNNNNNTATGACTTGGCGCAAAACTGCGCCGGGCAAGGGTTTAGATCTCGCCAACAAGAAATCTCCCAAGGAGGCTCGATGGCAAATCTAGGTCACTTCAACAGCAAATGCCCATGGGTGACCAAAGTAAACAGATCCTGCAGATTAACTCGATCAATTATTATGTGATCTCAACAATGATCCTTCCGCAGGGTCACATCCGGAGACCTCGTGACG\n",
      "Z78461.1\n",
      "TTAACTCAGCGGCTTGCTCACTGACTGGGTCGCAACAATGGCATCAACTGATCATGGGTTGATGGGCTCCAATGGGGTTCAAAGGGTCTTCAGATTACGGTGGCCCATCTTATACGACAACCCGGGGGCTTTGGACAACAATTTTGGTGTAGCATAGTTCGTCCACCTCTTGCCGTATTTAGGACCATCAAAAGCCCATGCAGGTCTTAGACCCCCCGTACCAAAGAACAAGGGGGCAAACTCACATCCGCACCGGCTGAACAGGATGTATGGACAGGCTCGTTAAGGGAGAGATATGACTCGCAATGCCCAGGCAGGCGTTCCCTTGGCCTGATGGCCTCGGGCGCAACTTGGGTTCAAAGACTCGATGGTTCACGGGATTCTGGAATTCACACCATTTATCGGATTTCGGTGCGTTCTTCATCGATGCAAGAGCCGAGATATCCGTTGCTGAGAGTTGTGAAAAAATTATTTGGGGGAGGGTCAGGGAAGAATGCCACCCCCTCCACCAATTATGTGTCATTTGACTGGGGGAAAAATTGCGCCGGGTAAGGGTTTAGATCTCGCCAACAAGAAAGCTCCCAAGGAGGCTCGATGGAAATTCTAGGTCACTCCAGCAGCAACTGCCCATGGGTGACCAAAGTAAACAGATCCTCCAGATTACCTCGATCAATTATTATGTGATCTCAACAATGATCCTTCCGGAGGTTCACCTACGGAAACCTTGTTACG\n",
      "Z78460.1\n",
      "TAAACTCAGCGGGTTGCCTCACCTGACCTGGGGTCGCAACCCAAATGGCCATCAACTGATCATGGGTTGATGGGCCTCCAATGGGGTTCAAAAGGGTCTTCAGATTACGGTGGCCCATCTAATACGACAACCCGGGGCCTTTGCACAACAATTTTGTTGTAGCATAGTTCGTCCACCTCTTGCCGTATTTGGGACCATCAAAAGCCCATGCAGCTCTTAGACCCCCCGTACCAAAGAACAAGGGGCCAAACTCACATCCGCACCGGCTGAACAGTATGTATGGACAGCCTCGTTAAGGGAGAGATATGACTCGCAATGCCCAGGCAGGCGTGCCCTTGGCCTGATGGCCTCGGGCGCAACTTGCGTTCAAAGACTCGATGGTTCACGGGATTCTGCAATTCACACCATTTATCGCATTTCGCTGCGTTCCTCCATCCGATGCAAGAGCCGAGATATCCCGTTGCTGAGAGTTGTTAAAAAAATAATTTGGGGAGGGTCAGGGCAGGATGCCACCCCCTTCACCAATTATGTGTCATATGACTTGGCGCAAAACTGCGCCGGGCAAGGGTTTAGATCTCGCCAACAAGAAAGCTCCCAAGGAGGCTCGATGGCAAATCTAGGTCACTTCAACAGCAAATGCTCATGGGTGACCAAAGTAAACAGATCCTCCAGATTAACTCGATCAATTATTATGTGATCTCAACAATGATCCTTCCGGAGGTTCACCTACGGAAACCTTGTTACG\n",
      "Z78459.1\n",
      "AAACTCAGCGGGTTGCCTCACCTGACCTGGGGTCGCAACCAAATGGCCATCAACTGATCATGGGTTGATGGGCCTCCAATGGGGTTCAAAAGGGTCTTCAGATTACGGTGGCCCATCTAATACGACAACCCGGGGCCTTTGCACAACAATTTTGTTGTAGCATAGTTCGTCCACCTCTTGCCGTATTTAGGACCATCAAAAGCCCATGCAGCTCTTAGACCCCCCGTACCAAAGAACAAGGGGCCAAACTCACATCCGCACCGGCTGAACAGTATGTATGGACAGCCTCGTTAAGGGAGAGATATGACTCGCAATGCCCAGGCAGGCGTGCCCTTGGCCTGATGGCCTCGGGCGCAACTTGCGTTCAAAGACTCGATGGTTCACGGGATTCTGCAATTCACACCAATTTATCGCAATTTCGCTGCGTTCCTCCATCCGATGCAAGAGCCGAGATATCCGTTGCTGAGAGTTGTTAAAAAAATAATTTGGGGAGGGTCAGGGCAGGATGCCACCCCCTTCACCAATTATGTGTCATATGACTTGGCGCAAAACTGCGCCGGGCAAGGGTTTAGATCTCGCCAACAAGAAAGCTCCCAAGGAGGCTCGATGGCAAATCTAGGTCACTTCAACAGCAAATGCTCATGGGTGACCAAAGTAAACAGATCCTCCAGATTAACTCGATCAATTATTATGTGATCTCAACAATGATCCTTCCGCAGGTTCACCTACGGAAACCTTGTTACG\n",
      "Z78458.1\n",
      "CAACTCAGCGGGTTGCCTCACCTGACCTGGGGTCGCAACCAAATGGCCATCAACTGATCATGGGTTGATGGGCCTCCAATGGGGTTCAAAAGGGTCTTCAGATTACGGTGGCCCATCTAATACGACAACCCGGGGCCTCTGCACAACAATTTTGTTGTAGCATAGTTCGTCCACCTCTTGCCGTATTTAGGACCATCAAAAGCCCATGCAGCTCTTAGACCCCCCGTACCAAAGAACAAGGGGCCAAACTCACATCCGCACCGGCTGAACAGTATGTATGGACAGCCTCGTTAAGGGAGAGATATGACTCGCAATGCCCAGGCAGGCGTGCCCTTGGCCTGATGGCCTCGGGCGCAACTTGCGTTCAAAGACTCGATGGTTCACGGGATCTGCAATTCACACCATTTATCGCATTTCGCTGCGTCCTCCATCGATGCAAGAGCCGAGATATCCGTTGCTGAGAGTTGTTAAAAAATAATTTGGGGAGGGTCAGGGAAGGATGCCACCCCCTTCACCAATTATGTGTCGTACGACTTGGCGCAAAACTGCGCCGGGCAAGGGTTTAGATCTCGCCAACAAGAAAGCTCCCAAGGAGGCTCGATGGCAAATCTAGGTCACTTCAACAGCAAATGCTCATGGGTGACCAAAGTAAACAGATCCTCCAGATTAACTCGATCAATTATTATGTGATCTCAACAATGATCCTTCCGCAGGTTCACCTACGGAAACCTTGTTACG\n",
      "Z78457.1\n",
      "CTCAGCGGGTTGCCTCACCTGACCTGGGGTCGCAACCAAATGGCCATCAACTGATCATGGGTTGATGGGCCTCCAATGGGGTTCAAAAGGGTCTTTAGATTACGGTGGCCCATCTAATACGACAACCCGGGGCCTTTGCACAACGATTTTGTTGTAGCATAGTTCGTCCACCTCTTGCCGTATTTAGGACCATCAAAAGCCCATGCAGCTCTTAGACCCCCCGTACCAAAGAACAAGGGGCCAAACTCACATCCGCACCGGCTGAACAGTATGTATGGACAGCCTCGTTAAGGGAGAGATATGACTCGCAATGCCCAGGCAGGCGTGCCCTTGGCCTGATGGCCTCGGGCGCAACTTGCGTTCAAAGACTCGATGGTTCACGGGATTCTGCAATTCACACCATTTATCGCATTTCGCTGCGGTCCTTCATCCGATGAAAGAGCCGAGATATCCGTTGTTGAGAGTTGTTAAAAAAATATTTGGGGGAGGGTCAGGGAAGAATGCCACCCCCTCCACCAATTATGTGCCATTTGACTGGGGGAAAAACTGCGCCGGGCAAGGGTTTAGATCTCGCCAACAAGAAAGCTCCCAAGGAGGCTCGATGGAAATTCTAGGTCACTACAACAGAAAATGCCCATGGGTGACCAAAGTAAACAGATCCTCCAGATTAACTCGATCAATTATTATGTGATCTCAACAATGATCCTTCCGGAGGTTCACCTACGGAAACCTTGTTACG\n",
      "Z78456.1\n",
      "GCTAAACTCAGGGTTGCCTCACCTGACCTGGGTCGCAACCCAAATGGCCATCAACTGATCATGGGTTGATGGGCCTCCAATGGGGTCCAAAAGGGTCTTCAGATTACGGTGGCCCATCTAATACGACAACCCGGGGCCTTTGCACAACAATTTTGTTGTAGCATAGTTCGTCCACCTCTTGCCGTATTTAGGACCATCAAAAGCCCATGCAGCTCTTAGACCCCCCGTACCAAAGAACAAGGGGCCAAACTCACATCCGCACCGGCTGAACAGTATGTATGGACAGCCTCGTTAAGGGAGAGATATGACTCGCAATGCCCAGGCAGGCGTGCCCTTGGCCTGATGGCCTCGGGCGCAACTTGCGTTCAAAGACTCGATGTTCACGGGATTCTGCAATCACACCATTTATCGCATTTCGCTGCGTTCTTCATCGATGCCAGACCGGAGATATCCGTTGCTGAGAGTTGTTAAAAAAATAATTTGGGGAGGGTCAGGGCAGGATGCCACCCCCTCCACCAATTATGTGTCATATGACTTGGCGCAAAACTGCGCCGGGCAAGGGTTTAGATCTCGCCAACAAGAAAGCTCCCAAGGAGGCTCGATGGCAAATTCTAGGTCACTTCAACAGCAAATGCTCATGGGTGACCAAAGTAAACAGATCCTCCAGATTAACTCGATCAATTATTATGTGATCTCAACAATGATCCTTCCGCAGGTTCACCTACGGAAACCTTGTTACG\n",
      "Z78455.1\n",
      "TGCTAAACTCAGCGGGTTGCCTCACCTGACCTGGGGTCGCAACCCAAATGGCCATCAACTGATCATGGGTTGATGGGCCTCCAATGGGGTTCAAAAGGGTCTTCAGATTACGGTGGCCCATCTAATACGACAACCCGGGGCCTTTGCACAACAATTTTGTTGTAGCATAGTTCGTCCACCTCTTGCCGTATTTAGGACCATCAAAAGCCCATGAAGCTCTTAGACCCCCCGTGCCAAAGAACAAGGGGCCAAACTCACATCCGCACCGGCTGAACAGTATGTATGGACAGCCTCGTTAAGGGAGAGATATGACTCGCAATGCCCAGGCAGGCGTGCCCTTGGCCTGATGGCCTCGGGCGCAACTTGCGTTCAAAGACTCGATGGTTCACGGGATTCTGCAATTCACACCATTTATCGCATTTCGCTGGTTCTTCAACCGATGCAAGAGCCGAGATATCCGTTGCTGAGAGTTGTTAAAAAATTATTTGGGGGAGGGTAAGGGAAGGATGCCACCCCCTCCACCATTTTTGTGTAATTTGATTGGGGGAAAAACTGCGCCGGGAAAGGGTTTAGTTCTCGCCAAAAAGAAAGTTCCCAAGGGGGTTCGATGGAAATTCTAGGTCACTCCAAAAGAAATTGTTCATGGGTGACCAAAGTAAAAAGTTCCTCCAGATTAACTCGATCAATTTTTATGTGATCTCAAAAATGATCCTCCCGAAGGTCCACCTACGGAAACCTGGTTACG\n",
      "Z78454.1\n",
      "GTTGCCTCACCTGACCTGGGGTCGCATCCAAATGGCCATCAACTGATCATGNGGTTGATGGGCCTCCAATGGGTTCAAAAGGGGCTTCAGATTACGGTGGCCCATCTAATACGACAACCCGGGGCCTTTGCACAACAATTTTGTTGTAGCATAGTTCGTCCACCTCTTGCCGTATTTAGGACCATCAAAAGCCCATGCAGCTCTTAGACCCCCCGTACCAGAGAACAAGGGGCCAAACTCACATCCGCACCGGCTGAACAGTATGTATGGACAGCCTCGTTAAGGGAGAGATATGACTCGCAATGCCCAGGCAGGCGTGCCCTTGGTCTGATGGCCTCGGCCGCAACTTGCGTTCACAGACTCGATGGTTCACGGGATTCTGCAAATCACACCATTTATCGCATGAGTTCCGTTGATGAGAGTTGTTAACAATAGTGGGGGGAGGGTCAGGGCAGGATGCCACCCCCTTCACCGATTATGTGTCAAATGACTTGGAGAAAAACTGCGCCGGGCAAGGGTTTAGATCTCGCCAACAAGAAAGCTCCCAAGGAGGCTCGATGGTAAATCTAGGTCACTTCAACAGCAAATGCTCATGGGTGACCAAAGTAAACAGATCCTCCAGATTATCTCGATCAATTATTATGTGATCTCAACAATGATCCTTCCGCAGGTTCACCTACGGAAACCTTGTTACG\n",
      "Z78453.1\n",
      "TGCTAAACTCAGCGGGTTGCCTCACCTGACCTGGGGTCGCAACCAAATGGCCATCAACTGATCATGGGTTGATGGGCCTCCAATGGGGTTCAAAAGGGTCTTCAGATTACGGTGGCCCATCTAATACGACAACCCGGGGCCTTTGCACAACAATTTTGTTGTAGCATAGTTCGTCCACCTCTTGCCGTATTTAGGACCATCAAAAGCCCATGCAGCTCTTAGACCCCCCGTACCAAAGAACAAGGGGCCAAACTCACATCCGCACCGGCTGAACAGTATGTATGGACAGCCTCGTTAAGGGAGAGATATGACTCGCAATGCCCAGGCAGGCGTGCCCTTGGCCTGATGGCCTCGGGCGCAACTTGCGTTCAAAGACTCGATGGTTCACGGGATTCTGCAATTCACACCATTTATCGCATTTCGCTGCGTTCTTCATCGATGCAAGAGCTGAGATATCCGGTTGCTGAGAGTTGTTAAAAAATAATTTGGGGGAGGGTCAGGGAAGGATGCCACCCCCTTCACCAGTTATGTGTCAAATGAGTTGGCGCAAAACTGCGCCGGGCAAGGGTTTAGATCTCGCCAACAAGAAAGCTCCCAAGGAGGCTCGATGGCAACTCTAGGTCACTTCAACAGCAAATGCTCATGGGTGACCAAAGTAAACAGATCCTCCAGATTAACTCGATCAATTATTATGTGATCTCAACAATGATCCTTCCGCAGGTTCACCTACGGAAACCTTGTTACG\n",
      "Z78452.1\n",
      "TGCTAAACTCAGCGGTTGCCTCACCTGACCTGGGGTCGCATCCAAATGGCCATCAACTGATCATGGGTTGATGGGCCTCCAATGGGGTTCAAAAGGGTCTTCAGATTACAGTGGCCCATCTAATACGACAACCCGGGGCCTTTGCACAACAATTTTGTTGTAGCATAGTTCATCCACCTCTTGCCGTATTTAGGACCATCAAAAGCCCATGCAGCTCTTAGACCCCCCGTACCAAAGAACAAGGGGCCAAACTCACATCCGCACCGGCTGAACAGTATGTATGGACAGCCTCGTTAAGGGAGAGATATGACTCGCAATGCCCAGGCAGGCGTGCCCTTGGCCTGATGGCCTCGGGCGCAACTTGCGTTCAAAGACTCGATGGTTCACGGGATTCTGCAATTCACACCATTTATCGCATTTCGCTGCGTTCTTCATCGATTCAAGAGCCGAGATATCCGTTGCTGAGAGTTGTTAAAAAAATAATTTGGGGAGGGTCAGGGCAGGATGCCACCCCCTTCACCAATTATGTGTCATATGACTTGGCGCAAAACTGCGCCGGGCAAGGGTTTAGATCTCGCCAAAAAGAAAGCTCCCAAGGAGGCTTGATGGCAAATCTAGGTCACTTCAACAGCAAATGCTCATGGGTGACCAAAGTAAATAGATCCTCCAGATTAACTCGATCAATTATTATGTGATCTCAACAATGATCCTTCCGCAGGTTCACCTACGGAAACCTTGTTACG\n",
      "Z78451.1\n",
      "GCTCAGCTGGTTGCTCACTGACTGGTGTCGCATCAAATGGCCATCAACTGATCATGGGTTGATGGGCCTCCAATGGGGTTCTATAGGGTCTTCAGATTACGGTGGCCCATCTAATACGACAACCCGGGGGCTTCGCACAACAATTTTATTGTAGGGATAGTTCGTCCACCTCTTGCCGTTTTTAGGACCATCAAAATCCCATGCAGGTCTTAGACCCCCCGTACCAAAGAACAAGGGGGCAAACTCACATCCGCACCGGGTGAACAGTATGTATGGACAGCCTCGTTAAGGGAGAGATTTGACTCGCGATGCCCAGGGAGGGGTGCCCTTGGCCTGATGGCCTCGGGCGCAACTTGGGTTCAAAGACTCGATGGTTCACGGGATTCTGCAATTCACACCATTTATCGATTTCGCTGGTTCTTCATCGATGAAAGAGCGAGATTTCCGTTGTTGAGAGTTGCAAAAAATACTTTGGGGAGGGTCAGGGCAGGATGCCCGCCCCCTACACCAATTATGTGTCATATGACTTGGCGCAAAACTGCGCCGGGCACGGGTTTAGATCTCGCCAGCAAGAAAGCTCCCAGGGGGGCTCCATGGAAATCTAGGTCACTACAACAGCAAATGCCCATGGGTGACCAAAGTAAACAGATCCTCCAGATTATCTCGATCAATTATTATGTGATCTCAACAATGATCCTTCCGGAGGTACACCTACGGAAACCTTGTTACG\n",
      "Z78450.1\n",
      "CTCAGGGGTTGCTCAGCTGATCTGGGGTCGCAACACATGGTCATCAACTGATCATGGGTTGATGGTCCTCCAATGGGGTTCAACAGGGTCTACAGGTTACGGTGGCCCATCTAATACGACAACCCGGGGCCTTGGCACAACAATTTGGTTGTAGCATAGTTCGTCCACCTCTTGCCAGTTTTGAGGACCATCATATGCCCATGCAGTTCTTAGACCCCCCGGACCAAAGAACAAGGGGCCACACTCACATCCGCACCGGATGAACAGTATGTATGGACAGCCTCGTTAGGGGAGAGATATGACTCGGAATGCCCAGGCAGGCGTGCCCTTGGCCTGATGGCCTCGGGCGCAACTTGCGTTCAAAGACTCGATGGTTCACGGGATTCTGCAATTCACACCATTTATCGCATTTCGCTGCGTTCTTCATCGATGCAAGAGCCGAGATATCCGTTGCTGAGAGTTGTTAAAAAAATAATTTGGGGAGGGTCAGGGCAGGATGCCACCCCCTTCACCAATTATGTGTCATATGACTTGGCGCAAAACTGCGCCGGGCAAGGGTTTAGATCTCGGCAACAAGAAAGCTCCCAAGGAGGCTCGATGGCAAATCTAGGTCACTTCAACAGTAAATGCTCATGGATGACCAAAGTAAACAGATCCTCCAGCTTAACTCGATCAATTATTATGTGATATCAGCAATGATCCTTCC\n",
      "Z78449.1\n",
      "GCATAAACTCAGCGGGTTGCCTCACCTGACCTGGGGTCGCAACCAAATGGCCATCAACTGATCATGGGTTGATGGGCCTCCAATGGGGTTCAAAAGGGTCTTCAGATTACGGTGGCCCATCTAATACGACAACCCGGGGCCTTTGCACAACAATTTAGTTGTAGCATAGTTCGTCCACCTCTTGCCGTATTTAGGACCATCAAAAGCCCATGCAGCTCTTAGACCCCCCGTACCAAAGAACAAGGGGCCAAACTCACATCCGCACCGGCTGAACAGTATGTATGGACAGCCTCGTTAAGGGAGAGATATGACTCGCAATGCCCAGGCAGGCGTGCCCTTGGCCTGATGGCCTCGGGCGCAACTTGCGTTCAAAGACTCGATGGTTCACGGGATTCTGCAATTCACACCATTTATCGCATTTTCGCTGCGTTCTTCATCGATGCAAGAGCTGAGATATCCGTTGCTGAGAGTTGTTAAAAAAATAATTTGGGGGAGGGTCAGGGCAGGATGCCACCCTTCACCAATTATGTGTCAAATGAGTTGGCGCAAAACTGCGCCGGGCAAGGGTTTAGATCTCGCCAACAAGAAAGCTCCCAAGGAGGCTCGATGGCAAATCTAGGTCACTTCAACAGCAAATGCTCATGGGTGACCAAAGTAAACAGATCCTCCAGATTAACTCGATCAATTATTATGTGATCTCAACAATGATCCTTCCGCAGGTTCACCTACGGAAACCTTGTTACG\n",
      "Z78448.1\n",
      "CCTCAGCGGGTTGCCTCACCTGACCTGGGGTCGCANCCAAATGGCCATCAACTGATCATGGGCTGATGGGCCTCCAATGGGGTTCAAAAGGGTCTTCAGATTACGGTGGCCCATCTAATACGACAACCCGGGGCCTTTGCACAACAATTTTNTTGTAGCATAGTTCGTCCACCTCTTGCCGTATTTAGGACCATCAAAAGCCCATGCAGCTCTTAGACCCCCCGTACCAAAGAACAAGGGGCCAAACTCACATCCGCACCGGCTGAACAGTATGTATGGACAGCCTCGTTAAGGGAGAGATATGACTCGCAATGCCCAGGCAGGCGTGCCCTTGGCCTGATGGCCTCGGGCGCAACTTGCGTTCAAAGACTCGATGGTTCACGGGATTCTGCAATTCACACCATTTATCGCATTTCGGTGCGTTCTTCCATCCGATGCAAGAGCTGAGATATCCGTTGCTGAGAGTTGTTAAAAAAATAATTTGGGGAGGGTCAAGGGAAGGATGCCACCCCCCTTCACCAATTATGTGTCATACGACTTGGCGCAAAACTGCGCCGGGAAAGGGTTTAGATCTCGCCAACAAGAAAGCTCCCAAGGAGGCTCGATGGCAATTCTAGGTCACTTCAACAGCAAATGCTCATGGGTGACCAAAGTAAACAGATCCTCCAGATTAACTCGATCAATTATTATGTGATCTCAACAATGATCCTTCCGCAGGTTCACCTACGGAAACCTTGTTACG\n",
      "Z78447.1\n",
      "GCTTAAACTCAGCGGGTTGCCTCACCTGACTGGGGTCGCAACCAAATGGCCATCAACTGATCATGGGTTGATGGGCCTCCAATGGGGTTCAAAAGGGTCTTCAGATTACGGTGGCCCATCTAATACGACAACCCGGGGCCTTTGCACAACAATTTTGGTGTAGCATAGTTCGTCCACCTCTTGCCGTATTTAGGACCATCAAAAGCCCATGCAGCTCTTAGACCCCCCGTACCAAAGAACAAGGGGCCAAACTCACATCCGCACCGGCTGAACAGTATGTATGGACAGCCTCGTTAAGGGAGAGATATGACTCGCAATGCCCAGGCAGGCGTGCCCTTGGCCTGATGGCCTCGGGCGCAACTTGCGTTCAAAGACTCGATGGTTCACGGGATTCTGCAATTCACACCATTTATCGCATTTCGCTGGGTTCTTCATCGATGCAAGAGCCGAGATAGGATGCCACCCCCTTCACCACTTATGTGTCATTTGACTGGGGGCAAAATTGCGCCGGGTAAGGGTTTAGTTCTCGCCAACAAGAAAGCTCCCAGGGAGGCTCGATGGCAACTCTAGGTCACTTCAACAGGAAATGCCCATGGGTGACCAAAGTAAACAGATCCTCCAGATTACTCGATCAATTATTATGTGATCTCAACAATGATCCTCCCGCAGGTTCACCTACGGAATCCTTGTTACG\n",
      "Z78446.1\n",
      "GGGTTGCCTCACCTGACCTGGGTCGCAACCAAATGGCCATCAACTGATCATGGGTTGATGGGCCTCCAATGGGGTTCAAAAGGGTCTTCAGATTACGGTGGCCCATCTAATACGACAACCCGGAGCCTTTGCACAACAATTTTGTTGTAGCATAGTTCGTCCACCTCTTGCCGTATTTAGGGCCATCAAAAGCCCATGCAGCTCTTAGACCCCCCGTACCGAAGAACAAGGGGCCAAACTCACATCTGCACCGGCTGAACAGTATGTATGGACAGCCTCGTTAAGGGAGAGATATGACTCGCAATCCCAGGCAGGCGTGCCCTTGGCCTGATGGCCTCGGGCGCAACTTGCGTTCAAAGACTCGATGTTCACGGGATTCTGCAATCACACCATTATCGCAATTTCGCTGGTCCTCCATCGATGAAGAGCCGAGTATCCGTTGCTGAGAGTTGTTAAAAAATTATTTGGGGAGGATGCCACCCCCTTCACCAATTATGTGTCATATGACTTGGCGCAAAACTGCGCCGGGCAAGGGTTTAGATCTCGCCAACAAGAAAGCTCCCAAGGAGGCTCGATGGCAAATCTAGGTCACTTCAACAGGAAATGCTCATGGGTGACCAAAGTAAACAGATCCTCCAGATTAACTCGATCAATTATTATGTGATCTCAACAATGATCCTTCCGGAGGTTCACCTACGGAAACCTTGTTACG\n",
      "Z78445.1\n",
      "ACAGCTGTTGCTCACCTGACCTGGGGTCGCAACCAAATGGCCATCAACTGATCATGGGTTGATGGGCCTCCAATGGGGTTCAAAAGGGTCTTCAGATTACGGTGGCCCATCTAATACGACAACCCGGGGCCTCTGCACAACAATTTTGTTGTAGCATAGTTCGTCCACCTCTTGCCGTATTTAGGACCATCAAAAGCCCATGCAGCTCTTAGACCCCCCGTACCAAAGAACAAGGGGCCAAACTCACATCCGCACCGGCTGAACAGTATGTATGGACAGCCTCGTTAAGGGAGAGATATGACTCGCAATGCCCAGGCAGGCGTGCCCTTGGCCTGATGGCCTCGGGCGCAACTTGCGTTCAAAGACTCGATGGTGCACGGGATTCTGCAATTCACACCATTTATCGCATTTGCCGAAGACTGAGTCTCCGTTGCTGAGAGTTGTTAAAAAAATAGTTGGGGGAGGGTCAGGGAAGGATGCCACCCCCTTCACCAATTATGTGTCAAACGACTTGGAGCAAAACTGCGCCGGGCAAGGGTTTAGATCTCGCCAACAAGAAAGCTCCCAAGGAGGCTCGATGGCAATTCTAGGTCACTTCAACAGCAAATGCTCATGGGTGACCAAAGTAAACAGATCCTCCAGATTAACCCGATCAATTATTATGTGATCTCAACAATGATCCTTCCGCAGGTTCACCTACGGAAACCTTGTTACG\n",
      "Z78444.1\n",
      "AATGGCCATCAACTGACATGGGTTGATGGGCTCCAATGGGGTCCAAAAGGGTCTTCAGATATCGGTGGCCCATCTTATACGACAACCCGGGGCCTTTGCACAACAATTTTGTTGTAGCATAGTTCGTCCACCTCTTGCCGTATTTAGGACCATCAAAAGCCCATGCATCTCTTAGACCCCCCGTACCAAAGAACAAGGGGCCAAACTCACATCCGCACCGGCTGAACAGTATGTATGGACAGCCTCGTTAAGGGAGAGATATGACTCGCAATGCCCAGGCAGGCGTGCCCTTGGCCTGATGGCCTCGGGCGCAACTTGCGTTCAAAGACTCGATGGTTCACGGGATTCTGCAATTCACACCATTTATCGCATTTCGGTGGGTTCTTCATCGATGCAAGAGCTGAGATATCCGTTGCTGAGAGTTGTTAAAAAAATATTTGGGGGAGGGTAAGGGAAGAATGCCACCCCCTCCACCAATTTTGTGTAATTTGATTGGGGGAAAAATTGAGGGTTTAGATATCGCCAACAAGGATGCTCCCAAGGAGGCTCGATGGCAAATCTAGGTCACTTCAACAGCAAATGCCCATGGGTGACCCAAGTAAACAGATCCTCCAGATTAACTCGATCAATTATTATGTGATCTCAACAATGATCCTTCCGCAGTTCACCCTACGGAAACCTTGTTACG\n",
      "Z78443.1\n",
      "CCTCACCTGACTGGGTCGCAACCAAATGGCCATCAACTGATCATGGGTTGATGGGCCTCCAATGGGGTTCAAAAGGGTCTTCAGATTATGGTGGCCCATCTAATACGACAACCCGGGGCCTTTGCACAACAATTTTGTTGTAGCATAGTTCGTCCACCTCTTGCCGTATTTAGGACCATCAAAAGCCCATGCAGCTCTTAGACCCCCCGTACCAAAGAACAAGGGGCCAAACTCACATCCGCACCGGCTGAACAGGTGTGTATGGACAGCCTCGTTAAGGGAGAGATATGACTCGCAATGCCCAGGCAGGCGTGCCCTTGGCCTGATGGCCTCGGGCGCAACTTGCGTTCAAAGACTCGATGGTTCACGGGATTCTGCAATTCACACCATTATCGCATTTCGCTGNNNNNNNNNNNNNNNNNNNNNNNNNNNNNNNNNNNNNNNNNNNNNNNNNNNNNNNNNNNNNNNNNNNNNNNNNNNNNNNNNNNNNNNNNNNNNNNNNNNNNNNNNNNNNNNNNNNNNNNNNNNNNNNNNNNNNNNNNNNNNNNNNNNNNNNNNNNNNNNNNNNNNNNNNNNNNNTGTGGCCCAAAACTCTGCCGGGCAAGGGTTTAGATATCGCCAACAAGAAAGCTCCCAAGGAGGCTCGATGGCAAATCTAGGTCACTTCAACAGCAAATGCCCATGGGTGACCCAAGTAAACAGATCCTCCAGATTAACTCGATCAATTATTATGTGATCTCAACAATGATCCTTCCGCAGGTTCACCTACGGAAACCTTGTTACG\n",
      "Z78442.1\n",
      "ACTCAGCGGGTTGCTCAGCTGACTGGGGTCGCAACAAATGGTCATCAACTGATCATGGGTTGATGGGCCTCCAATGGGGTTCAAAAGGGTCTTCAGGTTACGGTGGCCCATCTAATACGACAACCCGGGGCCTTGGGACAACAATTTTGTTGTGGCATAGTTCGTCCACCTCTTGCCGTTTTGAGGACCATCAAATGCCCATGCAGCTCTTAGACCCCCGGTACCAAAGAACAAGGGGCCAAACTCACATCCGCACCGGATGAACAGTATGTTTGGATAGCCTCGTTAGGGGAGAGATATGATTCCCAATGCCCAGGCAGGCGTGCCCTTGGCCTGATGGCCTCGGGCGCAACTTGCGTTCCAAAGACTCGATGGTTCACGGGATTCTGCAATTCACACCATTTATCGCATTTCGCTGCGTTCTTCATCGATGCAAGAGCCGAGATATCCGTTGCTGAGAGTTGTTAAAAAAATAATTTGGGGAGGGTCAGGGCAGGATGCCACCCCCTTCACCAATTATGTGTCATATGACTTGGCGCCAAACTCCGCCGGGCAAGGGTTTAGATCTCGCCAACAAGAAAGCTCCCAAGGAGGCTCGATGGCAAATCTAGGTCACTTCAACAGCAAATGCCCATGGGTGACCAAAGTAAACAGATCCTCCAGATTAACTCGATCAATTATTATGTGATCTCAACAATGATCCTTCCGCAGGTTCACCTAC\n",
      "Z78441.1\n",
      "CTCAGCGCGTTGCTCAGCTGACTGGGGTCGCAACACATGGTCATCAACTGATCATGGGTTGATGGGCCTCCAATGGGGTTCAAAAGGGTCTTCAGGTTACGGTGGCCCATCTAATACGACAACCCGGGGCCTTGGGACAACAATTTGGTTGTAGCATAGTTCGTCCACCTCTTGCCGTTTTGAGGACCATCAAATGCCCATGCAGCTCTTAGACCCCCCGTACCAAAGAACAAGGGGCCAAACTCACATCCGCACCGGATGAACAGTATGTATGGACAGCCTCGTTAAGGGAGAGATATGACTCGCAATGCCCAGGCAGGCGTGCCCTTGGCCTGATGGCCTCGGGCGCAACTTGCGTTCAAAGACTCGATGGTTCACGGGATTCTGCAATTCACACCATTTATCGCATTTCGCTGCGTTCTTCATCGATGCAAGAGCCGAGATATCCGTTGCTGAGAGTTGTTAAAAAAATAATTTGGGGAGGGTCAGGGCAGGATGCCACCCCCTTCACCAATTATGTGTCATATGACTTGGCGCACAACTCCGCCGGGCAAGGGTTTAGATCTCGCCAACAAGAAAACTCCCAAGGAGGCTCGATGGCAAATCTAGGTCACTTCAACAGCAAATGCTCATGGGTGACCAAGTAAACAGATCCTCCAGATTAACTCGATCAATTATTATGTGATATCGGCAATGACCTTCC\n",
      "Z78440.1\n",
      "TGCTAAACTCAGGGGTTGCCTCACCTGACCTGGGGTCGCAACCAAATGGCCATCAACTGATCATGGGTTGATGGGCCTCCAATGGGGTTCAAAAGGGTCTTCAGATTACGGTGGCCCATCTAATACGACAACCCGGGGCCTTTGCACAACAATTTTGCTGTAGCATAGTTCGTCCACCTCTTGCCGTATTTAGGACCATCAAAAGCCCATGCAGCTCTTAGACCCCCCGTAGCAAAGAACAAGGGGCCAAACTCACATCCGCACCGGCTGAACAGTATGTATGGACAGCCTCGTTAAGGGAGAGATATGACTCGCAATGCCCAGGCAGGCGTGCCCTTGGCCTGATGGCCTCGGGCGCAACTTGCGTTCAAAGACTCGATGGTTCACGGGATTCTGCAATTCACACCATTTATCGCATTTCGGTGGGTTCTTCAACGATGCAAGAGCTGAGATATCCGTTGCTGAGAGTTGTTAAAAAATTATTTGGGGGAGGGTAAGGGAAGATATGCCACCCCCTCCACCATTTTTGTGTAATTTGATTGGGGGAAAAACTGCGCCGGGTAAGGGTTTAGTTCTCGCCAACAAGAATGCTCCCAAGGAGGGTCGATGGAAATTCTAGGTCACTACAACAGAAATTGCCCATGGGTGACCAAAATATGCAGATCCTCCAGATTACCTCGATCAATTATTATGTGATCTCAACAATGATCCTCCCGGAGGTCCACCTACGGAAACCTTGTTACG\n",
      "Z78439.1\n",
      "GGCCCAACTAAACGGCCAACCGGGGCATTTGCACAACAATTTTGTTGTAGCATAGTTCGTCCACCTCTTTCCGTATTTAGGACCATCCAAAGCCCATGCAGCTCTTAGACCCCCCGTACCAAAGAACAAGGGGCCAAACTCACATCCGCACCGGCTGAACAGTATGTATGGACAGCCTCATTAAGGGAGAGATATGACTCGCAATGCCCAGGCAGGCGTGCCCTTGGCCTGATGGCCTCGGGCGCAACTTGCGTTCAAAGACTCGATGTTCACGGGATTCTGCAATTCACACCATTATCGCATTTCGCTGCGTTCTTCATCGATGCAAGAGCCGAGATATCCGTTGCTGAGAGTTGTTAAAAAAATAATTTGGGGAGGGTCAGGGCAGGATTACCACCCCCTTCACCAATTATGTGTCATATGACTTGGCGCCCAACTCCGCCGGGCAGGGGTTTAGATCTCGCCAACAAGAAAGCTCCCAAGGAGGCTCGATGGCAAATCTAGGTCACTTCAACAGCAAATGCCCATGGGTGACCAAAGTAAACAGATCCTCCAGATTAACTCGATCAATTATTATGTGATCTCAACAATG\n"
     ]
    }
   ],
   "source": [
    "from Bio import SeqIO\n",
    "for record in SeqIO.parse('ls_orchid.gbk', 'genbank'):\n",
    "    print(record.id)\n",
    "    print(record.seq.reverse_complement())"
   ]
  },
  {
   "cell_type": "code",
   "execution_count": 17,
   "metadata": {},
   "outputs": [
    {
     "data": {
      "text/plain": [
       "94"
      ]
     },
     "execution_count": 17,
     "metadata": {},
     "output_type": "execute_result"
    }
   ],
   "source": [
    "# to save these reverse complements to a file, we’ll need to make SeqRecord objects\n",
    "from Bio import SeqIO\n",
    "records = [rec.reverse_complement(id='rc_'+rec.id, description='reverse complement') \\\n",
    "          for rec in SeqIO.parse('ls_orchid.fasta', 'fasta')]\n",
    "len(records)"
   ]
  },
  {
   "cell_type": "code",
   "execution_count": 18,
   "metadata": {},
   "outputs": [
    {
     "data": {
      "text/plain": [
       "18"
      ]
     },
     "execution_count": 18,
     "metadata": {},
     "output_type": "execute_result"
    }
   ],
   "source": [
    "from Bio import SeqIO\n",
    "records = [rec.reverse_complement(id='rc_'+rec.id, description='reverse complement') \\\n",
    "          for rec in SeqIO.parse('ls_orchid.fasta', 'fasta') if len(rec)<700]\n",
    "len(records)"
   ]
  },
  {
   "cell_type": "code",
   "execution_count": 19,
   "metadata": {},
   "outputs": [
    {
     "data": {
      "text/plain": [
       "18"
      ]
     },
     "execution_count": 19,
     "metadata": {},
     "output_type": "execute_result"
    }
   ],
   "source": [
    "# complete example\n",
    "from Bio import SeqIO\n",
    "records = [rec.reverse_complement(id='rc_'+rec.id, description='reverse complement') \\\n",
    "          for rec in SeqIO.parse('ls_orchid.fasta', 'fasta') if len(rec)<700]\n",
    "SeqIO.write(records, 'rev_comp.fasta', 'fasta')"
   ]
  },
  {
   "cell_type": "markdown",
   "metadata": {},
   "source": [
    "#### Getting SeqRecord objects as formatted strings"
   ]
  },
  {
   "cell_type": "code",
   "execution_count": 20,
   "metadata": {},
   "outputs": [
    {
     "name": "stdout",
     "output_type": "stream",
     "text": [
      ">Z78533.1 C.irapeanum 5.8S rRNA gene and ITS1 and ITS2 DNA\n",
      "CGTAACAAGGTTTCCGTAGGTGAACCTGCGGAAGGATCATTGATGAGACCGTGGAATAAA\n",
      "CGATCGAGTGAATCCGGAGGACCGGTGTACTCAGCTCACCGGGGGCATTGCTCCCGTGGT\n",
      "GACCCTGATTTGTTGTTGGGCCGCCTCGGGAGCGTCCATGGCGGGTTTGAACCTCTAGCC\n",
      "CGGCGCAGTTTGGGCGCCAAGCCATATGAAAGCATCACCGGCGAATGGCATTGTCTTCCC\n",
      "CAAAACCCGGAGCGGCGGCGTGCTGTCGCGTGCCCAATGAATTTTGATGACTCTCGCAAA\n",
      "CGGGAATCTTGGCTCTTTGCATCGGATGGAAGGACGCAGCGAAATGCGATAAGTGGTGTG\n",
      "AATTGCAAGATCCCGTGAACCATCGAGTCTTTTGAACGCAAGTTGCGCCCGAGGCCATCA\n",
      "GGCTAAGGGCACGCCTGCTTGGGCGTCGCGCTTCGTCTCTCTCCTGCCAATGCTTGCCCG\n",
      "GCATACAGCCAGGCCGGCGTGGTGCGGATGTGAAAGATTGGCCCCTTGTGCCTAGGTGCG\n",
      "GCGGGTCCAAGAGCTGGTGTTTTGATGGCCCGGAACCCGGCAAGAGGTGGACGGATGCTG\n",
      "GCAGCAGCTGCCGTGCGAATCCCCCATGTTGTCGTGCTTGTCGGACAGGCAGGAGAACCC\n",
      "TTCCGAACCCCAATGGAGGGCGGTTGACCGCCATTCGGATGTGACCCCAGGTCAGGCGGG\n",
      "GGCACCCGCTGAGTTTACGC\n",
      ">Z78532.1 C.californicum 5.8S rRNA gene and ITS1 and ITS2 DNA\n",
      "CGTAACAAGGTTTCCGTAGGTGAACCTGCGGAAGGATCATTGTTGAGACAACAGAATATA\n",
      "TGATCGAGTGAATCTGGAGGACCTGTGGTAACTCAGCTCGTCGTGGCACTGCTTTTGTCG\n",
      "TGACCCTGCTTTGTTGTTGGGCCTCCTCAAGAGCTTTCATGGCAGGTTTGAACTTTAGTA\n",
      "CGGTGCAGTTTGCGCCAAGTCATATAAAGCATCACTGATGAATGACATTATTGTCAGAAA\n",
      "AAATCAGAGGGGCAGTATGCTACTGAGCATGCCAGTGAATTTTTATGACTCTCGCAACGG\n",
      "ATATCTTGGCTCTAACATCGATGAAGAACGCAGCTAAATGCGATAAGTGGTGTGAATTGC\n",
      "AGAATCCCGTGAACCATCGAGTCTTTGAACGCAAGTTGCGCTCGAGGCCATCAGGCTAAG\n",
      "GGCACGCCTGCCTGGGCGTCGTGTGTTGCGTCTCTCCTACCAATGCTTGCTTGGCATATC\n",
      "GCTAAGCTGGCATTATACGGATGTGAATGATTGGCCCCTTGTGCCTAGGTGCGGTGGGTC\n",
      "TAAGGATTGTTGCTTTGATGGGTAGGAATGTGGCACGAGGTGGAGAATGCTAACAGTCAT\n",
      "AAGGCTGCTATTTGAATCCCCCATGTTGTTGTATTTTTTCGAACCTACACAAGAACCTAA\n",
      "TTGAACCCCAATGGAGCTAAAATAACCATTGGGCAGTTGATTTCCATTCAGATGCGACCC\n",
      "CAGGTCAGGCGGGGCCACCCGCTGAGTTGAGGC\n",
      ">Z78531.1 C.fasciculatum 5.8S rRNA gene and ITS1 and ITS2 DNA\n",
      "CGTAACAAGGTTTCCGTAGGTGAACCTGCGGAAGGATCATTGTTGAGACAGCAGAACATA\n",
      "CGATCGAGTGAATCCGGAGGACCCGTGGTTACACGGCTCACCGTGGCTTTGCTCTCGTGG\n",
      "TGAACCCGGTTTGCGACCGGGCCGCCTCGGGAACTTTCATGGCGGGTTTGAACGTCTAGC\n",
      "GCGGCGCAGTTTGCGCCAAGTCATATGGAGCGTCACCGATGGATGGCATTTTTGTCAAGA\n",
      "AAAACTCGGAGGGGCGGCGTCTGTTGCGCGTGCCAATGAATTTATGACGACTCTCGGCAA\n",
      "CGGGATATCTGGCTCTTGCATCGATGAAGAACGCAGCGAAATGCGATAAGTGGTGTGAAT\n",
      "TGCAGAATCCCGCGAACCATCGAGTCTTTGAACGCAAGTTGCGCCCGAGGCCATCAGGCT\n",
      "AAGGGCACGCCTGCCTGGGCGTCGTGTGCTGCGTCTCTCCTGATAATGCTTGATTGGCAT\n",
      "GCGGCTAGTCTGTCATTGTGAGGACGTGAAAGATTGGCCCCTTGCGCCTAGGTGCGGCGG\n",
      "GTCTAAGCATCGGTGTTCTGATGGCCCGGAACTTGGCAGTAGGTGGAGGATGCTGGCAGC\n",
      "CGCAAGGCTGCCGTTCGAATCCCCCGTGTTGTCGTACTCGTCAGGCCTACAGAAGAACCT\n",
      "GTTTGAACCCCCAGTGGACGCAAAACCGCCCTCGGGCGGTGATTTCCATTCAGATGCGAC\n",
      "CCCAGTCAGGCGGGCCACCCGTGAGTAA\n",
      ">Z78530.1 C.margaritaceum 5.8S rRNA gene and ITS1 and ITS2 DNA\n",
      "CGTAACAAGGTTTCCGTAGGTGAACCTGCGGAAGGATCATTGTTGAAACAACATAATAAA\n",
      "CGATTGAGTGAATCTGGAGGACTTGTGGTAATTTGGCTCGCTAGGGATATCCTTTTGTGG\n",
      "TGACCATGATTTGTCATTGGGCCTCATTGAGAGCTTTCATGGCGGGTTTGAACCTCTAGC\n",
      "ACGGTCCAGTTTGCACCAAGGTATATAAAGAATCACCGATGAATGACATTATTGCCCCAC\n",
      "ACAACGTCGGAGGTGTGGTGTGTTAATGTTCATTCCAATGAATTTTGATGACTCTCGGCA\n",
      "GACGGATATCTTGACTCTTGCATCGATGAAGAACGCACCGAAATGTGATAAGTGGTGTGA\n",
      "ATTGCAGAATCCCGTGAACCATCGAGTCTTTGAACGCAAGTTGCGCCCGAGGCCATCAGG\n",
      "CTAAGGGCACGCCTGCCTGGGCGTCGTATGTTTTATCTCTCCTTCCAATGCTTGTCCAGC\n",
      "ATATAGCTAGGCCATCATTGTGTGGATGTGAAAGATTGGCCCCTTGTGCTTAGGTGCGGT\n",
      "GGGTCTAAGGATATGTGTTTTGATGGTCTGAAACTTGGCAAGAGGTGGAGGATGCTGGCA\n",
      "GCCGCAAGGCTATTGTTTGAATCCCCCATGTTGTCATGTTTGTTGGGCCTATAGAACAAC\n",
      "TTGTTTGGACCCTAATTAAGGCAAAACAATCCTTGGGTGGTTGATTTCCAATCAGATGCG\n",
      "ACCCCAGTCAGGGGGCCACCCCAT\n",
      ">Z78529.1 C.lichiangense 5.8S rRNA gene and ITS1 and ITS2 DNA\n",
      "ACGGCGAGCTGCCGAAGGACATTGTTGAGACAGCAGAATATACGATTGAGTGAATCTGGA\n",
      "GGACTTGTGGTTATTTGGCTCGCTAGGGATTTCCTTTTGTGGTGACCATGATTTGTCATT\n",
      "GGGCCTCATTGAGAGCTTTCATGGCGGGTTTGAACCTCTAGCACGGTGCAGTTTGCACCA\n",
      "AGGTATATAAAGAATCACCGATGAATGACATTATTGTCAAAAAAGTCGGAGGTGTGGTGT\n",
      "GTTATTGGTCATGCCAATGAATTGTTGATGACTCTCGCCGAGGGATATCTTGGCTCTTGC\n",
      "ATCGATGAAGAATCCCACCGAAATGTGATAAGTGGTGTGAATTGCAGAATCCCGTGAACC\n",
      "ATCGAGTCTTTGAACGCAAGTTGCGCCCGAGGCCATCAGGCTAAGGGCACGCCTGCCTGG\n",
      "GCGTCGTATGTTTTATCTCTCCTTCCAATGCTTGTCCAGCATATAGCTAGGCCATCATTG\n",
      "TGTGGATGTGAAAGATTGGCCCCTTGTGCTTAGGTGCGGTGGGTCTAAGGATATGTGTTT\n",
      "TGATGGTCTGAAACTTGGCAAGAGGTGGAGGATGCTGGCAGCCGCAAGGCTATTGTTTGA\n",
      "ATCCCCCATGTTGTCATATTTGTTGGGCCTATAGAACAACTTGTTTGGACCCTAATTAAG\n",
      "GCAAAACAATCCTTGGGTGGTTGATTTCCAATCAGATGCGACCCCAGTCAGCGGGCCACC\n",
      "AGCTGAGCTAAAA\n",
      ">Z78527.1 C.yatabeanum 5.8S rRNA gene and ITS1 and ITS2 DNA\n",
      "CGTAACAAGGTTTCCGTAGGTGAACCTGCGGAAGGATCATTGTTGAGACAGTAGAATATA\n",
      "TGATCGAGTGAATCTGGATGACCTGTGGTTACTCGGCTCGCCTGATTTGTTGTTGGGCTT\n",
      "CCTTAGGAGCTTACATGGCGGGTTTGAACCTCTACCACGGTGCAGTTTGCGCCAAGTCAT\n",
      "ATGAAGCATAACTGCAAATGGCACTACTGTCACCAAAAGTTGGAGTGGCAGTGTGTTATT\n",
      "GCATGCGCTAATGGATTTTTGATGACTCTCGGCCAACGGATATCTGGCTCTTTGCATCGA\n",
      "TGAAGGAACGCAGCGAAATGCGATAAGTGGTGTGAATTGCAGAATCCCGCGAACCATCGA\n",
      "GTCTTTGAACGCAAGTTGCGCCCGAGGCCATCAGGCTAAGGGCACGCCTGCCTGGGCGTC\n",
      "GTGTATCGCATCTCTCTTGCCAATGCTTACCCGGCATACAACTAGGCTGGCATTGGGTGG\n",
      "ATGTGAAAGATTGGCCCCTTGTGCCTAGGTGCGGTGGGTCTAAGGATTGATGTTTTGATG\n",
      "GATCGAAACCTGGCAGGAGGTGGAGGATGCTGGAAGCCGCAAGGCTGTCGTTCGAATCCC\n",
      "CCATGTTGTCATATTTGTCGAACCTATAAAAGAACATGCTTGAACCCCAATGGATTGTAA\n",
      "AATGACCCTTGGCGGTTGATTTCCATTTAGATGCGACCCCAGGTCAGGCGGGCCACCC\n",
      ">Z78526.1 C.guttatum 5.8S rRNA gene and ITS1 and ITS2 DNA\n",
      "CGTAACAAGGTTTCCGTAGGTGAACCTGCGGAAGGATCATTGTTGAGACAGTAGAATATA\n",
      "TGATCGAGTGAATCTGGAGGACCTGTGGTTACTCGGCTCCCCTGATTTGTTGTTGGGCTT\n",
      "CCTTAGGAGCTTACATGCCGGGTTTGAACCTCTACCACGGTGCAGTTTGCGCCAAGTCAT\n",
      "ATGAAGCATAACTGAACAATGGCATTATTGTCACCAAAAGTTGGAGTGGCAGTGTGCTAT\n",
      "TGCATGCGCTAATGGATTTTTGATGACTCTCGCCAACGGATATCTTGGCTCTTGCATCGA\n",
      "TGAAGAACCCAGCGAAATGCGATAAGTGGTGTGAATTGCAGAATCCCGCGAACCATCGAG\n",
      "TCTTTGAACGCAAGTTGCGCCCGAGGCCATCAGGCTAAGGGCACGCCTGCCTGGGCGTCG\n",
      "TGTATCGCATCTCTCTTGCCAATGCTTACCCGGCATACAACTAGGCTGGCATTGTGCGGA\n",
      "TGTGAAAGATTGGCCCCTTGTGCCTAGGTGCGGTGGGTCTAAGGATTGATGTTTTGATGG\n",
      "ATCGAAACCTGGCAGGAGGTGGAGGATGCTGGAAGCCGCAAGGCTGTCGTTCGAATCCCC\n",
      "CATGTTGTCATATTTGTCGAACCTATAAAAGAACATGCTTGAACCCCAATGGATGTAAAA\n",
      "TGACCCTTGGCGGTTGATTTCCATTTAGATGCGACCCCAGGTCAGGCGGGGCCACCCGCT\n",
      "GAGTTTATGT\n",
      ">Z78525.1 C.acaule 5.8S rRNA gene and ITS1 and ITS2 DNA\n",
      "TGTTGAGATAGCAGAATATACATCGAGTGAATCCGGAGGACCTGTGGTTATTCGGCTTGC\n",
      "CGAGGGCTTTGCTTTTGTGGTGACCCAAATTTGTCGTTGGGCCTCCTCGGGAGCTTTCAT\n",
      "GGCAGGTTTCAAACTCTAGCACGGCACAGTTTGTGCCAAGTCATATGAAGCATCACCGAC\n",
      "AAATGACATTATTGTCAAAAAAGTTGGAGGGGCGGTGTCCTCCTGTGCATGCCGAATATA\n",
      "ATTTTGATGACTCTCGACAAGCGGATATCTTGGCTCTTGCATCGGATGAAGAACCCAGCG\n",
      "AAATGCGATAAGTGGTGTGAATTGCAAGATCCCGTGAACCATCGAGTCTTTTGAACGCAA\n",
      "GTTGCGCCCGAGGCCATCAGGCTAAGGGCACGCCTGCCTGGGCGTCGTGTGTTGTGTCTC\n",
      "TCTTGCCAATGCCTGTCCATATATCTAGGCTTGCATTGTGCGGATGCGAAAGATTGGCCC\n",
      "CTTGTGCCTTGGCGCGTTGGGTCTAAGGAATGTTTTGATGGCCCGAAACTTGGCAGGAGG\n",
      "TGGAGGACATTGGCTGCCACAAGGTTGTCATTTAAATCCCCCATGTTATCGTATTTATCG\n",
      "GACCTATATAATAACTTGTTTGAACCCCAGTGGAGGCAAAATGACCCTTGGATGGTTGAC\n",
      "TGCCATTCATATGCGACCCCAGGTCAGGCGGGCCACCCGCTGCA\n",
      ">Z78524.1 C.formosanum 5.8S rRNA gene and ITS1 and ITS2 DNA\n",
      "CGTAACAAGGTTTCCGTAGGTGAACCTGCGGAAGGATCATTGTTGAGATAGTAGAATATA\n",
      "TGATTGAGTGAATATGGAGGACATGTGGTTACTTGGCTCGTCAGTGCTTTGCTTTTGTGG\n",
      "TGACCTTAATTGGGCCTCCTTAGGAGCTTTCATGGCGGGTTCAAACCTTTAGCACGGCGC\n",
      "AGTTTGTGCCAAGTCATATAAGCATCCCTGATGAATGGCATTGTTGTTAAAAAAGTCGGA\n",
      "GGGGCGGCATGCTGTTGTGCATGCTAATGAATTTTTTGATGACTCTCGCAACGGAACTTG\n",
      "GCTCTTTACATCCGATGAAGAACGCAGCGAAATGCGATAAGTGGTGTGAATTGCAGAATC\n",
      "CCGTGAACCATCGAGTATTTGAACGCAAGTTGCGCCCAAGGCCATCAGGCTAAGGGCACG\n",
      "CCTGCCTGGGCGTCGTGTGCTGCATCTCTCCTNCCAATGCTTGCCCAGCATATAGCTAGG\n",
      "TTAGCATTGTGCGGATGAAATATTGGCCCCTTGTGCTTAGGTGCGGTGGGTCTAAGGATT\n",
      "AGTATTTTGATAGCTCGGAACTCGGCAGGAGGTGGAGAATGTTGGTAGCTGCAAGGCTGC\n",
      "CATTTGAATTCCCCATGTTGTCGTATTTGTTGAACCTATAAAAGAACTTGTTTGAACCCC\n",
      "AATGAAGGAAAAATGACCCTTGGGCGGTTGATTTTCATTCAGATGCAACCCCAGGTCAGG\n",
      "TGGCCACCCTGAGATTAAGC\n",
      ">Z78523.1 C.himalaicum 5.8S rRNA gene and ITS1 and ITS2 DNA\n",
      "CGTAACCAGGTTTCCGTAGGTGAACCTGCGGCAGGATCATTGTTGAGACAGCAGAATATA\n",
      "TGATCGAGTGAATCCGGTGGACTTGTGGTTACTCAGCTCGACATAGGCTTTGCTTTTGCG\n",
      "GTGACCCTAACTTGTCATTGGGCCTCCTCCCAAGCTTTCCTTGTGGGTGTGAACCTCTAG\n",
      "CACGGTGCAGTATGCGCCAAGTCATATGAAGCATCACTGAGGAATGACATTATTGTCCCA\n",
      "AAAGCTAGAGTGGAAGCGTGCTCTTGCATGCATGCATAATGAATTTTTTATTGACTCTCG\n",
      "ACATATGTGGTGTGAATTGCAGAATCCCGTGAACCATCGAGTCTTTGAACGCAAGTTGCG\n",
      "CCCGATGCCATCAGGCTAAGGGCACGCCTGCCTGGGCGTCGTGTGCTGCGTCTCTCCTAT\n",
      "CAATGCTTTCCTATCATATAGATTGGTTTGCATTGCGTGGATGCGAAAGATTGGCCCCTT\n",
      "GTGCCTAGGTGCGGTGGGTCTAAGGACTAGTGTTTTGATGGTTCGAAACCTGGCAGGAGG\n",
      "TGGAGGATGTTGGCAGCTATAAGGCTATCGTTTGAACCCCCCATATTGTCGTGTTTGTCG\n",
      "GACCTAGAGAAGAACCTGTTTGAATCCCAATGGAGGCAAACAACCCTCGGGCGGTTGATT\n",
      "GCCATTCATATTGCGACCCAGGTCAGGCGGGGCCACCGCTGAGTTTAAG\n",
      ">Z78522.1 C.macranthum 5.8S rRNA gene and ITS1 and ITS2 DNA\n",
      "CGTAACAAGGTTTCCGTAGGTGAACCTGCGGAAGGATCATTGTTGAGACAGCAGAATATA\n",
      "TGATCGAGTGAATCCGGTGGACTTGTGGTTACTCAGCTCGACATAGGCTTTGCTTTTGCG\n",
      "GTGACCCTAATTTGTCATTGGGCCTCCCCCCAAGCTTTCCTTGTGGGTTTGAACCTCTAG\n",
      "CACGGTGCAGTATGCGCCAAGTCATATGAAGCATCACTGATGAATGACATTATTGTCCAA\n",
      "AAAGTTGGAGTGGAAGCGTGCTATTGCATACATGCAAATGAATTTTTTATGACTCTCGAC\n",
      "ATATCGTGGTGTGATCGCAGAATCCCGTGAACCATCGAGTCTTTGAACGCAAGTTGCGCC\n",
      "CGATGCCATCAGGCTAAGGGAACGCCTGCCTGGGCGTCGTGTGCTGCGTCTCTCCTGTCA\n",
      "ATGGTTATACGTCATATAGACAGGTTTGCATTGCGTGGATGTGAAAGATTGGCCCCTTGT\n",
      "GCCTAGGTGCGGTGGGTCTAAGGACTAGTGTTTTGATGGTTCGAAACCTGGCAGGAGGTG\n",
      "GAGGATGTTGGCAGCTATAAGGCTATCATTTGAATCCCCCATATTGTCGTGTTTGTCGGA\n",
      "CCTAGAGAAGAACATGTTTGAATCCCAATGGGGGCAAACAACCCTCGGGCGGTTGATTGC\n",
      "CATTCATATGCGACCCCAGGTCAGGCGGCCACCCGCTGAG\n",
      ">Z78521.1 C.calceolus 5.8S rRNA gene and ITS1 and ITS2 DNA\n",
      "GTAGGTGAACCTGCGGAAGGATCATTGTTGAGACAGTAGAATATATGATCGAGTGAATCC\n",
      "GGTGGACTTGTGGTTACTCAGCTCGACATAGGCTTGGCTTTGGCGGTGACCCTAATTTGC\n",
      "CATTGGGCCTCCTCCAAAGCTTTCCTTGTGGGTTTGAACCTCTAGCACGGTGCAGTATGC\n",
      "GCCAAGTCATATGAAGCATCACCGATGAATGACATTATTGTCAAAAAGTTGGAGTGGAAG\n",
      "CGTGCTATTGCATGCATGCAAATGAATTTTTTATGACTCTCGACAACGGATATCTTGGCT\n",
      "CTTGCATCGATGAAGAACGCAGCAAAATGCGATAAGTGGTGTGAATTGCAGAATCCCGTG\n",
      "AACCATCGAGTCTTTGAACGCAAGTTGCGCCCGATGCCATCAGGCTAAGGGCACGCCTGC\n",
      "CTGGGCGTCGTGTGCTGCGTCTCTCCTGTCAATGCTTTCATGTCATATAGATAGGTTTGC\n",
      "ATTGCGTGGATGTGAAAGAATGGCCCCTTGTGCCTAGGTACGGTGGGTCTAAGGACTAGT\n",
      "GTTTTGATGGTTCGAAACCTGGCAGGAGGTGGAGGATGTTGGCAGCTATAAGGCTATCAT\n",
      "TTGAATCCCCCATATTGTCGTGTTTGTCGGACCTAGAGAAAAACATGTTTGAATCCCAAT\n",
      "GGAGGCAAACAACTCTCGGGCGGTTGATTGCCATTCATATGCGACCCCAGGTCAGGCGGG\n",
      "GCCACC\n",
      ">Z78520.1 C.segawai 5.8S rRNA gene and ITS1 and ITS2 DNA\n",
      "CGTAACAAGGTTTCCGTAGGTGAACCTGCGGAAGGATCATTGTTGAGACAGCAGAATATA\n",
      "TGATCGAGTGAATCCGGTGGACTTGTGGTTACTCAGCTCGCCATAGGCTTTGCTTTTGCG\n",
      "GTGACCCTAATTTGTCATTGGGCCTCCTCCAAAGCTTTCCTTGTGGGTTTGAACCTCTAG\n",
      "CACGGTGCAGTATGCGCCAAGTCATATGAATCATCACCGATGAATGACATTATTGTCCAA\n",
      "AAAGTTGGAGTAGAAGCGTGCTATTGCATGCATGCAATAGAATATTTTATGACTCTCGAC\n",
      "AAGGGATATCTTGGCTCTTGCATCGGATGAAGAACGCAGCGAAATTGTGATAAGTGGTGT\n",
      "GAATTGCAGAATCCCGTGAACCATCGAGTATGTGAACGCAAGTTGCGCCCGATGCCATCA\n",
      "GGCTAAGGGCACGCCTGCCTGGGCGTCGTGTGCTGCGTCTCTCCTGTCAATGCTTTCCTG\n",
      "TCATATCGATAGGTTTGCATTGTGTGGATGTGAAAGATTGGCCCCTTGTGCCTAGGTGCG\n",
      "GTGGGTCTAAGGACTAGTGTTTTGATGGTTCGAAACCTGGCAGGAGGTGGAGGATGTTGG\n",
      "CAGCTATAAGGTTGTCATGTGAATCCCCCATATTGTCGTGTTTGTCGGACCTGGAGAAGA\n",
      "ACCTGTTTGAATCCCAATGGAGGCAAACAACCCTCGGGCGGTTGATTGCCATTCATATGC\n",
      "GACCCCAGGTCAGGCGGGCCACCCGCTGAGTTT\n",
      ">Z78519.1 C.pubescens 5.8S rRNA gene and ITS1 and ITS2 DNA\n",
      "ATATGATCGAGTGAATCTGGTGGACTTGTGGTTACTCAGCTCGCCATAGGCTTTGCTTTT\n",
      "GCGGTGACCCTAATTTGTCATTGGGCCTCCTCCCAAGCTTTCCTTGTGGGTTTGAACCTC\n",
      "TAGCACGGTGCAGTATGCACCAAGTCATATGAAGCATTGCCGATGAATGACATTATTGTC\n",
      "CAAAAGTTGGAGTGGAAGCGTGCTACTGCATGCATGCAAATGAATTTTTTTATGACTCTC\n",
      "GACAACGGATATCTTGGCTCTTGCATCGATGAAGAACGCAGCGAAATGCGATAAGTGGTG\n",
      "TGAATTGCAGAATCCCGTGAACCATCGAGTCTTTGAACGCAAGTTGCGCCCGATGCCATC\n",
      "AGGCTAAGGGCACGCCTGCCTGGGCGTCGTGTGCTGCGTCTCTCCTGTCAATGCTTTCCC\n",
      "ATCATATAGATAGGTTTGCATTGTGTGGATGTGAAAGATTGGCCCCTTGTGCCTAGGTGC\n",
      "GGTGGGTCTAAGAACTTAATGTTTTGATGGTTCGAAACCTGGCAGGAGGTGGAGGATGTT\n",
      "GGCAGCTATATAAGGCTATCATTTGAATCCCCCATATTGTCGCGTTTGTTGGACCTAGAG\n",
      "AAGAACATGTTTGAATCCCAATGGAGGCAAACAACCCTCGGGCGGTTGATTGCCATTCAT\n",
      "ATGCGACCCCAGGTCAGGCGGGGCCACCCGCTGAGTTTA\n",
      ">Z78518.1 C.reginae 5.8S rRNA gene and ITS1 and ITS2 DNA\n",
      "CGTAACAAGGTTTCCGTAGGTGAACCTGCGGGAGGATCATTGTTGAGATAGTAGAATATT\n",
      "CGATCGAGTGAATCCGGAGGACTTGTGGTTACTCGGCTCGTCGAAGGCTTAACTTTTGTG\n",
      "GTGACCCTGATTTGTAGTTGGGCATCCTCGAGAGCTTTTATGGCGGGTTTGAGCCTCTAT\n",
      "CACGGCGCAGTTTGCGCCAAGTCATATGAAGCATCGCCGACGAATTACATTATTGTCCCC\n",
      "CAAACTCGGATGGACGGTGTGTGTTACGCATACCCGTGAACCATCGAGTCTTTGAACGCA\n",
      "AGTTGCGCCCAAGGCCATCAGGCTAAGGGCACGCCTGCCTGGGCGTCGTGTGCTGCATCT\n",
      "CTTTTGCCAATGCTTGCTCGACATACAATTAGGCCAGTATTGCATAGATATGAAAGATTG\n",
      "ACCCCTTGTGCTTAGGTGCGGTGGGTCTAAGGATTGGTGTTTTGATGGCCCAAACCCCGG\n",
      "CAGGAGGTGGAGCATGTTGATAGTCGCAAGGCTGTCGTTCAAATCCCACATGTTGTCGTA\n",
      "TTTGCCGGACCCACAGAAGAACCTATTTGAACCCCTATGGAGGCAAAACAACCCTTGAGC\n",
      "GATTGATTGCCATTCAGATACGACCCCAGGTCAGGCGGGGCCACCCGCTGAGTTTTCC\n",
      ">Z78517.1 C.flavum 5.8S rRNA gene and ITS1 and ITS2 DNA\n",
      "CGTAACAAGGTTTCCGTAGGTGAACCTGCGGAAGGATCATTGTTGAGACAGTAGAATATA\n",
      "CGATCGAGTGAATCCAGAGGACTTGTGGTTACTCGGCTCGTCCAAGTCTTAGCTTTTGTG\n",
      "GCCCTGATTTGTCGTTGGGCATCCTCAGGAGATTTTATGGCGGGTTTGAACCTCTATCAC\n",
      "GGTGCAGTTTGCGCCAAGTCATATGAAGCATCACCGATGAATGACATTATTGTCACAAAA\n",
      "GTCGGATGGGCGGTGTGCTGTTGTGCATGCCAATAAATTTTTGATGACTCTCGGCCAACG\n",
      "GATATCTTGCTCTTCCATCGATGAAGAACGCAGCGAAATGCGATAAGTGGTGTGAATTGC\n",
      "AGAATCCCGTGAACCATCGAGTCTTTGAACGCAAGTTGCGCCCAAGGCCATCAGGCTAAG\n",
      "GGCACGCCTGCCTGGGCGTCGTGTGCTGCATCTCTTTTGCCAATGCTTGCCCGACATACA\n",
      "ATTAGGACAGTATTGCATAGATATGAAAGATTGACCCCTTGTGCTTAGGTGCGGTGGGTC\n",
      "TAAGGATTGGTGTTTTGGTGGCCCGAACCCCGGCAGGAGGTGGATCATGTTGATAGTCGC\n",
      "AAGACTGTCATTCAAATCCCACATGTTGTCGTATTTGTCGGACCCACAGAAGAACCTATT\n",
      "TGAACCCCAATGGAGGCAAAACAACCCTCGAGCGATTGATTGCCATTCAGATACGACCCC\n",
      "AGGTCAGGCGGGGCCACCCGCTGAGTTTAAGC\n",
      ">Z78516.1 C.passerinum 5.8S rRNA gene and ITS1 and ITS2 DNA\n",
      "CGTAACAAGGTTTCCGTAGGTGAACCTGCGGAAGGATCATTGTTGAGACAGTATAATATA\n",
      "TGATCGAGTGAATCCGGAGGACTTGTGGTTACTCGGCTCGTCCAAGTCTTAGCTTTTGTG\n",
      "GCCCTGATTTGTCGTTGGGCATCCTCAGGAGCTTTTATGGCGGGTTTGAACCTCTATCAC\n",
      "GGCGCAGTTTGCGCCAAGTCATATGAAGCATCACCGACGAATGACATTATTGTCACCAAA\n",
      "GTCGGATGGGCGGTGTGCTATTGTGCATACCAATAATTTTTTGATGACTCTCGTCAACGG\n",
      "ATATCTTAGCGAAATGCGATAAGTGGTGTGAATTGCAGAATCCCGTGAACCATCGAGTCT\n",
      "TTGAACGCAAGTTGCGCCCAAGGCCATCAGGCTAAGGGCACGCCTGCCTGGGCGTCGTGT\n",
      "GCTGCATCTCTTTTGCCAATGCTTGCCCGACATACAATTAGGCCAGTATTGCATAGATAT\n",
      "GAAAGATTGACCCCTTGTGCTTAGGTGCGGTGGGTCTAAGGATTGGTGTTTTGATGTCCC\n",
      "GAACCCCGGCAGGAGGTGGAGCATGTTGATAGTCGCAAGACTATCGTTCAAATCCCACAT\n",
      "GTTGTCGTATTTGTCGGACCCACAGAAGAACCTATTTGAACCCCAATGGAGGCAAAACAA\n",
      "CCCTCGAGTGATTGATTGCCATTCAGATATGACCCCAGGTCAGGCGGGGCCACCCGCTGA\n",
      "GTTTAA\n",
      ">Z78515.1 M.xerophyticum 5.8S rRNA gene and ITS1 and ITS2 DNA\n",
      "CGTAACAAGGTTTCCGTAGGTGAACCTGCGGAAGGATCATTGCTGAGACCGTAGAATAAA\n",
      "CGATCGAGTTAATCTGGAGGACCGGTGTACTTCGATCTCCCAGGGGCTTTCGCTACTGTG\n",
      "GTGGCCTTTGATCTGCCATCGGGCCTCCTTGGGAGTGTTCTTGAAGGCGATCAAACTTCT\n",
      "AGCCCGGCGCAGCTTCGCGCCAAGTCTTTTGAGACAAGAATCGGCATAGGGGTGTTCCCT\n",
      "TGTAGCCGGTGGGGGTGGCACTTGATTCGTGCCCCCCAAGTTACATTTTTACAACTCTCG\n",
      "GCAACGGATATCTCGGCTCTTGCATCGATGGAGGACGCAGCGAAATGCGATAAGTGGTGT\n",
      "GAATTGCAGAATCCCGTGAACATCGAGTCTTTGAACGCAAGTTGCGCTCGAGGCCGTCAG\n",
      "GCTAAGGGCACGCCTGCCTGGGCGTTGTGTACTGTGTCTCTCCCACCAATGGTTGTCCAA\n",
      "GAATACCGTTCGGTCGGTGCGGATGTGAGTTTGGCCCCTTGTTCTTCGGTTCAATGGGTC\n",
      "TAAGACCTCGGGCTTTTGATGGTCCAAAATTCGACAAGAGGTGGATGGGCAATGGCTGAG\n",
      "CCAAAGCTGTTGTGCGAATGCCGTATGTTGTCCGATTTGATGGGCCATCATAATTCGTAG\n",
      "GACCCTTCGGAACCCCATTGGTGCCACATCAACCCAACCCATGGGCGGTTGATTGCCATT\n",
      "TGGAAGCAACCCCAGGTCAGGTGAGGCCACCCGCTGAGTTTAAGC\n",
      ">Z78514.1 P.schlimii 5.8S rRNA gene and ITS1 and ITS2 DNA\n",
      "CGTAACAAGGTTTCCGTAGGTGGACCTTCGGGAGGATCATTTTTGAAGCCCCCAAATATA\n",
      "CGATCGAGATAATCCGGAGGACCGGTGTACTTTGGTCTCCCAGGGGCTTCCGCCGCTGTG\n",
      "GTGACCATGATTTCCCATCGAACCTCCTTGGGAGAGTTCTCTATGGCAATTGAACCCTTG\n",
      "GCCCGGCGCAGTTTCGCTCCAAGTCAAATGAGATAGAACCGACAAGGGTCTTCGTCCTCC\n",
      "ATGGATGGACCGGGGAGGGCCGGCGTGCTGCTGTGCCCCCTTAAGATTCGTCTGACAACT\n",
      "CTCGTCAACGGATATCTCGGCTCTTGCATCGATGAAGAACCCAGCGAAATGTGATAAGTG\n",
      "GTGTGAATTGCAGAATCCCGTGAACCATCGAGTCTTTGAACGCAAGTTGCGCCCGAGGCC\n",
      "ATCAGGCTAAGGGCACGCCTGCCTGGGCGTTGCGTGCTGCATCTCTCCCAATGCTAAGGT\n",
      "TGAACAGCCATACTGTTCGGCCGGCGAGGATGAGAGTTTGGCCCCTTGTTCTTCGGTGCG\n",
      "ATGGGTCCAAGACTTGGGCTTGTGACGGTCCACAAATCCGGCAAGAGGTGGACGGACGGT\n",
      "GGCTGCGACAAAGCTGTTGTGCGAATGCCCTATGTTGTCGTATTTGATGGGCCGGAATGA\n",
      "TCCCTTTCGAACCCCGTCGGAGGCACGTCGACCCAACCCATGGGCGGTTGACGGCCATTA\n",
      "GGATGCAACCCCAGGTCAGGTGAGACTACCCGCTA\n",
      ">Z78513.1 P.besseae 5.8S rRNA gene and ITS1 and ITS2 DNA\n",
      "CGTAACAAGGTTTCCGTAGGTGAACCTGCGGAAGGATCATTGTTGAGACCGCCAAATACA\n",
      "CGATCGAGTTAATCCGGAGGACCGGTGTACTTTGGTCTCCCAGGGGCTTCCGCCGCTGTG\n",
      "GTGACCATGATTTGCCATCGAGCCTCATTGGGAGATTTCTCCATGGCAATTGAACCCTTG\n",
      "GCCCGGCGCAGTTTCGCGCCAAGTCAAATGAGATAGAACCGGCAAGGGCATCGTCCTCCA\n",
      "TGGAGCCGGGGAGGCCGGCATGCTGCTGTGCCCGAAAGAATTTTCGACAACTCTCGGCAA\n",
      "CGGATATCTCGGCTCTTGCATCGATGAAGAACGCAGCGAAATGTGATAAGTGGTGTGAAT\n",
      "TGCAGAATCCCGTGAACCATCGAGTCTTTGAACGCAAGTTGCGCCCGAGGCCATCAGGCT\n",
      "AAGGGCACGCCTGCCTGGGCGTTGCGTGCTGCATCTCTCCCAATGCTAAGGTTGAACAGC\n",
      "CATACTGTTCGGCCGGCGAGGATGAGAGTTTGGCCCCTTGTTCTTCTGTGCGATGGGTCC\n",
      "AAGACTTGGGCTTGTGACGGTCCACAAATCCGGCAAGAGGTGGACGGACGGTGGCTGCGA\n",
      "CGAAGCTTTTGTGCGAATGCCCTATGTTGTCGTATTTGATGTGCCAGAACGATCCCTTTC\n",
      "GAACCCCTTCGGAGGCACGTCGACCCAACCCATGGGCGGTGACGCCATTAGGATGCAACC\n",
      "CAGTCAGTGAGCTACCGCTGAG\n",
      ">Z78512.1 P.wallisii 5.8S rRNA gene and ITS1 and ITS2 DNA\n",
      "CGTAACAAGGTTTCCGTAGGTGGACCTTCGGGAGGATCATTTTTGAAGCCCCCAAAAAAA\n",
      "CGATCGAATTAATCCGGAGGGCCGGTGTAGTTTGGTCTCCCAGGGGCCTTGGCTACTGTG\n",
      "GTGACCGTGAATTTCCGTCGAACCCTCTGGGAGGAATTCTTGATGGCAAATGAAACCCTT\n",
      "GGCCCGGCGCAGTTTCGCCCCAAATCAAATGAGATGGAACCGGCGGAGGGCATCGTCCCC\n",
      "CATGGAACCGGGGAGGGCCGGCGTTCTTCCGTTCCCCCAATGAAATTATTTTTTGACAAC\n",
      "TCTCGCAACGGATATCTCGGCTCTTGCATCGATGAAGAACGCAGCGAAATGTGATAAGCT\n",
      "GGTGTGAATTGCAGAATCCCGTGAACCATCGAGTCTTTGAACGCAAGTTGCGCCCGAGGC\n",
      "CATCAGGCTAAGGGCACGCCTGCCTGGGCGTTGCGTGCTGCATCTCTCTCCCATTGCTAA\n",
      "GGCTGAACAGGCATACTGTTCGGCCGGCGCGGATGAGTGTTTGGCCCCTTGTTCTTCGGT\n",
      "GCGATGGGTCCAAGACCTGGGCTTTTGACGGCCGGAAATCCGGCAAGAGGTGGACGGACG\n",
      "GTGGCTGCGACGAAGCTGTCGTGCGAATGCCCTGCGTTGTCGTATTTGATGGGCCGGAAT\n",
      "AAATCCCTTTTGAACCCCATTGGAGGCACGTCAACCCGTGGGCGGTCGACGGTCATTTGG\n",
      "ATCCAACCCCAGGTCAGGTGAGGCCACCCGCTGAGTTTAAGC\n",
      ">Z78511.1 P.exstaminodium 5.8S rRNA gene and ITS1 and ITS2 DNA\n",
      "CGTAACAAGGTTTCCGTAGGTGAACCTTCGGAAGGATCATTGTTGAGACCCCCAAAAAAA\n",
      "CGATCGAGTTAATCCGGAGGACCGGTGTAGTTTGGTCTCCCAGGGGCTTTGGCTACTGTG\n",
      "GTGGCCGTGAATTTCCGTCGAACCTCCTTGGGAGAATTCTTGATGGCAATTGAACCCTTG\n",
      "GCCCGGCGCAGTTTCGCCCCAAGTCAAATGAGATGGAACCGGCGGAGGGCATCGTCCTCC\n",
      "ATGGAACCGGGGAGGGCCGGCGTTCTTCCGTTCCCCCCATGAATTTTTTTTTGACAACTC\n",
      "TCGGCAACGGATATCTCGGCTCTTTGCATCCGATGAAAGAACCCAGCGAAATGTGATAAG\n",
      "TGGTGTGAATTGCAGAATCCCGTGAACCATCGAGTCTTTGAACGCAAGTTGCGCCCGAGG\n",
      "CCATCAGGCTAAGGGCACGCCTGCCTGGGCGTTGCGTGCTGCATCTCTCTCCCATTGCTA\n",
      "AGGCTGAACAGGCATACTGTTCGGCCGGCGCGGATGAGTGTTTGGCCCCTTGTTCTTCGG\n",
      "TGCGATGGGTCCAAGACCTGGGCTTTTGACGGCCGGAAATCCGGCAAGAGGTGGACGGAC\n",
      "GGTGGCTGCGACGAAGCTGTCGTGCGAATGCCCTACGCTGTCGTATTTGATGGGCCGGAA\n",
      "TAAATCCCTTTTGAGCCCCATTGGAGGCACGTCAACCCGTGGGCGGTCGACGGCCATTTG\n",
      "GATGCAACCCCAGGTCAGGTGAGGA\n",
      ">Z78510.1 P.caricinum 5.8S rRNA gene and ITS1 and ITS2 DNA\n",
      "CTAACCAGGGTTCCGAGGTGACCTTCGGGAGGATTCCTTTTTAAGCCCCCGAAAAAACGA\n",
      "TCGAATTAAACCGGAGGACCGGTTTAATTTGGTCTCCCCAGGGGCTTTCCCCCCTTGGTG\n",
      "GCCGTGAATTTCCATCGAACCCCCCTGGGAGAATTCTTGGTGGCCAATGGACCCTTGGCC\n",
      "CGGCGCAATTTCCCCCCCAATCAAATGAGATAGGACCGGCAGGGGGCGTCCCCCCCCATG\n",
      "GAACCGGGGAGGGCCGGCATTCTTCCGTTCCCCCCTCGGATTTTTTGACAACTCTCGCAA\n",
      "CGGATATCTCGCCTCTTTGCATCGGATGGAAGAACGCAGCGAAATGTGATAAGTGGTGTG\n",
      "AATTGCAGAATCCCGTGAACCATCGAGTCTTTGAACGCAAGTTGCGCCCGAGGCCATCAG\n",
      "GCTAAGGGCACGCCTGCCTGGGCGTTGCGTGCTGCATCTCTCCCATTGCTAAGGTTGAAC\n",
      "GGGCATACTGTTCGGCCGGCGCGGATGAGAGATTGGCCCCTTGTTCTTCGGTGCGATGGG\n",
      "TCCAAGACCTGGGCTTTTGACGGTCCAAAATCCGGCAAGAGGTGGACGGACGGTGGCTGC\n",
      "GACAAAGCTGTCGTGCGAATGCCCTGCGTTGTCGTTTTTGATGGGCCGGAATAAATCCCT\n",
      "TTTGAACCCCATTGGAGGCACGTCAACCCATGGGCGGTTGACGGCCATTTGGATGCAACC\n",
      "CCAGGTCAGGTGAGCCACCCGCTGAGTTTA\n",
      ">Z78509.1 P.pearcei 5.8S rRNA gene and ITS1 and ITS2 DNA\n",
      "CGTAACAAGGTTTCCGTAGGTGAACCTGCGGAAGGATCATTGTTGAGACCGCCAAATATA\n",
      "CGATCGAGTTAATCCGGAGGACCGGTGTAGTTTGGTCTCCCAGGGGCTTTCGCCGCTGTG\n",
      "GTGACCGTGATTTGCCATCGAGCCTCCTTGGGAGATTTCTTGATGGCAATTGAACCCTTG\n",
      "GCCCGGCGCAGTTTCGCGCCAAGTCATATGAGATAGAACCGGCGGAGGGCGTCGTCCTCC\n",
      "ATGGAGCGGGGAGGGCCGGCATGCTCCGTGCCCCCCCATGAATTTTTCTGACAACTCTCG\n",
      "GCAACGGACGTAACAAGGTTTAAATGTGATAAGCAGGTGTGAATTGCAGAATCCCGTGAA\n",
      "CCATCGAGTCTTTGAACGCAAGTTGCGCCCGAGGCCATCAGGTTAAGGGCACGCCTGCCT\n",
      "GGGCGTTGCGTGCTGCATCTCTCCCATTGCTAAGGTTGAACGGGCATACTGTTCGGCCGG\n",
      "CGCGGATGAGAGTTTGGCCCCTTGTTCTTCGGTGCGATGGGTCCAAGACCTGGGCTTTTG\n",
      "ACGGTCCAAAATCCGGCAAGAGGTGGACGGACGGTGGCTGCGACAGAGCTGTCGTGCGAA\n",
      "TGCCCTACGTTGTCGTTTTTGATGGGCCAGAATAAATCCCTTTTGAACCCCATTGGAGGC\n",
      "ACGTCAACCCAATGGGGGGTGACGGGCATTTGGTTAACCCCGGCAAGTTAAGGCACCCGT\n",
      "TAATTTTAGGA\n",
      ">Z78508.1 P.longifolium 5.8S rRNA gene and ITS1 and ITS2 DNA\n",
      "CGTAACAAGGTTTCCGTAGGTGAACCTGCGGAAGGATCATTGTTGAGACCGCCAAATATA\n",
      "CGATCGAGTTAATCCGGAGGACCGGTGTAGTTTGGTCTCCCAGGGGCTTTCGCCGCTGTG\n",
      "GTGACCGTGATTTGCCATCGAGCCTCCTTGGGAGATTTCTTGATGGCAATTGAACCCTTG\n",
      "GCCCGGCGCAGTTTCGCGCCAAGTCATATGAGATAGAACCGGCAGGGGGCGTCGTCCTCC\n",
      "ATGGAGCCGGGGAGGGCCGGCATGCTGCCGTGCCCCCAATGAATTTTTTGACAACTCTCG\n",
      "GCAACGGATATCTCGGCTCTTGCATCGATGAAGAACGCAGCGAAATGTGATAAGTGGTGT\n",
      "GAATTGCAGAATCCCGTGAACCATCGAGTCTTTGAACGCAAGTTGCGCCCGAGGCCATCA\n",
      "GGCTAAGGGCACGCCTGCCTGGGCGTTGCGTGCTGCATCTCTCCCATTGCTAAGGTTGAA\n",
      "CGGGCATACTGTTCGGCCGGCGCGGATGAGAGTTTGGCCCCTTGTTCTTCGGTGCGATGG\n",
      "GTCCAAGACCTGGGCTTTTGACGGTCCAAAATCCGGCAAGAGGTGGACGGACGGTGGCTG\n",
      "CGACAGAGCTGTCGTGCGAATGCCCTACGTTGTCGTATTTGATGGGCCGGAATAAATCCC\n",
      "TTTGAACCCCATTGGAGGCACGTCAACCCCATGGGCGGTGACGGCCACTTGGATGCAACC\n",
      "CAGTCAGTGAGCCACCGCTGA\n",
      ">Z78507.1 P.lindenii 5.8S rRNA gene and ITS1 and ITS2 DNA\n",
      "CGTAACAAGGTTTCCGTAGGTGAACCTGCGGAAGGATCATTGTTGAGACCCCCAAAAAAA\n",
      "CGATCGAGTTAATCCGGAGGACCGGTGTAGTTTGGTCTCCCAGGGGCTTTGGCTACTGTG\n",
      "GTGACCGTGAATTTCCGTCGAGCCTCCTTGGGAGATTTCTTGATGGCAATTGAACCCTTG\n",
      "GCCCGGCGCAGTTTCGCCCCAAGTCAAATGAGATGGAACCGGCGGAGGGCATCGTCCTCC\n",
      "ATGGAACCGGGGAGGGCCGGCGTGCTTCCGTCCCCCAATGAATTTTTTTGACAACTCTCG\n",
      "CAACGGATATCTCGCTCTTGCATCGATGAAGAACACAGCGAAATGTGATAAGTGGTGTGA\n",
      "ATTGCAGAATCCCGTGAACCATCGAGTCTTTGAACGCAAGTTGCGCCCGAGGCCATCAGG\n",
      "CTAAGGGCACGCCTGCCTGGGCGTTGCGTGCTGCATCTCTCTCCCATTGCTAAGGCTGAA\n",
      "CAGGCATACTGTTCGGCCGGCGCGGATGAGTGTTTGGCCCCTTGTTCTTCGGTGCGATGG\n",
      "GTCCAAGACCTGGGCTTTTGACGGCCGGAAATCCGGCAAGAGGTGGACGGACGGTGGCTG\n",
      "CGACGAAGCTGTCGTGCGAATGCCCTGCGTTGTCGTATTTGATGGGCCGGAATAAATCCC\n",
      "TTTGAACCCCATTGGAGGCACGTCAACCCGTGGCGGTCGACGGCCATTTGGATGCAACCC\n",
      "AGTCAGTGAGCCACCGCTGA\n",
      ">Z78506.1 P.lindleyanum 5.8S rRNA gene and ITS1 and ITS2 DNA\n",
      "CGTAACAAGGTTTCCGTAGGTGAACCTGCGGAAGGATCATTGTTGAGACCGCAAAATATA\n",
      "CGATCGAGTTAATCCGGAGGACTGGTGTAGTTTGGTCTCCCAGGGGCGTTGGCTACTGCG\n",
      "GTGACCATGATTTTCCATCGAGCCTCCTCGGGAGATTTCTTGATGGCAATTGAACCCTTG\n",
      "GCCCGGCGCAGTTTCGCGCCAAGTCGTATGAGATAGAACCGGCAGAGGGCTTCGTCCTCC\n",
      "ATGGAACCGGGGAGGACCGGCATGCCGCCGTACCCCCTTTGAATCGGGCTGACAACTCTC\n",
      "GTTCAAGGAGCCCTCAGCTCATAATGTGATAAGTGGTGTGAATTGCAGAATCCCGTGAAC\n",
      "CATCGAGTCTTTGAACGCAAGTTGCGCCCGAGGCCATCAGGCTAAGGGCACGCCTGCCTG\n",
      "GGCGTTGCGTGCTGCATCTCTCCCGTTGCTAAGGTCGAACAGGCATATACTGTTCGGCCG\n",
      "GCGCGGATGAGAGTTTGGCCCCTTGTTCTTCGGTGCGATGGGTCCAAGACCTGGGCTTTT\n",
      "GACGGTAAAAAATCCGGCAAGAGGTGGACGGACGGTGGCTGCGACAAAGCTGTCGTGCGA\n",
      "ATGCCCTACGTTGTCGTATTTGATGGGCCAGAATAAATCCCTTTTGAACCCCATTGGAGG\n",
      "CACGTCAACCCATGGGCGGTTTGACGGCCATTGGATGCCAACCCAGTCAGGTGAGGCCAC\n",
      "CCGCTGA\n",
      ">Z78505.1 P.sargentianum 5.8S rRNA gene and ITS1 and ITS2 DNA\n",
      "CGTAACAAGGTTTCCGTAGGTGAACCTGCGGAAGGATCATTGTTGAGACCGCCAAATATA\n",
      "CGATCGAGTTAATCCGGAGGACTGGTGTAGTTTGGTCTCCCAGGGGCGGTGGCTACTGCG\n",
      "GTGACCATGATATTCCATCGAGCCTCCTCGGGAGATTTCTTGATGGCAATTGAACCCGTG\n",
      "GCCCGGCGCAGTTTCGCGCCAAGTCGTATGAGATAGAACCGGCAGAGGTCTTCGTCCTCC\n",
      "ATGGAACCGGGGAGGCCCGGCATACCACCATACCCCCAATGAATCTTTGTGACAACTCTC\n",
      "GTCAATGTGATAAGTGGTGTGAATTGCAGAATCCCGTGAACCATCGAGTCTTTGAACGCA\n",
      "AGTTGCGCCCGAGGCCATCAGGCTAAGGGCACGCCTGCCTGGGCGTTGCGTGCTGCATCT\n",
      "CTCCCGTTGCTAAGGTCGAACAGGCATACTGTTCGGTCGGCGCGGATGAGAGTTTGGCCC\n",
      "CTTGTTCTTCGGTGCGATGGGTCCAAGACCTGGGCTTTTGACGGTAAAAAATCCGGCAAG\n",
      "AGGTGGACGGACGGTGGCTGCGACAAAGCTGTCGTGCGAATGCCCTGCGTTGTCGTATTT\n",
      "GATGGGCCGGAATAAATCCCTTTTGAACCCCATTGGAGGCACGTCAACCCATGGGCGGTT\n",
      "GACGGCCATTTGGATGCAACCCCAGGTCAGGTGAGCCACCCGCTGAGTTTT\n",
      ">Z78504.1 P.kaiteurum 5.8S rRNA gene and ITS1 and ITS2 DNA\n",
      "CGTAACAAGGTTTCCGTAGGTGAACCTTCGGAAGGATCATTGTTGAGACCGCAAAATATA\n",
      "CGATCGAGTTAATCCGGAGGACTGGTGTAGTTTGTCTCCCAGGGGCGTTGGCTACTGCGG\n",
      "TGACCATGATTTTCCATCGAGCCTCCTCGGGAGATTTCTTGATGGCAATTGAACCCTTGG\n",
      "CCCGGCGCAGTTTCGCGCCAAGTCGTATGAGATAGAACCGTCAGAGGGCATCGTCCCTCC\n",
      "ATGGAGCCGGGGAGGGCCGGCATGCCCGCCGTGCCCCCAATGAATCTTTTTGACAACTCT\n",
      "CGCAACGGATATCTCGCTCTTCATCGATGAAGAACGCAGCGAAATGTGATAAGTGGTGTG\n",
      "AATTGCAGAATCCCGTGAACCATCGAGTCTTTGAACGCAAGTTGCGCCCGAGCCATCAGG\n",
      "CTAAGGGCACGCCTGCCTGGGCGTTGCGTGCTGCATCTCTCCCGTTGCTAAGGTCGAACA\n",
      "GACATACTGTTCGGCCGGCGCGGATGAGAGTTTGGCCCCTTGTTCTTCGGTGCGATGGGT\n",
      "CCAAGACCTGGGCTTTTGACGGTACCAAATCCGACAAGAGGTGGACGGACGGTGGCTGCG\n",
      "ACAAAACTGTCGTGCGAATGCCCTACGTTGTCGTATTTGATGGGCCAGAATAAATCCCTT\n",
      "TTGAACCCCATTGGAGGCACGTCAACCCATGGGCGGTGACGGCCATTGGATGCAACCCCA\n",
      "GTCAGTGAGCCACCGCTGAGTAA\n",
      ">Z78503.1 P.czerwiakowianum 5.8S rRNA gene and ITS1 and ITS2 DNA\n",
      "CGTAACCAGGTTTCCGTAGGTGAACCTCCGGAAGGATCCTTGTTGAGACCGCCAAATATA\n",
      "CGATCGAGTTAATCCGGAGGACCGGTGTAGTTTGGTCTCCCAGGGGCTTTCGCCGCTGTG\n",
      "GTGTCCGTGATTTACCATCGAGCCTCCTTGGGAGATTTCTTGATGGCAATTGAACCCATG\n",
      "GCCCGGCGCAGTTTCGCGCCAAGTCATATGAGATAGAACCGGCAGGGGGCGTCGTCCTCC\n",
      "ATGGAACCGGGGAGGGCCGGCATGCTACCGTACCCCCAATGAATTATTTTGACAACTCTC\n",
      "GGCAACGGAGTCTCAGCTCTTTGTGATAAGTGGTGTGAATTGCAGAATCCCGTGAACCAT\n",
      "CGAGTCTTTGAACGCAAGTTGCGCCCGAGGCCATCAGGCTAAGGGCACGCCTGCCTGGGC\n",
      "GTTGCGTGCTGCATCTCTCCCATTGCTAAGGTTGAACGGGCATACTGTTCGGCCGGCGCG\n",
      "GACGAGAGTTTGGCCCCTTGTTCTTCGGTGCGATGGGTCCAAGACCTGGGCTTTTGACGG\n",
      "TCCAAAATCCGGCAAGAGGTGGACGGACGGTGGCTGCGACAAAGCTGTCGTGCGAATGCC\n",
      "CTACGTTGTCGTATTTGATGGGCCAGAATAAATCCCTTTTGAACCCCATTGGAGGCACGT\n",
      "CAACCCATGGGCGGTTGACGGCCATTTGGATGCAACCCCAGGTCAGGTGAGCCACCCGCT\n",
      "GAGATAA\n",
      ">Z78502.1 P.boissierianum 5.8S rRNA gene and ITS1 and ITS2 DNA\n",
      "CGTAACCAGGTTTCCGTAGGTGAACCTCCGGAAGGATCATTGTTGAGACCGCCAAATATA\n",
      "CGATCGAGTTAATCCGGAGGACCGGTGTAGTTTGGTCTCCCAGGGGCTTTCGCCCCTGTG\n",
      "GTGACCGTGATTTGCCATCGAGCCTCCTTGGGAGATTTCTTGATGGCAATTGAACCCATG\n",
      "ACCCGGCGCAGTTTCGCGCCAAGTCATATGAGATAGAACCGGCAGGGGTCGTCGTCCTCC\n",
      "ATGGAGCCGGGGAGGGCCGGCATACTACCGTCCCCCCAATGAATTTTATATTGACAACTC\n",
      "TCGGCCGGAATCTCGGCTCTTGCATCGATGGAAGGACGCAGCGAAAATGTGATAAGTGGT\n",
      "GTGAATTGCAGAATCCCGTGAACCATCGAGTCTTTGAACGCAAGTTGCGCCCGAGGCCAT\n",
      "CAGGCTAAGGGCACGCCTGCCTGGGCGTTGCGTGCTGCATCTCTCCCATTGCTAAGGTTG\n",
      "AACGGGCGTACTGTTCGGCCGGCGCGGACGAGAGTTTGGCCCCTTGTTCTTCGGTGCGAT\n",
      "GGGTCCAAGACCTGGGCTTTTGACGGTCCAAAATCCGGCAAGAGGTGGACGGACGGTGGC\n",
      "TGCGACAAAGCTGTCGTGCGAATGCCCTACGTTGTCGTATTTGATGGGCCAGAATAAATC\n",
      "CCTTTTGAACCCCATTGGAGGCACGTCAACCCATGGGCGGTTGACGGCCATTTGGATGCA\n",
      "ACCCCAGGTCAGGTGAGGCCACCCCGTGAGTTTACGC\n",
      ">Z78501.1 P.caudatum 5.8S rRNA gene and ITS1 and ITS2 DNA\n",
      "CGTAACAAGGTTTCCGTAGGTGAACCTGCGGAAGGATCATTGTTGAGACCGCAAAATATA\n",
      "CGATCGAGTTAATCCGGAGGACCGGTGTAGTTTGGTCTCCCAGGGGCTTTGGTTACTGTG\n",
      "GTGACCGTGACTTTGCCGTCGAGCCTCCTTGGGAGATTTCTTGATGGAAATTGAACCCTT\n",
      "GGCCCGGCGCAGTTTCGCGCCAAGTCATATGAGATGGAACCGGCGGAGGGAATCGTCCTC\n",
      "CATGGAGCCGGGGAGGGCCGGCGTGTTGCCGTGCCCCCAATGAATTTTTTTTTGGGCAAC\n",
      "TCTCGGCCAAACGGGAAATCTCGGCTCCTTGCATCGGATGGAAGGACGCAGCGAAATTGT\n",
      "GATAAGTGTTGTGAATTGCAGAATCCCGTGAACCATCGAGTCTTTTGAACGCAAGTTGCG\n",
      "CCCGAGGCCATCAGGCTAAGGGCACGCCTGCCTGGGCGTTGCGTGCTGCATCTCTCTCCC\n",
      "ATTGCTAAGGCTGAACAGGCATACTGTTCGGCCGGCGCGGATGAGTGTTTGGCCCCTTGT\n",
      "TCTTCGGTGCGATGGGTCCAAGACCTGGGCTTTTGACGGCCGGAAATCCGGCAAGAGGTG\n",
      "GACGGACGGTGGCTGCGACGAAGCTGTCGAGCGAATGCCCTACGCTGTCGTATTTGATGG\n",
      "GCCGGAATAAATCCCTTTTGAACCCCATTGGAGGCACGTCAACCCGTGGGCGGTCGACGG\n",
      "CCATTTGGATGCAACCCCAGGTCAGGTGAGGCCACCCGCTGAGTTTAAGA\n",
      ">Z78500.1 P.warszewiczianum 5.8S rRNA gene and ITS1 and ITS2 DNA\n",
      "CGTAACAAGGTTTCCGTAGGTGAACCTGCGGAAGGCTCATTGTTGAGACCGCAAAATAAT\n",
      "TGATCGAGTTAATCCGGAGGACCGGTGTAGTTTGGTCTCCCAGGGGCTTTGGTTACTGTG\n",
      "GTGACCGTGACTTTGCCGTCGAGCCTCCTTGGGAGATTTCTTGATGGCAATTGAACCCTT\n",
      "GGCCCGGCGCAGTTTCGCGCCAAGTCATATGAGATGGAACCGGCGGAGGGCATCGCCCTC\n",
      "CATGGAGCCGGGGAGGGCCGGCGTCCTGCCGTGCCCCCAATGAATTTTTCTTTGGGAAAA\n",
      "CTTCTCGGCCAACGGGAATCTCGGCTCTTTGCATCGGATGGAAGGACGCAGCGAATTGTG\n",
      "ATAAGTGGTGTGAATTGCAGAATCCCGTGAACCATCGAGTCTTTGAACGCAAGTTGCGCC\n",
      "CGAGGCCATCAGGCTAAGGGCACGCCTGCCTGGGCGTTGCGTGCTGCATCTCTCTCCCAT\n",
      "TGCTAAGGCTGAACAGGCATACTGTTCGGCCGGCGCGGATGAGTGTTTGGCCCCTTGTTC\n",
      "TTCGGTGCGATGGGTCCAAGACCTGGGCTTTTGACGGCCGGAAATCCGGCAAGAGGTGGA\n",
      "CGGACGGTGGCTGCGACGAAGCTGTCGTGCGAATGCCCTACGCTGTCGTATTTGATGGGC\n",
      "CGGAATAAATCCCTTTTGAACCCCATTGGAGGCACGTCAACCCGTGGGCGGTCGACGGCC\n",
      "ATTTGGATGCAACCCCAGGTCAGGTGAGGCCACCCGCTGAGTTTAAG\n",
      ">Z78499.1 P.micranthum 5.8S rRNA gene and ITS1 and ITS2 DNA\n",
      "CGTAACAAGGTTTCCGTAGGTGAACCTGCGGAGGGATCATTGTTGAGATCGCATAATAAT\n",
      "TGATCGAGATAATCCAGAGGATCGGTTTACTTTGGTCACCCTTGGGCGCCTGCTATTGCG\n",
      "GTGACCTAGATTTTCCATGGAGGGAGCCTCCTTGGGAGCTTTCTTGCCGGCGATCTAACC\n",
      "CTTGCCCGTCGCAGTTTTGCACCAAGTCATATGACACATAAATGGTGAAGGACATACCCC\n",
      "CTTCGTTGAATTCGAGGAGGGGACGGCATGTGGCCTTGACCTCTCCCAATTATTTTTTTG\n",
      "ACAACTCTCAGCCAACGGATATCTCGGCTCTTTGCATCGGATGGAGGACGCAGCGAAATG\n",
      "CGATAAGTGTGTGAATTGCAAGATCCCGTGAACCATCGAGTCTTTGAACGCAAGTTGCGC\n",
      "CCAAGCCATCAGGCCAAGGGCACGCCTGCCTGGGCATTGCGAGTCATATCTCTCCCTTAA\n",
      "TGAGGCTGTCCATGCATACTGTTCAGCCGGTGCGGATGTGAGTTTGCCCCCTTGTTCTTT\n",
      "GGTGCTGGGGGTCTAAGAGCTGCAGGGGCTTTTGATGGTCCTAAATTCGGCAAGAGGTGG\n",
      "ACGAATCATGCTACAACAAAACTGTTGGGCGAATGCTCCAGGTTGTCGTATTAGATGGGC\n",
      "CATCATAATCTAGAGACCCTTGTGAACCCCATTGGAGGCCCATCAACCCATGATCAGTTG\n",
      "ATGGCCTTTTGGATGCGACCCCAGGTCAGGTGAGCAACC\n",
      ">Z78498.1 P.malipoense 5.8S rRNA gene and ITS1 and ITS2 DNA\n",
      "CGTAACAAGGTTTCCGTAGGTGAACCTGCGGAAAGGTCATTGTTGAGATCACATAATAAT\n",
      "TGATCGAGTTACTCCAGAGGATCAGTTTACTCCGGTCACCCATGGGTGCTTGCTATTGCG\n",
      "GTGACCTAGATTTGCCATGGAGCCTCCTTGGGAGTTTTCTTGCCGGCGATCTTACCCTTG\n",
      "CCCGGGGCAGTTTTGCCCCAAGTCATATGACACAATAATGGCGAAGGAGGGGGCGGCATT\n",
      "TTGCCCTTGACCCTACAATCACTCCCCCTCTCCAAATTATTTTTGGACAACTCTCAGCAA\n",
      "CGGATATCTCGGCTCTTGCATCGATGAAGAACCCAGCGAAATGCGATAAGTGGTGTGAAT\n",
      "TGCAGGATCCCGTGAACCATCGAGTCTTTGAACGCAAGTTGCGCCCAAGGCCATCAGGCC\n",
      "AAGGGCACGCCTGCCTGGGCATTGCGAGTCATATCTCTCCCTTAATGAGGCTGTACATGC\n",
      "ATACTGTTCAGCCGGTGCGGATGTGAGTTTGGCCCCTTGTTCTTCGGTGCTGGGGGTCTA\n",
      "AGAGCTGCAGGGGCTTTTGATGGTCCTAAATTCGGCAAGAGGTGGACGAATTACAACAAA\n",
      "ACTGTTGTGCGAATGCTCCAGGTTGTCGTATTAGATGGGCCAGCATAATCTAAAGACCCT\n",
      "TGTGAACCCCACTGGAGGCACATCAACCCGTGATCAGTTGATGGCCATTTGTTGCGACCC\n",
      "CAGTCAGTGAGCAACCCGCTGAGTTTAAGC\n",
      ">Z78497.1 P.delenatii 5.8S rRNA gene and ITS1 and ITS2 DNA\n",
      "CGTAACAAGGTTTCCGTAGGTGAACCTGCGGAAGGATCATTGTTGAGATCACATAATAAT\n",
      "TGATCGAGTGAATCCAGAGGATCAGTTTACTTTGGTCGCCCATGGGCGCTTGCTATTGCG\n",
      "GTGACCTAGATTTGCCATGGAGCCTCCTTGGGAGCTTTCTTGCCGGCGATCTAACCCTTG\n",
      "CCCGGCGCAGTTTTGCGCCAAGTCACATGACACATAAATGGTGAAGGGCACGGCCCTTTG\n",
      "TGAATTCAAGGAGGTGAAGGGCATGTGGCCTTGAGCCTACACTCCCTCCCCCTCTCCAAA\n",
      "TTATTTTTTGTGAAACAACTCTCAGCAACGGAGATCTCAGCTCTTGCATCGATGAAGGAA\n",
      "CGCAGCGAAATGCGATAAGTGGTGTGAATTGCAGAATCCCGTGAACCATCGAGTCTTTGA\n",
      "ACGCAAGTTGCGCCCAAGGCCATCAGGCCAAGGGCACGCCTGCCTGGGCATTGCGAGTCA\n",
      "TATCTCTCCCTTAACGAGGCTGTCCAGGCATACTGTTCAGCCGGTGCGGGTGTGAGTTTG\n",
      "GCCCCTTGTTCTTTGGTGCTGGGGGTCTAAGAGCTGCAGGGGCTTTTGATGGTCCTAAAT\n",
      "TCGGCAAGAGGTGGACGCAACGCGCTACAACAAAACTGTTGTGCGAATGCCCCGGGTTGT\n",
      "CGTATTAGATGGGCCAGCATAATCTAAACACCCTTGTGAACCCCATTGGAGGCCCATCAA\n",
      "CCCATGATCAGTTGATGGCCATTTGGTTGCGACCCCAGGTCAGGTGAGGCAACCCGCTGA\n",
      "GTTTAAGC\n",
      ">Z78496.1 P.armeniacum 5.8S rRNA gene and ITS1 and ITS2 DNA\n",
      "CGTAACAAGGTTTCCGTAGGTGAACCTGCGGAAGGATCATTGTTGAGATCGCATAATAAT\n",
      "TGATCGAGTTAATCCAGAGGATCGGTTTACTTTGGTCACCCTTGGGCGCCTGCTATTGCG\n",
      "GTGACCTAGATTTGCCATGGAGGGAGCCTCCTTGGGAGCTTTCTTGCCGGCGATCTAACC\n",
      "CTTGCCCGGCGCAGTTTTGCGCCAAGTCATATGACACATAATTGGTGAAGGGCATATCCC\n",
      "TTCGTGAATTCGAGGAGGGGCCGGCATGTGGCCTTGACCTCTCCAATTAATTTTTTGAAC\n",
      "AACTCTCAGCAACGGATATCTCGGCTCTTGCATCGATGGAGGGACGCACCGAAATGCGAT\n",
      "AAGTGGTGTGAATTGCAGAATCCCGTGAACCATCGAGTCTTTTGAACGCAAGTTGCGCCC\n",
      "AAGGCCATCAGGCCAAGGGCACGCCTGCCTGGGCATTGCGAGTCATATCTCTCCCTTAAT\n",
      "GAGGCTGTCCATGCATACTGTTCAGCCGGTGCGGATGTGAGTTTGGCCCCTTGTTCTTTG\n",
      "GTGCTGGGGGTCTAAGAGCTGCAGGGGCTTTTGATGGTCCTAAATTCGGCAAGAGGTGGA\n",
      "CGAATCATGCTACAACAAAACTGTTGGGCGAATGCTCCAGGTTGTCGTATTAGATGGGCC\n",
      "ATCATAATCTAGAGACCCTTGTGAACCCCATTGGAGGCCCATCAACCCATGATCAGTTGA\n",
      "TGGCCTTTTGGGTTGCGACCCCAGGTCAGGTGAGGCAACCAGCTGAGTTTAAGC\n",
      ">Z78495.1 P.emersonii 5.8S rRNA gene and ITS1 and ITS2 DNA\n",
      "CGTAACAAGGTTTCCGTAGGTGAACCTCCGGAAGGATCATTGTTGAGATCACATAATAAT\n",
      "TGATCGAGATAATCCAGAGGATCGGTTTACTTTGGTCACCCATGGGCGCTTGCTATTGCG\n",
      "GTGACCTAGAGTTGCCATGGAGAGCCTCCTTGGGAGCTTTCTTGCCGGCGATCTAACCCT\n",
      "TGTCCGGCGCGGTTTTGCGCCAAGTCATATGACACATAATTGGTGAAGGGCATAGCCCTT\n",
      "CGTGTATTCAAGGAGGGGGGGCGGCATGTGGCCTTGACACTGCACTCGCTCTCCCCCTCT\n",
      "CCAAAGTATTTTTCTGAACAACTCTCAGCAACGGATATCTCAGCTCTTGCATCGGATGGA\n",
      "GGAACGCAGCGAAATCCGATAAGTGGTGTGAATTGCAGAATCCCGTGAACCATCGAGTCT\n",
      "TTTGAACGCAAGTTGCGCCCGAGGCCATGAGGCCAAGGGCACGCCTGCCTGGGCATTGCG\n",
      "AGTCATCTCTCTCCCTCAATGAGGCTGTCCATGCATACTGTTCAGCCGGTGCGGATGTGA\n",
      "GTTTGGCCCCTTGTTCTTTGGTGCTGGGGGTCTAAGAGCAGCAGGGGCTTTTGATGGTCC\n",
      "TAAATTCGGCAAGAGGTGGACGAATCAGGCTACAACAACACTGTTGTTGTGCGAATGCTC\n",
      "CAGGTTGTCGTATTAGATGGGCCGGCATAATCCAGAGACCCTTGTGAACCCCATTGGAGG\n",
      "CCCATCAACCCATGATCAGTTGATGGCCATTCGGTTGCGACCCCAGGTCAGTGAGCAACC\n",
      "CGCTGAGTG\n",
      ">Z78494.1 P.niveum 5.8S rRNA gene and ITS1 and ITS2 DNA\n",
      "CGTAACAAGGTTTCCGTAGGTGAACCTGCGGAAGGATCATTGTTGAGGTCGCATAATAAT\n",
      "TGATCGAGTTAATCTGGAGGATCAGTTTACTTTGGTCACCCATGGACATTTACTGTTGCA\n",
      "GTGACCTAGATTTACCATCGGGCCTCCTTGGGAACTTTCCTGCTGGCGATCTATACCCTT\n",
      "GCCCGGCGCAGTAATGCGCCAAATCAAATGACCCATAATTAATGAAGGGGGACGGCATAC\n",
      "TGCCTTGACCAACTCCCCATTATTGAGGTAACACTCTCAACTTCGGATATCTCAGGTGTG\n",
      "AATTGCAGAATCCCGTTAACATCGAGTCTTTGAACGCAAGTTGGGCCCGAGGCCAACAGG\n",
      "CCAAGGGAACGCCTGTCTGGGCATTGCGAGTCATATCTCTCCCTTAATGAGGCTGTCCAT\n",
      "ACGTACTGTTCAGCCGGTGCGGATGTGAGTTTGGCCCCTTGTTCTTCGGTACGGGGGGTC\n",
      "TAAGAGCTGCATGGGCTTTTGATGGTCCTAAATACGGCAAGAGGTGGACGAACTATGCTA\n",
      "CAACAAAACTGTTGTGCGAATGCCCCGGGTTGTTGTGTTTAATCAGAAGACCCTTTTGAA\n",
      "CCCCATTGGAGGCCCATCGACCCATGATCAGTTGAATGGCCATTTGGTTGCGATCCCAGG\n",
      "TCAGGTGAGGCAACCCGCTGAGTTTAAG\n",
      ">Z78493.1 P.godefroyae 5.8S rRNA gene and ITS1 and ITS2 DNA\n",
      "CGTAACAAGGATTCCGTAGGTGAACCTGCGGAAGGATCATTGTTGAGATCGCATAATAAT\n",
      "TGATCGAGTTAATCTGGAGGATCGGTTTACTTTGGTCACCCATGGGCATTTTCTGTTGCA\n",
      "GTGACCTAGAATTTCCATCGGGCCTCCCTGGGAGCTTTCCTGCTGGCGATCTATACCCTT\n",
      "GCCCGGCGCAGTTTTGCGCCAAGTCAAATTTTACATAAGTGGTGAAGGGGGGCGGCATTC\n",
      "TTCCTTGACCAGCCCCCAAGTATTTAGGTAACAACTCTCAGCAACGGATATCTCGGCTCA\n",
      "TGCATCGATGAAGGAACGCAGCGAGATTCGATAAATGGTGTGCCTTGCAGAATCCCGTGA\n",
      "ACCATCGAATCTTTGAACGCAAGTTGCGCGCGAGGCCATCAGCCCAAGGGGACGCCTGCC\n",
      "TGGACATTGCGACTCATATCTCTCCCTTAATGAGGCTGTCCAAACGTACTGGTCATCCGG\n",
      "TGTGGATGTGAGTTTGGCCCCTTGTTCTTCGGTACGGGGGGTCTAAGAGCTGCATGGGCT\n",
      "TTTGATGGTCCTAAATACGGCAAGAGGTGGACGAACTATGCTACAACAAAACTGTTGTGC\n",
      "GAATGCCCCGGGTTGTTGTGTTTAATCAGAAGACCCTTTTGAACCCCATTGGAGGCCCAT\n",
      "CGACCCATGATCAGTTGAATGGCCATTTGGTTGCGATCCCAGGTCAGGTGAGGCAACCC\n",
      ">Z78492.1 P.bellatulum 5.8S rRNA gene and ITS1 and ITS2 DNA\n",
      "CGTAACAAGGTTTCCGTAGGTGAACCTGCGGAAGGATCATTGTTGAGATCGCATAATAAT\n",
      "TGATCGAGTTAATCTGGAGGATCAGTTTACTTTGGTCACCCACGGGCATTTGCTGTTGCA\n",
      "GTGACCTAGAATTTGCCATCGAGCCTCCTTGGGAGCTTTCTTGCTGGCGATCTATACCCT\n",
      "TGCCCGGCGCAGTTTTGCGCCAAGTCATATGTCACATAATTGGTGAAGGGGGGGAGCGTA\n",
      "CTGCCTTGACCCACTCCAAATTATTTTTTTAACAACTCTCAGCAACGGATATCTCGGCTC\n",
      "TTGCATCGATGTAGAACCCAGCGAAATGCGATACTGGTGTGATTTGCAGAATCCCGTGGA\n",
      "CCATCGAGTCTTTGAACGCAAGTTGCGCCCGAGGCCATCAGGCCAAGGGCACGCCTGCCT\n",
      "GGGCATTGCGAGTCAAATCTCTCCCTTAATGAGGCTGTCCATACATACTGTTCAGCCGGT\n",
      "GCGGATGTGAGTTTGGCCCCTTGTTCTTTGGGACGGGGGGTCTAAGAGCTGCACGGGCTT\n",
      "TTGATGGTCCTAAATACGGCAAGAGGTGGACGAATTATGCTACAACAAAACTGTTGTGCG\n",
      "AATGCCCCGGGTTGTTGTGTTACATGGGCCAGCTTAATCAGAAGACCCTTTTGGACCCCA\n",
      "TTGGAGGCCCATCAACCCATGATCAGTTGATTGGCCATTTGGTTGCGATCCCAGTCAGGT\n",
      "GAGGCACACCGCTGAGTTTAATA\n",
      ">Z78491.1 P.concolor 5.8S rRNA gene and ITS1 and ITS2 DNA\n",
      "CGTAACAAGGTTTCCGTAGGTGAACCTGCGGAAGGATCATTGTTGAGATCGCATAATAAT\n",
      "TGATCGAGTTAATCTGGAGGATCAGTTTACTTTGGTCACCCACGGGCATTTGCTGTTGCA\n",
      "GTGACCTAGATTTGCCATCGGGCCTCCTTAGGAGCTTTCTTGCTGGCGATCTATACCCTT\n",
      "GCCCGGCGCAGTTTTGCGCCAAGTCATATGACACATAATTGGTGTTGGGGGGAGGCGTGC\n",
      "TGCCTTGACCCGCTCCAAATTATATTTTTAACAACTCTCAGCAACGGATATCTCGGCTCT\n",
      "TGCATCGATGAAGAACCAGCGAAATGCGATAAATGGTGTGAATTGCAGAATCCCGTGAAC\n",
      "CATCGAGTCTTTGAACGCAAGTTGCGCCCGAGGCCATCAGGCCAAGGGCACGCCTGCCTG\n",
      "GGCATTGCGAGTCATATCTCTCCCTTAATGAGGCTGTCCATACATACTGTTCAGCCGGTG\n",
      "CGGATGTGAGTTTGGCCCCTTGTTCTTTGGTACGGGGGGTCTAAGAGCTGCATGGGCTTT\n",
      "TGATGGTCCTAAATACGGCAAGAGGTGGACGAACTATGCTACAACAAAATGTTGTGCGAA\n",
      "TGCCCCGGGTTGTTGTGTTACATGGACCAGCATAATCAGAAGACCCTTTGGACCCCATTA\n",
      "GAGGCCCATCAACCCATGATCAGTTGAATGGCCATTTGTTGCGATCCCAGTCAGGTGAGC\n",
      "AACCCGCTGAGATAAGC\n",
      ">Z78490.1 P.fairrieanum 5.8S rRNA gene and ITS1 and ITS2 DNA\n",
      "CGTAACAAGGTTTCCGTAGGTGAACCTGCGGAAGGATCATTGTTGAGATCACATAATAAT\n",
      "TGATCGAGTTAATCTGGAGGATCAGTTTACTTTGGTCACCCATGGGCATTTGCTGTTGCA\n",
      "GTGACCGAGATTTGCCATCGAGCCTCCTTGGGAGCTTTCTTGCTGGCGATCTGAACCCTA\n",
      "GTCCGGCGCAGTTTTGCGCCAAGTCATATGGCACATAATTGGTGAAGGGGGCGGCATGCT\n",
      "GCCTCGACCCTCCCCAAATTATTTTTTAACAACTCTCAGCAACGGATATCTCGGCTCTTG\n",
      "CATCGATGAAGAACGCAGCGAAATGCGATAAATGGTGTGAATTGCAGAATCCCGTGAACC\n",
      "ATCGAGTCTTTGAACGCAAGTTGCGCCCGAGGCCATCAGGCCAAGGGCACGCCTGCCTGG\n",
      "GCATTGCGAGTCATATCTCTCCCTTAATGAGGCTGTCCAAACATACTGTTCAGCCGGTGC\n",
      "GGATGTGAGTTTGGCCCCTTGTTCTTTGGTACGGGGGGTCTAAACGCTGCATGGGCTTTT\n",
      "GATGGTCCTAAATACGGCAAGAGGTGGACGACTGTTCTGCAACAAGTGTTGTGCGAATGC\n",
      "CCCGCGTTGTCGTATTAGATGGGCCAGCATAATTTGAAGACCCTTTTGAACCCCATTGGA\n",
      "GGCCCGTCAACCCATGATCAGTTGACGGCCATTTGGTTGCGACCCCAGTCAGGTGAGCAA\n",
      "CCAGCTGA\n",
      ">Z78489.1 P.druryi 5.8S rRNA gene and ITS1 and ITS2 DNA\n",
      "CGTAACAAGGTTTCCGTAGGTGAACCTGCGGAAGGATCATTGTTGAGATCACATAATAAT\n",
      "TGATCGAGTTAATCTGGAGGATCAGTTTACTTTGGTCACCCGAGGGCATTTGCTATTGCA\n",
      "GTGACCGAGATTTGCCATCGAGCCTCCTTGGGAGCTTTCTTGCTGGCGATCTAAACCCGA\n",
      "GCCCGGCGCAGTTTTGCGCCAAGTCATATGACACATAATTGGTGAAGGGGGCGGCATGCT\n",
      "GCCTTGACCCTCCCCAGATTATTTTTTAACAACTCTCAGCAACGGATATCTCGGCTCTTG\n",
      "CATCGATGAAGAACGCAGCGAAATGCGATAAATGGTGTGAATTGCAGAATCCCGTGAACC\n",
      "ATCGAGTCTTTGAACGCAAGTTGCGCCCGAGGCCATCAGGCCAAGGGCACGCCTGCCTGG\n",
      "GCATTGCGAGTCATATCTCTCCCTTAATGAGGCTGTCCATACATACTGTTCAGCCGGTGG\n",
      "GGATGTGGGTTTGGCCCCTTGTTCATTGGTACGGGGGGTCTAAGAGCTGCATGGGATTTT\n",
      "GATGGTCCTAAATACGGCAAGAGGTGGACGAACTATGCTACAACAAAACTGTTGTGCGAA\n",
      "TGCCCCGAGTTGTCGTATTAGATGGGCCCAGCATATCTGAAGACCCTTTTGAACCCCATG\n",
      "GAGGCCCATCAACCCATGATCAGTTGATGGCCATTTGGTTGCGACCCCAGGTCAGGTGAG\n",
      "GCAACCCGCTGAGTTTAGGC\n",
      ">Z78488.1 P.tigrinum 5.8S rRNA gene and ITS1 and ITS2 DNA\n",
      "CTGTAGGTGAACCTGCGGAAGGATCATTGTTGAGATCACGCAATAATTGATCGAGTTAAT\n",
      "CTGGAGGATCAGTTTACTTTGGTCACCCATGGGCATTTGTTATTGCAGTGACCGAGATTT\n",
      "GCCATCGAGCCTCCTTGGGAGCTTTCTTGCTGGCGATCTTAACCCTAGCCCGGCGCAGTT\n",
      "TTGCGCCAAGTCATACGACACATAATTGGTGAAGGGGGCGGCATGGTGCCTTGACCCTCC\n",
      "CCTAATTATTTTCTAACAACTCTCATCAACGGGATGGAGAACGCAGCGAAATGCGATAAA\n",
      "TGGTGTGAATTGCAGAATCCCGTGAACCATCGAGTCTTTGAACCCAAGTTGCGCCCGAGG\n",
      "CCATCAGGCCAAGGGCACGCCTGCCTGGGCATTGCGAGTCAAATCTCTCCCTTAATGAGG\n",
      "CTGTCCATACATACTGTTCAACCGGTGCGGATGTGAGTTTGCCCCCTTGTTCATTGGTAC\n",
      "GGGGGGTCTAAGAGCTGCATGGGCTTTTGATGGTCCTAAAAACGGCAAGAGGTGGACGAA\n",
      "CAACGCCACAACCAAACTGTTGTGCGGATCCCCCGGGTTGTCGTATTAGATGGGCCATCA\n",
      "TAATCTGAAGACCCTTTTGAACCCCATCGGAGGCCCATCAACCCATGATCAGTTGATGGA\n",
      "CATTTGTTGCGACCCCAGTCAGGTGAGCAACCGGCT\n",
      ">Z78487.1 P.hirsutissimum 5.8S rRNA gene and ITS1 and ITS2 DNA\n",
      "CGTAACAAGGTTTCCGTAGGTGAACCTGCGGAAGGATCATTGTTGAGATCACATAATAAT\n",
      "TGATCGAGTTACTCTGGAGGATCAGTTTACTTTGGTCACCCATGGGCATTTGCTATTGCA\n",
      "GTGACCGGGATTTGCCATCGAGCCTCCTTGGGAGCTTTCTTGCTGGCGATCTAAACCCTA\n",
      "GCCCGGCGCAGTTTTGCGCCAAGTCATATGACACATAATTGGTGAAGGGGGCGGCATGCT\n",
      "GCCTTTACCCTCCCCAAATTATTTTTTAACAACTCTCAGCAACGGATATCTCGGCTCTTG\n",
      "CATCGATGAAGAACGCAGCGAAATGCGATAAATGGTGTGAATTGCAGAATCCCGTGAACC\n",
      "ATCGAGTCTTTGAACGCAAGTTGCGCCCGAGGCCATCAGGCCAAGGGCACGCCTGCCTGG\n",
      "GCATTGCGAGTCATATCTCTCCCTTAATGAGGCTGTCCATACATATTGTTCAGCCGGTGC\n",
      "GGATGTGAGTTCGGCCCCTTGTTCTTCGGTACGGGGGGTCTAAGAGCAGCATGGGCTATC\n",
      "GATGGTCCTAAATGCGGCAAGAGGTGGACGAACTATGCTACAACAAAACTGTTGTGCGAA\n",
      "TGCCCCGGGTTGTCGTATTAGATGGGCCAGCGTAATCTAAAGACCCTTTTGAACCCCATT\n",
      "AGAGGCCCATCAACCCATGATCAGTTGGGGCCACTTGTTGCGACCCCAGTCAGGTGAGCA\n",
      "ACCGCTGAGTAA\n",
      ">Z78486.1 P.barbigerum 5.8S rRNA gene and ITS1 and ITS2 DNA\n",
      "CGTCACGAGGTTTCCGTAGGTGAATCTGCGGGAGGATCATTGTTGAGATCACATAATAAT\n",
      "TGATCGAGATTATCTGGAGGATCAGTTTACTTTGGTCACCCATGGACATTTGCTATTGCA\n",
      "GTGCCCGAGATTTGCCATCGAGCCTCCTTGGGAGCTTTCTTGCTGGCGATCTAAACCCTA\n",
      "GCCCGGCGCAGTTTTGCGCCAAGTCATATGACACATAATTGGTGAAGGGTGCGGCATGGT\n",
      "GCCTGACCCTCCCCAAATTATTTCTTAACAACTCTCAGCAACGGATATCTCGCTCTTGCA\n",
      "TCGATGAAGAACGCAGCGAAATGCGATAAATGGTGTGAATTGCAGAATCCCGTGAACCAT\n",
      "CGAGTCTTTGAACGCAAGTTGCGCCCGAGGCCATCAGGCCAAGGGCACGCCTGCCTGGGC\n",
      "ATTGCGAGTCATATCTCTCCCTTAATGAGGCTGTCCATACATACTGTTCAGCCGGTGCGG\n",
      "ATGTGAGTTTGGCCCCTTGTTCATTGGTACGGGGGGTCTAAGAGCTGCGTGGGCTTTTGA\n",
      "TGGTCCTAAATACGGCAAGAGGTGGACGAACTATGCTACAACAAAACTGTTGTGCGAATG\n",
      "CCCCGGGTTGTCGTATTAGATGGGCCAGCATAATCTAAAGACCCTTTTGAACCCCATTGG\n",
      "AGGCCCATCAACCCATGATCAGTTGATGGCCATTTGGTAGCGACCCCAGGTCAGGTGAGG\n",
      "CAACCCGCTGA\n",
      ">Z78485.1 P.henryanum 5.8S rRNA gene and ITS1 and ITS2 DNA\n",
      "CTGAACCTGGTGTCCGAAGGTGAATCTGCGGATGGATCATTGTTGAGATATCATAATAAT\n",
      "TGATCGAGTTAATCTGGAGGATCAGTTTACTTTGGTCACCATGGGCATTTGCTATTGCAG\n",
      "TGACCGAGATTTGCCATCGAGCCTCCTTGGGAGCTTTCTTGCTGGCGATCTAAACCCTAG\n",
      "CCCGGGGCAGTTTTGCGCCAAGTCATATGACACATAATTGGTGAAGGGTGCGGCATGGTG\n",
      "CCTTGACCCTCCCCAAATTATTTCTTAACAACTCTCAGCAACGGATATCTCGGCTCTTGC\n",
      "ATCGATGAAGAACGCAGCGAAATGCGATAAATGGTGTGAATTGCAGAATCCCCGTGAACA\n",
      "TCGAGTCTTTGAACGCAAGTTGCGCCCGAGGCCATCAGGCCAAGGGCACGCCTGCCTGGG\n",
      "CATTGCGAGTCATATCTCTCCCTTAATGAGGCTGTCCATACATACTGTGCAGCCGGTGCG\n",
      "GATGTGAGTTTGGGCCCTTGTTCATTGGTACGGGGGGTCTAAGAGCTGCGTGGGCTTTTG\n",
      "ATGGTCCTAAATACGCCAAGAGGTGGACGAACTATGCTACAACAAAACTGTTGTGCGAAT\n",
      "GCCCCGGGTTGTCGTATTAGACGGGCCAGCACAATCTAAAGACCCCTTTGAACCCCATTG\n",
      "GAGGCCCATCAACCCATGATCAGTTGATGGCCATGTGTTGCGACCCCAGTCAGCTGAGCA\n",
      "ACCCCTGATTTAGTA\n",
      ">Z78484.1 P.charlesworthii 5.8S rRNA gene and ITS1 and ITS2 DNA\n",
      "CGTAACAAGGTTTCCGTAGGTGAACCTGGGGAAGGATCATTGTTGAGATCACATAATAAT\n",
      "TGATCGAGTTAATCTGGAGGATCAGTTTACTTTGGTCACCCATGGGCATTTGGCTATTGC\n",
      "AGTGACCGAGAGTTTACCATCGAGCCTCCATGGGAGCTTTCTTGCTGGCGATCTAAACCC\n",
      "TAGCCCGGCGCAGTTTTGGCCCAAGTCATATGACACATAATTGTGAAGGGGCGGCATGTT\n",
      "TCCTACCCTCCCAACTCTCAGCAACGGATATCTCGCTCTTGCATCGATGAAGAACGCAGC\n",
      "GAAATGCGATAAATGGTGTGAATTGCAGAATCCCGTGAACCATCGAGTCTTGGAACGCAA\n",
      "GTTGCGCCCGAGGCCATCAGGCCAAGGGCACGCCTGCCTGGGCATTGCGAGTCATATCTC\n",
      "TCCCTTAATGAGGCTGTCCATACATACTGTTCAGCCGGTGCGGATGTGAGTTTGGCCCCT\n",
      "TGTTCATTGGTACGGGGGGTCTAAGAGCTGCGTGGGCTTTTGATGGTCCTAAATACGGCA\n",
      "AGAGGTGGACGAACTATGCTACAACAAAACTGTTGTGCGAATGCCCCGGGTTGTCGTATT\n",
      "AGATGGGCCAGCATAATCTAAAGACCCTTTGACACCCCATTGGAGGCCCATCAACCCATG\n",
      "ATCAGTTGATGGTCCATTGGGTTGCGACCCCAAGTCAGGTGAAGCAACTCCCTGAGTTTT\n",
      ">Z78483.1 P.villosum 5.8S rRNA gene and ITS1 and ITS2 DNA\n",
      "CGTAACAAGGTTTCCGTAGGTGAACCTGCGGAAGGATCATTGTTGAGATCACATAATAAT\n",
      "TGATCGAGTTAATCTGGAGGATCAGTTTACTTTGGTCACCCATGGGCATTTGCTATTGCA\n",
      "GTGACCGAGATTTGCCATCGAGCCTCCTTGGGAGCTTTCTTGCTGGCGATCTAAACCCTA\n",
      "GCCCGGCGCAGTTTTGCGCCAAGTCATATGACACATAATTGGTGAAGGGGGCGGCATGCT\n",
      "GCCTTGACCCTCCCCCAAATTATTTTTTAACAACTCTCAGCAACGGAAATCTGGCCTCTT\n",
      "GCATGGATGAAGACCAAACCGAAATCATAAATGGTGTGAATTGCAGAATCCCGTGAACAA\n",
      "TCGAGTCTTTGAACGCAAGTTGCGCCCGAGGCCATCAGGCCAAGGGCACGCCTGCCTGGG\n",
      "CATTGCGAGTCATATCTCTCCCTTAATGAGGCTGTCCACACATATCTGTTCAGCCGGTGC\n",
      "GGATGTGAGTTTGGCCCCTTGTTCATTGGTACGGGGGGTCTAAGAGCTGCATGGGCTTTT\n",
      "GTTGGTCCTAAATACGGCAAGAGGTGGACGAACTATGCTACAACAAAACTGTTGTGCGAA\n",
      "TGCCCCGGGTTGTCGTATTAGATGGGCCAGCATAATCTAAAGACCCTTTTGAACCCCATT\n",
      "GGAGGCCCATCAACCCATGATCAGTTGATGGCCATTTGGTTGCGACCCCAGGTCAAGTGA\n",
      "AGCAACCCCTGAGTTTAGCA\n",
      ">Z78482.1 P.exul 5.8S rRNA gene and ITS1 and ITS2 DNA\n",
      "TCTACTGCAGTGACCGAGATTTGCCATCGAGCCTCCTGGGAGCTTTCTTGCTGGCGATCT\n",
      "AAACCGTAGCCCGGCGCAGTTTTGCGCCAAGTCATATGACACATAATTGGTGAAGGGGGC\n",
      "GGCATGCTGCCTTGACCCTCCCCAAATTATTTTTTAACAACTCTCNGCAACGGATATCTC\n",
      "GCCTCTTCATCGATGAAGAACGCAGCGAAATGCGATAAATGGTGTGAATTGCAGAATCCC\n",
      "GTGAANCCATCGAGTCTTTGAACGCAAGTTGCGCCCGAGGCCATCAGGCCAAGGGCACGC\n",
      "CTGCCTGGGCATTGCGAGTCATATCTCTCCCTTAATGAGGCTGTCCATACATACTGTTCA\n",
      "GCCGGTGCGGATGTGCGTTTGGCCCCTTGTTCATTGGTACGGGGGGTCTAAGAGCTGCGT\n",
      "GGGCTTTTGATGGTCCTAAATACGGCAAGAGGTGGACGAACTATGCTACAACAAAACTGT\n",
      "TGTGCGAATGCCCCGGGTTGTCGTATTAGATGGGCCAGCATAATCTAAAGACCCTTTTGA\n",
      "ACCCCATTGGAGGCCCATCAACCCATGATCAGTTGATGGCCATTTGGTTGCGACCCCAGG\n",
      "TCAGGTGAGGCAACCCGCTGAGTTTAGCA\n",
      ">Z78481.1 P.insigne 5.8S rRNA gene and ITS1 and ITS2 DNA\n",
      "CGTAACAAGGTTTCCGTAGGTGAACCTGCGGAAGGATCATTGTTGAGATCACATAATAAT\n",
      "TGATCGAGTTAATCTGGAGGATCAGTTTACTTTGGTCACCCATGGGCATTTGCTATTGCA\n",
      "GTGACCGAGATTTGCCATCGAGCCTCCTTGGGAGCTTTCTTGCTGGCGATCTAAACCCTA\n",
      "GCCCGGCGCAGTTTTGCGCCAAGTCATATGACACATAATTGGCGAAGGGGGCGGCATGGT\n",
      "GCCTTGACCCTCCCCAAATCATTTTTTTAACAACTCTCAGCAACGGAAGGGCACGCCTGC\n",
      "CTGGGCATTGCGAGTCATATCTCTCCCTTAATGAGGCTGTCCACACATACTGTTCAGCCG\n",
      "GTGCGGATGTGAGTTTGGCCCCTTGTTCATTGGTACGGGGGGTCTAAGAGCTGCGTGGGC\n",
      "TTTTGTTGGTCCTAAATACGGCAAGAGGTGGACGAACTATGCTACAACAAAACTGTTGTG\n",
      "CGAATGCCCCGGGTTGTCGTATTAGATGGGCCAGCATAATCTAAAGACCCTTTTGAACCC\n",
      "CATTGGAGGCCCATCAACCCATGATCAGTTGA\n",
      ">Z78480.1 P.gratrixianum 5.8S rRNA gene and ITS1 and ITS2 DNA\n",
      "CGTAACAAGGTTTCCGTAGGTGAACCTGCGGAAGGATCATTGTTGAGATCACATAATAAT\n",
      "TGATCGAGTTAATCTGGAGGATCAGTTTACTTTGGTCACCCATGGGCATTTGCTATTGCA\n",
      "GTGACCGAGATTTGCCATCGAGCCTCCTTGGGAGCTTTCTTGCTGGCGATCTAAACCCTA\n",
      "GCCCGGCGCAGTTTTGCGCCAAGTCATATGACACATAATTGGCGAAGGGGGCGGCATGCT\n",
      "GCCTTGACCCTCCCCAAATTATTTTTTAACAACTCTCAGCAACGGATAGGCCATCAGGCT\n",
      "AAGGGCACGCCTGCCTGGGCATTGCGAGTCATATCTCTCCCTTCAATGAGGCTGTCCACA\n",
      "CATACTGTTCAGCCGGTGCGGATGTGAGTTTGGCCCCTTGTTCATTGGTACGGGGGGTCT\n",
      "AAGAGCTGCGTGGGCTTTTGTTGGTACCTAAATACGGCAAGAGGTGGACGAACTATGCTA\n",
      "CAACAAAAATGTTGTGCGAATGCCCCGGGTTGTCGTATAGATGGGCCAGCATAATCTAAA\n",
      "GACCCTTTTGAACCCCATTGGAGGCCCATCAACCCATGATCAGTTGA\n",
      ">Z78479.1 P.primulinum 5.8S rRNA gene and ITS1 and ITS2 DNA\n",
      "CGTAACAAGGTTTCCGTAGGTGAACCTGCGGAAGGATCATTGTTGAGATCACATAATAAT\n",
      "TGATCGAGTTAATCAGGAGGATCAGGTTACTTTGGTCACCCATGGGCATTTGCTGTTTCA\n",
      "GTGACCTAGATTTGCCATCGAGCCGAACTAAACCCTTGCCCGGCGCAGATTTGCGCCAAT\n",
      "TTATATGAGACATTACTGGAAGGGGAGGGATGCTGCCTTGCCTTGCCCCCCAAATTATTT\n",
      "TTTAACAACTCTCAGCAACGGATATCTCGCCTCTTGCATCGATGAAGAACGCAGCGAAAT\n",
      "GCGATAAATGGTGTGAATACAGAGATCCCGTGAACCATCGAGTCTTGAACGCAAGTTGCG\n",
      "CCCGAGGCCATCAGGCCAAGGGCACGCCTGCCTGGGCATTGCGAGACATATCTCTCCCTT\n",
      "AATGAGGCTGTCGTTCAGCCGGTGCGGATGTGAGTTTGGCCCCTTGTTCTTTGGTACGGG\n",
      "GGGTCTAAGAGCTGCATGGGCTTTTGATGGTCCTAAATACGGCAAGAGGTGGACGAACTA\n",
      "TGCGACAACAGAACTGTTGTGCGAATGCCCCGGGTTGTCGTATTAGATGGGCCAGCATAA\n",
      "TCTAAAGACCCTTTTGAACCCCATTGGAGGCCCATCAACCCAAGATCAGTTGACGGCCAT\n",
      "TTGGATGCGACCCCAGGTCAGGTGAGGCAACCCTCTGAGT\n",
      ">Z78478.1 P.victoria 5.8S rRNA gene and ITS1 and ITS2 DNA\n",
      "CGTAACAAGGTTTCCGTAGGTGAACCTCCGGAAGGATCAGTGTTGAGATCACATAATAAT\n",
      "TGATCGAGTTAATCTGGGGGATCAGTTTACTTTGGTCACCCATGGGCATTTGCTGTTGCA\n",
      "GTGGCCTAGAGTTTGCCATCGAGCCGATCTAAACCCTTGCCCGGCGCAGTTTTGCGCCAA\n",
      "GTCATATGACACATAACTGGAAGGGGCGGCATGCTGCCATGGCTCCCCCAAATATTGATA\n",
      "ATGGCGTGATAGCAGATCCCTGAACATCGAGTTTTGAACGCATGTTGCGTCCGAGGCCAT\n",
      "CAGGTCAAGGGGACGCCTGCCTGGAAATTGTGAGACATATCTCTCCCTTAATGAGGCTGC\n",
      "CATACATACTGTTCAGCCGGTGCGGATGTGAGTTTGGCCCCTTGTCCTTTGGTACGGGGG\n",
      "TCTAAGAGCTGTATGGGTTGGATGGTCCTAAATACGGCAAGAGGTGGACGAGCTATGTGA\n",
      "CAACAGAACTGTTGTGCGAATGCCCCGGTTGTCGTTTAGATGGGTCAGCATAATCTAAAG\n",
      "ACCCTTTTGACCCCCATTGGAGGCCCATCAACCCATTATCAGTTGAGGACATTTGGTTGC\n",
      "GACCCAGGTCAGATGAGGCACCCGCTGAGTTTAGGC\n",
      ">Z78477.1 P.victoria 5.8S rRNA gene and ITS1 and ITS2 DNA\n",
      "CGTAACAAGGTTTCCGTAGGTGAACCTGCGGAAGGATCATTGTTGAGATCACATGATAAT\n",
      "TGATCGAGTTAATCTGGAGGATCAGTTTGCTTTGGTCACCCATGGGCATTTGCTGTTGCA\n",
      "GTGACCTAGATTTGCCATCGAGCCGATCTAAACCCTTGCCCGGCGCAGTTTTGCGCCAAG\n",
      "TCATATGACACATAATTGGAAGGGGCGGCATGCTGCCTTGCCCTCCCCAAATATTTGTTA\n",
      "ACCAACTCTCAGCAACGAGTATCTCGGCTCTTGCATCGGATGGAAGGACGCAGCGAAATG\n",
      "CGATAAATGGTGTGAATTGCAAGAATCCCTGAACCATCGAGTCTTTGGAACGCAAGTTGC\n",
      "GGCCGAGGCCATCAGGCCAAGGGCACGCCTGCCTGGGCATTGCGAGACATATCTCTCCCT\n",
      "TAATGAGGCTGTCCACACATACTGTTCAGCCGGTGCGGATGTGAGTTTGGCCCCTTGTTC\n",
      "TTTGGTACGGGGGGTCTAAGAGCTGCATGGGCTTTTGATGGTCCTAAATACGGCAAGAGG\n",
      "TGGACGAACTATGCGACAACAGAACTGTTGTGCGAATGCCCCGGGTTGTCGTATTAGATG\n",
      "GGCCAGCATAATCTAAAGACCCTTTTGAACCCCATTGGAGGCCCATCAACCCATGATCAG\n",
      "TTGACGGCCATTTGGTTGCGACCCCAGGTCAGGTGAGGCAACCGCTGAGTTTATGC\n",
      ">Z78476.1 P.glaucophyllum 5.8S rRNA gene and ITS1 and ITS2 DNA\n",
      "CGTAACAAGGTTTCCGTAGGTGAACCTGCGGAAGGATCATTGTTGAGATCACATGATAAT\n",
      "TGATCGAGTTAATCTGGAGGATCAGTTTACTTTGGTCACCCATGGGCATTTGCTGTTGTA\n",
      "GTGACCTAGATTTGCCATCGAGCCGATCTAAACCCTTGCCCGGCGCAGTTTTGCGCCAAG\n",
      "TCATATGACACATAATTGGAAGGGCGGCATGCTGCCTTGGCCCTCCCCAAATTATTTTTT\n",
      "TAACAACTCTCAGCAACGGATATCTCGGCTCTTAGGCCATCCGGCCAAGGGCACGCCTGC\n",
      "CTGGGCATTGCGAGACATATCTCTCCCTTAATGAGGCTGTCCATACATACAGTTCAGCCG\n",
      "GTGCGGATGTGAGTTTGGCCCCTTGTTCTTTGGTACGGGGGGTCTAAGAGCTGCATGGGC\n",
      "TTTTGATCCACCTAAATACGGCAAGAGGTGGACGAACTATGCGACAACAGAACTGTTGCG\n",
      "CGAATGCCCCGGGTTGTCGTATTAGATGGGCCAGCATAATCTAAAGACCCTTTTGAATCC\n",
      "CATTGGAGGCCCATCAACCCATGATCAGTTGACGGCCATTTGGTTGCGACCC\n",
      ">Z78475.1 P.supardii 5.8S rRNA gene and ITS1 and ITS2 DNA\n",
      "CGTAACAAGGTTTCCGTAGGTGAACCTGCGGAAGGATCATTGTTGAGATCACATAATAAT\n",
      "TGATCGAGTTAATCTGGAGGATCAGTTTACTTTGGTCACCCATGGGCATCTGCTCTTGCA\n",
      "GTGACCTGGATTTGCCATCGAGCCTCCTTGGGAGCTTTCTTGCTGGCGATCTAAACCCGT\n",
      "CCCGGCGCAGTTTTGCGCCAAGTCATATGACACATAATTGGAAGGGGGTGGCATGCTGCC\n",
      "TTGACCCTCCCCAAATTATTTTTTTGACAACTCTCAGCAACGGATATCTCGGCTCTTNNN\n",
      "NNNNNNNNNNNNNNNNNNNNNNNNNNNNNNNNNNNNNNNNNNNNNNNNNNNNNNNNNNNN\n",
      "NNNNNNNNNNNNNNNNNNNNNNNNNNNNNNNNNATCAGGCCAAGGGCACGCCTGCCTGGG\n",
      "CATTGCGAGTCATATCTCTCCCTTAATGAGGCTGTCCATACATACTGTTCAGCCAATGCG\n",
      "GATGTGAGTTTGGCCCCTTGTTCTTTGGTACGGGGGGTCTAAGAGCTGCATGGGCTTTTG\n",
      "ATGGTCCAAAATACGGCAAGAGGTGGACGAACTATGCTACAACAAAATTGTTGTGCGAAT\n",
      "GCCCCGGGTTGTCGTATTAGATGGGCCAGCATAATCTAAAGACCCTTTTGAACCCCATTG\n",
      "GAGGCCCATCAACCCATGATCAGTTGACGGCCATTTGGTTGCGACCCAGGTCAGGT\n",
      ">Z78474.1 P.kolopakingii 5.8S rRNA gene and ITS1 and ITS2 DNA\n",
      "CGTAACAAGGTTTCCGTAGGTGAACCTGCGGAAGGATCATTGTTGAGATCACGTAATAAT\n",
      "TGATCGAGTTAATCTGGAGGATCAGTTTACTTTGGTCACCCATGGGCATCTGCTCTTTCA\n",
      "GTGACCTGGATTTGCCATCGAGCCTCCTTGGGAGCTTTCTTGCTGGCGATCTAAACCCTT\n",
      "GCCCGGCGCAGTTTTGCGCCCAATCATATGACACATAATTGGAAGGGCGGCATCCTGCCT\n",
      "TGACCCTCCCCAAATTATATTTTTGACAACTCTCAGCAACGGATATCTCGCCTCTTGCAT\n",
      "CGATGAAGACACAGCGAAATGCGATAAATGGTGTGAATTGCAGAATCCCGTGAACCATCG\n",
      "AGTCTTTGAACGCAAGTTGCGCCCGAGGCCATCAGGCCAAGGGCACGCCTGCCTGGGCAT\n",
      "TGCGAGTCATATCTCTCCCTTAATGAGGCTGTCCATACATACTGTTCAGCCGGTGCGGAT\n",
      "GTGAGTTTGGCCCCTTGTTCTTTGGTACGGGGGGTCTAAGAGCTGCATGGGCTTTTGATG\n",
      "GTCCAAAATACGGCAAGAGGTGGACGAACTATGCTACAACAAAATTGTTGTGCGAATGCC\n",
      "CCGGGTTGTCGTATTAGATGGGCCAGCATAATCTACAGACCCTTCTGAACCCCATTGGAG\n",
      "GCCCATCAACCCATGATCAGTTGACGGCCATTTGGTTGCGACCCCAGGTCAGGTGAAGCA\n",
      "ACCCGTTGAGCTT\n",
      ">Z78473.1 P.sanderianum 5.8S rRNA gene and ITS1 and ITS2 DNA\n",
      "CGTAACAAGGTTTCCGTAGGTGAACCTGCGGAAGGATCATTGTTGAGATCACATAATAAT\n",
      "TGATCGGGTTAATCTGGAGGATCAGTTTACTTTGGTCACCCATGGGCATCTGCTCTTGTA\n",
      "GTGACCTGGATTTGCCATCGAGCCTCCATGGGAGCTTTCTTGGTGGCGATCTAAACCCTT\n",
      "GCCCGGCGCAGTTTTGCGCCAAGTCATATGACACATAATTGGAAGGGGGCGGCATGCTGC\n",
      "CTTGACCCTCCCCAAATTATTTTGTTAACAACTCTCAGCAACGGATATCTCGGCTCTTCC\n",
      "CGAGGCCATCAGGCCAAGGGCACGCCTGCCTGGGCATTGCGAGTCATATCTCTCCCTTCA\n",
      "ATGAGGCTGTCCATACATACTGTTCAGTCGGTGCGGATGTGAGTTTGGCCCCTTGTTCTT\n",
      "GCCTACGGGGGGTCTAAGAGCTGCATGGGCTTTTGATGGTACCTAAATACGGCAAGAGGT\n",
      "GGACGAACTATGCTACAACAAAATTGTTGTGCGAATGCCCCGGGTTGTCGTATTAGATGG\n",
      "GCCAGCATAATCTAAAGACCCTTTTGAACCCCATTGGAGGCCCATCAACCCATGATCAGT\n",
      "TGACGGCCATTTGGTTGCGACCCAGG\n",
      ">Z78472.1 P.lowii 5.8S rRNA gene and ITS1 and ITS2 DNA\n",
      "CGTAACAAGGTTTCCGTAGGTGAACCTGCGGAAGGATCATTGTTGAGATCACATAATAAT\n",
      "TGATCGAGTTAATCTGGAGGATCAGTTTACTTTAGTCACCCATGGGCATCTGCTCTTGCA\n",
      "GTGACCTGGATTTGCCATCGAGCCTCCTTGGGAGCTTTCTTGCTGGCGATCTAAATCGTT\n",
      "GCCCGGCGCAGTCTTGCGCCAAGTCATTTCACACATAATTGGAAGGGGGCGGCATGCAGT\n",
      "CTAAGACCCTCCCCAAATTATTTTTTGATAACTCTCAGCAACGGAATCTCGGCTCTTGCA\n",
      "TCGATGGAGGACGCAGCGAAATGCGATAAATGGTGTGAATTGCAGAATCCCGTGAACCAT\n",
      "CGAGTCTTTGAACGCAAGTTGCGCCCGAGGCCATCAGGCCAAGGGCACGCCTGCCTGGGC\n",
      "ATTGCGAGTCATATCTCTCCTTTAATGAGGCTGTCTATACATACTGTTCAGCCACAGCGG\n",
      "ATGTGAGTTTGGCCCCTTGTTCTTTGGTACGGGGGGTCTAAGAGCTGCATGGGCTTTTGA\n",
      "TGGTCTTAAATACGGCAAGAGGTGGACGAAGTATGCTACAACAAAATTGTAGTTCGAATG\n",
      "CCCAGGGTTGTCGTATTAGATGGGCCAGCATAATCTAAAGACCCTTTGAACCCCTTTAGA\n",
      "GGCCAATCAACCCATGATCAGTTGATGGCCATTTGGTTGCGACCCCAAGTCAGGTGAGGC\n",
      "AACCGCTGAGTTTAAGC\n",
      ">Z78471.1 P.dianthum 5.8S rRNA gene and ITS1 and ITS2 DNA\n",
      "CGTAACAAGGTTTCCGTAGGTGAACCTGCGGAAGGATCATTGTTGAGATCACATAATAAT\n",
      "TGATCGAGTTAATCTAGAGGATCGGTTTACTTTGGTCACCCATGGGCATCTGCTCTTACA\n",
      "GTGACCTGGATTTGCCATCGAGCCTCCTTGGGAGCTGTCTTGCTGGCGATCTAAATCGTT\n",
      "GCCCGACGCAGCCTTGCGTCAAGTCACCCCGACACATAATGGAAGGGGGCGGCATGCTGC\n",
      "CTTGACCCTTCCCCAAATTAATTTTTTGACAACTCTCAACATCGGATATCTCGGCTCTTG\n",
      "CATCGATGAAGAACGCAGCGAAATGCGATAAATGGTGTGAATTGCAGAATCCCGTGAACC\n",
      "ATCGAGTCTTTGAACGCAAGTTGCGCCCGAGGCCATCAGGCCAAGGGCACGCCTGCTTGG\n",
      "GCATTGCGAGTCATATCTCTCCCTTAATGAGGCTGTCCATACATACTGTTCAGCCAGTGC\n",
      "GGATGTGAGTTTGGCCCCTTGTTCTTTAGTACGGGGGGTCTAAAAGCTGCATGGGCTTTT\n",
      "GCTGGTCCTAAATACGGCAAGAGGTGGACAAAGTATGCTACAACAAAATTGTAGTGCGAA\n",
      "TGCCCCGGGTTGTCGTATTAGATGGGCCAGCATAATTTAAAGACCCTTTTGAACCCCATT\n",
      "AGAGGCCCATCAACCCTGATCAGTTGATGGCCATTTGGTTGCGACCCCAAGTCAGGTGAG\n",
      "GCAACCCGCTGAGTTTAAGC\n",
      ">Z78470.1 P.parishii 5.8S rRNA gene and ITS1 and ITS2 DNA\n",
      "CGTAACAAGGTTTCCGTAGGTGAACCTGCGGAAGGATCATTGTTGAGATCACATAATAAT\n",
      "TGATCGAGTTAATCTAGAGGATCAGTTTACTTTGGTCACCCATGGGCATCTGCTCTTACA\n",
      "GTGACCTGGATTTGCCATCGAGCCTCCTTGGGAGCTTTCTTGCTGGCGATCTAAATCGTT\n",
      "GCCCGACGCAGCCTTGCGTCAAGTCATATGACACATAATTGGAAGGGGGCGGCATGCTGC\n",
      "CTTGACCCTTCCCAAATTATTTTTTTAAGTTGCGCCCGAGGCCATCAGGCCAAGGGCACG\n",
      "CCTGCTTGGGCATTGCGAGTCATATCTCTCCCTTAATGAGGCTGTCCATACATACTGTTC\n",
      "AGCCAGTGCGGATGTGAGTTTGGCCCCTTGTTCTTTACTACGGGGGGTCTAAAAGCTGCA\n",
      "TGGGCTTTTGCTGGTCCTAAATACGGCAAGAGGTGGACAAAGTATGCTACAACAAAATTG\n",
      "TAGTGCGAATGCCCCGGGTTGTCGTATTAGATGGGCCAGCATAATTTAAAGACCCTTTTG\n",
      "AACCCCATTAGAGGCCCATCAACCCTGATCAGTT\n",
      ">Z78469.1 P.haynaldianum 5.8S rRNA gene and ITS1 and ITS2 DNA\n",
      "CGTAACAAGGTTTCCGTAGGTGAACCTGCGGAAGGATCATTGTTGAGATCACATAATAAT\n",
      "TGATCGAGTTAATCTGGAGGATCAGTTTACTTTAGTCACCCATGGGCATCTGCTCTTGCA\n",
      "GTGACCTGGATTTGCCATCGAGCCTCCTTGGGAGCTTTCTTGCTGGCGATCTAAATTCGT\n",
      "TGCCCGGCGCAGTCTTGCGCCAAGTCATATCACACATAATTGGAAGGGGGCGGCATGCGG\n",
      "TCTAGACCCTCCCCAAATTATTTTTTTGACAACTCTCAGCAACGGATATCTCGGCTCTTC\n",
      "CATCAGGCCAAGGGCACGCCTGCCTGGGCATTGCGAGTCATATCTCTCCCTTAATGAGGC\n",
      "TGTCCATACATACTGTTCAGCCACAGCGGATGTGAGTTTGGCCCCTTGTTCTTTGGTACG\n",
      "GGGGGTCTAAGAGCTGCATGGGCTTTTGATGGTACCTAAATACGGCAAGAGGTGGACGAA\n",
      "GTATGCTACAACAAAATGATAGTGCGAATGCCCAGGGTTGTCGTATTAGATGGGCCAGCA\n",
      "TAATCTAAAGACCCTTTTGAACCCCATTAGAGGCCCATCAACCCATGATCAGTT\n",
      ">Z78468.1 P.adductum 5.8S rRNA gene and ITS1 and ITS2 DNA\n",
      "CGTAACAAGGTTTCCGTAGGTGAACCTGCGGAAGGATCATTGTTGAGATCGCATAATAAT\n",
      "TGATTGAGTTAATCTGGAGGATCAGTTTACTTTGGTCACTCATGGGAATCTGCTCTTGTA\n",
      "GTGACCTGGATTTGCCATCGAGCCTCCTTGGGAGCTTTCTTGATGGCGATCTGAACCCTT\n",
      "GCCCGGCGCAGTTTTGCGCCAAGTCATATGACACATAATTGGGAGGGGCAGCATGCTGCC\n",
      "TTGACCCTCCCCATATCATTTTTTTAACGACTCTCAGCTCCGGAACTCAAGTTGCGCCCG\n",
      "AGGCCATCAGGCTAAGGGCACGCCTGCCTGGGCATTGCGAGTCATATCTCTCCCTTAATG\n",
      "AGGCTGTCCATACATACTGTTCAGCCAGTGCGGATGTGAGTTTGGCCCCTTGTTCTTCGG\n",
      "TACGGGGGGTCTAAGAGCAGCTGGGCTTTTGATGGACCTAAATACGGCAAGAGGTGGACG\n",
      "AAGTATGCTACAACAAAATTATTGTGTGAATGCCCCGGGTTGTCGTATAGATGGGCCAGC\n",
      "ATAATCTAAAGACCCTTTTGAACCCCATTGGAGGCCCATCAACCCATGATCAGTTGACGG\n",
      "CCATTTGGTT\n",
      ">Z78467.1 P.stonei 5.8S rRNA gene and ITS1 and ITS2 DNA\n",
      "CGTAACAAGGTTTCCGTAGGTGAACCTGCGGAAGGATCATTGTTGAGATCACATAATAAT\n",
      "TGATCGAGTTAATCTGGAGGATCAGTTTACTTTGGTCACCCATGGGCATCTGCTCTTGCA\n",
      "GTGACCTGGATTTGCCATCGAGCCTCCTTGGGAGCTTTCTTGCTGGCGATCTAAACCCTT\n",
      "GCCCGGCGCAGTTTTGCGCCAAGTCATATGACACATAATTGGAAGGGGGTGGCATGCTGC\n",
      "CTTGACCCTCCCCAAATTATTTTTTGACAACTCTCAGCAACGGATATCTCGGCTCTTGCA\n",
      "TCGATGAAGAACGCAGCGAAATGCGATAAATGGTGTGAATTGCAGAATCCCGTGAACCAT\n",
      "CGAGTCTTTGAACGCAAGTTGCGCCCGAGGCCATCAGGCCAAGGGTACGCCTGCCTGGGC\n",
      "ATTGCGAGTCATATCTCTCCCTTAATGAGGCTGTCCATACATACTGTTCAGCCGGTGCGG\n",
      "ATGTGAGTTTGGCCCCTTGTTCTTTGGTACGGGGGGTCTAAGAGCTGCATGTGCCTTTGG\n",
      "TGGTCCAAAATACGGCAAGAGGTGGACGAACTATGCTACAACAAAATTGTTGTGCGAATG\n",
      "ACCCGGGTTGTCGTATTAGCTGGGCCAGCATAATCTAAAGACCCTCTTGAACCCCATTGG\n",
      "AGGCCCATCAACCCATGATCAGTTGACGGCCATATGTTTGCGACCCAGGTCAGGTGAGGC\n",
      "AACCCGCTGA\n",
      ">Z78466.1 P.philippinense 5.8S rRNA gene and ITS1 and ITS2 DNA\n",
      "CGTAACAAGGTTTCCGTAGGTGAACCTGCGGAAGGATCATTGTTGAGATCACATAATAAT\n",
      "TGATCGAGTTAATCTGGAGGATCAGTTTACTTTGGTCACCCATGGGCATCTGCTCTTGTA\n",
      "GTGACCTGGATTTGCCATCGAGCCTTCATGGGAGCTTTCTTGCTGGCGATCTAAACCCTT\n",
      "GCCCGGCGCAGTTTTGCGCCAAGTCATATGACACATAATTGGAAGGGGGCGGCATGCTGC\n",
      "CTTGACCCTCCCCAAATTATTTTTGTAACAACTCTCAGCAACGGATATCTCGGCTCTTTG\n",
      "CCGAGGCCATCAGGCCAAGGGCACGCCTGCCTGGGCATTGCGAGTCATATCTCTCCCTTA\n",
      "ATGAGGCTGTCCATACATACAGTTCAGCCTGTGCGGATGTGAGTTTGGCCCCTTGTTCTT\n",
      "GCGTACGGGGGGTCTAAGAGCTGCATGGGCTTTTGATGGTCCTAAATACGGCAAGAGGTG\n",
      "GACGAACTATGCTACAACAAAATTGTTGTGCGAATGCCCCGGGTTGTCGTATTAGATGGG\n",
      "CCAGCATAATCTAAAGACCCTTTTGAACCCCATTGGAGGCCCATCAACCCATGATCAGTT\n",
      "GACGGCCATTTGGTTGCGACCCAGGTCAGGTGAGGCAACCC\n",
      ">Z78465.1 P.rothschildianum 5.8S rRNA gene and ITS1 and ITS2 DNA\n",
      "CGTAACAAGGTTTCCGTAGGTGAACCTGCGGAAGGATCATTGTTGAGATCACATAATAAT\n",
      "TGATCGAGTTAATCTGGAGGATCAGTTTACTTTGGTCACCCATGGGCATCTGCTCTTGCA\n",
      "GTGACCTGGATTTGCCATCGAGCCTCCTTGGGAGCTTTCTTGCTGGCGATCTAAACCCTT\n",
      "GCCCGGCGCAGTTTTGCGCCAAGTCATATGACACATAATTGGAAGGGGGCGGCATGCTGC\n",
      "CTTGACCCTCCCCAAATTATTTTTTTGACAACTCTCAGCAACGGATTTCTCGGTTCTTGA\n",
      "ATCGATGAGGAACGCAGCGAAATGCGATAATTGGTGTGAATTGAAGAATCCCGTAAACCA\n",
      "TCGAGTCTTTGAACGAAAGTTGCGCCCGAGGCCATCAGGCCAAGGGAACGCCTGCCTGGG\n",
      "CATTGCGAGTCATATCTCTCCCTTAATGAGGCTGTCCATACATACTGTTCAGCGAGTGCG\n",
      "GATGTGAGTTTGGCCCCTTGTTCTTTGGTACGGGGGGTCTAAGAGCTGCATGGGCTTTTG\n",
      "ATGGTCCTAAATACGGCAAGAGGTGGACGAACTATGCTACAACAAAATTGTTGTGCGAAT\n",
      "GCCCCGGGTTGTCGTATTAGATGGGCCAGCATAATCTAAAGACCCTTTTGAACCCCATTG\n",
      "GAGGCCCATCAACCCATGATCAGTTGACGGCCATTTGGTTGC\n",
      ">Z78464.1 P.glanduliferum 5.8S rRNA gene and ITS1 and ITS2 DNA\n",
      "CGTAACAAGGTTTCCGTAGGTGAGCGGAAGGGTCATTGTTGAGATCACATAATAATTGAT\n",
      "CGGTTGAGTCTGGAGGATCAGTTTACTTTGGTCACCCATGGGCATCTGCTCTTGTAGTGA\n",
      "CCTGGATTGCCATCGAGCCTCCTTGGGAGCTTTCTTGCTGGAGATCTAAACCCTTGCCCG\n",
      "GAGCAGTTTTGCGCCAAGTCATATGACACATAATTGGAAGGGGGCGGCATGCTGCCTTGA\n",
      "CCCTCCCCAAATTATTTTCTTAACAACTCTCAGCAACGGATATCTCGGCTCTTGCATCGA\n",
      "TGAAGAACGCAGCGAAATCCGATAAATGGTGTGAATTTCAGAATCCCGTGAACCATCGAG\n",
      "TCTTTGAACGCCAAGTTCGCCCGAGGCCATCAGGCCAAGGGCACGCCTGCCTGGGCATTT\n",
      "CGAATCAAATCTCTCCCTTAATGAGGCTGTCCAAACATACTGTTCAACCGGTTCGGATGT\n",
      "GAGTTTGGCCCCTTTTTCTTTGGGGCGGGGGGTCTAAGAACTTCATGGGCTTTTGGTGGT\n",
      "CCTAAAAACGGCAAGAGGTGGGCGGACTATTCTTCAACCAAATTTCTGTTCGGATTCCCC\n",
      "GGGCTTTCGTAATAGATGGGCCAGCATAATCTAAAGACCCTTTTGAACCCCATTGGAGGC\n",
      "CCATCAACCCATGATCAGTTGACGGCCATTTGGTGCGACCCCAGGTCAGGTGAGCAACCC\n",
      "GCTGAGTTTAAGC\n",
      ">Z78463.1 P.glanduliferum 5.8S rRNA gene and ITS1 and ITS2 DNA\n",
      "CGTAACAAGGTTTCCGTAGGTGAACCTGCGGAAGGTTCATTGTTGAGATCACATAATCAT\n",
      "TGTTCGGTTGAGTCTGGAGGATCAGTTTACTTTGGTCACCATGGGCATCTGCTCTTGTAG\n",
      "TGACCTGGATTGCCATCGAGCCTCCTTGGGAGCTTTCTTGCTGGGGATCTAAACCCTCGC\n",
      "CCGGGGGAGTTTTGCGCCAAGTCATATGACACATAATTGGGAGGGGGCGGCATGTTGCCT\n",
      "TGACCCTCCCCAAATTATTTTCTTAACAACTCTCAGCAACGGATATCTCGGCTCTTGCAT\n",
      "CGATGGAAGAACGCAGCGAAATGCGATAAATGGTGTGAATTGCAGAATCCCGTGAACCAT\n",
      "CGAGTCTTTGAACGCAAGTTGCGCCCGAGGCCATCAGGCCAAGGGCACGCCTGCCTGGGC\n",
      "ATTGCGAGTCATATCTCTCCCTTAATGAGGCTGTCCATACATACTGTTCAACCGGTGCGG\n",
      "ATGTGAGTTTGGCCCCTTTTTCTTTGGGGCGGGGGGTCTAAGAGCTGCATGGGCTTTTGA\n",
      "TGGTCCTAAATACGGCAAGAGGTGGACGAACTATGCTGCAACAAAATTGCTGTGCGAATA\n",
      "CCCCGGGTTGTCGTATTAGATGGGCCAGCATAATCTAAAGACCCTTTTGAACCCCATTGG\n",
      "AGGCCCATCAACCCATGATCAGTTGACGGCCATTTGGTTGCGACCCCAGATCAGGTGAGC\n",
      "AACCCGCTGAGTTTAAGC\n",
      ">Z78462.1 P.sukhakulii 5.8S rRNA gene and ITS1 and ITS2 DNA\n",
      "CGTCACGAGGTCTCCGGATGTGACCCTGCGGAAGGATCATTGTTGAGATCACATAATAAT\n",
      "TGATCGAGTTAATCTGCAGGATCTGTTTACTTTGGTCACCCATGGGCATTTGCTGTTGAA\n",
      "GTGACCTAGATTTGCCATCGAGCCTCCTTGGGAGATTTCTTGTTGGCGAGATCTAAACCC\n",
      "TTGCCCGGCGCAGTTTTGCGCCAAGTCATANNNNNNNNNNNNNNNNNNNNNNNNNNNNNN\n",
      "NNNNNNNNNNNNNNNNNNNNNNNNNNNNNNNNNNNNNNNNNNNNNNNNNNNNNNNNNNNN\n",
      "NNNNNNNNNNNNNNNNNNNNNNNNNNNNNNNNNNNNNNNNNNNNNNNNNNNNNNNNNNNN\n",
      "NNNNNNNNNNNNNNNNNNNNNNNNNNNNNNNNNNNNNNNNNNNNNNNNNNNNNNNNNNNN\n",
      "NNNNNNNNNNNNNNNNNNNNNNNNNNNNNNNNNNNNNNNNNNNNNNNNNNNNNNNCGCCT\n",
      "GCCTGGGCATTGCGAGTCATATCTCTCCCTTAACGAGGCTGTCCATACATACTGTTCAGC\n",
      "CGGTGCGGATGTGAGTTTGGCCCCTTGTTCTTTGGTACGGGGGGTCTAAGAGCTGCATGG\n",
      "GCTTTTGATGGTCCTAAATACGGCAAGAGGTGGACGAACTATGCTACAACAAAATTGTTG\n",
      "TGCAAAGGCCCCGGGTTGTCGTATTAGATGGGCCACCGTAATCTGAAGACCCTTTTGAAC\n",
      "CCCATTGGAGGCCCAT\n",
      ">Z78461.1 P.wardii 5.8S rRNA gene and ITS1 and ITS2 DNA\n",
      "CGTAACAAGGTTTCCGTAGGTGAACCTCCGGAAGGATCATTGTTGAGATCACATAATAAT\n",
      "TGATCGAGGTAATCTGGAGGATCTGTTTACTTTGGTCACCCATGGGCAGTTGCTGCTGGA\n",
      "GTGACCTAGAATTTCCATCGAGCCTCCTTGGGAGCTTTCTTGTTGGCGAGATCTAAACCC\n",
      "TTACCCGGCGCAATTTTTCCCCCAGTCAAATGACACATAATTGGTGGAGGGGGTGGCATT\n",
      "CTTCCCTGACCCTCCCCCAAATAATTTTTTCACAACTCTCAGCAACGGATATCTCGGCTC\n",
      "TTGCATCGATGAAGAACGCACCGAAATCCGATAAATGGTGTGAATTCCAGAATCCCGTGA\n",
      "ACCATCGAGTCTTTGAACCCAAGTTGCGCCCGAGGCCATCAGGCCAAGGGAACGCCTGCC\n",
      "TGGGCATTGCGAGTCATATCTCTCCCTTAACGAGCCTGTCCATACATCCTGTTCAGCCGG\n",
      "TGCGGATGTGAGTTTGCCCCCTTGTTCTTTGGTACGGGGGGTCTAAGACCTGCATGGGCT\n",
      "TTTGATGGTCCTAAATACGGCAAGAGGTGGACGAACTATGCTACACCAAAATTGTTGTCC\n",
      "AAAGCCCCCGGGTTGTCGTATAAGATGGGCCACCGTAATCTGAAGACCCTTTGAACCCCA\n",
      "TTGGAGCCCATCAACCCATGATCAGTTGATGCCATTGTTGCGACCCAGTCAGTGAGCAAG\n",
      "CCGCTGAGTTAA\n",
      ">Z78460.1 P.ciliolare 5.8S rRNA gene and ITS1 and ITS2 DNA\n",
      "CGTAACAAGGTTTCCGTAGGTGAACCTCCGGAAGGATCATTGTTGAGATCACATAATAAT\n",
      "TGATCGAGTTAATCTGGAGGATCTGTTTACTTTGGTCACCCATGAGCATTTGCTGTTGAA\n",
      "GTGACCTAGATTTGCCATCGAGCCTCCTTGGGAGCTTTCTTGTTGGCGAGATCTAAACCC\n",
      "TTGCCCGGCGCAGTTTTGCGCCAAGTCATATGACACATAATTGGTGAAGGGGGTGGCATC\n",
      "CTGCCCTGACCCTCCCCAAATTATTTTTTTAACAACTCTCAGCAACGGGATATCTCGGCT\n",
      "CTTGCATCGGATGGAGGAACGCAGCGAAATGCGATAAATGGTGTGAATTGCAGAATCCCG\n",
      "TGAACCATCGAGTCTTTGAACGCAAGTTGCGCCCGAGGCCATCAGGCCAAGGGCACGCCT\n",
      "GCCTGGGCATTGCGAGTCATATCTCTCCCTTAACGAGGCTGTCCATACATACTGTTCAGC\n",
      "CGGTGCGGATGTGAGTTTGGCCCCTTGTTCTTTGGTACGGGGGGTCTAAGAGCTGCATGG\n",
      "GCTTTTGATGGTCCCAAATACGGCAAGAGGTGGACGAACTATGCTACAACAAAATTGTTG\n",
      "TGCAAAGGCCCCGGGTTGTCGTATTAGATGGGCCACCGTAATCTGAAGACCCTTTTGAAC\n",
      "CCCATTGGAGGCCCATCAACCCATGATCAGTTGATGGCCATTTGGGTTGCGACCCCAGGT\n",
      "CAGGTGAGGCAACCCGCTGAGTTTA\n",
      ">Z78459.1 P.dayanum 5.8S rRNA gene and ITS1 and ITS2 DNA\n",
      "CGTAACAAGGTTTCCGTAGGTGAACCTGCGGAAGGATCATTGTTGAGATCACATAATAAT\n",
      "TGATCGAGTTAATCTGGAGGATCTGTTTACTTTGGTCACCCATGAGCATTTGCTGTTGAA\n",
      "GTGACCTAGATTTGCCATCGAGCCTCCTTGGGAGCTTTCTTGTTGGCGAGATCTAAACCC\n",
      "TTGCCCGGCGCAGTTTTGCGCCAAGTCATATGACACATAATTGGTGAAGGGGGTGGCATC\n",
      "CTGCCCTGACCCTCCCCAAATTATTTTTTTAACAACTCTCAGCAACGGATATCTCGGCTC\n",
      "TTGCATCGGATGGAGGAACGCAGCGAAATTGCGATAAATTGGTGTGAATTGCAGAATCCC\n",
      "GTGAACCATCGAGTCTTTGAACGCAAGTTGCGCCCGAGGCCATCAGGCCAAGGGCACGCC\n",
      "TGCCTGGGCATTGCGAGTCATATCTCTCCCTTAACGAGGCTGTCCATACATACTGTTCAG\n",
      "CCGGTGCGGATGTGAGTTTGGCCCCTTGTTCTTTGGTACGGGGGGTCTAAGAGCTGCATG\n",
      "GGCTTTTGATGGTCCTAAATACGGCAAGAGGTGGACGAACTATGCTACAACAAAATTGTT\n",
      "GTGCAAAGGCCCCGGGTTGTCGTATTAGATGGGCCACCGTAATCTGAAGACCCTTTTGAA\n",
      "CCCCATTGGAGGCCCATCAACCCATGATCAGTTGATGGCCATTTGGTTGCGACCCCAGGT\n",
      "CAGGTGAGGCAACCCGCTGAGTTT\n",
      ">Z78458.1 P.hennisianum 5.8S rRNA gene and ITS1 and ITS2 DNA\n",
      "CGTAACAAGGTTTCCGTAGGTGAACCTGCGGAAGGATCATTGTTGAGATCACATAATAAT\n",
      "TGATCGAGTTAATCTGGAGGATCTGTTTACTTTGGTCACCCATGAGCATTTGCTGTTGAA\n",
      "GTGACCTAGATTTGCCATCGAGCCTCCTTGGGAGCTTTCTTGTTGGCGAGATCTAAACCC\n",
      "TTGCCCGGCGCAGTTTTGCGCCAAGTCGTACGACACATAATTGGTGAAGGGGGTGGCATC\n",
      "CTTCCCTGACCCTCCCCAAATTATTTTTTAACAACTCTCAGCAACGGATATCTCGGCTCT\n",
      "TGCATCGATGGAGGACGCAGCGAAATGCGATAAATGGTGTGAATTGCAGATCCCGTGAAC\n",
      "CATCGAGTCTTTGAACGCAAGTTGCGCCCGAGGCCATCAGGCCAAGGGCACGCCTGCCTG\n",
      "GGCATTGCGAGTCATATCTCTCCCTTAACGAGGCTGTCCATACATACTGTTCAGCCGGTG\n",
      "CGGATGTGAGTTTGGCCCCTTGTTCTTTGGTACGGGGGGTCTAAGAGCTGCATGGGCTTT\n",
      "TGATGGTCCTAAATACGGCAAGAGGTGGACGAACTATGCTACAACAAAATTGTTGTGCAG\n",
      "AGGCCCCGGGTTGTCGTATTAGATGGGCCACCGTAATCTGAAGACCCTTTTGAACCCCAT\n",
      "TGGAGGCCCATCAACCCATGATCAGTTGATGGCCATTTGGTTGCGACCCCAGGTCAGGTG\n",
      "AGGCAACCCGCTGAGTTG\n",
      ">Z78457.1 P.callosum 5.8S rRNA gene and ITS1 and ITS2 DNA\n",
      "CGTAACAAGGTTTCCGTAGGTGAACCTCCGGAAGGATCATTGTTGAGATCACATAATAAT\n",
      "TGATCGAGTTAATCTGGAGGATCTGTTTACTTTGGTCACCCATGGGCATTTTCTGTTGTA\n",
      "GTGACCTAGAATTTCCATCGAGCCTCCTTGGGAGCTTTCTTGTTGGCGAGATCTAAACCC\n",
      "TTGCCCGGCGCAGTTTTTCCCCCAGTCAAATGGCACATAATTGGTGGAGGGGGTGGCATT\n",
      "CTTCCCTGACCCTCCCCCAAATATTTTTTTAACAACTCTCAACAACGGATATCTCGGCTC\n",
      "TTTCATCGGATGAAGGACCGCAGCGAAATGCGATAAATGGTGTGAATTGCAGAATCCCGT\n",
      "GAACCATCGAGTCTTTGAACGCAAGTTGCGCCCGAGGCCATCAGGCCAAGGGCACGCCTG\n",
      "CCTGGGCATTGCGAGTCATATCTCTCCCTTAACGAGGCTGTCCATACATACTGTTCAGCC\n",
      "GGTGCGGATGTGAGTTTGGCCCCTTGTTCTTTGGTACGGGGGGTCTAAGAGCTGCATGGG\n",
      "CTTTTGATGGTCCTAAATACGGCAAGAGGTGGACGAACTATGCTACAACAAAATCGTTGT\n",
      "GCAAAGGCCCCGGGTTGTCGTATTAGATGGGCCACCGTAATCTAAAGACCCTTTTGAACC\n",
      "CCATTGGAGGCCCATCAACCCATGATCAGTTGATGGCCATTTGGTTGCGACCCCAGGTCA\n",
      "GGTGAGGCAACCCGCTGAG\n",
      ">Z78456.1 P.tonsum 5.8S rRNA gene and ITS1 and ITS2 DNA\n",
      "CGTAACAAGGTTTCCGTAGGTGAACCTGCGGAAGGATCATTGTTGAGATCACATAATAAT\n",
      "TGATCGAGTTAATCTGGAGGATCTGTTTACTTTGGTCACCCATGAGCATTTGCTGTTGAA\n",
      "GTGACCTAGAATTTGCCATCGAGCCTCCTTGGGAGCTTTCTTGTTGGCGAGATCTAAACC\n",
      "CTTGCCCGGCGCAGTTTTGCGCCAAGTCATATGACACATAATTGGTGGAGGGGGTGGCAT\n",
      "CCTGCCCTGACCCTCCCCAAATTATTTTTTTAACAACTCTCAGCAACGGATATCTCCGGT\n",
      "CTGGCATCGATGAAGAACGCAGCGAAATGCGATAAATGGTGTGATTGCAGAATCCCGTGA\n",
      "ACATCGAGTCTTTGAACGCAAGTTGCGCCCGAGGCCATCAGGCCAAGGGCACGCCTGCCT\n",
      "GGGCATTGCGAGTCATATCTCTCCCTTAACGAGGCTGTCCATACATACTGTTCAGCCGGT\n",
      "GCGGATGTGAGTTTGGCCCCTTGTTCTTTGGTACGGGGGGTCTAAGAGCTGCATGGGCTT\n",
      "TTGATGGTCCTAAATACGGCAAGAGGTGGACGAACTATGCTACAACAAAATTGTTGTGCA\n",
      "AAGGCCCCGGGTTGTCGTATTAGATGGGCCACCGTAATCTGAAGACCCTTTTGGACCCCA\n",
      "TTGGAGGCCCATCAACCCATGATCAGTTGATGGCCATTTGGGTTGCGACCCAGGTCAGGT\n",
      "GAGGCAACCCTGAGTTTAGC\n",
      ">Z78455.1 P.javanicum 5.8S rRNA gene and ITS1 and ITS2 DNA\n",
      "CGTAACCAGGTTTCCGTAGGTGGACCTTCGGGAGGATCATTTTTGAGATCACATAAAAAT\n",
      "TGATCGAGTTAATCTGGAGGAACTTTTTACTTTGGTCACCCATGAACAATTTCTTTTGGA\n",
      "GTGACCTAGAATTTCCATCGAACCCCCTTGGGAACTTTCTTTTTGGCGAGAACTAAACCC\n",
      "TTTCCCGGCGCAGTTTTTCCCCCAATCAAATTACACAAAAATGGTGGAGGGGGTGGCATC\n",
      "CTTCCCTTACCCTCCCCCAAATAATTTTTTAACAACTCTCAGCAACGGATATCTCGGCTC\n",
      "TTGCATCGGTTGAAGAACCAGCGAAATGCGATAAATGGTGTGAATTGCAGAATCCCGTGA\n",
      "ACCATCGAGTCTTTGAACGCAAGTTGCGCCCGAGGCCATCAGGCCAAGGGCACGCCTGCC\n",
      "TGGGCATTGCGAGTCATATCTCTCCCTTAACGAGGCTGTCCATACATACTGTTCAGCCGG\n",
      "TGCGGATGTGAGTTTGGCCCCTTGTTCTTTGGCACGGGGGGTCTAAGAGCTTCATGGGCT\n",
      "TTTGATGGTCCTAAATACGGCAAGAGGTGGACGAACTATGCTACAACAAAATTGTTGTGC\n",
      "AAAGGCCCCGGGTTGTCGTATTAGATGGGCCACCGTAATCTGAAGACCCTTTTGAACCCC\n",
      "ATTGGAGGCCCATCAACCCATGATCAGTTGATGGCCATTTGGGTTGCGACCCCAGGTCAG\n",
      "GTGAGGCAACCCGCTGAGTTTAGCA\n",
      ">Z78454.1 P.fowliei 5.8S rRNA gene and ITS1 and ITS2 DNA\n",
      "CGTAACAAGGTTTCCGTAGGTGAACCTGCGGAAGGATCATTGTTGAGATCACATAATAAT\n",
      "TGATCGAGATAATCTGGAGGATCTGTTTACTTTGGTCACCCATGAGCATTTGCTGTTGAA\n",
      "GTGACCTAGATTTACCATCGAGCCTCCTTGGGAGCTTTCTTGTTGGCGAGATCTAAACCC\n",
      "TTGCCCGGCGCAGTTTTTCTCCAAGTCATTTGACACATAATCGGTGAAGGGGGTGGCATC\n",
      "CTGCCCTGACCCTCCCCCCACTATTGTTAACAACTCTCATCAACGGAACTCATGCGATAA\n",
      "ATGGTGTGATTTGCAGAATCCCGTGAACCATCGAGTCTGTGAACGCAAGTTGCGGCCGAG\n",
      "GCCATCAGACCAAGGGCACGCCTGCCTGGGCATTGCGAGTCATATCTCTCCCTTAACGAG\n",
      "GCTGTCCATACATACTGTTCAGCCGGTGCGGATGTGAGTTTGGCCCCTTGTTCTCTGGTA\n",
      "CGGGGGGTCTAAGAGCTGCATGGGCTTTTGATGGTCCTAAATACGGCAAGAGGTGGACGA\n",
      "ACTATGCTACAACAAAATTGTTGTGCAAAGGCCCCGGGTTGTCGTATTAGATGGGCCACC\n",
      "GTAATCTGAAGCCCCTTTTGAACCCATTGGAGGCCCATCAACCNCATGATCAGTTGATGG\n",
      "CCATTTGGATGCGACCCCAGGTCAGGTGAGGCAAC\n",
      ">Z78453.1 P.schoseri 5.8S rRNA gene and ITS1 and ITS2 DNA\n",
      "CGTAACAAGGTTTCCGTAGGTGAACCTGCGGAAGGATCATTGTTGAGATCACATAATAAT\n",
      "TGATCGAGTTAATCTGGAGGATCTGTTTACTTTGGTCACCCATGAGCATTTGCTGTTGAA\n",
      "GTGACCTAGAGTTGCCATCGAGCCTCCTTGGGAGCTTTCTTGTTGGCGAGATCTAAACCC\n",
      "TTGCCCGGCGCAGTTTTGCGCCAACTCATTTGACACATAACTGGTGAAGGGGGTGGCATC\n",
      "CTTCCCTGACCCTCCCCCAAATTATTTTTTAACAACTCTCAGCAACCGGATATCTCAGCT\n",
      "CTTGCATCGATGAAGAACGCAGCGAAATGCGATAAATGGTGTGAATTGCAGAATCCCGTG\n",
      "AACCATCGAGTCTTTGAACGCAAGTTGCGCCCGAGGCCATCAGGCCAAGGGCACGCCTGC\n",
      "CTGGGCATTGCGAGTCATATCTCTCCCTTAACGAGGCTGTCCATACATACTGTTCAGCCG\n",
      "GTGCGGATGTGAGTTTGGCCCCTTGTTCTTTGGTACGGGGGGTCTAAGAGCTGCATGGGC\n",
      "TTTTGATGGTCCTAAATACGGCAAGAGGTGGACGAACTATGCTACAACAAAATTGTTGTG\n",
      "CAAAGGCCCCGGGTTGTCGTATTAGATGGGCCACCGTAATCTGAAGACCCTTTTGAACCC\n",
      "CATTGGAGGCCCATCAACCCATGATCAGTTGATGGCCATTTGGTTGCGACCCCAGGTCAG\n",
      "GTGAGGCAACCCGCTGAGTTTAGCA\n",
      ">Z78452.1 P.bougainvilleanum 5.8S rRNA gene and ITS1 and ITS2 DNA\n",
      "CGTAACAAGGTTTCCGTAGGTGAACCTGCGGAAGGATCATTGTTGAGATCACATAATAAT\n",
      "TGATCGAGTTAATCTGGAGGATCTATTTACTTTGGTCACCCATGAGCATTTGCTGTTGAA\n",
      "GTGACCTAGATTTGCCATCAAGCCTCCTTGGGAGCTTTCTTTTTGGCGAGATCTAAACCC\n",
      "TTGCCCGGCGCAGTTTTGCGCCAAGTCATATGACACATAATTGGTGAAGGGGGTGGCATC\n",
      "CTGCCCTGACCCTCCCCAAATTATTTTTTTAACAACTCTCAGCAACGGATATCTCGGCTC\n",
      "TTGAATCGATGAAGAACGCAGCGAAATGCGATAAATGGTGTGAATTGCAGAATCCCGTGA\n",
      "ACCATCGAGTCTTTGAACGCAAGTTGCGCCCGAGGCCATCAGGCCAAGGGCACGCCTGCC\n",
      "TGGGCATTGCGAGTCATATCTCTCCCTTAACGAGGCTGTCCATACATACTGTTCAGCCGG\n",
      "TGCGGATGTGAGTTTGGCCCCTTGTTCTTTGGTACGGGGGGTCTAAGAGCTGCATGGGCT\n",
      "TTTGATGGTCCTAAATACGGCAAGAGGTGGATGAACTATGCTACAACAAAATTGTTGTGC\n",
      "AAAGGCCCCGGGTTGTCGTATTAGATGGGCCACTGTAATCTGAAGACCCTTTTGAACCCC\n",
      "ATTGGAGGCCCATCAACCCATGATCAGTTGATGGCCATTTGGATGCGACCCCAGGTCAGG\n",
      "TGAGGCAACCGCTGAGTTTAGCA\n",
      ">Z78451.1 P.hookerae 5.8S rRNA gene and ITS1 and ITS2 DNA\n",
      "CGTAACAAGGTTTCCGTAGGTGTACCTCCGGAAGGATCATTGTTGAGATCACATAATAAT\n",
      "TGATCGAGATAATCTGGAGGATCTGTTTACTTTGGTCACCCATGGGCATTTGCTGTTGTA\n",
      "GTGACCTAGATTTCCATGGAGCCCCCCTGGGAGCTTTCTTGCTGGCGAGATCTAAACCCG\n",
      "TGCCCGGCGCAGTTTTGCGCCAAGTCATATGACACATAATTGGTGTAGGGGGCGGGCATC\n",
      "CTGCCCTGACCCTCCCCAAAGTATTTTTTGCAACTCTCAACAACGGAAATCTCGCTCTTT\n",
      "CATCGATGAAGAACCAGCGAAATCGATAAATGGTGTGAATTGCAGAATCCCGTGAACCAT\n",
      "CGAGTCTTTGAACCCAAGTTGCGCCCGAGGCCATCAGGCCAAGGGCACCCCTCCCTGGGC\n",
      "ATCGCGAGTCAAATCTCTCCCTTAACGAGGCTGTCCATACATACTGTTCACCCGGTGCGG\n",
      "ATGTGAGTTTGCCCCCTTGTTCTTTGGTACGGGGGGTCTAAGACCTGCATGGGATTTTGA\n",
      "TGGTCCTAAAAACGGCAAGAGGTGGACGAACTATCCCTACAATAAAATTGTTGTGCGAAG\n",
      "CCCCCGGGTTGTCGTATTAGATGGGCCACCGTAATCTGAAGACCCTATAGAACCCCATTG\n",
      "GAGGCCCATCAACCCATGATCAGTTGATGGCCATTTGATGCGACACCAGTCAGTGAGCAA\n",
      "CCAGCTGAGC\n",
      ">Z78450.1 P.papuanum 5.8S rRNA gene and ITS1 and ITS2 DNA\n",
      "GGAAGGATCATTGCTGATATCACATAATAATTGATCGAGTTAAGCTGGAGGATCTGTTTA\n",
      "CTTTGGTCATCCATGAGCATTTACTGTTGAAGTGACCTAGATTTGCCATCGAGCCTCCTT\n",
      "GGGAGCTTTCTTGTTGCCGAGATCTAAACCCTTGCCCGGCGCAGTTTTGCGCCAAGTCAT\n",
      "ATGACACATAATTGGTGAAGGGGGTGGCATCCTGCCCTGACCCTCCCCAAATTATTTTTT\n",
      "TAACAACTCTCAGCAACGGATATCTCGGCTCTTGCATCGATGAAGAACGCAGCGAAATGC\n",
      "GATAAATGGTGTGAATTGCAGAATCCCGTGAACCATCGAGTCTTTGAACGCAAGTTGCGC\n",
      "CCGAGGCCATCAGGCCAAGGGCACGCCTGCCTGGGCATTCCGAGTCATATCTCTCCCCTA\n",
      "ACGAGGCTGTCCATACATACTGTTCATCCGGTGCGGATGTGAGTGTGGCCCCTTGTTCTT\n",
      "TGGTCCGGGGGGTCTAAGAACTGCATGGGCATATGATGGTCCTCAAAACTGGCAAGAGGT\n",
      "GGACGAACTATGCTACAACCAAATTGTTGTGCCAAGGCCCCGGGTTGTCGTATTAGATGG\n",
      "GCCACCGTAACCTGTAGACCCTGTTGAACCCCATTGGAGGACCATCAACCCATGATCAGT\n",
      "TGATGACCATGTGTTGCGACCCCAGATCAGCTGAGCAACCCCTGAG\n",
      ">Z78449.1 P.mastersianum 5.8S rRNA gene and ITS1 and ITS2 DNA\n",
      "CGTAACAAGGTTTCCGTAGGTGAACCTGCGGAAGGATCATTGTTGAGATCACATAATAAT\n",
      "TGATCGAGTTAATCTGGAGGATCTGTTTACTTTGGTCACCCATGAGCATTTGCTGTTGAA\n",
      "GTGACCTAGATTTGCCATCGAGCCTCCTTGGGAGCTTTCTTGTTGGCGAGATCTAAACCC\n",
      "TTGCCCGGCGCAGTTTTGCGCCAACTCATTTGACACATAATTGGTGAAGGGTGGCATCCT\n",
      "GCCCTGACCCTCCCCCAAATTATTTTTTTAACAACTCTCAGCAACGGATATCTCAGCTCT\n",
      "TGCATCGATGAAGAACGCAGCGAAAATGCGATAAATGGTGTGAATTGCAGAATCCCGTGA\n",
      "ACCATCGAGTCTTTGAACGCAAGTTGCGCCCGAGGCCATCAGGCCAAGGGCACGCCTGCC\n",
      "TGGGCATTGCGAGTCATATCTCTCCCTTAACGAGGCTGTCCATACATACTGTTCAGCCGG\n",
      "TGCGGATGTGAGTTTGGCCCCTTGTTCTTTGGTACGGGGGGTCTAAGAGCTGCATGGGCT\n",
      "TTTGATGGTCCTAAATACGGCAAGAGGTGGACGAACTATGCTACAACTAAATTGTTGTGC\n",
      "AAAGGCCCCGGGTTGTCGTATTAGATGGGCCACCGTAATCTGAAGACCCTTTTGAACCCC\n",
      "ATTGGAGGCCCATCAACCCATGATCAGTTGATGGCCATTTGGTTGCGACCCCAGGTCAGG\n",
      "TGAGGCAACCCGCTGAGTTTATGC\n",
      ">Z78448.1 P.argus 5.8S rRNA gene and ITS1 and ITS2 DNA\n",
      "CGTAACAAGGTTTCCGTAGGTGAACCTGCGGAAGGATCATTGTTGAGATCACATAATAAT\n",
      "TGATCGAGTTAATCTGGAGGATCTGTTTACTTTGGTCACCCATGAGCATTTGCTGTTGAA\n",
      "GTGACCTAGAATTGCCATCGAGCCTCCTTGGGAGCTTTCTTGTTGGCGAGATCTAAACCC\n",
      "TTTCCCGGCGCAGTTTTGCGCCAAGTCGTATGACACATAATTGGTGAAGGGGGGTGGCAT\n",
      "CCTTCCCTTGACCCTCCCCAAATTATTTTTTTAACAACTCTCAGCAACGGATATCTCAGC\n",
      "TCTTGCATCGGATGGAAGAACGCACCGAAATGCGATAAATGGTGTGAATTGCAGAATCCC\n",
      "GTGAACCATCGAGTCTTTGAACGCAAGTTGCGCCCGAGGCCATCAGGCCAAGGGCACGCC\n",
      "TGCCTGGGCATTGCGAGTCATATCTCTCCCTTAACGAGGCTGTCCATACATACTGTTCAG\n",
      "CCGGTGCGGATGTGAGTTTGGCCCCTTGTTCTTTGGTACGGGGGGTCTAAGAGCTGCATG\n",
      "GGCTTTTGATGGTCCTAAATACGGCAAGAGGTGGACGAACTATGCTACAANAAAATTGTT\n",
      "GTGCAAAGGCCCCGGGTTGTCGTATTAGATGGGCCACCGTAATCTGAAGACCCTTTTGAA\n",
      "CCCCATTGGAGGCCCATCAGCCCATGATCAGTTGATGGCCATTTGGNTGCGACCCCAGGT\n",
      "CAGGTGAGGCAACCCGCTGAGG\n",
      ">Z78447.1 P.venustum 5.8S rRNA gene and ITS1 and ITS2 DNA\n",
      "CGTAACAAGGATTCCGTAGGTGAACCTGCGGGAGGATCATTGTTGAGATCACATAATAAT\n",
      "TGATCGAGTAATCTGGAGGATCTGTTTACTTTGGTCACCCATGGGCATTTCCTGTTGAAG\n",
      "TGACCTAGAGTTGCCATCGAGCCTCCCTGGGAGCTTTCTTGTTGGCGAGAACTAAACCCT\n",
      "TACCCGGCGCAATTTTGCCCCCAGTCAAATGACACATAAGTGGTGAAGGGGGTGGCATCC\n",
      "TATCTCGGCTCTTGCATCGATGAAGAACCCAGCGAAATGCGATAAATGGTGTGAATTGCA\n",
      "GAATCCCGTGAACCATCGAGTCTTTGAACGCAAGTTGCGCCCGAGGCCATCAGGCCAAGG\n",
      "GCACGCCTGCCTGGGCATTGCGAGTCATATCTCTCCCTTAACGAGGCTGTCCATACATAC\n",
      "TGTTCAGCCGGTGCGGATGTGAGTTTGGCCCCTTGTTCTTTGGTACGGGGGGTCTAAGAG\n",
      "CTGCATGGGCTTTTGATGGTCCTAAATACGGCAAGAGGTGGACGAACTATGCTACACCAA\n",
      "AATTGTTGTGCAAAGGCCCCGGGTTGTCGTATTAGATGGGCCACCGTAATCTGAAGACCC\n",
      "TTTTGAACCCCATTGGAGGCCCATCAACCCATGATCAGTTGATGGCCATTTGGTTGCGAC\n",
      "CCCAGTCAGGTGAGGCAACCCGCTGAGTTTAAGC\n",
      ">Z78446.1 P.acmodontum 5.8S rRNA gene and ITS1 and ITS2 DNA\n",
      "CGTAACAAGGTTTCCGTAGGTGAACCTCCGGAAGGATCATTGTTGAGATCACATAATAAT\n",
      "TGATCGAGTTAATCTGGAGGATCTGTTTACTTTGGTCACCCATGAGCATTTCCTGTTGAA\n",
      "GTGACCTAGATTTGCCATCGAGCCTCCTTGGGAGCTTTCTTGTTGGCGAGATCTAAACCC\n",
      "TTGCCCGGCGCAGTTTTGCGCCAAGTCATATGACACATAATTGGTGAAGGGGGTGGCATC\n",
      "CTCCCCAAATAATTTTTTAACAACTCTCAGCAACGGATACTCGGCTCTTCATCGATGGAG\n",
      "GACCAGCGAAATTGCGATAATGGTGTGATTGCAGAATCCCGTGAACATCGAGTCTTTGAA\n",
      "CGCAAGTTGCGCCCGAGGCCATCAGGCCAAGGGCACGCCTGCCTGGGATTGCGAGTCATA\n",
      "TCTCTCCCTTAACGAGGCTGTCCATACATACTGTTCAGCCGGTGCAGATGTGAGTTTGGC\n",
      "CCCTTGTTCTTCGGTACGGGGGGTCTAAGAGCTGCATGGGCTTTTGATGGCCCTAAATAC\n",
      "GGCAAGAGGTGGACGAACTATGCTACAACAAAATTGTTGTGCAAAGGCTCCGGGTTGTCG\n",
      "TATTAGATGGGCCACCGTAATCTGAAGACCCTTTTGAACCCCATTGGAGGCCCATCAACC\n",
      "CATGATCAGTTGATGGCCATTTGGTTGCGACCCAGGTCAGGTGAGGCAACCC\n",
      ">Z78445.1 P.urbanianum 5.8S rRNA gene and ITS1 and ITS2 DNA\n",
      "CGTAACAAGGTTTCCGTAGGTGAACCTGCGGAAGGATCATTGTTGAGATCACATAATAAT\n",
      "TGATCGGGTTAATCTGGAGGATCTGTTTACTTTGGTCACCCATGAGCATTTGCTGTTGAA\n",
      "GTGACCTAGAATTGCCATCGAGCCTCCTTGGGAGCTTTCTTGTTGGCGAGATCTAAACCC\n",
      "TTGCCCGGCGCAGTTTTGCTCCAAGTCGTTTGACACATAATTGGTGAAGGGGGTGGCATC\n",
      "CTTCCCTGACCCTCCCCCAACTATTTTTTTAACAACTCTCAGCAACGGAGACTCAGTCTT\n",
      "CGGCAAATGCGATAAATGGTGTGAATTGCAGAATCCCGTGCACCATCGAGTCTTTGAACG\n",
      "CAAGTTGCGCCCGAGGCCATCAGGCCAAGGGCACGCCTGCCTGGGCATTGCGAGTCATAT\n",
      "CTCTCCCTTAACGAGGCTGTCCATACATACTGTTCAGCCGGTGCGGATGTGAGTTTGGCC\n",
      "CCTTGTTCTTTGGTACGGGGGGTCTAAGAGCTGCATGGGCTTTTGATGGTCCTAAATACG\n",
      "GCAAGAGGTGGACGAACTATGCTACAACAAAATTGTTGTGCAGAGGCCCCGGGTTGTCGT\n",
      "ATTAGATGGGCCACCGTAATCTGAAGACCCTTTTGAACCCCATTGGAGGCCCATCAACCC\n",
      "ATGATCAGTTGATGGCCATTTGGTTGCGACCCCAGGTCAGGTGAGCAACAGCTGT\n",
      ">Z78444.1 P.appletonianum 5.8S rRNA gene and ITS1 and ITS2 DNA\n",
      "CGTAACAAGGTTTCCGTAGGGTGAACTGCGGAAGGATCATTGTTGAGATCACATAATAAT\n",
      "TGATCGAGTTAATCTGGAGGATCTGTTTACTTGGGTCACCCATGGGCATTTGCTGTTGAA\n",
      "GTGACCTAGATTTGCCATCGAGCCTCCTTGGGAGCATCCTTGTTGGCGATATCTAAACCC\n",
      "TCAATTTTTCCCCCAATCAAATTACACAAAATTGGTGGAGGGGGTGGCATTCTTCCCTTA\n",
      "CCCTCCCCCAAATATTTTTTTAACAACTCTCAGCAACGGATATCTCAGCTCTTGCATCGA\n",
      "TGAAGAACCCACCGAAATGCGATAAATGGTGTGAATTGCAGAATCCCGTGAACCATCGAG\n",
      "TCTTTGAACGCAAGTTGCGCCCGAGGCCATCAGGCCAAGGGCACGCCTGCCTGGGCATTG\n",
      "CGAGTCATATCTCTCCCTTAACGAGGCTGTCCATACATACTGTTCAGCCGGTGCGGATGT\n",
      "GAGTTTGGCCCCTTGTTCTTTGGTACGGGGGGTCTAAGAGATGCATGGGCTTTTGATGGT\n",
      "CCTAAATACGGCAAGAGGTGGACGAACTATGCTACAACAAAATTGTTGTGCAAAGGCCCC\n",
      "GGGTTGTCGTATAAGATGGGCCACCGATATCTGAAGACCCTTTTGGACCCCATTGGAGCC\n",
      "CATCAACCCATGTCAGTTGATGGCCATT\n",
      ">Z78443.1 P.lawrenceanum 5.8S rRNA gene and ITS1 and ITS2 DNA\n",
      "CGTAACAAGGTTTCCGTAGGTGAACCTGCGGAAGGATCATTGTTGAGATCACATAATAAT\n",
      "TGATCGAGTTAATCTGGAGGATCTGTTTACTTGGGTCACCCATGGGCATTTGCTGTTGAA\n",
      "GTGACCTAGATTTGCCATCGAGCCTCCTTGGGAGCTTTCTTGTTGGCGATATCTAAACCC\n",
      "TTGCCCGGCAGAGTTTTGGGCCACANNNNNNNNNNNNNNNNNNNNNNNNNNNNNNNNNNN\n",
      "NNNNNNNNNNNNNNNNNNNNNNNNNNNNNNNNNNNNNNNNNNNNNNNNNNNNNNNNNNNN\n",
      "NNNNNNNNNNNNNNNNNNNNNNNNNNNNNNNNNNNNNNNNNNNNNNNNNNNNNNNNNNNN\n",
      "NNNNNNNNNNNNNNNNNNNCAGCGAAATGCGATAATGGTGTGAATTGCAGAATCCCGTGA\n",
      "ACCATCGAGTCTTTGAACGCAAGTTGCGCCCGAGGCCATCAGGCCAAGGGCACGCCTGCC\n",
      "TGGGCATTGCGAGTCATATCTCTCCCTTAACGAGGCTGTCCATACACACCTGTTCAGCCG\n",
      "GTGCGGATGTGAGTTTGGCCCCTTGTTCTTTGGTACGGGGGGTCTAAGAGCTGCATGGGC\n",
      "TTTTGATGGTCCTAAATACGGCAAGAGGTGGACGAACTATGCTACAACAAAATTGTTGTG\n",
      "CAAAGGCCCCGGGTTGTCGTATTAGATGGGCCACCATAATCTGAAGACCCTTTTGAACCC\n",
      "CATTGGAGGCCCATCAACCCATGATCAGTTGATGGCCATTTGGTTGCGACCCAGTCAGGT\n",
      "GAGG\n",
      ">Z78442.1 P.bullenianum 5.8S rRNA gene and ITS1 and ITS2 DNA\n",
      "GTAGGTGAACCTGCGGAAGGATCATTGTTGAGATCACATAATAATTGATCGAGTTAATCT\n",
      "GGAGGATCTGTTTACTTTGGTCACCCATGGGCATTTGCTGTTGAAGTGACCTAGATTTGC\n",
      "CATCGAGCCTCCTTGGGAGCTTTCTTGTTGGCGAGATCTAAACCCTTGCCCGGCGGAGTT\n",
      "TGGCGCCAAGTCATATGACACATAATTGGTGAAGGGGGTGGCATCCTGCCCTGACCCTCC\n",
      "CCAAATTATTTTTTTAACAACTCTCAGCAACGGATATCTCGGCTCTTGCATCGATGAAGA\n",
      "ACGCAGCGAAATGCGATAAATGGTGTGAATTGCAGAATCCCGTGAACCATCGAGTCTTTG\n",
      "GAACGCAAGTTGCGCCCGAGGCCATCAGGCCAAGGGCACGCCTGCCTGGGCATTGGGAAT\n",
      "CATATCTCTCCCCTAACGAGGCTATCCAAACATACTGTTCATCCGGTGCGGATGTGAGTT\n",
      "TGGCCCCTTGTTCTTTGGTACCGGGGGTCTAAGAGCTGCATGGGCATTTGATGGTCCTCA\n",
      "AAACGGCAAGAGGTGGACGAACTATGCCACAACAAAATTGTTGTCCCAAGGCCCCGGGTT\n",
      "GTCGTATTAGATGGGCCACCGTAACCTGAAGACCCTTTTGAACCCCATTGGAGGCCCATC\n",
      "AACCCATGATCAGTTGATGACCATTTGTTGCGACCCCAGTCAGCTGAGCAACCCGCTGAG\n",
      "T\n",
      ">Z78441.1 P.superbiens 5.8S rRNA gene and ITS1 and ITS2 DNA\n",
      "GGAAGGTCATTGCCGATATCACATAATAATTGATCGAGTTAATCTGGAGGATCTGTTTAC\n",
      "TTGGTCACCCATGAGCATTTGCTGTTGAAGTGACCTAGATTTGCCATCGAGCCTCCTTGG\n",
      "GAGTTTTCTTGTTGGCGAGATCTAAACCCTTGCCCGGCGGAGTTGTGCGCCAAGTCATAT\n",
      "GACACATAATTGGTGAAGGGGGTGGCATCCTGCCCTGACCCTCCCCAAATTATTTTTTTA\n",
      "ACAACTCTCAGCAACGGATATCTCGGCTCTTGCATCGATGAAGAACGCAGCGAAATGCGA\n",
      "TAAATGGTGTGAATTGCAGAATCCCGTGAACCATCGAGTCTTTGAACGCAAGTTGCGCCC\n",
      "GAGGCCATCAGGCCAAGGGCACGCCTGCCTGGGCATTGCGAGTCATATCTCTCCCTTAAC\n",
      "GAGGCTGTCCATACATACTGTTCATCCGGTGCGGATGTGAGTTTGGCCCCTTGTTCTTTG\n",
      "GTACGGGGGGTCTAAGAGCTGCATGGGCATTTGATGGTCCTCAAAACGGCAAGAGGTGGA\n",
      "CGAACTATGCTACAACCAAATTGTTGTCCCAAGGCCCCGGGTTGTCGTATTAGATGGGCC\n",
      "ACCGTAACCTGAAGACCCTTTTGAACCCCATTGGAGGCCCATCAACCCATGATCAGTTGA\n",
      "TGACCATGTGTTGCGACCCCAGTCAGCTGAGCAACGCGCTGAG\n",
      ">Z78440.1 P.purpuratum 5.8S rRNA gene and ITS1 and ITS2 DNA\n",
      "CGTAACAAGGTTTCCGTAGGTGGACCTCCGGGAGGATCATTGTTGAGATCACATAATAAT\n",
      "TGATCGAGGTAATCTGGAGGATCTGCATATTTTGGTCACCCATGGGCAATTTCTGTTGTA\n",
      "GTGACCTAGAATTTCCATCGACCCTCCTTGGGAGCATTCTTGTTGGCGAGAACTAAACCC\n",
      "TTACCCGGCGCAGTTTTTCCCCCAATCAAATTACACAAAAATGGTGGAGGGGGTGGCATA\n",
      "TCTTCCCTTACCCTCCCCCAAATAATTTTTTAACAACTCTCAGCAACGGATATCTCAGCT\n",
      "CTTGCATCGTTGAAGAACCCACCGAAATGCGATAAATGGTGTGAATTGCAGAATCCCGTG\n",
      "AACCATCGAGTCTTTGAACGCAAGTTGCGCCCGAGGCCATCAGGCCAAGGGCACGCCTGC\n",
      "CTGGGCATTGCGAGTCATATCTCTCCCTTAACGAGGCTGTCCATACATACTGTTCAGCCG\n",
      "GTGCGGATGTGAGTTTGGCCCCTTGTTCTTTGCTACGGGGGGTCTAAGAGCTGCATGGGC\n",
      "TTTTGATGGTCCTAAATACGGCAAGAGGTGGACGAACTATGCTACAGCAAAATTGTTGTG\n",
      "CAAAGGCCCCGGGTTGTCGTATTAGATGGGCCACCGTAATCTGAAGACCCTTTTGAACCC\n",
      "CATTGGAGGCCCATCAACCCATGATCAGTTGATGGCCATTTGGTTGCGACCCCAGGTCAG\n",
      "GTGAGGCAACCCCTGAGTTTAGCA\n",
      ">Z78439.1 P.barbatum 5.8S rRNA gene and ITS1 and ITS2 DNA\n",
      "CATTGTTGAGATCACATAATAATTGATCGAGTTAATCTGGAGGATCTGTTTACTTTGGTC\n",
      "ACCCATGGGCATTTGCTGTTGAAGTGACCTAGATTTGCCATCGAGCCTCCTTGGGAGCTT\n",
      "TCTTGTTGGCGAGATCTAAACCCCTGCCCGGCGGAGTTGGGCGCCAAGTCATATGACACA\n",
      "TAATTGGTGAAGGGGGTGGTAATCCTGCCCTGACCCTCCCCAAATTATTTTTTTAACAAC\n",
      "TCTCAGCAACGGATATCTCGGCTCTTGCATCGATGAAGAACGCAGCGAAATGCGATAATG\n",
      "GTGTGAATTGCAGAATCCCGTGAACATCGAGTCTTTGAACGCAAGTTGCGCCCGAGGCCA\n",
      "TCAGGCCAAGGGCACGCCTGCCTGGGCATTGCGAGTCATATCTCTCCCTTAATGAGGCTG\n",
      "TCCATACATACTGTTCAGCCGGTGCGGATGTGAGTTTGGCCCCTTGTTCTTTGGTACGGG\n",
      "GGGTCTAAGAGCTGCATGGGCTTTGGATGGTCCTAAATACGGAAAGAGGTGGACGAACTA\n",
      "TGCTACAACAAAATTGTTGTGCAAATGCCCCGGTTGGCCGTTTAGTTGGGCC\n",
      "\n"
     ]
    }
   ],
   "source": [
    "from Bio import SeqIO\n",
    "from io import StringIO\n",
    "\n",
    "records = SeqIO.parse('ls_orchid.gbk', 'genbank')\n",
    "out_handle = StringIO()\n",
    "SeqIO.write(records, out_handle, 'fasta')\n",
    "fasta_data = out_handle.getvalue()\n",
    "print(fasta_data)"
   ]
  },
  {
   "cell_type": "markdown",
   "metadata": {},
   "source": [
    "### Multiple Sequence Alignments"
   ]
  },
  {
   "cell_type": "markdown",
   "metadata": {},
   "source": [
    "Parsing or Reading MSAs (multiple sequence alignments)"
   ]
  },
  {
   "cell_type": "code",
   "execution_count": 1,
   "metadata": {},
   "outputs": [
    {
     "name": "stdout",
     "output_type": "stream",
     "text": [
      "Alignment with 69 rows and 64 columns\n",
      "LFMVTDAQAAALVAN------ITVTDIVDQLK--AGAPAIVSIA...GAL I3CK69_9GAMM/17-72\n",
      "LLFLSSWSVSATPFY------LVVDDVVDQIA--EGAFPVLAIG...GAM I3CE12_9GAMM/11-66\n",
      "SLLLFSGVASAAPIT------MDVSEVVDQIK--AAAVPILSVG...GAM I3CE11_9GAMM/21-76\n",
      "VTAALTLPAFAAAAQ------PDVTEVVAYIL--AGIATIALVG...GVL A0A328ZKQ2_9BURK/30-85\n",
      "LVLASPMALAQTGPT------IDVSSVTGFID-GQLIPGLGTIG...GAA A0A318DYR2_9GAMM/20-76\n",
      "LLLATSAMASSAFAE------IDVSAATTAIS-TDGSTAITAVG...GAI A0A081KB79_9GAMM/9-65\n",
      "LLVASALMSSSVFAA------IDISAATTALT-TDGSAAITAVG...GAI A0A081K835_9GAMM/9-65\n",
      "LAMGTVLSANAAATT------IDTTDVLLSIA--AAVVAIVAVG...AAM A0A1H0GMS3_9BURK/27-82\n",
      "LSTAAAFVGAQAQAA------IDVTAVGTEIE--AAGNAASSTG...GLI A0A1H4H7Y8_9GAMM/12-67\n",
      "LSGVALTVGAGLAHA------IDTTKVGASIT--AAETDALTTG...GIV A0A1I1EUT2_9GAMM/16-71\n",
      "AGFAANAPVFAADGQ------LDTTSVQAGID--AAKATGLSVG...GLV A0A261GG07_9GAMM/20-75\n",
      "TAVATATLVSATANA------EDLSSITGKINLKSASTGIVAVG...GFL Q7VLI9_HAEDU/13-70\n",
      "LVTAPALAFAEASTATS----FDVSAITGQISFASVAAGVIAIA...GMI A0A239SNN7_9BURK/21-80\n",
      "TGMAMSAVAFADDKI------PDASVVVSSLE--ALATPIAAVG...SLI A0A1T0CH46_9GAMM/17-72\n",
      "AGVVAASAVVANAAP------IDPAPVVSSIG--SNEPAVIAIG...RMM A0A433SGY4_9BURK/17-72\n",
      "AGSAMADAAGAPAST------IDTTAAVQQIN--GLTVGISAIG...GFV A0A494XB31_9BURK/17-72\n",
      "LASAGAFAADAGTPT------MDVTSVVASIN--GVGPNIVLVG...SFI Q63PM2_BURPS/11-66\n",
      "AAGASVGAFAQTPTGSGAT--FDTTAIVSSIN--NVAPAIVAVG...SFL A0A1I3G1F0_9BURK/24-83\n",
      "...\n",
      "VAMSAGIANANTPTA------PDLTPIVTMIT--GLASVVGSIG...TAF A0A1B8PL66_MORNO/32-87\n"
     ]
    }
   ],
   "source": [
    "from Bio import AlignIO\n",
    "alignment = AlignIO.read('PF05371_seed.sth', 'stockholm')\n",
    "print(alignment)"
   ]
  },
  {
   "cell_type": "code",
   "execution_count": 3,
   "metadata": {},
   "outputs": [
    {
     "name": "stdout",
     "output_type": "stream",
     "text": [
      "Alignment length 64\n",
      "LFMVTDAQAAALVAN------ITVTDIVDQLK--AGAPAIVSIATAAISLLAVIAVFKYVRGAL-I3CK69_9GAMM/17-72\n",
      "LLFLSSWSVSATPFY------LVVDDVVDQIA--EGAFPVLAIGLASLTILAIVAMIRWARGAM-I3CE12_9GAMM/11-66\n",
      "SLLLFSGVASAAPIT------MDVSEVVDQIK--AAAVPILSVGVAALTVLAIVAMVRWARGAM-I3CE11_9GAMM/21-76\n",
      "VTAALTLPAFAAAAQ------PDVTEVVAYIL--AGIATIALVGNAGLMVRGATAVFAWIRGVL-A0A328ZKQ2_9BURK/30-85\n",
      "LVLASPMALAQTGPT------IDVSSVTGFID-GQLIPGLGTIGTAFLLVAVLFAAYRWIRGAA-A0A318DYR2_9GAMM/20-76\n",
      "LLLATSAMASSAFAE------IDVSAATTAIS-TDGSTAITAVGTALIGVAALAVVFKWVKGAI-A0A081KB79_9GAMM/9-65\n",
      "LLVASALMSSSVFAA------IDISAATTALT-TDGSAAITAVGTALVGLAGIAVVFKWVKGAI-A0A081K835_9GAMM/9-65\n",
      "LAMGTVLSANAAATT------IDTTDVLLSIA--AAVVAIVAVGGAVLGLQVAVKAFKWVRAAM-A0A1H0GMS3_9BURK/27-82\n",
      "LSTAAAFVGAQAQAA------IDVTAVGTEIE--AAGNAASSTGTYVIAAVAAVCGVGLIIGLI-A0A1H4H7Y8_9GAMM/12-67\n",
      "LSGVALTVGAGLAHA------IDTTKVGASIT--AAETDALTTGEFVIGSVASLVVIGLIIGIV-A0A1I1EUT2_9GAMM/16-71\n",
      "AGFAANAPVFAADGQ------LDTTSVQAGID--AAKATGLSVGAMVVAAVASMVVVGIVIGLV-A0A261GG07_9GAMM/20-75\n",
      "TAVATATLVSATANA------EDLSSITGKINLKSASTGIVAVGAAVGGFLVVALGVRYVLGFL-Q7VLI9_HAEDU/13-70\n",
      "LVTAPALAFAEASTATS----FDVSAITGQISFASVAAGVIAIAGLLAGVYVAIKSAKVILGMI-A0A239SNN7_9BURK/21-80\n",
      "TGMAMSAVAFADDKI------PDASVVVSSLE--ALATPIAAVGGAYLGVRVGIRGWKILRSLI-A0A1T0CH46_9GAMM/17-72\n",
      "AGVVAASAVVANAAP------IDPAPVVSSIG--SNEPAVIAIGGAIIAILAVVLGFKLIKRMM-A0A433SGY4_9BURK/17-72\n",
      "AGSAMADAAGAPAST------IDTTAAVQQIN--GLTVGISAIGGALIAVAVLALGYRLMKGFV-A0A494XB31_9BURK/17-72\n",
      "LASAGAFAADAGTPT------MDVTSVVASIN--GVGPNIVLVGGAVLAVAAVTFGYRTVRSFI-Q63PM2_BURPS/11-66\n",
      "AAGASVGAFAQTPTGSGAT--FDTTAIVSSIN--NVAPAIVAVGGAVLGVVAVAWGIKMVRSFL-A0A1I3G1F0_9BURK/24-83\n",
      "AAGLASVAAFAQTSGSGATPAFDDTAILSSIN--GVAPIIIDIGGAVLAVVVVAWGYKTVKSFL-A0A1L6I9C9_9BURK/21-82\n",
      "AGVVASTGAFAQASG------VDVTSTVTAIN--NVVPSLIAIGGATLAVVVVAWGYKTVKGFL-A0A2N7WE22_9BURK/13-68\n",
      "GLVAGSLSPLFAFAA------VDTTDIVSTIG--EAATAGAAIGVAVLSMHYGIKLYKWIKGAG-A0A2Z6E656_9GAMM/11-66\n",
      "VVVAGTLIAAPAFAA------VDVSAVLAEMG--EAQKAIALIGTAALSIYVGIKVYKWAKNAL-A0A0X8GL57_9BURK/13-68\n",
      "LGLSVAVVTSPVFAA------VDTSVVTGELA--EAGKAVGVVGGAILSVYIGIKVYSFIKKAM-A0A109RV41_9BURK/10-65\n",
      "GLIGLSLSTGANAAAL-----IDTSAVVSAIS--EGVTIISAIGVAILSLVVVIKLFKWVQRVL-A0A1H9KTC7_9BURK/31-87\n",
      "GAMAAAGGAHAATTT------IDTTEIVATIS--AGVTAISAIGVAVISLVVVIKLYKWVQRVL-C5T356_ACIDE/36-91\n",
      "AVGAAVAAGSAMAEG------VDVSAVVTTLG--TGVAAIGLIGVAILGLAAVVAIYNWVRKPI-Q6UAZ5_9VIRU/11-66\n",
      "VGMVSSAAFAQGTGG------VDVSSVTAALT--AAAAAIATIGVAWLAMTVGARVYKWVKSAI-A0A3S0RMX7_9GAMM/16-71\n",
      "AGAVVATAGTSAFAD------YDVTEIVSNLG--LAVTAAATIGVAWLGFTAGIAIWRNLRAAA-A0A1G6HAY5_9GAMM/29-84\n",
      "AGVGGAVAAGAANAA------IDLTAVTTAIG--DAGTAVGTIGSAVLVVIVGIAVYMWVRRPI-E5F071_9VIRU/13-68\n",
      "AIGVLALSSAQAQAA------LDLSELTTQME--GVKTAVTAVIAVALTIGVAIVGWRWVKRAL-A0A1T0CDG2_9GAMM/30-85\n",
      "ALAGSLLSVGSAHAA------VDVTAVTTEIS--GAAAPIAAIGGAVLVILVTAAVYKWVRRAL-G8QN66_AZOOP/10-65\n",
      "LMTGVVMAQTSGGAA------DLTAAVTGELS--DGKAQLYVIGGAVLTLVAVVALIRHMRRAA-A0A160MYR4_9GAMM/18-73\n",
      "AVLGSAFVATSANAA------IDVGSIVTEMT--SNQAAIVSVGGAGLLLFAAAAVFRYIKRAF-A0A2Z3HZ17_9GAMM/13-68\n",
      "AGVATAMLSTGAMAV------IDTTAAVAEID--GGATAVSAIGGAALVVLAAAAVFKYVRRAL-A0A1G5PU74_9GAMM/13-68\n",
      "TVAASTLVLAQSAHAA-----IDTGAVVSALT--DAAAAVAIVGAIVLTVQVAIKAYKFIARAL-A0A2S9GTJ6_9BURK/16-72\n",
      "AVALGGAVVLEQSAS------ADVSAVTGALT--AVGTDAATLGAAVLVVIVAVMAFKYLRKAL-A0A1Z4C4H7_9GAMM/36-91\n",
      "AVAATGLMVAQQAQA------AIPTEAQAALD--AAKEDGPAIAAIVLGIIIAIAAFKYIRRAL-A0A1E4UZP9_9PSED/13-68\n",
      "AVAAGSALIGSSAFA------AVPAEATTALT--TAGADVGTIGWAVFGVLVAAAAFKYMRRAL-A0A2I0CRA4_9PSED/11-66\n",
      "AAAAVGLLTVQQAYA------AVPTEATDSLD--TAGTDVGTIGWGVFAVIIAAMAFKYMRRAL-A0A0T6UQG1_9PSED/14-69\n",
      "GVSAGSLALAAQVHA------AVPADATGALD--TAKTDVGTIGWAVFAVIVAAVAFKYMRRAL-A0A1H3AFZ2_9PSED/25-80\n",
      "GAAAALSTLAGTVYA------AVPPEATGALD--EAGTDVGTIGWAVFAVIIAAMAFKYMRRAL-A0A658GHC3_9PSED/14-69\n",
      "GAAGAALVLASQAHA------ALPTEVTTAIT--AAGTDLLAAVTAVIVAFVAFWGMRKLASKM-A0A1C9VG81_9BURK/9-64\n",
      "KLLIVPALYAGYAAA------ALPPEVQQTID--STKEDITTVGAALVVLAVVVMGFRWLKAQF-A0A380MVN1_9GAMM/3-58\n",
      "SVFSVTALFGSQAFA------ALSSDVVASLE--GAKDDIIQAGGLVLIALVAVAAFRYIRRAF-A0A139SRG1_9GAMM/16-71\n",
      "AYASPLVLFAASARA------DLPEDVTTAIT--AAKADIAAAGALVITIVVGIKVWKWITRVF-Q82W09_NITEU/12-67\n",
      "FLLTLSLFMQAAAFA------AVPEGVTTAIT--SAATDVATVGAAVILVHIGIKVWRWIRGAF-F9ZKI0_9PROT/23-78\n",
      "VAGSASLTFAGNALA------AVPEGVTTAIT--SAATDVATVGAAVILVHIGIKVWRWLKAAF-F9ZKG9_9PROT/58-113\n",
      "AAATGLMALAVGANA------AVPAEVTSALT--DAKADALSVGGIVLGIIVSIFALMLIRRVL-V9HBT7_9NEIS/20-75\n",
      "AVGTAALAVSSGASA------AIPPEVTKAIT--DGFADAQLVAYAILTGLAVIYGISLAKRLL-A0A238TEF6_9NEIS/20-75\n",
      "ATGTGLMSLAISANA------ALPDDVKNAIS--AAKADGLEAGWLVVSVIAALFVMSIVKRLL-U6Q1F0_9NEIS/20-75\n",
      "AAFGGVMALPAMAMA------ALPDGVKTALE--GAKADGLEAGWLVIGVLAAIFVIGLIRRVM-G4CLJ9_9NEIS/15-70\n",
      "VVTAAPLALAAQANA------ALPETAKNALE--AAKADGMEAGWIVVGVFAALFVFSIVKRVM-Q5F7M7_NEIG1/16-71\n",
      "ALASVMMSAVVAAQA------AIPESVKTEIG--TAKTDVTELAGLVLGVLVVAFGYKMIKRFL-C4GK32_9NEIS/14-69\n",
      "AAIAAGTSLAVSAHA------AIPENVNTALG--SLSTDALTVAGIVLAAIVAVYAFKFIRKGL-A0A1G7EGK8_9BURK/12-67\n",
      "AVPALAVVAMGNAHA------ELPTEVTTALG--SLSTDALKVAGIVLAAIVAVYAFKFIRKGL-A9BV77_DELAS/18-73\n",
      "LIPAALVATVGTAHA------EIPAGVTAALD--SLSADALTVAGIVLAAVVAVYAFKFIRKGL-A0A2P1NLD6_9BURK/11-66\n",
      "AAFVVTNFFASVAHA------AVPASVTTGIG--DAVADVGAIGALVMGVIVAIVAFVWLKRVL-A0A1I2G4V6_9PROT/51-106\n",
      "TMVACLFVLPSIAFA------AVPASVTTAIT--DAVADVSTIGAAILGVIVVIASFMWMRRPI-A0A1I3YJU6_9PROT/62-117\n",
      "LAGTSLLILPAAASA------AVPAEVTTAIT--EAVTDVGTIGAAILGIIVVIASFAWLRRPI-A0A328ZTW0_9PROT/33-88\n",
      "APVAGLMAVAAGAHA------EVPAEVTTAIT--SAGTDAGVVGAAVLVVIIGIATFKFLRRAV-G2J4U2_PSEUL/11-66\n",
      "AVVSPVALFAGAAHA------ELPASVTTALG--DGLTDVGVVGAAVFLIVIAIAVWKYLKRAP-A0A323UTH4_9RHOO/20-75\n",
      "KVAGVTAVGVGSAVA------AVPENVTTAMS--DGLTDVKTVAAAGLIIVIAIVVFKYMKRGA-A0A172UEF2_9GAMM/11-66\n",
      "AVAAGTVALAGSAMA------EVPTDVATAMS--DSKADTATLAGLALIIVIGIATFKYMRRSV-A0A097ZPH4_9VIRU/11-66\n",
      "ATIAAPAFASGGSSG------VDVSAVVSAIN--AASTPIASIGAAVLIVMVGTKVYKWIRRAM-D2UDQ2_XANAP/17-72\n",
      "ALGALALVPAVSFAA------VDVAEVVTEIE--GAATPIAAIGAAVLLVMVGIKVFKWVRRAM-N6YCM5_9RHOO/8-63\n",
      "AAAAALAAGGANAAA------VDVAAVVTDIG--AQAAPIGLIGAAVLLIYVGVKAFQWVRKAL-A0A432L6P6_9BACI/15-70\n",
      "AAALLAVAVPSQAAA------VDVAAVVTDIG--AQIAPITAIGGAVLLVVVAIKAFKWVRRAL-A0A147GSC6_9BURK/16-71\n",
      "IAMFGAIGPAAAQSA------VDVSDVVTEIG--NAIGPVGQIGGAVLLVLVAIKVYKWVRRAF-A0A1B3WBW3_9GAMM/2-57\n",
      "VAMSAGIANANTPTA------PDLTPIVTMIT--GLASVVGSIGMAVLTVYATAKVFKWVKTAF-A0A1B8PL66_MORNO/32-87\n"
     ]
    }
   ],
   "source": [
    "from Bio import AlignIO\n",
    "alignment = AlignIO.read('PF05371_seed.sth', 'stockholm')\n",
    "print('Alignment length %i' % alignment.get_alignment_length())\n",
    "\n",
    "for record in alignment:\n",
    "    print('%s-%s' % (record.seq, record.id))"
   ]
  },
  {
   "cell_type": "code",
   "execution_count": 6,
   "metadata": {},
   "outputs": [],
   "source": [
    "for record in alignment:\n",
    "    if record.dbxrefs:\n",
    "        print('%s %s' % (record.id, record.dbxrefs))"
   ]
  },
  {
   "cell_type": "code",
   "execution_count": 7,
   "metadata": {},
   "outputs": [
    {
     "name": "stdout",
     "output_type": "stream",
     "text": [
      "ID: I3CK69_9GAMM/17-72\n",
      "Name: I3CK69_9GAMM\n",
      "Description: I3CK69_9GAMM/17-72\n",
      "Number of features: 0\n",
      "/accession=I3CK69.1\n",
      "/start=17\n",
      "/end=72\n",
      "Seq('LFMVTDAQAAALVAN------ITVTDIVDQLK--AGAPAIVSIATAAISLLAVI...GAL')\n",
      "ID: I3CE12_9GAMM/11-66\n",
      "Name: I3CE12_9GAMM\n",
      "Description: I3CE12_9GAMM/11-66\n",
      "Number of features: 0\n",
      "/accession=I3CE12.1\n",
      "/start=11\n",
      "/end=66\n",
      "Seq('LLFLSSWSVSATPFY------LVVDDVVDQIA--EGAFPVLAIGLASLTILAIV...GAM')\n",
      "ID: I3CE11_9GAMM/21-76\n",
      "Name: I3CE11_9GAMM\n",
      "Description: I3CE11_9GAMM/21-76\n",
      "Number of features: 0\n",
      "/accession=I3CE11.1\n",
      "/start=21\n",
      "/end=76\n",
      "Seq('SLLLFSGVASAAPIT------MDVSEVVDQIK--AAAVPILSVGVAALTVLAIV...GAM')\n",
      "ID: A0A328ZKQ2_9BURK/30-85\n",
      "Name: A0A328ZKQ2_9BURK\n",
      "Description: A0A328ZKQ2_9BURK/30-85\n",
      "Number of features: 0\n",
      "/accession=A0A328ZKQ2.1\n",
      "/start=30\n",
      "/end=85\n",
      "Seq('VTAALTLPAFAAAAQ------PDVTEVVAYIL--AGIATIALVGNAGLMVRGAT...GVL')\n",
      "ID: A0A318DYR2_9GAMM/20-76\n",
      "Name: A0A318DYR2_9GAMM\n",
      "Description: A0A318DYR2_9GAMM/20-76\n",
      "Number of features: 0\n",
      "/accession=A0A318DYR2.1\n",
      "/start=20\n",
      "/end=76\n",
      "Seq('LVLASPMALAQTGPT------IDVSSVTGFID-GQLIPGLGTIGTAFLLVAVLF...GAA')\n",
      "ID: A0A081KB79_9GAMM/9-65\n",
      "Name: A0A081KB79_9GAMM\n",
      "Description: A0A081KB79_9GAMM/9-65\n",
      "Number of features: 0\n",
      "/accession=A0A081KB79.1\n",
      "/start=9\n",
      "/end=65\n",
      "Seq('LLLATSAMASSAFAE------IDVSAATTAIS-TDGSTAITAVGTALIGVAALA...GAI')\n",
      "ID: A0A081K835_9GAMM/9-65\n",
      "Name: A0A081K835_9GAMM\n",
      "Description: A0A081K835_9GAMM/9-65\n",
      "Number of features: 0\n",
      "/accession=A0A081K835.1\n",
      "/start=9\n",
      "/end=65\n",
      "Seq('LLVASALMSSSVFAA------IDISAATTALT-TDGSAAITAVGTALVGLAGIA...GAI')\n",
      "ID: A0A1H0GMS3_9BURK/27-82\n",
      "Name: A0A1H0GMS3_9BURK\n",
      "Description: A0A1H0GMS3_9BURK/27-82\n",
      "Number of features: 0\n",
      "/accession=A0A1H0GMS3.1\n",
      "/start=27\n",
      "/end=82\n",
      "Seq('LAMGTVLSANAAATT------IDTTDVLLSIA--AAVVAIVAVGGAVLGLQVAV...AAM')\n",
      "ID: A0A1H4H7Y8_9GAMM/12-67\n",
      "Name: A0A1H4H7Y8_9GAMM\n",
      "Description: A0A1H4H7Y8_9GAMM/12-67\n",
      "Number of features: 0\n",
      "/accession=A0A1H4H7Y8.1\n",
      "/start=12\n",
      "/end=67\n",
      "Seq('LSTAAAFVGAQAQAA------IDVTAVGTEIE--AAGNAASSTGTYVIAAVAAV...GLI')\n",
      "ID: A0A1I1EUT2_9GAMM/16-71\n",
      "Name: A0A1I1EUT2_9GAMM\n",
      "Description: A0A1I1EUT2_9GAMM/16-71\n",
      "Number of features: 0\n",
      "/accession=A0A1I1EUT2.1\n",
      "/start=16\n",
      "/end=71\n",
      "Seq('LSGVALTVGAGLAHA------IDTTKVGASIT--AAETDALTTGEFVIGSVASL...GIV')\n",
      "ID: A0A261GG07_9GAMM/20-75\n",
      "Name: A0A261GG07_9GAMM\n",
      "Description: A0A261GG07_9GAMM/20-75\n",
      "Number of features: 0\n",
      "/accession=A0A261GG07.1\n",
      "/start=20\n",
      "/end=75\n",
      "Seq('AGFAANAPVFAADGQ------LDTTSVQAGID--AAKATGLSVGAMVVAAVASM...GLV')\n",
      "ID: Q7VLI9_HAEDU/13-70\n",
      "Name: Q7VLI9_HAEDU\n",
      "Description: Q7VLI9_HAEDU/13-70\n",
      "Number of features: 0\n",
      "/accession=Q7VLI9.1\n",
      "/start=13\n",
      "/end=70\n",
      "Seq('TAVATATLVSATANA------EDLSSITGKINLKSASTGIVAVGAAVGGFLVVA...GFL')\n",
      "ID: A0A239SNN7_9BURK/21-80\n",
      "Name: A0A239SNN7_9BURK\n",
      "Description: A0A239SNN7_9BURK/21-80\n",
      "Number of features: 0\n",
      "/accession=A0A239SNN7.1\n",
      "/start=21\n",
      "/end=80\n",
      "Seq('LVTAPALAFAEASTATS----FDVSAITGQISFASVAAGVIAIAGLLAGVYVAI...GMI')\n",
      "ID: A0A1T0CH46_9GAMM/17-72\n",
      "Name: A0A1T0CH46_9GAMM\n",
      "Description: A0A1T0CH46_9GAMM/17-72\n",
      "Number of features: 0\n",
      "/accession=A0A1T0CH46.1\n",
      "/start=17\n",
      "/end=72\n",
      "Seq('TGMAMSAVAFADDKI------PDASVVVSSLE--ALATPIAAVGGAYLGVRVGI...SLI')\n",
      "ID: A0A433SGY4_9BURK/17-72\n",
      "Name: A0A433SGY4_9BURK\n",
      "Description: A0A433SGY4_9BURK/17-72\n",
      "Number of features: 0\n",
      "/accession=A0A433SGY4.1\n",
      "/start=17\n",
      "/end=72\n",
      "Seq('AGVVAASAVVANAAP------IDPAPVVSSIG--SNEPAVIAIGGAIIAILAVV...RMM')\n",
      "ID: A0A494XB31_9BURK/17-72\n",
      "Name: A0A494XB31_9BURK\n",
      "Description: A0A494XB31_9BURK/17-72\n",
      "Number of features: 0\n",
      "/accession=A0A494XB31.1\n",
      "/start=17\n",
      "/end=72\n",
      "Seq('AGSAMADAAGAPAST------IDTTAAVQQIN--GLTVGISAIGGALIAVAVLA...GFV')\n",
      "ID: Q63PM2_BURPS/11-66\n",
      "Name: Q63PM2_BURPS\n",
      "Description: Q63PM2_BURPS/11-66\n",
      "Number of features: 0\n",
      "/accession=Q63PM2.1\n",
      "/start=11\n",
      "/end=66\n",
      "Seq('LASAGAFAADAGTPT------MDVTSVVASIN--GVGPNIVLVGGAVLAVAAVT...SFI')\n",
      "ID: A0A1I3G1F0_9BURK/24-83\n",
      "Name: A0A1I3G1F0_9BURK\n",
      "Description: A0A1I3G1F0_9BURK/24-83\n",
      "Number of features: 0\n",
      "/accession=A0A1I3G1F0.1\n",
      "/start=24\n",
      "/end=83\n",
      "Seq('AAGASVGAFAQTPTGSGAT--FDTTAIVSSIN--NVAPAIVAVGGAVLGVVAVA...SFL')\n",
      "ID: A0A1L6I9C9_9BURK/21-82\n",
      "Name: A0A1L6I9C9_9BURK\n",
      "Description: A0A1L6I9C9_9BURK/21-82\n",
      "Number of features: 0\n",
      "/accession=A0A1L6I9C9.1\n",
      "/start=21\n",
      "/end=82\n",
      "Seq('AAGLASVAAFAQTSGSGATPAFDDTAILSSIN--GVAPIIIDIGGAVLAVVVVA...SFL')\n",
      "ID: A0A2N7WE22_9BURK/13-68\n",
      "Name: A0A2N7WE22_9BURK\n",
      "Description: A0A2N7WE22_9BURK/13-68\n",
      "Number of features: 0\n",
      "/accession=A0A2N7WE22.1\n",
      "/start=13\n",
      "/end=68\n",
      "Seq('AGVVASTGAFAQASG------VDVTSTVTAIN--NVVPSLIAIGGATLAVVVVA...GFL')\n",
      "ID: A0A2Z6E656_9GAMM/11-66\n",
      "Name: A0A2Z6E656_9GAMM\n",
      "Description: A0A2Z6E656_9GAMM/11-66\n",
      "Number of features: 0\n",
      "/accession=A0A2Z6E656.1\n",
      "/start=11\n",
      "/end=66\n",
      "Seq('GLVAGSLSPLFAFAA------VDTTDIVSTIG--EAATAGAAIGVAVLSMHYGI...GAG')\n",
      "ID: A0A0X8GL57_9BURK/13-68\n",
      "Name: A0A0X8GL57_9BURK\n",
      "Description: A0A0X8GL57_9BURK/13-68\n",
      "Number of features: 0\n",
      "/accession=A0A0X8GL57.1\n",
      "/start=13\n",
      "/end=68\n",
      "Seq('VVVAGTLIAAPAFAA------VDVSAVLAEMG--EAQKAIALIGTAALSIYVGI...NAL')\n",
      "ID: A0A109RV41_9BURK/10-65\n",
      "Name: A0A109RV41_9BURK\n",
      "Description: A0A109RV41_9BURK/10-65\n",
      "Number of features: 0\n",
      "/accession=A0A109RV41.1\n",
      "/start=10\n",
      "/end=65\n",
      "Seq('LGLSVAVVTSPVFAA------VDTSVVTGELA--EAGKAVGVVGGAILSVYIGI...KAM')\n",
      "ID: A0A1H9KTC7_9BURK/31-87\n",
      "Name: A0A1H9KTC7_9BURK\n",
      "Description: A0A1H9KTC7_9BURK/31-87\n",
      "Number of features: 0\n",
      "/accession=A0A1H9KTC7.1\n",
      "/start=31\n",
      "/end=87\n",
      "Seq('GLIGLSLSTGANAAAL-----IDTSAVVSAIS--EGVTIISAIGVAILSLVVVI...RVL')\n",
      "ID: C5T356_ACIDE/36-91\n",
      "Name: C5T356_ACIDE\n",
      "Description: C5T356_ACIDE/36-91\n",
      "Number of features: 0\n",
      "/accession=C5T356.1\n",
      "/start=36\n",
      "/end=91\n",
      "Seq('GAMAAAGGAHAATTT------IDTTEIVATIS--AGVTAISAIGVAVISLVVVI...RVL')\n",
      "ID: Q6UAZ5_9VIRU/11-66\n",
      "Name: Q6UAZ5_9VIRU\n",
      "Description: Q6UAZ5_9VIRU/11-66\n",
      "Number of features: 0\n",
      "/accession=Q6UAZ5.1\n",
      "/start=11\n",
      "/end=66\n",
      "Seq('AVGAAVAAGSAMAEG------VDVSAVVTTLG--TGVAAIGLIGVAILGLAAVV...KPI')\n",
      "ID: A0A3S0RMX7_9GAMM/16-71\n",
      "Name: A0A3S0RMX7_9GAMM\n",
      "Description: A0A3S0RMX7_9GAMM/16-71\n",
      "Number of features: 0\n",
      "/accession=A0A3S0RMX7.1\n",
      "/start=16\n",
      "/end=71\n",
      "Seq('VGMVSSAAFAQGTGG------VDVSSVTAALT--AAAAAIATIGVAWLAMTVGA...SAI')\n",
      "ID: A0A1G6HAY5_9GAMM/29-84\n",
      "Name: A0A1G6HAY5_9GAMM\n",
      "Description: A0A1G6HAY5_9GAMM/29-84\n",
      "Number of features: 0\n",
      "/accession=A0A1G6HAY5.1\n",
      "/start=29\n",
      "/end=84\n",
      "Seq('AGAVVATAGTSAFAD------YDVTEIVSNLG--LAVTAAATIGVAWLGFTAGI...AAA')\n",
      "ID: E5F071_9VIRU/13-68\n",
      "Name: E5F071_9VIRU\n",
      "Description: E5F071_9VIRU/13-68\n",
      "Number of features: 0\n",
      "/accession=E5F071.1\n",
      "/start=13\n",
      "/end=68\n",
      "Seq('AGVGGAVAAGAANAA------IDLTAVTTAIG--DAGTAVGTIGSAVLVVIVGI...RPI')\n",
      "ID: A0A1T0CDG2_9GAMM/30-85\n",
      "Name: A0A1T0CDG2_9GAMM\n",
      "Description: A0A1T0CDG2_9GAMM/30-85\n",
      "Number of features: 0\n",
      "/accession=A0A1T0CDG2.1\n",
      "/start=30\n",
      "/end=85\n",
      "Seq('AIGVLALSSAQAQAA------LDLSELTTQME--GVKTAVTAVIAVALTIGVAI...RAL')\n",
      "ID: G8QN66_AZOOP/10-65\n",
      "Name: G8QN66_AZOOP\n",
      "Description: G8QN66_AZOOP/10-65\n",
      "Number of features: 0\n",
      "/accession=G8QN66.1\n",
      "/start=10\n",
      "/end=65\n",
      "Seq('ALAGSLLSVGSAHAA------VDVTAVTTEIS--GAAAPIAAIGGAVLVILVTA...RAL')\n",
      "ID: A0A160MYR4_9GAMM/18-73\n",
      "Name: A0A160MYR4_9GAMM\n",
      "Description: A0A160MYR4_9GAMM/18-73\n",
      "Number of features: 0\n",
      "/accession=A0A160MYR4.1\n",
      "/start=18\n",
      "/end=73\n",
      "Seq('LMTGVVMAQTSGGAA------DLTAAVTGELS--DGKAQLYVIGGAVLTLVAVV...RAA')\n",
      "ID: A0A2Z3HZ17_9GAMM/13-68\n",
      "Name: A0A2Z3HZ17_9GAMM\n",
      "Description: A0A2Z3HZ17_9GAMM/13-68\n",
      "Number of features: 0\n",
      "/accession=A0A2Z3HZ17.1\n",
      "/start=13\n",
      "/end=68\n",
      "Seq('AVLGSAFVATSANAA------IDVGSIVTEMT--SNQAAIVSVGGAGLLLFAAA...RAF')\n",
      "ID: A0A1G5PU74_9GAMM/13-68\n",
      "Name: A0A1G5PU74_9GAMM\n",
      "Description: A0A1G5PU74_9GAMM/13-68\n",
      "Number of features: 0\n",
      "/accession=A0A1G5PU74.1\n",
      "/start=13\n",
      "/end=68\n",
      "Seq('AGVATAMLSTGAMAV------IDTTAAVAEID--GGATAVSAIGGAALVVLAAA...RAL')\n",
      "ID: A0A2S9GTJ6_9BURK/16-72\n",
      "Name: A0A2S9GTJ6_9BURK\n",
      "Description: A0A2S9GTJ6_9BURK/16-72\n",
      "Number of features: 0\n",
      "/accession=A0A2S9GTJ6.1\n",
      "/start=16\n",
      "/end=72\n",
      "Seq('TVAASTLVLAQSAHAA-----IDTGAVVSALT--DAAAAVAIVGAIVLTVQVAI...RAL')\n",
      "ID: A0A1Z4C4H7_9GAMM/36-91\n",
      "Name: A0A1Z4C4H7_9GAMM\n",
      "Description: A0A1Z4C4H7_9GAMM/36-91\n",
      "Number of features: 0\n",
      "/accession=A0A1Z4C4H7.1\n",
      "/start=36\n",
      "/end=91\n",
      "Seq('AVALGGAVVLEQSAS------ADVSAVTGALT--AVGTDAATLGAAVLVVIVAV...KAL')\n",
      "ID: A0A1E4UZP9_9PSED/13-68\n",
      "Name: A0A1E4UZP9_9PSED\n",
      "Description: A0A1E4UZP9_9PSED/13-68\n",
      "Number of features: 0\n",
      "/accession=A0A1E4UZP9.1\n",
      "/start=13\n",
      "/end=68\n",
      "Seq('AVAATGLMVAQQAQA------AIPTEAQAALD--AAKEDGPAIAAIVLGIIIAI...RAL')\n",
      "ID: A0A2I0CRA4_9PSED/11-66\n",
      "Name: A0A2I0CRA4_9PSED\n",
      "Description: A0A2I0CRA4_9PSED/11-66\n",
      "Number of features: 0\n",
      "/accession=A0A2I0CRA4.1\n",
      "/start=11\n",
      "/end=66\n",
      "Seq('AVAAGSALIGSSAFA------AVPAEATTALT--TAGADVGTIGWAVFGVLVAA...RAL')\n",
      "ID: A0A0T6UQG1_9PSED/14-69\n",
      "Name: A0A0T6UQG1_9PSED\n",
      "Description: A0A0T6UQG1_9PSED/14-69\n",
      "Number of features: 0\n",
      "/accession=A0A0T6UQG1.1\n",
      "/start=14\n",
      "/end=69\n",
      "Seq('AAAAVGLLTVQQAYA------AVPTEATDSLD--TAGTDVGTIGWGVFAVIIAA...RAL')\n",
      "ID: A0A1H3AFZ2_9PSED/25-80\n",
      "Name: A0A1H3AFZ2_9PSED\n",
      "Description: A0A1H3AFZ2_9PSED/25-80\n",
      "Number of features: 0\n",
      "/accession=A0A1H3AFZ2.1\n",
      "/start=25\n",
      "/end=80\n",
      "Seq('GVSAGSLALAAQVHA------AVPADATGALD--TAKTDVGTIGWAVFAVIVAA...RAL')\n",
      "ID: A0A658GHC3_9PSED/14-69\n",
      "Name: A0A658GHC3_9PSED\n",
      "Description: A0A658GHC3_9PSED/14-69\n",
      "Number of features: 0\n",
      "/accession=A0A658GHC3.1\n",
      "/start=14\n",
      "/end=69\n",
      "Seq('GAAAALSTLAGTVYA------AVPPEATGALD--EAGTDVGTIGWAVFAVIIAA...RAL')\n",
      "ID: A0A1C9VG81_9BURK/9-64\n",
      "Name: A0A1C9VG81_9BURK\n",
      "Description: A0A1C9VG81_9BURK/9-64\n",
      "Number of features: 0\n",
      "/accession=A0A1C9VG81.1\n",
      "/start=9\n",
      "/end=64\n",
      "Seq('GAAGAALVLASQAHA------ALPTEVTTAIT--AAGTDLLAAVTAVIVAFVAF...SKM')\n",
      "ID: A0A380MVN1_9GAMM/3-58\n",
      "Name: A0A380MVN1_9GAMM\n",
      "Description: A0A380MVN1_9GAMM/3-58\n",
      "Number of features: 0\n",
      "/accession=A0A380MVN1.1\n",
      "/start=3\n",
      "/end=58\n",
      "Seq('KLLIVPALYAGYAAA------ALPPEVQQTID--STKEDITTVGAALVVLAVVV...AQF')\n",
      "ID: A0A139SRG1_9GAMM/16-71\n",
      "Name: A0A139SRG1_9GAMM\n",
      "Description: A0A139SRG1_9GAMM/16-71\n",
      "Number of features: 0\n",
      "/accession=A0A139SRG1.1\n",
      "/start=16\n",
      "/end=71\n",
      "Seq('SVFSVTALFGSQAFA------ALSSDVVASLE--GAKDDIIQAGGLVLIALVAV...RAF')\n",
      "ID: Q82W09_NITEU/12-67\n",
      "Name: Q82W09_NITEU\n",
      "Description: Q82W09_NITEU/12-67\n",
      "Number of features: 0\n",
      "/accession=Q82W09.1\n",
      "/start=12\n",
      "/end=67\n",
      "Seq('AYASPLVLFAASARA------DLPEDVTTAIT--AAKADIAAAGALVITIVVGI...RVF')\n",
      "ID: F9ZKI0_9PROT/23-78\n",
      "Name: F9ZKI0_9PROT\n",
      "Description: F9ZKI0_9PROT/23-78\n",
      "Number of features: 0\n",
      "/accession=F9ZKI0.1\n",
      "/start=23\n",
      "/end=78\n",
      "Seq('FLLTLSLFMQAAAFA------AVPEGVTTAIT--SAATDVATVGAAVILVHIGI...GAF')\n",
      "ID: F9ZKG9_9PROT/58-113\n",
      "Name: F9ZKG9_9PROT\n",
      "Description: F9ZKG9_9PROT/58-113\n",
      "Number of features: 0\n",
      "/accession=F9ZKG9.1\n",
      "/start=58\n",
      "/end=113\n",
      "Seq('VAGSASLTFAGNALA------AVPEGVTTAIT--SAATDVATVGAAVILVHIGI...AAF')\n",
      "ID: V9HBT7_9NEIS/20-75\n",
      "Name: V9HBT7_9NEIS\n",
      "Description: V9HBT7_9NEIS/20-75\n",
      "Number of features: 0\n",
      "/accession=V9HBT7.1\n",
      "/start=20\n",
      "/end=75\n",
      "Seq('AAATGLMALAVGANA------AVPAEVTSALT--DAKADALSVGGIVLGIIVSI...RVL')\n",
      "ID: A0A238TEF6_9NEIS/20-75\n",
      "Name: A0A238TEF6_9NEIS\n",
      "Description: A0A238TEF6_9NEIS/20-75\n",
      "Number of features: 0\n",
      "/accession=A0A238TEF6.1\n",
      "/start=20\n",
      "/end=75\n",
      "Seq('AVGTAALAVSSGASA------AIPPEVTKAIT--DGFADAQLVAYAILTGLAVI...RLL')\n",
      "ID: U6Q1F0_9NEIS/20-75\n",
      "Name: U6Q1F0_9NEIS\n",
      "Description: U6Q1F0_9NEIS/20-75\n",
      "Number of features: 0\n",
      "/accession=U6Q1F0.1\n",
      "/start=20\n",
      "/end=75\n",
      "Seq('ATGTGLMSLAISANA------ALPDDVKNAIS--AAKADGLEAGWLVVSVIAAL...RLL')\n",
      "ID: G4CLJ9_9NEIS/15-70\n",
      "Name: G4CLJ9_9NEIS\n",
      "Description: G4CLJ9_9NEIS/15-70\n",
      "Number of features: 0\n",
      "/accession=G4CLJ9.1\n",
      "/start=15\n",
      "/end=70\n",
      "Seq('AAFGGVMALPAMAMA------ALPDGVKTALE--GAKADGLEAGWLVIGVLAAI...RVM')\n",
      "ID: Q5F7M7_NEIG1/16-71\n",
      "Name: Q5F7M7_NEIG1\n",
      "Description: Q5F7M7_NEIG1/16-71\n",
      "Number of features: 0\n",
      "/accession=Q5F7M7.1\n",
      "/start=16\n",
      "/end=71\n",
      "Seq('VVTAAPLALAAQANA------ALPETAKNALE--AAKADGMEAGWIVVGVFAAL...RVM')\n",
      "ID: C4GK32_9NEIS/14-69\n",
      "Name: C4GK32_9NEIS\n",
      "Description: C4GK32_9NEIS/14-69\n",
      "Number of features: 0\n",
      "/accession=C4GK32.1\n",
      "/start=14\n",
      "/end=69\n",
      "Seq('ALASVMMSAVVAAQA------AIPESVKTEIG--TAKTDVTELAGLVLGVLVVA...RFL')\n",
      "ID: A0A1G7EGK8_9BURK/12-67\n",
      "Name: A0A1G7EGK8_9BURK\n",
      "Description: A0A1G7EGK8_9BURK/12-67\n",
      "Number of features: 0\n",
      "/accession=A0A1G7EGK8.1\n",
      "/start=12\n",
      "/end=67\n",
      "Seq('AAIAAGTSLAVSAHA------AIPENVNTALG--SLSTDALTVAGIVLAAIVAV...KGL')\n",
      "ID: A9BV77_DELAS/18-73\n",
      "Name: A9BV77_DELAS\n",
      "Description: A9BV77_DELAS/18-73\n",
      "Number of features: 0\n",
      "/accession=A9BV77.1\n",
      "/start=18\n",
      "/end=73\n",
      "Seq('AVPALAVVAMGNAHA------ELPTEVTTALG--SLSTDALKVAGIVLAAIVAV...KGL')\n",
      "ID: A0A2P1NLD6_9BURK/11-66\n",
      "Name: A0A2P1NLD6_9BURK\n",
      "Description: A0A2P1NLD6_9BURK/11-66\n",
      "Number of features: 0\n",
      "/accession=A0A2P1NLD6.1\n",
      "/start=11\n",
      "/end=66\n",
      "Seq('LIPAALVATVGTAHA------EIPAGVTAALD--SLSADALTVAGIVLAAVVAV...KGL')\n",
      "ID: A0A1I2G4V6_9PROT/51-106\n",
      "Name: A0A1I2G4V6_9PROT\n",
      "Description: A0A1I2G4V6_9PROT/51-106\n",
      "Number of features: 0\n",
      "/accession=A0A1I2G4V6.1\n",
      "/start=51\n",
      "/end=106\n",
      "Seq('AAFVVTNFFASVAHA------AVPASVTTGIG--DAVADVGAIGALVMGVIVAI...RVL')\n",
      "ID: A0A1I3YJU6_9PROT/62-117\n",
      "Name: A0A1I3YJU6_9PROT\n",
      "Description: A0A1I3YJU6_9PROT/62-117\n",
      "Number of features: 0\n",
      "/accession=A0A1I3YJU6.1\n",
      "/start=62\n",
      "/end=117\n",
      "Seq('TMVACLFVLPSIAFA------AVPASVTTAIT--DAVADVSTIGAAILGVIVVI...RPI')\n",
      "ID: A0A328ZTW0_9PROT/33-88\n",
      "Name: A0A328ZTW0_9PROT\n",
      "Description: A0A328ZTW0_9PROT/33-88\n",
      "Number of features: 0\n",
      "/accession=A0A328ZTW0.1\n",
      "/start=33\n",
      "/end=88\n",
      "Seq('LAGTSLLILPAAASA------AVPAEVTTAIT--EAVTDVGTIGAAILGIIVVI...RPI')\n",
      "ID: G2J4U2_PSEUL/11-66\n",
      "Name: G2J4U2_PSEUL\n",
      "Description: G2J4U2_PSEUL/11-66\n",
      "Number of features: 0\n",
      "/accession=G2J4U2.1\n",
      "/start=11\n",
      "/end=66\n",
      "Seq('APVAGLMAVAAGAHA------EVPAEVTTAIT--SAGTDAGVVGAAVLVVIIGI...RAV')\n",
      "ID: A0A323UTH4_9RHOO/20-75\n",
      "Name: A0A323UTH4_9RHOO\n",
      "Description: A0A323UTH4_9RHOO/20-75\n",
      "Number of features: 0\n",
      "/accession=A0A323UTH4.1\n",
      "/start=20\n",
      "/end=75\n",
      "Seq('AVVSPVALFAGAAHA------ELPASVTTALG--DGLTDVGVVGAAVFLIVIAI...RAP')\n",
      "ID: A0A172UEF2_9GAMM/11-66\n",
      "Name: A0A172UEF2_9GAMM\n",
      "Description: A0A172UEF2_9GAMM/11-66\n",
      "Number of features: 0\n",
      "/accession=A0A172UEF2.1\n",
      "/start=11\n",
      "/end=66\n",
      "Seq('KVAGVTAVGVGSAVA------AVPENVTTAMS--DGLTDVKTVAAAGLIIVIAI...RGA')\n",
      "ID: A0A097ZPH4_9VIRU/11-66\n",
      "Name: A0A097ZPH4_9VIRU\n",
      "Description: A0A097ZPH4_9VIRU/11-66\n",
      "Number of features: 0\n",
      "/accession=A0A097ZPH4.1\n",
      "/start=11\n",
      "/end=66\n",
      "Seq('AVAAGTVALAGSAMA------EVPTDVATAMS--DSKADTATLAGLALIIVIGI...RSV')\n",
      "ID: D2UDQ2_XANAP/17-72\n",
      "Name: D2UDQ2_XANAP\n",
      "Description: D2UDQ2_XANAP/17-72\n",
      "Number of features: 0\n",
      "/accession=D2UDQ2.1\n",
      "/start=17\n",
      "/end=72\n",
      "Seq('ATIAAPAFASGGSSG------VDVSAVVSAIN--AASTPIASIGAAVLIVMVGT...RAM')\n",
      "ID: N6YCM5_9RHOO/8-63\n",
      "Name: N6YCM5_9RHOO\n",
      "Description: N6YCM5_9RHOO/8-63\n",
      "Number of features: 0\n",
      "/accession=N6YCM5.1\n",
      "/start=8\n",
      "/end=63\n",
      "Seq('ALGALALVPAVSFAA------VDVAEVVTEIE--GAATPIAAIGAAVLLVMVGI...RAM')\n",
      "ID: A0A432L6P6_9BACI/15-70\n",
      "Name: A0A432L6P6_9BACI\n",
      "Description: A0A432L6P6_9BACI/15-70\n",
      "Number of features: 0\n",
      "/accession=A0A432L6P6.1\n",
      "/start=15\n",
      "/end=70\n",
      "Seq('AAAAALAAGGANAAA------VDVAAVVTDIG--AQAAPIGLIGAAVLLIYVGV...KAL')\n",
      "ID: A0A147GSC6_9BURK/16-71\n",
      "Name: A0A147GSC6_9BURK\n",
      "Description: A0A147GSC6_9BURK/16-71\n",
      "Number of features: 0\n",
      "/accession=A0A147GSC6.1\n",
      "/start=16\n",
      "/end=71\n",
      "Seq('AAALLAVAVPSQAAA------VDVAAVVTDIG--AQIAPITAIGGAVLLVVVAI...RAL')\n",
      "ID: A0A1B3WBW3_9GAMM/2-57\n",
      "Name: A0A1B3WBW3_9GAMM\n",
      "Description: A0A1B3WBW3_9GAMM/2-57\n",
      "Number of features: 0\n",
      "/accession=A0A1B3WBW3.1\n",
      "/start=2\n",
      "/end=57\n",
      "Seq('IAMFGAIGPAAAQSA------VDVSDVVTEIG--NAIGPVGQIGGAVLLVLVAI...RAF')\n",
      "ID: A0A1B8PL66_MORNO/32-87\n",
      "Name: A0A1B8PL66_MORNO\n",
      "Description: A0A1B8PL66_MORNO/32-87\n",
      "Number of features: 0\n",
      "/accession=A0A1B8PL66.1\n",
      "/start=32\n",
      "/end=87\n",
      "Seq('VAMSAGIANANTPTA------PDLTPIVTMIT--GLASVVGSIGMAVLTVYATA...TAF')\n"
     ]
    }
   ],
   "source": [
    "for record in alignment:\n",
    "    print(record)"
   ]
  },
  {
   "cell_type": "code",
   "execution_count": 9,
   "metadata": {},
   "outputs": [
    {
     "name": "stdout",
     "output_type": "stream",
     "text": [
      "Alignment with 69 rows and 64 columns\n",
      "LFMVTDAQAAALVAN......ITVTDIVDQLK..AGAPAIVSIA...GAL I3CK69_9GAMM/17-72\n",
      "LLFLSSWSVSATPFY......LVVDDVVDQIA..EGAFPVLAIG...GAM I3CE12_9GAMM/11-66\n",
      "SLLLFSGVASAAPIT......MDVSEVVDQIK..AAAVPILSVG...GAM I3CE11_9GAMM/21-76\n",
      "VTAALTLPAFAAAAQ......PDVTEVVAYIL..AGIATIALVG...GVL A0A328ZKQ2_9BURK/30-85\n",
      "LVLASPMALAQTGPT......IDVSSVTGFID.GQLIPGLGTIG...GAA A0A318DYR2_9GAMM/20-76\n",
      "LLLATSAMASSAFAE......IDVSAATTAIS.TDGSTAITAVG...GAI A0A081KB79_9GAMM/9-65\n",
      "LLVASALMSSSVFAA......IDISAATTALT.TDGSAAITAVG...GAI A0A081K835_9GAMM/9-65\n",
      "LAMGTVLSANAAATT......IDTTDVLLSIA..AAVVAIVAVG...AAM A0A1H0GMS3_9BURK/27-82\n",
      "LSTAAAFVGAQAQAA......IDVTAVGTEIE..AAGNAASSTG...GLI A0A1H4H7Y8_9GAMM/12-67\n",
      "LSGVALTVGAGLAHA......IDTTKVGASIT..AAETDALTTG...GIV A0A1I1EUT2_9GAMM/16-71\n",
      "AGFAANAPVFAADGQ......LDTTSVQAGID..AAKATGLSVG...GLV A0A261GG07_9GAMM/20-75\n",
      "TAVATATLVSATANA......EDLSSITGKINLKSASTGIVAVG...GFL Q7VLI9_HAEDU/13-70\n",
      "LVTAPALAFAEASTATS....FDVSAITGQISFASVAAGVIAIA...GMI A0A239SNN7_9BURK/21-80\n",
      "TGMAMSAVAFADDKI......PDASVVVSSLE..ALATPIAAVG...SLI A0A1T0CH46_9GAMM/17-72\n",
      "AGVVAASAVVANAAP......IDPAPVVSSIG..SNEPAVIAIG...RMM A0A433SGY4_9BURK/17-72\n",
      "AGSAMADAAGAPAST......IDTTAAVQQIN..GLTVGISAIG...GFV A0A494XB31_9BURK/17-72\n",
      "LASAGAFAADAGTPT......MDVTSVVASIN..GVGPNIVLVG...SFI Q63PM2_BURPS/11-66\n",
      "AAGASVGAFAQTPTGSGAT..FDTTAIVSSIN..NVAPAIVAVG...SFL A0A1I3G1F0_9BURK/24-83\n",
      "...\n",
      "VAMSAGIANANTPTA......PDLTPIVTMIT..GLASVVGSIG...TAF A0A1B8PL66_MORNO/32-87\n"
     ]
    }
   ],
   "source": [
    "from Bio import AlignIO\n",
    "alignment = AlignIO.read('PF05356_seed.faa', 'fasta')\n",
    "print(alignment)"
   ]
  },
  {
   "cell_type": "markdown",
   "metadata": {},
   "source": [
    "#### Getting alignment objects as formatted strings"
   ]
  },
  {
   "cell_type": "code",
   "execution_count": 11,
   "metadata": {},
   "outputs": [
    {
     "name": "stdout",
     "output_type": "stream",
     "text": [
      "CLUSTAL X (1.81) multiple sequence alignment\n",
      "\n",
      "\n",
      "I3CK69_9GAMM/17-72                  LFMVTDAQAAALVAN------ITVTDIVDQLK--AGAPAIVSIATAAISL\n",
      "I3CE12_9GAMM/11-66                  LLFLSSWSVSATPFY------LVVDDVVDQIA--EGAFPVLAIGLASLTI\n",
      "I3CE11_9GAMM/21-76                  SLLLFSGVASAAPIT------MDVSEVVDQIK--AAAVPILSVGVAALTV\n",
      "A0A328ZKQ2_9BURK/30-85              VTAALTLPAFAAAAQ------PDVTEVVAYIL--AGIATIALVGNAGLMV\n",
      "A0A318DYR2_9GAMM/20-76              LVLASPMALAQTGPT------IDVSSVTGFID-GQLIPGLGTIGTAFLLV\n",
      "A0A081KB79_9GAMM/9-65               LLLATSAMASSAFAE------IDVSAATTAIS-TDGSTAITAVGTALIGV\n",
      "A0A081K835_9GAMM/9-65               LLVASALMSSSVFAA------IDISAATTALT-TDGSAAITAVGTALVGL\n",
      "A0A1H0GMS3_9BURK/27-82              LAMGTVLSANAAATT------IDTTDVLLSIA--AAVVAIVAVGGAVLGL\n",
      "A0A1H4H7Y8_9GAMM/12-67              LSTAAAFVGAQAQAA------IDVTAVGTEIE--AAGNAASSTGTYVIAA\n",
      "A0A1I1EUT2_9GAMM/16-71              LSGVALTVGAGLAHA------IDTTKVGASIT--AAETDALTTGEFVIGS\n",
      "A0A261GG07_9GAMM/20-75              AGFAANAPVFAADGQ------LDTTSVQAGID--AAKATGLSVGAMVVAA\n",
      "Q7VLI9_HAEDU/13-70                  TAVATATLVSATANA------EDLSSITGKINLKSASTGIVAVGAAVGGF\n",
      "A0A239SNN7_9BURK/21-80              LVTAPALAFAEASTATS----FDVSAITGQISFASVAAGVIAIAGLLAGV\n",
      "A0A1T0CH46_9GAMM/17-72              TGMAMSAVAFADDKI------PDASVVVSSLE--ALATPIAAVGGAYLGV\n",
      "A0A433SGY4_9BURK/17-72              AGVVAASAVVANAAP------IDPAPVVSSIG--SNEPAVIAIGGAIIAI\n",
      "A0A494XB31_9BURK/17-72              AGSAMADAAGAPAST------IDTTAAVQQIN--GLTVGISAIGGALIAV\n",
      "Q63PM2_BURPS/11-66                  LASAGAFAADAGTPT------MDVTSVVASIN--GVGPNIVLVGGAVLAV\n",
      "A0A1I3G1F0_9BURK/24-83              AAGASVGAFAQTPTGSGAT--FDTTAIVSSIN--NVAPAIVAVGGAVLGV\n",
      "A0A1L6I9C9_9BURK/21-82              AAGLASVAAFAQTSGSGATPAFDDTAILSSIN--GVAPIIIDIGGAVLAV\n",
      "A0A2N7WE22_9BURK/13-68              AGVVASTGAFAQASG------VDVTSTVTAIN--NVVPSLIAIGGATLAV\n",
      "A0A2Z6E656_9GAMM/11-66              GLVAGSLSPLFAFAA------VDTTDIVSTIG--EAATAGAAIGVAVLSM\n",
      "A0A0X8GL57_9BURK/13-68              VVVAGTLIAAPAFAA------VDVSAVLAEMG--EAQKAIALIGTAALSI\n",
      "A0A109RV41_9BURK/10-65              LGLSVAVVTSPVFAA------VDTSVVTGELA--EAGKAVGVVGGAILSV\n",
      "A0A1H9KTC7_9BURK/31-87              GLIGLSLSTGANAAAL-----IDTSAVVSAIS--EGVTIISAIGVAILSL\n",
      "C5T356_ACIDE/36-91                  GAMAAAGGAHAATTT------IDTTEIVATIS--AGVTAISAIGVAVISL\n",
      "Q6UAZ5_9VIRU/11-66                  AVGAAVAAGSAMAEG------VDVSAVVTTLG--TGVAAIGLIGVAILGL\n",
      "A0A3S0RMX7_9GAMM/16-71              VGMVSSAAFAQGTGG------VDVSSVTAALT--AAAAAIATIGVAWLAM\n",
      "A0A1G6HAY5_9GAMM/29-84              AGAVVATAGTSAFAD------YDVTEIVSNLG--LAVTAAATIGVAWLGF\n",
      "E5F071_9VIRU/13-68                  AGVGGAVAAGAANAA------IDLTAVTTAIG--DAGTAVGTIGSAVLVV\n",
      "A0A1T0CDG2_9GAMM/30-85              AIGVLALSSAQAQAA------LDLSELTTQME--GVKTAVTAVIAVALTI\n",
      "G8QN66_AZOOP/10-65                  ALAGSLLSVGSAHAA------VDVTAVTTEIS--GAAAPIAAIGGAVLVI\n",
      "A0A160MYR4_9GAMM/18-73              LMTGVVMAQTSGGAA------DLTAAVTGELS--DGKAQLYVIGGAVLTL\n",
      "A0A2Z3HZ17_9GAMM/13-68              AVLGSAFVATSANAA------IDVGSIVTEMT--SNQAAIVSVGGAGLLL\n",
      "A0A1G5PU74_9GAMM/13-68              AGVATAMLSTGAMAV------IDTTAAVAEID--GGATAVSAIGGAALVV\n",
      "A0A2S9GTJ6_9BURK/16-72              TVAASTLVLAQSAHAA-----IDTGAVVSALT--DAAAAVAIVGAIVLTV\n",
      "A0A1Z4C4H7_9GAMM/36-91              AVALGGAVVLEQSAS------ADVSAVTGALT--AVGTDAATLGAAVLVV\n",
      "A0A1E4UZP9_9PSED/13-68              AVAATGLMVAQQAQA------AIPTEAQAALD--AAKEDGPAIAAIVLGI\n",
      "A0A2I0CRA4_9PSED/11-66              AVAAGSALIGSSAFA------AVPAEATTALT--TAGADVGTIGWAVFGV\n",
      "A0A0T6UQG1_9PSED/14-69              AAAAVGLLTVQQAYA------AVPTEATDSLD--TAGTDVGTIGWGVFAV\n",
      "A0A1H3AFZ2_9PSED/25-80              GVSAGSLALAAQVHA------AVPADATGALD--TAKTDVGTIGWAVFAV\n",
      "A0A658GHC3_9PSED/14-69              GAAAALSTLAGTVYA------AVPPEATGALD--EAGTDVGTIGWAVFAV\n",
      "A0A1C9VG81_9BURK/9-64               GAAGAALVLASQAHA------ALPTEVTTAIT--AAGTDLLAAVTAVIVA\n",
      "A0A380MVN1_9GAMM/3-58               KLLIVPALYAGYAAA------ALPPEVQQTID--STKEDITTVGAALVVL\n",
      "A0A139SRG1_9GAMM/16-71              SVFSVTALFGSQAFA------ALSSDVVASLE--GAKDDIIQAGGLVLIA\n",
      "Q82W09_NITEU/12-67                  AYASPLVLFAASARA------DLPEDVTTAIT--AAKADIAAAGALVITI\n",
      "F9ZKI0_9PROT/23-78                  FLLTLSLFMQAAAFA------AVPEGVTTAIT--SAATDVATVGAAVILV\n",
      "F9ZKG9_9PROT/58-113                 VAGSASLTFAGNALA------AVPEGVTTAIT--SAATDVATVGAAVILV\n",
      "V9HBT7_9NEIS/20-75                  AAATGLMALAVGANA------AVPAEVTSALT--DAKADALSVGGIVLGI\n",
      "A0A238TEF6_9NEIS/20-75              AVGTAALAVSSGASA------AIPPEVTKAIT--DGFADAQLVAYAILTG\n",
      "U6Q1F0_9NEIS/20-75                  ATGTGLMSLAISANA------ALPDDVKNAIS--AAKADGLEAGWLVVSV\n",
      "G4CLJ9_9NEIS/15-70                  AAFGGVMALPAMAMA------ALPDGVKTALE--GAKADGLEAGWLVIGV\n",
      "Q5F7M7_NEIG1/16-71                  VVTAAPLALAAQANA------ALPETAKNALE--AAKADGMEAGWIVVGV\n",
      "C4GK32_9NEIS/14-69                  ALASVMMSAVVAAQA------AIPESVKTEIG--TAKTDVTELAGLVLGV\n",
      "A0A1G7EGK8_9BURK/12-67              AAIAAGTSLAVSAHA------AIPENVNTALG--SLSTDALTVAGIVLAA\n",
      "A9BV77_DELAS/18-73                  AVPALAVVAMGNAHA------ELPTEVTTALG--SLSTDALKVAGIVLAA\n",
      "A0A2P1NLD6_9BURK/11-66              LIPAALVATVGTAHA------EIPAGVTAALD--SLSADALTVAGIVLAA\n",
      "A0A1I2G4V6_9PROT/51-106             AAFVVTNFFASVAHA------AVPASVTTGIG--DAVADVGAIGALVMGV\n",
      "A0A1I3YJU6_9PROT/62-117             TMVACLFVLPSIAFA------AVPASVTTAIT--DAVADVSTIGAAILGV\n",
      "A0A328ZTW0_9PROT/33-88              LAGTSLLILPAAASA------AVPAEVTTAIT--EAVTDVGTIGAAILGI\n",
      "G2J4U2_PSEUL/11-66                  APVAGLMAVAAGAHA------EVPAEVTTAIT--SAGTDAGVVGAAVLVV\n",
      "A0A323UTH4_9RHOO/20-75              AVVSPVALFAGAAHA------ELPASVTTALG--DGLTDVGVVGAAVFLI\n",
      "A0A172UEF2_9GAMM/11-66              KVAGVTAVGVGSAVA------AVPENVTTAMS--DGLTDVKTVAAAGLII\n",
      "A0A097ZPH4_9VIRU/11-66              AVAAGTVALAGSAMA------EVPTDVATAMS--DSKADTATLAGLALII\n",
      "D2UDQ2_XANAP/17-72                  ATIAAPAFASGGSSG------VDVSAVVSAIN--AASTPIASIGAAVLIV\n",
      "N6YCM5_9RHOO/8-63                   ALGALALVPAVSFAA------VDVAEVVTEIE--GAATPIAAIGAAVLLV\n",
      "A0A432L6P6_9BACI/15-70              AAAAALAAGGANAAA------VDVAAVVTDIG--AQAAPIGLIGAAVLLI\n",
      "A0A147GSC6_9BURK/16-71              AAALLAVAVPSQAAA------VDVAAVVTDIG--AQIAPITAIGGAVLLV\n",
      "A0A1B3WBW3_9GAMM/2-57               IAMFGAIGPAAAQSA------VDVSDVVTEIG--NAIGPVGQIGGAVLLV\n",
      "A0A1B8PL66_MORNO/32-87              VAMSAGIANANTPTA------PDLTPIVTMIT--GLASVVGSIGMAVLTV\n",
      "\n",
      "I3CK69_9GAMM/17-72                  LAVIAVFKYVRGAL\n",
      "I3CE12_9GAMM/11-66                  LAIVAMIRWARGAM\n",
      "I3CE11_9GAMM/21-76                  LAIVAMVRWARGAM\n",
      "A0A328ZKQ2_9BURK/30-85              RGATAVFAWIRGVL\n",
      "A0A318DYR2_9GAMM/20-76              AVLFAAYRWIRGAA\n",
      "A0A081KB79_9GAMM/9-65               AALAVVFKWVKGAI\n",
      "A0A081K835_9GAMM/9-65               AGIAVVFKWVKGAI\n",
      "A0A1H0GMS3_9BURK/27-82              QVAVKAFKWVRAAM\n",
      "A0A1H4H7Y8_9GAMM/12-67              VAAVCGVGLIIGLI\n",
      "A0A1I1EUT2_9GAMM/16-71              VASLVVIGLIIGIV\n",
      "A0A261GG07_9GAMM/20-75              VASMVVVGIVIGLV\n",
      "Q7VLI9_HAEDU/13-70                  LVVALGVRYVLGFL\n",
      "A0A239SNN7_9BURK/21-80              YVAIKSAKVILGMI\n",
      "A0A1T0CH46_9GAMM/17-72              RVGIRGWKILRSLI\n",
      "A0A433SGY4_9BURK/17-72              LAVVLGFKLIKRMM\n",
      "A0A494XB31_9BURK/17-72              AVLALGYRLMKGFV\n",
      "Q63PM2_BURPS/11-66                  AAVTFGYRTVRSFI\n",
      "A0A1I3G1F0_9BURK/24-83              VAVAWGIKMVRSFL\n",
      "A0A1L6I9C9_9BURK/21-82              VVVAWGYKTVKSFL\n",
      "A0A2N7WE22_9BURK/13-68              VVVAWGYKTVKGFL\n",
      "A0A2Z6E656_9GAMM/11-66              HYGIKLYKWIKGAG\n",
      "A0A0X8GL57_9BURK/13-68              YVGIKVYKWAKNAL\n",
      "A0A109RV41_9BURK/10-65              YIGIKVYSFIKKAM\n",
      "A0A1H9KTC7_9BURK/31-87              VVVIKLFKWVQRVL\n",
      "C5T356_ACIDE/36-91                  VVVIKLYKWVQRVL\n",
      "Q6UAZ5_9VIRU/11-66                  AAVVAIYNWVRKPI\n",
      "A0A3S0RMX7_9GAMM/16-71              TVGARVYKWVKSAI\n",
      "A0A1G6HAY5_9GAMM/29-84              TAGIAIWRNLRAAA\n",
      "E5F071_9VIRU/13-68                  IVGIAVYMWVRRPI\n",
      "A0A1T0CDG2_9GAMM/30-85              GVAIVGWRWVKRAL\n",
      "G8QN66_AZOOP/10-65                  LVTAAVYKWVRRAL\n",
      "A0A160MYR4_9GAMM/18-73              VAVVALIRHMRRAA\n",
      "A0A2Z3HZ17_9GAMM/13-68              FAAAAVFRYIKRAF\n",
      "A0A1G5PU74_9GAMM/13-68              LAAAAVFKYVRRAL\n",
      "A0A2S9GTJ6_9BURK/16-72              QVAIKAYKFIARAL\n",
      "A0A1Z4C4H7_9GAMM/36-91              IVAVMAFKYLRKAL\n",
      "A0A1E4UZP9_9PSED/13-68              IIAIAAFKYIRRAL\n",
      "A0A2I0CRA4_9PSED/11-66              LVAAAAFKYMRRAL\n",
      "A0A0T6UQG1_9PSED/14-69              IIAAMAFKYMRRAL\n",
      "A0A1H3AFZ2_9PSED/25-80              IVAAVAFKYMRRAL\n",
      "A0A658GHC3_9PSED/14-69              IIAAMAFKYMRRAL\n",
      "A0A1C9VG81_9BURK/9-64               FVAFWGMRKLASKM\n",
      "A0A380MVN1_9GAMM/3-58               AVVVMGFRWLKAQF\n",
      "A0A139SRG1_9GAMM/16-71              LVAVAAFRYIRRAF\n",
      "Q82W09_NITEU/12-67                  VVGIKVWKWITRVF\n",
      "F9ZKI0_9PROT/23-78                  HIGIKVWRWIRGAF\n",
      "F9ZKG9_9PROT/58-113                 HIGIKVWRWLKAAF\n",
      "V9HBT7_9NEIS/20-75                  IVSIFALMLIRRVL\n",
      "A0A238TEF6_9NEIS/20-75              LAVIYGISLAKRLL\n",
      "U6Q1F0_9NEIS/20-75                  IAALFVMSIVKRLL\n",
      "G4CLJ9_9NEIS/15-70                  LAAIFVIGLIRRVM\n",
      "Q5F7M7_NEIG1/16-71                  FAALFVFSIVKRVM\n",
      "C4GK32_9NEIS/14-69                  LVVAFGYKMIKRFL\n",
      "A0A1G7EGK8_9BURK/12-67              IVAVYAFKFIRKGL\n",
      "A9BV77_DELAS/18-73                  IVAVYAFKFIRKGL\n",
      "A0A2P1NLD6_9BURK/11-66              VVAVYAFKFIRKGL\n",
      "A0A1I2G4V6_9PROT/51-106             IVAIVAFVWLKRVL\n",
      "A0A1I3YJU6_9PROT/62-117             IVVIASFMWMRRPI\n",
      "A0A328ZTW0_9PROT/33-88              IVVIASFAWLRRPI\n",
      "G2J4U2_PSEUL/11-66                  IIGIATFKFLRRAV\n",
      "A0A323UTH4_9RHOO/20-75              VIAIAVWKYLKRAP\n",
      "A0A172UEF2_9GAMM/11-66              VIAIVVFKYMKRGA\n",
      "A0A097ZPH4_9VIRU/11-66              VIGIATFKYMRRSV\n",
      "D2UDQ2_XANAP/17-72                  MVGTKVYKWIRRAM\n",
      "N6YCM5_9RHOO/8-63                   MVGIKVFKWVRRAM\n",
      "A0A432L6P6_9BACI/15-70              YVGVKAFQWVRKAL\n",
      "A0A147GSC6_9BURK/16-71              VVAIKAFKWVRRAL\n",
      "A0A1B3WBW3_9GAMM/2-57               LVAIKVYKWVRRAF\n",
      "A0A1B8PL66_MORNO/32-87              YATAKVFKWVKTAF\n",
      "\n",
      "\n",
      "\n"
     ]
    }
   ],
   "source": [
    "from Bio import AlignIO\n",
    "alignment = AlignIO.read('PF05371_seed.sth', 'stockholm')\n",
    "print(format(alignment, 'clustal'))"
   ]
  },
  {
   "cell_type": "code",
   "execution_count": 14,
   "metadata": {},
   "outputs": [
    {
     "name": "stdout",
     "output_type": "stream",
     "text": [
      "CLUSTAL X (1.81) multiple sequence alignment\n",
      "\n",
      "\n",
      "I3CK69_9GAMM/17-72                  LFMVTDAQAAALVAN------ITVTDIVDQLK--AGAPAIVSIATAAISL\n",
      "I3CE12_9GAMM/11-66                  LLFLSSWSVSATPFY------LVVDDVVDQIA--EGAFPVLAIGLASLTI\n",
      "I3CE11_9GAMM/21-76                  SLLLFSGVASAAPIT------MDVSEVVDQIK--AAAVPILSVGVAALTV\n",
      "A0A328ZKQ2_9BURK/30-85              VTAALTLPAFAAAAQ------PDVTEVVAYIL--AGIATIALVGNAGLMV\n",
      "A0A318DYR2_9GAMM/20-76              LVLASPMALAQTGPT------IDVSSVTGFID-GQLIPGLGTIGTAFLLV\n",
      "A0A081KB79_9GAMM/9-65               LLLATSAMASSAFAE------IDVSAATTAIS-TDGSTAITAVGTALIGV\n",
      "A0A081K835_9GAMM/9-65               LLVASALMSSSVFAA------IDISAATTALT-TDGSAAITAVGTALVGL\n",
      "A0A1H0GMS3_9BURK/27-82              LAMGTVLSANAAATT------IDTTDVLLSIA--AAVVAIVAVGGAVLGL\n",
      "A0A1H4H7Y8_9GAMM/12-67              LSTAAAFVGAQAQAA------IDVTAVGTEIE--AAGNAASSTGTYVIAA\n",
      "A0A1I1EUT2_9GAMM/16-71              LSGVALTVGAGLAHA------IDTTKVGASIT--AAETDALTTGEFVIGS\n",
      "A0A261GG07_9GAMM/20-75              AGFAANAPVFAADGQ------LDTTSVQAGID--AAKATGLSVGAMVVAA\n",
      "Q7VLI9_HAEDU/13-70                  TAVATATLVSATANA------EDLSSITGKINLKSASTGIVAVGAAVGGF\n",
      "A0A239SNN7_9BURK/21-80              LVTAPALAFAEASTATS----FDVSAITGQISFASVAAGVIAIAGLLAGV\n",
      "A0A1T0CH46_9GAMM/17-72              TGMAMSAVAFADDKI------PDASVVVSSLE--ALATPIAAVGGAYLGV\n",
      "A0A433SGY4_9BURK/17-72              AGVVAASAVVANAAP------IDPAPVVSSIG--SNEPAVIAIGGAIIAI\n",
      "A0A494XB31_9BURK/17-72              AGSAMADAAGAPAST------IDTTAAVQQIN--GLTVGISAIGGALIAV\n",
      "Q63PM2_BURPS/11-66                  LASAGAFAADAGTPT------MDVTSVVASIN--GVGPNIVLVGGAVLAV\n",
      "A0A1I3G1F0_9BURK/24-83              AAGASVGAFAQTPTGSGAT--FDTTAIVSSIN--NVAPAIVAVGGAVLGV\n",
      "A0A1L6I9C9_9BURK/21-82              AAGLASVAAFAQTSGSGATPAFDDTAILSSIN--GVAPIIIDIGGAVLAV\n",
      "A0A2N7WE22_9BURK/13-68              AGVVASTGAFAQASG------VDVTSTVTAIN--NVVPSLIAIGGATLAV\n",
      "A0A2Z6E656_9GAMM/11-66              GLVAGSLSPLFAFAA------VDTTDIVSTIG--EAATAGAAIGVAVLSM\n",
      "A0A0X8GL57_9BURK/13-68              VVVAGTLIAAPAFAA------VDVSAVLAEMG--EAQKAIALIGTAALSI\n",
      "A0A109RV41_9BURK/10-65              LGLSVAVVTSPVFAA------VDTSVVTGELA--EAGKAVGVVGGAILSV\n",
      "A0A1H9KTC7_9BURK/31-87              GLIGLSLSTGANAAAL-----IDTSAVVSAIS--EGVTIISAIGVAILSL\n",
      "C5T356_ACIDE/36-91                  GAMAAAGGAHAATTT------IDTTEIVATIS--AGVTAISAIGVAVISL\n",
      "Q6UAZ5_9VIRU/11-66                  AVGAAVAAGSAMAEG------VDVSAVVTTLG--TGVAAIGLIGVAILGL\n",
      "A0A3S0RMX7_9GAMM/16-71              VGMVSSAAFAQGTGG------VDVSSVTAALT--AAAAAIATIGVAWLAM\n",
      "A0A1G6HAY5_9GAMM/29-84              AGAVVATAGTSAFAD------YDVTEIVSNLG--LAVTAAATIGVAWLGF\n",
      "E5F071_9VIRU/13-68                  AGVGGAVAAGAANAA------IDLTAVTTAIG--DAGTAVGTIGSAVLVV\n",
      "A0A1T0CDG2_9GAMM/30-85              AIGVLALSSAQAQAA------LDLSELTTQME--GVKTAVTAVIAVALTI\n",
      "G8QN66_AZOOP/10-65                  ALAGSLLSVGSAHAA------VDVTAVTTEIS--GAAAPIAAIGGAVLVI\n",
      "A0A160MYR4_9GAMM/18-73              LMTGVVMAQTSGGAA------DLTAAVTGELS--DGKAQLYVIGGAVLTL\n",
      "A0A2Z3HZ17_9GAMM/13-68              AVLGSAFVATSANAA------IDVGSIVTEMT--SNQAAIVSVGGAGLLL\n",
      "A0A1G5PU74_9GAMM/13-68              AGVATAMLSTGAMAV------IDTTAAVAEID--GGATAVSAIGGAALVV\n",
      "A0A2S9GTJ6_9BURK/16-72              TVAASTLVLAQSAHAA-----IDTGAVVSALT--DAAAAVAIVGAIVLTV\n",
      "A0A1Z4C4H7_9GAMM/36-91              AVALGGAVVLEQSAS------ADVSAVTGALT--AVGTDAATLGAAVLVV\n",
      "A0A1E4UZP9_9PSED/13-68              AVAATGLMVAQQAQA------AIPTEAQAALD--AAKEDGPAIAAIVLGI\n",
      "A0A2I0CRA4_9PSED/11-66              AVAAGSALIGSSAFA------AVPAEATTALT--TAGADVGTIGWAVFGV\n",
      "A0A0T6UQG1_9PSED/14-69              AAAAVGLLTVQQAYA------AVPTEATDSLD--TAGTDVGTIGWGVFAV\n",
      "A0A1H3AFZ2_9PSED/25-80              GVSAGSLALAAQVHA------AVPADATGALD--TAKTDVGTIGWAVFAV\n",
      "A0A658GHC3_9PSED/14-69              GAAAALSTLAGTVYA------AVPPEATGALD--EAGTDVGTIGWAVFAV\n",
      "A0A1C9VG81_9BURK/9-64               GAAGAALVLASQAHA------ALPTEVTTAIT--AAGTDLLAAVTAVIVA\n",
      "A0A380MVN1_9GAMM/3-58               KLLIVPALYAGYAAA------ALPPEVQQTID--STKEDITTVGAALVVL\n",
      "A0A139SRG1_9GAMM/16-71              SVFSVTALFGSQAFA------ALSSDVVASLE--GAKDDIIQAGGLVLIA\n",
      "Q82W09_NITEU/12-67                  AYASPLVLFAASARA------DLPEDVTTAIT--AAKADIAAAGALVITI\n",
      "F9ZKI0_9PROT/23-78                  FLLTLSLFMQAAAFA------AVPEGVTTAIT--SAATDVATVGAAVILV\n",
      "F9ZKG9_9PROT/58-113                 VAGSASLTFAGNALA------AVPEGVTTAIT--SAATDVATVGAAVILV\n",
      "V9HBT7_9NEIS/20-75                  AAATGLMALAVGANA------AVPAEVTSALT--DAKADALSVGGIVLGI\n",
      "A0A238TEF6_9NEIS/20-75              AVGTAALAVSSGASA------AIPPEVTKAIT--DGFADAQLVAYAILTG\n",
      "U6Q1F0_9NEIS/20-75                  ATGTGLMSLAISANA------ALPDDVKNAIS--AAKADGLEAGWLVVSV\n",
      "G4CLJ9_9NEIS/15-70                  AAFGGVMALPAMAMA------ALPDGVKTALE--GAKADGLEAGWLVIGV\n",
      "Q5F7M7_NEIG1/16-71                  VVTAAPLALAAQANA------ALPETAKNALE--AAKADGMEAGWIVVGV\n",
      "C4GK32_9NEIS/14-69                  ALASVMMSAVVAAQA------AIPESVKTEIG--TAKTDVTELAGLVLGV\n",
      "A0A1G7EGK8_9BURK/12-67              AAIAAGTSLAVSAHA------AIPENVNTALG--SLSTDALTVAGIVLAA\n",
      "A9BV77_DELAS/18-73                  AVPALAVVAMGNAHA------ELPTEVTTALG--SLSTDALKVAGIVLAA\n",
      "A0A2P1NLD6_9BURK/11-66              LIPAALVATVGTAHA------EIPAGVTAALD--SLSADALTVAGIVLAA\n",
      "A0A1I2G4V6_9PROT/51-106             AAFVVTNFFASVAHA------AVPASVTTGIG--DAVADVGAIGALVMGV\n",
      "A0A1I3YJU6_9PROT/62-117             TMVACLFVLPSIAFA------AVPASVTTAIT--DAVADVSTIGAAILGV\n",
      "A0A328ZTW0_9PROT/33-88              LAGTSLLILPAAASA------AVPAEVTTAIT--EAVTDVGTIGAAILGI\n",
      "G2J4U2_PSEUL/11-66                  APVAGLMAVAAGAHA------EVPAEVTTAIT--SAGTDAGVVGAAVLVV\n",
      "A0A323UTH4_9RHOO/20-75              AVVSPVALFAGAAHA------ELPASVTTALG--DGLTDVGVVGAAVFLI\n",
      "A0A172UEF2_9GAMM/11-66              KVAGVTAVGVGSAVA------AVPENVTTAMS--DGLTDVKTVAAAGLII\n",
      "A0A097ZPH4_9VIRU/11-66              AVAAGTVALAGSAMA------EVPTDVATAMS--DSKADTATLAGLALII\n",
      "D2UDQ2_XANAP/17-72                  ATIAAPAFASGGSSG------VDVSAVVSAIN--AASTPIASIGAAVLIV\n",
      "N6YCM5_9RHOO/8-63                   ALGALALVPAVSFAA------VDVAEVVTEIE--GAATPIAAIGAAVLLV\n",
      "A0A432L6P6_9BACI/15-70              AAAAALAAGGANAAA------VDVAAVVTDIG--AQAAPIGLIGAAVLLI\n",
      "A0A147GSC6_9BURK/16-71              AAALLAVAVPSQAAA------VDVAAVVTDIG--AQIAPITAIGGAVLLV\n",
      "A0A1B3WBW3_9GAMM/2-57               IAMFGAIGPAAAQSA------VDVSDVVTEIG--NAIGPVGQIGGAVLLV\n",
      "A0A1B8PL66_MORNO/32-87              VAMSAGIANANTPTA------PDLTPIVTMIT--GLASVVGSIGMAVLTV\n",
      "\n",
      "I3CK69_9GAMM/17-72                  LAVIAVFKYVRGAL\n",
      "I3CE12_9GAMM/11-66                  LAIVAMIRWARGAM\n",
      "I3CE11_9GAMM/21-76                  LAIVAMVRWARGAM\n",
      "A0A328ZKQ2_9BURK/30-85              RGATAVFAWIRGVL\n",
      "A0A318DYR2_9GAMM/20-76              AVLFAAYRWIRGAA\n",
      "A0A081KB79_9GAMM/9-65               AALAVVFKWVKGAI\n",
      "A0A081K835_9GAMM/9-65               AGIAVVFKWVKGAI\n",
      "A0A1H0GMS3_9BURK/27-82              QVAVKAFKWVRAAM\n",
      "A0A1H4H7Y8_9GAMM/12-67              VAAVCGVGLIIGLI\n",
      "A0A1I1EUT2_9GAMM/16-71              VASLVVIGLIIGIV\n",
      "A0A261GG07_9GAMM/20-75              VASMVVVGIVIGLV\n",
      "Q7VLI9_HAEDU/13-70                  LVVALGVRYVLGFL\n",
      "A0A239SNN7_9BURK/21-80              YVAIKSAKVILGMI\n",
      "A0A1T0CH46_9GAMM/17-72              RVGIRGWKILRSLI\n",
      "A0A433SGY4_9BURK/17-72              LAVVLGFKLIKRMM\n",
      "A0A494XB31_9BURK/17-72              AVLALGYRLMKGFV\n",
      "Q63PM2_BURPS/11-66                  AAVTFGYRTVRSFI\n",
      "A0A1I3G1F0_9BURK/24-83              VAVAWGIKMVRSFL\n",
      "A0A1L6I9C9_9BURK/21-82              VVVAWGYKTVKSFL\n",
      "A0A2N7WE22_9BURK/13-68              VVVAWGYKTVKGFL\n",
      "A0A2Z6E656_9GAMM/11-66              HYGIKLYKWIKGAG\n",
      "A0A0X8GL57_9BURK/13-68              YVGIKVYKWAKNAL\n",
      "A0A109RV41_9BURK/10-65              YIGIKVYSFIKKAM\n",
      "A0A1H9KTC7_9BURK/31-87              VVVIKLFKWVQRVL\n",
      "C5T356_ACIDE/36-91                  VVVIKLYKWVQRVL\n",
      "Q6UAZ5_9VIRU/11-66                  AAVVAIYNWVRKPI\n",
      "A0A3S0RMX7_9GAMM/16-71              TVGARVYKWVKSAI\n",
      "A0A1G6HAY5_9GAMM/29-84              TAGIAIWRNLRAAA\n",
      "E5F071_9VIRU/13-68                  IVGIAVYMWVRRPI\n",
      "A0A1T0CDG2_9GAMM/30-85              GVAIVGWRWVKRAL\n",
      "G8QN66_AZOOP/10-65                  LVTAAVYKWVRRAL\n",
      "A0A160MYR4_9GAMM/18-73              VAVVALIRHMRRAA\n",
      "A0A2Z3HZ17_9GAMM/13-68              FAAAAVFRYIKRAF\n",
      "A0A1G5PU74_9GAMM/13-68              LAAAAVFKYVRRAL\n",
      "A0A2S9GTJ6_9BURK/16-72              QVAIKAYKFIARAL\n",
      "A0A1Z4C4H7_9GAMM/36-91              IVAVMAFKYLRKAL\n",
      "A0A1E4UZP9_9PSED/13-68              IIAIAAFKYIRRAL\n",
      "A0A2I0CRA4_9PSED/11-66              LVAAAAFKYMRRAL\n",
      "A0A0T6UQG1_9PSED/14-69              IIAAMAFKYMRRAL\n",
      "A0A1H3AFZ2_9PSED/25-80              IVAAVAFKYMRRAL\n",
      "A0A658GHC3_9PSED/14-69              IIAAMAFKYMRRAL\n",
      "A0A1C9VG81_9BURK/9-64               FVAFWGMRKLASKM\n",
      "A0A380MVN1_9GAMM/3-58               AVVVMGFRWLKAQF\n",
      "A0A139SRG1_9GAMM/16-71              LVAVAAFRYIRRAF\n",
      "Q82W09_NITEU/12-67                  VVGIKVWKWITRVF\n",
      "F9ZKI0_9PROT/23-78                  HIGIKVWRWIRGAF\n",
      "F9ZKG9_9PROT/58-113                 HIGIKVWRWLKAAF\n",
      "V9HBT7_9NEIS/20-75                  IVSIFALMLIRRVL\n",
      "A0A238TEF6_9NEIS/20-75              LAVIYGISLAKRLL\n",
      "U6Q1F0_9NEIS/20-75                  IAALFVMSIVKRLL\n",
      "G4CLJ9_9NEIS/15-70                  LAAIFVIGLIRRVM\n",
      "Q5F7M7_NEIG1/16-71                  FAALFVFSIVKRVM\n",
      "C4GK32_9NEIS/14-69                  LVVAFGYKMIKRFL\n",
      "A0A1G7EGK8_9BURK/12-67              IVAVYAFKFIRKGL\n",
      "A9BV77_DELAS/18-73                  IVAVYAFKFIRKGL\n",
      "A0A2P1NLD6_9BURK/11-66              VVAVYAFKFIRKGL\n",
      "A0A1I2G4V6_9PROT/51-106             IVAIVAFVWLKRVL\n",
      "A0A1I3YJU6_9PROT/62-117             IVVIASFMWMRRPI\n",
      "A0A328ZTW0_9PROT/33-88              IVVIASFAWLRRPI\n",
      "G2J4U2_PSEUL/11-66                  IIGIATFKFLRRAV\n",
      "A0A323UTH4_9RHOO/20-75              VIAIAVWKYLKRAP\n",
      "A0A172UEF2_9GAMM/11-66              VIAIVVFKYMKRGA\n",
      "A0A097ZPH4_9VIRU/11-66              VIGIATFKYMRRSV\n",
      "D2UDQ2_XANAP/17-72                  MVGTKVYKWIRRAM\n",
      "N6YCM5_9RHOO/8-63                   MVGIKVFKWVRRAM\n",
      "A0A432L6P6_9BACI/15-70              YVGVKAFQWVRKAL\n",
      "A0A147GSC6_9BURK/16-71              VVAIKAFKWVRRAL\n",
      "A0A1B3WBW3_9GAMM/2-57               LVAIKVYKWVRRAF\n",
      "A0A1B8PL66_MORNO/32-87              YATAKVFKWVKTAF\n",
      "\n",
      "\n",
      "\n"
     ]
    }
   ],
   "source": [
    "from io import StringIO\n",
    "alignments = AlignIO.parse('PF05371_seed.sth', 'stockholm')\n",
    "out_handle = StringIO()\n",
    "AlignIO.write(alignments, out_handle, 'clustal')\n",
    "clustal_data = out_handle.getvalue()\n",
    "print(clustal_data)"
   ]
  },
  {
   "cell_type": "markdown",
   "metadata": {},
   "source": [
    "#### Manipulating alignments"
   ]
  },
  {
   "cell_type": "code",
   "execution_count": 17,
   "metadata": {},
   "outputs": [
    {
     "name": "stdout",
     "output_type": "stream",
     "text": [
      "Number of rows: 69\n",
      "LFMVTDAQAAALVAN------ITVTDIVDQLK--AGAPAIVSIATAAISLLAVIAVFKYVRGAL - I3CK69_9GAMM/17-72\n",
      "LLFLSSWSVSATPFY------LVVDDVVDQIA--EGAFPVLAIGLASLTILAIVAMIRWARGAM - I3CE12_9GAMM/11-66\n",
      "SLLLFSGVASAAPIT------MDVSEVVDQIK--AAAVPILSVGVAALTVLAIVAMVRWARGAM - I3CE11_9GAMM/21-76\n",
      "VTAALTLPAFAAAAQ------PDVTEVVAYIL--AGIATIALVGNAGLMVRGATAVFAWIRGVL - A0A328ZKQ2_9BURK/30-85\n",
      "LVLASPMALAQTGPT------IDVSSVTGFID-GQLIPGLGTIGTAFLLVAVLFAAYRWIRGAA - A0A318DYR2_9GAMM/20-76\n",
      "LLLATSAMASSAFAE------IDVSAATTAIS-TDGSTAITAVGTALIGVAALAVVFKWVKGAI - A0A081KB79_9GAMM/9-65\n",
      "LLVASALMSSSVFAA------IDISAATTALT-TDGSAAITAVGTALVGLAGIAVVFKWVKGAI - A0A081K835_9GAMM/9-65\n",
      "LAMGTVLSANAAATT------IDTTDVLLSIA--AAVVAIVAVGGAVLGLQVAVKAFKWVRAAM - A0A1H0GMS3_9BURK/27-82\n",
      "LSTAAAFVGAQAQAA------IDVTAVGTEIE--AAGNAASSTGTYVIAAVAAVCGVGLIIGLI - A0A1H4H7Y8_9GAMM/12-67\n",
      "LSGVALTVGAGLAHA------IDTTKVGASIT--AAETDALTTGEFVIGSVASLVVIGLIIGIV - A0A1I1EUT2_9GAMM/16-71\n",
      "AGFAANAPVFAADGQ------LDTTSVQAGID--AAKATGLSVGAMVVAAVASMVVVGIVIGLV - A0A261GG07_9GAMM/20-75\n",
      "TAVATATLVSATANA------EDLSSITGKINLKSASTGIVAVGAAVGGFLVVALGVRYVLGFL - Q7VLI9_HAEDU/13-70\n",
      "LVTAPALAFAEASTATS----FDVSAITGQISFASVAAGVIAIAGLLAGVYVAIKSAKVILGMI - A0A239SNN7_9BURK/21-80\n",
      "TGMAMSAVAFADDKI------PDASVVVSSLE--ALATPIAAVGGAYLGVRVGIRGWKILRSLI - A0A1T0CH46_9GAMM/17-72\n",
      "AGVVAASAVVANAAP------IDPAPVVSSIG--SNEPAVIAIGGAIIAILAVVLGFKLIKRMM - A0A433SGY4_9BURK/17-72\n",
      "AGSAMADAAGAPAST------IDTTAAVQQIN--GLTVGISAIGGALIAVAVLALGYRLMKGFV - A0A494XB31_9BURK/17-72\n",
      "LASAGAFAADAGTPT------MDVTSVVASIN--GVGPNIVLVGGAVLAVAAVTFGYRTVRSFI - Q63PM2_BURPS/11-66\n",
      "AAGASVGAFAQTPTGSGAT--FDTTAIVSSIN--NVAPAIVAVGGAVLGVVAVAWGIKMVRSFL - A0A1I3G1F0_9BURK/24-83\n",
      "AAGLASVAAFAQTSGSGATPAFDDTAILSSIN--GVAPIIIDIGGAVLAVVVVAWGYKTVKSFL - A0A1L6I9C9_9BURK/21-82\n",
      "AGVVASTGAFAQASG------VDVTSTVTAIN--NVVPSLIAIGGATLAVVVVAWGYKTVKGFL - A0A2N7WE22_9BURK/13-68\n",
      "GLVAGSLSPLFAFAA------VDTTDIVSTIG--EAATAGAAIGVAVLSMHYGIKLYKWIKGAG - A0A2Z6E656_9GAMM/11-66\n",
      "VVVAGTLIAAPAFAA------VDVSAVLAEMG--EAQKAIALIGTAALSIYVGIKVYKWAKNAL - A0A0X8GL57_9BURK/13-68\n",
      "LGLSVAVVTSPVFAA------VDTSVVTGELA--EAGKAVGVVGGAILSVYIGIKVYSFIKKAM - A0A109RV41_9BURK/10-65\n",
      "GLIGLSLSTGANAAAL-----IDTSAVVSAIS--EGVTIISAIGVAILSLVVVIKLFKWVQRVL - A0A1H9KTC7_9BURK/31-87\n",
      "GAMAAAGGAHAATTT------IDTTEIVATIS--AGVTAISAIGVAVISLVVVIKLYKWVQRVL - C5T356_ACIDE/36-91\n",
      "AVGAAVAAGSAMAEG------VDVSAVVTTLG--TGVAAIGLIGVAILGLAAVVAIYNWVRKPI - Q6UAZ5_9VIRU/11-66\n",
      "VGMVSSAAFAQGTGG------VDVSSVTAALT--AAAAAIATIGVAWLAMTVGARVYKWVKSAI - A0A3S0RMX7_9GAMM/16-71\n",
      "AGAVVATAGTSAFAD------YDVTEIVSNLG--LAVTAAATIGVAWLGFTAGIAIWRNLRAAA - A0A1G6HAY5_9GAMM/29-84\n",
      "AGVGGAVAAGAANAA------IDLTAVTTAIG--DAGTAVGTIGSAVLVVIVGIAVYMWVRRPI - E5F071_9VIRU/13-68\n",
      "AIGVLALSSAQAQAA------LDLSELTTQME--GVKTAVTAVIAVALTIGVAIVGWRWVKRAL - A0A1T0CDG2_9GAMM/30-85\n",
      "ALAGSLLSVGSAHAA------VDVTAVTTEIS--GAAAPIAAIGGAVLVILVTAAVYKWVRRAL - G8QN66_AZOOP/10-65\n",
      "LMTGVVMAQTSGGAA------DLTAAVTGELS--DGKAQLYVIGGAVLTLVAVVALIRHMRRAA - A0A160MYR4_9GAMM/18-73\n",
      "AVLGSAFVATSANAA------IDVGSIVTEMT--SNQAAIVSVGGAGLLLFAAAAVFRYIKRAF - A0A2Z3HZ17_9GAMM/13-68\n",
      "AGVATAMLSTGAMAV------IDTTAAVAEID--GGATAVSAIGGAALVVLAAAAVFKYVRRAL - A0A1G5PU74_9GAMM/13-68\n",
      "TVAASTLVLAQSAHAA-----IDTGAVVSALT--DAAAAVAIVGAIVLTVQVAIKAYKFIARAL - A0A2S9GTJ6_9BURK/16-72\n",
      "AVALGGAVVLEQSAS------ADVSAVTGALT--AVGTDAATLGAAVLVVIVAVMAFKYLRKAL - A0A1Z4C4H7_9GAMM/36-91\n",
      "AVAATGLMVAQQAQA------AIPTEAQAALD--AAKEDGPAIAAIVLGIIIAIAAFKYIRRAL - A0A1E4UZP9_9PSED/13-68\n",
      "AVAAGSALIGSSAFA------AVPAEATTALT--TAGADVGTIGWAVFGVLVAAAAFKYMRRAL - A0A2I0CRA4_9PSED/11-66\n",
      "AAAAVGLLTVQQAYA------AVPTEATDSLD--TAGTDVGTIGWGVFAVIIAAMAFKYMRRAL - A0A0T6UQG1_9PSED/14-69\n",
      "GVSAGSLALAAQVHA------AVPADATGALD--TAKTDVGTIGWAVFAVIVAAVAFKYMRRAL - A0A1H3AFZ2_9PSED/25-80\n",
      "GAAAALSTLAGTVYA------AVPPEATGALD--EAGTDVGTIGWAVFAVIIAAMAFKYMRRAL - A0A658GHC3_9PSED/14-69\n",
      "GAAGAALVLASQAHA------ALPTEVTTAIT--AAGTDLLAAVTAVIVAFVAFWGMRKLASKM - A0A1C9VG81_9BURK/9-64\n",
      "KLLIVPALYAGYAAA------ALPPEVQQTID--STKEDITTVGAALVVLAVVVMGFRWLKAQF - A0A380MVN1_9GAMM/3-58\n",
      "SVFSVTALFGSQAFA------ALSSDVVASLE--GAKDDIIQAGGLVLIALVAVAAFRYIRRAF - A0A139SRG1_9GAMM/16-71\n",
      "AYASPLVLFAASARA------DLPEDVTTAIT--AAKADIAAAGALVITIVVGIKVWKWITRVF - Q82W09_NITEU/12-67\n",
      "FLLTLSLFMQAAAFA------AVPEGVTTAIT--SAATDVATVGAAVILVHIGIKVWRWIRGAF - F9ZKI0_9PROT/23-78\n",
      "VAGSASLTFAGNALA------AVPEGVTTAIT--SAATDVATVGAAVILVHIGIKVWRWLKAAF - F9ZKG9_9PROT/58-113\n",
      "AAATGLMALAVGANA------AVPAEVTSALT--DAKADALSVGGIVLGIIVSIFALMLIRRVL - V9HBT7_9NEIS/20-75\n",
      "AVGTAALAVSSGASA------AIPPEVTKAIT--DGFADAQLVAYAILTGLAVIYGISLAKRLL - A0A238TEF6_9NEIS/20-75\n",
      "ATGTGLMSLAISANA------ALPDDVKNAIS--AAKADGLEAGWLVVSVIAALFVMSIVKRLL - U6Q1F0_9NEIS/20-75\n",
      "AAFGGVMALPAMAMA------ALPDGVKTALE--GAKADGLEAGWLVIGVLAAIFVIGLIRRVM - G4CLJ9_9NEIS/15-70\n",
      "VVTAAPLALAAQANA------ALPETAKNALE--AAKADGMEAGWIVVGVFAALFVFSIVKRVM - Q5F7M7_NEIG1/16-71\n",
      "ALASVMMSAVVAAQA------AIPESVKTEIG--TAKTDVTELAGLVLGVLVVAFGYKMIKRFL - C4GK32_9NEIS/14-69\n",
      "AAIAAGTSLAVSAHA------AIPENVNTALG--SLSTDALTVAGIVLAAIVAVYAFKFIRKGL - A0A1G7EGK8_9BURK/12-67\n",
      "AVPALAVVAMGNAHA------ELPTEVTTALG--SLSTDALKVAGIVLAAIVAVYAFKFIRKGL - A9BV77_DELAS/18-73\n",
      "LIPAALVATVGTAHA------EIPAGVTAALD--SLSADALTVAGIVLAAVVAVYAFKFIRKGL - A0A2P1NLD6_9BURK/11-66\n",
      "AAFVVTNFFASVAHA------AVPASVTTGIG--DAVADVGAIGALVMGVIVAIVAFVWLKRVL - A0A1I2G4V6_9PROT/51-106\n",
      "TMVACLFVLPSIAFA------AVPASVTTAIT--DAVADVSTIGAAILGVIVVIASFMWMRRPI - A0A1I3YJU6_9PROT/62-117\n",
      "LAGTSLLILPAAASA------AVPAEVTTAIT--EAVTDVGTIGAAILGIIVVIASFAWLRRPI - A0A328ZTW0_9PROT/33-88\n",
      "APVAGLMAVAAGAHA------EVPAEVTTAIT--SAGTDAGVVGAAVLVVIIGIATFKFLRRAV - G2J4U2_PSEUL/11-66\n",
      "AVVSPVALFAGAAHA------ELPASVTTALG--DGLTDVGVVGAAVFLIVIAIAVWKYLKRAP - A0A323UTH4_9RHOO/20-75\n",
      "KVAGVTAVGVGSAVA------AVPENVTTAMS--DGLTDVKTVAAAGLIIVIAIVVFKYMKRGA - A0A172UEF2_9GAMM/11-66\n",
      "AVAAGTVALAGSAMA------EVPTDVATAMS--DSKADTATLAGLALIIVIGIATFKYMRRSV - A0A097ZPH4_9VIRU/11-66\n",
      "ATIAAPAFASGGSSG------VDVSAVVSAIN--AASTPIASIGAAVLIVMVGTKVYKWIRRAM - D2UDQ2_XANAP/17-72\n",
      "ALGALALVPAVSFAA------VDVAEVVTEIE--GAATPIAAIGAAVLLVMVGIKVFKWVRRAM - N6YCM5_9RHOO/8-63\n",
      "AAAAALAAGGANAAA------VDVAAVVTDIG--AQAAPIGLIGAAVLLIYVGVKAFQWVRKAL - A0A432L6P6_9BACI/15-70\n",
      "AAALLAVAVPSQAAA------VDVAAVVTDIG--AQIAPITAIGGAVLLVVVAIKAFKWVRRAL - A0A147GSC6_9BURK/16-71\n",
      "IAMFGAIGPAAAQSA------VDVSDVVTEIG--NAIGPVGQIGGAVLLVLVAIKVYKWVRRAF - A0A1B3WBW3_9GAMM/2-57\n",
      "VAMSAGIANANTPTA------PDLTPIVTMIT--GLASVVGSIGMAVLTVYATAKVFKWVKTAF - A0A1B8PL66_MORNO/32-87\n",
      "Alignment with 4 rows and 64 columns\n",
      "VTAALTLPAFAAAAQ------PDVTEVVAYIL--AGIATIALVG...GVL A0A328ZKQ2_9BURK/30-85\n",
      "LVLASPMALAQTGPT------IDVSSVTGFID-GQLIPGLGTIG...GAA A0A318DYR2_9GAMM/20-76\n",
      "LLLATSAMASSAFAE------IDVSAATTAIS-TDGSTAITAVG...GAI A0A081KB79_9GAMM/9-65\n",
      "LLVASALMSSSVFAA------IDISAATTALT-TDGSAAITAVG...GAI A0A081K835_9GAMM/9-65\n"
     ]
    }
   ],
   "source": [
    "# slicing alignments\n",
    "from Bio import AlignIO\n",
    "alignment = AlignIO.read('PF05371_seed.sth', 'stockholm')\n",
    "print('Number of rows: %i' % (len(alignment)))\n",
    "for record in alignment:\n",
    "    print('%s - %s' % (record.seq, record.id))\n",
    "\n",
    "print(alignment[3:7])"
   ]
  },
  {
   "cell_type": "code",
   "execution_count": 20,
   "metadata": {},
   "outputs": [
    {
     "name": "stdout",
     "output_type": "stream",
     "text": [
      "alignment[2, 6]: G\n",
      "alignment[2].seq[6]: G\n",
      "alignment[:, 6]: AWGLMALLFTATLASDFGVTLLVLGAATVLLMFMLALALLSLAAVLLMLMMLMTVVNFLMAAVALAVII\n",
      "alignment[3:6, :6]: Alignment with 3 rows and 6 columns\n",
      "VTAALT A0A328ZKQ2_9BURK/30-85\n",
      "LVLASP A0A318DYR2_9GAMM/20-76\n",
      "LLLATS A0A081KB79_9GAMM/9-65\n"
     ]
    }
   ],
   "source": [
    "# selecting by column\n",
    "print(f'alignment[2, 6]: {alignment[2, 6]}')\n",
    "# using two integer indices pulls out a single letter, short hand\n",
    "print(f'alignment[2].seq[6]: {alignment[2].seq[6]}')\n",
    "# pulling out a single column\n",
    "print(f'alignment[:, 6]: {alignment[:, 6]}')\n",
    "# selecting a range of columns\n",
    "print(f'alignment[3:6, :6]: {alignment[3:6, :6]}')"
   ]
  },
  {
   "cell_type": "code",
   "execution_count": 23,
   "metadata": {},
   "outputs": [
    {
     "name": "stdout",
     "output_type": "stream",
     "text": [
      "Array shape 69 by 64\n"
     ]
    },
    {
     "name": "stderr",
     "output_type": "stream",
     "text": [
      "<ipython-input-23-d8bcb18ec094>:5: DeprecationWarning: Converting `np.character` to a dtype is deprecated. The current result is `np.dtype(np.str_)` which is not strictly correct. Note that `np.character` is generally deprecated and 'S1' should be used.\n",
      "  align_array = np.array([list(rec) for rec in alignment], np.character)\n"
     ]
    }
   ],
   "source": [
    "# alignments as arrays\n",
    "import numpy as np\n",
    "from Bio import AlignIO\n",
    "alignment = AlignIO.read('PF05371_seed.sth', 'stockholm')\n",
    "align_array = np.array([list(rec) for rec in alignment], np.character)\n",
    "print('Array shape %i by %i' % align_array.shape)"
   ]
  },
  {
   "cell_type": "markdown",
   "metadata": {},
   "source": [
    "#### Getting information from the alignment"
   ]
  },
  {
   "cell_type": "code",
   "execution_count": 28,
   "metadata": {},
   "outputs": [
    {
     "name": "stdout",
     "output_type": "stream",
     "text": [
      "Alignment with 4 rows and 7 columns\n",
      "ACTCCTA seq1\n",
      "AAT-CTA seq2\n",
      "CCTACT- seq3\n",
      "TCTCCTC seq4\n",
      "    A    C    T\n",
      "A 2.0  4.5  1.0\n",
      "C 4.5 10.0  0.5\n",
      "T 1.0  0.5 12.0\n",
      "\n",
      "\n",
      "    A    T    C   G\n",
      "A 2.0  1.0  4.5 0.0\n",
      "T 1.0 12.0  0.5 0.0\n",
      "C 4.5  0.5 10.0 0.0\n",
      "G 0.0  0.0  0.0 0.0\n",
      "\n"
     ]
    }
   ],
   "source": [
    "# substitutions\n",
    "from Bio.Seq import Seq\n",
    "from Bio.SeqRecord import SeqRecord\n",
    "from Bio.Align import MultipleSeqAlignment\n",
    "alignment = MultipleSeqAlignment(\n",
    "    [\n",
    "        SeqRecord(Seq(\"ACTCCTA\"), id='seq1'),\n",
    "        SeqRecord(Seq(\"AAT-CTA\"), id='seq2'),\n",
    "        SeqRecord(Seq(\"CCTACT-\"), id='seq3'),\n",
    "        SeqRecord(Seq(\"TCTCCTC\"), id='seq4'),\n",
    "    ]\n",
    ")\n",
    "print(alignment)\n",
    "substitutions = alignment.substitutions\n",
    "print(substitutions)\n",
    "\n",
    "# adding entries for missing letters\n",
    "m = substitutions.select('ATCG')\n",
    "print()\n",
    "print(m)"
   ]
  },
  {
   "cell_type": "markdown",
   "metadata": {},
   "source": [
    "#### Alignment tools"
   ]
  },
  {
   "cell_type": "markdown",
   "metadata": {},
   "source": [
    "##### ClustalW"
   ]
  },
  {
   "cell_type": "code",
   "execution_count": 31,
   "metadata": {},
   "outputs": [
    {
     "name": "stdout",
     "output_type": "stream",
     "text": [
      "clustalw2 -infile=opuntia.fasta\n"
     ]
    }
   ],
   "source": [
    "from Bio.Align.Applications import ClustalwCommandline\n",
    "# help(ClustalwCommandline)\n",
    "cline = ClustalwCommandline('clustalw2', infile='opuntia.fasta')\n",
    "print(cline)"
   ]
  },
  {
   "cell_type": "code",
   "execution_count": null,
   "metadata": {},
   "outputs": [],
   "source": [
    "# do not run: results in error\n",
    "from Bio import AlignIO\n",
    "align = AlignIO.read('opuntia.aln', 'clustal')\n",
    "print(align)"
   ]
  },
  {
   "cell_type": "markdown",
   "metadata": {},
   "source": [
    "##### MUSCLE"
   ]
  },
  {
   "cell_type": "code",
   "execution_count": 33,
   "metadata": {},
   "outputs": [
    {
     "name": "stdout",
     "output_type": "stream",
     "text": [
      "muscle -in opuntia.fasta -out opuntia.txt\n"
     ]
    }
   ],
   "source": [
    "from Bio.Align.Applications import MuscleCommandline\n",
    "# help(ClustalwCommandline)\n",
    "cline = MuscleCommandline(input='opuntia.fasta', out='opuntia.txt')\n",
    "print(cline)"
   ]
  },
  {
   "cell_type": "markdown",
   "metadata": {},
   "source": [
    "#### MUSCLE uses “-in” and “-out” but in Biopython we have to use “input” and “out” as the keyword arguments or property names"
   ]
  },
  {
   "cell_type": "code",
   "execution_count": 1,
   "metadata": {},
   "outputs": [
    {
     "name": "stdout",
     "output_type": "stream",
     "text": [
      "muscle -in opuntia.fasta -out opuntia.aln -clw\n"
     ]
    }
   ],
   "source": [
    "# default output for MUSCLE is fasta format\n",
    "# asking for ClustalW-like format\n",
    "from Bio.Align.Applications import MuscleCommandline\n",
    "# help(ClustalwCommandline)\n",
    "cline = MuscleCommandline(input='opuntia.fasta', out='opuntia.aln', clw=True)\n",
    "print(cline)"
   ]
  },
  {
   "cell_type": "code",
   "execution_count": 3,
   "metadata": {},
   "outputs": [
    {
     "name": "stdout",
     "output_type": "stream",
     "text": [
      "muscle -in opuntia.fasta -out opuntia.aln -clwstrict\n"
     ]
    }
   ],
   "source": [
    "# strict ClustalW output\n",
    "from Bio.Align.Applications import MuscleCommandline\n",
    "# help(ClustalwCommandline)\n",
    "cline = MuscleCommandline(input='opuntia.fasta', out='opuntia.aln', clwstrict=True)\n",
    "print(cline)  # Bio.AlignIO module should be able to read these alignments using format=\"clustal\""
   ]
  },
  {
   "cell_type": "markdown",
   "metadata": {},
   "source": [
    "#### Pairwise alignments"
   ]
  },
  {
   "cell_type": "code",
   "execution_count": 2,
   "metadata": {},
   "outputs": [
    {
     "data": {
      "text/plain": [
       "3.0"
      ]
     },
     "execution_count": 2,
     "metadata": {},
     "output_type": "execute_result"
    }
   ],
   "source": [
    "from Bio import Align\n",
    "# aligner = Align.PairwiseAligner()\n",
    "aligner = Align.PairwiseAligner(match_score=1.0)\n",
    "seq1 = 'GAACT'\n",
    "seq2 = 'GAT'\n",
    "score = aligner.score(seq1, seq2)\n",
    "score"
   ]
  },
  {
   "cell_type": "code",
   "execution_count": 3,
   "metadata": {},
   "outputs": [
    {
     "name": "stdout",
     "output_type": "stream",
     "text": [
      "GAACT\n",
      "||--|\n",
      "GA--T\n",
      "\n",
      "GAACT\n",
      "|-|-|\n",
      "G-A-T\n",
      "\n"
     ]
    }
   ],
   "source": [
    "# to see actual alignment\n",
    "alignments = aligner.align(seq1, seq2)\n",
    "# print(len(alignments))\n",
    "for alignment in alignments:\n",
    "    print(alignment)"
   ]
  },
  {
   "cell_type": "code",
   "execution_count": 6,
   "metadata": {},
   "outputs": [
    {
     "name": "stdout",
     "output_type": "stream",
     "text": [
      "score: 5.0\n",
      "AGAACTC\n",
      " ||||| \n",
      " GAACT \n",
      "\n",
      "Pairwise sequence aligner with parameters\n",
      "  match_score: 1.000000\n",
      "  mismatch_score: 0.000000\n",
      "  target_internal_open_gap_score: 0.000000\n",
      "  target_internal_extend_gap_score: 0.000000\n",
      "  target_left_open_gap_score: 0.000000\n",
      "  target_left_extend_gap_score: 0.000000\n",
      "  target_right_open_gap_score: 0.000000\n",
      "  target_right_extend_gap_score: 0.000000\n",
      "  query_internal_open_gap_score: 0.000000\n",
      "  query_internal_extend_gap_score: 0.000000\n",
      "  query_left_open_gap_score: 0.000000\n",
      "  query_left_extend_gap_score: 0.000000\n",
      "  query_right_open_gap_score: 0.000000\n",
      "  query_right_extend_gap_score: 0.000000\n",
      "  mode: local\n",
      "\n"
     ]
    }
   ],
   "source": [
    "# local alignment (default is global alignment)\n",
    "aligner.mode = 'local'\n",
    "seq1 = 'AGAACTC'\n",
    "seq2 = 'GAACT'\n",
    "score = aligner.score(seq1, seq2)\n",
    "print(f'score: {score}')\n",
    "\n",
    "alignments = aligner.align(seq1, seq2)\n",
    "for alignment in alignments:\n",
    "    print(alignment)\n",
    "print(aligner)"
   ]
  },
  {
   "cell_type": "code",
   "execution_count": 7,
   "metadata": {},
   "outputs": [
    {
     "name": "stdout",
     "output_type": "stream",
     "text": [
      "Smith-Waterman\n",
      "1e-06\n"
     ]
    }
   ],
   "source": [
    "print(aligner.algorithm)\n",
    "print(aligner.epsilon)"
   ]
  },
  {
   "cell_type": "markdown",
   "metadata": {},
   "source": [
    "#### Iterating over alignments"
   ]
  },
  {
   "cell_type": "code",
   "execution_count": 28,
   "metadata": {},
   "outputs": [
    {
     "name": "stdout",
     "output_type": "stream",
     "text": [
      "AAA\n",
      "-||\n",
      "-AA\n",
      "\n",
      "AAA\n",
      "||-\n",
      "AA-\n",
      "\n"
     ]
    },
    {
     "data": {
      "text/plain": [
       "3"
      ]
     },
     "execution_count": 28,
     "metadata": {},
     "output_type": "execute_result"
    }
   ],
   "source": [
    "from Bio import Align\n",
    "aligner = Align.PairwiseAligner()\n",
    "alignments = aligner.align('AAA', 'AA')\n",
    "print(alignments[2])\n",
    "print(alignments[0])\n",
    "len(alignments)"
   ]
  },
  {
   "cell_type": "code",
   "execution_count": 14,
   "metadata": {},
   "outputs": [
    {
     "name": "stdout",
     "output_type": "stream",
     "text": [
      "AAA\n",
      "||-\n",
      "AA-\n",
      "\n",
      "AAA\n",
      "|-|\n",
      "A-A\n",
      "\n",
      "AAA\n",
      "-||\n",
      "-AA\n",
      "\n",
      "list of alignments: [<Bio.Align.PairwiseAlignment object at 0x00000132301DC2E0>, <Bio.Align.PairwiseAlignment object at 0x00000132301DC610>, <Bio.Align.PairwiseAlignment object at 0x00000132301DCB50>]\n"
     ]
    }
   ],
   "source": [
    "for alignment in alignments:\n",
    "    print(alignment)\n",
    "\n",
    "# alignments can be reused, i.e. you can iterate over alignments multiple times\n",
    "\n",
    "# converting alignments into list or tuples\n",
    "alignments = list(alignments)\n",
    "print(f'list of alignments: {alignments}')"
   ]
  },
  {
   "cell_type": "markdown",
   "metadata": {},
   "source": [
    "#### It is wise to check the number of alignments by calling len(alignments) before attempting to call list(alignments) to save all alignments as a list."
   ]
  },
  {
   "cell_type": "code",
   "execution_count": 17,
   "metadata": {},
   "outputs": [
    {
     "data": {
      "text/plain": [
       "2.0"
      ]
     },
     "execution_count": 17,
     "metadata": {},
     "output_type": "execute_result"
    }
   ],
   "source": [
    "alignments.score"
   ]
  },
  {
   "cell_type": "code",
   "execution_count": 1,
   "metadata": {},
   "outputs": [
    {
     "data": {
      "text/plain": [
       "<Bio.Align.PairwiseAlignment at 0x2bca507e7f0>"
      ]
     },
     "execution_count": 1,
     "metadata": {},
     "output_type": "execute_result"
    }
   ],
   "source": [
    "# alignment objects\n",
    "from Bio import Align\n",
    "aligner = Align.PairwiseAligner()\n",
    "seq1 = 'GAACT'\n",
    "seq2 = 'GAT'\n",
    "alignments = aligner.align(seq1, seq2)\n",
    "alignment = alignments[0]\n",
    "alignment  # doctest: +SKIP"
   ]
  },
  {
   "cell_type": "code",
   "execution_count": 35,
   "metadata": {},
   "outputs": [
    {
     "name": "stdout",
     "output_type": "stream",
     "text": [
      "3.0\n",
      "GAACT\n",
      "GAT\n",
      "GAACT\n",
      "||--|\n",
      "GA--T\n",
      "\n"
     ]
    }
   ],
   "source": [
    "print(alignment.score)\n",
    "print(alignment.target)\n",
    "print(alignment.query)\n",
    "print(alignment)  # show alignment explictly\n",
    "# alignment.shape  # returns a tuple: length of the alignnment and the number of columns in the alignment"
   ]
  },
  {
   "cell_type": "code",
   "execution_count": 4,
   "metadata": {},
   "outputs": [
    {
     "name": "stdout",
     "output_type": "stream",
     "text": [
      "TGAACT\n",
      " ||-| \n",
      " GA-C \n",
      "\n"
     ]
    }
   ],
   "source": [
    "# local alignments: sections that are not aligned are not included in the number of columns\n",
    "aligner.mode = 'local'\n",
    "local_alignments = aligner.align('TGAACT', 'GAC')\n",
    "local_alignment = local_alignments[0]\n",
    "print(local_alignment)\n",
    "# local_alignment.shape  # yields AttributeError: 'PairwiseAlignment' object has no attribute 'shape'"
   ]
  },
  {
   "cell_type": "markdown",
   "metadata": {},
   "source": [
    "#### Use the aligned property to find the start and end indices of subsequences in the target and query sequence that were aligned to each other. Generally, if the alignment between target (t) and query (q) consists of N chunks, you get two tuples of length N:\n",
    "(((t_start1, t_end1), (t_start2, t_end2), ..., (t_startN, t_endN)), ((q_start1, q_end1), (q_start2, q_end2), ..., (q_startN, q_endN)),)"
   ]
  },
  {
   "cell_type": "code",
   "execution_count": 6,
   "metadata": {},
   "outputs": [
    {
     "data": {
      "text/plain": [
       "(((0, 2), (4, 5)), ((0, 2), (2, 3)))"
      ]
     },
     "execution_count": 6,
     "metadata": {},
     "output_type": "execute_result"
    }
   ],
   "source": [
    "alignment.aligned"
   ]
  },
  {
   "cell_type": "code",
   "execution_count": 8,
   "metadata": {},
   "outputs": [
    {
     "name": "stdout",
     "output_type": "stream",
     "text": [
      "GAACT\n",
      "|-|-|\n",
      "G-A-T\n",
      "\n"
     ]
    },
    {
     "data": {
      "text/plain": [
       "(((0, 1), (2, 3), (4, 5)), ((0, 1), (1, 2), (2, 3)))"
      ]
     },
     "execution_count": 8,
     "metadata": {},
     "output_type": "execute_result"
    }
   ],
   "source": [
    "# alternative alignment\n",
    "alignment = alignments[1]\n",
    "print(alignment)\n",
    "alignment.aligned"
   ]
  },
  {
   "cell_type": "code",
   "execution_count": 17,
   "metadata": {},
   "outputs": [
    {
     "name": "stdout",
     "output_type": "stream",
     "text": [
      "4.0\n",
      "0.0\n"
     ]
    }
   ],
   "source": [
    "# aligning to reverse strand - use strand='-'\n",
    "from Bio import Align\n",
    "from Bio.Seq import reverse_complement\n",
    "seq1 = 'AAAACCC'\n",
    "seq2 = 'AACC'\n",
    "aligner = Align.PairwiseAligner()\n",
    "aligner.mismatch_score = -1\n",
    "aligner.internal_gap_score = -1\n",
    "print(aligner.score(seq1, seq2))  # strand is '+' by default\n",
    "# print(aligner.score(seq1, reverse_complement(seq2), strand='-'))\n",
    "# aligner.score(seq1, seq2, strand=\"-\")\n",
    "print(aligner.score(seq1, reverse_complement(seq2)))"
   ]
  },
  {
   "cell_type": "markdown",
   "metadata": {},
   "source": [
    "#### Generalized pairwise alignments using match/mismatch scores and an alphabet\n",
    "#### In most cases, PairwiseAligner is used to perform alignments of sequences (strings or Seq objects) consisting of single-letter nucleotides or amino acids. More generally, PairwiseAligner can also be applied to lists or tuples of arbitrary objects."
   ]
  },
  {
   "cell_type": "code",
   "execution_count": 29,
   "metadata": {},
   "outputs": [
    {
     "name": "stdout",
     "output_type": "stream",
     "text": [
      "number of alignments: 2\n",
      "alignment 1:\n",
      "Asn Leu Leu Phe\n",
      "||| ||| --- |||\n",
      "Asn Leu --- Phe\n",
      "\n",
      "alignment 2:\n",
      "Asn Leu Leu Phe\n",
      "||| --- ||| |||\n",
      "Asn --- Leu Phe\n",
      "\n",
      "alignment score: 18.0\n"
     ]
    }
   ],
   "source": [
    "from Bio import Align\n",
    "aligner = Align.PairwiseAligner()\n",
    "s1 = ('Asn', 'Leu', 'Leu', 'Phe')\n",
    "s2 = ('Asn', 'Leu', 'Phe')\n",
    "aligner.alphabet = ['Ala', 'Arg', 'Asn', 'Asp', 'Cys',\n",
    "                    'Gln', 'Glu', 'Gly', 'His', 'Ile',\n",
    "                    'Leu', 'Lys', 'Met', 'Phe', 'Pro',\n",
    "                    'Ser', 'Thr', 'Trp', 'Tyr', 'Val']\n",
    "\n",
    "# use +6/-1 match and mismatch scores as an approximation of the BLOSUM62 matrix and align these sequences to each other\n",
    "aligner.match = +6\n",
    "aligner.mismatch = -1\n",
    "alignments = aligner.align(s1, s2)\n",
    "print(f'number of alignments: {len(alignments)}')\n",
    "print(f'alignment 1:\\n{alignments[0]}')  # prints a blankline after the alignment\n",
    "print(f'alignment 2:\\n{alignments[1]}')\n",
    "print(f'alignment score: {alignments.score}')"
   ]
  },
  {
   "cell_type": "code",
   "execution_count": null,
   "metadata": {},
   "outputs": [],
   "source": []
  }
 ],
 "metadata": {
  "kernelspec": {
   "display_name": "Python 3",
   "language": "python",
   "name": "python3"
  },
  "language_info": {
   "codemirror_mode": {
    "name": "ipython",
    "version": 3
   },
   "file_extension": ".py",
   "mimetype": "text/x-python",
   "name": "python",
   "nbconvert_exporter": "python",
   "pygments_lexer": "ipython3",
   "version": "3.8.5"
  }
 },
 "nbformat": 4,
 "nbformat_minor": 4
}
