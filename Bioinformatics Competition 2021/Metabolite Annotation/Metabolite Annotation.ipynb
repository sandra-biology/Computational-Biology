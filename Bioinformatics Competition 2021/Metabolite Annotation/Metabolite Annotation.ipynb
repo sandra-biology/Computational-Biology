{
 "cells": [
  {
   "cell_type": "code",
   "execution_count": 10,
   "metadata": {},
   "outputs": [
    {
     "name": "stdout",
     "output_type": "stream",
     "text": [
      "n_tests: 3\n",
      "nM: 2, nK: 2, nN: 5\n",
      "nM: 2, nK: 2, nN: 5\n",
      "nM: 5, nK: 4, nN: 7\n"
     ]
    }
   ],
   "source": [
    "with open('test.txt') as metabolites_file:\n",
    "    n_tests = int(metabolites_file.readline().strip())\n",
    "    print(f'n_tests: {n_tests}')\n",
    "    for _ in range(n_tests):\n",
    "        int_numbers = metabolites_file.readline().strip()\n",
    "        nM, nK, nN = [int(x) for x in int_numbers.split()]\n",
    "        M = metabolites_file.readline().strip()\n",
    "        N = metabolites_file.readline().strip()\n",
    "        K = metabolites_file.readline().strip()\n",
    "        print(f'nM: {nM}, nK: {nK}, nN: {nN}')"
   ]
  },
  {
   "cell_type": "code",
   "execution_count": 16,
   "metadata": {},
   "outputs": [
    {
     "name": "stdout",
     "output_type": "stream",
     "text": [
      "n_tests: 3\n",
      "nM: 2, nK: 2, nN: 5\n",
      "M: [1.000002, 2e-06]\n",
      "K: [0.5, -0.5]\n",
      "N: [0.500001, 0.500002, 0.500003, 1.0, 1e-06]\n",
      "nM: 2, nK: 2, nN: 5\n",
      "M: [1.000002, 1e-06]\n",
      "K: [0.5, -0.5]\n",
      "N: [0.500001, 0.500002, 0.500003, 1.0, 1e-06]\n",
      "nM: 5, nK: 4, nN: 7\n",
      "M: [1e-06, 2e-06, 3e-06, 4e-06, 5e-06]\n",
      "K: [2e-06, 1e-05, 1e-06, -1e-06]\n",
      "N: [1e-06, 2e-06, 0.0001, 5e-06, 2e-05, 1e-05, 3e-06]\n"
     ]
    }
   ],
   "source": [
    "def process_test(M, N, K):\n",
    "    pass\n",
    "\n",
    "with open('test.txt') as metabolites_file:\n",
    "    n_tests = int(metabolites_file.readline().strip())\n",
    "    print(f'n_tests: {n_tests}')\n",
    "    for _ in range(n_tests):\n",
    "        int_numbers = metabolites_file.readline().strip()\n",
    "        nM, nK, nN = [int(x) for x in int_numbers.split()]\n",
    "        print(f'nM: {nM}, nK: {nK}, nN: {nN}')\n",
    "        M = [float(x) for x in metabolites_file.readline().strip().split()]\n",
    "        K = [float(x) for x in metabolites_file.readline().strip().split()]\n",
    "        N = [float(x) for x in metabolites_file.readline().strip().split()]\n",
    "        print(f'M: {M}')\n",
    "        print(f'K: {K}')\n",
    "        print(f'N: {N}')\n",
    "        # iM, iK = process_test(M, N, K)"
   ]
  },
  {
   "cell_type": "code",
   "execution_count": 10,
   "metadata": {},
   "outputs": [
    {
     "name": "stdout",
     "output_type": "stream",
     "text": [
      "n_tests: 3\n",
      "nM: 2, nK: 2, nN: 5\n",
      "M: [1.000002, 2e-06]\n",
      "K: [0.5, -0.5]\n",
      "N: [0.500001, 0.500002, 0.500003, 1.0, 1e-06]\n",
      "N[i]: 0.500001\n",
      "M[j]: 2e-06\n",
      "K[k]: -0.5\n",
      "i_out: []\n",
      "N[i]: 0.500002\n",
      "M[j]: 2e-06\n",
      "K[k]: -0.5\n",
      "i_out: [[1, 0]]\n",
      "N[i]: 0.500003\n",
      "M[j]: 2e-06\n",
      "K[k]: -0.5\n",
      "i_out: [[1, 0]]\n",
      "N[i]: 1.0\n",
      "M[j]: 2e-06\n",
      "K[k]: -0.5\n",
      "i_out: [[1, 0]]\n",
      "N[i]: 1e-06\n",
      "M[j]: 2e-06\n",
      "K[k]: -0.5\n",
      "i_out: [[1, 0]]\n"
     ]
    },
    {
     "ename": "ValueError",
     "evalue": "not enough values to unpack (expected 2, got 1)",
     "output_type": "error",
     "traceback": [
      "\u001b[1;31m---------------------------------------------------------------------------\u001b[0m",
      "\u001b[1;31mValueError\u001b[0m                                Traceback (most recent call last)",
      "\u001b[1;32m<ipython-input-10-fef50040f6d6>\u001b[0m in \u001b[0;36m<module>\u001b[1;34m\u001b[0m\n\u001b[0;32m     44\u001b[0m \u001b[1;33m\u001b[0m\u001b[0m\n\u001b[0;32m     45\u001b[0m \u001b[0minput_name\u001b[0m \u001b[1;33m=\u001b[0m \u001b[1;34m'test.txt'\u001b[0m\u001b[1;33m\u001b[0m\u001b[1;33m\u001b[0m\u001b[0m\n\u001b[1;32m---> 46\u001b[1;33m \u001b[0mannotate\u001b[0m\u001b[1;33m(\u001b[0m\u001b[0minput_name\u001b[0m\u001b[1;33m)\u001b[0m\u001b[1;33m\u001b[0m\u001b[1;33m\u001b[0m\u001b[0m\n\u001b[0m",
      "\u001b[1;32m<ipython-input-10-fef50040f6d6>\u001b[0m in \u001b[0;36mannotate\u001b[1;34m(input_name)\u001b[0m\n\u001b[0;32m     40\u001b[0m         \u001b[0mprint\u001b[0m\u001b[1;33m(\u001b[0m\u001b[1;34mf'K: {K}'\u001b[0m\u001b[1;33m)\u001b[0m\u001b[1;33m\u001b[0m\u001b[1;33m\u001b[0m\u001b[0m\n\u001b[0;32m     41\u001b[0m         \u001b[0mprint\u001b[0m\u001b[1;33m(\u001b[0m\u001b[1;34mf'N: {N}'\u001b[0m\u001b[1;33m)\u001b[0m\u001b[1;33m\u001b[0m\u001b[1;33m\u001b[0m\u001b[0m\n\u001b[1;32m---> 42\u001b[1;33m         \u001b[0miM\u001b[0m\u001b[1;33m,\u001b[0m \u001b[0miK\u001b[0m \u001b[1;33m=\u001b[0m \u001b[0mprocess_test\u001b[0m\u001b[1;33m(\u001b[0m\u001b[0mM\u001b[0m\u001b[1;33m,\u001b[0m \u001b[0mN\u001b[0m\u001b[1;33m,\u001b[0m \u001b[0mK\u001b[0m\u001b[1;33m)\u001b[0m\u001b[1;33m\u001b[0m\u001b[1;33m\u001b[0m\u001b[0m\n\u001b[0m\u001b[0;32m     43\u001b[0m     \u001b[1;32mreturn\u001b[0m \u001b[0miM\u001b[0m\u001b[1;33m,\u001b[0m \u001b[0miK\u001b[0m\u001b[1;33m\u001b[0m\u001b[1;33m\u001b[0m\u001b[0m\n\u001b[0;32m     44\u001b[0m \u001b[1;33m\u001b[0m\u001b[0m\n",
      "\u001b[1;31mValueError\u001b[0m: not enough values to unpack (expected 2, got 1)"
     ]
    }
   ],
   "source": [
    "def process_test(M, N, K):\n",
    "    nM = len(M)\n",
    "    nN = len(N)\n",
    "    nK = len(K)\n",
    "    i_out = []\n",
    "    delta = 0\n",
    "    min_delta = 0\n",
    "    m_k_sum = 0\n",
    "    for i in range(len(N)):\n",
    "        iM_iK_list = []\n",
    "        for j in range(len(M)):\n",
    "            for k in range(len(K)):\n",
    "                m_k_sum = M[j] + K[k]\n",
    "                if m_k_sum > 0 and m_k_sum != N[i]:\n",
    "                    delta = abs(m_k_sum - N[i])\n",
    "                if delta < min_delta:\n",
    "                    min_delta = delta\n",
    "                if m_k_sum == N[i] or min_delta == delta:\n",
    "                    iM_iK_list.append(j)\n",
    "                    iM_iK_list.append(k)\n",
    "                    i_out.append(iM_iK_list)\n",
    "        print(f'N[i]: {N[i]}')\n",
    "        print(f'M[j]: {M[j]}')\n",
    "        print(f'K[k]: {K[k]}')\n",
    "        print(f'i_out: {i_out}')\n",
    "    return i_out\n",
    "\n",
    "def annotate(input_name):\n",
    "    test_file = open(input_name)\n",
    "    n_tests = int(test_file.readline().strip())\n",
    "    print(f'n_tests: {n_tests}')\n",
    "    for _ in range(n_tests):\n",
    "        int_numbers = test_file.readline().strip()\n",
    "        nM, nK, nN = [int(x) for x in int_numbers.split()]\n",
    "        print(f'nM: {nM}, nK: {nK}, nN: {nN}')\n",
    "        M = [float(x) for x in test_file.readline().strip().split()]\n",
    "        K = [float(x) for x in test_file.readline().strip().split()]\n",
    "        N = [float(x) for x in test_file.readline().strip().split()]\n",
    "        print(f'M: {M}')\n",
    "        print(f'K: {K}')\n",
    "        print(f'N: {N}')\n",
    "        iM, iK = process_test(M, N, K)\n",
    "    return iM, iK\n",
    "\n",
    "input_name = 'test.txt'\n",
    "annotate(input_name)"
   ]
  }
 ],
 "metadata": {
  "kernelspec": {
   "display_name": "Python 3",
   "language": "python",
   "name": "python3"
  },
  "language_info": {
   "codemirror_mode": {
    "name": "ipython",
    "version": 3
   },
   "file_extension": ".py",
   "mimetype": "text/x-python",
   "name": "python",
   "nbconvert_exporter": "python",
   "pygments_lexer": "ipython3",
   "version": "3.8.5"
  }
 },
 "nbformat": 4,
 "nbformat_minor": 4
}
