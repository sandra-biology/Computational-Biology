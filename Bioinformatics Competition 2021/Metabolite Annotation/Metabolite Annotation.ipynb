{
 "cells": [
  {
   "cell_type": "code",
   "execution_count": 10,
   "metadata": {},
   "outputs": [
    {
     "name": "stdout",
     "output_type": "stream",
     "text": [
      "n_tests: 3\n",
      "nM: 2, nK: 2, nN: 5\n",
      "nM: 2, nK: 2, nN: 5\n",
      "nM: 5, nK: 4, nN: 7\n"
     ]
    }
   ],
   "source": [
    "with open('test.txt') as metabolites_file:\n",
    "    n_tests = int(metabolites_file.readline().strip())\n",
    "    print(f'n_tests: {n_tests}')\n",
    "    for _ in range(n_tests):\n",
    "        int_numbers = metabolites_file.readline().strip()\n",
    "        nM, nK, nN = [int(x) for x in int_numbers.split()]\n",
    "        M = metabolites_file.readline().strip()\n",
    "        N = metabolites_file.readline().strip()\n",
    "        K = metabolites_file.readline().strip()\n",
    "        print(f'nM: {nM}, nK: {nK}, nN: {nN}')"
   ]
  },
  {
   "cell_type": "code",
   "execution_count": 16,
   "metadata": {},
   "outputs": [
    {
     "name": "stdout",
     "output_type": "stream",
     "text": [
      "n_tests: 3\n",
      "nM: 2, nK: 2, nN: 5\n",
      "M: [1.000002, 2e-06]\n",
      "K: [0.5, -0.5]\n",
      "N: [0.500001, 0.500002, 0.500003, 1.0, 1e-06]\n",
      "nM: 2, nK: 2, nN: 5\n",
      "M: [1.000002, 1e-06]\n",
      "K: [0.5, -0.5]\n",
      "N: [0.500001, 0.500002, 0.500003, 1.0, 1e-06]\n",
      "nM: 5, nK: 4, nN: 7\n",
      "M: [1e-06, 2e-06, 3e-06, 4e-06, 5e-06]\n",
      "K: [2e-06, 1e-05, 1e-06, -1e-06]\n",
      "N: [1e-06, 2e-06, 0.0001, 5e-06, 2e-05, 1e-05, 3e-06]\n"
     ]
    }
   ],
   "source": [
    "def process_test(M, N, K):\n",
    "    pass\n",
    "\n",
    "with open('test.txt') as metabolites_file:\n",
    "    n_tests = int(metabolites_file.readline().strip())\n",
    "    print(f'n_tests: {n_tests}')\n",
    "    for _ in range(n_tests):\n",
    "        int_numbers = metabolites_file.readline().strip()\n",
    "        nM, nK, nN = [int(x) for x in int_numbers.split()]\n",
    "        print(f'nM: {nM}, nK: {nK}, nN: {nN}')\n",
    "        M = [float(x) for x in metabolites_file.readline().strip().split()]\n",
    "        K = [float(x) for x in metabolites_file.readline().strip().split()]\n",
    "        N = [float(x) for x in metabolites_file.readline().strip().split()]\n",
    "        print(f'M: {M}')\n",
    "        print(f'K: {K}')\n",
    "        print(f'N: {N}')\n",
    "        # iM, iK = process_test(M, N, K)"
   ]
  },
  {
   "cell_type": "code",
   "execution_count": 10,
   "metadata": {},
   "outputs": [
    {
     "name": "stdout",
     "output_type": "stream",
     "text": [
      "n_tests: 3\n",
      "nM: 2, nK: 2, nN: 5\n",
      "M: [1.000002, 2e-06]\n",
      "K: [0.5, -0.5]\n",
      "N: [0.500001, 0.500002, 0.500003, 1.0, 1e-06]\n",
      "N[i]: 0.500001\n",
      "M[j]: 2e-06\n",
      "K[k]: -0.5\n",
      "i_out: []\n",
      "N[i]: 0.500002\n",
      "M[j]: 2e-06\n",
      "K[k]: -0.5\n",
      "i_out: [[1, 0]]\n",
      "N[i]: 0.500003\n",
      "M[j]: 2e-06\n",
      "K[k]: -0.5\n",
      "i_out: [[1, 0]]\n",
      "N[i]: 1.0\n",
      "M[j]: 2e-06\n",
      "K[k]: -0.5\n",
      "i_out: [[1, 0]]\n",
      "N[i]: 1e-06\n",
      "M[j]: 2e-06\n",
      "K[k]: -0.5\n",
      "i_out: [[1, 0]]\n"
     ]
    },
    {
     "ename": "ValueError",
     "evalue": "not enough values to unpack (expected 2, got 1)",
     "output_type": "error",
     "traceback": [
      "\u001b[1;31m---------------------------------------------------------------------------\u001b[0m",
      "\u001b[1;31mValueError\u001b[0m                                Traceback (most recent call last)",
      "\u001b[1;32m<ipython-input-10-fef50040f6d6>\u001b[0m in \u001b[0;36m<module>\u001b[1;34m\u001b[0m\n\u001b[0;32m     44\u001b[0m \u001b[1;33m\u001b[0m\u001b[0m\n\u001b[0;32m     45\u001b[0m \u001b[0minput_name\u001b[0m \u001b[1;33m=\u001b[0m \u001b[1;34m'test.txt'\u001b[0m\u001b[1;33m\u001b[0m\u001b[1;33m\u001b[0m\u001b[0m\n\u001b[1;32m---> 46\u001b[1;33m \u001b[0mannotate\u001b[0m\u001b[1;33m(\u001b[0m\u001b[0minput_name\u001b[0m\u001b[1;33m)\u001b[0m\u001b[1;33m\u001b[0m\u001b[1;33m\u001b[0m\u001b[0m\n\u001b[0m",
      "\u001b[1;32m<ipython-input-10-fef50040f6d6>\u001b[0m in \u001b[0;36mannotate\u001b[1;34m(input_name)\u001b[0m\n\u001b[0;32m     40\u001b[0m         \u001b[0mprint\u001b[0m\u001b[1;33m(\u001b[0m\u001b[1;34mf'K: {K}'\u001b[0m\u001b[1;33m)\u001b[0m\u001b[1;33m\u001b[0m\u001b[1;33m\u001b[0m\u001b[0m\n\u001b[0;32m     41\u001b[0m         \u001b[0mprint\u001b[0m\u001b[1;33m(\u001b[0m\u001b[1;34mf'N: {N}'\u001b[0m\u001b[1;33m)\u001b[0m\u001b[1;33m\u001b[0m\u001b[1;33m\u001b[0m\u001b[0m\n\u001b[1;32m---> 42\u001b[1;33m         \u001b[0miM\u001b[0m\u001b[1;33m,\u001b[0m \u001b[0miK\u001b[0m \u001b[1;33m=\u001b[0m \u001b[0mprocess_test\u001b[0m\u001b[1;33m(\u001b[0m\u001b[0mM\u001b[0m\u001b[1;33m,\u001b[0m \u001b[0mN\u001b[0m\u001b[1;33m,\u001b[0m \u001b[0mK\u001b[0m\u001b[1;33m)\u001b[0m\u001b[1;33m\u001b[0m\u001b[1;33m\u001b[0m\u001b[0m\n\u001b[0m\u001b[0;32m     43\u001b[0m     \u001b[1;32mreturn\u001b[0m \u001b[0miM\u001b[0m\u001b[1;33m,\u001b[0m \u001b[0miK\u001b[0m\u001b[1;33m\u001b[0m\u001b[1;33m\u001b[0m\u001b[0m\n\u001b[0;32m     44\u001b[0m \u001b[1;33m\u001b[0m\u001b[0m\n",
      "\u001b[1;31mValueError\u001b[0m: not enough values to unpack (expected 2, got 1)"
     ]
    }
   ],
   "source": [
    "def process_test(M, N, K):\n",
    "    nM = len(M)\n",
    "    nN = len(N)\n",
    "    nK = len(K)\n",
    "    i_out = []\n",
    "    delta = 0\n",
    "    min_delta = 0\n",
    "    m_k_sum = 0\n",
    "    for i in range(len(N)):\n",
    "        iM_iK_list = []\n",
    "        for j in range(len(M)):\n",
    "            for k in range(len(K)):\n",
    "                m_k_sum = M[j] + K[k]\n",
    "                if m_k_sum > 0 and m_k_sum != N[i]:\n",
    "                    delta = abs(m_k_sum - N[i])\n",
    "                if delta < min_delta:\n",
    "                    min_delta = delta\n",
    "                if m_k_sum == N[i] or min_delta == delta:\n",
    "                    iM_iK_list.append(j)\n",
    "                    iM_iK_list.append(k)\n",
    "                    i_out.append(iM_iK_list)\n",
    "        print(f'N[i]: {N[i]}')\n",
    "        print(f'M[j]: {M[j]}')\n",
    "        print(f'K[k]: {K[k]}')\n",
    "        print(f'i_out: {i_out}')\n",
    "    return i_out\n",
    "\n",
    "def annotate(input_name):\n",
    "    test_file = open(input_name)\n",
    "    n_tests = int(test_file.readline().strip())\n",
    "    print(f'n_tests: {n_tests}')\n",
    "    for _ in range(n_tests):\n",
    "        int_numbers = test_file.readline().strip()\n",
    "        nM, nK, nN = [int(x) for x in int_numbers.split()]\n",
    "        print(f'nM: {nM}, nK: {nK}, nN: {nN}')\n",
    "        M = [float(x) for x in test_file.readline().strip().split()]\n",
    "        K = [float(x) for x in test_file.readline().strip().split()]\n",
    "        N = [float(x) for x in test_file.readline().strip().split()]\n",
    "        print(f'M: {M}')\n",
    "        print(f'K: {K}')\n",
    "        print(f'N: {N}')\n",
    "        iM, iK = process_test(M, N, K)\n",
    "    return iM, iK\n",
    "\n",
    "input_name = 'test.txt'\n",
    "annotate(input_name)"
   ]
  },
  {
   "cell_type": "code",
   "execution_count": 23,
   "metadata": {},
   "outputs": [
    {
     "name": "stdout",
     "output_type": "stream",
     "text": [
      "nM: 2, nK: 2, nN: 5\n",
      "2 1\n",
      "2 1\n",
      "1 2\n",
      "1 2\n",
      "2 2\n",
      "nM: 2, nK: 2, nN: 5\n",
      "2 1\n",
      "1 2\n",
      "1 2\n",
      "1 2\n",
      "2 1\n",
      "nM: 5, nK: 4, nN: 7\n",
      "2 4\n",
      "1 3\n",
      "5 2\n",
      "3 1\n",
      "5 2\n",
      "1 2\n",
      "1 1\n",
      "created output file test_output.txt\n"
     ]
    }
   ],
   "source": [
    "def process_test(M, K, N):\n",
    "    \"\"\"\n",
    "    M is database of metabolites\n",
    "    K is database of adducts\n",
    "    N is our measured signals\n",
    "    \"\"\"\n",
    "    list_pairs = []\n",
    "    for isignal in range(len(N)):\n",
    "        meta_min = 0\n",
    "        adduct_min = 0\n",
    "        delta_min = abs(M[meta_min] + K[adduct_min] - N[isignal])\n",
    "        for imeta in range(len(M)):\n",
    "            for iadduct in range(len(K)):\n",
    "                delta_curr = abs(M[imeta] + K[iadduct] - N[isignal])\n",
    "                if delta_curr < delta_min:\n",
    "                    delta_min = delta_curr\n",
    "                    meta_min = imeta\n",
    "                    adduct_min = iadduct\n",
    "\n",
    "        # here we selected pair that gives closest sum to our signal\n",
    "        list_pairs.append((meta_min, adduct_min))\n",
    "\n",
    "    return list_pairs \n",
    "\n",
    "def annotate(input_name, output_name):\n",
    "    input_file = open(input_name)\n",
    "    output_file = open(output_name, 'w')\n",
    "\n",
    "    n_tests = int(input_file.readline().strip())\n",
    "    for itest in range(n_tests):\n",
    "        int_numbers = input_file.readline().strip()\n",
    "        nM, nK, nN = [int(x) for x in int_numbers.split()]\n",
    "        print(f'nM: {nM}, nK: {nK}, nN: {nN}')\n",
    "        M = [float(x) for x in input_file.readline().strip().split()]\n",
    "        K = [float(x) for x in input_file.readline().strip().split()]\n",
    "        N = [float(x) for x in input_file.readline().strip().split()]\n",
    "        \n",
    "        # print(f'\\ntest {itest}')\n",
    "        # print(f'M: {M}')\n",
    "        # print(f'K: {K}')\n",
    "        # print(f'N: {N}')\n",
    "\n",
    "        list_pairs = process_test(M, K, N)\n",
    "        \n",
    "        for x in list_pairs:\n",
    "            output_file.write(f'{x[0] + 1} {x[1] + 1}\\n')\n",
    "            print(f'{x[0] + 1} {x[1] + 1}')\n",
    "\n",
    "    print(f'created output file {output_name}')\n",
    "    input_file.close()\n",
    "    output_file.close()\n",
    "\n",
    "input_name = 'test.txt'\n",
    "output_name = 'test_output.txt'\n",
    "annotate(input_name, output_name)"
   ]
  },
  {
   "cell_type": "code",
   "execution_count": 3,
   "metadata": {},
   "outputs": [
    {
     "name": "stdout",
     "output_type": "stream",
     "text": [
      "itest: 0\n",
      "2 1\n",
      "2 1\n",
      "1 2\n",
      "1 2\n",
      "2 1\n",
      "itest: 1\n",
      "2 1\n",
      "1 2\n",
      "1 2\n",
      "1 2\n",
      "2 1\n",
      "itest: 2\n",
      "2 4\n",
      "1 3\n",
      "5 2\n",
      "3 1\n",
      "5 2\n",
      "1 2\n",
      "1 1\n",
      "created output file test_output.txt\n"
     ]
    }
   ],
   "source": [
    "def process_test(M, K, N):\n",
    "    \"\"\"\n",
    "    M is database of metabolites\n",
    "    K is database of adducts\n",
    "    N is our measured signals\n",
    "    \"\"\"\n",
    "    list_pairs = []\n",
    "    for isignal in range(len(N)):\n",
    "        meta_min = None\n",
    "        adduct_min = None\n",
    "        # delta_min = abs(M[meta_min] + K[adduct_min] - N[isignal])\n",
    "        delta_min = 1e6\n",
    "        for imeta in range(len(M)):\n",
    "            for iadduct in range(len(K)):\n",
    "                sum_curr = M[imeta] + K[iadduct]\n",
    "                if sum_curr < 0:\n",
    "                    continue\n",
    "                delta_curr = abs(sum_curr - N[isignal])\n",
    "                if delta_curr < delta_min:\n",
    "                    delta_min = delta_curr\n",
    "                    meta_min = imeta\n",
    "                    adduct_min = iadduct\n",
    "\n",
    "        # here we selected pair that gives closest sum to our signal\n",
    "        if meta_min is None:\n",
    "            print(f'isignal: {isignal} meta_min is None')\n",
    "        if adduct_min is None:\n",
    "            print(f'isignal: {isignal} adduct_min is None')\n",
    "        list_pairs.append((meta_min, adduct_min))\n",
    "\n",
    "    return list_pairs \n",
    "\n",
    "def annotate(input_name, output_name):\n",
    "    input_file = open(input_name)\n",
    "    output_file = open(output_name, 'w')\n",
    "\n",
    "    n_tests = int(input_file.readline().strip())\n",
    "    for itest in range(n_tests):\n",
    "        print(f'itest: {itest}')\n",
    "\n",
    "        int_numbers = input_file.readline().strip()\n",
    "        nM, nK, nN = [int(x) for x in int_numbers.split()]\n",
    "        # print(f'nM: {nM}, nK: {nK}, nN: {nN}')\n",
    "\n",
    "        M = [float(x) for x in input_file.readline().strip().split()]\n",
    "        K = [float(x) for x in input_file.readline().strip().split()]\n",
    "        N = [float(x) for x in input_file.readline().strip().split()]\n",
    "        \n",
    "        # print(f'M: {M}')\n",
    "        # print(f'K: {K}')\n",
    "        # print(f'N: {N}')\n",
    "\n",
    "        list_pairs = process_test(M, K, N)\n",
    "        \n",
    "        for x in list_pairs:\n",
    "            print(f'{x[0] + 1} {x[1] + 1}')\n",
    "            output_file.write(f'{x[0] + 1} {x[1] + 1}\\n')\n",
    "\n",
    "    print(f'created output file {output_name}')\n",
    "    input_file.close()\n",
    "    output_file.close()\n",
    "\n",
    "input_name = 'test.txt'\n",
    "output_name = 'test_output.txt'\n",
    "annotate(input_name, output_name)"
   ]
  },
  {
   "cell_type": "code",
   "execution_count": 2,
   "metadata": {},
   "outputs": [
    {
     "name": "stdout",
     "output_type": "stream",
     "text": [
      "created output file 1_output.txt\n",
      "Wall time: 3 ms\n"
     ]
    }
   ],
   "source": [
    "%%time\n",
    "\n",
    "# for test #1\n",
    "\n",
    "def process_test(M, K, N):\n",
    "    \"\"\"\n",
    "    M is database of metabolites\n",
    "    K is database of adducts\n",
    "    N is our measured signals\n",
    "    \"\"\"\n",
    "    list_pairs = []\n",
    "    for isignal in range(len(N)):\n",
    "        meta_min = None\n",
    "        adduct_min = None\n",
    "        # delta_min = abs(M[meta_min] + K[adduct_min] - N[isignal])\n",
    "        delta_min = 1e6\n",
    "        for imeta in range(len(M)):\n",
    "            for iadduct in range(len(K)):\n",
    "                sum_curr = M[imeta] + K[iadduct]\n",
    "                if sum_curr < 0:\n",
    "                    continue\n",
    "                delta_curr = abs(sum_curr - N[isignal])\n",
    "                if delta_curr < delta_min:\n",
    "                    delta_min = delta_curr\n",
    "                    meta_min = imeta\n",
    "                    adduct_min = iadduct\n",
    "\n",
    "        # here we selected pair that gives closest sum to our signal\n",
    "        if meta_min is None:\n",
    "            print(f'isignal: {isignal} meta_min is None')\n",
    "        if adduct_min is None:\n",
    "            print(f'isignal: {isignal} adduct_min is None')\n",
    "        list_pairs.append((meta_min, adduct_min))\n",
    "\n",
    "    return list_pairs \n",
    "\n",
    "def annotate(input_name, output_name):\n",
    "    input_file = open(input_name)\n",
    "    output_file = open(output_name, 'w')\n",
    "\n",
    "    n_tests = int(input_file.readline().strip())\n",
    "    for itest in range(n_tests):\n",
    "\n",
    "        int_numbers = input_file.readline().strip()\n",
    "        nM, nK, nN = [int(x) for x in int_numbers.split()]\n",
    "\n",
    "        M = [float(x) for x in input_file.readline().strip().split()]\n",
    "        K = [float(x) for x in input_file.readline().strip().split()]\n",
    "        N = [float(x) for x in input_file.readline().strip().split()]\n",
    "        \n",
    "        list_pairs = process_test(M, K, N)\n",
    "        \n",
    "        for x in list_pairs:\n",
    "            output_file.write(f'{x[0] + 1} {x[1] + 1}\\n')\n",
    "\n",
    "    print(f'created output file {output_name}')\n",
    "    input_file.close()\n",
    "    output_file.close()\n",
    "\n",
    "input_name = '1.txt'\n",
    "output_name = '1_output.txt'\n",
    "annotate(input_name, output_name)"
   ]
  },
  {
   "cell_type": "code",
   "execution_count": 4,
   "metadata": {
    "scrolled": true
   },
   "outputs": [
    {
     "name": "stdout",
     "output_type": "stream",
     "text": [
      "created output file 2_output.txt\n",
      "Wall time: 2min 34s\n"
     ]
    }
   ],
   "source": [
    "%%time\n",
    "\n",
    "# for test #2\n",
    "\n",
    "def process_test(M, K, N):\n",
    "    \"\"\"\n",
    "    M is database of metabolites\n",
    "    K is database of adducts\n",
    "    N is our measured signals\n",
    "    \"\"\"\n",
    "    list_pairs = []\n",
    "    for isignal in range(len(N)):\n",
    "        meta_min = None\n",
    "        adduct_min = None\n",
    "        # delta_min = abs(M[meta_min] + K[adduct_min] - N[isignal])\n",
    "        delta_min = 1e6\n",
    "        for imeta in range(len(M)):\n",
    "            for iadduct in range(len(K)):\n",
    "                sum_curr = M[imeta] + K[iadduct]\n",
    "                if sum_curr < 0:\n",
    "                    continue\n",
    "                delta_curr = abs(sum_curr - N[isignal])\n",
    "                if delta_curr < delta_min:\n",
    "                    delta_min = delta_curr\n",
    "                    meta_min = imeta\n",
    "                    adduct_min = iadduct\n",
    "\n",
    "        # here we selected pair that gives closest sum to our signal\n",
    "        if meta_min is None:\n",
    "            print(f'isignal: {isignal} meta_min is None')\n",
    "        if adduct_min is None:\n",
    "            print(f'isignal: {isignal} adduct_min is None')\n",
    "        list_pairs.append((meta_min, adduct_min))\n",
    "\n",
    "    return list_pairs \n",
    "\n",
    "def annotate(input_name, output_name):\n",
    "    input_file = open(input_name)\n",
    "    output_file = open(output_name, 'w')\n",
    "\n",
    "    n_tests = int(input_file.readline().strip())\n",
    "    for itest in range(n_tests):\n",
    "\n",
    "        int_numbers = input_file.readline().strip()\n",
    "        nM, nK, nN = [int(x) for x in int_numbers.split()]\n",
    "\n",
    "        M = [float(x) for x in input_file.readline().strip().split()]\n",
    "        K = [float(x) for x in input_file.readline().strip().split()]\n",
    "        N = [float(x) for x in input_file.readline().strip().split()]\n",
    "        \n",
    "        list_pairs = process_test(M, K, N)\n",
    "        \n",
    "        for x in list_pairs:\n",
    "            output_file.write(f'{x[0] + 1} {x[1] + 1}\\n')\n",
    "\n",
    "    print(f'created output file {output_name}')\n",
    "    input_file.close()\n",
    "    output_file.close()\n",
    "\n",
    "input_name = '2.txt'\n",
    "output_name = '2_output.txt'\n",
    "annotate(input_name, output_name)"
   ]
  },
  {
   "cell_type": "code",
   "execution_count": null,
   "metadata": {},
   "outputs": [],
   "source": [
    "%%time\n",
    "\n",
    "# for test #4\n",
    "\n",
    "def process_test(M, K, N):\n",
    "    \"\"\"\n",
    "    M is database of metabolites\n",
    "    K is database of adducts\n",
    "    N is our measured signals\n",
    "    \"\"\"\n",
    "    list_pairs = []\n",
    "    for isignal in range(len(N)):\n",
    "        meta_min = None\n",
    "        adduct_min = None\n",
    "        # delta_min = abs(M[meta_min] + K[adduct_min] - N[isignal])\n",
    "        delta_min = 1e6\n",
    "        for imeta in range(len(M)):\n",
    "            for iadduct in range(len(K)):\n",
    "                sum_curr = M[imeta] + K[iadduct]\n",
    "                if sum_curr < 0:\n",
    "                    continue\n",
    "                delta_curr = abs(sum_curr - N[isignal])\n",
    "                if delta_curr < delta_min:\n",
    "                    delta_min = delta_curr\n",
    "                    meta_min = imeta\n",
    "                    adduct_min = iadduct\n",
    "\n",
    "        # here we selected pair that gives closest sum to our signal\n",
    "#         if meta_min is None:\n",
    "#             print(f'isignal: {isignal} meta_min is None')\n",
    "#         if adduct_min is None:\n",
    "#             print(f'isignal: {isignal} adduct_min is None')\n",
    "        list_pairs.append((meta_min, adduct_min))\n",
    "\n",
    "    return list_pairs \n",
    "\n",
    "def annotate(input_name, output_name):\n",
    "    input_file = open(input_name)\n",
    "    output_file = open(output_name, 'w')\n",
    "\n",
    "    n_tests = int(input_file.readline().strip())\n",
    "    for itest in range(n_tests):\n",
    "\n",
    "        int_numbers = input_file.readline().strip()\n",
    "        nM, nK, nN = [int(x) for x in int_numbers.split()]\n",
    "\n",
    "        M = [float(x) for x in input_file.readline().strip().split()]\n",
    "        K = [float(x) for x in input_file.readline().strip().split()]\n",
    "        N = [float(x) for x in input_file.readline().strip().split()]\n",
    "        \n",
    "        list_pairs = process_test(M, K, N)\n",
    "        \n",
    "        for x in list_pairs:\n",
    "            output_file.write(f'{x[0] + 1} {x[1] + 1}\\n')\n",
    "\n",
    "    print(f'created output file {output_name}')\n",
    "    input_file.close()\n",
    "    output_file.close()\n",
    "\n",
    "input_name = '4.txt'\n",
    "output_name = '4_output.txt'\n",
    "annotate(input_name, output_name)"
   ]
  },
  {
   "cell_type": "code",
   "execution_count": 13,
   "metadata": {},
   "outputs": [
    {
     "name": "stdout",
     "output_type": "stream",
     "text": [
      "[(110, 111), (120, 121), (130, 131)]\n"
     ]
    }
   ],
   "source": [
    "list_pairs = [(10, 11), (20, 21), (30, 31)]\n",
    "list_pairs_new = [(x[0] + 100, x[1] + 100) for x in list_pairs]\n",
    "print(list_pairs_new)"
   ]
  },
  {
   "cell_type": "code",
   "execution_count": 3,
   "metadata": {},
   "outputs": [
    {
     "name": "stdout",
     "output_type": "stream",
     "text": [
      "20\n",
      "10\n",
      "15\n",
      "30\n",
      "25\n",
      "\n",
      "10\n",
      "15\n",
      "20\n",
      "25\n",
      "30\n"
     ]
    }
   ],
   "source": [
    "orig = [20, 10, 15, 30, 25]\n",
    "ind = [1, 2, 0, 4, 3]\n",
    "\n",
    "for i in range(len(orig)):\n",
    "    print(f'{orig[i]}')\n",
    "print()\n",
    "\n",
    "for i in range(len(orig)):\n",
    "    print(f'{orig[ind[i]]}')"
   ]
  },
  {
   "cell_type": "code",
   "execution_count": 7,
   "metadata": {},
   "outputs": [
    {
     "name": "stdout",
     "output_type": "stream",
     "text": [
      "orig: [20, 10, 15, 30, 25]\n",
      "\n",
      "10\n",
      "15\n",
      "20\n",
      "25\n",
      "30\n",
      "orig: [20, 10, 15, 30, 25]\n"
     ]
    }
   ],
   "source": [
    "import numpy as np\n",
    "\n",
    "orig = [20, 10, 15, 30, 25]\n",
    "# ind = [1, 2, 0, 4, 3]\n",
    "\n",
    "print(f'orig: {orig}')\n",
    "print()\n",
    "\n",
    "ind = np.argsort(orig)\n",
    "\n",
    "for i in range(len(orig)):\n",
    "    print(f'{orig[ind[i]]}')\n",
    "\n",
    "print(f'orig: {orig}')"
   ]
  },
  {
   "cell_type": "code",
   "execution_count": 16,
   "metadata": {},
   "outputs": [
    {
     "name": "stdout",
     "output_type": "stream",
     "text": [
      "k_indices: [2 4 7 3 9 0 1 5 8 6]\n",
      "k_sorted: [-6.3e-05, -5e-05, -3.7e-05, -9e-06, -8e-06, 2e-06, 4.5e-05, 4.8e-05, 5.6e-05, 7e-05]\n",
      "\n",
      "m_indices: [0 1 5 8 7 4 2 6 3]\n",
      "m_sorted: [3e-06, 1.2e-05, 4.5e-05, 4.7e-05, 6.8e-05, 7.6e-05, 8.1e-05, 9.2e-05, 9.9e-05]\n"
     ]
    }
   ],
   "source": [
    "M = [0.000003, 0.000012, 0.000081, 0.000099, 0.000076, 0.000045, 0.000092, 0.000068, 0.000047]\n",
    "K = [0.000002, 0.000045, -0.000063, -0.000009, -0.000050, 0.000048, 0.000070, -0.000037, 0.000056, -0.000008] \n",
    "N = [0.000079, 0.000094, 0.000084, 0.000052, 0.000064, 0.000055, 0.000070, 0.000079]\n",
    "\n",
    "k_indices = np.argsort(K)  # returns indices\n",
    "print(f'k_indices: {k_indices}')\n",
    "\n",
    "k_sorted = []\n",
    "for i in range(len(K)):\n",
    "    k_sorted.append(K[k_indices[i]])\n",
    "print(f'k_sorted: {k_sorted}')\n",
    "\n",
    "print()\n",
    "m_indices = np.argsort(M)\n",
    "print(f'm_indices: {m_indices}')\n",
    "\n",
    "m_sorted = []\n",
    "for i in range(len(M)):\n",
    "    m_sorted.append(M[m_indices[i]])\n",
    "print(f'm_sorted: {m_sorted}')"
   ]
  },
  {
   "cell_type": "code",
   "execution_count": 13,
   "metadata": {},
   "outputs": [
    {
     "name": "stdout",
     "output_type": "stream",
     "text": [
      "found 10 at index 3\n"
     ]
    }
   ],
   "source": [
    "def binary_search(array, low, high, x):\n",
    "    if high >= low:\n",
    "        midpt = (high + low) // 2\n",
    "        \n",
    "        if array[midpt] == x:\n",
    "            # found: stop recursion\n",
    "            return midpt\n",
    "\n",
    "        # continue search in the half that contains element\n",
    "        \n",
    "        if array[midpt] > x:\n",
    "            return binary_search(array, low, midpt - 1, x)\n",
    "        else:\n",
    "            return binary_search(array, midpt + 1, high, x)\n",
    "\n",
    "    else:\n",
    "        return -1\n",
    "\n",
    "# array = [-6.3e-05, -5e-05, -3.7e-05, -9e-06, -8e-06, 2e-06, 4.5e-05, 4.8e-05, 5.6e-05, 7e-05]\n",
    "# x = 4.5e-5\n",
    "array = [ 2, 3, 4, 10, 40, 50]\n",
    "x = 10\n",
    "x = 2\n",
    "x = 50\n",
    "x = 10\n",
    "index = binary_search(array, 0, len(array) -1, x)\n",
    "print(f'found {x} at index {index}')"
   ]
  },
  {
   "cell_type": "code",
   "execution_count": 20,
   "metadata": {},
   "outputs": [
    {
     "name": "stdout",
     "output_type": "stream",
     "text": [
      "found 1.3333333333333333 at index -1\n"
     ]
    }
   ],
   "source": [
    "def binary_search(array, low, high, x):\n",
    "    if high >= low:\n",
    "        midpt = (high + low) // 2\n",
    "        \n",
    "        # eps = 1e-12\n",
    "        eps = 1e-3\n",
    "        if array[midpt] == x:\n",
    "        # if abs(array[midpt] - x) < eps:\n",
    "            # found: stop recursion\n",
    "            return midpt\n",
    "\n",
    "        # continue search in the half that contains element\n",
    "        \n",
    "        if array[midpt] > x:\n",
    "            return binary_search(array, low, midpt - 1, x)\n",
    "        else:\n",
    "            return binary_search(array, midpt + 1, high, x)\n",
    "\n",
    "    else:\n",
    "        return -1\n",
    "\n",
    "# array = [-6.3e-05, -5e-05, -3.7e-05, -9e-06, -8e-06, 2e-06, 4.5e-05, 4.8e-05, 5.6e-05, 7e-05]\n",
    "# x = 4.5e-5\n",
    "array = [ 2, 3, 1.333333, 10, 40, 50]\n",
    "x = 10\n",
    "x = 2\n",
    "x = 50\n",
    "x = 4 / 3\n",
    "index = binary_search(array, 0, len(array) -1, x)\n",
    "print(f'found {x} at index {index}')"
   ]
  },
  {
   "cell_type": "code",
   "execution_count": null,
   "metadata": {},
   "outputs": [],
   "source": [
    "def binary_search(array, low, high, x):\n",
    "    if high >= low:\n",
    "        midpt = (high + low) // 2\n",
    "        \n",
    "        eps = 1e-7\n",
    "        if array[midpt] == x:\n",
    "            # found: stop recursion\n",
    "            return midpt\n",
    "\n",
    "        # continue search in the half that contains element\n",
    "        \n",
    "        if array[midpt] > x:\n",
    "            return binary_search(array, low, midpt - 1, x)\n",
    "        else:\n",
    "            return binary_search(array, midpt + 1, high, x)\n",
    "\n",
    "    else:\n",
    "        return -1\n",
    "\n",
    "def process_test(M, K, N):\n",
    "    \"\"\"\n",
    "    M is database of metabolites\n",
    "    K is database of adducts\n",
    "    N is our measured signals\n",
    "    \"\"\"\n",
    "    list_pairs = []\n",
    "    for isignal in range(len(N)):\n",
    "        meta_min = None\n",
    "        adduct_min = None\n",
    "        # delta_min = abs(M[meta_min] + K[adduct_min] - N[isignal])\n",
    "        delta_min = 1e6\n",
    "        for imeta in range(len(M)):\n",
    "            for iadduct in range(len(K)):\n",
    "                sum_curr = M[imeta] + K[iadduct]\n",
    "                if sum_curr < 0:\n",
    "                    continue\n",
    "                delta_curr = abs(sum_curr - N[isignal])\n",
    "                if delta_curr < delta_min:\n",
    "                    delta_min = delta_curr\n",
    "                    meta_min = imeta\n",
    "                    adduct_min = iadduct\n",
    "\n",
    "        # here we selected pair that gives closest sum to our signal\n",
    "        if meta_min is None:\n",
    "            print(f'isignal: {isignal} meta_min is None')\n",
    "        if adduct_min is None:\n",
    "            print(f'isignal: {isignal} adduct_min is None')\n",
    "        list_pairs.append((meta_min, adduct_min))\n",
    "\n",
    "    return list_pairs\n",
    "\n",
    "\n",
    "def process_test_sorted(M, K_sorted, k_indices, N):\n",
    "    \"\"\"\n",
    "    M is database of metabolites\n",
    "    K_sorted is database of adducts sorted\n",
    "    k_indices is list of indices returned by np.argsort\n",
    "    N is our measured signals\n",
    "    \"\"\"\n",
    "    list_pairs = []\n",
    "    adduct_dict = {}  # key: meta, value: adduct that when added to meta gives signal\n",
    "    k_ind_dict = {}  # key: sorted indices, value: orig indices\n",
    "    \n",
    "    # find imeta in M, iadduct in sorted array\n",
    "    for isignal in range(len(N)):\n",
    "        for imeta in range(len(M)):\n",
    "            diff_curr = N[isignal] - M[imeta]\n",
    "            if diff_curr not in adduct_dict:\n",
    "                adduct_dict[M[imeta]] = diff_curr\n",
    "\n",
    "            adduct_index = binary_search(K_sorted, 0, len(K_sorted) -1, diff_curr)  # indices in sorted array\n",
    "    \n",
    "    list_pairs.append(imeta, adduct_dict[iadduct])\n",
    "    return imeta, iadduct"
   ]
  },
  {
   "cell_type": "code",
   "execution_count": 13,
   "metadata": {},
   "outputs": [
    {
     "name": "stdout",
     "output_type": "stream",
     "text": [
      "found 10 at index 3\n"
     ]
    }
   ],
   "source": [
    "def binary_search(array, low, high, x):\n",
    "    if high >= low:\n",
    "        midpt = (high + low) // 2\n",
    "        \n",
    "        if array[midpt] == x:\n",
    "            # found: stop recursion\n",
    "            return midpt\n",
    "\n",
    "        # continue search in the half that contains element\n",
    "        \n",
    "        if array[midpt] > x:\n",
    "            return binary_search(array, low, midpt - 1, x)\n",
    "        else:\n",
    "            return binary_search(array, midpt + 1, high, x)\n",
    "\n",
    "    else:\n",
    "        return -1\n",
    "\n",
    "# array = [-6.3e-05, -5e-05, -3.7e-05, -9e-06, -8e-06, 2e-06, 4.5e-05, 4.8e-05, 5.6e-05, 7e-05]\n",
    "# x = 4.5e-5\n",
    "array = [ 2, 3, 4, 10, 40, 50]\n",
    "x = 10\n",
    "x = 2\n",
    "x = 50\n",
    "x = 10\n",
    "index = binary_search(array, 0, len(array) -1, x)\n",
    "print(f'found {x} at index {index}')"
   ]
  },
  {
   "cell_type": "code",
   "execution_count": 1,
   "metadata": {},
   "outputs": [
    {
     "name": "stdout",
     "output_type": "stream",
     "text": [
      "orig: [20, 10, 15, 30, 25]\n",
      "\n",
      "indices: [1 2 0 4 3]\n",
      "10\n",
      "15\n",
      "20\n",
      "25\n",
      "30\n",
      "orig: [20, 10, 15, 30, 25]\n"
     ]
    }
   ],
   "source": [
    "import numpy as np\n",
    "\n",
    "orig = [20, 10, 15, 30, 25]\n",
    "# ind = [1, 2, 0, 4, 3]\n",
    "\n",
    "print(f'orig: {orig}')\n",
    "print()\n",
    "\n",
    "ind = np.argsort(orig)\n",
    "print(f'indices: {ind}')\n",
    "\n",
    "for i in range(len(orig)):\n",
    "    print(f'{orig[ind[i]]}')\n",
    "\n",
    "print(f'orig: {orig}')"
   ]
  },
  {
   "cell_type": "code",
   "execution_count": 1,
   "metadata": {},
   "outputs": [
    {
     "name": "stdout",
     "output_type": "stream",
     "text": [
      "orig: [20, 10, 15, 30, 25]\n",
      "\n",
      "indices: [1 2 0 4 3]\n",
      "10\n",
      "15\n",
      "20\n",
      "25\n",
      "30\n",
      "orig: [20, 10, 15, 30, 25]\n"
     ]
    }
   ],
   "source": [
    "import numpy as np\n",
    "\n",
    "orig = [20, 10, 15, 30, 25]\n",
    "# ind = [1, 2, 0, 4, 3]\n",
    "\n",
    "print(f'orig: {orig}')\n",
    "print()\n",
    "\n",
    "ind = np.argsort(orig)\n",
    "print(f'indices: {ind}')\n",
    "\n",
    "for i in range(len(orig)):\n",
    "    print(f'{orig[ind[i]]}')\n",
    "\n",
    "print(f'orig: {orig}')"
   ]
  },
  {
   "cell_type": "markdown",
   "metadata": {},
   "source": [
    "# Modify Binary Search\n",
    "Use two arrays: *original* array and _sorted_ indices.  \n",
    "Toy example."
   ]
  },
  {
   "cell_type": "code",
   "execution_count": 1,
   "metadata": {},
   "outputs": [
    {
     "name": "stdout",
     "output_type": "stream",
     "text": [
      "orig: [20, 10, 15, 30, 25]\n",
      "sort_indices: [1 2 0 4 3]\n",
      "sorted_list: [10, 15, 20, 25, 30]\n",
      "dct: {0: 1, 1: 2, 2: 0, 3: 4, 4: 3}\n"
     ]
    }
   ],
   "source": [
    "import numpy as np\n",
    "\n",
    "orig = [20, 10, 15, 30, 25]\n",
    "sort_indices = np.argsort(orig)\n",
    "print(f'orig: {orig}')\n",
    "print(f'sort_indices: {sort_indices}')\n",
    "\n",
    "sorted_list = []\n",
    "dct = {}\n",
    "for i in range(len(orig)):\n",
    "    sorted_list.append(orig[sort_indices[i]])\n",
    "    # dct[sort_indices[i]] = i\n",
    "    dct[i] = sort_indices[i]\n",
    "print(f'sorted_list: {sorted_list}')\n",
    "print(f'dct: {dct}')"
   ]
  },
  {
   "cell_type": "code",
   "execution_count": 25,
   "metadata": {},
   "outputs": [
    {
     "name": "stdout",
     "output_type": "stream",
     "text": [
      "adduct orig: [20, 10, 15, 30, 25]\n",
      "indices of sorted array: [1 2 0 4 3]\n",
      "adduct sort: [10, 15, 20, 25, 30]\n",
      "first element of adduct: 10\n",
      "d using for loop: {0: 20, 1: 10, 2: 15, 3: 30, 4: 25}\n",
      "keys: [1 2 0 4 3], values: [0, 1, 2, 3, 4]\n",
      "dictionary of sorted indices: {1: 0, 2: 1, 0: 2, 4: 3, 3: 4}\n"
     ]
    }
   ],
   "source": [
    "import numpy as np\n",
    "\n",
    "adduct = [20, 10, 15, 30, 25]\n",
    "print(f'adduct orig: {adduct}')\n",
    "\n",
    "# adduct_sort\n",
    "# i_orig = d[i_sort]\n",
    "\n",
    "# adduct_sort\n",
    "# adduct_sort = adduct.sort()  # sorts array/list in place\n",
    "# print(f'adduct_sort: {adduct_sort}')\n",
    "# print(f'adduct sorted: {adduct.sort()}')\n",
    "# print(f'adduct orig: {adduct}')\n",
    "# print(f'sorted adduct: {adduct}')\n",
    "\n",
    "adduct = np.array([20, 10, 15, 30, 25])\n",
    "# sorting\n",
    "indices_sort = np.argsort(adduct)\n",
    "print(f'indices of sorted array: {indices_sort}')\n",
    "print(f'adduct sort: {[adduct[indices_sort[i]] for i in range(len(adduct))]}')\n",
    "\n",
    "# i_orig = d[i_sort]\n",
    "d = {}  # keys need to be indices of sorted array, values - corresponding indices of original array\n",
    "print(f'first element of adduct: {adduct[indices_sort[0]]}')\n",
    "\n",
    "for i_sort in range(len(indices_sort)):\n",
    "    d[i_sort] = adduct[i_sort]\n",
    "print(f'd using for loop: {d}')\n",
    "keys = indices_sort\n",
    "values = [i for i in range(len(adduct))]\n",
    "print(f'keys: {keys}, values: {values}')\n",
    "d = dict(zip(indices_sort, values))\n",
    "# d = {keys[i]: values[i] for i in range(len(keys))}\n",
    "# d = {indices_sort[i_orig]: adduct[indices_sort[i_orig]] for i_orig in range(len(adduct))}\n",
    "print(f'dictionary of sorted indices: {d}')"
   ]
  },
  {
   "cell_type": "code",
   "execution_count": 45,
   "metadata": {},
   "outputs": [
    {
     "name": "stdout",
     "output_type": "stream",
     "text": [
      "adduct orig: [20, 10, 15, 30, 25]\n",
      "indices of sorted array: [1 2 0 4 3]\n",
      "adduct sort: [10, 15, 20, 25, 30]\n",
      "first element of adduct: 10\n",
      "d using for loop: {0: 20, 1: 10, 2: 15, 3: 30, 4: 25}\n",
      "keys: [1 2 0 4 3], values: [1, 2, 0, 4, 3]\n",
      "dictionary of sorted indices: {1: 10, 2: 15, 0: 20, 4: 25, 3: 30}\n"
     ]
    }
   ],
   "source": [
    "import numpy as np\n",
    "\n",
    "adduct = [20, 10, 15, 30, 25]\n",
    "print(f'adduct orig: {adduct}')\n",
    "\n",
    "# adduct_sort\n",
    "# i_orig = d[i_sort]\n",
    "\n",
    "# adduct_sort\n",
    "# adduct_sort = adduct.sort()  # sorts array/list in place\n",
    "# print(f'adduct_sort: {adduct_sort}')\n",
    "# print(f'adduct sorted: {adduct.sort()}')\n",
    "# print(f'adduct orig: {adduct}')\n",
    "# print(f'sorted adduct: {adduct}')\n",
    "\n",
    "# adduct = np.array([20, 10, 15, 30, 25])\n",
    "# sorting\n",
    "indices_sort = np.argsort(adduct)\n",
    "print(f'indices of sorted array: {indices_sort}')\n",
    "\n",
    "#\n",
    "# when we use adduct[indices_sort[i]], we effectively go from sorted array to original without using dictionary\n",
    "#\n",
    "print(f'adduct sort: {[adduct[indices_sort[i]] for i in range(len(adduct))]}')\n",
    "\n",
    "# i_orig = d[i_sort]\n",
    "d = {}  # keys need to be indices of sorted array, values - corresponding indices of original array\n",
    "print(f'first element of adduct: {adduct[indices_sort[0]]}')\n",
    "\n",
    "for i_sort in range(len(indices_sort)):\n",
    "    d[i_sort] = adduct[i_sort]\n",
    "print(f'd using for loop: {d}')\n",
    "\n",
    "keys = indices_sort\n",
    "values = [indices_sort[i] for i in range(len(adduct))]\n",
    "print(f'keys: {keys}, values: {values}')\n",
    "d = dict(zip(indices_sort, values))\n",
    "# d = {keys[i]: values[i] for i in range(len(keys))}\n",
    "d = {indices_sort[i_orig]: adduct[indices_sort[i_orig]] for i_orig in range(len(adduct))}\n",
    "print(f'dictionary of sorted indices: {d}')"
   ]
  },
  {
   "cell_type": "code",
   "execution_count": 51,
   "metadata": {},
   "outputs": [
    {
     "name": "stdout",
     "output_type": "stream",
     "text": [
      "adduct orig: [20, 10, 15, 30, 25]\n",
      "indices of sorted array: [1 2 0 4 3]\n",
      "adduct_sort: [10, 15, 20, 25, 30]\n",
      "Example: the adduct_sort[3] has value 25 has orig index 4\n",
      "Example: the adduct_sort[4] with value 30 has orig index 3\n",
      "Example: the adduct_sort[2] with value 20 has orig index 0\n"
     ]
    }
   ],
   "source": [
    "import numpy as np\n",
    "\n",
    "adduct = [20, 10, 15, 30, 25]\n",
    "print(f'adduct orig: {adduct}')\n",
    "\n",
    "indices_sort = np.argsort(adduct)\n",
    "print(f'indices of sorted array: {indices_sort}')\n",
    "\n",
    "#\n",
    "# when we use adduct[indices_sort[i]], we effectively go from sorted array to original without using dictionary\n",
    "#\n",
    "adduct_sort = [adduct[indices_sort[i]] for i in range(len(adduct))]\n",
    "print(f'adduct_sort: {adduct_sort}')\n",
    "\n",
    "n = 3\n",
    "print(f'Example: the adduct_sort[{n}] has value {adduct_sort[n]} has orig index {indices_sort[n]}')\n",
    "\n",
    "n = 4\n",
    "print(f'Example: the adduct_sort[{n}] with value {adduct_sort[n]} has orig index {indices_sort[n]}')\n",
    "\n",
    "n = 2\n",
    "print(f'Example: the adduct_sort[{n}] with value {adduct_sort[n]} has orig index {indices_sort[n]}')"
   ]
  },
  {
   "cell_type": "code",
   "execution_count": 55,
   "metadata": {},
   "outputs": [
    {
     "name": "stdout",
     "output_type": "stream",
     "text": [
      "adduct orig: [20, 10, 15, 30, 25]\n",
      "indices of sorted array: [1 2 0 4 3]\n",
      "adduct_sort: [10, 15, 20, 25, 30]\n",
      "i (new index): 0, indices_sort (old index): 1\n",
      "i (new index): 1, indices_sort (old index): 2\n",
      "i (new index): 2, indices_sort (old index): 0\n",
      "i (new index): 3, indices_sort (old index): 4\n",
      "i (new index): 4, indices_sort (old index): 3\n"
     ]
    }
   ],
   "source": [
    "adduct = [20, 10, 15, 30, 25]\n",
    "print(f'adduct orig: {adduct}')\n",
    "\n",
    "indices_sort = np.argsort(adduct)\n",
    "print(f'indices of sorted array: {indices_sort}')\n",
    "\n",
    "adduct_sort = [adduct[indices_sort[i]] for i in range(len(adduct))]\n",
    "print(f'adduct_sort: {adduct_sort}')\n",
    "\n",
    "for i in range(len(indices_sort)):\n",
    "    print(f'i (new index): {i}, indices_sort (old index): {indices_sort[i]}')"
   ]
  },
  {
   "cell_type": "code",
   "execution_count": null,
   "metadata": {},
   "outputs": [],
   "source": []
  },
  {
   "cell_type": "code",
   "execution_count": 58,
   "metadata": {},
   "outputs": [
    {
     "name": "stdout",
     "output_type": "stream",
     "text": [
      "adduct orig: [20, 10, 15, 30, 25]\n",
      "indices of sorted array: [1 2 0 4 3]\n",
      "adduct_sort: [10, 15, 20, 25, 30]\n",
      "i_sort (new index): 0, indices_sort (orig index): 1\n",
      "i_orig: 1\n",
      "i_sort (new index): 1, indices_sort (orig index): 2\n",
      "i_orig: 2\n",
      "i_sort (new index): 2, indices_sort (orig index): 0\n",
      "i_orig: 0\n",
      "i_sort (new index): 3, indices_sort (orig index): 4\n",
      "i_orig: 4\n",
      "i_sort (new index): 4, indices_sort (orig index): 3\n",
      "i_orig: 3\n"
     ]
    }
   ],
   "source": [
    "adduct = [20, 10, 15, 30, 25]\n",
    "print(f'adduct orig: {adduct}')\n",
    "\n",
    "indices_sort = np.argsort(adduct)\n",
    "print(f'indices of sorted array: {indices_sort}')\n",
    "\n",
    "adduct_sort = [adduct[indices_sort[i]] for i in range(len(adduct))]\n",
    "print(f'adduct_sort: {adduct_sort}')\n",
    "\n",
    "for i_sort in range(len(indices_sort)):\n",
    "    print(f'i_sort (new index): {i_sort}, indices_sort (orig index): {indices_sort[i_sort]}')\n",
    "    i_orig = indices_sort[i_sort]\n",
    "    print(f'i_orig: {i_orig}')"
   ]
  },
  {
   "cell_type": "code",
   "execution_count": 39,
   "metadata": {},
   "outputs": [
    {
     "name": "stdout",
     "output_type": "stream",
     "text": [
      "adduct orig: [20 10 15 30 25]\n",
      "indices of orig array:   [0 1 2 3 4]\n",
      "indices of sorted array: [1 2 0 4 3]\n",
      "adduct sort: [10, 15, 20, 25, 30]\n",
      "\n",
      "iadduct: [[0, 1, 2, 3, 4]]\n",
      "orig array: [20, 10, 15, 30, 25]\n"
     ]
    }
   ],
   "source": [
    "adduct = np.array([20, 10, 15, 30, 25])\n",
    "print(f'adduct orig: {adduct}')\n",
    "indices_orig = np.array([i for i in range(len(adduct))])\n",
    "print(f'indices of orig array:   {indices_orig}')\n",
    "# sorting\n",
    "indices_sort = np.argsort(adduct)\n",
    "print(f'indices of sorted array: {indices_sort}')\n",
    "\n",
    "#\n",
    "# when we use adduct[indices_sort[i]], we effectively go from sorted array to original without using dictionary\n",
    "#\n",
    "print(f'adduct sort: {[adduct[indices_sort[i]] for i in range(len(adduct))]}')\n",
    "print()\n",
    "# get list of orig indices from sorted indices\n",
    "# orig array[sorted indices]\n",
    "iadduct = [[i for i in range(len(indices_sort))]]\n",
    "print(f'iadduct: {iadduct}')\n",
    "print(f'orig array: {[adduct[iadduct] for iadduct in range(len(adduct))]}')"
   ]
  },
  {
   "cell_type": "code",
   "execution_count": 31,
   "metadata": {},
   "outputs": [
    {
     "name": "stdout",
     "output_type": "stream",
     "text": [
      "array[array_ind[1]]: 15\n",
      "index = 1, sort_indices[index] = 2, orig[sort_indices[index]] = 15\n"
     ]
    }
   ],
   "source": [
    "def binary_search_sort(array_ind, array, low, high, x):\n",
    "    if high >= low:\n",
    "        midpt = (high + low) // 2\n",
    "        \n",
    "        if array[array_ind[midpt]] == x:\n",
    "            # found: stop recursion\n",
    "            print(f'array[array_ind[{midpt}]]: {array[array_ind[midpt]]}')\n",
    "            return midpt\n",
    "\n",
    "        # continue search in the half that contains element\n",
    "        \n",
    "        if array[array_ind[midpt]] > x:\n",
    "            return binary_search_sort(array_ind, array, low, midpt - 1, x)\n",
    "        else:\n",
    "            return binary_search_sort(array_ind, array, midpt + 1, high, x)\n",
    "\n",
    "    else:\n",
    "        return -1\n",
    "\n",
    "index = binary_search_sort(sort_indices, orig, 0, len(sort_indices) - 1, 15)\n",
    "print(f'index = {index}, sort_indices[index] = {sort_indices[index]}, orig[sort_indices[index]] = {orig[sort_indices[index]]}')"
   ]
  },
  {
   "cell_type": "code",
   "execution_count": 33,
   "metadata": {},
   "outputs": [
    {
     "name": "stdout",
     "output_type": "stream",
     "text": [
      "array[array_ind[0]]: -3.7e-05\n"
     ]
    },
    {
     "data": {
      "text/plain": [
       "[(8, 7e-05)]"
      ]
     },
     "execution_count": 33,
     "metadata": {},
     "output_type": "execute_result"
    }
   ],
   "source": [
    "import numpy as np\n",
    "\n",
    "orig = [20, 10, 15, 30, 25]\n",
    "sort_indices = np.argsort(orig)\n",
    "# print(f'orig: {orig}')\n",
    "# print(f'sort_indices: {sort_indices}')\n",
    "\n",
    "sorted_list = []\n",
    "dct = {}\n",
    "for i in range(len(orig)):\n",
    "    sorted_list.append(orig[sort_indices[i]])\n",
    "    # dct[sort_indices[i]] = i\n",
    "    dct[i] = sort_indices[i]\n",
    "# print(f'sorted_list: {sorted_list}')\n",
    "# print(f'dct: {dct}')\n",
    "\n",
    "def process_test_sorted(M, K_sorted, k_indices, N):\n",
    "    \"\"\"\n",
    "    M is database of metabolites\n",
    "    K_sorted is array of adducts sorted\n",
    "    k_indices is list of indices returned by np.argsort\n",
    "    N is our measured signals\n",
    "    \"\"\"\n",
    "    list_pairs = []\n",
    "    signal_meta_list = []\n",
    "    \n",
    "    # find imeta in M, iadduct in sorted array\n",
    "    for isignal in range(len(N)):\n",
    "        for imeta in range(len(M)):\n",
    "            signal_meta_list.append(N[isignal] - M[imeta])\n",
    "    \n",
    "    # find adduct using binary search\n",
    "    for element in signal_meta_list:\n",
    "        adduct_index = binary_search_sort(k_indices, K_sorted, 0, len(K_sorted)-1, element)\n",
    "            \n",
    "    iadduct = [[i for i in range(len(indices_sort))]]\n",
    "\n",
    "    list_pairs.append((imeta, iadduct))  # need to have index instead of K[k_indices[adduct_index]]\n",
    "    return list_pairs\n",
    "\n",
    "M = [0.000003, 0.000012, 0.000081, 0.000099, 0.000076, 0.000045, 0.000092, 0.000068, 0.000047]\n",
    "K = [0.000002, 0.000045, -0.000063, -0.000009, -0.000050, 0.000048, 0.000070, -0.000037, 0.000056, -0.000008] \n",
    "N = [0.000079, 0.000094, 0.000084, 0.000052, 0.000064, 0.000055, 0.000070, 0.000079]\n",
    "k_indices = np.argsort(K)\n",
    "K_sorted = [K[k_indices[i]] for i in range(len(K))]\n",
    "process_test_sorted(M, K_sorted, k_indices, N)"
   ]
  },
  {
   "cell_type": "code",
   "execution_count": 44,
   "metadata": {},
   "outputs": [
    {
     "name": "stdout",
     "output_type": "stream",
     "text": [
      "orig array: [ 2.0e-06  4.5e-05 -6.3e-05 -9.0e-06 -5.0e-05  4.8e-05  7.0e-05 -3.7e-05\n",
      "  5.6e-05 -8.0e-06]\n",
      "sorted array: [-6.3e-05, -5e-05, -3.7e-05, -9e-06, -8e-06, 2e-06, 4.5e-05, 4.8e-05, 5.6e-05, 7e-05]\n",
      "K_indices: [2 4 7 3 9 0 1 5 8 6]\n",
      "index dictionary: {2: 0, 4: 1, 7: 2, 3: 3, 9: 4, 0: 5, 1: 6, 5: 7, 8: 8, 6: 9}\n"
     ]
    }
   ],
   "source": [
    "K = np.array([0.000002, 0.000045, -0.000063, -0.000009, -0.000050, 0.000048, 0.000070, -0.000037, 0.000056, -0.000008])\n",
    "print(f'orig array: {K}')\n",
    "K_indices = np.argsort(K)\n",
    "print(f'sorted array: {[K[K_indices[i]] for i in range(len(K))]}')\n",
    "print(f'K_indices: {K_indices}')\n",
    "\n",
    "keys = K_indices\n",
    "values = [i for i in range(len(K))]\n",
    "ind_d = dict(zip(keys, values))\n",
    "print(f'index dictionary: {ind_d}')"
   ]
  },
  {
   "cell_type": "code",
   "execution_count": 12,
   "metadata": {},
   "outputs": [
    {
     "name": "stdout",
     "output_type": "stream",
     "text": [
      "orig: [20, 10, 15, 30, 25]\n",
      "sort_indices: [1 2 0 4 3]\n",
      "sorted_list: [10, 15, 20, 25, 30]\n",
      "dct: {0: 1, 1: 2, 2: 0, 3: 4, 4: 3}\n"
     ]
    }
   ],
   "source": [
    "import numpy as np\n",
    "\n",
    "orig = [20, 10, 15, 30, 25]\n",
    "sort_indices = np.argsort(orig)\n",
    "print(f'orig: {orig}')\n",
    "print(f'sort_indices: {sort_indices}')\n",
    "\n",
    "sorted_list = []\n",
    "dct = {}\n",
    "for i in range(len(orig)):\n",
    "    sorted_list.append(orig[sort_indices[i]])\n",
    "    # dct[sort_indices[i]] = i\n",
    "    dct[i] = sort_indices[i]\n",
    "print(f'sorted_list: {sorted_list}')\n",
    "print(f'dct: {dct}')"
   ]
  },
  {
   "cell_type": "code",
   "execution_count": null,
   "metadata": {},
   "outputs": [],
   "source": [
    "# closure\n",
    "\n",
    "def b_search_wrap(a_i, a, low, high, x):\n",
    "    def b_search(a_i, low, high, x):\n",
    "        pass\n",
    "        # if a[a_i[midpt]] == x"
   ]
  }
 ],
 "metadata": {
  "kernelspec": {
   "display_name": "Python 3",
   "language": "python",
   "name": "python3"
  },
  "language_info": {
   "codemirror_mode": {
    "name": "ipython",
    "version": 3
   },
   "file_extension": ".py",
   "mimetype": "text/x-python",
   "name": "python",
   "nbconvert_exporter": "python",
   "pygments_lexer": "ipython3",
   "version": "3.8.5"
  }
 },
 "nbformat": 4,
 "nbformat_minor": 4
}
