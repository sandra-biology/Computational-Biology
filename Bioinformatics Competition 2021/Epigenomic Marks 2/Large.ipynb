{
 "cells": [
  {
   "cell_type": "code",
   "execution_count": 2,
   "metadata": {},
   "outputs": [
    {
     "name": "stdout",
     "output_type": "stream",
     "text": [
      "created output file large_output.txt\n"
     ]
    }
   ],
   "source": [
    "from collections import defaultdict\n",
    "\n",
    "def find_states(test):\n",
    "    states_dict = defaultdict(int)\n",
    "    mapped = []\n",
    "    for col in range(len(test[0])):\n",
    "        state = ''\n",
    "        for row in range(len(test)):\n",
    "            state += test[row][col]\n",
    "        if state not in states_dict:\n",
    "            states_dict[state] = len(states_dict) + 1\n",
    "        mapped.append(str(states_dict[state]))\n",
    "    return len(states_dict), mapped\n",
    "\n",
    "def large(input_name, output_name):\n",
    "    input_file = open(input_name)\n",
    "    output_file = open(output_name, 'w')\n",
    "    n_tests = int(input_file.readline().strip())\n",
    "    \n",
    "    tests = []\n",
    "    for _ in range(n_tests):\n",
    "        test = []\n",
    "        num = input_file.readline().strip()\n",
    "        n_lines, seq_length = [int(x) for x in num.split()]\n",
    "        for _ in range(n_lines):\n",
    "            test.append(input_file.readline().strip())\n",
    "        tests.append(test)\n",
    "    \n",
    "        n_states, mapped = find_states(test)\n",
    "        output_file.write(str(n_states) + '\\n')\n",
    "        output_file.write(' '.join(mapped) + '\\n')\n",
    "    \n",
    "    print(f'created output file {output_name}')\n",
    "    input_file.close()\n",
    "    output_file.close()\n",
    "\n",
    "input_name = '2.txt'\n",
    "output_name = 'large_output.txt'\n",
    "large(input_name, output_name)"
   ]
  }
 ],
 "metadata": {
  "kernelspec": {
   "display_name": "Python 3",
   "language": "python",
   "name": "python3"
  },
  "language_info": {
   "codemirror_mode": {
    "name": "ipython",
    "version": 3
   },
   "file_extension": ".py",
   "mimetype": "text/x-python",
   "name": "python",
   "nbconvert_exporter": "python",
   "pygments_lexer": "ipython3",
   "version": "3.8.5"
  }
 },
 "nbformat": 4,
 "nbformat_minor": 4
}
