{
 "cells": [
  {
   "cell_type": "code",
   "execution_count": null,
   "metadata": {},
   "outputs": [],
   "source": [
    "with open('1.txt') as binary_file:\n",
    "    pass"
   ]
  },
  {
   "cell_type": "code",
   "execution_count": 21,
   "metadata": {},
   "outputs": [
    {
     "name": "stdout",
     "output_type": "stream",
     "text": [
      "n_tests: 28\n",
      "len(tests): 28\n",
      "tests[1]: ['1100', '1010']\n"
     ]
    }
   ],
   "source": [
    "binary_file = open('1.txt')\n",
    "n_tests = int(binary_file.readline().strip())\n",
    "print(f'n_tests: {n_tests}')\n",
    "\n",
    "tests = []  # list of lists\n",
    "for _ in range(n_tests):\n",
    "    test = []\n",
    "    num = binary_file.readline().strip()\n",
    "    n_lines, seq_length = [int(x) for x in num.split()]\n",
    "    for _ in range(n_lines):\n",
    "        test.append(binary_file.readline().strip())\n",
    "    tests.append(test)\n",
    "\n",
    "print(f'len(tests): {len(tests)}')\n",
    "print(f'tests[1]: {tests[1]}')"
   ]
  },
  {
   "cell_type": "code",
   "execution_count": 11,
   "metadata": {},
   "outputs": [
    {
     "data": {
      "text/plain": [
       "['1', '2']"
      ]
     },
     "execution_count": 11,
     "metadata": {},
     "output_type": "execute_result"
    }
   ],
   "source": [
    "s = '1 2'\n",
    "s.split()"
   ]
  },
  {
   "cell_type": "code",
   "execution_count": 10,
   "metadata": {},
   "outputs": [
    {
     "name": "stdout",
     "output_type": "stream",
     "text": [
      "a: 10, b: 20\n"
     ]
    }
   ],
   "source": [
    "a, b = [10, 20]\n",
    "print(f'a: {a}, b: {b}')"
   ]
  },
  {
   "cell_type": "code",
   "execution_count": 7,
   "metadata": {},
   "outputs": [
    {
     "data": {
      "text/plain": [
       "['0110101110000101',\n",
       " '0010000111111100',\n",
       " '0010011100110011',\n",
       " '0001101111010010']"
      ]
     },
     "execution_count": 7,
     "metadata": {},
     "output_type": "execute_result"
    }
   ],
   "source": [
    "seqs = [\n",
    "    '0110101110000101',\n",
    "    '0010000111111100',\n",
    "    '0010011100110011',\n",
    "    '0001101111010010']\n",
    "seqs"
   ]
  },
  {
   "cell_type": "code",
   "execution_count": 15,
   "metadata": {},
   "outputs": [
    {
     "ename": "SyntaxError",
     "evalue": "invalid syntax (<ipython-input-15-c49b91989e3f>, line 2)",
     "output_type": "error",
     "traceback": [
      "\u001b[1;36m  File \u001b[1;32m\"<ipython-input-15-c49b91989e3f>\"\u001b[1;36m, line \u001b[1;32m2\u001b[0m\n\u001b[1;33m    states = [states += seqs[row][0] for row in range(len(seqs))]\u001b[0m\n\u001b[1;37m                     ^\u001b[0m\n\u001b[1;31mSyntaxError\u001b[0m\u001b[1;31m:\u001b[0m invalid syntax\n"
     ]
    }
   ],
   "source": [
    "states = ''\n",
    "states = [states += seqs[row][0] for row in range(len(seqs))]\n",
    "states"
   ]
  },
  {
   "cell_type": "code",
   "execution_count": 10,
   "metadata": {},
   "outputs": [
    {
     "name": "stdout",
     "output_type": "stream",
     "text": [
      "0\n"
     ]
    }
   ],
   "source": [
    "s = 'abc'\n",
    "s += 'd'\n",
    "s\n",
    "\n",
    "print(seqs[0][0])"
   ]
  },
  {
   "cell_type": "code",
   "execution_count": 12,
   "metadata": {},
   "outputs": [
    {
     "data": {
      "text/plain": [
       "'0'"
      ]
     },
     "execution_count": 12,
     "metadata": {},
     "output_type": "execute_result"
    }
   ],
   "source": [
    "states = ''\n",
    "states += seqs[0][0]\n",
    "states"
   ]
  },
  {
   "cell_type": "code",
   "execution_count": 19,
   "metadata": {},
   "outputs": [
    {
     "name": "stdout",
     "output_type": "stream",
     "text": [
      "first column: 0\n",
      "type of cell: <class 'str'>\n",
      "state: 0\n",
      "first column: 0\n",
      "type of cell: <class 'str'>\n",
      "state: 00\n",
      "first column: 0\n",
      "type of cell: <class 'str'>\n",
      "state: 000\n",
      "first column: 0\n",
      "type of cell: <class 'str'>\n",
      "state: 0000\n"
     ]
    }
   ],
   "source": [
    "state = ''\n",
    "for row in range(len(seqs)):\n",
    "    print(f'first column: {seqs[row][0]}')\n",
    "    print(f'type of cell: {type(seqs[row][0])}')\n",
    "    state += seqs[row][0]\n",
    "    print(f'state: {state}')"
   ]
  },
  {
   "cell_type": "code",
   "execution_count": 8,
   "metadata": {},
   "outputs": [
    {
     "data": {
      "text/plain": [
       "['0110101110000101',\n",
       " '0010000111111100',\n",
       " '0010011100110011',\n",
       " '0001101111010010']"
      ]
     },
     "execution_count": 8,
     "metadata": {},
     "output_type": "execute_result"
    }
   ],
   "source": [
    "seqs = [\n",
    "    '0110101110000101',\n",
    "    '0010000111111100',\n",
    "    '0010011100110011',\n",
    "    '0001101111010010']\n",
    "seqs"
   ]
  },
  {
   "cell_type": "code",
   "execution_count": 1,
   "metadata": {},
   "outputs": [
    {
     "data": {
      "text/plain": [
       "['0010001000', '1001000001', '0101010001', '0010001100']"
      ]
     },
     "execution_count": 1,
     "metadata": {},
     "output_type": "execute_result"
    }
   ],
   "source": [
    "seqs = [\n",
    "    '0010001000',\n",
    "    '1001000001',\n",
    "    '0101010001',\n",
    "    '0010001100']\n",
    "seqs"
   ]
  },
  {
   "cell_type": "code",
   "execution_count": 9,
   "metadata": {},
   "outputs": [
    {
     "name": "stdout",
     "output_type": "stream",
     "text": [
      "state: 0100\n",
      "state: 0010\n",
      "state: 1001\n",
      "state: 0110\n",
      "state: 0000\n",
      "state: 0010\n",
      "state: 1001\n",
      "state: 0001\n",
      "state: 0000\n",
      "state: 0110\n",
      "states_dict: defaultdict(<class 'int'>, {'0100': 1, '0010': 2, '1001': 2, '0110': 2, '0000': 2, '0001': 1})\n"
     ]
    }
   ],
   "source": [
    "from collections import defaultdict\n",
    "\n",
    "states_dict = defaultdict(int)\n",
    "\n",
    "for col in range(len(seqs[0])):\n",
    "    state = ''\n",
    "    for row in range(len(seqs)):\n",
    "        state += seqs[row][col]\n",
    "    print(f'state: {state}')\n",
    "    states_dict[state] += 1\n",
    "\n",
    "print(f'states_dict: {states_dict}')"
   ]
  },
  {
   "cell_type": "code",
   "execution_count": 24,
   "metadata": {},
   "outputs": [
    {
     "name": "stdout",
     "output_type": "stream",
     "text": [
      "states_dict: defaultdict(<class 'int'>, {'0100': 1, '0010': 2, '1001': 3, '0110': 4, '0000': 5, '0001': 6})\n",
      "column_states: [1, 2, 3, 4, 5, 2, 3, 6, 5, 4]\n"
     ]
    }
   ],
   "source": [
    "from collections import defaultdict\n",
    "\n",
    "states_dict = defaultdict(int)\n",
    "last_state = 0\n",
    "column_states = []\n",
    "for col in range(len(seqs[0])):\n",
    "    state = ''\n",
    "    for row in range(len(seqs)):\n",
    "        state += seqs[row][col]\n",
    "    if state not in states_dict:\n",
    "        last_state += 1\n",
    "        states_dict[state] = last_state\n",
    "    column_states.append(states_dict[state])\n",
    "print(f'states_dict: {states_dict}')\n",
    "print(f'column_states: {column_states}')"
   ]
  },
  {
   "cell_type": "code",
   "execution_count": 2,
   "metadata": {},
   "outputs": [
    {
     "name": "stdout",
     "output_type": "stream",
     "text": [
      "created output file xxx.txt\n"
     ]
    }
   ],
   "source": [
    "lst = [1, 2, 3, 4, 5, 2, 3, 6, 5, 4]\n",
    "output_n = 'xxx.txt'\n",
    "output_f = open(output_n, 'w')\n",
    "for element in lst:\n",
    "    output_f.write(str(element))\n",
    "print(f'created output file {output_n}')\n",
    "output_f.close()"
   ]
  },
  {
   "cell_type": "code",
   "execution_count": 3,
   "metadata": {},
   "outputs": [
    {
     "name": "stdout",
     "output_type": "stream",
     "text": [
      "created output file xxx.txt\n"
     ]
    }
   ],
   "source": [
    "lst = [1, 2, 3, 4, 5, 2, 3, 6, 5, 4]\n",
    "output_n = 'xxx.txt'\n",
    "output_f = open(output_n, 'w')\n",
    "for element in lst:\n",
    "    output_f.write(str(element) + ' ')\n",
    "print(f'created output file {output_n}')\n",
    "output_f.close()"
   ]
  },
  {
   "cell_type": "code",
   "execution_count": 8,
   "metadata": {},
   "outputs": [
    {
     "name": "stdout",
     "output_type": "stream",
     "text": [
      "created output file xxx.txt\n"
     ]
    }
   ],
   "source": [
    "lst = [1, 2, 3, 4, 5, 2, 3, 6, 5, 4]\n",
    "output_n = 'xxx.txt'\n",
    "output_f = open(output_n, 'w')\n",
    "lst_string = [str(x) for x in lst]\n",
    "output_f.write(' '.join(lst_string) + '\\n')\n",
    "print(f'created output file {output_n}')\n",
    "output_f.close()"
   ]
  },
  {
   "cell_type": "code",
   "execution_count": 36,
   "metadata": {},
   "outputs": [
    {
     "data": {
      "text/plain": [
       "'C:\\\\Users\\\\sandr\\\\python\\\\Computational Biology\\\\Bioinformatics Competition 2021\\\\Epigenomic Marks 2'"
      ]
     },
     "execution_count": 36,
     "metadata": {},
     "output_type": "execute_result"
    }
   ],
   "source": [
    "pwd"
   ]
  },
  {
   "cell_type": "code",
   "execution_count": 6,
   "metadata": {},
   "outputs": [
    {
     "name": "stdout",
     "output_type": "stream",
     "text": [
      "10 20 30 40 50\n"
     ]
    }
   ],
   "source": [
    "lst = [10, 20, 30, 40, 50]\n",
    "print(' '.join([str(x) for x in lst]))"
   ]
  },
  {
   "cell_type": "code",
   "execution_count": 33,
   "metadata": {},
   "outputs": [
    {
     "name": "stdout",
     "output_type": "stream",
     "text": [
      "created output_file output.txt\n"
     ]
    }
   ],
   "source": [
    "input_file = open('test.txt')\n",
    "n_tests = int(input_file.readline().strip())\n",
    "\n",
    "tests = []  # list of lists\n",
    "for _ in range(n_tests):\n",
    "    test = []\n",
    "    num = input_file.readline().strip()\n",
    "    n_lines, seq_length = [int(x) for x in num.split()]\n",
    "    for _ in range(n_lines):\n",
    "        test.append(input_file.readline().strip())\n",
    "    tests.append(test)\n",
    "\n",
    "output_name = 'output.txt'\n",
    "output_file = open(output_name, 'w')\n",
    "\n",
    "states_dict = defaultdict(int)\n",
    "last_state = 0\n",
    "column_states = []\n",
    "for col in range(len(seqs[0])):\n",
    "    state = ''\n",
    "    for row in range(len(seqs)):\n",
    "        state += seqs[row][col]\n",
    "    if state not in states_dict:\n",
    "        last_state += 1\n",
    "        states_dict[state] = last_state\n",
    "    output_file.write(str(len(states_dict)) + '\\n')\n",
    "    output_file.write(str(states_dict[state]) + '\\n')\n",
    "    # column_states.append(states_dict[state])\n",
    "print(f'created output_file {output_name}')"
   ]
  },
  {
   "cell_type": "code",
   "execution_count": 1,
   "metadata": {},
   "outputs": [
    {
     "name": "stdout",
     "output_type": "stream",
     "text": [
      "mapped: ['1', '1', '2', '1', '2', '3', '1', '2', '3', '4', '1', '2', '3', '4', '5', '1', '2', '3', '4', '5', '6', '1', '2', '3', '4', '5', '6', '7', '1', '2', '3', '4', '5', '6', '7', '8', '1', '2', '3', '4', '5', '6', '7', '8', '9', '1', '2', '3', '4', '5', '6', '7', '8', '9', '10', '1', '2', '3', '4', '5', '6', '7', '8', '9', '10', '11', '1', '2', '3', '4', '5', '6', '7', '8', '9', '10', '11', '12', '1', '2', '3', '4', '5', '6', '7', '8', '9', '10', '11', '12', '13', '1', '2', '3', '4', '5', '6', '7', '8', '9', '10', '11', '12', '13', '14', '1', '2', '3', '4', '5', '6', '7', '8', '9', '10', '11', '12', '13', '14', '15', '1', '2', '3', '4', '5', '6', '7', '8', '9', '10', '11', '12', '13', '14', '15', '16']\n",
      "created output_file output.txt\n"
     ]
    }
   ],
   "source": [
    "from collections import defaultdict\n",
    "\n",
    "# input_file = open('test.txt')\n",
    "# n_tests = int(input_file.readline().strip())\n",
    "\n",
    "# tests = []  # list of lists\n",
    "# for _ in range(n_tests):\n",
    "#     test = []\n",
    "#     num = input_file.readline().strip()\n",
    "#     n_lines, seq_length = [int(x) for x in num.split()]\n",
    "#     for _ in range(n_lines):\n",
    "#         test.append(input_file.readline().strip())\n",
    "#     tests.append(test)\n",
    "\n",
    "seqs = [\n",
    "    '0110101110000101',\n",
    "    '0010000111111100',\n",
    "    '0010011100110011',\n",
    "    '0001101111010010']\n",
    "\n",
    "output_name = 'output.txt'\n",
    "output_file = open(output_name, 'w')\n",
    "\n",
    "states_dict = defaultdict(int)\n",
    "column_states = []\n",
    "mapped = []\n",
    "for col in range(len(seqs[0])):\n",
    "    state = ''\n",
    "    for row in range(len(seqs)):\n",
    "        state += seqs[row][col]\n",
    "    if state not in states_dict:\n",
    "        states_dict[state] = len(states_dict) + 1\n",
    "    for k, v in states_dict.items():\n",
    "        mapped.append(str(v))\n",
    "    output_file.write(str(len(states_dict)) + '\\n')\n",
    "    output_file.write(' '.join(mapped) + '\\n')\n",
    "    # column_states.append(states_dict[state])\n",
    "print(f'mapped: {mapped}')\n",
    "print(f'created output_file {output_name}')"
   ]
  },
  {
   "cell_type": "code",
   "execution_count": 6,
   "metadata": {},
   "outputs": [
    {
     "name": "stdout",
     "output_type": "stream",
     "text": [
      "mapped: ['1', '2', '3', '4', '5', '2', '3', '6', '5', '4']\n"
     ]
    }
   ],
   "source": [
    "# closer to solution\n",
    "seqs = [\n",
    "    '0010001000',\n",
    "    '1001000001',\n",
    "    '0101010001',\n",
    "    '0010001100']\n",
    "\n",
    "output_name = 'output.txt'\n",
    "output_file = open(output_name, 'w')\n",
    "\n",
    "states_dict = defaultdict(int)\n",
    "column_states = []\n",
    "mapped = []\n",
    "for col in range(len(seqs[0])):\n",
    "    state = ''\n",
    "    for row in range(len(seqs)):\n",
    "        state += seqs[row][col]\n",
    "    if state not in states_dict:\n",
    "        states_dict[state] = len(states_dict) + 1\n",
    "    mapped.append(str(states_dict[state]))\n",
    "output_file.write(str(len(states_dict)) + '\\n')\n",
    "output_file.write(' '.join(mapped) + '\\n')\n",
    "print(f'mapped: {mapped}')"
   ]
  },
  {
   "cell_type": "code",
   "execution_count": 4,
   "metadata": {},
   "outputs": [
    {
     "name": "stdout",
     "output_type": "stream",
     "text": [
      "mapped: ['1', '2', '3', '4', '5', '2', '3', '6', '5', '4']\n"
     ]
    }
   ],
   "source": [
    "# works - no unnecessary lines\n",
    "from collections import defaultdict\n",
    "\n",
    "seqs = [\n",
    "    '0010001000',\n",
    "    '1001000001',\n",
    "    '0101010001',\n",
    "    '0010001100']\n",
    "\n",
    "output_name = 'test_output.txt'\n",
    "output_file = open(output_name, 'w')\n",
    "\n",
    "states_dict = defaultdict(int)\n",
    "column_states = []\n",
    "mapped = []\n",
    "for col in range(len(seqs[0])):\n",
    "    state = ''\n",
    "    for row in range(len(seqs)):\n",
    "        state += seqs[row][col]\n",
    "    if state not in states_dict:\n",
    "        states_dict[state] = len(states_dict) + 1\n",
    "    mapped.append(str(states_dict[state]))\n",
    "output_file.write(str(len(states_dict)) + '\\n')\n",
    "output_file.write(' '.join(mapped) + '\\n')\n",
    "print(f'mapped: {mapped}')"
   ]
  },
  {
   "cell_type": "code",
   "execution_count": 5,
   "metadata": {},
   "outputs": [
    {
     "name": "stdout",
     "output_type": "stream",
     "text": [
      "tests: [['0010001000', '1001000001', '0101010001', '0010001100'], ['00011100010100', '00111000010001']]\n"
     ]
    }
   ],
   "source": [
    "# trying solved examples\n",
    "\n",
    "from collections import defaultdict\n",
    "\n",
    "input_file = open('test.txt')\n",
    "n_tests = int(input_file.readline().strip())\n",
    "\n",
    "tests = []  # list of lists\n",
    "for _ in range(n_tests):\n",
    "    test = []\n",
    "    num = input_file.readline().strip()\n",
    "    n_lines, seq_length = [int(x) for x in num.split()]\n",
    "    for _ in range(n_lines):\n",
    "        test.append(input_file.readline().strip())\n",
    "    tests.append(test)\n",
    "    \n",
    "print(f'tests: {tests}')    "
   ]
  },
  {
   "cell_type": "code",
   "execution_count": 7,
   "metadata": {},
   "outputs": [
    {
     "ename": "IndexError",
     "evalue": "list index out of range",
     "output_type": "error",
     "traceback": [
      "\u001b[1;31m---------------------------------------------------------------------------\u001b[0m",
      "\u001b[1;31mIndexError\u001b[0m                                Traceback (most recent call last)",
      "\u001b[1;32m<ipython-input-7-2abbce99ed16>\u001b[0m in \u001b[0;36m<module>\u001b[1;34m\u001b[0m\n\u001b[0;32m     21\u001b[0m         \u001b[0mstate\u001b[0m \u001b[1;33m=\u001b[0m \u001b[1;34m''\u001b[0m\u001b[1;33m\u001b[0m\u001b[1;33m\u001b[0m\u001b[0m\n\u001b[0;32m     22\u001b[0m         \u001b[1;32mfor\u001b[0m \u001b[0mrow\u001b[0m \u001b[1;32min\u001b[0m \u001b[0mrange\u001b[0m\u001b[1;33m(\u001b[0m\u001b[0mseq_length\u001b[0m\u001b[1;33m)\u001b[0m\u001b[1;33m:\u001b[0m\u001b[1;33m\u001b[0m\u001b[1;33m\u001b[0m\u001b[0m\n\u001b[1;32m---> 23\u001b[1;33m             \u001b[0mstate\u001b[0m \u001b[1;33m+=\u001b[0m \u001b[0mtest\u001b[0m\u001b[1;33m[\u001b[0m\u001b[0mrow\u001b[0m\u001b[1;33m]\u001b[0m\u001b[1;33m[\u001b[0m\u001b[0mcol\u001b[0m\u001b[1;33m]\u001b[0m\u001b[1;33m\u001b[0m\u001b[1;33m\u001b[0m\u001b[0m\n\u001b[0m\u001b[0;32m     24\u001b[0m         \u001b[1;32mif\u001b[0m \u001b[0mstate\u001b[0m \u001b[1;32mnot\u001b[0m \u001b[1;32min\u001b[0m \u001b[0mstates_dict\u001b[0m\u001b[1;33m:\u001b[0m\u001b[1;33m\u001b[0m\u001b[1;33m\u001b[0m\u001b[0m\n\u001b[0;32m     25\u001b[0m             \u001b[0mstates_dict\u001b[0m\u001b[1;33m[\u001b[0m\u001b[0mstate\u001b[0m\u001b[1;33m]\u001b[0m \u001b[1;33m=\u001b[0m \u001b[0mlen\u001b[0m\u001b[1;33m(\u001b[0m\u001b[0mstates_dict\u001b[0m\u001b[1;33m)\u001b[0m \u001b[1;33m+\u001b[0m \u001b[1;36m1\u001b[0m\u001b[1;33m\u001b[0m\u001b[1;33m\u001b[0m\u001b[0m\n",
      "\u001b[1;31mIndexError\u001b[0m: list index out of range"
     ]
    }
   ],
   "source": [
    "# trying solved examples\n",
    "\n",
    "from collections import defaultdict\n",
    "\n",
    "input_file = open('test.txt')\n",
    "n_tests = int(input_file.readline().strip())\n",
    "\n",
    "tests = []  # list of lists\n",
    "for _ in range(n_tests):\n",
    "    test = []\n",
    "    num = input_file.readline().strip()\n",
    "    n_lines, seq_length = [int(x) for x in num.split()]\n",
    "    for _ in range(n_lines):\n",
    "        test.append(input_file.readline().strip())\n",
    "    tests.append(test)\n",
    "\n",
    "states_dict = defaultdict(int)\n",
    "mapped = []\n",
    "for test in tests:\n",
    "    for col in range(n_lines):\n",
    "        state = ''\n",
    "        for row in range(seq_length):\n",
    "            state += test[row][col]\n",
    "        if state not in states_dict:\n",
    "            states_dict[state] = len(states_dict) + 1\n",
    "    mapped.append(str(states_dict[state]))\n",
    "print(f'tests: {tests}')\n",
    "print(f'mapped: {mapped}')"
   ]
  },
  {
   "cell_type": "code",
   "execution_count": null,
   "metadata": {},
   "outputs": [],
   "source": [
    "states_dict = defaultdict(int)\n",
    "column_states = []\n",
    "mapped = []\n",
    "for col in range(len(seqs[0])):\n",
    "    state = ''\n",
    "    for row in range(len(seqs)):\n",
    "        state += seqs[row][col]\n",
    "    if state not in states_dict:\n",
    "        states_dict[state] = len(states_dict) + 1\n",
    "    mapped.append(str(states_dict[state]))"
   ]
  },
  {
   "cell_type": "code",
   "execution_count": 8,
   "metadata": {},
   "outputs": [
    {
     "name": "stdout",
     "output_type": "stream",
     "text": [
      "small: seq_length: 10\n",
      "states_dict: defaultdict(<class 'int'>, {'0100': 1, '0010': 2, '1001': 3, '0110': 4, '0000': 5, '0001': 6})\n",
      "n_states: 6, mapped: ['1', '2', '3', '4', '5', '2', '3', '6', '5', '4']\n",
      "small: seq_length: 14\n",
      "states_dict: defaultdict(<class 'int'>, {'00': 1, '01': 2, '11': 3, '10': 4})\n",
      "n_states: 4, mapped: ['1', '1', '2', '3', '3', '4', '1', '1', '1', '3', '1', '4', '1', '2']\n"
     ]
    }
   ],
   "source": [
    "def find_states(test):\n",
    "    states_dict = defaultdict(int)\n",
    "    mapped = []\n",
    "    for col in range(len(test[0])):\n",
    "        state = ''\n",
    "        for row in range(len(test)):\n",
    "            state += test[row][col]\n",
    "        if state not in states_dict:\n",
    "            states_dict[state] = len(states_dict) + 1\n",
    "        mapped.append(str(states_dict[state]))\n",
    "    print(f'states_dict: {states_dict}')\n",
    "    return len(states_dict), mapped\n",
    "\n",
    "def small(input_name):\n",
    "    input_file = open(input_name)\n",
    "    #output_file = open(output_name, 'w')\n",
    "    n_tests = int(input_file.readline().strip())\n",
    "    \n",
    "    tests = []\n",
    "    for _ in range(n_tests):\n",
    "        test = []\n",
    "        num = input_file.readline().strip()\n",
    "        n_lines, seq_length = [int(x) for x in num.split()]\n",
    "        print(f'small: seq_length: {seq_length}')\n",
    "        for _ in range(n_lines):\n",
    "            test.append(input_file.readline().strip())\n",
    "        tests.append(test)\n",
    "    \n",
    "        n_states, mapped = find_states(test)\n",
    "        # output_file.write(str(n_states) + '\\n')\n",
    "        # output_file.write(' '.join(mapped) + '\\n')\n",
    "    \n",
    "        print(f'n_states: {n_states}, mapped: {mapped}')\n",
    "\n",
    "input_name = 'test.txt'\n",
    "small(input_name)"
   ]
  },
  {
   "cell_type": "code",
   "execution_count": 9,
   "metadata": {},
   "outputs": [
    {
     "name": "stdout",
     "output_type": "stream",
     "text": [
      "created output file test_cases_output.txt\n"
     ]
    }
   ],
   "source": [
    "# works on test example\n",
    "from collections import defaultdict\n",
    "\n",
    "def find_states(test):\n",
    "    states_dict = defaultdict(int)\n",
    "    mapped = []\n",
    "    for col in range(len(test[0])):\n",
    "        state = ''\n",
    "        for row in range(len(test)):\n",
    "            state += test[row][col]\n",
    "        if state not in states_dict:\n",
    "            states_dict[state] = len(states_dict) + 1\n",
    "        mapped.append(str(states_dict[state]))\n",
    "    return len(states_dict), mapped\n",
    "\n",
    "def small(input_name, output_name):\n",
    "    input_file = open(input_name)\n",
    "    output_file = open(output_name, 'w')\n",
    "    n_tests = int(input_file.readline().strip())\n",
    "    \n",
    "    tests = []\n",
    "    for _ in range(n_tests):\n",
    "        test = []\n",
    "        num = input_file.readline().strip()\n",
    "        n_lines, seq_length = [int(x) for x in num.split()]\n",
    "        for _ in range(n_lines):\n",
    "            test.append(input_file.readline().strip())\n",
    "        tests.append(test)\n",
    "    \n",
    "        n_states, mapped = find_states(test)\n",
    "        output_file.write(str(n_states) + '\\n')\n",
    "        output_file.write(' '.join(mapped) + '\\n')\n",
    "    \n",
    "    print(f'created output file {output_name}')\n",
    "\n",
    "input_name = 'test.txt'\n",
    "output_name = 'test_cases_output.txt'\n",
    "small(input_name, output_name)"
   ]
  },
  {
   "cell_type": "code",
   "execution_count": 12,
   "metadata": {},
   "outputs": [
    {
     "name": "stdout",
     "output_type": "stream",
     "text": [
      "created output file small_output.txt\n"
     ]
    }
   ],
   "source": [
    "# submitted and all tests are correct\n",
    "from collections import defaultdict\n",
    "\n",
    "def find_states(test):\n",
    "    states_dict = defaultdict(int)\n",
    "    mapped = []\n",
    "    for col in range(len(test[0])):\n",
    "        state = ''\n",
    "        for row in range(len(test)):\n",
    "            state += test[row][col]\n",
    "        if state not in states_dict:\n",
    "            states_dict[state] = len(states_dict) + 1\n",
    "        mapped.append(str(states_dict[state]))\n",
    "    return len(states_dict), mapped\n",
    "\n",
    "def small(input_name, output_name):\n",
    "    input_file = open(input_name)\n",
    "    output_file = open(output_name, 'w')\n",
    "    n_tests = int(input_file.readline().strip())\n",
    "    \n",
    "    tests = []\n",
    "    for _ in range(n_tests):\n",
    "        test = []\n",
    "        num = input_file.readline().strip()\n",
    "        n_lines, seq_length = [int(x) for x in num.split()]\n",
    "        for _ in range(n_lines):\n",
    "            test.append(input_file.readline().strip())\n",
    "        tests.append(test)\n",
    "    \n",
    "        n_states, mapped = find_states(test)\n",
    "        output_file.write(str(n_states) + '\\n')\n",
    "        output_file.write(' '.join(mapped) + '\\n')\n",
    "    \n",
    "    print(f'created output file {output_name}')\n",
    "\n",
    "input_name = '1.txt'\n",
    "output_name = 'small_output.txt'\n",
    "small(input_name, output_name)"
   ]
  },
  {
   "cell_type": "code",
   "execution_count": 8,
   "metadata": {},
   "outputs": [
    {
     "name": "stdout",
     "output_type": "stream",
     "text": [
      "created output file xxx.txt\n"
     ]
    }
   ],
   "source": [
    "lst = [1, 2, 3, 4, 5, 2, 3, 6, 5, 4]\n",
    "output_n = 'xxx.txt'\n",
    "output_f = open(output_n, 'w')\n",
    "lst_string = [str(x) for x in lst]\n",
    "output_f.write(' '.join(lst_string) + '\\n')\n",
    "print(f'created output file {output_n}')\n",
    "output_f.close()"
   ]
  }
 ],
 "metadata": {
  "kernelspec": {
   "display_name": "Python 3",
   "language": "python",
   "name": "python3"
  },
  "language_info": {
   "codemirror_mode": {
    "name": "ipython",
    "version": 3
   },
   "file_extension": ".py",
   "mimetype": "text/x-python",
   "name": "python",
   "nbconvert_exporter": "python",
   "pygments_lexer": "ipython3",
   "version": "3.8.5"
  }
 },
 "nbformat": 4,
 "nbformat_minor": 4
}
