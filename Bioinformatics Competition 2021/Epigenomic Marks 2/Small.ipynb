{
 "cells": [
  {
   "cell_type": "code",
   "execution_count": null,
   "metadata": {},
   "outputs": [],
   "source": [
    "with open('1.txt') as binary_file:\n",
    "    pass"
   ]
  },
  {
   "cell_type": "code",
   "execution_count": 1,
   "metadata": {},
   "outputs": [
    {
     "ename": "ValueError",
     "evalue": "too many values to unpack (expected 2)",
     "output_type": "error",
     "traceback": [
      "\u001b[1;31m---------------------------------------------------------------------------\u001b[0m",
      "\u001b[1;31mValueError\u001b[0m                                Traceback (most recent call last)",
      "\u001b[1;32m<ipython-input-1-434bd8e0c803>\u001b[0m in \u001b[0;36m<module>\u001b[1;34m\u001b[0m\n\u001b[0;32m      1\u001b[0m \u001b[0mbinary_file\u001b[0m \u001b[1;33m=\u001b[0m \u001b[0mopen\u001b[0m\u001b[1;33m(\u001b[0m\u001b[1;34m'1.txt'\u001b[0m\u001b[1;33m)\u001b[0m\u001b[1;33m\u001b[0m\u001b[1;33m\u001b[0m\u001b[0m\n\u001b[0;32m      2\u001b[0m \u001b[0mn_tests\u001b[0m \u001b[1;33m=\u001b[0m \u001b[0mbinary_file\u001b[0m\u001b[1;33m.\u001b[0m\u001b[0mreadline\u001b[0m\u001b[1;33m(\u001b[0m\u001b[1;33m)\u001b[0m\u001b[1;33m.\u001b[0m\u001b[0mstrip\u001b[0m\u001b[1;33m(\u001b[0m\u001b[1;33m)\u001b[0m\u001b[1;33m\u001b[0m\u001b[1;33m\u001b[0m\u001b[0m\n\u001b[1;32m----> 3\u001b[1;33m \u001b[0mn_lines\u001b[0m\u001b[1;33m,\u001b[0m \u001b[0mseq_length\u001b[0m \u001b[1;33m=\u001b[0m \u001b[0mbinary_file\u001b[0m\u001b[1;33m.\u001b[0m\u001b[0mreadline\u001b[0m\u001b[1;33m(\u001b[0m\u001b[1;33m)\u001b[0m\u001b[1;33m.\u001b[0m\u001b[0mstrip\u001b[0m\u001b[1;33m(\u001b[0m\u001b[1;33m)\u001b[0m\u001b[1;33m\u001b[0m\u001b[1;33m\u001b[0m\u001b[0m\n\u001b[0m\u001b[0;32m      4\u001b[0m \u001b[0mseq_lines\u001b[0m \u001b[1;33m=\u001b[0m \u001b[1;33m[\u001b[0m\u001b[1;33m]\u001b[0m\u001b[1;33m\u001b[0m\u001b[1;33m\u001b[0m\u001b[0m\n\u001b[0;32m      5\u001b[0m \u001b[1;32mfor\u001b[0m \u001b[0m_\u001b[0m \u001b[1;32min\u001b[0m \u001b[0mrange\u001b[0m\u001b[1;33m(\u001b[0m\u001b[0mn_lines\u001b[0m\u001b[1;33m)\u001b[0m\u001b[1;33m:\u001b[0m\u001b[1;33m\u001b[0m\u001b[1;33m\u001b[0m\u001b[0m\n",
      "\u001b[1;31mValueError\u001b[0m: too many values to unpack (expected 2)"
     ]
    }
   ],
   "source": [
    "binary_file = open('1.txt')\n",
    "n_tests = binary_file.readline().strip()\n",
    "n_lines, seq_length = binary_file.readline().strip()\n",
    "seq_lines = []\n",
    "for _ in range(n_lines):\n",
    "    seq_lines.append(binary_file.readline().strip())\n",
    "\n",
    "print(f'n_tests: {n_tests}, n_lines: {n_lines}, seq_length: {seq_length}')\n",
    "print(f'seq_lines: {seq_lines}')"
   ]
  },
  {
   "cell_type": "code",
   "execution_count": 21,
   "metadata": {},
   "outputs": [
    {
     "name": "stdout",
     "output_type": "stream",
     "text": [
      "n_tests: 28\n",
      "len(tests): 28\n",
      "tests[1]: ['1100', '1010']\n"
     ]
    }
   ],
   "source": [
    "binary_file = open('1.txt')\n",
    "n_tests = int(binary_file.readline().strip())\n",
    "print(f'n_tests: {n_tests}')\n",
    "\n",
    "tests = []  # list of lists\n",
    "for _ in range(n_tests):\n",
    "    test = []\n",
    "    num = binary_file.readline().strip()\n",
    "    n_lines, seq_length = [int(x) for x in num.split()]\n",
    "    for _ in range(n_lines):\n",
    "        test.append(binary_file.readline().strip())\n",
    "    tests.append(test)\n",
    "\n",
    "print(f'len(tests): {len(tests)}')\n",
    "print(f'tests[1]: {tests[1]}')"
   ]
  },
  {
   "cell_type": "code",
   "execution_count": 11,
   "metadata": {},
   "outputs": [
    {
     "data": {
      "text/plain": [
       "['1', '2']"
      ]
     },
     "execution_count": 11,
     "metadata": {},
     "output_type": "execute_result"
    }
   ],
   "source": [
    "s = '1 2'\n",
    "s.split()"
   ]
  },
  {
   "cell_type": "code",
   "execution_count": 10,
   "metadata": {},
   "outputs": [
    {
     "name": "stdout",
     "output_type": "stream",
     "text": [
      "a: 10, b: 20\n"
     ]
    }
   ],
   "source": [
    "a, b = [10, 20]\n",
    "print(f'a: {a}, b: {b}')"
   ]
  },
  {
   "cell_type": "code",
   "execution_count": 7,
   "metadata": {},
   "outputs": [
    {
     "data": {
      "text/plain": [
       "['0110101110000101',\n",
       " '0010000111111100',\n",
       " '0010011100110011',\n",
       " '0001101111010010']"
      ]
     },
     "execution_count": 7,
     "metadata": {},
     "output_type": "execute_result"
    }
   ],
   "source": [
    "seqs = [\n",
    "    '0110101110000101',\n",
    "    '0010000111111100',\n",
    "    '0010011100110011',\n",
    "    '0001101111010010']\n",
    "seqs"
   ]
  },
  {
   "cell_type": "code",
   "execution_count": 15,
   "metadata": {},
   "outputs": [
    {
     "ename": "SyntaxError",
     "evalue": "invalid syntax (<ipython-input-15-c49b91989e3f>, line 2)",
     "output_type": "error",
     "traceback": [
      "\u001b[1;36m  File \u001b[1;32m\"<ipython-input-15-c49b91989e3f>\"\u001b[1;36m, line \u001b[1;32m2\u001b[0m\n\u001b[1;33m    states = [states += seqs[row][0] for row in range(len(seqs))]\u001b[0m\n\u001b[1;37m                     ^\u001b[0m\n\u001b[1;31mSyntaxError\u001b[0m\u001b[1;31m:\u001b[0m invalid syntax\n"
     ]
    }
   ],
   "source": [
    "states = ''\n",
    "states = [states += seqs[row][0] for row in range(len(seqs))]\n",
    "states"
   ]
  },
  {
   "cell_type": "code",
   "execution_count": 10,
   "metadata": {},
   "outputs": [
    {
     "name": "stdout",
     "output_type": "stream",
     "text": [
      "0\n"
     ]
    }
   ],
   "source": [
    "s = 'abc'\n",
    "s += 'd'\n",
    "s\n",
    "\n",
    "print(seqs[0][0])"
   ]
  },
  {
   "cell_type": "code",
   "execution_count": 12,
   "metadata": {},
   "outputs": [
    {
     "data": {
      "text/plain": [
       "'0'"
      ]
     },
     "execution_count": 12,
     "metadata": {},
     "output_type": "execute_result"
    }
   ],
   "source": [
    "states = ''\n",
    "states += seqs[0][0]\n",
    "states"
   ]
  },
  {
   "cell_type": "code",
   "execution_count": 19,
   "metadata": {},
   "outputs": [
    {
     "name": "stdout",
     "output_type": "stream",
     "text": [
      "first column: 0\n",
      "type of cell: <class 'str'>\n",
      "state: 0\n",
      "first column: 0\n",
      "type of cell: <class 'str'>\n",
      "state: 00\n",
      "first column: 0\n",
      "type of cell: <class 'str'>\n",
      "state: 000\n",
      "first column: 0\n",
      "type of cell: <class 'str'>\n",
      "state: 0000\n"
     ]
    }
   ],
   "source": [
    "state = ''\n",
    "for row in range(len(seqs)):\n",
    "    print(f'first column: {seqs[row][0]}')\n",
    "    print(f'type of cell: {type(seqs[row][0])}')\n",
    "    state += seqs[row][0]\n",
    "    print(f'state: {state}')"
   ]
  },
  {
   "cell_type": "code",
   "execution_count": 8,
   "metadata": {},
   "outputs": [
    {
     "data": {
      "text/plain": [
       "['0110101110000101',\n",
       " '0010000111111100',\n",
       " '0010011100110011',\n",
       " '0001101111010010']"
      ]
     },
     "execution_count": 8,
     "metadata": {},
     "output_type": "execute_result"
    }
   ],
   "source": [
    "seqs = [\n",
    "    '0110101110000101',\n",
    "    '0010000111111100',\n",
    "    '0010011100110011',\n",
    "    '0001101111010010']\n",
    "seqs"
   ]
  },
  {
   "cell_type": "code",
   "execution_count": 1,
   "metadata": {},
   "outputs": [
    {
     "data": {
      "text/plain": [
       "['0010001000', '1001000001', '0101010001', '0010001100']"
      ]
     },
     "execution_count": 1,
     "metadata": {},
     "output_type": "execute_result"
    }
   ],
   "source": [
    "seqs = [\n",
    "    '0010001000',\n",
    "    '1001000001',\n",
    "    '0101010001',\n",
    "    '0010001100']\n",
    "seqs"
   ]
  },
  {
   "cell_type": "code",
   "execution_count": 9,
   "metadata": {},
   "outputs": [
    {
     "name": "stdout",
     "output_type": "stream",
     "text": [
      "state: 0100\n",
      "state: 0010\n",
      "state: 1001\n",
      "state: 0110\n",
      "state: 0000\n",
      "state: 0010\n",
      "state: 1001\n",
      "state: 0001\n",
      "state: 0000\n",
      "state: 0110\n",
      "states_dict: defaultdict(<class 'int'>, {'0100': 1, '0010': 2, '1001': 2, '0110': 2, '0000': 2, '0001': 1})\n"
     ]
    }
   ],
   "source": [
    "from collections import defaultdict\n",
    "\n",
    "states_dict = defaultdict(int)\n",
    "\n",
    "for col in range(len(seqs[0])):\n",
    "    state = ''\n",
    "    for row in range(len(seqs)):\n",
    "        state += seqs[row][col]\n",
    "    print(f'state: {state}')\n",
    "    states_dict[state] += 1\n",
    "\n",
    "print(f'states_dict: {states_dict}')"
   ]
  }
 ],
 "metadata": {
  "kernelspec": {
   "display_name": "Python 3",
   "language": "python",
   "name": "python3"
  },
  "language_info": {
   "codemirror_mode": {
    "name": "ipython",
    "version": 3
   },
   "file_extension": ".py",
   "mimetype": "text/x-python",
   "name": "python",
   "nbconvert_exporter": "python",
   "pygments_lexer": "ipython3",
   "version": "3.8.5"
  }
 },
 "nbformat": 4,
 "nbformat_minor": 4
}
