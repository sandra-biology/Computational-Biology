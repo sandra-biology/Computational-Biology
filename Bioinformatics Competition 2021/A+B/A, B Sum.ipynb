{
 "cells": [
  {
   "cell_type": "code",
   "execution_count": 1,
   "metadata": {},
   "outputs": [
    {
     "name": "stdout",
     "output_type": "stream",
     "text": [
      "['1 5\\n', '9 9\\n', '8 5\\n', '5 4\\n', '0 7\\n', '2 6\\n', '5 5\\n', '0 8\\n', '8 4\\n', '5 4\\n']\n"
     ]
    }
   ],
   "source": [
    "lst_numbers = []\n",
    "with open(\"input.txt\") as fh:\n",
    "    fh.readline()\n",
    "    while True:\n",
    "        num = fh.readline()\n",
    "        if len(num) == 0:\n",
    "            break\n",
    "        lst_numbers.append(num)\n",
    "\n",
    "print(lst_numbers)"
   ]
  },
  {
   "cell_type": "code",
   "execution_count": 2,
   "metadata": {},
   "outputs": [
    {
     "name": "stdout",
     "output_type": "stream",
     "text": [
      "[['1 5\\n', '9 9\\n', '8 5\\n', '5 4\\n', '0 7\\n', '2 6\\n', '5 5\\n', '0 8\\n', '8 4\\n', '5 4\\n'], ['1 5\\n', '9 9\\n', '8 5\\n', '5 4\\n', '0 7\\n', '2 6\\n', '5 5\\n', '0 8\\n', '8 4\\n', '5 4\\n'], ['1 5\\n', '9 9\\n', '8 5\\n', '5 4\\n', '0 7\\n', '2 6\\n', '5 5\\n', '0 8\\n', '8 4\\n', '5 4\\n'], ['1 5\\n', '9 9\\n', '8 5\\n', '5 4\\n', '0 7\\n', '2 6\\n', '5 5\\n', '0 8\\n', '8 4\\n', '5 4\\n'], ['1 5\\n', '9 9\\n', '8 5\\n', '5 4\\n', '0 7\\n', '2 6\\n', '5 5\\n', '0 8\\n', '8 4\\n', '5 4\\n'], ['1 5\\n', '9 9\\n', '8 5\\n', '5 4\\n', '0 7\\n', '2 6\\n', '5 5\\n', '0 8\\n', '8 4\\n', '5 4\\n'], ['1 5\\n', '9 9\\n', '8 5\\n', '5 4\\n', '0 7\\n', '2 6\\n', '5 5\\n', '0 8\\n', '8 4\\n', '5 4\\n'], ['1 5\\n', '9 9\\n', '8 5\\n', '5 4\\n', '0 7\\n', '2 6\\n', '5 5\\n', '0 8\\n', '8 4\\n', '5 4\\n'], ['1 5\\n', '9 9\\n', '8 5\\n', '5 4\\n', '0 7\\n', '2 6\\n', '5 5\\n', '0 8\\n', '8 4\\n', '5 4\\n'], ['1 5\\n', '9 9\\n', '8 5\\n', '5 4\\n', '0 7\\n', '2 6\\n', '5 5\\n', '0 8\\n', '8 4\\n', '5 4\\n']]\n"
     ]
    }
   ],
   "source": [
    "lst_numbers = []\n",
    "numbers = []\n",
    "with open(\"input.txt\") as fh:\n",
    "    fh.readline()\n",
    "    while True:\n",
    "        num = fh.readline()\n",
    "        if len(num) == 0:\n",
    "            break\n",
    "        numbers.append(num)\n",
    "        lst_numbers.append(numbers)\n",
    "\n",
    "print(lst_numbers)"
   ]
  },
  {
   "cell_type": "code",
   "execution_count": 3,
   "metadata": {},
   "outputs": [
    {
     "name": "stdout",
     "output_type": "stream",
     "text": [
      "[['1 5\\n'], ['9 9\\n'], ['8 5\\n'], ['5 4\\n'], ['0 7\\n'], ['2 6\\n'], ['5 5\\n'], ['0 8\\n'], ['8 4\\n'], ['5 4\\n']]\n"
     ]
    }
   ],
   "source": [
    "lst_numbers = []\n",
    "numbers = []\n",
    "with open(\"input.txt\") as fh:\n",
    "    fh.readline()\n",
    "    while True:\n",
    "        num = fh.readline()\n",
    "        if len(num) == 0:\n",
    "            break\n",
    "        numbers.append(num)\n",
    "        lst_numbers.append(numbers)\n",
    "        numbers = []\n",
    "\n",
    "print(lst_numbers)"
   ]
  },
  {
   "cell_type": "code",
   "execution_count": 5,
   "metadata": {},
   "outputs": [
    {
     "name": "stdout",
     "output_type": "stream",
     "text": [
      "[['1 5\\n'], ['9 9\\n'], ['8 5\\n'], ['5 4\\n'], ['0 7\\n'], ['2 6\\n'], ['5 5\\n'], ['0 8\\n'], ['8 4\\n'], ['5 4\\n']]\n"
     ]
    }
   ],
   "source": [
    "lst_numbers = []\n",
    "numbers = []\n",
    "with open(\"input.txt\") as fh:\n",
    "    fh.readline()\n",
    "    while True:\n",
    "        num = fh.readline()\n",
    "        if len(num) == 0:\n",
    "            break\n",
    "        numbers.append(num)\n",
    "        lst_numbers.append(numbers)\n",
    "        numbers = []\n",
    "\n",
    "print(lst_numbers)"
   ]
  },
  {
   "cell_type": "code",
   "execution_count": 7,
   "metadata": {},
   "outputs": [
    {
     "name": "stdout",
     "output_type": "stream",
     "text": [
      "['1 5\\n', '9 9\\n', '8 5\\n', '5 4\\n', '0 7\\n', '2 6\\n', '5 5\\n', '0 8\\n', '8 4\\n', '5 4\\n']\n"
     ]
    }
   ],
   "source": [
    "lst_numbers = []\n",
    "with open(\"input.txt\") as fh:\n",
    "    fh.readline()\n",
    "    while True:\n",
    "        num = fh.readline()\n",
    "        if len(num) == 0:\n",
    "            break\n",
    "        lst_numbers.append(num)\n",
    "\n",
    "print(lst_numbers)"
   ]
  },
  {
   "cell_type": "code",
   "execution_count": 8,
   "metadata": {},
   "outputs": [
    {
     "name": "stdout",
     "output_type": "stream",
     "text": [
      "['1 5\\n', '9 9\\n', '8 5\\n', '5 4\\n', '0 7\\n', '2 6\\n', '5 5\\n', '0 8\\n', '8 4\\n', '5 4\\n']\n"
     ]
    }
   ],
   "source": [
    "lst_numbers = ['1 5\\n', '9 9\\n', '8 5\\n', '5 4\\n', '0 7\\n', '2 6\\n', '5 5\\n', '0 8\\n', '8 4\\n', '5 4\\n']\n",
    "for numbers in lst_numbers:\n",
    "    numbers.replace(\" \", \",\")  # not necessary\n",
    "    numbers.strip()\n",
    "print(lst_numbers)"
   ]
  },
  {
   "cell_type": "code",
   "execution_count": 10,
   "metadata": {},
   "outputs": [
    {
     "name": "stdout",
     "output_type": "stream",
     "text": [
      "['this', 'is', 'a', 'list', 'of', 'words']\n"
     ]
    }
   ],
   "source": [
    "# example from stack overflow\n",
    "my_list = ['this\\n', 'is\\n', 'a\\n', 'list\\n', 'of\\n', 'words\\n']\n",
    "stripped = [s.strip() for s in my_list]\n",
    "print(stripped)"
   ]
  },
  {
   "cell_type": "code",
   "execution_count": 6,
   "metadata": {},
   "outputs": [
    {
     "name": "stdout",
     "output_type": "stream",
     "text": [
      "['1,5\\n', '9,9\\n', '8,5\\n', '5,4\\n', '0,7\\n', '2,6\\n', '5,5\\n', '0,8\\n', '8,4\\n', '5,4\\n']\n"
     ]
    }
   ],
   "source": [
    "lst_numbers = ['1 5\\n', '9 9\\n', '8 5\\n', '5 4\\n', '0 7\\n', '2 6\\n', '5 5\\n', '0 8\\n', '8 4\\n', '5 4\\n']\n",
    "lst_nums_stripped = [s.replace(\" \", \",\") for s in lst_numbers]\n",
    "print(lst_nums_stripped)"
   ]
  },
  {
   "cell_type": "code",
   "execution_count": 17,
   "metadata": {},
   "outputs": [
    {
     "name": "stdout",
     "output_type": "stream",
     "text": [
      "lst_nums_stripped fully: ['1 5', '9 9', '8 5', '5 4', '0 7', '2 6', '5 5', '0 8', '8 4', '5 4']\n",
      "lst_nums: ['1,5', '9,9', '8,5', '5,4', '0,7', '2,6', '5,5', '0,8', '8,4', '5,4']\n"
     ]
    }
   ],
   "source": [
    "lst_numbers = ['1 5\\n', '9 9\\n', '8 5\\n', '5 4\\n', '0 7\\n', '2 6\\n', '5 5\\n', '0 8\\n', '8 4\\n', '5 4\\n']\n",
    "# lst_nums_stripped = [s.replace(\" \", \",\") for s in lst_numbers]\n",
    "# print(f\"lst_nums_stripped after replace: {lst_nums_stripped}\")\n",
    "\n",
    "lst_nums_stripped = [s.strip(\"\\n\") for s in lst_numbers]\n",
    "print(f\"lst_nums_stripped fully: {lst_nums_stripped}\")\n",
    "lst_nums = [num.replace(\" \", \",\") for num in lst_nums_stripped]\n",
    "print(f\"lst_nums: {lst_nums}\")"
   ]
  },
  {
   "cell_type": "code",
   "execution_count": 23,
   "metadata": {},
   "outputs": [
    {
     "name": "stdout",
     "output_type": "stream",
     "text": [
      "[[1, 5], [9, 9], [8, 5], [5, 4], [0, 7], [2, 6], [5, 5], [0, 8], [8, 4], [5, 4]]\n"
     ]
    }
   ],
   "source": [
    "lst_nums_strings = ['1,5', '9,9', '8,5', '5,4', '0,7', '2,6', '5,5', '0,8', '8,4', '5,4']\n",
    "lst_num = []\n",
    "number = []\n",
    "for num_string in lst_nums_strings:\n",
    "    number.append(int(num_string[0]))\n",
    "    number.append(int(num_string[2]))\n",
    "    lst_num.append(number)\n",
    "    number = []\n",
    "print(lst_num)"
   ]
  },
  {
   "cell_type": "code",
   "execution_count": 1,
   "metadata": {},
   "outputs": [
    {
     "name": "stdout",
     "output_type": "stream",
     "text": [
      "[[1, 5], [9, 9], [8, 5], [5, 4], [0, 7], [2, 6], [5, 5], [0, 8], [8, 4], [5, 4]]\n"
     ]
    }
   ],
   "source": [
    "lst_num_str = []\n",
    "with open(\"input.txt\") as fh:\n",
    "    fh.readline()\n",
    "    while True:\n",
    "        num = fh.readline()\n",
    "        if len(num) == 0:\n",
    "            break\n",
    "        lst_num_str.append(num)\n",
    "\n",
    "lst_num = []\n",
    "number = []\n",
    "lst_num_str = [s.strip(\"\\n\") for s in lst_num_str]\n",
    "lst_num_str = [num.replace(\" \", \",\") for num in lst_num_str]\n",
    "for num_string in lst_num_str:\n",
    "    number.append(int(num_string[0]))\n",
    "    number.append(int(num_string[2]))\n",
    "    lst_num.append(number)\n",
    "    number = []\n",
    "print(lst_num)"
   ]
  },
  {
   "cell_type": "code",
   "execution_count": 3,
   "metadata": {},
   "outputs": [
    {
     "name": "stdout",
     "output_type": "stream",
     "text": [
      "6\n",
      "18\n",
      "13\n",
      "9\n",
      "7\n",
      "8\n",
      "10\n",
      "8\n",
      "12\n",
      "9\n"
     ]
    }
   ],
   "source": [
    "lst_num = [[1, 5], [9, 9], [8, 5], [5, 4], [0, 7], [2, 6], [5, 5], [0, 8], [8, 4], [5, 4]]\n",
    "total = 0\n",
    "for lst in lst_num:\n",
    "    total = lst[0] + lst[1]\n",
    "    print(total)"
   ]
  }
 ],
 "metadata": {
  "kernelspec": {
   "display_name": "Python 3",
   "language": "python",
   "name": "python3"
  },
  "language_info": {
   "codemirror_mode": {
    "name": "ipython",
    "version": 3
   },
   "file_extension": ".py",
   "mimetype": "text/x-python",
   "name": "python",
   "nbconvert_exporter": "python",
   "pygments_lexer": "ipython3",
   "version": "3.8.5"
  }
 },
 "nbformat": 4,
 "nbformat_minor": 4
}
