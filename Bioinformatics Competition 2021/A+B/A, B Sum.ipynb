{
 "cells": [
  {
   "cell_type": "code",
   "execution_count": 1,
   "metadata": {},
   "outputs": [
    {
     "name": "stdout",
     "output_type": "stream",
     "text": [
      "['1 5\\n', '9 9\\n', '8 5\\n', '5 4\\n', '0 7\\n', '2 6\\n', '5 5\\n', '0 8\\n', '8 4\\n', '5 4\\n']\n"
     ]
    }
   ],
   "source": [
    "lst_numbers = []\n",
    "with open(\"input.txt\") as fh:\n",
    "    fh.readline()\n",
    "    while True:\n",
    "        num = fh.readline()\n",
    "        if len(num) == 0:\n",
    "            break\n",
    "        lst_numbers.append(num)\n",
    "\n",
    "print(lst_numbers)"
   ]
  },
  {
   "cell_type": "code",
   "execution_count": 3,
   "metadata": {},
   "outputs": [
    {
     "name": "stdout",
     "output_type": "stream",
     "text": [
      "[['1 5\\n'], ['9 9\\n'], ['8 5\\n'], ['5 4\\n'], ['0 7\\n'], ['2 6\\n'], ['5 5\\n'], ['0 8\\n'], ['8 4\\n'], ['5 4\\n']]\n"
     ]
    }
   ],
   "source": [
    "lst_numbers = []\n",
    "numbers = []\n",
    "with open(\"input.txt\") as fh:\n",
    "    fh.readline()\n",
    "    while True:\n",
    "        num = fh.readline()\n",
    "        if len(num) == 0:\n",
    "            break\n",
    "        numbers.append(num)\n",
    "        lst_numbers.append(numbers)\n",
    "        numbers = []\n",
    "\n",
    "print(lst_numbers)"
   ]
  },
  {
   "cell_type": "code",
   "execution_count": 5,
   "metadata": {},
   "outputs": [
    {
     "name": "stdout",
     "output_type": "stream",
     "text": [
      "[['1 5\\n'], ['9 9\\n'], ['8 5\\n'], ['5 4\\n'], ['0 7\\n'], ['2 6\\n'], ['5 5\\n'], ['0 8\\n'], ['8 4\\n'], ['5 4\\n']]\n"
     ]
    }
   ],
   "source": [
    "lst_numbers = []\n",
    "numbers = []\n",
    "with open(\"input.txt\") as fh:\n",
    "    fh.readline()\n",
    "    while True:\n",
    "        num = fh.readline()\n",
    "        if len(num) == 0:\n",
    "            break\n",
    "        numbers.append(num)\n",
    "        lst_numbers.append(numbers)\n",
    "        numbers = []\n",
    "\n",
    "print(lst_numbers)"
   ]
  },
  {
   "cell_type": "code",
   "execution_count": 7,
   "metadata": {},
   "outputs": [
    {
     "name": "stdout",
     "output_type": "stream",
     "text": [
      "['1 5\\n', '9 9\\n', '8 5\\n', '5 4\\n', '0 7\\n', '2 6\\n', '5 5\\n', '0 8\\n', '8 4\\n', '5 4\\n']\n"
     ]
    }
   ],
   "source": [
    "lst_numbers = []\n",
    "with open(\"input.txt\") as fh:\n",
    "    fh.readline()\n",
    "    while True:\n",
    "        num = fh.readline()\n",
    "        if len(num) == 0:\n",
    "            break\n",
    "        lst_numbers.append(num)\n",
    "\n",
    "print(lst_numbers)"
   ]
  },
  {
   "cell_type": "code",
   "execution_count": 8,
   "metadata": {},
   "outputs": [
    {
     "name": "stdout",
     "output_type": "stream",
     "text": [
      "['1 5\\n', '9 9\\n', '8 5\\n', '5 4\\n', '0 7\\n', '2 6\\n', '5 5\\n', '0 8\\n', '8 4\\n', '5 4\\n']\n"
     ]
    }
   ],
   "source": [
    "lst_numbers = ['1 5\\n', '9 9\\n', '8 5\\n', '5 4\\n', '0 7\\n', '2 6\\n', '5 5\\n', '0 8\\n', '8 4\\n', '5 4\\n']\n",
    "for numbers in lst_numbers:\n",
    "    numbers.replace(\" \", \",\")  # not necessary\n",
    "    numbers.strip()\n",
    "print(lst_numbers)"
   ]
  },
  {
   "cell_type": "code",
   "execution_count": 10,
   "metadata": {},
   "outputs": [
    {
     "name": "stdout",
     "output_type": "stream",
     "text": [
      "['this', 'is', 'a', 'list', 'of', 'words']\n"
     ]
    }
   ],
   "source": [
    "# example from stack overflow\n",
    "my_list = ['this\\n', 'is\\n', 'a\\n', 'list\\n', 'of\\n', 'words\\n']\n",
    "stripped = [s.strip() for s in my_list]\n",
    "print(stripped)"
   ]
  },
  {
   "cell_type": "code",
   "execution_count": 6,
   "metadata": {},
   "outputs": [
    {
     "name": "stdout",
     "output_type": "stream",
     "text": [
      "['1,5\\n', '9,9\\n', '8,5\\n', '5,4\\n', '0,7\\n', '2,6\\n', '5,5\\n', '0,8\\n', '8,4\\n', '5,4\\n']\n"
     ]
    }
   ],
   "source": [
    "lst_numbers = ['1 5\\n', '9 9\\n', '8 5\\n', '5 4\\n', '0 7\\n', '2 6\\n', '5 5\\n', '0 8\\n', '8 4\\n', '5 4\\n']\n",
    "lst_nums_stripped = [s.replace(\" \", \",\") for s in lst_numbers]\n",
    "print(lst_nums_stripped)"
   ]
  },
  {
   "cell_type": "code",
   "execution_count": 17,
   "metadata": {},
   "outputs": [
    {
     "name": "stdout",
     "output_type": "stream",
     "text": [
      "lst_nums_stripped fully: ['1 5', '9 9', '8 5', '5 4', '0 7', '2 6', '5 5', '0 8', '8 4', '5 4']\n",
      "lst_nums: ['1,5', '9,9', '8,5', '5,4', '0,7', '2,6', '5,5', '0,8', '8,4', '5,4']\n"
     ]
    }
   ],
   "source": [
    "lst_numbers = ['1 5\\n', '9 9\\n', '8 5\\n', '5 4\\n', '0 7\\n', '2 6\\n', '5 5\\n', '0 8\\n', '8 4\\n', '5 4\\n']\n",
    "# lst_nums_stripped = [s.replace(\" \", \",\") for s in lst_numbers]\n",
    "# print(f\"lst_nums_stripped after replace: {lst_nums_stripped}\")\n",
    "\n",
    "lst_nums_stripped = [s.strip(\"\\n\") for s in lst_numbers]\n",
    "print(f\"lst_nums_stripped fully: {lst_nums_stripped}\")\n",
    "lst_nums = [num.replace(\" \", \",\") for num in lst_nums_stripped]\n",
    "print(f\"lst_nums: {lst_nums}\")"
   ]
  },
  {
   "cell_type": "code",
   "execution_count": 23,
   "metadata": {},
   "outputs": [
    {
     "name": "stdout",
     "output_type": "stream",
     "text": [
      "[[1, 5], [9, 9], [8, 5], [5, 4], [0, 7], [2, 6], [5, 5], [0, 8], [8, 4], [5, 4]]\n"
     ]
    }
   ],
   "source": [
    "lst_nums_strings = ['1,5', '9,9', '8,5', '5,4', '0,7', '2,6', '5,5', '0,8', '8,4', '5,4']\n",
    "lst_num = []\n",
    "number = []\n",
    "for num_string in lst_nums_strings:\n",
    "    number.append(int(num_string[0]))\n",
    "    number.append(int(num_string[2]))\n",
    "    lst_num.append(number)\n",
    "    number = []\n",
    "print(lst_num)"
   ]
  },
  {
   "cell_type": "code",
   "execution_count": 1,
   "metadata": {},
   "outputs": [
    {
     "name": "stdout",
     "output_type": "stream",
     "text": [
      "[[1, 5], [9, 9], [8, 5], [5, 4], [0, 7], [2, 6], [5, 5], [0, 8], [8, 4], [5, 4]]\n"
     ]
    }
   ],
   "source": [
    "lst_num_str = []\n",
    "with open(\"input.txt\") as fh:\n",
    "    fh.readline()\n",
    "    while True:\n",
    "        num = fh.readline()\n",
    "        if len(num) == 0:\n",
    "            break\n",
    "        lst_num_str.append(num)\n",
    "\n",
    "lst_num = []\n",
    "number = []\n",
    "lst_num_str = [s.strip(\"\\n\") for s in lst_num_str]\n",
    "lst_num_str = [num.replace(\" \", \",\") for num in lst_num_str]\n",
    "for num_string in lst_num_str:\n",
    "    number.append(int(num_string[0]))\n",
    "    number.append(int(num_string[2]))\n",
    "    lst_num.append(number)\n",
    "    number = []\n",
    "print(lst_num)"
   ]
  },
  {
   "cell_type": "code",
   "execution_count": 3,
   "metadata": {},
   "outputs": [
    {
     "name": "stdout",
     "output_type": "stream",
     "text": [
      "lst_num: [[1, 5], [9, 9], [8, 5], [5, 4], [0, 7], [2, 6], [5, 5], [0, 8], [8, 4], [5, 4]]\n",
      "6\n",
      "18\n",
      "13\n",
      "9\n",
      "7\n",
      "8\n",
      "10\n",
      "8\n",
      "12\n",
      "9\n"
     ]
    }
   ],
   "source": [
    "lst_num_str = []\n",
    "with open(\"input.txt\") as fh:\n",
    "    fh.readline()\n",
    "    while True:\n",
    "        num = fh.readline()\n",
    "        if len(num) == 0:\n",
    "            break\n",
    "        lst_num_str.append(num)\n",
    "\n",
    "lst_num = []\n",
    "number = []\n",
    "lst_num_str = [s.strip(\"\\n\") for s in lst_num_str]\n",
    "lst_num_str = [num.replace(\" \", \",\") for num in lst_num_str]\n",
    "for num_string in lst_num_str:\n",
    "    number.append(int(num_string[0]))\n",
    "    number.append(int(num_string[2]))\n",
    "    lst_num.append(number)\n",
    "    number = []\n",
    "print(f\"lst_num: {lst_num}\")\n",
    "\n",
    "total = 0\n",
    "for lst in lst_num:\n",
    "    total = lst[0] + lst[1]\n",
    "    print(total)"
   ]
  },
  {
   "cell_type": "code",
   "execution_count": 6,
   "metadata": {},
   "outputs": [
    {
     "name": "stdout",
     "output_type": "stream",
     "text": [
      "6\n",
      "18\n",
      "13\n",
      "9\n",
      "7\n",
      "8\n",
      "10\n",
      "8\n",
      "12\n",
      "9\n"
     ]
    }
   ],
   "source": [
    "output_name = \"A+B.txt\"\n",
    "with open(output_name, \"w\") as output_file:\n",
    "    total = 0\n",
    "    for lst in lst_num:\n",
    "        total = lst[0] + lst[1]\n",
    "        print(total)\n",
    "        output_file.write(str(total) + \"\\n\")"
   ]
  },
  {
   "cell_type": "code",
   "execution_count": 8,
   "metadata": {},
   "outputs": [
    {
     "name": "stdout",
     "output_type": "stream",
     "text": [
      "finished creating output file A+B.txt\n"
     ]
    }
   ],
   "source": [
    "lst_num_str = []\n",
    "with open(\"input.txt\") as fh:\n",
    "    fh.readline()\n",
    "    while True:\n",
    "        num = fh.readline()\n",
    "        if len(num) == 0:\n",
    "            break\n",
    "        lst_num_str.append(num)\n",
    "\n",
    "lst_num = []\n",
    "number = []\n",
    "lst_num_str = [s.strip(\"\\n\") for s in lst_num_str]\n",
    "lst_num_str = [num.replace(\" \", \",\") for num in lst_num_str]\n",
    "for num_string in lst_num_str:\n",
    "    number.append(int(num_string[0]))\n",
    "    number.append(int(num_string[2]))\n",
    "    lst_num.append(number)\n",
    "    number = []\n",
    "\n",
    "output_name = \"A+B.txt\"\n",
    "with open(output_name, \"w\") as output_file:\n",
    "    total = 0\n",
    "    for lst in lst_num:\n",
    "        total = lst[0] + lst[1]\n",
    "        output_file.write(str(total) + \"\\n\")\n",
    "print(f\"finished creating output file {output_name}\")"
   ]
  },
  {
   "cell_type": "code",
   "execution_count": 11,
   "metadata": {},
   "outputs": [
    {
     "name": "stdout",
     "output_type": "stream",
     "text": [
      "wrote ouput file A+B.txt\n"
     ]
    }
   ],
   "source": [
    "def add_two_numbers(input_name):\n",
    "    lst_num_str = []\n",
    "    with open(input_name) as input_file:\n",
    "        input_file.readline()\n",
    "        while True:\n",
    "            num = input_file.readline()\n",
    "            if len(num) == 0:\n",
    "                break\n",
    "            lst_num_str.append(num)\n",
    "\n",
    "    lst_num = []\n",
    "    number = []\n",
    "    lst_num_str = [s.strip(\"\\n\") for s in lst_num_str]\n",
    "    lst_num_str = [num.replace(\" \", \",\") for num in lst_num_str]\n",
    "    for num_string in lst_num_str:\n",
    "        number.append(int(num_string[0]))\n",
    "        number.append(int(num_string[2]))\n",
    "        lst_num.append(number)\n",
    "        number = []\n",
    "\n",
    "    output_name = \"A+B.txt\"\n",
    "    with open(output_name, \"w\") as output_file:\n",
    "        total = 0\n",
    "        for lst in lst_num:\n",
    "            total = lst[0] + lst[1]\n",
    "            output_file.write(str(total) + \"\\n\")\n",
    "    print(f'wrote ouput file {output_name}')\n",
    "\n",
    "input_name = \"input.txt\"\n",
    "add_two_numbers(input_name)"
   ]
  },
  {
   "cell_type": "markdown",
   "metadata": {},
   "source": [
    "# Code Optimization "
   ]
  },
  {
   "cell_type": "code",
   "execution_count": 11,
   "metadata": {},
   "outputs": [
    {
     "name": "stdout",
     "output_type": "stream",
     "text": [
      "wrote ouput file A+B.txt\n"
     ]
    }
   ],
   "source": [
    "def add_two_numbers(input_name):\n",
    "    lst_num_str = []\n",
    "    with open(input_name) as input_file:\n",
    "        input_file.readline()\n",
    "        while True:\n",
    "            num = input_file.readline()\n",
    "            if len(num) == 0:\n",
    "                break\n",
    "            lst_num_str.append(num)\n",
    "\n",
    "    lst_num = []\n",
    "    number = []\n",
    "    lst_num_str = [s.strip(\"\\n\") for s in lst_num_str]\n",
    "    lst_num_str = [num.replace(\" \", \",\") for num in lst_num_str]\n",
    "    for num_string in lst_num_str:\n",
    "        number.append(int(num_string[0]))\n",
    "        number.append(int(num_string[2]))\n",
    "        lst_num.append(number)\n",
    "        number = []\n",
    "\n",
    "    output_name = \"A+B.txt\"\n",
    "    with open(output_name, \"w\") as output_file:\n",
    "        total = 0\n",
    "        for lst in lst_num:\n",
    "            total = lst[0] + lst[1]\n",
    "            output_file.write(str(total) + \"\\n\")\n",
    "    print(f'wrote ouput file {output_name}')\n",
    "\n",
    "input_name = \"input.txt\"\n",
    "add_two_numbers(input_name)"
   ]
  },
  {
   "cell_type": "code",
   "execution_count": 1,
   "metadata": {},
   "outputs": [
    {
     "name": "stdout",
     "output_type": "stream",
     "text": [
      "wrote output file A+B.txt\n"
     ]
    }
   ],
   "source": [
    "def add_two_numbers(input_name, output_name):\n",
    "    output_file = open(output_name, \"w\")\n",
    "    with open(input_name) as input_file:\n",
    "        input_file.readline()\n",
    "        while True:\n",
    "            num = input_file.readline().strip(\"\\n\")\n",
    "            if len(num) == 0:\n",
    "                break\n",
    "            num1, num2 = map(int, num.split())\n",
    "            # print(f'num1: {num1}, num2: {num2}')\n",
    "            total = num1 + num2\n",
    "            output_file.write(str(total) + \"\\n\")\n",
    "    output_file.close()\n",
    "    print(f'wrote output file {output_name}')\n",
    "\n",
    "input_name = \"input.txt\"\n",
    "output_name = \"A+B.txt\"\n",
    "add_two_numbers(input_name, output_name)"
   ]
  },
  {
   "cell_type": "code",
   "execution_count": 10,
   "metadata": {},
   "outputs": [
    {
     "name": "stdout",
     "output_type": "stream",
     "text": [
      "wrote output file A+B.txt\n"
     ]
    }
   ],
   "source": [
    "def add_two_numbers(input_name, output_name):\n",
    "    output_file = open(output_name, \"w\")\n",
    "    with open(input_name) as input_file:\n",
    "        input_file.readline()\n",
    "        while True:\n",
    "            num = input_file.readline().strip(\"\\n\")\n",
    "            if len(num) == 0:\n",
    "                break\n",
    "            # num1, num2 = map(int, num.split())  # same as the list comprehension line right below it\n",
    "            num1, num2 = [int(x) for x in num.split()]\n",
    "            # print(f'num1: {num1}, num2: {num2}')\n",
    "            total = num1 + num2\n",
    "            output_file.write(str(total) + \"\\n\")\n",
    "    output_file.close()\n",
    "    print(f'wrote output file {output_name}')\n",
    "\n",
    "input_name = \"input.txt\"\n",
    "output_name = \"A+B.txt\"\n",
    "add_two_numbers(input_name, output_name)"
   ]
  },
  {
   "cell_type": "markdown",
   "metadata": {},
   "source": [
    "# Will be using information provided in the first line of the input file"
   ]
  },
  {
   "cell_type": "code",
   "execution_count": 20,
   "metadata": {},
   "outputs": [
    {
     "name": "stdout",
     "output_type": "stream",
     "text": [
      "wrote output file A+B.txt\n"
     ]
    }
   ],
   "source": [
    "def add_two_numbers(input_name, output_name):\n",
    "    input_file = open(input_name)\n",
    "    output_file = open(output_name, \"w\")\n",
    "    n_tests = int(input_file.readline().strip())\n",
    "    for _ in range(n_tests):\n",
    "        num = input_file.readline().strip()\n",
    "        \n",
    "        # num1, num2 = map(int, num.split())  # same as the list comprehension line right below it\n",
    "        num1, num2 = [int(x) for x in num.split()]\n",
    "        # print(f'num1: {num1}, num2: {num2}')\n",
    "        total = num1 + num2\n",
    "        output_file.write(str(total) + \"\\n\")\n",
    "    input_file.close()\n",
    "    output_file.close()\n",
    "    print(f'wrote output file {output_name}')\n",
    "\n",
    "input_name = \"input.txt\"\n",
    "output_name = \"A+B.txt\"\n",
    "add_two_numbers(input_name, output_name)"
   ]
  },
  {
   "cell_type": "code",
   "execution_count": 19,
   "metadata": {},
   "outputs": [
    {
     "name": "stdout",
     "output_type": "stream",
     "text": [
      "2 3\n"
     ]
    }
   ],
   "source": [
    "print(\"2 3\\n\".strip())"
   ]
  },
  {
   "cell_type": "code",
   "execution_count": 9,
   "metadata": {},
   "outputs": [
    {
     "name": "stdout",
     "output_type": "stream",
     "text": [
      "c: 2, d: 3\n"
     ]
    }
   ],
   "source": [
    "c, d = [int(x) for x in \"2 3\".split()]\n",
    "print(f\"c: {c}, d: {d}\")"
   ]
  },
  {
   "cell_type": "code",
   "execution_count": 4,
   "metadata": {},
   "outputs": [
    {
     "name": "stdout",
     "output_type": "stream",
     "text": [
      "a = 2, b = 3\n"
     ]
    }
   ],
   "source": [
    "# a, b = map(int, '2 3 5'.split())\n",
    "# a, b = map(int, '2'.split())\n",
    "\n",
    "a, b = map(int, '2 3'.split())\n",
    "print(f'a = {a}, b = {b}')"
   ]
  },
  {
   "cell_type": "code",
   "execution_count": 10,
   "metadata": {},
   "outputs": [
    {
     "name": "stdout",
     "output_type": "stream",
     "text": [
      "n: [1, 4, 9]\n"
     ]
    }
   ],
   "source": [
    "def square(x):\n",
    "    return x*x\n",
    "\n",
    "n = map(square, [1, 2, 3])\n",
    "print(f'n: {list(n)}')"
   ]
  },
  {
   "cell_type": "code",
   "execution_count": 6,
   "metadata": {},
   "outputs": [
    {
     "name": "stdout",
     "output_type": "stream",
     "text": [
      "s_list: ['100', '200']\n",
      "n_list: [100, 200]\n"
     ]
    }
   ],
   "source": [
    "s = '100 200'\n",
    "s_list = s.split()\n",
    "print(f's_list: {s_list}')\n",
    "\n",
    "n_list = [int(x) for x in s_list]\n",
    "print(f'n_list: {n_list}')"
   ]
  }
 ],
 "metadata": {
  "kernelspec": {
   "display_name": "Python 3",
   "language": "python",
   "name": "python3"
  },
  "language_info": {
   "codemirror_mode": {
    "name": "ipython",
    "version": 3
   },
   "file_extension": ".py",
   "mimetype": "text/x-python",
   "name": "python",
   "nbconvert_exporter": "python",
   "pygments_lexer": "ipython3",
   "version": "3.8.5"
  }
 },
 "nbformat": 4,
 "nbformat_minor": 4
}
