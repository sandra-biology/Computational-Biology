{
 "cells": [
  {
   "cell_type": "markdown",
   "metadata": {},
   "source": [
    "### While we're not getting the expected result (I'm investigating the reason), we know there has to be correlation between the known boundaries of Forrest SHTM gene within Forrest sequence and the Methionine start codon (ATG) for that gene."
   ]
  },
  {
   "cell_type": "code",
   "execution_count": 1,
   "metadata": {},
   "outputs": [
    {
     "name": "stdout",
     "output_type": "stream",
     "text": [
      "length of ATG codon indices: 1882, ATG_codon_indices[:10]: [112, 144, 271, 351, 426, 488, 553, 588, 692, 718]\n"
     ]
    }
   ],
   "source": [
    "def read_file(input_name):\n",
    "    sequence = ''\n",
    "    with open(input_name) as input_file:\n",
    "        input_file.readline()\n",
    "        while True:\n",
    "            seq = input_file.readline().strip()\n",
    "            if len(seq) == 0:\n",
    "                break\n",
    "            sequence += seq\n",
    "    return sequence\n",
    "\n",
    "# finding gene boundaries\n",
    "def find_codon(codon, variant):\n",
    "    # using find to find the codon index\n",
    "    # codon index + length of gene to find the end index\n",
    "    indices = []\n",
    "    count = 0\n",
    "    index = variant.find(codon)\n",
    "    while index >= 0:\n",
    "        indices.append(index+1)  # bp locations of genes reported by databases codon from 1\n",
    "        count += 1\n",
    "        # if count % 10:\n",
    "        #     print(f'found at index {index}, len(variant): {len(variant)}')\n",
    "        index = variant.find(codon, index+len(codon))\n",
    "    return indices\n",
    "\n",
    "input_name = 'Forrest B100B10 BAC sequence Rhg4.txt'\n",
    "variant = read_file(input_name)\n",
    "codon = 'ATG'\n",
    "ATG_codon_indices = find_codon(codon, variant)\n",
    "print(f'length of ATG codon indices: {len(ATG_codon_indices)}, ATG_codon_indices[:10]: {ATG_codon_indices[:10]}')"
   ]
  },
  {
   "cell_type": "code",
   "execution_count": 2,
   "metadata": {},
   "outputs": [
    {
     "name": "stdout",
     "output_type": "stream",
     "text": [
      "start codons within Forrest SHTM: [1559, 1726, 2048, 2111, 2127, 2204, 2255, 2303, 2384, 2387, 2534, 2570, 2615, 2648, 2690, 2698, 2756], length of start codons: 17\n"
     ]
    }
   ],
   "source": [
    "def find_codon(codon, variant, offset):\n",
    "    # using find to find index of codon within the gene of interest\n",
    "    indices = []\n",
    "    # count = 0\n",
    "    index = variant.find(codon)\n",
    "    while index >= 0:\n",
    "        indices.append(offset+index+1)  # bp locations of genes reported by databases start from 1\n",
    "        # count += 1\n",
    "        # if count % 10:\n",
    "        #     print(f'found at index {index}, len(variant): {len(variant)}')\n",
    "        index = variant.find(codon, index+len(codon))\n",
    "    return indices\n",
    "\n",
    "input_name = 'Forrest B100B10 BAC sequence Rhg4.txt'\n",
    "forrest_sequence = read_file(input_name)\n",
    "\n",
    "offset = 1440\n",
    "variant = forrest_sequence[offset:2758]\n",
    "codon = 'ATG'\n",
    "start_codons = find_codon(codon, variant, offset)\n",
    "print(f'start codons within Forrest SHTM: {start_codons}, length of start codons: {len(start_codons)}')"
   ]
  },
  {
   "cell_type": "code",
   "execution_count": 3,
   "metadata": {},
   "outputs": [
    {
     "name": "stdout",
     "output_type": "stream",
     "text": [
      "start codons within Forrest SHTM: [1095, 1183, 1248, 1343, 1418, 1559, 1726, 2048, 2111, 2127, 2204, 2255, 2303, 2384, 2387, 2534, 2570, 2615, 2648, 2690, 2698, 2756], length of start codons: 22\n"
     ]
    }
   ],
   "source": [
    "def find_codons(codon, variant, offset):\n",
    "    # using find to find index\n",
    "    indices = []\n",
    "    # count = 0\n",
    "    index = variant.find(codon)\n",
    "    while index >= 0:\n",
    "        indices.append(offset+index+1)  # bp locations of genes reported by databases start from 1\n",
    "        # count += 1\n",
    "        # if count % 10:\n",
    "        #     print(f'found at index {index}, len(variant): {len(variant)}')\n",
    "        index = variant.find(codon, index+3)\n",
    "    return indices\n",
    "\n",
    "offset = 1040\n",
    "variant = forrest_sequence[offset:2757+1]\n",
    "start_codon = 'ATG'\n",
    "start_codons = find_codons(start_codon, variant, offset)\n",
    "print(f'start codons within Forrest SHTM: {start_codons}, length of start codons: {len(start_codons)}')"
   ]
  },
  {
   "cell_type": "code",
   "execution_count": null,
   "metadata": {},
   "outputs": [],
   "source": [
    "offset = 2339\n",
    "variant = shtm[offset:3657]\n",
    "sequence = 'ATG'\n",
    "start_codons = find_codon(codon, variant, offset)\n",
    "print(f'start codons within Forrest SHTM: {start_codons}, length of start codons: {len(start_codons)}')"
   ]
  },
  {
   "cell_type": "code",
   "execution_count": null,
   "metadata": {},
   "outputs": [],
   "source": [
    "# could variant and sequence be on different strands?\n",
    "offset = 1040\n",
    "variant = forrest_sequence[offset:2758]\n",
    "sequence = 'TAC'\n",
    "start_codons = find_codon(codon, variant, offset)\n",
    "print(f'start codons within Forrest SHTM: {start_codons}, length of start codons: {len(start_codons)}')"
   ]
  },
  {
   "cell_type": "markdown",
   "metadata": {},
   "source": [
    "### Testing the possibility that Variant is on one strand, gene sequence on the other"
   ]
  },
  {
   "cell_type": "code",
   "execution_count": null,
   "metadata": {},
   "outputs": [],
   "source": [
    "def complement(sequence):\n",
    "    complement_seq = \"\"\n",
    "    complement_dict = {'A': 'T', 'C': 'G', 'G': 'C', 'T': 'A'}\n",
    "    for letter in sequence:\n",
    "        complement_seq += complement_dict[letter.upper()]\n",
    "    return complement_seq\n",
    "\n",
    "def find_gene_boundary(gene, variant):\n",
    "    # using find to find the start index\n",
    "    # start index + length of gene to find the end index\n",
    "    indices = []\n",
    "    count = 0\n",
    "    index = variant.find(gene)\n",
    "    while index >= 0:\n",
    "        indices.append((index+1, index+len(gene)))  # bp locations of genes reported by databases start from 1\n",
    "        count += 1\n",
    "        if count % 10:\n",
    "            print(f'found at index {index}, len(variant): {len(variant)}')\n",
    "        index = variant.find(gene, index+len(gene))\n",
    "    return indices\n",
    "\n",
    "variant = forrest_sequence\n",
    "gene = complement(shmt[2339:3657])\n",
    "print(f'len(variant): {len(variant)}, len(gene): {len(gene)}')\n",
    "boundary_indices = find_gene_boundary(gene, variant)\n",
    "print(f'boundary_indices: {boundary_indices}')"
   ]
  }
 ],
 "metadata": {
  "kernelspec": {
   "display_name": "Python 3",
   "language": "python",
   "name": "python3"
  },
  "language_info": {
   "codemirror_mode": {
    "name": "ipython",
    "version": 3
   },
   "file_extension": ".py",
   "mimetype": "text/x-python",
   "name": "python",
   "nbconvert_exporter": "python",
   "pygments_lexer": "ipython3",
   "version": "3.8.5"
  }
 },
 "nbformat": 4,
 "nbformat_minor": 4
}
