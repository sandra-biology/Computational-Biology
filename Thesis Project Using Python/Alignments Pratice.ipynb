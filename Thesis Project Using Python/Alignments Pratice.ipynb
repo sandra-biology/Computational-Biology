{
 "cells": [
  {
   "cell_type": "code",
   "execution_count": 1,
   "metadata": {},
   "outputs": [
    {
     "name": "stdout",
     "output_type": "stream",
     "text": [
      "Alignment with 1 rows and 1581 columns\n",
      "SequenceID:AMO27396.1Length:438Range1:1to422...422 serine\n"
     ]
    }
   ],
   "source": [
    "# aligned sequences\n",
    "from Bio import AlignIO\n",
    "alignment = AlignIO.read('Glycine max SHTM aa and mRNA - Alignment.fasta', 'fasta')\n",
    "print(alignment)"
   ]
  },
  {
   "cell_type": "code",
   "execution_count": 3,
   "metadata": {},
   "outputs": [
    {
     "name": "stdout",
     "output_type": "stream",
     "text": [
      "Alignment with 1 rows and 1753 columns\n",
      "ATTCCACCTCAACAAACACAACAACACTCTCTCTTCTCGCTCTT...TTT lcl|Query_5865\n"
     ]
    }
   ],
   "source": [
    "# complete sequences\n",
    "from Bio import AlignIO\n",
    "alignment = AlignIO.read('Glycine max SHMT - aa complete sequences alignment.txt', 'fasta')\n",
    "print(alignment)"
   ]
  },
  {
   "cell_type": "code",
   "execution_count": 2,
   "metadata": {},
   "outputs": [
    {
     "name": "stdout",
     "output_type": "stream",
     "text": [
      "Program: tblastn (2.13.0+)\n",
      "  Query: AMO27396.1 (438)\n",
      "         serine hydroxymethyltransferase [Glycine max]\n",
      " Target: n/a\n",
      "   Hits: ----  -----  ----------------------------------------------------------\n",
      "            #  # HSP  ID + description\n",
      "         ----  -----  ----------------------------------------------------------\n",
      "            0      1  Query_50565  NM_001368762.1 Glycine max serine hydroxyl...\n"
     ]
    }
   ],
   "source": [
    "from Bio import SearchIO\n",
    "alignment = SearchIO.read('SHMT aa - mRNA alignment.xml', 'blast-xml')\n",
    "print(alignment)"
   ]
  },
  {
   "cell_type": "code",
   "execution_count": 1,
   "metadata": {},
   "outputs": [
    {
     "name": "stdout",
     "output_type": "stream",
     "text": [
      "Alignment with 1 rows and 4664 columns\n",
      "SequenceID:JQ714083.1Length:5103Range1:2340t...340 Glycine\n"
     ]
    }
   ],
   "source": [
    "from Bio import AlignIO\n",
    "alignment = AlignIO.read('Forrest sequence and Forrest SHTM - Alignment (BLAST confirmation).txt', 'fasta')\n",
    "print(alignment)"
   ]
  },
  {
   "cell_type": "code",
   "execution_count": 2,
   "metadata": {},
   "outputs": [
    {
     "name": "stdout",
     "output_type": "stream",
     "text": [
      "Program: blastn (2.13.0+)\n",
      "  Query: [Glycine (94336)\n",
      "         max] Forrest B100B10 BAC sequence, Rhg4\n",
      " Target: n/a\n",
      "   Hits: ----  -----  ----------------------------------------------------------\n",
      "            #  # HSP  ID + description\n",
      "         ----  -----  ----------------------------------------------------------\n",
      "            0     19  Query_13349  gi|148372212|gb|EF623856.1| Glycine max cu...\n"
     ]
    }
   ],
   "source": [
    "from Bio import SearchIO\n",
    "alignment = SearchIO.read('Forrest - Williams 82 alignment.xml', 'blast-xml')\n",
    "print(alignment)"
   ]
  },
  {
   "cell_type": "markdown",
   "metadata": {},
   "source": [
    "### Building the alignment"
   ]
  },
  {
   "cell_type": "code",
   "execution_count": 7,
   "metadata": {},
   "outputs": [
    {
     "name": "stdout",
     "output_type": "stream",
     "text": [
      "forrest_seq[:15]: CCCTCGCGAGTTGGT\n",
      "williams_seq[:15]: AAGCTTGCATGCTTT\n"
     ]
    }
   ],
   "source": [
    "def read_file(input_name):\n",
    "    sequence = ''\n",
    "    with open(input_name) as input_file:\n",
    "        input_file.readline()\n",
    "        while True:\n",
    "            seq = input_file.readline().strip()\n",
    "            if len(seq) == 0:\n",
    "                break\n",
    "            sequence += seq\n",
    "    return sequence\n",
    "\n",
    "input_name1 = 'Forrest B100B10 BAC sequence Rhg4.txt'\n",
    "input_name2 = 'Williams 82 BAC 56G2 sequence.txt'\n",
    "forrest_seq = read_file(input_name1)\n",
    "print(f'forrest_seq[:15]: {forrest_seq[:15]}')\n",
    "williams_seq = read_file(input_name2)\n",
    "print(f'williams_seq[:15]: {williams_seq[:15]}')"
   ]
  },
  {
   "cell_type": "code",
   "execution_count": 6,
   "metadata": {},
   "outputs": [],
   "source": [
    "from Bio import Align\n",
    "aligner = Align.PairwiseAligner()\n",
    "alignments = aligner.align(forrest_seq, williams_seq)\n",
    "# for alignment in alignments:\n",
    "#     print(alignment)"
   ]
  }
 ],
 "metadata": {
  "kernelspec": {
   "display_name": "Python 3",
   "language": "python",
   "name": "python3"
  },
  "language_info": {
   "codemirror_mode": {
    "name": "ipython",
    "version": 3
   },
   "file_extension": ".py",
   "mimetype": "text/x-python",
   "name": "python",
   "nbconvert_exporter": "python",
   "pygments_lexer": "ipython3",
   "version": "3.8.5"
  }
 },
 "nbformat": 4,
 "nbformat_minor": 4
}
