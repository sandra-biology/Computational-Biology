{
 "cells": [
  {
   "cell_type": "markdown",
   "metadata": {},
   "source": [
    "### Importing the nucleotide sequences I am using and adding them to a string container."
   ]
  },
  {
   "cell_type": "code",
   "execution_count": 1,
   "metadata": {},
   "outputs": [
    {
     "name": "stdout",
     "output_type": "stream",
     "text": [
      "First 50 nucleotides of Forrest sequence: CCCTCGCGAGTTGGTTCAGCTGCTGCCTGAGGCTGGACGACCTCGCGGAG\n"
     ]
    }
   ],
   "source": [
    "def read_file(input_name):\n",
    "    sequence = ''\n",
    "    with open(input_name) as input_file:\n",
    "        input_file.readline()\n",
    "        while True:\n",
    "            seq = input_file.readline().strip()\n",
    "            if len(seq) == 0:\n",
    "                break\n",
    "            sequence += seq\n",
    "    return sequence\n",
    "\n",
    "input_name = 'Forrest B100B10 BAC sequence Rhg4.txt'\n",
    "forrest_sequence = read_file(input_name)\n",
    "print(f'First 50 nucleotides of Forrest sequence: {forrest_sequence[:50]}')"
   ]
  },
  {
   "cell_type": "code",
   "execution_count": 19,
   "metadata": {},
   "outputs": [
    {
     "name": "stdout",
     "output_type": "stream",
     "text": [
      "First 50 nucleotides of Forrest sequence: CCCTCGCGAGTTGGTTCAGCTGCTGCCTGAGGCTGGACGACCTCGCGGAG\n"
     ]
    }
   ],
   "source": [
    "# def read_file(input_name):\n",
    "#     sequence = ''\n",
    "#     with open(input_name) as input_file:\n",
    "#         input_file.readline()  # skip header\n",
    "        \n",
    "#         seq = input_file.readline().strip()\n",
    "#         while seq:\n",
    "#             sequence += seq\n",
    "#             seq = input_file.readline().strip()\n",
    "#     return sequence\n",
    "\n",
    "# input_name = 'Forrest B100B10 BAC sequence Rhg4.txt'\n",
    "# forrest_sequence = read_file(input_name)\n",
    "# print(f'First 50 nucleotides of Forrest sequence: {forrest_sequence[:50]}')"
   ]
  },
  {
   "cell_type": "code",
   "execution_count": 18,
   "metadata": {},
   "outputs": [
    {
     "name": "stdout",
     "output_type": "stream",
     "text": [
      "False\n"
     ]
    }
   ],
   "source": [
    "s = ''\n",
    "if s:\n",
    "    print('True')\n",
    "else:\n",
    "    print('False')"
   ]
  },
  {
   "cell_type": "code",
   "execution_count": 2,
   "metadata": {},
   "outputs": [
    {
     "name": "stdout",
     "output_type": "stream",
     "text": [
      "First 50 nucleotides of SHMT gene sequence: CAATGGCACCAATGCCCAATGGGAGATTTAAGTCAAGCCCAACATCAACC\n"
     ]
    }
   ],
   "source": [
    "input_name = 'Forrest SHMT.txt'\n",
    "shmt = read_file(input_name)\n",
    "print(f'First 50 nucleotides of SHMT gene sequence: {shmt[:50]}')"
   ]
  },
  {
   "cell_type": "markdown",
   "metadata": {},
   "source": [
    "#### From the results of my thesis, I know the boundaries of the genes in the Rhg4 region of interest. Moving from one end of the region to the other, trying to locate the genes using Python."
   ]
  },
  {
   "cell_type": "code",
   "execution_count": 7,
   "metadata": {
    "scrolled": true
   },
   "outputs": [
    {
     "name": "stdout",
     "output_type": "stream",
     "text": [
      "found at index 3, len(variant): 13\n",
      "boundary_indices: [(4, 6)]\n"
     ]
    }
   ],
   "source": [
    "# finding gene boundaries\n",
    "def find_start_end(gene, variant):\n",
    "    # using find to find the start index\n",
    "    # start index + length of gene to find the end index\n",
    "    indices = []\n",
    "    count = 0\n",
    "    index = variant.find(gene)\n",
    "    while index >= 0:\n",
    "        indices.append((index+1, index+len(gene)))  # bp locations of genes reported by databases start from 1\n",
    "        count += 1\n",
    "        if count % 10:\n",
    "            print(f'found at index {index}, len(variant): {len(variant)}')\n",
    "        index = variant.find(gene, index+len(gene))\n",
    "    return indices\n",
    "\n",
    "# variant = forrest_sequence\n",
    "# gene = shmt\n",
    "variant = 'CCCTCGCAGTTGG'\n",
    "gene = 'TCG'\n",
    "boundary_indices = find_start_end(gene, variant)\n",
    "print(f'boundary_indices: {boundary_indices}')"
   ]
  },
  {
   "cell_type": "code",
   "execution_count": 3,
   "metadata": {
    "scrolled": true
   },
   "outputs": [
    {
     "name": "stdout",
     "output_type": "stream",
     "text": [
      "len(variant): 94336, len(gene): 5103\n",
      "boundary_indices: []\n"
     ]
    }
   ],
   "source": [
    "# finding gene boundaries\n",
    "def find_start_end(gene, variant):\n",
    "    # using find to find the start index\n",
    "    # start index + length of gene to find the end index\n",
    "    indices = []\n",
    "    count = 0\n",
    "    index = variant.find(gene)\n",
    "    while index >= 0:\n",
    "        indices.append((index+1, index+len(gene)))  # bp locations of genes reported by databases start from 1\n",
    "        count += 1\n",
    "        if count % 10:\n",
    "            print(f'found at index {index}, len(variant): {len(variant)}')\n",
    "        index = variant.find(gene, index+len(gene))\n",
    "    return indices\n",
    "\n",
    "variant = forrest_sequence\n",
    "gene = shmt\n",
    "print(f'len(variant): {len(variant)}, len(gene): {len(gene)}')\n",
    "# variant = 'CCCTCGCAGTTGG'\n",
    "# gene = 'TCG'\n",
    "boundary_indices = find_start_end(gene, variant)\n",
    "print(f'boundary_indices: {boundary_indices}')"
   ]
  },
  {
   "cell_type": "code",
   "execution_count": 4,
   "metadata": {
    "scrolled": true
   },
   "outputs": [
    {
     "name": "stdout",
     "output_type": "stream",
     "text": [
      "len(variant): 94336, len(gene): 1316\n",
      "boundary_indices: []\n"
     ]
    }
   ],
   "source": [
    "# finding gene boundaries\n",
    "def find_start_end(gene, variant):\n",
    "    # using find to find the start index\n",
    "    # start index + length of gene to find the end index\n",
    "    indices = []\n",
    "    count = 0\n",
    "    index = variant.find(gene)\n",
    "    while index >= 0:\n",
    "        indices.append((index+1, index+len(gene)))  # bp locations of genes reported by databases start from 1\n",
    "        count += 1\n",
    "        if count % 10:\n",
    "            print(f'found at index {index}, len(variant): {len(variant)}')\n",
    "        index = variant.find(gene, index+len(gene))\n",
    "    return indices\n",
    "\n",
    "variant = forrest_sequence\n",
    "gene = shmt[2000:2005]\n",
    "print(f'len(variant): {len(variant)}, len(gene): {len(gene)}')\n",
    "# variant = 'CCCTCGCAGTTGG'\n",
    "# gene = 'TCG'\n",
    "boundary_indices = find_start_end(gene, variant)\n",
    "print(f'boundary_indices: {boundary_indices}')"
   ]
  },
  {
   "cell_type": "markdown",
   "metadata": {},
   "source": [
    "### At this point, I ran into problem of Python not finding the gene sequence in Forrest sequence that we know should be there. I am taking the approach of comparing the Forrest sequence with the gene sequence using other bioinformatics tools."
   ]
  },
  {
   "cell_type": "markdown",
   "metadata": {},
   "source": [
    "#### I used BLAST (alignment tool) to zone in on the coding region of SHMT gene (while comparing sequences in BLAST). Adjusting the subsequence we're searching for should give us the result we're expecitng. The reason we don't is that the gene sequence we're searching for is oriented the wrong way."
   ]
  },
  {
   "cell_type": "code",
   "execution_count": 4,
   "metadata": {
    "scrolled": true
   },
   "outputs": [
    {
     "name": "stdout",
     "output_type": "stream",
     "text": [
      "len(variant): 94336, len(gene): 1318\n",
      "boundary_indices: []\n"
     ]
    }
   ],
   "source": [
    "def find_start_end(gene, variant):\n",
    "    # using find to find the start index\n",
    "    # start index + length of gene to find the end index\n",
    "    indices = []\n",
    "    count = 0\n",
    "    index = variant.find(gene)\n",
    "    while index >= 0:\n",
    "        indices.append((index+1, index+len(gene)))  # bp locations of genes reported by databases start from 1\n",
    "        count += 1\n",
    "        if count % 10:\n",
    "            print(f'found at index {index}, len(variant): {len(variant)}')\n",
    "        index = variant.find(gene, index+len(gene))\n",
    "    return indices\n",
    "\n",
    "variant = forrest_sequence\n",
    "gene = shmt[2339:3657]\n",
    "print(f'len(variant): {len(variant)}, len(gene): {len(gene)}')\n",
    "# variant = 'CCCTCGCAGTTGG'\n",
    "# gene = 'TCG'\n",
    "boundary_indices = find_start_end(gene, variant)\n",
    "print(f'boundary_indices: {boundary_indices}')"
   ]
  },
  {
   "cell_type": "markdown",
   "metadata": {},
   "source": [
    "#### The Gene sequence (Forrest SHMT coding sequence) we're searching for is oriented the wrong way in relation to the Variant sequence. Need to generate a reverse complement of the gene sequence before running the find boundaries function."
   ]
  },
  {
   "cell_type": "code",
   "execution_count": 14,
   "metadata": {},
   "outputs": [
    {
     "name": "stdout",
     "output_type": "stream",
     "text": [
      "complement of AAAACCCGGT: TTTTGGGCCA\n"
     ]
    }
   ],
   "source": [
    "def complement(sequence):\n",
    "    complement_seq = \"\"\n",
    "    complement_dict = {'A': 'T', 'C': 'G', 'G': 'C', 'T': 'A'}\n",
    "    for letter in sequence:\n",
    "        complement_seq += complement_dict[letter]\n",
    "    return complement_seq\n",
    "\n",
    "sequence = 'AAAACCCGGT'\n",
    "complement = complement(sequence)\n",
    "print(f'complement of {sequence}: {complement}')"
   ]
  },
  {
   "cell_type": "code",
   "execution_count": 26,
   "metadata": {},
   "outputs": [
    {
     "name": "stdout",
     "output_type": "stream",
     "text": [
      "original sequence:   AGCTGCTGCCTG\n",
      "complement sequence: TCGACGACGGAC\n",
      "reverse complement:  CAGGCAGCAGCT\n",
      "sequence left to right: AGCTGCTGCCTG\n",
      "sequence right to left: GTCCGTCGTCGA\n",
      "middle 8 characters left to right: CTGCTGCC\n",
      "middle 8 characters right to left: CCGTCGTC\n"
     ]
    }
   ],
   "source": [
    "def reverse_complement(sequence):\n",
    "    complement_seq = \"\"\n",
    "    complement_dict = {'A': 'T', 'C': 'G', 'G': 'C', 'T': 'A'}\n",
    "    for letter in sequence:\n",
    "        complement_seq += complement_dict[letter]\n",
    "    return complement_seq[::-1]\n",
    "\n",
    "def complement(sequence):\n",
    "    complement_seq = \"\"\n",
    "    complement_dict = {'A': 'T', 'C': 'G', 'G': 'C', 'T': 'A'}\n",
    "    for letter in sequence:\n",
    "        complement_seq += complement_dict[letter]\n",
    "    return complement_seq\n",
    "\n",
    "# -         21 987654321\n",
    "#           0123456789 1\n",
    "sequence = 'AGCTGCTGCCTG'\n",
    "print(f'original sequence:   {sequence}')\n",
    "complement_sequence = complement(sequence)\n",
    "print(f'complement sequence: {complement_sequence}')\n",
    "reverse_complement = reverse_complement(sequence)\n",
    "print(f'reverse complement:  {reverse_complement}')\n",
    "\n",
    "print(f'sequence left to right: {sequence[0:12]}')\n",
    "print(f'sequence right to left: {sequence[-1:-13:-1]}')\n",
    "\n",
    "print(f'middle 8 characters left to right: {sequence[2:10]}')\n",
    "print(f'middle 8 characters right to left: {sequence[-3:-11:-1]}')"
   ]
  },
  {
   "cell_type": "code",
   "execution_count": 4,
   "metadata": {},
   "outputs": [
    {
     "name": "stdout",
     "output_type": "stream",
     "text": [
      "found at index 1439, len(variant): 94336\n",
      "boundary_indices: [(1440, 2757)]\n"
     ]
    }
   ],
   "source": [
    "def reverse_complement(sequence):\n",
    "    complement_seq = \"\"\n",
    "    complement_dict = {'A': 'T', 'C': 'G', 'G': 'C', 'T': 'A'}\n",
    "    for letter in sequence:\n",
    "        complement_seq += complement_dict[letter]\n",
    "    return complement_seq[::-1]\n",
    "\n",
    "def find_start_end(gene, variant):\n",
    "    # using find to find the start index\n",
    "    # start index + length of gene to find the end index\n",
    "    indices = []\n",
    "    count = 0\n",
    "    index = variant.find(gene)\n",
    "    # print(f'index before entering while loop: {index}')\n",
    "    while index >= 0:\n",
    "        # print(f'entered while loop')\n",
    "        indices.append((index+1, index+len(gene)+1))  # bp locations of genes reported by databases start from 1\n",
    "        count += 1\n",
    "        if count % 10:\n",
    "            print(f'found at index {index}, len(variant): {len(variant)}')\n",
    "        index = variant.find(gene, index + len(gene))\n",
    "    return indices\n",
    "\n",
    "sequence = shmt[2340:3657]\n",
    "variant = forrest_sequence\n",
    "gene = reverse_complement(sequence)\n",
    "boundary_indices = find_start_end(gene, variant)\n",
    "print(f'boundary_indices: {boundary_indices}')"
   ]
  },
  {
   "cell_type": "markdown",
   "metadata": {},
   "source": [
    "#### Found the Forrest Serine hydroxymethyltransferase (SHMT) gene. It is where we expected it to be in the Forrest sequence."
   ]
  },
  {
   "cell_type": "markdown",
   "metadata": {},
   "source": [
    "### Performing the searches for start and for stop codons to confirm the location of the coding sequence of Forrest SHMT. We also know that the first index returned by the find_start_end function has to match up with the first index found by the find_start_codon function."
   ]
  },
  {
   "cell_type": "code",
   "execution_count": 1,
   "metadata": {},
   "outputs": [
    {
     "name": "stdout",
     "output_type": "stream",
     "text": [
      "length of ATG codon indices: 1882, ATG_codon_indices[:10]: [1551, 1583, 1710, 1790, 1865, 1927, 1992, 2027, 2131, 2157]\n"
     ]
    }
   ],
   "source": [
    "# why ATG as the codon?\n",
    "\n",
    "def read_file(input_name):\n",
    "    sequence = ''\n",
    "    with open(input_name) as input_file:\n",
    "        input_file.readline()\n",
    "        while True:\n",
    "            seq = input_file.readline().strip()\n",
    "            if len(seq) == 0:\n",
    "                break\n",
    "            sequence += seq\n",
    "    return sequence\n",
    "\n",
    "# finding start codon\n",
    "def find_start_codon(codon, variant, offset):\n",
    "    # using find to find the codon index\n",
    "    # codon index + length of gene to find the end index\n",
    "    indices = []\n",
    "    count = 0\n",
    "    index = variant.find(codon)\n",
    "    while index >= 0:\n",
    "        indices.append(index+offset+1)  # bp locations of genes reported by databases codon from 1\n",
    "        count += 1\n",
    "        # if count % 10:\n",
    "        #     print(f'found at index {index}, len(variant): {len(variant)}')\n",
    "        index = variant.find(codon, index+len(codon))\n",
    "    return indices\n",
    "\n",
    "input_name = 'Forrest B100B10 BAC sequence Rhg4.txt'\n",
    "codon = 'ATG'\n",
    "variant = read_file(input_name)\n",
    "offset = 1439\n",
    "ATG_codon_indices = find_start_codon(codon, variant, offset)\n",
    "print(f'length of ATG codon indices: {len(ATG_codon_indices)}, ATG_codon_indices[:10]: {ATG_codon_indices[:10]}')"
   ]
  },
  {
   "cell_type": "code",
   "execution_count": 1,
   "metadata": {},
   "outputs": [
    {
     "name": "stdout",
     "output_type": "stream",
     "text": [
      "length of ATG codon indices: 1236, ATG_codon_indices[:10]: [1725, 1904, 2023, 2281, 2293, 2482, 2619, 2701, 2818, 2824]\n"
     ]
    }
   ],
   "source": [
    "# other strand of DNA\n",
    "def read_file(input_name):\n",
    "    sequence = ''\n",
    "    with open(input_name) as input_file:\n",
    "        input_file.readline()\n",
    "        while True:\n",
    "            seq = input_file.readline().strip()\n",
    "            if len(seq) == 0:\n",
    "                break\n",
    "            sequence += seq\n",
    "    return sequence\n",
    "\n",
    "# finding start codon\n",
    "def find_start_codon(codon, variant, offset):\n",
    "    # using find to find the codon index\n",
    "    # codon index + length of gene to find the end index\n",
    "    indices = []\n",
    "    count = 0\n",
    "    index = variant.find(codon)\n",
    "    while index >= 0:\n",
    "        indices.append(index+offset+1)  # bp locations of genes reported by databases codon from 1\n",
    "        count += 1\n",
    "        # if count % 10:\n",
    "        #     print(f'found at index {index}, len(variant): {len(variant)}')\n",
    "        index = variant.find(codon, index+len(codon))\n",
    "    return indices\n",
    "\n",
    "input_name = 'Forrest B100B10 BAC sequence Rhg4.txt'\n",
    "codon = 'TAG'\n",
    "variant = read_file(input_name)\n",
    "offset = 1439\n",
    "TAG_codon_indices = find_start_codon(codon, variant, offset)\n",
    "print(f'length of ATG codon indices: {len(TAG_codon_indices)}, ATG_codon_indices[:10]: {TAG_codon_indices[:10]}')"
   ]
  },
  {
   "cell_type": "markdown",
   "metadata": {},
   "source": [
    "##### So far we're not finding the ATG start codon where it should be, but several things could be at play here. I am using both Python and bioinformatics tools to investigate."
   ]
  },
  {
   "cell_type": "markdown",
   "metadata": {},
   "source": [
    "#### Need for complement"
   ]
  },
  {
   "cell_type": "code",
   "execution_count": 7,
   "metadata": {},
   "outputs": [
    {
     "name": "stdout",
     "output_type": "stream",
     "text": [
      "codon: CAT\n",
      "length of TAC codon indices: 12\n",
      "start_codon_indices[-1:-11:-1]: []\n"
     ]
    }
   ],
   "source": [
    "def read_file(input_name):\n",
    "    sequence = ''\n",
    "    with open(input_name) as input_file:\n",
    "        input_file.readline()\n",
    "        while True:\n",
    "            seq = input_file.readline().strip()\n",
    "            if len(seq) == 0:\n",
    "                break\n",
    "            sequence += seq\n",
    "    return sequence\n",
    "\n",
    "def reverse_complement(sequence):\n",
    "    complement_seq = \"\"\n",
    "    complement_dict = {'A': 'T', 'C': 'G', 'G': 'C', 'T': 'A'}\n",
    "    for letter in sequence:\n",
    "        complement_seq += complement_dict[letter.upper()]\n",
    "    return complement_seq[::-1]\n",
    "\n",
    "# finding start codon\n",
    "def find_start_codon(codon, variant, offset):\n",
    "    # using find to find the codon index\n",
    "    # codon index + length of gene to find the end index\n",
    "    indices = []\n",
    "    count = 0\n",
    "    index = variant.find(codon)\n",
    "    while index >= 0:\n",
    "        indices.append(offset+index+1)  # bp locations of genes reported by databases codon from 1\n",
    "        count += 1\n",
    "        # if count % 10:\n",
    "        #     print(f'found at index {index}, len(variant): {len(variant)}')\n",
    "        index = variant.find(codon, index+len(codon))\n",
    "    return indices\n",
    "\n",
    "input_name = 'Forrest B100B10 BAC sequence Rhg4.txt'\n",
    "codon = reverse_complement('ATG')\n",
    "print(f'codon: {codon}')\n",
    "variant = read_file(input_name)\n",
    "offset = 1439\n",
    "start_codon_indices = find_start_codon(codon, variant[offset:2757+1], offset)\n",
    "print(f'length of TAC codon indices: {len(start_codon_indices)}')\n",
    "print(f'start_codon_indices[-1:-11:-1]: {start_codon_indices[-1:11:-1]}')"
   ]
  },
  {
   "cell_type": "code",
   "execution_count": 1,
   "metadata": {},
   "outputs": [
    {
     "name": "stdout",
     "output_type": "stream",
     "text": [
      "codon: CAT\n",
      "length of TAC codon indices: 12\n",
      "TAC codon indices: [1467, 1636, 1768, 1938, 1999, 2110, 2383, 2541, 2569, 2666, 2697, 2755]\n"
     ]
    }
   ],
   "source": [
    "def read_file(input_name):\n",
    "    sequence = ''\n",
    "    with open(input_name) as input_file:\n",
    "        input_file.readline()\n",
    "        while True:\n",
    "            seq = input_file.readline().strip()\n",
    "            if len(seq) == 0:\n",
    "                break\n",
    "            sequence += seq\n",
    "    return sequence\n",
    "\n",
    "def reverse_complement(sequence):\n",
    "    complement_seq = \"\"\n",
    "    complement_dict = {'A': 'T', 'C': 'G', 'G': 'C', 'T': 'A'}\n",
    "    for letter in sequence:\n",
    "        complement_seq += complement_dict[letter.upper()]\n",
    "    return complement_seq[::-1]\n",
    "\n",
    "# finding start codon\n",
    "def find_start_codon(codon, variant, offset):\n",
    "    # using find to find the codon index\n",
    "    # codon index + length of gene to find the end index\n",
    "    indices = []\n",
    "    count = 0\n",
    "    index = variant.find(codon)\n",
    "    while index >= 0:\n",
    "        indices.append(offset+index+1)  # bp locations of genes reported by databases codon from 1\n",
    "        count += 1\n",
    "        # if count % 10:\n",
    "        #     print(f'found at index {index}, len(variant): {len(variant)}')\n",
    "        index = variant.find(codon, index+len(codon))\n",
    "    return indices\n",
    "\n",
    "input_name = 'Forrest B100B10 BAC sequence Rhg4.txt'\n",
    "codon = reverse_complement('ATG')\n",
    "print(f'codon: {codon}')\n",
    "variant = read_file(input_name)\n",
    "offset = 1440\n",
    "start_codon_indices = find_start_codon(codon, variant[offset:2757+1], offset)\n",
    "print(f'length of TAC codon indices: {len(start_codon_indices)}')\n",
    "print(f'TAC codon indices: {start_codon_indices}')\n",
    "# print(f'start_codon_indices[-1:-11:-1]: {start_codon_indices[-1:11:-1]}')"
   ]
  },
  {
   "cell_type": "code",
   "execution_count": 14,
   "metadata": {},
   "outputs": [
    {
     "name": "stdout",
     "output_type": "stream",
     "text": [
      "codon: TAC\n",
      "TAC codon indices: [1469, 1638, 1770, 1940, 2001, 2112, 2385, 2543, 2571, 2668, 2699, 2757]\n"
     ]
    }
   ],
   "source": [
    "# accounting for the beginning of the codon being 2 position beyond the index returned\n",
    "\n",
    "def read_file(input_name):\n",
    "    sequence = ''\n",
    "    with open(input_name) as input_file:\n",
    "        input_file.readline()\n",
    "        while True:\n",
    "            seq = input_file.readline().strip()\n",
    "            if len(seq) == 0:\n",
    "                break\n",
    "            sequence += seq\n",
    "    return sequence\n",
    "\n",
    "def reverse_complement(sequence):\n",
    "    complement_seq = \"\"\n",
    "    complement_dict = {'A': 'T', 'C': 'G', 'G': 'C', 'T': 'A'}\n",
    "    for letter in sequence:\n",
    "        complement_seq += complement_dict[letter.upper()]\n",
    "    return complement_seq[::-1]\n",
    "\n",
    "# finding start codon\n",
    "def find_start_codon(codon, variant, offset):\n",
    "    # using find to find the codon index\n",
    "    # codon index + length of gene to find the end index\n",
    "    indices = []\n",
    "    count = 0\n",
    "    index = variant.find(codon)\n",
    "    while index >= 0:\n",
    "        indices.append(2+offset+index+1)  # databases count from 1, adding 2 for the actual start of the codon\n",
    "        count += 1\n",
    "        # if count % 10:\n",
    "        #     print(f'found at index {index}, len(variant): {len(variant)}')\n",
    "        index = variant.find(codon, index+len(codon))\n",
    "    return indices\n",
    "\n",
    "input_name = 'Forrest B100B10 BAC sequence Rhg4.txt'\n",
    "codon = reverse_complement('ATG')\n",
    "print(f'codon: {codon[::-1]}')\n",
    "variant = read_file(input_name)\n",
    "offset = 1440\n",
    "start_codon_indices = find_start_codon(codon, variant[offset:2757+1], offset)\n",
    "print(f'TAC codon indices: {start_codon_indices}')"
   ]
  },
  {
   "cell_type": "code",
   "execution_count": null,
   "metadata": {},
   "outputs": [],
   "source": [
    "# finding the gene's stop codon recursively - not much use: not recursive by nature\n",
    "\n",
    "def find_stop_codon_iter(codons, variant, offset):\n",
    "    indices = []\n",
    "    for codon in codons:\n",
    "        index = find_stop_codon_recurisve(codon, variant, offset)\n",
    "        if index >= 0:\n",
    "            indices.append(index+1)  # plus 1 because biological databases start count from 1, not 0\n",
    "    return indices\n",
    "\n",
    "def find_stop_codon_recursive(codon, variant, offset):\n",
    "    # breaking recursion: if indices for stop codon is -1\n",
    "    index = variant.find(codon, offset)\n",
    "    if index == -1:\n",
    "        return index\n",
    "\n",
    "codons = ['TAA', 'TAG', 'TGA']\n",
    "variant = forrest_sequence\n",
    "offset = 1440"
   ]
  },
  {
   "cell_type": "code",
   "execution_count": 12,
   "metadata": {},
   "outputs": [
    {
     "name": "stdout",
     "output_type": "stream",
     "text": [
      "indices of stop codons[:10]: [1445, 1471, 1482, 1551, 1557, 1642, 1803, 1824, 1920, 1940]\n",
      "length of stop_indices: 6009\n",
      "stop codon at 1445: TGA\n"
     ]
    }
   ],
   "source": [
    "# finding the gene's stop codon - iterative algorithm: finds stop codon where indeed it is\n",
    "\n",
    "def read_file(input_name):\n",
    "    sequence = ''\n",
    "    with open(input_name) as input_file:\n",
    "        input_file.readline()\n",
    "        while True:\n",
    "            seq = input_file.readline().strip()\n",
    "            if len(seq) == 0:\n",
    "                break\n",
    "            sequence += seq\n",
    "    return sequence\n",
    "\n",
    "def find_stop_codon(codons, variant, offset):\n",
    "    indices = []\n",
    "    for codon in codons:\n",
    "        index = variant.find(codon, offset)\n",
    "        while index >= 0:\n",
    "            indices.append(index+1)  # plus 1 because biological databases start count from 1, not 0\n",
    "            index = variant.find(codon, index+len(codon))\n",
    "    return indices\n",
    "\n",
    "input_name = 'Forrest B100B10 BAC sequence Rhg4.txt'\n",
    "codons = ['TAA', 'TAG', 'TGA']\n",
    "variant = read_file(input_name)\n",
    "offset = 1439\n",
    "stop_indices = find_stop_codon(codons, variant, offset)\n",
    "print(f'indices of stop codons[:10]: {stop_indices[:10]}')\n",
    "print(f'length of stop_indices: {len(stop_indices)}')\n",
    "print(f'stop codon at 1445: {variant[1444:1441:-1]}')"
   ]
  },
  {
   "cell_type": "markdown",
   "metadata": {},
   "source": [
    "### Found gene and its start and stop codons where they are. Do the sequences from the susceptible cultivars have the Forrest SHMT gene?"
   ]
  },
  {
   "cell_type": "code",
   "execution_count": 4,
   "metadata": {},
   "outputs": [
    {
     "name": "stdout",
     "output_type": "stream",
     "text": [
      "First 50 nucleotides of Williams sequence: AAGCTTGCATGCTTTCTGGTTTCCTTGCCAATCACTGCATGGAACAATCT\n"
     ]
    }
   ],
   "source": [
    "def read_file(input_name):\n",
    "    sequence = ''\n",
    "    with open(input_name) as input_file:\n",
    "        input_file.readline()\n",
    "        while True:\n",
    "            seq = input_file.readline().strip()\n",
    "            if len(seq) == 0:\n",
    "                break\n",
    "            sequence += seq\n",
    "    return sequence\n",
    "\n",
    "input_name = 'Williams 82 BAC 56G2 sequence.txt'\n",
    "williams_sequence = read_file(input_name)\n",
    "print(f'First 50 nucleotides of Williams sequence: {williams_sequence[:50]}')"
   ]
  },
  {
   "cell_type": "code",
   "execution_count": 19,
   "metadata": {},
   "outputs": [
    {
     "name": "stdout",
     "output_type": "stream",
     "text": [
      "boundaries of Forrest SHMT gene in Williams sequence: []\n"
     ]
    }
   ],
   "source": [
    "def find_start_end(gene, variant):\n",
    "    # using find to find the start index\n",
    "    # start index + length of gene to find the end index\n",
    "    indices = []\n",
    "    count = 0\n",
    "    index = variant.find(gene)\n",
    "    # print(f'index before entering while loop: {index}')\n",
    "    while index >= 0:\n",
    "        # print(f'entered while loop')\n",
    "        indices.append((index+1, index+len(gene)+1))  # bp locations of genes reported by databases start from 1\n",
    "        count += 1\n",
    "        if count % 10:\n",
    "            print(f'found at index {index}, len(variant): {len(variant)}')\n",
    "        index = variant.find(gene, index + len(gene))\n",
    "    return indices\n",
    "\n",
    "gene = shmt\n",
    "variant = williams_sequence\n",
    "gene_boundaries = find_start_end(gene, variant)\n",
    "print(f'boundaries of Forrest SHMT gene in Williams sequence: {gene_boundaries}')"
   ]
  },
  {
   "cell_type": "code",
   "execution_count": 9,
   "metadata": {},
   "outputs": [
    {
     "name": "stdout",
     "output_type": "stream",
     "text": [
      "boundaries of Forrest SHMT gene in Williams sequence: []\n"
     ]
    }
   ],
   "source": [
    "def find_start_end(gene, variant):\n",
    "    # using find to find the start index\n",
    "    # start index + length of gene to find the end index\n",
    "    indices = []\n",
    "    count = 0\n",
    "    index = variant.find(gene)\n",
    "    # print(f'index before entering while loop: {index}')\n",
    "    while index >= 0:\n",
    "        # print(f'entered while loop')\n",
    "        indices.append((index+1, index+len(gene)+1))  # bp locations of genes reported by databases start from 1\n",
    "        count += 1\n",
    "        if count % 10:\n",
    "            print(f'found at index {index}, len(variant): {len(variant)}')\n",
    "        index = variant.find(gene, index + len(gene))\n",
    "    return indices\n",
    "\n",
    "gene = shmt[2340:3657]\n",
    "variant = williams_sequence\n",
    "gene_boundaries = find_start_end(gene, variant)\n",
    "print(f'boundaries of Forrest SHMT gene in Williams sequence: {gene_boundaries}')"
   ]
  },
  {
   "cell_type": "code",
   "execution_count": 20,
   "metadata": {},
   "outputs": [
    {
     "data": {
      "text/plain": [
       "-1"
      ]
     },
     "execution_count": 20,
     "metadata": {},
     "output_type": "execute_result"
    }
   ],
   "source": [
    "variant.find(gene)"
   ]
  },
  {
   "cell_type": "code",
   "execution_count": 6,
   "metadata": {},
   "outputs": [
    {
     "name": "stdout",
     "output_type": "stream",
     "text": [
      "Number of mismatches: 2\n"
     ]
    }
   ],
   "source": [
    "def Hamming_distance(p, q):\n",
    "    mismatch_count = 0\n",
    "    length = min(len(p), len(q))\n",
    "    for i in range(length):\n",
    "        if p[i] != q[i]:\n",
    "            mismatch_count += 1\n",
    "    return mismatch_count\n",
    "\n",
    "p = shmt[2339:3658]\n",
    "q = williams_sequence[91647:92966]  # indices based on BLAST\n",
    "print(f'Number of mismatches: {Hamming_distance(p, q)}')"
   ]
  },
  {
   "cell_type": "code",
   "execution_count": 8,
   "metadata": {},
   "outputs": [
    {
     "name": "stdout",
     "output_type": "stream",
     "text": [
      "Number of mismatches between coding sequence and Asgrow sequence: 2\n"
     ]
    }
   ],
   "source": [
    "def read_file(input_name):\n",
    "    sequence = ''\n",
    "    with open(input_name) as input_file:\n",
    "        input_file.readline()\n",
    "        while True:\n",
    "            seq = input_file.readline().strip()\n",
    "            if len(seq) == 0:\n",
    "                break\n",
    "            sequence += seq\n",
    "    return sequence\n",
    "\n",
    "input_name = 'Asgrow sequence.txt'\n",
    "asgrow_sequence = read_file(input_name)\n",
    "p = shmt[2339:3658]\n",
    "q = asgrow_sequence[187599:188917]  # indices based on BLAST\n",
    "print(f'Number of mismatches between coding sequence and Asgrow sequence: {Hamming_distance(p, q)}')"
   ]
  },
  {
   "cell_type": "markdown",
   "metadata": {},
   "source": [
    "### At this point, we come to a closed loop: I am using a function that finds boundary indices of a gene, but for susceptible variants I need the indices to get accurate mismatch count. Solution: stop the search for Forrrest SHMT gene and build a phylogenetic tree."
   ]
  },
  {
   "cell_type": "code",
   "execution_count": 16,
   "metadata": {},
   "outputs": [
    {
     "name": "stdout",
     "output_type": "stream",
     "text": [
      "wrote output file Williams SHMT-like - phylogeny.txt\n"
     ]
    }
   ],
   "source": [
    "def create_subsequence_from_file(input_name, output_name, BLAST_start, BLAST_end):\n",
    "    input_file = open(input_name)\n",
    "    output_file = open(output_name, 'w')\n",
    "    input_seq = ''\n",
    "    input_file.readline()\n",
    "    while True:\n",
    "        seq = input_file.readline().strip()\n",
    "        if len(seq) == 0:\n",
    "            break\n",
    "        input_seq += seq\n",
    "    \n",
    "    output_seq = input_seq[BLAST_start:BLAST_end]\n",
    "    output_file.write(output_seq)\n",
    "    \n",
    "    input_file.close()\n",
    "    output_file.close()\n",
    "    print(f'wrote output file {output_name}')\n",
    "\n",
    "input_name = 'Williams 82 BAC 56G2 sequence.txt'\n",
    "output_name = 'Williams SHMT-like - phylogeny.txt'\n",
    "BLAST_start = 91648\n",
    "BLAST_end = 92965\n",
    "create_subsequence_from_file(input_name, output_name, BLAST_start, BLAST_end)"
   ]
  },
  {
   "cell_type": "code",
   "execution_count": 15,
   "metadata": {},
   "outputs": [
    {
     "name": "stdout",
     "output_type": "stream",
     "text": [
      "wrote output file Asgrow SHMT-like - phylogeny.txt\n"
     ]
    }
   ],
   "source": [
    "def create_subsequence_from_file(input_name, output_name, BLAST_start, BLAST_end):\n",
    "    input_file = open(input_name)\n",
    "    output_file = open(output_name, 'w')\n",
    "    input_seq = ''\n",
    "    input_file.readline()\n",
    "    while True:\n",
    "        seq = input_file.readline().strip()\n",
    "        if len(seq) == 0:\n",
    "            break\n",
    "        input_seq += seq\n",
    "    \n",
    "    output_seq = input_seq[BLAST_start:BLAST_end]\n",
    "    output_file.write(output_seq)\n",
    "    \n",
    "    input_file.close()\n",
    "    output_file.close()\n",
    "    print(f'wrote output file {output_name}')\n",
    "\n",
    "input_name = 'Asgrow sequence.txt'\n",
    "output_name = 'Asgrow SHMT-like - phylogeny.txt'\n",
    "BLAST_start = 187600\n",
    "BLAST_end = 188917\n",
    "create_subsequence_from_file(input_name, output_name, BLAST_start, BLAST_end)"
   ]
  },
  {
   "cell_type": "code",
   "execution_count": 14,
   "metadata": {},
   "outputs": [
    {
     "name": "stdout",
     "output_type": "stream",
     "text": [
      "wrote output file Forrest SHMT - phylogeny.txt\n"
     ]
    }
   ],
   "source": [
    "def create_subsequence_from_file(input_name, output_name, BLAST_start, BLAST_end):\n",
    "    input_file = open(input_name)\n",
    "    output_file = open(output_name, 'w')\n",
    "    input_seq = ''\n",
    "    input_file.readline()\n",
    "    while True:\n",
    "        seq = input_file.readline().strip()\n",
    "        if len(seq) == 0:\n",
    "            break\n",
    "        input_seq += seq\n",
    "    \n",
    "    output_seq = input_seq[BLAST_start:BLAST_end:-1]\n",
    "    output_file.write(output_seq)\n",
    "    \n",
    "    input_file.close()\n",
    "    output_file.close()\n",
    "    print(f'wrote output file {output_name}')\n",
    "\n",
    "input_name = 'Forrest B100B10 BAC sequence Rhg4.txt'\n",
    "output_name = 'Forrest SHMT - phylogeny.txt'\n",
    "BLAST_start = 2757\n",
    "BLAST_end = 1440\n",
    "create_subsequence_from_file(input_name, output_name, BLAST_start, BLAST_end)"
   ]
  },
  {
   "cell_type": "code",
   "execution_count": 20,
   "metadata": {},
   "outputs": [
    {
     "name": "stdout",
     "output_type": "stream",
     "text": [
      "wrote output file Glycine max SHMT mRNA - phylogeny.txt\n"
     ]
    }
   ],
   "source": [
    "def create_subsequence_from_file(input_name, output_name, BLAST_start, BLAST_end):\n",
    "    input_file = open(input_name)\n",
    "    output_file = open(output_name, 'w')\n",
    "    input_seq = ''\n",
    "    input_file.readline()\n",
    "    while True:\n",
    "        seq = input_file.readline().strip()\n",
    "        if len(seq) == 0:\n",
    "            break\n",
    "        input_seq += seq\n",
    "    \n",
    "    output_seq = input_seq[BLAST_start:BLAST_end]\n",
    "    output_file.write(output_seq)\n",
    "    \n",
    "    input_file.close()\n",
    "    output_file.close()\n",
    "    print(f'wrote output file {output_name}')\n",
    "\n",
    "input_name = 'Glycine max SHMT mRNA.txt'\n",
    "output_name = input_name[:-4] + ' - phylogeny.txt'\n",
    "BLAST_start = 91\n",
    "BLAST_end = 1264\n",
    "create_subsequence_from_file(input_name, output_name, BLAST_start, BLAST_end)"
   ]
  },
  {
   "cell_type": "code",
   "execution_count": 21,
   "metadata": {},
   "outputs": [
    {
     "name": "stdout",
     "output_type": "stream",
     "text": [
      "wrote output file Essex SHMT - phylogeny.txt\n"
     ]
    }
   ],
   "source": [
    "def create_subsequence_from_file(input_name, output_name, BLAST_start, BLAST_end):\n",
    "    input_file = open(input_name)\n",
    "    output_file = open(output_name, 'w')\n",
    "    input_seq = ''\n",
    "    input_file.readline()\n",
    "    while True:\n",
    "        seq = input_file.readline().strip()\n",
    "        if len(seq) == 0:\n",
    "            break\n",
    "        input_seq += seq\n",
    "    \n",
    "    output_seq = input_seq[BLAST_start:BLAST_end]\n",
    "    output_file.write(output_seq)\n",
    "    \n",
    "    input_file.close()\n",
    "    output_file.close()\n",
    "    print(f'wrote output file {output_name}')\n",
    "\n",
    "input_name = 'Essex SHMT.txt'\n",
    "output_name = input_name[:-4] + ' - phylogeny.txt'\n",
    "BLAST_start = 2341\n",
    "BLAST_end = 2658\n",
    "create_subsequence_from_file(input_name, output_name, BLAST_start, BLAST_end)"
   ]
  },
  {
   "cell_type": "markdown",
   "metadata": {},
   "source": [
    "### Creating phylogenetic trees gives us interesting information, but doesn't get us closer to our goal. I went back to my thesis results and am back to finding the genes thought be unknown or predicted in 2015 in susceptible cultivars."
   ]
  },
  {
   "cell_type": "code",
   "execution_count": 1,
   "metadata": {},
   "outputs": [
    {
     "name": "stdout",
     "output_type": "stream",
     "text": [
      "First 50 nucleotides of Forrest sequence: CCCTCGCGAGTTGGTTCAGCTGCTGCCTGAGGCTGGACGACCTCGCGGAG\n"
     ]
    }
   ],
   "source": [
    "def read_file(input_name):\n",
    "    sequence = ''\n",
    "    with open(input_name) as input_file:\n",
    "        input_file.readline()\n",
    "        while True:\n",
    "            seq = input_file.readline().strip()\n",
    "            if len(seq) == 0:\n",
    "                break\n",
    "            sequence += seq\n",
    "    return sequence\n",
    "\n",
    "input_name = 'Forrest B100B10 BAC sequence Rhg4.txt'\n",
    "forrest_sequence = read_file(input_name)\n",
    "print(f'First 50 nucleotides of Forrest sequence: {forrest_sequence[:50]}')"
   ]
  },
  {
   "cell_type": "code",
   "execution_count": 11,
   "metadata": {},
   "outputs": [
    {
     "name": "stdout",
     "output_type": "stream",
     "text": [
      "First 50 nucleotides of hst_factor15_var2_mRNA sequence: AGTTGCAAATTCCAGGTTTTCTTCTTTTACTCAATTCTCTCTCTCTCTCT\n",
      "length: 2416\n"
     ]
    }
   ],
   "source": [
    "input_name = 'HST Factor 15 Transcript variant X2 mRNA.txt'\n",
    "hst_factor15_var2_mRNA = read_file(input_name)\n",
    "print(f'First 50 nucleotides of hst_factor15_var2_mRNA sequence: {hst_factor15_var2_mRNA[:50]}')\n",
    "print(f'length: {len(hst_factor15_var2_mRNA)}')"
   ]
  },
  {
   "cell_type": "code",
   "execution_count": 16,
   "metadata": {},
   "outputs": [
    {
     "name": "stdout",
     "output_type": "stream",
     "text": [
      "Forrest sequence 25099-25110:           ATCCAATTAA\n",
      "hst_factor15_var2_mRNA 363-353:         TTAGGTTAAT\n",
      "reverse hst_factor15_mRNA 363-353:      GATATTGCCT\n"
     ]
    }
   ],
   "source": [
    "def read_file(input_name):\n",
    "    sequence = ''\n",
    "    with open(input_name) as input_file:\n",
    "        input_file.readline()\n",
    "        while True:\n",
    "            seq = input_file.readline().strip()\n",
    "            if len(seq) == 0:\n",
    "                break\n",
    "            sequence += seq\n",
    "    return sequence\n",
    "\n",
    "def reverse_complement(sequence):\n",
    "    complement_seq = \"\"\n",
    "    complement_dict = {'A': 'T', 'C': 'G', 'G': 'C', 'T': 'A'}\n",
    "    for letter in sequence:\n",
    "        complement_seq += complement_dict[letter.upper()]\n",
    "    return complement_seq[::-1]\n",
    "\n",
    "input_name = 'HST Factor 15 Transcript variant X2 mRNA.txt'\n",
    "hst_factor15_var2_mRNA = read_file(input_name)\n",
    "print(f'Forrest sequence 25099-25110:           {forrest_sequence[25099:25109]}')\n",
    "print(f'hst_factor15_var2_mRNA 363-353:         {hst_factor15_var2_mRNA[363:353:-1]}')\n",
    "rev_hst_factor15_var2_mRNA = reverse_complement(hst_factor15_var2_mRNA)\n",
    "print(f'reverse hst_factor15_mRNA 363-353:      {rev_hst_factor15_var2_mRNA[353:363]}')"
   ]
  },
  {
   "cell_type": "code",
   "execution_count": 13,
   "metadata": {},
   "outputs": [
    {
     "name": "stdout",
     "output_type": "stream",
     "text": [
      "first 10 of mRNA: AGTTGCAAAT\n",
      "subseq of mRNA:   GATATTGCCT\n",
      "index: -1\n",
      "mRNA 353-363: TTAATTGGAT\n"
     ]
    }
   ],
   "source": [
    "subseq = rev_hst_factor15_var2_mRNA[353:363]\n",
    "index = hst_factor15_var2_mRNA.find(subseq)\n",
    "print(f'first 10 of mRNA: {hst_factor15_var2_mRNA[0:10]}')\n",
    "print(f'subseq of mRNA:   {subseq}')\n",
    "print(f'index: {index}')\n",
    "print(f'mRNA 353-363: {hst_factor15_var2_mRNA[353:363]}')  # BLAST confirms this as aligning with Forrest genomic sequence"
   ]
  },
  {
   "cell_type": "code",
   "execution_count": 14,
   "metadata": {},
   "outputs": [
    {
     "name": "stdout",
     "output_type": "stream",
     "text": [
      "first 10 of the mRNA: TTAATTGGAT\n",
      "reverse complement:    ATCCAATTAA\n"
     ]
    }
   ],
   "source": [
    "def reverse_complement(sequence):\n",
    "    complement_seq = \"\"\n",
    "    complement_dict = {'A': 'T', 'C': 'G', 'G': 'C', 'T': 'A'}\n",
    "    for letter in sequence:\n",
    "        complement_seq += complement_dict[letter.upper()]\n",
    "    return complement_seq[::-1]\n",
    "\n",
    "subsequence = reverse_complement(hst_factor15_var2_mRNA[353:363])\n",
    "print(f'first 10 of the mRNA: {hst_factor15_var2_mRNA[353:363]}')\n",
    "print(f'reverse complement:    {subsequence}')"
   ]
  },
  {
   "cell_type": "code",
   "execution_count": 15,
   "metadata": {},
   "outputs": [
    {
     "name": "stdout",
     "output_type": "stream",
     "text": [
      "found at index 25099, len(variant): 94336\n",
      "boundary indices: [(25100, 25450)]\n"
     ]
    }
   ],
   "source": [
    "def reverse_complement(sequence):\n",
    "    complement_seq = \"\"\n",
    "    complement_dict = {'A': 'T', 'C': 'G', 'G': 'C', 'T': 'A'}\n",
    "    for letter in sequence:\n",
    "        complement_seq += complement_dict[letter.upper()]\n",
    "    return complement_seq[::-1]\n",
    "\n",
    "def find_start_end(gene, variant):\n",
    "    # using find to find the start index\n",
    "    # start index + length of gene to find the end index\n",
    "    indices = []\n",
    "    count = 0\n",
    "    index = variant.find(gene)\n",
    "    # print(f'index before entering while loop: {index}')\n",
    "    while index >= 0:\n",
    "        # print(f'entered while loop')\n",
    "        indices.append((index+1, index+len(gene)+1))  # bp locations of genes reported by databases start from 1\n",
    "        count += 1\n",
    "        if count % 10:\n",
    "            print(f'found at index {index}, len(variant): {len(variant)}')\n",
    "        index = variant.find(gene, index + len(gene))\n",
    "    return indices\n",
    "\n",
    "dna_seq = hst_factor15_var2_mRNA[13:363]\n",
    "gene = reverse_complement(dna_seq)\n",
    "variant = forrest_sequence\n",
    "boundary_indices = find_start_end(gene, variant)\n",
    "print(f'boundary indices: {boundary_indices}')"
   ]
  },
  {
   "cell_type": "code",
   "execution_count": 9,
   "metadata": {},
   "outputs": [
    {
     "name": "stdout",
     "output_type": "stream",
     "text": [
      "indices of start codon: [25128, 25311, 25321, 25381]\n",
      "number of stop codons: 4501, first 10 indices of stop codon: [25107, 25434, 25588, 25593, 25597, 25613, 25629, 25644, 25650, 25658]\n"
     ]
    }
   ],
   "source": [
    "def reverse_complement(sequence):\n",
    "    complement_seq = \"\"\n",
    "    complement_dict = {'A': 'T', 'C': 'G', 'G': 'C', 'T': 'A'}\n",
    "    for letter in sequence:\n",
    "        complement_seq += complement_dict[letter.upper()]\n",
    "    return complement_seq[::-1]\n",
    "\n",
    "def find_start_codon(codon, variant, offset):\n",
    "    # using find to find the codon index\n",
    "    # codon index + length of gene to find the end index\n",
    "    indices = []\n",
    "    count = 0\n",
    "    index = variant.find(codon)\n",
    "    while index >= 0:\n",
    "        indices.append(2+offset+index+1)  # databases count from 1, adding 2 for the actual start of the codon\n",
    "        count += 1\n",
    "        # if count % 10:\n",
    "        #     print(f'found at index {index}, len(variant): {len(variant)}')\n",
    "        index = variant.find(codon, index+len(codon))\n",
    "    return indices\n",
    "\n",
    "def find_stop_codon(codons, variant, offset):\n",
    "    indices = []\n",
    "    for codon in codons:\n",
    "        index = variant.find(codon, offset)\n",
    "        while index >= 0:\n",
    "            indices.append(index+1)  # plus 1 because biological databases start count from 1, not 0\n",
    "            index = variant.find(codon, index+len(codon))\n",
    "    return indices\n",
    "\n",
    "offset = 25099\n",
    "start_codon = 'ATG'\n",
    "rev_start_codon = reverse_complement(start_codon)\n",
    "stop_codons = ['TAA', 'TAG', 'TGA']\n",
    "variant = forrest_sequence\n",
    "start_codon_indices = find_start_codon(rev_start_codon, variant[offset:25450+1], offset)\n",
    "stop_codon_indices = find_stop_codon(stop_codons, variant, offset)\n",
    "print(f'indices of start codon: {start_codon_indices}')\n",
    "print(f'number of stop codons: {len(stop_codon_indices)}, first 10 indices of stop codon: {stop_codon_indices[:10]}')"
   ]
  },
  {
   "cell_type": "markdown",
   "metadata": {},
   "source": [
    "#### Found the X2 transcript variant of HST Factor 15 mRNA and it indeed contains start and stop codons as we would expect an mRNA to have. The codon indices and gene boundaries returned by Python algorithm do not match up with my thesis findings. I am testing my theories by re-running these function with HST Factor 15 mRNA (no transcript variant)."
   ]
  },
  {
   "cell_type": "code",
   "execution_count": 23,
   "metadata": {},
   "outputs": [
    {
     "name": "stdout",
     "output_type": "stream",
     "text": [
      "HST Factor 15 mRNA first 10 nucleotides: CTGCAGCAGG\n"
     ]
    }
   ],
   "source": [
    "def read_file(input_name):\n",
    "    sequence = ''\n",
    "    with open(input_name) as input_file:\n",
    "        input_file.readline()\n",
    "        while True:\n",
    "            seq = input_file.readline().strip()\n",
    "            if len(seq) == 0:\n",
    "                break\n",
    "            sequence += seq\n",
    "    return sequence\n",
    "\n",
    "input_name = 'Glycine max HST Factor 15 mRNA.txt'\n",
    "hst_factor15_mRNA = read_file(input_name)\n",
    "print(f'HST Factor 15 mRNA first 10 nucleotides: {hst_factor15_mRNA[:10]}')"
   ]
  },
  {
   "cell_type": "code",
   "execution_count": 24,
   "metadata": {},
   "outputs": [
    {
     "name": "stdout",
     "output_type": "stream",
     "text": [
      "indices: []\n"
     ]
    }
   ],
   "source": [
    "def reverse_complement(sequence):\n",
    "    complement_seq = \"\"\n",
    "    complement_dict = {'A': 'T', 'C': 'G', 'G': 'C', 'T': 'A'}\n",
    "    for letter in sequence:\n",
    "        complement_seq += complement_dict[letter.upper()]\n",
    "    return complement_seq[::-1]\n",
    "\n",
    "def find_start_end(gene, variant):\n",
    "    # using find to find the start index\n",
    "    # start index + length of gene to find the end index\n",
    "    indices = []\n",
    "    count = 0\n",
    "    index = variant.find(gene)\n",
    "    # print(f'index before entering while loop: {index}')\n",
    "    while index >= 0:\n",
    "        # print(f'entered while loop')\n",
    "        indices.append((index+1, index+len(gene)+1))  # bp locations of genes reported by databases start from 1\n",
    "        count += 1\n",
    "        if count % 10:\n",
    "            print(f'found at index {index}, len(variant): {len(variant)}')\n",
    "        index = variant.find(gene, index + len(gene))\n",
    "    return indices\n",
    "\n",
    "gene = reverse_complement(hst_factor15_mRNA)\n",
    "variant = forrest_sequence\n",
    "boundaries = find_start_end(gene, variant)\n",
    "print(f'indices: {boundaries}')"
   ]
  },
  {
   "cell_type": "code",
   "execution_count": 26,
   "metadata": {},
   "outputs": [
    {
     "name": "stdout",
     "output_type": "stream",
     "text": [
      "indices of start codon: [20661, 20711, 20727, 20745, 20822, 20831, 20854, 20914, 20930, 20941, 20975, 21003, 21029, 21056, 21059, 21095, 21143, 21146, 21233, 21272, 21481, 21489, 21614, 21620, 21654, 21716, 21729, 21828, 21926, 22157, 22160, 22174, 22357, 22520, 22610, 22662, 22690, 22740, 22752, 22805, 22822, 22885, 22943, 23037, 23223, 23232, 23354, 23407, 23434, 23645, 23676, 23732, 23807, 23816, 23874, 23905, 23909, 23936, 24009, 24035, 24046, 24049, 24066, 24118, 24171, 24191, 24234, 24420, 24449, 24461, 24511, 24514, 24518, 24571, 24591, 24696, 24739, 24852, 24911, 24921, 24928, 24931, 24934, 24937, 24941, 24944, 24950, 24957, 25028, 25055, 25078, 25128, 25311, 25321, 25381]\n",
      "number of stop codons: 4766, first 10 indices of stop codon: [20666, 20676, 20745, 20813, 20817, 20848, 20873, 20943, 20954, 21009]\n"
     ]
    }
   ],
   "source": [
    "def reverse_complement(sequence):\n",
    "    complement_seq = \"\"\n",
    "    complement_dict = {'A': 'T', 'C': 'G', 'G': 'C', 'T': 'A'}\n",
    "    for letter in sequence:\n",
    "        complement_seq += complement_dict[letter.upper()]\n",
    "    return complement_seq[::-1]\n",
    "\n",
    "def find_start_codon(codon, variant, offset):\n",
    "    # using find to find the codon index\n",
    "    # codon index + length of gene to find the end index\n",
    "    indices = []\n",
    "    count = 0\n",
    "    index = variant.find(codon)\n",
    "    while index >= 0:\n",
    "        indices.append(2+offset+index+1)  # databases count from 1, adding 2 for the actual start of the codon\n",
    "        count += 1\n",
    "        # if count % 10:\n",
    "        #     print(f'found at index {index}, len(variant): {len(variant)}')\n",
    "        index = variant.find(codon, index+len(codon))\n",
    "    return indices\n",
    "\n",
    "def find_stop_codon(codons, variant, offset):\n",
    "    indices = []\n",
    "    for codon in codons:\n",
    "        index = variant.find(codon, offset)\n",
    "        while index >= 0:\n",
    "            indices.append(index+1)  # plus 1 because biological databases start count from 1, not 0\n",
    "            index = variant.find(codon, index+len(codon))\n",
    "    return indices\n",
    "\n",
    "offset = 20648\n",
    "start_codon = 'ATG'\n",
    "rev_start_codon = reverse_complement(start_codon)\n",
    "stop_codons = ['TAA', 'TAG', 'TGA']\n",
    "variant = forrest_sequence\n",
    "start_codon_indices = find_start_codon(rev_start_codon, variant[offset:25433+1], offset)\n",
    "stop_codon_indices = find_stop_codon(stop_codons, variant, offset)\n",
    "print(f'indices of start codon: {start_codon_indices}')\n",
    "print(f'number of stop codons: {len(stop_codon_indices)}, first 10 indices of stop codon: {stop_codon_indices[:10]}')"
   ]
  },
  {
   "cell_type": "code",
   "execution_count": 4,
   "metadata": {},
   "outputs": [
    {
     "name": "stdout",
     "output_type": "stream",
     "text": [
      "found at index 1439, len(variant): 94336\n",
      "boundary_indices: [(1440, 2757)]\n"
     ]
    }
   ],
   "source": [
    "def read_file(input_name):\n",
    "    sequence = ''\n",
    "    with open(input_name) as input_file:\n",
    "        input_file.readline()\n",
    "        while True:\n",
    "            seq = input_file.readline().strip()\n",
    "            if len(seq) == 0:\n",
    "                break\n",
    "            sequence += seq\n",
    "    return sequence\n",
    "\n",
    "def reverse_complement(sequence):\n",
    "    complement_seq = \"\"\n",
    "    complement_dict = {'A': 'T', 'C': 'G', 'G': 'C', 'T': 'A'}\n",
    "    for letter in sequence:\n",
    "        complement_seq += complement_dict[letter]\n",
    "    return complement_seq[::-1]\n",
    "\n",
    "def find_start_end(gene, variant):\n",
    "    # using find to find the start index\n",
    "    # start index + length of gene to find the end index\n",
    "    indices = []\n",
    "    count = 0\n",
    "    index = variant.find(gene)\n",
    "    # print(f'index before entering while loop: {index}')\n",
    "    while index >= 0:\n",
    "        # print(f'entered while loop')\n",
    "        indices.append((index+1, index+len(gene)+1))  # bp locations of genes reported by databases start from 1\n",
    "        count += 1\n",
    "        if count % 10:\n",
    "            print(f'found at index {index}, len(variant): {len(variant)}')\n",
    "        index = variant.find(gene, index + len(gene))\n",
    "    return indices\n",
    "\n",
    "input_name1 = 'Forrest B100B10 BAC sequence Rhg4.txt'\n",
    "input_name2 = 'Forrest SHMT.txt'\n",
    "forrest_sequence = read_file(input_name1)\n",
    "print(f'First 50 nucleotides of Forrest sequence: {forrest_sequence[:50]}')\n",
    "shmt = read_file(input_name2)\n",
    "print(f'First 50 nucleotides of SHMT gene sequence: {shmt[:50]}')\n",
    "sequence = shmt[2340:3657]\n",
    "variant = forrest_sequence\n",
    "gene = reverse_complement(sequence)\n",
    "boundary_indices = find_start_end(gene, variant)\n",
    "print(f'boundary_indices: {boundary_indices}')"
   ]
  }
 ],
 "metadata": {
  "kernelspec": {
   "display_name": "Python 3",
   "language": "python",
   "name": "python3"
  },
  "language_info": {
   "codemirror_mode": {
    "name": "ipython",
    "version": 3
   },
   "file_extension": ".py",
   "mimetype": "text/x-python",
   "name": "python",
   "nbconvert_exporter": "python",
   "pygments_lexer": "ipython3",
   "version": "3.8.5"
  }
 },
 "nbformat": 4,
 "nbformat_minor": 4
}
