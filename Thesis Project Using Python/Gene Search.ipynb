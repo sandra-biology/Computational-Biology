{
 "cells": [
  {
   "cell_type": "markdown",
   "metadata": {},
   "source": [
    "### Importing the nucleotide sequences I am using and adding them to a string container."
   ]
  },
  {
   "cell_type": "code",
   "execution_count": 5,
   "metadata": {},
   "outputs": [
    {
     "name": "stdout",
     "output_type": "stream",
     "text": [
      "First 50 nucleotides of Forrest sequence: CCCTCGCGAGTTGGTTCAGCTGCTGCCTGAGGCTGGACGACCTCGCGGAG\n"
     ]
    }
   ],
   "source": [
    "def read_file(input_name):\n",
    "    sequence = ''\n",
    "    with open(input_name) as input_file:\n",
    "        input_file.readline()\n",
    "        while True:\n",
    "            seq = input_file.readline().strip()\n",
    "            if len(seq) == 0:\n",
    "                break\n",
    "            sequence += seq\n",
    "    return sequence\n",
    "\n",
    "input_name = 'Forrest B100B10 BAC sequence Rhg4.txt'\n",
    "forrest_sequence = read_file(input_name)\n",
    "print(f'First 50 nucleotides of Forrest sequence: {forrest_sequence[:50]}')"
   ]
  },
  {
   "cell_type": "code",
   "execution_count": 19,
   "metadata": {},
   "outputs": [
    {
     "name": "stdout",
     "output_type": "stream",
     "text": [
      "First 50 nucleotides of Forrest sequence: CCCTCGCGAGTTGGTTCAGCTGCTGCCTGAGGCTGGACGACCTCGCGGAG\n"
     ]
    }
   ],
   "source": [
    "# def read_file(input_name):\n",
    "#     sequence = ''\n",
    "#     with open(input_name) as input_file:\n",
    "#         input_file.readline()  # skip header\n",
    "        \n",
    "#         seq = input_file.readline().strip()\n",
    "#         while seq:\n",
    "#             sequence += seq\n",
    "#             seq = input_file.readline().strip()\n",
    "#     return sequence\n",
    "\n",
    "# input_name = 'Forrest B100B10 BAC sequence Rhg4.txt'\n",
    "# forrest_sequence = read_file(input_name)\n",
    "# print(f'First 50 nucleotides of Forrest sequence: {forrest_sequence[:50]}')"
   ]
  },
  {
   "cell_type": "code",
   "execution_count": 18,
   "metadata": {},
   "outputs": [
    {
     "name": "stdout",
     "output_type": "stream",
     "text": [
      "False\n"
     ]
    }
   ],
   "source": [
    "s = ''\n",
    "if s:\n",
    "    print('True')\n",
    "else:\n",
    "    print('False')"
   ]
  },
  {
   "cell_type": "code",
   "execution_count": 18,
   "metadata": {},
   "outputs": [
    {
     "name": "stdout",
     "output_type": "stream",
     "text": [
      "First 50 nucleotides of SHMT gene sequence: CAATGGCACCAATGCCCAATGGGAGATTTAAGTCAAGCCCAACATCAACC\n"
     ]
    }
   ],
   "source": [
    "input_name = 'Forrest SHMT.txt'\n",
    "shmt = read_file(input_name)\n",
    "print(f'First 50 nucleotides of SHMT gene sequence: {shmt[:50]}')"
   ]
  },
  {
   "cell_type": "markdown",
   "metadata": {},
   "source": [
    "#### From the results of my thesis, I know the boundaries of the genes in the Rhg4 region of interest. Moving from one end of the region to the other, trying to locate the genes using Python."
   ]
  },
  {
   "cell_type": "code",
   "execution_count": 7,
   "metadata": {
    "scrolled": true
   },
   "outputs": [
    {
     "name": "stdout",
     "output_type": "stream",
     "text": [
      "found at index 3, len(variant): 13\n",
      "boundary_indices: [(4, 6)]\n"
     ]
    }
   ],
   "source": [
    "# finding gene boundaries\n",
    "def find_start_end(gene, variant):\n",
    "    # using find to find the start index\n",
    "    # start index + length of gene to find the end index\n",
    "    indices = []\n",
    "    count = 0\n",
    "    index = variant.find(gene)\n",
    "    while index >= 0:\n",
    "        indices.append((index+1, index+len(gene)))  # bp locations of genes reported by databases start from 1\n",
    "        count += 1\n",
    "        if count % 10:\n",
    "            print(f'found at index {index}, len(variant): {len(variant)}')\n",
    "        index = variant.find(gene, index+len(gene))\n",
    "    return indices\n",
    "\n",
    "# variant = forrest_sequence\n",
    "# gene = shtm\n",
    "variant = 'CCCTCGCAGTTGG'\n",
    "gene = 'TCG'\n",
    "boundary_indices = find_start_end(gene, variant)\n",
    "print(f'boundary_indices: {boundary_indices}')"
   ]
  },
  {
   "cell_type": "code",
   "execution_count": 11,
   "metadata": {
    "scrolled": true
   },
   "outputs": [
    {
     "name": "stdout",
     "output_type": "stream",
     "text": [
      "len(variant): 94336, len(gene): 5103\n",
      "boundary_indices: []\n"
     ]
    }
   ],
   "source": [
    "# finding gene boundaries\n",
    "def find_start_end(gene, variant):\n",
    "    # using find to find the start index\n",
    "    # start index + length of gene to find the end index\n",
    "    indices = []\n",
    "    count = 0\n",
    "    index = variant.find(gene)\n",
    "    while index >= 0:\n",
    "        indices.append((index+1, index+len(gene)))  # bp locations of genes reported by databases start from 1\n",
    "        count += 1\n",
    "        if count % 10:\n",
    "            print(f'found at index {index}, len(variant): {len(variant)}')\n",
    "        index = variant.find(gene, index+len(gene))\n",
    "    return indices\n",
    "\n",
    "variant = forrest_sequence\n",
    "gene = shtm\n",
    "print(f'len(variant): {len(variant)}, len(gene): {len(gene)}')\n",
    "# variant = 'CCCTCGCAGTTGG'\n",
    "# gene = 'TCG'\n",
    "boundary_indices = find_start_end(gene, variant)\n",
    "print(f'boundary_indices: {boundary_indices}')"
   ]
  },
  {
   "cell_type": "code",
   "execution_count": 4,
   "metadata": {
    "scrolled": true
   },
   "outputs": [
    {
     "name": "stdout",
     "output_type": "stream",
     "text": [
      "len(variant): 94336, len(gene): 1316\n",
      "boundary_indices: []\n"
     ]
    }
   ],
   "source": [
    "# finding gene boundaries\n",
    "def find_start_end(gene, variant):\n",
    "    # using find to find the start index\n",
    "    # start index + length of gene to find the end index\n",
    "    indices = []\n",
    "    count = 0\n",
    "    index = variant.find(gene)\n",
    "    while index >= 0:\n",
    "        indices.append((index+1, index+len(gene)))  # bp locations of genes reported by databases start from 1\n",
    "        count += 1\n",
    "        if count % 10:\n",
    "            print(f'found at index {index}, len(variant): {len(variant)}')\n",
    "        index = variant.find(gene, index+len(gene))\n",
    "    return indices\n",
    "\n",
    "variant = forrest_sequence\n",
    "gene = shmt[2000:2005]\n",
    "print(f'len(variant): {len(variant)}, len(gene): {len(gene)}')\n",
    "# variant = 'CCCTCGCAGTTGG'\n",
    "# gene = 'TCG'\n",
    "boundary_indices = find_start_end(gene, variant)\n",
    "print(f'boundary_indices: {boundary_indices}')"
   ]
  },
  {
   "cell_type": "markdown",
   "metadata": {},
   "source": [
    "### At this point, I ran into problem of Python not finding the gene sequence in Forrest sequence that we know should be there. I am taking the approach of comparing the Forrest sequence with the gene sequence using other bioinformatics tools."
   ]
  },
  {
   "cell_type": "markdown",
   "metadata": {},
   "source": [
    "#### I used BLAST (alignment tool) to zone in on the coding region of SHTM gene (while comparing sequences in BLAST). Adjusting the subsequence we're searching for should give us the result we're expecitng. The reason we don't is that the gene sequence we're searching for is oriented the wrong way."
   ]
  },
  {
   "cell_type": "code",
   "execution_count": 4,
   "metadata": {
    "scrolled": true
   },
   "outputs": [
    {
     "name": "stdout",
     "output_type": "stream",
     "text": [
      "len(variant): 94336, len(gene): 1318\n",
      "boundary_indices: []\n"
     ]
    }
   ],
   "source": [
    "def find_start_end(gene, variant):\n",
    "    # using find to find the start index\n",
    "    # start index + length of gene to find the end index\n",
    "    indices = []\n",
    "    count = 0\n",
    "    index = variant.find(gene)\n",
    "    while index >= 0:\n",
    "        indices.append((index+1, index+len(gene)))  # bp locations of genes reported by databases start from 1\n",
    "        count += 1\n",
    "        if count % 10:\n",
    "            print(f'found at index {index}, len(variant): {len(variant)}')\n",
    "        index = variant.find(gene, index+len(gene))\n",
    "    return indices\n",
    "\n",
    "variant = forrest_sequence\n",
    "gene = shmt[2339:3657]\n",
    "print(f'len(variant): {len(variant)}, len(gene): {len(gene)}')\n",
    "# variant = 'CCCTCGCAGTTGG'\n",
    "# gene = 'TCG'\n",
    "boundary_indices = find_start_end(gene, variant)\n",
    "print(f'boundary_indices: {boundary_indices}')"
   ]
  },
  {
   "cell_type": "markdown",
   "metadata": {},
   "source": [
    "#### The Gene sequence (Forrest SHMT coding sequence) we're searching for is oriented the wrong way in relation to the Variant sequence. Need to generate a reverse complement of the gene sequence before running the find boundaries function."
   ]
  },
  {
   "cell_type": "code",
   "execution_count": 14,
   "metadata": {},
   "outputs": [
    {
     "name": "stdout",
     "output_type": "stream",
     "text": [
      "complement of AAAACCCGGT: TTTTGGGCCA\n"
     ]
    }
   ],
   "source": [
    "def complement(sequence):\n",
    "    complement_seq = \"\"\n",
    "    complement_dict = {'A': 'T', 'C': 'G', 'G': 'C', 'T': 'A'}\n",
    "    for letter in sequence:\n",
    "        complement_seq += complement_dict[letter]\n",
    "    return complement_seq\n",
    "\n",
    "sequence = 'AAAACCCGGT'\n",
    "complement = complement(sequence)\n",
    "print(f'complement of {sequence}: {complement}')"
   ]
  },
  {
   "cell_type": "code",
   "execution_count": 26,
   "metadata": {},
   "outputs": [
    {
     "name": "stdout",
     "output_type": "stream",
     "text": [
      "original sequence:   AGCTGCTGCCTG\n",
      "complement sequence: TCGACGACGGAC\n",
      "reverse complement:  CAGGCAGCAGCT\n",
      "sequence left to right: AGCTGCTGCCTG\n",
      "sequence right to left: GTCCGTCGTCGA\n",
      "middle 8 characters left to right: CTGCTGCC\n",
      "middle 8 characters right to left: CCGTCGTC\n"
     ]
    }
   ],
   "source": [
    "def reverse_complement(sequence):\n",
    "    complement_seq = \"\"\n",
    "    complement_dict = {'A': 'T', 'C': 'G', 'G': 'C', 'T': 'A'}\n",
    "    for letter in sequence:\n",
    "        complement_seq += complement_dict[letter]\n",
    "    return complement_seq[::-1]\n",
    "\n",
    "def complement(sequence):\n",
    "    complement_seq = \"\"\n",
    "    complement_dict = {'A': 'T', 'C': 'G', 'G': 'C', 'T': 'A'}\n",
    "    for letter in sequence:\n",
    "        complement_seq += complement_dict[letter]\n",
    "    return complement_seq\n",
    "\n",
    "# -         21 987654321\n",
    "#           0123456789 1\n",
    "sequence = 'AGCTGCTGCCTG'\n",
    "print(f'original sequence:   {sequence}')\n",
    "complement_sequence = complement(sequence)\n",
    "print(f'complement sequence: {complement_sequence}')\n",
    "reverse_complement = reverse_complement(sequence)\n",
    "print(f'reverse complement:  {reverse_complement}')\n",
    "\n",
    "print(f'sequence left to right: {sequence[0:12]}')\n",
    "print(f'sequence right to left: {sequence[-1:-13:-1]}')\n",
    "\n",
    "print(f'middle 8 characters left to right: {sequence[2:10]}')\n",
    "print(f'middle 8 characters right to left: {sequence[-3:-11:-1]}')"
   ]
  },
  {
   "cell_type": "code",
   "execution_count": 4,
   "metadata": {},
   "outputs": [
    {
     "name": "stdout",
     "output_type": "stream",
     "text": [
      "found at index 1439, len(variant): 94336\n",
      "boundary_indices: [(1440, 2757)]\n"
     ]
    }
   ],
   "source": [
    "def reverse_complement(sequence):\n",
    "    complement_seq = \"\"\n",
    "    complement_dict = {'A': 'T', 'C': 'G', 'G': 'C', 'T': 'A'}\n",
    "    for letter in sequence:\n",
    "        complement_seq += complement_dict[letter]\n",
    "    return complement_seq[::-1]\n",
    "\n",
    "def find_start_end(gene, variant):\n",
    "    # using find to find the start index\n",
    "    # start index + length of gene to find the end index\n",
    "    indices = []\n",
    "    count = 0\n",
    "    index = variant.find(gene)\n",
    "    # print(f'index before entering while loop: {index}')\n",
    "    while index >= 0:\n",
    "        # print(f'entered while loop')\n",
    "        indices.append((index+1, index+len(gene)+1))  # bp locations of genes reported by databases start from 1\n",
    "        count += 1\n",
    "        if count % 10:\n",
    "            print(f'found at index {index}, len(variant): {len(variant)}')\n",
    "        index = variant.find(gene, index + len(gene))\n",
    "    return indices\n",
    "\n",
    "sequence = shmt[2340:3657]\n",
    "variant = forrest_sequence\n",
    "gene = reverse_complement(sequence)\n",
    "boundary_indices = find_start_end(gene, variant)\n",
    "print(f'boundary_indices: {boundary_indices}')"
   ]
  },
  {
   "cell_type": "markdown",
   "metadata": {},
   "source": [
    "#### Found the Forrest Serine hydroxymethyltransferase (SHMT) gene. It is where we expected it to be in the Forrest sequence."
   ]
  },
  {
   "cell_type": "markdown",
   "metadata": {},
   "source": [
    "### Performing the searches for start and for stop codons to confirm the location of the coding sequence of Forrest SHMT. We also know that the first index returned by the find_start_end function has to match up with the first index found by the find_start_codon function."
   ]
  },
  {
   "cell_type": "code",
   "execution_count": 1,
   "metadata": {},
   "outputs": [
    {
     "name": "stdout",
     "output_type": "stream",
     "text": [
      "length of ATG codon indices: 1882, ATG_codon_indices[:10]: [1551, 1583, 1710, 1790, 1865, 1927, 1992, 2027, 2131, 2157]\n"
     ]
    }
   ],
   "source": [
    "# why ATG as the codon?\n",
    "\n",
    "def read_file(input_name):\n",
    "    sequence = ''\n",
    "    with open(input_name) as input_file:\n",
    "        input_file.readline()\n",
    "        while True:\n",
    "            seq = input_file.readline().strip()\n",
    "            if len(seq) == 0:\n",
    "                break\n",
    "            sequence += seq\n",
    "    return sequence\n",
    "\n",
    "# finding start codon\n",
    "def find_start_codon(codon, variant, offset):\n",
    "    # using find to find the codon index\n",
    "    # codon index + length of gene to find the end index\n",
    "    indices = []\n",
    "    count = 0\n",
    "    index = variant.find(codon)\n",
    "    while index >= 0:\n",
    "        indices.append(index+offset+1)  # bp locations of genes reported by databases codon from 1\n",
    "        count += 1\n",
    "        # if count % 10:\n",
    "        #     print(f'found at index {index}, len(variant): {len(variant)}')\n",
    "        index = variant.find(codon, index+len(codon))\n",
    "    return indices\n",
    "\n",
    "input_name = 'Forrest B100B10 BAC sequence Rhg4.txt'\n",
    "codon = 'ATG'\n",
    "variant = read_file(input_name)\n",
    "offset = 1439\n",
    "ATG_codon_indices = find_start_codon(codon, variant, offset)\n",
    "print(f'length of ATG codon indices: {len(ATG_codon_indices)}, ATG_codon_indices[:10]: {ATG_codon_indices[:10]}')"
   ]
  },
  {
   "cell_type": "code",
   "execution_count": 1,
   "metadata": {},
   "outputs": [
    {
     "name": "stdout",
     "output_type": "stream",
     "text": [
      "length of ATG codon indices: 1236, ATG_codon_indices[:10]: [1725, 1904, 2023, 2281, 2293, 2482, 2619, 2701, 2818, 2824]\n"
     ]
    }
   ],
   "source": [
    "# other strand of DNA\n",
    "def read_file(input_name):\n",
    "    sequence = ''\n",
    "    with open(input_name) as input_file:\n",
    "        input_file.readline()\n",
    "        while True:\n",
    "            seq = input_file.readline().strip()\n",
    "            if len(seq) == 0:\n",
    "                break\n",
    "            sequence += seq\n",
    "    return sequence\n",
    "\n",
    "# finding start codon\n",
    "def find_start_codon(codon, variant, offset):\n",
    "    # using find to find the codon index\n",
    "    # codon index + length of gene to find the end index\n",
    "    indices = []\n",
    "    count = 0\n",
    "    index = variant.find(codon)\n",
    "    while index >= 0:\n",
    "        indices.append(index+offset+1)  # bp locations of genes reported by databases codon from 1\n",
    "        count += 1\n",
    "        # if count % 10:\n",
    "        #     print(f'found at index {index}, len(variant): {len(variant)}')\n",
    "        index = variant.find(codon, index+len(codon))\n",
    "    return indices\n",
    "\n",
    "input_name = 'Forrest B100B10 BAC sequence Rhg4.txt'\n",
    "codon = 'TAG'\n",
    "variant = read_file(input_name)\n",
    "offset = 1439\n",
    "TAG_codon_indices = find_start_codon(codon, variant, offset)\n",
    "print(f'length of ATG codon indices: {len(TAG_codon_indices)}, ATG_codon_indices[:10]: {TAG_codon_indices[:10]}')"
   ]
  },
  {
   "cell_type": "markdown",
   "metadata": {},
   "source": [
    "##### So far we're not finding the ATG start codon where it should be, but several things could be at play here. I am using both Python and bioinformatics tools to investigate."
   ]
  },
  {
   "cell_type": "markdown",
   "metadata": {},
   "source": [
    "#### Need for complement"
   ]
  },
  {
   "cell_type": "code",
   "execution_count": 7,
   "metadata": {},
   "outputs": [
    {
     "name": "stdout",
     "output_type": "stream",
     "text": [
      "codon: CAT\n",
      "length of TAC codon indices: 12\n",
      "start_codon_indices[-1:-11:-1]: []\n"
     ]
    }
   ],
   "source": [
    "def read_file(input_name):\n",
    "    sequence = ''\n",
    "    with open(input_name) as input_file:\n",
    "        input_file.readline()\n",
    "        while True:\n",
    "            seq = input_file.readline().strip()\n",
    "            if len(seq) == 0:\n",
    "                break\n",
    "            sequence += seq\n",
    "    return sequence\n",
    "\n",
    "def reverse_complement(sequence):\n",
    "    complement_seq = \"\"\n",
    "    complement_dict = {'A': 'T', 'C': 'G', 'G': 'C', 'T': 'A'}\n",
    "    for letter in sequence:\n",
    "        complement_seq += complement_dict[letter.upper()]\n",
    "    return complement_seq[::-1]\n",
    "\n",
    "# finding start codon\n",
    "def find_start_codon(codon, variant, offset):\n",
    "    # using find to find the codon index\n",
    "    # codon index + length of gene to find the end index\n",
    "    indices = []\n",
    "    count = 0\n",
    "    index = variant.find(codon)\n",
    "    while index >= 0:\n",
    "        indices.append(offset+index+1)  # bp locations of genes reported by databases codon from 1\n",
    "        count += 1\n",
    "        # if count % 10:\n",
    "        #     print(f'found at index {index}, len(variant): {len(variant)}')\n",
    "        index = variant.find(codon, index+len(codon))\n",
    "    return indices\n",
    "\n",
    "input_name = 'Forrest B100B10 BAC sequence Rhg4.txt'\n",
    "codon = reverse_complement('ATG')\n",
    "print(f'codon: {codon}')\n",
    "variant = read_file(input_name)\n",
    "offset = 1439\n",
    "start_codon_indices = find_start_codon(codon, variant[offset:2757+1], offset)\n",
    "print(f'length of TAC codon indices: {len(start_codon_indices)}')\n",
    "print(f'start_codon_indices[-1:-11:-1]: {start_codon_indices[-1:11:-1]}')"
   ]
  },
  {
   "cell_type": "code",
   "execution_count": 1,
   "metadata": {},
   "outputs": [
    {
     "name": "stdout",
     "output_type": "stream",
     "text": [
      "codon: CAT\n",
      "length of TAC codon indices: 12\n",
      "TAC codon indices: [1467, 1636, 1768, 1938, 1999, 2110, 2383, 2541, 2569, 2666, 2697, 2755]\n"
     ]
    }
   ],
   "source": [
    "def read_file(input_name):\n",
    "    sequence = ''\n",
    "    with open(input_name) as input_file:\n",
    "        input_file.readline()\n",
    "        while True:\n",
    "            seq = input_file.readline().strip()\n",
    "            if len(seq) == 0:\n",
    "                break\n",
    "            sequence += seq\n",
    "    return sequence\n",
    "\n",
    "def reverse_complement(sequence):\n",
    "    complement_seq = \"\"\n",
    "    complement_dict = {'A': 'T', 'C': 'G', 'G': 'C', 'T': 'A'}\n",
    "    for letter in sequence:\n",
    "        complement_seq += complement_dict[letter.upper()]\n",
    "    return complement_seq[::-1]\n",
    "\n",
    "# finding start codon\n",
    "def find_start_codon(codon, variant, offset):\n",
    "    # using find to find the codon index\n",
    "    # codon index + length of gene to find the end index\n",
    "    indices = []\n",
    "    count = 0\n",
    "    index = variant.find(codon)\n",
    "    while index >= 0:\n",
    "        indices.append(offset+index+1)  # bp locations of genes reported by databases codon from 1\n",
    "        count += 1\n",
    "        # if count % 10:\n",
    "        #     print(f'found at index {index}, len(variant): {len(variant)}')\n",
    "        index = variant.find(codon, index+len(codon))\n",
    "    return indices\n",
    "\n",
    "input_name = 'Forrest B100B10 BAC sequence Rhg4.txt'\n",
    "codon = reverse_complement('ATG')\n",
    "print(f'codon: {codon}')\n",
    "variant = read_file(input_name)\n",
    "offset = 1440\n",
    "start_codon_indices = find_start_codon(codon, variant[offset:2757+1], offset)\n",
    "print(f'length of TAC codon indices: {len(start_codon_indices)}')\n",
    "print(f'TAC codon indices: {start_codon_indices}')\n",
    "# print(f'start_codon_indices[-1:-11:-1]: {start_codon_indices[-1:11:-1]}')"
   ]
  },
  {
   "cell_type": "code",
   "execution_count": 14,
   "metadata": {},
   "outputs": [
    {
     "name": "stdout",
     "output_type": "stream",
     "text": [
      "codon: TAC\n",
      "TAC codon indices: [1469, 1638, 1770, 1940, 2001, 2112, 2385, 2543, 2571, 2668, 2699, 2757]\n"
     ]
    }
   ],
   "source": [
    "# accounting for the beginning of the codon being 2 position beyond the index returned\n",
    "\n",
    "def read_file(input_name):\n",
    "    sequence = ''\n",
    "    with open(input_name) as input_file:\n",
    "        input_file.readline()\n",
    "        while True:\n",
    "            seq = input_file.readline().strip()\n",
    "            if len(seq) == 0:\n",
    "                break\n",
    "            sequence += seq\n",
    "    return sequence\n",
    "\n",
    "def reverse_complement(sequence):\n",
    "    complement_seq = \"\"\n",
    "    complement_dict = {'A': 'T', 'C': 'G', 'G': 'C', 'T': 'A'}\n",
    "    for letter in sequence:\n",
    "        complement_seq += complement_dict[letter.upper()]\n",
    "    return complement_seq[::-1]\n",
    "\n",
    "# finding start codon\n",
    "def find_start_codon(codon, variant, offset):\n",
    "    # using find to find the codon index\n",
    "    # codon index + length of gene to find the end index\n",
    "    indices = []\n",
    "    count = 0\n",
    "    index = variant.find(codon)\n",
    "    while index >= 0:\n",
    "        indices.append(2+offset+index+1)  # databases count from 1, adding 2 for the actual start of the codon\n",
    "        count += 1\n",
    "        # if count % 10:\n",
    "        #     print(f'found at index {index}, len(variant): {len(variant)}')\n",
    "        index = variant.find(codon, index+len(codon))\n",
    "    return indices\n",
    "\n",
    "input_name = 'Forrest B100B10 BAC sequence Rhg4.txt'\n",
    "codon = reverse_complement('ATG')\n",
    "print(f'codon: {codon[::-1]}')\n",
    "variant = read_file(input_name)\n",
    "offset = 1440\n",
    "start_codon_indices = find_start_codon(codon, variant[offset:2757+1], offset)\n",
    "print(f'TAC codon indices: {start_codon_indices}')"
   ]
  },
  {
   "cell_type": "code",
   "execution_count": null,
   "metadata": {},
   "outputs": [],
   "source": [
    "# finding the gene's stop codon recursively - not much use: not recursive by nature\n",
    "\n",
    "def find_stop_codon_iter(codons, variant, offset):\n",
    "    indices = []\n",
    "    for codon in codons:\n",
    "        index = find_stop_codon_recurisve(codon, variant, offset)\n",
    "        if index >= 0:\n",
    "            indices.append(index+1)  # plus 1 because biological databases start count from 1, not 0\n",
    "    return indices\n",
    "\n",
    "def find_stop_codon_recursive(codon, variant, offset):\n",
    "    # breaking recursion: if indices for stop codon is -1\n",
    "    index = variant.find(codon, offset)\n",
    "    if index == -1:\n",
    "        return index\n",
    "\n",
    "codons = ['TAA', 'TAG', 'TGA']\n",
    "variant = forrest_sequence\n",
    "offset = 1440"
   ]
  },
  {
   "cell_type": "code",
   "execution_count": 12,
   "metadata": {},
   "outputs": [
    {
     "name": "stdout",
     "output_type": "stream",
     "text": [
      "indices of stop codons[:10]: [1445, 1471, 1482, 1551, 1557, 1642, 1803, 1824, 1920, 1940]\n",
      "length of stop_indices: 6009\n",
      "stop codon at 1445: TGA\n"
     ]
    }
   ],
   "source": [
    "# finding the gene's stop codon - iterative algorithm: finds stop codon where indeed it is\n",
    "\n",
    "def read_file(input_name):\n",
    "    sequence = ''\n",
    "    with open(input_name) as input_file:\n",
    "        input_file.readline()\n",
    "        while True:\n",
    "            seq = input_file.readline().strip()\n",
    "            if len(seq) == 0:\n",
    "                break\n",
    "            sequence += seq\n",
    "    return sequence\n",
    "\n",
    "def find_stop_codon(codons, variant, offset):\n",
    "    indices = []\n",
    "    for codon in codons:\n",
    "        index = variant.find(codon, offset)\n",
    "        while index >= 0:\n",
    "            indices.append(index+1)  # plus 1 because biological databases start count from 1, not 0\n",
    "            index = variant.find(codon, index+len(codon))\n",
    "    return indices\n",
    "\n",
    "input_name = 'Forrest B100B10 BAC sequence Rhg4.txt'\n",
    "codons = ['TAA', 'TAG', 'TGA']\n",
    "variant = read_file(input_name)\n",
    "offset = 1439\n",
    "stop_indices = find_stop_codon(codons, variant, offset)\n",
    "print(f'indices of stop codons[:10]: {stop_indices[:10]}')\n",
    "print(f'length of stop_indices: {len(stop_indices)}')\n",
    "print(f'stop codon at 1445: {variant[1444:1441:-1]}')"
   ]
  },
  {
   "cell_type": "markdown",
   "metadata": {},
   "source": [
    "### Found gene and its start and stop codons where they are. Do the sequences from the susceptible cultivars have the Forrest SHMT gene?"
   ]
  },
  {
   "cell_type": "code",
   "execution_count": 16,
   "metadata": {},
   "outputs": [
    {
     "name": "stdout",
     "output_type": "stream",
     "text": [
      "First 50 nucleotides of Williams sequence: AAGCTTGCATGCTTTCTGGTTTCCTTGCCAATCACTGCATGGAACAATCT\n"
     ]
    }
   ],
   "source": [
    "def read_file(input_name):\n",
    "    sequence = ''\n",
    "    with open(input_name) as input_file:\n",
    "        input_file.readline()\n",
    "        while True:\n",
    "            seq = input_file.readline().strip()\n",
    "            if len(seq) == 0:\n",
    "                break\n",
    "            sequence += seq\n",
    "    return sequence\n",
    "\n",
    "input_name = 'Williams 82 BAC 56G2 sequence.txt'\n",
    "williams_sequence = read_file(input_name)\n",
    "print(f'First 50 nucleotides of Williams sequence: {williams_sequence[:50]}')"
   ]
  },
  {
   "cell_type": "code",
   "execution_count": 17,
   "metadata": {},
   "outputs": [
    {
     "name": "stdout",
     "output_type": "stream",
     "text": [
      "First 50 nucleotides of Asgrow sequence: AATCCCTCTTTAGTTAGCTAGTAACATCTCCCTTGTTCTTATATATAATC\n"
     ]
    }
   ],
   "source": [
    "def read_file(input_name):\n",
    "    sequence = ''\n",
    "    with open(input_name) as input_file:\n",
    "        input_file.readline()\n",
    "        while True:\n",
    "            seq = input_file.readline().strip()\n",
    "            if len(seq) == 0:\n",
    "                break\n",
    "            sequence += seq\n",
    "    return sequence\n",
    "\n",
    "input_name = 'Asgrow sequence.txt'\n",
    "asgrow_sequence = read_file(input_name)\n",
    "print(f'First 50 nucleotides of Asgrow sequence: {asgrow_sequence[:50]}')"
   ]
  },
  {
   "cell_type": "code",
   "execution_count": 19,
   "metadata": {},
   "outputs": [
    {
     "name": "stdout",
     "output_type": "stream",
     "text": [
      "boundaries of Forrest SHMT gene in Williams sequence: []\n"
     ]
    }
   ],
   "source": [
    "def find_start_end(gene, variant):\n",
    "    # using find to find the start index\n",
    "    # start index + length of gene to find the end index\n",
    "    indices = []\n",
    "    count = 0\n",
    "    index = variant.find(gene)\n",
    "    # print(f'index before entering while loop: {index}')\n",
    "    while index >= 0:\n",
    "        # print(f'entered while loop')\n",
    "        indices.append((index+1, index+len(gene)+1))  # bp locations of genes reported by databases start from 1\n",
    "        count += 1\n",
    "        if count % 10:\n",
    "            print(f'found at index {index}, len(variant): {len(variant)}')\n",
    "        index = variant.find(gene, index + len(gene))\n",
    "    return indices\n",
    "\n",
    "gene = shmt\n",
    "variant = williams_sequence\n",
    "gene_boundaries = find_start_end(gene, variant)\n",
    "print(f'boundaries of Forrest SHMT gene in Williams sequence: {gene_boundaries}')"
   ]
  }
 ],
 "metadata": {
  "kernelspec": {
   "display_name": "Python 3",
   "language": "python",
   "name": "python3"
  },
  "language_info": {
   "codemirror_mode": {
    "name": "ipython",
    "version": 3
   },
   "file_extension": ".py",
   "mimetype": "text/x-python",
   "name": "python",
   "nbconvert_exporter": "python",
   "pygments_lexer": "ipython3",
   "version": "3.8.5"
  }
 },
 "nbformat": 4,
 "nbformat_minor": 4
}
