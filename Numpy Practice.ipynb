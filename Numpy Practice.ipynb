{
 "cells": [
  {
   "cell_type": "code",
   "execution_count": 1,
   "metadata": {},
   "outputs": [
    {
     "name": "stdout",
     "output_type": "stream",
     "text": [
      "L: [0, 1, 2, 3, 4, 5, 6, 7, 8, 9]\n",
      "A: array('i', [0, 1, 2, 3, 4, 5, 6, 7, 8, 9])\n"
     ]
    }
   ],
   "source": [
    "import array\n",
    "\n",
    "L = list(range(10))\n",
    "A = array.array(\"i\", L)\n",
    "print(f\"L:\", L)\n",
    "print(f\"A:\", A)"
   ]
  },
  {
   "cell_type": "code",
   "execution_count": 2,
   "metadata": {},
   "outputs": [
    {
     "name": "stdout",
     "output_type": "stream",
     "text": [
      "a: [1 4 2 5 3]\n"
     ]
    }
   ],
   "source": [
    "import numpy as np\n",
    "\n",
    "a = np.array([1, 4, 2, 5, 3])\n",
    "print(f\"a:\", a)"
   ]
  },
  {
   "cell_type": "code",
   "execution_count": 3,
   "metadata": {},
   "outputs": [
    {
     "name": "stdout",
     "output_type": "stream",
     "text": [
      "ar: [ 3.14  4.    2.    3.  ]\n"
     ]
    }
   ],
   "source": [
    "ar = np.array([3.14, 4, 2, 3])\n",
    "print(f\"ar:\", ar)  # python upcasts if possible when types do not match"
   ]
  },
  {
   "cell_type": "code",
   "execution_count": 4,
   "metadata": {},
   "outputs": [
    {
     "name": "stdout",
     "output_type": "stream",
     "text": [
      "arr: [ 1.  2.  3.  4.]\n"
     ]
    }
   ],
   "source": [
    "arr = np.array([1, 2, 3, 4], dtype=\"float32\")\n",
    "print(f\"arr:\", arr)"
   ]
  },
  {
   "cell_type": "code",
   "execution_count": 5,
   "metadata": {},
   "outputs": [
    {
     "name": "stdout",
     "output_type": "stream",
     "text": [
      "new_a: [[2 3 4]\n",
      " [4 5 6]\n",
      " [6 7 8]]\n",
      "\n",
      "[[2 3 4]\n",
      " [4 5 6]\n",
      " [6 7 8]]\n"
     ]
    }
   ],
   "source": [
    "new_a = np.array([range(i, i + 3) for i in [2, 4, 6]])\n",
    "print(f\"new_a:\", new_a)\n",
    "print()\n",
    "print(new_a)"
   ]
  }
 ],
 "metadata": {
  "kernelspec": {
   "display_name": "Python 3",
   "language": "python",
   "name": "python3"
  },
  "language_info": {
   "codemirror_mode": {
    "name": "ipython",
    "version": 3
   },
   "file_extension": ".py",
   "mimetype": "text/x-python",
   "name": "python",
   "nbconvert_exporter": "python",
   "pygments_lexer": "ipython3",
   "version": "3.6.1"
  }
 },
 "nbformat": 4,
 "nbformat_minor": 2
}
