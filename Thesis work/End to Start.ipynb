{
 "cells": [
  {
   "cell_type": "code",
   "execution_count": 1,
   "metadata": {},
   "outputs": [
    {
     "name": "stdout",
     "output_type": "stream",
     "text": [
      "first 50 nucleotides of Forrest sequence: CCCTCGCGAGTTGGTTCAGCTGCTGCCTGAGGCTGGACGACCTCGCGGAG\n"
     ]
    }
   ],
   "source": [
    "def read_file(input_name):\n",
    "    input_file = open(input_name)\n",
    "    sequence = ''\n",
    "    input_file.readline().strip()\n",
    "    while True:\n",
    "        seq = input_file.readline().strip()\n",
    "        if len(seq) == 0:\n",
    "            break\n",
    "        sequence += seq\n",
    "    return sequence\n",
    "\n",
    "input_name = 'Forrest B100B10 BAC sequence Rhg4.txt'\n",
    "forrest_seq = read_file(input_name)\n",
    "print(f'first 50 nucleotides of Forrest sequence: {forrest_seq[:50]}')"
   ]
  },
  {
   "cell_type": "code",
   "execution_count": 2,
   "metadata": {},
   "outputs": [
    {
     "name": "stdout",
     "output_type": "stream",
     "text": [
      "first 50 nucleotides (Asgrow seq): TAGCATCTTCTTAGACCTCATTATCTTGTTAAACAACTTTGTGAACCAGG\n"
     ]
    }
   ],
   "source": [
    "def read_file(input_name):\n",
    "    input_file = open(input_name)\n",
    "    sequence = ''\n",
    "    input_file.readline().strip()\n",
    "    while True:\n",
    "        seq = input_file.readline().strip()\n",
    "        if len(seq) == 0:\n",
    "            break\n",
    "        sequence += seq\n",
    "    return sequence\n",
    "\n",
    "input_name = 'Asgrow sequence.txt'\n",
    "asgrow_seq = read_file(input_name)\n",
    "print(f'first 50 nucleotides (Asgrow seq): {asgrow_seq[:50]}')"
   ]
  },
  {
   "cell_type": "code",
   "execution_count": 3,
   "metadata": {},
   "outputs": [
    {
     "name": "stdout",
     "output_type": "stream",
     "text": [
      "first 50 nucleotides of Williams sequence: AAGCTTGCATGCTTTCTGGTTTCCTTGCCAATCACTGCATGGAACAATCT\n"
     ]
    }
   ],
   "source": [
    "def read_file(input_name):\n",
    "    input_file = open(input_name)\n",
    "    sequence = ''\n",
    "    input_file.readline().strip()\n",
    "    while True:\n",
    "        seq = input_file.readline().strip()\n",
    "        if len(seq) == 0:\n",
    "            break\n",
    "        sequence += seq\n",
    "    return sequence\n",
    "\n",
    "input_name = 'Williams 82 BAC 56G2 sequence.txt'\n",
    "williams_seq = read_file(input_name)\n",
    "print(f'first 50 nucleotides of Williams sequence: {williams_seq[:50]}')"
   ]
  }
 ],
 "metadata": {
  "kernelspec": {
   "display_name": "Python 3",
   "language": "python",
   "name": "python3"
  },
  "language_info": {
   "codemirror_mode": {
    "name": "ipython",
    "version": 3
   },
   "file_extension": ".py",
   "mimetype": "text/x-python",
   "name": "python",
   "nbconvert_exporter": "python",
   "pygments_lexer": "ipython3",
   "version": "3.8.5"
  }
 },
 "nbformat": 4,
 "nbformat_minor": 4
}
