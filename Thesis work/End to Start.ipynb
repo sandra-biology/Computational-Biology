{
 "cells": [
  {
   "cell_type": "code",
   "execution_count": 2,
   "metadata": {},
   "outputs": [
    {
     "name": "stdout",
     "output_type": "stream",
     "text": [
      "First 50 nucleotides of Forrest sequence: CCCTCGCGAGTTGGTTCAGCTGCTGCCTGAGGCTGGACGACCTCGCGGAG\n"
     ]
    }
   ],
   "source": [
    "def read_file(input_name):\n",
    "    sequence = ''\n",
    "    with open(input_name) as input_file:\n",
    "        input_file.readline()\n",
    "        while True:\n",
    "            seq = input_file.readline().strip()\n",
    "            if len(seq) == 0:\n",
    "                break\n",
    "            sequence += seq\n",
    "    return sequence\n",
    "\n",
    "input_name = 'Forrest B100B10 BAC sequence Rhg4.txt'\n",
    "forrest_sequence = read_file(input_name)\n",
    "print(f'First 50 nucleotides of Forrest sequence: {forrest_sequence[:50]}')"
   ]
  },
  {
   "cell_type": "code",
   "execution_count": 4,
   "metadata": {},
   "outputs": [
    {
     "name": "stdout",
     "output_type": "stream",
     "text": [
      "First 50 nucleotides of Asgrow sequence: AATCCCTCTTTAGTTAGCTAGTAACATCTCCCTTGTTCTTATATATAATC\n"
     ]
    }
   ],
   "source": [
    "def read_file(input_name):\n",
    "    sequence = ''\n",
    "    with open(input_name) as input_file:\n",
    "        input_file.readline()\n",
    "        while True:\n",
    "            seq = input_file.readline().strip()\n",
    "            if len(seq) == 0:\n",
    "                break\n",
    "            sequence += seq\n",
    "    return sequence\n",
    "\n",
    "input_name = 'Asgrow sequence.txt'\n",
    "asgrow_sequence = read_file(input_name)\n",
    "print(f'First 50 nucleotides of Asgrow sequence: {asgrow_sequence[:50]}')"
   ]
  },
  {
   "cell_type": "code",
   "execution_count": 5,
   "metadata": {},
   "outputs": [
    {
     "name": "stdout",
     "output_type": "stream",
     "text": [
      "First 50 nucleotides of Williams 82 sequence: AAGCTTGCATGCTTTCTGGTTTCCTTGCCAATCACTGCATGGAACAATCT\n"
     ]
    }
   ],
   "source": [
    "def read_file(input_name):\n",
    "    sequence = ''\n",
    "    with open(input_name) as input_file:\n",
    "        input_file.readline()\n",
    "        while True:\n",
    "            seq = input_file.readline().strip()\n",
    "            if len(seq) == 0:\n",
    "                break\n",
    "            sequence += seq\n",
    "    return sequence\n",
    "\n",
    "input_name = 'Williams 82 BAC 56G2 sequence.txt'\n",
    "williams_sequence = read_file(input_name)\n",
    "print(f'First 50 nucleotides of Williams 82 sequence: {williams_sequence[:50]}')"
   ]
  }
 ],
 "metadata": {
  "kernelspec": {
   "display_name": "Python 3",
   "language": "python",
   "name": "python3"
  },
  "language_info": {
   "codemirror_mode": {
    "name": "ipython",
    "version": 3
   },
   "file_extension": ".py",
   "mimetype": "text/x-python",
   "name": "python",
   "nbconvert_exporter": "python",
   "pygments_lexer": "ipython3",
   "version": "3.8.5"
  }
 },
 "nbformat": 4,
 "nbformat_minor": 4
}
