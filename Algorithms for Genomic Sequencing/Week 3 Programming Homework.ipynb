{
 "cells": [
  {
   "cell_type": "code",
   "execution_count": 17,
   "metadata": {},
   "outputs": [
    {
     "name": "stdout",
     "output_type": "stream",
     "text": [
      "length of p: 8, length of t: 16\n"
     ]
    },
    {
     "data": {
      "text/plain": [
       "8"
      ]
     },
     "execution_count": 17,
     "metadata": {},
     "output_type": "execute_result"
    }
   ],
   "source": [
    "def editDistance(x, y):\n",
    "    D = []\n",
    "    for i in range(len(x) + 1):\n",
    "        D.append([0] * (len(y) + 1))\n",
    "    \n",
    "    for i in range(len(x)):\n",
    "        D[i][0] = i\n",
    "    for i in range(len(y)):\n",
    "        D[0][i] = i\n",
    "\n",
    "    for i in range(1, len(x) + 1):\n",
    "        for j in range(1, len(y) + 1):\n",
    "            distHor = D[i][j-1] + 1\n",
    "            distVer = D[i-1][j] + 1\n",
    "            if x[i-1] == y[j-1]:\n",
    "                distDiag = D[i-1][j-1]\n",
    "            else:\n",
    "                distDiag = D[i-1][j-1] + 1\n",
    "\n",
    "            D[i][j] = min(distHor, distVer, distDiag)\n",
    "    \n",
    "    # edit distance is the value in the bottom right corner of the table/bottom right cell of the array\n",
    "    return D[-1][-1]\n",
    "\n",
    "p = \"GCGTATGC\"\n",
    "t = \"TATTGGCTATACGGTT\"\n",
    "print(f\"length of p: {len(p)}, length of t: {len(t)}\")\n",
    "editDistance(p, t)"
   ]
  },
  {
   "cell_type": "code",
   "execution_count": 23,
   "metadata": {},
   "outputs": [
    {
     "name": "stdout",
     "output_type": "stream",
     "text": [
      "length of p: 8, length of t: 16\n",
      "distance: (2, [8, 7, 6, 5, 5, 5, 5, 5, 5, 4, 3, 3, 2, 3, 4, 5, 4])\n",
      "edit distance: 8\n"
     ]
    }
   ],
   "source": [
    "def editDistance_min(x, y):\n",
    "    # Create distance matrix\n",
    "    D = []\n",
    "    for i in range(len(x)+1):\n",
    "        D.append([0]*(len(y)+1))\n",
    "    # Initialize first row and column of matrix\n",
    "    for i in range(len(x) + 1):\n",
    "        D[i][0] = i\n",
    "    for i in range(len(y) + 1):\n",
    "        D[0][i] = 0\n",
    "    # Fill in the rest of the matrix\n",
    "    for i in range(1, len(x)+1):\n",
    "        for j in range(1, len(y)+1):\n",
    "            distHor = D[i][j-1] + 1\n",
    "            distVer = D[i-1][j] + 1\n",
    "            if x[i-1] == y[j-1]:\n",
    "                distDiag = D[i-1][j-1]\n",
    "            else:\n",
    "                distDiag = D[i-1][j-1] + 1\n",
    "            D[i][j] = min(distHor, distVer, distDiag)\n",
    "    \n",
    "    # Edit distance is the value in the bottom right corner of the matrix\n",
    "    return min(D[-1]), D[-1]\n",
    "\n",
    "p = \"GCGTATGC\"\n",
    "t = \"TATTGGCTATACGGTT\"\n",
    "# p = 'shake spea'\n",
    "# t = 'Shakespear'\n",
    "print(f\"length of p: {len(p)}, length of t: {len(t)}\")\n",
    "distance = editDistance_min(p, t)\n",
    "print(f\"distance: {distance}\")\n",
    "edit_dist = editDistance(p, t)\n",
    "print(f\"edit distance: {edit_dist}\")"
   ]
  },
  {
   "cell_type": "code",
   "execution_count": 24,
   "metadata": {
    "collapsed": true
   },
   "outputs": [],
   "source": [
    "def readGenome(filename):\n",
    "    genome = \"\"\n",
    "    with open(filename, \"r\") as f:\n",
    "        for line in f:\n",
    "            if not line[0] == \">\":\n",
    "                genome += line.rstrip()\n",
    "    return genome\n",
    "\n",
    "filename = \"chr1.GRCh38.excerpt.fasta\"\n",
    "genome = readGenome(filename)"
   ]
  },
  {
   "cell_type": "code",
   "execution_count": 26,
   "metadata": {},
   "outputs": [
    {
     "name": "stdout",
     "output_type": "stream",
     "text": [
      "distance: 3\n"
     ]
    }
   ],
   "source": [
    "# question 1\n",
    "def editDistance_min(x, y):\n",
    "    # Create distance matrix\n",
    "    D = []\n",
    "    for i in range(len(x)+1):\n",
    "        D.append([0]*(len(y)+1))\n",
    "    # Initialize first row and column of matrix\n",
    "    for i in range(len(x) + 1):\n",
    "        D[i][0] = i\n",
    "    for i in range(len(y) + 1):\n",
    "        D[0][i] = 0\n",
    "    # Fill in the rest of the matrix\n",
    "    for i in range(1, len(x)+1):\n",
    "        for j in range(1, len(y)+1):\n",
    "            distHor = D[i][j-1] + 1\n",
    "            distVer = D[i-1][j] + 1\n",
    "            if x[i-1] == y[j-1]:\n",
    "                distDiag = D[i-1][j-1]\n",
    "            else:\n",
    "                distDiag = D[i-1][j-1] + 1\n",
    "            D[i][j] = min(distHor, distVer, distDiag)\n",
    "    \n",
    "    # Edit distance is the value in the bottom right corner of the matrix\n",
    "    return min(D[-1])\n",
    "\n",
    "p = \"GCTGATCGATCGTACG\"\n",
    "t = genome\n",
    "distance = editDistance_min(p, t)\n",
    "print(f\"distance: {distance}\")"
   ]
  },
  {
   "cell_type": "code",
   "execution_count": 27,
   "metadata": {},
   "outputs": [
    {
     "name": "stdout",
     "output_type": "stream",
     "text": [
      "distance: 2\n"
     ]
    }
   ],
   "source": [
    "# question 2\n",
    "p = \"GATTTACCAGATTGAG\"\n",
    "t = genome\n",
    "distance = editDistance_min(p, t)\n",
    "print(f\"distance: {distance}\")"
   ]
  },
  {
   "cell_type": "code",
   "execution_count": 5,
   "metadata": {},
   "outputs": [
    {
     "name": "stdout",
     "output_type": "stream",
     "text": [
      "['TAAACAAGCAGTAGTAATTCCTGCTTTATCAAGATAATTTTTCGACTCATCAGAAATATCCGAAAGTGTTAACTTCTGCGTCATGGAAGCGATAAAACTC', 'AACAAGCAGTAGTAATTCCTGCTTTATCAAGATAATTTTTCGACTCATCAGAAATATACGAAAGTGTTAACTTCTGCGTCATGGACACGAAAAAACTCCC', 'AACAAGCAGTAGTAATTCCTGCTTTATCAAGATAATTTTTCGACTCATCAGAAATATCCGAAAGTGTTAACTTCTGCGTCATGGAAGCGATAAAACTCTG', 'AGCCGACGTTTTGGCGGCGCAACCTGTGACGACAAATCTGCTCAAATTTATGCGCGCTTCGATAAAAATGATTGGCGTATCCAACCTGCAGAGTTTTATC', 'GACAAATCTGCTCAAATTTATGCGCGCTTCGATAAAAATGATTGGCGTATCCAACCTGCAGAGTTTTATCGCTTCCATGACGCAGAAGTTAACACTTTCG']\n",
      "10000\n"
     ]
    }
   ],
   "source": [
    "def readFastq(filename):\n",
    "    sequences = []\n",
    "    qualities = []\n",
    "    with open(filename) as fh:\n",
    "        while True:\n",
    "            fh.readline()\n",
    "            seq = fh.readline().rstrip()\n",
    "            fh.readline()\n",
    "            qual = fh.readline().rstrip()\n",
    "            if len(seq) == 0:\n",
    "                break\n",
    "            sequences.append(seq)\n",
    "            qualities.append(qual)\n",
    "    return sequences\n",
    "\n",
    "sequences = readFastq(\"ERR266411_1.for_asm.fastq\")\n",
    "print(sequences[:5])\n",
    "print(len(sequences))"
   ]
  },
  {
   "cell_type": "code",
   "execution_count": 11,
   "metadata": {
    "collapsed": true
   },
   "outputs": [],
   "source": [
    "# f = open(\"homework_sequences.txt\", \"w\")\n",
    "\n",
    "with open(\"homework_sequences.txt\", \"w\") as f:\n",
    "    for sequence in sequences:\n",
    "        f.write(sequence + \"\\n\")"
   ]
  },
  {
   "cell_type": "code",
   "execution_count": 17,
   "metadata": {},
   "outputs": [
    {
     "name": "stdout",
     "output_type": "stream",
     "text": [
      "0\n"
     ]
    }
   ],
   "source": [
    "for sequence in sequences:\n",
    "    count = sequences.count(sequence[-30:])\n",
    "print(count)"
   ]
  },
  {
   "cell_type": "code",
   "execution_count": null,
   "metadata": {
    "collapsed": true
   },
   "outputs": [],
   "source": [
    "# question 3\n",
    "\n",
    "from collections import defaultdict\n",
    "\n",
    "def overlap(a, b, min_length=3):\n",
    "    \"\"\" Return length of longest suffix of 'a' matching\n",
    "        a prefix of 'b' that is at least 'min_length'\n",
    "        characters long.  If no such overlap exists,\n",
    "        return 0. \"\"\"\n",
    "    start = 0  # start all the way at the left\n",
    "    while True:\n",
    "        start = a.find(b[:min_length], start)  # look for b's prefix in a\n",
    "        if start == -1:  # no more occurrences to right\n",
    "            return 0\n",
    "        # found occurrence; check for full suffix/prefix match\n",
    "        if b.startswith(a[start:]):\n",
    "            return len(a)-start\n",
    "        start += 1  # move just past previous match\n",
    "\n",
    "def overlap_all_pairs(reads, k):\n",
    "    kmer_dict = pass\n",
    "    overlaps = defaultdict(set) # key: read, value: overlapping reads\n",
    "    pairs = []\n",
    "    for read in reads:\n",
    "        read_suffix = read[-k:]\n",
    "        \n",
    "        if kmer not in overlaps:\n",
    "            overlaps[kmer] = set([read])\n",
    "        else:\n",
    "            dictionary[kmer].update([read])\n",
    "    \n",
    "    for k, v in kmer_dict.items():\n",
    "        pairs.append(v)\n",
    "    return pairs"
   ]
  },
  {
   "cell_type": "code",
   "execution_count": 6,
   "metadata": {},
   "outputs": [
    {
     "data": {
      "text/plain": [
       "{('ACGTAC', 'CGTACG'): 5,\n",
       " ('ACGTAC', 'GTACGA'): 4,\n",
       " ('ACGTAC', 'GTACGT'): 4,\n",
       " ('CGTACG', 'GTACGA'): 5,\n",
       " ('CGTACG', 'GTACGT'): 5,\n",
       " ('CGTACG', 'TACGAT'): 4,\n",
       " ('CGTACG', 'TACGTA'): 4,\n",
       " ('GTACGA', 'TACGAT'): 5,\n",
       " ('GTACGT', 'ACGTAC'): 4,\n",
       " ('GTACGT', 'TACGTA'): 5,\n",
       " ('TACGTA', 'ACGTAC'): 5,\n",
       " ('TACGTA', 'CGTACG'): 4}"
      ]
     },
     "execution_count": 6,
     "metadata": {},
     "output_type": "execute_result"
    }
   ],
   "source": [
    "from itertools import permutations\n",
    "\n",
    "def overlap(a, b, min_length=3):\n",
    "    \"\"\" Return length of longest suffix of 'a' matching\n",
    "        a prefix of 'b' that is at least 'min_length'\n",
    "        characters long.  If no such overlap exists,\n",
    "        return 0. \"\"\"\n",
    "    start = 0  # start all the way at the left\n",
    "    while True:\n",
    "        start = a.find(b[:min_length], start)  # look for b's prefix in a\n",
    "        if start == -1:  # no more occurrences to right\n",
    "            return 0\n",
    "        # found occurrence; check for full suffix/prefix match\n",
    "        if b.startswith(a[start:]):\n",
    "            return len(a)-start\n",
    "        start += 1  # move just past previous match\n",
    "\n",
    "def naive_overlap_map(reads, k):\n",
    "    olaps = {}\n",
    "    for a, b in permutations(reads, 2):\n",
    "        olen = overlap(a, b, min_length=k)\n",
    "        if olen > 0:\n",
    "            olaps[(a, b)] = olen\n",
    "    return olaps\n",
    "\n",
    "reads = ['CGTACG', 'TACGTA', 'GTACGT', 'ACGTAC', 'GTACGA', 'TACGAT']\n",
    "naive_overlap_map(reads, 4)"
   ]
  },
  {
   "cell_type": "code",
   "execution_count": 8,
   "metadata": {},
   "outputs": [
    {
     "data": {
      "text/plain": [
       "False"
      ]
     },
     "execution_count": 8,
     "metadata": {},
     "output_type": "execute_result"
    }
   ],
   "source": [
    "res = [('CGTACG', 'TACGTA'), # from examples provided by instructors\n",
    " ('CGTACG', 'GTACGT'),\n",
    " ('CGTACG', 'GTACGA'),\n",
    " ('CGTACG', 'TACGAT'),\n",
    " ('TACGTA', 'ACGTAC'),\n",
    " ('TACGTA', 'CGTACG'),\n",
    " ('GTACGT', 'TACGTA'),\n",
    " ('GTACGT', 'ACGTAC'),\n",
    " ('ACGTAC', 'GTACGA'),\n",
    " ('ACGTAC', 'GTACGT'),\n",
    " ('ACGTAC', 'CGTACG'),\n",
    " ('GTACGA', 'TACGAT')]\n",
    "results = naive_overlap_map(reads, 4)\n",
    "res.sort() == results"
   ]
  },
  {
   "cell_type": "code",
   "execution_count": 1,
   "metadata": {},
   "outputs": [],
   "source": [
    "def readFastq(filename):\n",
    "    sequences = []\n",
    "    qualities = []\n",
    "    with open(filename) as fh:\n",
    "        while True:\n",
    "            fh.readline()\n",
    "            seq = fh.readline().rstrip()\n",
    "            fh.readline()\n",
    "            qual = fh.readline().rstrip()\n",
    "            if len(seq) == 0:\n",
    "                break\n",
    "            sequences.append(seq)\n",
    "            qualities.append(qual)\n",
    "    return sequences"
   ]
  },
  {
   "cell_type": "code",
   "execution_count": 8,
   "metadata": {},
   "outputs": [
    {
     "data": {
      "text/plain": [
       "{'ABC': 'HIJABC',\n",
       " 'BCD': 'ABCDEFG',\n",
       " 'CDE': 'ABCDEFG',\n",
       " 'DEF': 'ABCDEFG',\n",
       " 'EFG': 'EFGHIJ',\n",
       " 'FGH': 'EFGHIJ',\n",
       " 'GHI': 'EFGHIJ',\n",
       " 'HIJ': 'HIJABC',\n",
       " 'IJA': 'HIJABC',\n",
       " 'JAB': 'HIJABC'}"
      ]
     },
     "execution_count": 8,
     "metadata": {},
     "output_type": "execute_result"
    }
   ],
   "source": [
    "def overlap_all_pairs(reads, k):\n",
    "    kmer_dict = {}\n",
    "    # go through the reads and create pick out kmers; we associate each kmer with its corresponding reads\n",
    "    for read in reads:\n",
    "        # for i in range(len(read)):\n",
    "        for i in range(len(read) - k + 1):\n",
    "            kmer = read[i:i+k]\n",
    "            kmer_dict[kmer] = read\n",
    "    return kmer_dict\n",
    "\n",
    "reads = ['ABCDEFG', 'EFGHIJ', 'HIJABC']        \n",
    "overlap_all_pairs(reads, 3)"
   ]
  },
  {
   "cell_type": "code",
   "execution_count": 5,
   "metadata": {
    "scrolled": true
   },
   "outputs": [
    {
     "data": {
      "text/plain": [
       "{'ABC': 'HIJABC',\n",
       " 'BCD': 'ABCDEFG',\n",
       " 'CDE': 'ABCDEFG',\n",
       " 'DEF': 'ABCDEFG',\n",
       " 'EFG': 'EFGHIJ',\n",
       " 'FGH': 'EFGHIJ',\n",
       " 'GHI': 'EFGHIJ',\n",
       " 'HIJ': 'HIJABC',\n",
       " 'IJA': 'HIJABC',\n",
       " 'JAB': 'HIJABC'}"
      ]
     },
     "execution_count": 5,
     "metadata": {},
     "output_type": "execute_result"
    }
   ],
   "source": [
    "# need to change how kmer key, value pairs are added to to dictionary - need to do this using set\n",
    "\n",
    "def overlap_all_pairs(reads, k):\n",
    "    kmer_dict = {}\n",
    "    # go through the reads and create pick out kmers; we associate each kmer with its corresponding reads\n",
    "    for read in reads:\n",
    "        for i in range(len(read) - k + 1):\n",
    "            kmer = read[i:i+k]\n",
    "            kmer_dict[kmer] = read\n",
    "    return kmer_dict\n",
    "\n",
    "reads = ['ABCDEFG', 'EFGHIJ', 'HIJABC']        \n",
    "overlap_all_pairs(reads, 3)    "
   ]
  },
  {
   "cell_type": "code",
   "execution_count": 6,
   "metadata": {},
   "outputs": [
    {
     "data": {
      "text/plain": [
       "defaultdict(set,\n",
       "            {'ABC': {'ABCDEFG', 'HIJABC'},\n",
       "             'BCD': {'ABCDEFG'},\n",
       "             'CDE': {'ABCDEFG'},\n",
       "             'DEF': {'ABCDEFG'},\n",
       "             'EFG': {'ABCDEFG', 'EFGHIJ'},\n",
       "             'FGH': {'EFGHIJ'},\n",
       "             'GHI': {'EFGHIJ'},\n",
       "             'HIJ': {'EFGHIJ', 'HIJABC'},\n",
       "             'IJA': {'HIJABC'},\n",
       "             'JAB': {'HIJABC'}})"
      ]
     },
     "execution_count": 6,
     "metadata": {},
     "output_type": "execute_result"
    }
   ],
   "source": [
    "# adding kmer key, value pairs using set\n",
    "from collections import defaultdict\n",
    "\n",
    "def overlap_all_pairs(reads, k):\n",
    "    kmer_dict = defaultdict(set)\n",
    "    # go through the reads and create pick out kmers; we associate each kmer with its corresponding reads\n",
    "    for read in reads:\n",
    "        for i in range(len(read) - k + 1):\n",
    "            kmer = read[i:i+k]\n",
    "            kmer_dict[kmer].add(read)\n",
    "    return kmer_dict\n",
    "\n",
    "reads = ['ABCDEFG', 'EFGHIJ', 'HIJABC']        \n",
    "overlap_all_pairs(reads, 3)    "
   ]
  },
  {
   "cell_type": "code",
   "execution_count": 14,
   "metadata": {},
   "outputs": [
    {
     "data": {
      "text/plain": [
       "(defaultdict(set,\n",
       "             {'ABC': {'ABCDEFG', 'HIJABC'},\n",
       "              'BCD': {'ABCDEFG'},\n",
       "              'CDE': {'ABCDEFG'},\n",
       "              'DEF': {'ABCDEFG'},\n",
       "              'EFG': {'ABCDEFG', 'EFGHIJ'},\n",
       "              'FGH': {'EFGHIJ'},\n",
       "              'GHI': {'EFGHIJ'},\n",
       "              'HIJ': {'EFGHIJ', 'HIJABC'},\n",
       "              'IJA': {'HIJABC'},\n",
       "              'JAB': {'HIJABC'}}),\n",
       " {'ABCDEFG', 'HIJABC'})"
      ]
     },
     "execution_count": 14,
     "metadata": {},
     "output_type": "execute_result"
    }
   ],
   "source": [
    "# adding kmer key, value pairs using set\n",
    "from collections import defaultdict\n",
    "\n",
    "def overlap_all_pairs(reads, k):\n",
    "    kmer_dict = defaultdict(set)\n",
    "    # go through the reads and create pick out kmers; we associate each kmer with its corresponding reads\n",
    "    for read in reads:\n",
    "        for i in range(len(read) - k + 1):\n",
    "            kmer = read[i:i+k]\n",
    "            kmer_dict[kmer].add(read)\n",
    "    # find all reads containing read a's suffix and call overlap function for each of them\n",
    "    reads_set = set(kmer_dict[kmer])\n",
    "    return kmer_dict, reads_set\n",
    "\n",
    "reads = ['ABCDEFG', 'EFGHIJ', 'HIJABC']        \n",
    "overlap_all_pairs(reads, 3)    "
   ]
  },
  {
   "cell_type": "code",
   "execution_count": 19,
   "metadata": {},
   "outputs": [
    {
     "data": {
      "text/plain": [
       "(defaultdict(set,\n",
       "             {'ABC': {'ABCDEFG', 'HIJABC'},\n",
       "              'BCD': {'ABCDEFG'},\n",
       "              'CDE': {'ABCDEFG'},\n",
       "              'DEF': {'ABCDEFG'},\n",
       "              'EFG': {'ABCDEFG', 'EFGHIJ'},\n",
       "              'FGH': {'EFGHIJ'},\n",
       "              'GHI': {'EFGHIJ'},\n",
       "              'HIJ': {'EFGHIJ', 'HIJABC'},\n",
       "              'IJA': {'HIJABC'},\n",
       "              'JAB': {'HIJABC'}}),\n",
       " set())"
      ]
     },
     "execution_count": 19,
     "metadata": {},
     "output_type": "execute_result"
    }
   ],
   "source": [
    "# adding kmer key, value pairs using set\n",
    "from collections import defaultdict\n",
    "\n",
    "def overlap_all_pairs(reads, k):\n",
    "    kmer_dict = defaultdict(set)\n",
    "    # go through the reads and create pick out kmers; we associate each kmer with its corresponding reads\n",
    "    for read in reads:\n",
    "        for i in range(len(read) - k + 1):\n",
    "            kmer = read[i:i+k]\n",
    "            kmer_dict[kmer].add(read)\n",
    "    # find all reads containing read a's suffix and call overlap function for each of them\n",
    "    reads_set = set()\n",
    "    return kmer_dict, reads_set\n",
    "\n",
    "reads = ['ABCDEFG', 'EFGHIJ', 'HIJABC']        \n",
    "overlap_all_pairs(reads, 3)    "
   ]
  },
  {
   "cell_type": "code",
   "execution_count": 19,
   "metadata": {},
   "outputs": [
    {
     "data": {
      "text/plain": [
       "(defaultdict(set,\n",
       "             {'ABC': {'ABCDEFG', 'HIJABC'},\n",
       "              'BCD': {'ABCDEFG'},\n",
       "              'CDE': {'ABCDEFG'},\n",
       "              'DEF': {'ABCDEFG'},\n",
       "              'EFG': {'ABCDEFG', 'EFGHIJ'},\n",
       "              'FGH': {'EFGHIJ'},\n",
       "              'GHI': {'EFGHIJ'},\n",
       "              'HIJ': {'EFGHIJ', 'HIJABC'},\n",
       "              'IJA': {'HIJABC'},\n",
       "              'JAB': {'HIJABC'}}),\n",
       " set())"
      ]
     },
     "execution_count": 19,
     "metadata": {},
     "output_type": "execute_result"
    }
   ],
   "source": [
    "# adding kmer key, value pairs using set\n",
    "from collections import defaultdict\n",
    "\n",
    "def overlap_all_pairs(reads, k):\n",
    "    kmer_dict = defaultdict(set)\n",
    "    # go through the reads and create pick out kmers; we associate each kmer with its corresponding reads\n",
    "    for read in reads:\n",
    "        for i in range(len(read) - k + 1):\n",
    "            kmer = read[i:i+k]\n",
    "            kmer_dict[kmer].add(read)\n",
    "    # find all reads containing read a's suffix and call overlap function for each of them\n",
    "    reads_set = set()\n",
    "    # create graph\n",
    "    overlap_graph = defauldict(set)\n",
    "    return kmer_dict, reads_set\n",
    "\n",
    "reads = ['ABCDEFG', 'EFGHIJ', 'HIJABC']        \n",
    "overlap_all_pairs(reads, 3)    "
   ]
  },
  {
   "cell_type": "code",
   "execution_count": 6,
   "metadata": {},
   "outputs": [
    {
     "data": {
      "text/plain": [
       "defaultdict(set,\n",
       "            {'ABC': {'ABCDEFG', 'HIJABC'},\n",
       "             'BCD': {'ABCDEFG'},\n",
       "             'CDE': {'ABCDEFG'},\n",
       "             'DEF': {'ABCDEFG'},\n",
       "             'EFG': {'ABCDEFG', 'EFGHIJ'},\n",
       "             'FGH': {'EFGHIJ'},\n",
       "             'GHI': {'EFGHIJ'},\n",
       "             'HIJ': {'EFGHIJ', 'HIJABC'},\n",
       "             'IJA': {'HIJABC'},\n",
       "             'JAB': {'HIJABC'}})"
      ]
     },
     "execution_count": 6,
     "metadata": {},
     "output_type": "execute_result"
    }
   ],
   "source": [
    "# adding kmer key, value pairs using set\n",
    "from collections import defaultdict\n",
    "\n",
    "def overlap_all_pairs(reads, k):\n",
    "    kmer_dict = defaultdict(set)\n",
    "    # go through the reads and create pick out kmers; we associate each kmer with its corresponding reads\n",
    "    for read in reads:\n",
    "        for i in range(len(read) - k + 1):\n",
    "            kmer = read[i:i+k]\n",
    "            kmer_dict[kmer].add(read)\n",
    "    # find all overlaps of read a (find all reads containing read a's suffix and call overlap function for each of them)\n",
    "    # create graph\n",
    "    overlap_graph = defaultdict(set)\n",
    "    for read in reads:\n",
    "        # find its neighbors\n",
    "        suffix = read[-k:]\n",
    "        if suffix != read:\n",
    "            olap = overlap(read, suffix, k)\n",
    "        pass\n",
    "    return kmer_dict\n",
    "\n",
    "reads = ['ABCDEFG', 'EFGHIJ', 'HIJABC']        \n",
    "overlap_all_pairs(reads, 3)"
   ]
  },
  {
   "cell_type": "code",
   "execution_count": 7,
   "metadata": {},
   "outputs": [
    {
     "name": "stdout",
     "output_type": "stream",
     "text": [
      "kmer_dict: defaultdict(<class 'set'>, {'ABC': {'HIJABC', 'ABCDEFG'}, 'BCD': {'ABCDEFG'}, 'CDE': {'ABCDEFG'}, 'DEF': {'ABCDEFG'}, 'EFG': {'ABCDEFG', 'EFGHIJ'}, 'FGH': {'EFGHIJ'}, 'GHI': {'EFGHIJ'}, 'HIJ': {'HIJABC', 'EFGHIJ'}, 'IJA': {'HIJABC'}, 'JAB': {'HIJABC'}}), overlap_graph: defaultdict(<class 'set'>, {'ABCDEFG': {'EFGHIJ'}, 'EFGHIJ': {'HIJABC'}, 'HIJABC': {'ABCDEFG'}})\n"
     ]
    }
   ],
   "source": [
    "# adding kmer key, value pairs using set\n",
    "from collections import defaultdict\n",
    "\n",
    "def overlap(a, b, min_length=3):\n",
    "    start = 0  # start all the way at the left\n",
    "    while True:\n",
    "        start = a.find(b[:min_length], start)  # look for b's prefix in a\n",
    "        if start == -1:  # no more occurrences to right\n",
    "            return 0\n",
    "        # found occurrence; check for full suffix/prefix match\n",
    "        if b.startswith(a[start:]):\n",
    "            return len(a)-start\n",
    "        start += 1  # move just past previous match\n",
    "\n",
    "def overlap_all_pairs(reads, k):\n",
    "    kmer_dict = defaultdict(set)\n",
    "    # go through the reads and create pick out kmers; we associate each kmer with its corresponding reads\n",
    "    for read in reads:\n",
    "        for i in range(len(read) - k + 1):\n",
    "            kmer = read[i:i+k]\n",
    "            kmer_dict[kmer].add(read)\n",
    "    # find all overlaps of read a (find all reads containing read a's suffix and call overlap function for each of them)\n",
    "    # create graph\n",
    "    overlap_graph = defaultdict(set)\n",
    "    for read in reads:\n",
    "        # find its neighbors\n",
    "        for b in kmer_dict[read[-k:]]:\n",
    "        #suffix = kmer_dict[kmer[-k:]]\n",
    "        #print(f\"suffix: {suffix}\")\n",
    "            if b != read:\n",
    "                if overlap(read, b, k) > 0:\n",
    "                    overlap_graph[read].add(b)\n",
    "    return kmer_dict, overlap_graph\n",
    "\n",
    "reads = ['ABCDEFG', 'EFGHIJ', 'HIJABC']        \n",
    "kmer_dict, overlap_graph = overlap_all_pairs(reads, 3)\n",
    "print(f\"kmer_dict: {kmer_dict}, overlap_graph: {overlap_graph}\")"
   ]
  },
  {
   "cell_type": "code",
   "execution_count": 16,
   "metadata": {},
   "outputs": [
    {
     "data": {
      "text/plain": [
       "(defaultdict(set,\n",
       "             {'ABC': {'ABCDEFG', 'HIJABC'},\n",
       "              'BCD': {'ABCDEFG'},\n",
       "              'CDE': {'ABCDEFG'},\n",
       "              'DEF': {'ABCDEFG'},\n",
       "              'EFG': {'ABCDEFG', 'EFGHIJ'},\n",
       "              'FGH': {'EFGHIJ'},\n",
       "              'GHI': {'EFGHIJ'},\n",
       "              'HIJ': {'EFGHIJ', 'HIJABC'},\n",
       "              'IJA': {'HIJABC'},\n",
       "              'JAB': {'HIJABC'}}),\n",
       " defaultdict(set,\n",
       "             {'ABCDEFG': {'EFGHIJ'},\n",
       "              'EFGHIJ': {'HIJABC'},\n",
       "              'HIJABC': {'ABCDEFG'}}))"
      ]
     },
     "execution_count": 16,
     "metadata": {},
     "output_type": "execute_result"
    }
   ],
   "source": [
    "# adding kmer key, value pairs using set\n",
    "from collections import defaultdict\n",
    "\n",
    "def overlap(a, b, min_length=3):\n",
    "    start = 0  # start all the way at the left\n",
    "    while True:\n",
    "        start = a.find(b[:min_length], start)  # look for b's prefix in a\n",
    "        if start == -1:  # no more occurrences to right\n",
    "            return 0\n",
    "        # found occurrence; check for full suffix/prefix match\n",
    "        if b.startswith(a[start:]):\n",
    "            return len(a)-start\n",
    "        start += 1  # move just past previous match\n",
    "\n",
    "def overlap_all_pairs(reads, k):\n",
    "    kmer_dict = defaultdict(set)\n",
    "    # go through the reads and create pick out kmers; we associate each kmer with its corresponding reads\n",
    "    for read in reads:\n",
    "        for i in range(len(read) - k + 1):\n",
    "            kmer = read[i:i+k]\n",
    "            kmer_dict[kmer].add(read)\n",
    "    # find all overlaps of read a (find all reads containing read a's suffix and call overlap function for each of them)\n",
    "    # create graph\n",
    "    overlap_graph = defaultdict(set)\n",
    "    for read in reads:\n",
    "        # find its neighbors\n",
    "        for b in kmer_dict[read[-k:]]:\n",
    "            if b != read:\n",
    "                if overlap(read, b, k) > 0:\n",
    "                    overlap_graph[read].add(b)\n",
    "    return kmer_dict, overlap_graph\n",
    "\n",
    "reads = ['ABCDEFG', 'EFGHIJ', 'HIJABC']        \n",
    "# kmer_dict, overlap_graph = overlap_all_pairs(reads, 3)\n",
    "# print(f\"kmer_dict: {kmer_dict}, overlap_graph: {overlap_graph}\")\n",
    "overlap_all_pairs(reads, 3)"
   ]
  },
  {
   "cell_type": "code",
   "execution_count": null,
   "metadata": {},
   "outputs": [],
   "source": [
    "from collections import defaultdict\n",
    "\n",
    "def overlap(a, b, min_length=3):\n",
    "    start = 0  # start all the way at the left\n",
    "    while True:\n",
    "        start = a.find(b[:min_length], start)  # look for b's prefix in a\n",
    "        if start == -1:  # no more occurrences to right\n",
    "            return 0\n",
    "        # found occurrence; check for full suffix/prefix match\n",
    "        if b.startswith(a[start:]):\n",
    "            return len(a)-start\n",
    "        start += 1  # move just past previous match\n",
    "\n",
    "def overlap_all_pairs(reads, k):\n",
    "    kmer_dict = defaultdict(set)\n",
    "    # go through the reads and create pick out kmers; we associate each kmer with its corresponding reads\n",
    "    for read in reads:\n",
    "        for i in range(len(read) - k + 1):\n",
    "            kmer = read[i:i+k]\n",
    "            kmer_dict[kmer].add(read)\n",
    "    # find all overlaps of read a (find all reads containing read a's suffix and call overlap function for each of them)\n",
    "    # create graph\n",
    "    overlap_graph = defaultdict(set)\n",
    "    for read in reads:\n",
    "        # find its neighbors\n",
    "        for b in kmer_dict[read[-k:]]:\n",
    "            if b != read:\n",
    "                if overlap(read, b, k) > 0:\n",
    "                    overlap_graph[read].add(b)\n",
    "    return kmer_dict, overlap_graph"
   ]
  },
  {
   "cell_type": "code",
   "execution_count": 1,
   "metadata": {},
   "outputs": [
    {
     "name": "stdout",
     "output_type": "stream",
     "text": [
      "Wall time: 0 ns\n"
     ]
    },
    {
     "data": {
      "text/plain": [
       "904746"
      ]
     },
     "execution_count": 1,
     "metadata": {},
     "output_type": "execute_result"
    }
   ],
   "source": [
    "# adding kmer key, value pairs using set\n",
    "# trying to create graph as list of tuples not as dictionary\n",
    "%time\n",
    "from collections import defaultdict\n",
    "\n",
    "def readFastq(filename):\n",
    "    sequences = []\n",
    "    qualities = []\n",
    "    with open(filename) as fh:\n",
    "        while True:\n",
    "            fh.readline()\n",
    "            seq = fh.readline().rstrip()\n",
    "            fh.readline()\n",
    "            qual = fh.readline().rstrip()\n",
    "            if len(seq) == 0:\n",
    "                break\n",
    "            sequences.append(seq)\n",
    "            qualities.append(qual)\n",
    "    return sequences\n",
    "\n",
    "def overlap(a, b, min_length=3):\n",
    "    start = 0  # start all the way at the left\n",
    "    while True:\n",
    "        start = a.find(b[:min_length], start)  # look for b's prefix in a\n",
    "        if start == -1:  # no more occurrences to right\n",
    "            return 0\n",
    "        # found occurrence; check for full suffix/prefix match\n",
    "        if b.startswith(a[start:]):\n",
    "            return len(a)-start\n",
    "        start += 1  # move just past previous match\n",
    "\n",
    "def overlap_all_pairs(reads, k):\n",
    "    kmer_dict = defaultdict(set)\n",
    "    # go through the reads and create pick out kmers; we associate each kmer with its corresponding reads\n",
    "    for read in reads:\n",
    "        for i in range(len(read) - k + 1):\n",
    "            kmer = read[i:i+k]\n",
    "            kmer_dict[kmer].add(read)\n",
    "    # find all overlaps of read a (find all reads containing read a's suffix and call overlap function for each of them)\n",
    "    # create graph\n",
    "    overlap_graph = []\n",
    "    for read in reads:\n",
    "        # find its neighbors\n",
    "        for b in kmer_dict[read[-k:]]:\n",
    "            if b != read:\n",
    "                if overlap(read, b, k) > 0:\n",
    "                    overlap_graph.append((read, b))\n",
    "    return len(overlap_graph)\n",
    "\n",
    "sequences = readFastq(\"ERR266411_1.for_asm.fastq\")\n",
    "overlap_all_pairs(sequences, 30)"
   ]
  },
  {
   "cell_type": "code",
   "execution_count": 2,
   "metadata": {},
   "outputs": [
    {
     "name": "stdout",
     "output_type": "stream",
     "text": [
      "Wall time: 0 ns\n"
     ]
    },
    {
     "data": {
      "text/plain": [
       "7161"
      ]
     },
     "execution_count": 2,
     "metadata": {},
     "output_type": "execute_result"
    }
   ],
   "source": [
    "# overlap_all_pairs algorithm resembles iansealy algorithm on github\n",
    "\n",
    "# adding kmer key, value pairs using set\n",
    "# create graph as list of tuples not as dictionary\n",
    "# nodes that have at least one outgoing edge\n",
    "%time\n",
    "from collections import defaultdict\n",
    "\n",
    "def readFastq(filename):\n",
    "    sequences = []\n",
    "    qualities = []\n",
    "    with open(filename) as fh:\n",
    "        while True:\n",
    "            fh.readline()\n",
    "            seq = fh.readline().rstrip()\n",
    "            fh.readline()\n",
    "            qual = fh.readline().rstrip()\n",
    "            if len(seq) == 0:\n",
    "                break\n",
    "            sequences.append(seq)\n",
    "            qualities.append(qual)\n",
    "    return sequences\n",
    "\n",
    "def overlap(a, b, min_length=3):\n",
    "    start = 0  # start all the way at the left\n",
    "    while True:\n",
    "        start = a.find(b[:min_length], start)  # look for b's prefix in a\n",
    "        if start == -1:  # no more occurrences to right\n",
    "            return 0\n",
    "        # found occurrence; check for full suffix/prefix match\n",
    "        if b.startswith(a[start:]):\n",
    "            return len(a)-start\n",
    "        start += 1  # move just past previous match\n",
    "\n",
    "def overlap_all_pairs(reads, k):\n",
    "    kmer_dict = defaultdict(set)\n",
    "    # go through the reads and create pick out kmers; we associate each kmer with its corresponding reads\n",
    "    for read in reads:\n",
    "        for i in range(len(read) - k + 1):\n",
    "            kmer = read[i:i+k]\n",
    "            kmer_dict[kmer].add(read)\n",
    "    # find all overlaps of read a (find all reads containing read a's suffix and call overlap function for each of them)\n",
    "    # create graph\n",
    "    overlap_graph = defaultdict(list)\n",
    "    for read in reads:\n",
    "        # find its neighbors\n",
    "        for b in kmer_dict[read[-k:]]:\n",
    "            if b != read:\n",
    "                if overlap(read, b, k) > 0:\n",
    "                    overlap_graph[read].append(b)\n",
    "    return len(overlap_graph)\n",
    "\n",
    "sequences = readFastq(\"ERR266411_1.for_asm.fastq\")\n",
    "overlap_all_pairs(sequences, 30)"
   ]
  },
  {
   "cell_type": "code",
   "execution_count": 8,
   "metadata": {},
   "outputs": [
    {
     "name": "stdout",
     "output_type": "stream",
     "text": [
      "overlap_graph_dict: defaultdict(<class 'list'>, {'ABCDEFG': ['EFGHIJ'], 'EFGHIJ': ['HIJABC'], 'HIJABC': ['ABCDEFG']})\n",
      "overlap_graph: [('ABCDEFG', 'EFGHIJ'), ('EFGHIJ', 'HIJABC'), ('HIJABC', 'ABCDEFG')]\n"
     ]
    }
   ],
   "source": [
    "# dissecting the algorithm\n",
    "def overlap_all_pairs_dict(reads, k):\n",
    "    kmer_dict = defaultdict(set)\n",
    "    # go through the reads and create pick out kmers; we associate each kmer with its corresponding reads\n",
    "    for read in reads:\n",
    "        for i in range(len(read) - k + 1):\n",
    "            kmer = read[i:i+k]\n",
    "            kmer_dict[kmer].add(read)\n",
    "    # find all overlaps of read a (find all reads containing read a's suffix and call overlap function for each of them)\n",
    "    # create graph\n",
    "    overlap_graph = defaultdict(list)\n",
    "    for read in reads:\n",
    "        # find its neighbors\n",
    "        for b in kmer_dict[read[-k:]]:\n",
    "            if b != read:\n",
    "                if overlap(read, b, k) > 0:\n",
    "                    overlap_graph[read].append(b)\n",
    "    return overlap_graph\n",
    "\n",
    "def overlap_all_pairs(reads, k):\n",
    "    kmer_dict = defaultdict(set)\n",
    "    # go through the reads and create pick out kmers; we associate each kmer with its corresponding reads\n",
    "    for read in reads:\n",
    "        for i in range(len(read) - k + 1):\n",
    "            kmer = read[i:i+k]\n",
    "            kmer_dict[kmer].add(read)\n",
    "    # find all overlaps of read a (find all reads containing read a's suffix and call overlap function for each of them)\n",
    "    # create graph\n",
    "    overlap_graph = []\n",
    "    for read in reads:\n",
    "        # find its neighbors\n",
    "        for b in kmer_dict[read[-k:]]:\n",
    "            if b != read:\n",
    "                if overlap(read, b, k) > 0:\n",
    "                    overlap_graph.append((read, b))\n",
    "    return overlap_graph\n",
    "\n",
    "reads = ['ABCDEFG', 'EFGHIJ', 'HIJABC']\n",
    "print(f\"overlap_graph_dict: {overlap_all_pairs_dict(reads, 3)}\")\n",
    "print(f\"overlap_graph: {overlap_all_pairs(reads, 3)}\")"
   ]
  },
  {
   "cell_type": "code",
   "execution_count": null,
   "metadata": {},
   "outputs": [],
   "source": [
    "def traverse_graph(graph, root):\n",
    "    # graph = overlap_all_pairs(reads, k)\n",
    "    nodes_outgoing = 0\n",
    "    visited_nodes = []\n",
    "    for node in graph:\n",
    "        visited_nodes.append(node)\n",
    "        pass"
   ]
  },
  {
   "cell_type": "code",
   "execution_count": 26,
   "metadata": {},
   "outputs": [
    {
     "name": "stdout",
     "output_type": "stream",
     "text": [
      "ABCDEFG {'EFGHIJ'}\n",
      "EFGHIJ {'HIJABC'}\n",
      "HIJABC {'ABCDEFG'}\n",
      "[('ABCDEFG', \"{'EFGHIJ'}\"), ('EFGHIJ', \"{'HIJABC'}\"), ('HIJABC', \"{'ABCDEFG'}\")]\n"
     ]
    }
   ],
   "source": [
    "graph = {'ABCDEFG': {'EFGHIJ'}, 'EFGHIJ': {'HIJABC'}, 'HIJABC': {'ABCDEFG'}}\n",
    "overlap_graph = []\n",
    "for k, v in graph.items():\n",
    "    print(k, v)\n",
    "    overlap_graph.append((k, str(v)))\n",
    "print(overlap_graph)"
   ]
  },
  {
   "cell_type": "code",
   "execution_count": 27,
   "metadata": {},
   "outputs": [
    {
     "name": "stdout",
     "output_type": "stream",
     "text": [
      "[('ABCDEFG', 'EFGHIJ'), ('EFGHIJ', 'HIJABC'), ('HIJABC', 'ABCDEFG')]\n"
     ]
    }
   ],
   "source": [
    "graph = {'ABCDEFG': 'EFGHIJ', 'EFGHIJ': 'HIJABC', 'HIJABC': 'ABCDEFG'}\n",
    "overlap_graph = []\n",
    "for k, v in graph.items():\n",
    "    overlap_graph.append((k, str(v)))\n",
    "print(overlap_graph)"
   ]
  },
  {
   "cell_type": "code",
   "execution_count": 20,
   "metadata": {},
   "outputs": [
    {
     "data": {
      "text/plain": [
       "False"
      ]
     },
     "execution_count": 20,
     "metadata": {},
     "output_type": "execute_result"
    }
   ],
   "source": [
    "reads = ['ABCDEFG', 'EFGHIJ', 'HIJABC']\n",
    "result = [('ABCDEFG', 'EFGHIJ'), ('EFGHIJ', 'HIJABC'), ('HIJABC', 'ABCDEFG')]\n",
    "overlap_graph == result"
   ]
  },
  {
   "cell_type": "code",
   "execution_count": 12,
   "metadata": {},
   "outputs": [
    {
     "name": "stdout",
     "output_type": "stream",
     "text": [
      "defaultdict(<class 'set'>, {'ABC': {'HIJABC', 'ABCDEFG'}, 'BCD': {'ABCDEFG'}, 'CDE': {'ABCDEFG'}, 'DEF': {'ABCDEFG'}, 'EFG': {'ABCDEFG', 'EFGHIJ'}, 'FGH': {'EFGHIJ'}, 'GHI': {'EFGHIJ'}, 'HIJ': {'HIJABC', 'EFGHIJ'}, 'IJA': {'HIJABC'}, 'JAB': {'HIJABC'}})\n",
      "kmer_dict[read]: defaultdict(<class 'set'>, {'ABC': {'HIJABC', 'ABCDEFG'}, 'BCD': {'ABCDEFG'}, 'CDE': {'ABCDEFG'}, 'DEF': {'ABCDEFG'}, 'EFG': {'ABCDEFG', 'EFGHIJ'}, 'FGH': {'EFGHIJ'}, 'GHI': {'EFGHIJ'}, 'HIJ': {'HIJABC', 'EFGHIJ'}, 'IJA': {'HIJABC'}, 'JAB': {'HIJABC'}})\n",
      "kmer_dict[read]: defaultdict(<class 'set'>, {'ABC': {'HIJABC', 'ABCDEFG'}, 'BCD': {'ABCDEFG'}, 'CDE': {'ABCDEFG'}, 'DEF': {'ABCDEFG'}, 'EFG': {'ABCDEFG', 'EFGHIJ'}, 'FGH': {'EFGHIJ'}, 'GHI': {'EFGHIJ'}, 'HIJ': {'HIJABC', 'EFGHIJ'}, 'IJA': {'HIJABC'}, 'JAB': {'HIJABC'}})\n",
      "kmer_dict[read]: defaultdict(<class 'set'>, {'ABC': {'HIJABC', 'ABCDEFG'}, 'BCD': {'ABCDEFG'}, 'CDE': {'ABCDEFG'}, 'DEF': {'ABCDEFG'}, 'EFG': {'ABCDEFG', 'EFGHIJ'}, 'FGH': {'EFGHIJ'}, 'GHI': {'EFGHIJ'}, 'HIJ': {'HIJABC', 'EFGHIJ'}, 'IJA': {'HIJABC'}, 'JAB': {'HIJABC'}})\n"
     ]
    }
   ],
   "source": [
    "reads = ['ABCDEFG', 'EFGHIJ', 'HIJABC']\n",
    "k = 3\n",
    "kmer_dict = defaultdict(set)\n",
    "for read in reads:\n",
    "    for i in range(len(read) - k + 1):\n",
    "        kmer = read[i:i+k]\n",
    "        kmer_dict[kmer].add(read)\n",
    "print(kmer_dict)\n",
    "\n",
    "for read in reads:\n",
    "    print(f\"kmer_dict[read]: {kmer_dict}\")"
   ]
  },
  {
   "cell_type": "code",
   "execution_count": 4,
   "metadata": {},
   "outputs": [
    {
     "name": "stdout",
     "output_type": "stream",
     "text": [
      "EFG\n"
     ]
    }
   ],
   "source": [
    "read = 'ABCDEFG'\n",
    "print(read[-3:])"
   ]
  },
  {
   "cell_type": "code",
   "execution_count": 8,
   "metadata": {},
   "outputs": [
    {
     "data": {
      "text/plain": [
       "True"
      ]
     },
     "execution_count": 8,
     "metadata": {},
     "output_type": "execute_result"
    }
   ],
   "source": [
    "s = \"abcdef\"\n",
    "\"abc\" in s"
   ]
  },
  {
   "cell_type": "code",
   "execution_count": 15,
   "metadata": {},
   "outputs": [
    {
     "name": "stdout",
     "output_type": "stream",
     "text": [
      "False\n"
     ]
    }
   ],
   "source": [
    "# x = 1\n",
    "x = 0\n",
    "if x:\n",
    "    print(True)\n",
    "else:\n",
    "    print(False)"
   ]
  }
 ],
 "metadata": {
  "kernelspec": {
   "display_name": "Python 3",
   "language": "python",
   "name": "python3"
  },
  "language_info": {
   "codemirror_mode": {
    "name": "ipython",
    "version": 3
   },
   "file_extension": ".py",
   "mimetype": "text/x-python",
   "name": "python",
   "nbconvert_exporter": "python",
   "pygments_lexer": "ipython3",
   "version": "3.8.5"
  }
 },
 "nbformat": 4,
 "nbformat_minor": 2
}
