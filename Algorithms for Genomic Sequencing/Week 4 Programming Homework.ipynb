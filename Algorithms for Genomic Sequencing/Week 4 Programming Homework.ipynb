{
 "cells": [
  {
   "cell_type": "code",
   "execution_count": 3,
   "metadata": {},
   "outputs": [
    {
     "data": {
      "text/plain": [
       "'CCTTGGATTGC'"
      ]
     },
     "execution_count": 3,
     "metadata": {},
     "output_type": "execute_result"
    }
   ],
   "source": [
    "import itertools\n",
    "\n",
    "def overlap(a, b, min_length=3):\n",
    "    \"\"\" Return length of longest suffix of 'a' matching\n",
    "        a prefix of 'b' that is at least 'min_length'\n",
    "        characters long.  If no such overlap exists,\n",
    "        return 0. \"\"\"\n",
    "    start = 0  # start all the way at the left\n",
    "    while True:\n",
    "        start = a.find(b[:min_length], start)  # look for b's suffx in a\n",
    "        if start == -1:  # no more occurrences to right\n",
    "            return 0\n",
    "        # found occurrence; check for full suffix/prefix match\n",
    "        if b.startswith(a[start:]):\n",
    "            return len(a)-start\n",
    "        start += 1  # move just past previous match\n",
    "\n",
    "def scs(ss):\n",
    "    \"\"\" Returns shortest common superstring of given\n",
    "        strings, which must be the same length \"\"\"\n",
    "    shortest_sup = None\n",
    "    for ssperm in itertools.permutations(ss):\n",
    "        sup = ssperm[0]  # superstring starts as first string\n",
    "        for i in range(len(ss)-1):\n",
    "            # overlap adjacent strings A and B in the permutation\n",
    "            olen = overlap(ssperm[i], ssperm[i+1], min_length=1)\n",
    "            # add non-overlapping portion of B to superstring\n",
    "            sup += ssperm[i+1][olen:]\n",
    "        if shortest_sup is None or len(sup) < len(shortest_sup):\n",
    "            shortest_sup = sup  # found shorter superstring\n",
    "    return shortest_sup  # return shortest\n",
    "\n",
    "ss = [\"CCT\", \"CTT\", \"TGC\", \"TGG\", \"GAT\", \"ATT\"]\n",
    "scs(ss)"
   ]
  },
  {
   "cell_type": "code",
   "execution_count": 4,
   "metadata": {},
   "outputs": [
    {
     "name": "stdout",
     "output_type": "stream",
     "text": [
      "scs_list: 1\n"
     ]
    }
   ],
   "source": [
    "# working solution, gives wrong answer for scs_list\n",
    "def scs_list(ss):\n",
    "    \"\"\" Returns shortest common superstring of given\n",
    "        strings, which must be the same length \"\"\"\n",
    "    shortest_sup = None\n",
    "    shortest_sup_list = []\n",
    "    for ssperm in itertools.permutations(ss):\n",
    "        sup = ssperm[0]  # superstring starts as first string\n",
    "        for i in range(len(ss)-1):\n",
    "            # overlap adjacent strings A and B in the permutation\n",
    "            olen = overlap(ssperm[i], ssperm[i+1], min_length=1)\n",
    "            # add non-overlapping portion of B to superstring\n",
    "            sup += ssperm[i+1][olen:]\n",
    "        if shortest_sup is None or len(sup) < len(shortest_sup):\n",
    "            shortest_sup = sup  # found shorter superstring\n",
    "        if shortest_sup not in shortest_sup_list:\n",
    "            shortest_sup_list.append(shortest_sup)\n",
    "    return len(shortest_sup_list)  # return number of different shortest superstrings\n",
    "\n",
    "print(f\"scs_list: {scs_list(['ABC', 'BCA', 'CAB'])}\")"
   ]
  },
  {
   "cell_type": "code",
   "execution_count": 27,
   "metadata": {},
   "outputs": [
    {
     "name": "stdout",
     "output_type": "stream",
     "text": [
      "shortest_sup: ABCAB, sup: ABCAB\n",
      "superstring is tied for shortest superstring: ABCAB\n",
      "superstring is tied for shortest superstring: BCABC\n",
      "superstring is tied for shortest superstring: CABCA\n",
      "scs_list: ['ABCAB', 3]\n"
     ]
    }
   ],
   "source": [
    "# solution in progress, using set\n",
    "\n",
    "def scs_list(ss):\n",
    "    \"\"\" Returns shortest common superstring of given\n",
    "        strings, which must be the same length \"\"\"\n",
    "    shortest_sup = None\n",
    "    shortest_sup_set = set()\n",
    "    for ssperm in itertools.permutations(ss):\n",
    "        sup = ssperm[0]  # superstring starts as first string\n",
    "        for i in range(len(ss)-1):\n",
    "            # overlap adjacent strings A and B in the permutation\n",
    "            olen = overlap(ssperm[i], ssperm[i+1], min_length=1)\n",
    "            # add non-overlapping portion of B to superstring\n",
    "            sup += ssperm[i+1][olen:]\n",
    "        if shortest_sup is None or len(sup) < len(shortest_sup):\n",
    "            shortest_sup = sup  # found shorter superstring\n",
    "            print(f\"shortest_sup: {shortest_sup}, sup: {sup}\")\n",
    "        if len(sup) == len(shortest_sup):\n",
    "            print(f\"superstring is tied for shortest superstring: {sup}\")\n",
    "            shortest_sup_set.add(sup)\n",
    "    return [shortest_sup, len(shortest_sup_set)]  # return number of different shortest superstrings\n",
    "\n",
    "print(f\"scs_list: {scs_list(['ABC', 'BCA', 'CAB'])}\")"
   ]
  },
  {
   "cell_type": "code",
   "execution_count": 39,
   "metadata": {},
   "outputs": [
    {
     "name": "stdout",
     "output_type": "stream",
     "text": [
      "shortest_sup: GATAGTCGTGCAATA, sup: GATAGTCGTGCAATA\n",
      "shortest_sup: GATCGTGCAATAG, sup: GATCGTGCAATAG\n",
      "shortest_sup: TCGATGCAATAG, sup: TCGATGCAATAG\n",
      "shortest_sup_list: ['TCGATGCAATAG', 'TCGATAGAATGC', 'TCGAATAGATGC', 'TGCAATCGATAG', 'TGCAATAGATCG', 'AATCGATAGTGC', 'AATGCTCGATAG', 'AATAGATCGTGC', 'AATAGATGCTCG', 'AATAGTCGATGC']\n"
     ]
    },
    {
     "data": {
      "text/plain": [
       "['TCGATGCAATAG', 10]"
      ]
     },
     "execution_count": 39,
     "metadata": {},
     "output_type": "execute_result"
    }
   ],
   "source": [
    "# correct solution\n",
    "\n",
    "def scs_list(ss):\n",
    "    \"\"\" Returns shortest common superstring of given\n",
    "        strings, which must be the same length \"\"\"\n",
    "    shortest_sup = None\n",
    "    shortest_sup_list = []\n",
    "    for ssperm in itertools.permutations(ss):\n",
    "        sup = ssperm[0]  # superstring starts as first string\n",
    "        for i in range(len(ss) - 1):\n",
    "            # overlap adjacent strings A and B in the permutation\n",
    "            olen = overlap(ssperm[i], ssperm[i+1], min_length=1)\n",
    "            # add non-overlapping portion of B to superstring\n",
    "            sup += ssperm[i+1][olen:]\n",
    "        if shortest_sup is None or len(sup) < len(shortest_sup):\n",
    "            shortest_sup = sup  # found shorter superstring\n",
    "            print(f\"shortest_sup: {shortest_sup}, sup: {sup}\")\n",
    "        \n",
    "        # add superstring to shortest superstrings if not there already\n",
    "        if sup not in shortest_sup_list:\n",
    "            shortest_sup_list.append(sup)\n",
    "        # checking if the superstring if equal in length to shortest superstring\n",
    "        for string in shortest_sup_list:\n",
    "            if len(string) > len(shortest_sup):\n",
    "                shortest_sup_list.remove(string)\n",
    "        \n",
    "        # if len(sup) == len(shortest_sup):\n",
    "        #     print(f\"superstring is tied for shortest superstring: {sup}\")\n",
    "        #     shortest_sup_set.add(sup)\n",
    "            \n",
    "    print(f\"shortest_sup_list: {shortest_sup_list}\")\n",
    "    return [shortest_sup, len(shortest_sup_list)]  # return number of different shortest superstrings\n",
    "\n",
    "strings = ['GAT', 'TAG', 'TCG', 'TGC', 'AAT', 'ATA']\n",
    "scs_list(strings)"
   ]
  },
  {
   "cell_type": "code",
   "execution_count": 42,
   "metadata": {},
   "outputs": [
    {
     "name": "stdout",
     "output_type": "stream",
     "text": [
      "shortest_sup: ABCAB, sup: ABCAB\n",
      "shortest_sup_list: ['ABCAB', 'BCABC', 'CABCA']\n"
     ]
    },
    {
     "data": {
      "text/plain": [
       "['ABCAB', 3]"
      ]
     },
     "execution_count": 42,
     "metadata": {},
     "output_type": "execute_result"
    }
   ],
   "source": [
    "# finding list of common superstrings equal in length to the shortest common superstring\n",
    "\n",
    "def scs_list(ss):\n",
    "    \"\"\" Returns shortest common superstring of given\n",
    "        strings, which must be the same length \"\"\"\n",
    "    shortest_sup = None\n",
    "    shortest_sup_list = []\n",
    "    for ssperm in itertools.permutations(ss):\n",
    "        sup = ssperm[0]  # superstring starts as first string\n",
    "        for i in range(len(ss) - 1):\n",
    "            # overlap adjacent strings A and B in the permutation\n",
    "            olen = overlap(ssperm[i], ssperm[i+1], min_length=1)\n",
    "            # add non-overlapping portion of B to superstring\n",
    "            sup += ssperm[i+1][olen:]\n",
    "        if shortest_sup is None or len(sup) < len(shortest_sup):\n",
    "            shortest_sup = sup  # found shorter superstring\n",
    "        \n",
    "        # add superstring to shortest superstrings if not there already\n",
    "        if sup not in shortest_sup_list:\n",
    "            shortest_sup_list.append(sup)\n",
    "            \n",
    "        # checking if the superstring if equal in length to shortest superstring\n",
    "        for string in shortest_sup_list:\n",
    "            if len(string) > len(shortest_sup):\n",
    "                shortest_sup_list.remove(string)\n",
    "            \n",
    "    return [shortest_sup, len(shortest_sup_list)]  # return number of different shortest superstrings\n",
    "\n",
    "# strings = ['GAT', 'TAG', 'TCG', 'TGC', 'AAT', 'ATA']\n",
    "strings = ['ABC', 'BCA', 'CAB']\n",
    "scs_list(strings)"
   ]
  },
  {
   "cell_type": "code",
   "execution_count": 44,
   "metadata": {},
   "outputs": [
    {
     "name": "stdout",
     "output_type": "stream",
     "text": [
      "shortest_sup: CCTTGCTGGATT, sup: CCTTGCTGGATT\n",
      "shortest_sup: CCTTGGATTGC, sup: CCTTGGATTGC\n",
      "shortest_sup_list: ['CCTTGGATTGC', 'TGCCTTGGATT', 'TGGATTGCCTT', 'GATTGCCTTGG']\n"
     ]
    },
    {
     "data": {
      "text/plain": [
       "['CCTTGGATTGC', 4]"
      ]
     },
     "execution_count": 44,
     "metadata": {},
     "output_type": "execute_result"
    }
   ],
   "source": [
    "# finding list of common superstrings equal in length to the shortest common superstring\n",
    "ss = [\"CCT\", \"CTT\", \"TGC\", \"TGG\", \"GAT\", \"ATT\"]\n",
    "scs_list(ss)"
   ]
  },
  {
   "cell_type": "code",
   "execution_count": 6,
   "metadata": {},
   "outputs": [
    {
     "name": "stderr",
     "output_type": "stream",
     "text": [
      "SYSTEM_WGETRC = c:/progra~1/wget/etc/wgetrc\n",
      "syswgetrc = C:\\Program Files (x86)\\GnuWin32/etc/wgetrc\n",
      "--2021-03-19 12:48:32--  http://d28rh4a8wq0iu5.cloudfront.net/ads1/data/ads1_week4_reads.fq\n",
      "Resolving d28rh4a8wq0iu5.cloudfront.net... 13.225.141.183, 13.225.141.205, 13.225.141.46, ...\n",
      "Connecting to d28rh4a8wq0iu5.cloudfront.net|13.225.141.183|:80... connected.\n",
      "HTTP request sent, awaiting response... 200 OK\n",
      "Length: 395781 (387K) [video/m2ts]\n",
      "Saving to: `ads1_week4_reads.fq'\n",
      "\n",
      "     0K .......... .......... .......... .......... .......... 12%  374K 1s\n",
      "    50K .......... .......... .......... .......... .......... 25%  813K 1s\n",
      "   100K .......... .......... .......... .......... .......... 38% 2.41M 0s\n",
      "   150K .......... .......... .......... .......... .......... 51% 1.39M 0s\n",
      "   200K .......... .......... .......... .......... .......... 64% 3.18M 0s\n",
      "   250K .......... .......... .......... .......... .......... 77% 5.82M 0s\n",
      "   300K .......... .......... .......... .......... .......... 90% 1.66M 0s\n",
      "   350K .......... .......... .......... ......               100% 5.38M=0.3s\n",
      "\n",
      "2021-03-19 12:48:33 (1.22 MB/s) - `ads1_week4_reads.fq' saved [395781/395781]\n",
      "\n"
     ]
    }
   ],
   "source": [
    "!wget http://d28rh4a8wq0iu5.cloudfront.net/ads1/data/ads1_week4_reads.fq"
   ]
  },
  {
   "cell_type": "code",
   "execution_count": 21,
   "metadata": {},
   "outputs": [
    {
     "name": "stdout",
     "output_type": "stream",
     "text": [
      "first five reads in viral_genome: ['GTCCAGCAGAGCAAGTGATGCGAGAGCTGCCCATCCTCCAACCAGCATGCCCCTAGACATTGACACTGCATCGGAGTCAGGCCAAGATCCGCAGGACAGT', 'GGAGTACGACTTCAGAGATCTCACTTGGTGTATCAACCCGCCAGAGAGAATCAAATTGGATTATGATCAATACTGTGCAGATGTGGCTGCTGAAGAACTC', 'GCAAATTTTGATCTCTCTTGGCTTCACAATCAATTCAACCATGACCCGAGATGTAGTCATACCCCTCCTCACAAACAACGATCTCTTAATAAGGATGGCA', 'GAGTTAATTGAAGCCCTAGATTACATTTTCATAACTGATGACATACATCTGACAGGGGAGATTTTCTCATTTTTCAGAAGTTTCGGCCACCCCAGACTTG', 'AATGACAGAGACCGCTATGACCATTGATGCTAGGTATGCAGAACTTCTAGGAAGAGTCAGATACATGTGGAAACTGATAGATGGTTTCTTCCCTGCACTC']\n",
      "length of viral genome: 1881\n"
     ]
    }
   ],
   "source": [
    "def readFastq(filename):\n",
    "    sequences = []\n",
    "    qualities = []\n",
    "    with open(filename) as fh:\n",
    "        while True:\n",
    "            fh.readline()  # skip name line\n",
    "            seq = fh.readline().rstrip()  # read base sequence\n",
    "            fh.readline()  # skip placeholder line\n",
    "            qual = fh.readline().rstrip() # base quality line\n",
    "            if len(seq) == 0:\n",
    "                break\n",
    "            sequences.append(seq)\n",
    "            qualities.append(qual)\n",
    "    return sequences\n",
    "\n",
    "viral_genome = readFastq(\"ads1_week4_reads.fq\")\n",
    "print(f\"first five reads in viral_genome: {viral_genome[:5]}\")\n",
    "print(f\"length of viral genome: {len(viral_genome)}\")"
   ]
  },
  {
   "cell_type": "code",
   "execution_count": 23,
   "metadata": {},
   "outputs": [
    {
     "name": "stdout",
     "output_type": "stream",
     "text": [
      "ACCAAACAAAGTTGGGTAAGGATAGATCAATCAATGATCATATTCTAGTACACTTAGGATTCAAGATCCTATTATCAGGGACAAGAGCAGGATTAGGGATATCCGAGATGGCCACACTTTTGAGGAGCTTAGCATTGTTCAAAAGAAACAAGGACAAACCACCCATTACATCAGGATCCGGTGGAGCCATCAGAGGAATCAAACACATTATTATAGTACCAATTCCTGGAGATTCCTCAATTACCACTCGATCCAGACTACTGGACCGGTTGGTCAGGTTAATTGGAAACCCGGATGTGAGCGGGCCCAAACTAACAGGGGCACTAATAGGTATATTATCCTTATTTGTGGAGTCTCCAGGTCAATTGATTCAGAGGATCACCGATGACCCTGACGTTAGCATCAGGCTGTTAGAGGTTGTTCAGAGTGACCAGTCACAATCTGGCCTTACCTTCGCATCAAGAGGTACCAACATGGAGGATGAGGCGGACCAATACTTT\n",
      "Wall time: 2 ms\n"
     ]
    }
   ],
   "source": [
    "%%time\n",
    "import itertools\n",
    "\n",
    "def overlap(a, b, min_length=3):\n",
    "    \"\"\" Return length of longest suffix of 'a' matching\n",
    "        a prefix of 'b' that is at least 'min_length'\n",
    "        characters long.  If no such overlap exists,\n",
    "        return 0. \"\"\"\n",
    "    start = 0  # start all the way at the left\n",
    "    while True:\n",
    "        start = a.find(b[:min_length], start)  # look for b's prefix in a\n",
    "        if start == -1:  # no more occurrences to right\n",
    "            return 0\n",
    "        # found occurrence; check for full suffix/prefix match\n",
    "        if b.startswith(a[start:]):\n",
    "            return len(a)-start\n",
    "        start += 1  # move just past previous match\n",
    "\n",
    "def pick_maximal_overlap(reads, k):\n",
    "    \"\"\"Returns two reads that have maximal ovelap.\"\"\"\n",
    "    reada, readb = None, None\n",
    "    best_olen = 0\n",
    "    for a, b in itertools.permutations(reads, 2):\n",
    "        olen = overlap(a, b, min_length=k)\n",
    "        if olen > best_olen:\n",
    "            reada, readb = a, b\n",
    "            best_olen = olen\n",
    "    return reada, readb, best_olen\n",
    "\n",
    "def greedy_scs(reads, k):\n",
    "    read_a, read_b, olen = pick_maximal_overlap(reads, k)\n",
    "    while olen > 0:\n",
    "        reads.remove(read_a)\n",
    "        reads.remove(read_b)\n",
    "        reads.append(read_a + read_b[olen:])  # just the suffix of read_b since prefix overlaps with read_a\n",
    "        read_a, read_b, olen = pick_maximal_overlap(reads, k)\n",
    "    return \"\".join(reads)\n",
    "\n",
    "reads = viral_genome\n",
    "k = 30\n",
    "genome = greedy_scs(reads, k)\n",
    "print(genome[:500])"
   ]
  },
  {
   "cell_type": "code",
   "execution_count": 5,
   "metadata": {},
   "outputs": [
    {
     "name": "stdout",
     "output_type": "stream",
     "text": [
      "number of As: 4633\n",
      "number of Ts: 3723\n"
     ]
    }
   ],
   "source": [
    "count_A = genome.count(\"A\")\n",
    "count_T = genome.count(\"T\")\n",
    "print(f\"number of As: {count_A}\")\n",
    "print(f\"number of Ts: {count_T}\")"
   ]
  },
  {
   "cell_type": "code",
   "execution_count": 6,
   "metadata": {
    "collapsed": true
   },
   "outputs": [],
   "source": [
    "with open(\"unknown_genome.txt\", \"x\") as genome_file:\n",
    "    genome_file.write(genome)"
   ]
  },
  {
   "cell_type": "code",
   "execution_count": 8,
   "metadata": {},
   "outputs": [
    {
     "name": "stdout",
     "output_type": "stream",
     "text": [
      "abcabcdefgihklm\n",
      "['a  ', 'b  ', 'c  ', 'a  ', 'b  ', 'c  ', 'd  ', 'e  ', 'f  ', 'g  ', 'i  ', 'h  ', 'k  ', 'l  ', 'm  ']\n"
     ]
    }
   ],
   "source": [
    "s = \"abcabc\" \\\n",
    "    \"defgihklm\"\n",
    "print(s)\n",
    "print([f\"{x:3s}\" for x in s])"
   ]
  },
  {
   "cell_type": "code",
   "execution_count": 13,
   "metadata": {},
   "outputs": [
    {
     "name": "stdout",
     "output_type": "stream",
     "text": [
      "s_new using for loop: abcdefabcg\n",
      "\n",
      "s_while: abcdefabcg\n",
      "\n"
     ]
    }
   ],
   "source": [
    "#    0123456789 123456789 123456\n",
    "s = \"abcdefabcghiklmghijftnoppok\"\n",
    "s_new = \"\"\n",
    "for i in range(len(s)):\n",
    "    if i == 10:\n",
    "        s_new += s[:i] + \"\\n\"\n",
    "print(f\"s_new using for loop: {s_new}\")\n",
    "\n",
    "j = 0\n",
    "s_while = \"\"\n",
    "while j < len(s):\n",
    "    if j == 10:\n",
    "        s_while += s[:j] + \"\\n\"\n",
    "    j += 1\n",
    "print(f\"s_while: {s_while}\")"
   ]
  },
  {
   "cell_type": "code",
   "execution_count": 18,
   "metadata": {},
   "outputs": [
    {
     "name": "stdout",
     "output_type": "stream",
     "text": [
      "['abcdefabcg', 'hiklmghijf', 'tnoppok']\n"
     ]
    }
   ],
   "source": [
    "n = 10\n",
    "chunks = [s[i:i+n] for i in range(0, len(s), n)]\n",
    "print(chunks)"
   ]
  },
  {
   "cell_type": "code",
   "execution_count": 19,
   "metadata": {},
   "outputs": [
    {
     "name": "stdout",
     "output_type": "stream",
     "text": [
      "abcdefabcg\n",
      "hiklmghijf\n",
      "tnoppok\n",
      "\n"
     ]
    }
   ],
   "source": [
    "s_final = \"\"\n",
    "for i in range(len(chunks)):\n",
    "    s_final += chunks[i] + \"\\n\"\n",
    "print(s_final)"
   ]
  }
 ],
 "metadata": {
  "kernelspec": {
   "display_name": "Python 3",
   "language": "python",
   "name": "python3"
  },
  "language_info": {
   "codemirror_mode": {
    "name": "ipython",
    "version": 3
   },
   "file_extension": ".py",
   "mimetype": "text/x-python",
   "name": "python",
   "nbconvert_exporter": "python",
   "pygments_lexer": "ipython3",
   "version": "3.8.5"
  }
 },
 "nbformat": 4,
 "nbformat_minor": 2
}
