{
 "cells": [
  {
   "cell_type": "code",
   "execution_count": 1,
   "metadata": {
    "collapsed": true
   },
   "outputs": [],
   "source": [
    "seq = 'ACGT'"
   ]
  },
  {
   "cell_type": "code",
   "execution_count": 2,
   "metadata": {},
   "outputs": [
    {
     "data": {
      "text/plain": [
       "'C'"
      ]
     },
     "execution_count": 2,
     "metadata": {},
     "output_type": "execute_result"
    }
   ],
   "source": [
    "seq[1]"
   ]
  },
  {
   "cell_type": "code",
   "execution_count": 3,
   "metadata": {},
   "outputs": [
    {
     "data": {
      "text/plain": [
       "0"
      ]
     },
     "execution_count": 3,
     "metadata": {},
     "output_type": "execute_result"
    }
   ],
   "source": [
    "e = \"\"\n",
    "len(e)"
   ]
  },
  {
   "cell_type": "code",
   "execution_count": 5,
   "metadata": {},
   "outputs": [
    {
     "name": "stdout",
     "output_type": "stream",
     "text": [
      "CCAAGGTT\n"
     ]
    }
   ],
   "source": [
    "seq1 = \"CCAA\"\n",
    "seq2 = \"GGTT\"\n",
    "print(seq1 + seq2)"
   ]
  },
  {
   "cell_type": "code",
   "execution_count": 6,
   "metadata": {},
   "outputs": [
    {
     "name": "stdout",
     "output_type": "stream",
     "text": [
      "ACGT\n"
     ]
    }
   ],
   "source": [
    "seqs = [\"A\", \"C\", \"G\", \"T\"]\n",
    "print(\"\".join(seqs))"
   ]
  },
  {
   "cell_type": "code",
   "execution_count": 12,
   "metadata": {},
   "outputs": [
    {
     "data": {
      "text/plain": [
       "'C'"
      ]
     },
     "execution_count": 12,
     "metadata": {},
     "output_type": "execute_result"
    }
   ],
   "source": [
    "import random\n",
    "random.choice(\"ACGT\")"
   ]
  },
  {
   "cell_type": "code",
   "execution_count": 15,
   "metadata": {},
   "outputs": [
    {
     "data": {
      "text/plain": [
       "'G'"
      ]
     },
     "execution_count": 15,
     "metadata": {},
     "output_type": "execute_result"
    }
   ],
   "source": [
    "random.seed(7)\n",
    "random.choice(\"ACGT\")"
   ]
  },
  {
   "cell_type": "code",
   "execution_count": 19,
   "metadata": {},
   "outputs": [
    {
     "name": "stdout",
     "output_type": "stream",
     "text": [
      "CACGAAACTT\n"
     ]
    }
   ],
   "source": [
    "seq = \"\"\n",
    "for _ in range(10):  # _ represents iteration; same as i in normal for loops; we're not using i so we replace it with _\n",
    "    seq += random.choice(\"ACGT\")\n",
    "print(seq)"
   ]
  },
  {
   "cell_type": "code",
   "execution_count": 20,
   "metadata": {
    "collapsed": true
   },
   "outputs": [],
   "source": [
    "seq = \"\".join([random.choice(\"ACGT\") for _ in range(10)])"
   ]
  },
  {
   "cell_type": "code",
   "execution_count": 47,
   "metadata": {},
   "outputs": [
    {
     "data": {
      "text/plain": [
       "'ACCA'"
      ]
     },
     "execution_count": 47,
     "metadata": {},
     "output_type": "execute_result"
    }
   ],
   "source": [
    "def longestCommonPrefix(s1, s2):\n",
    "    i = 0\n",
    "    while i < len(s1) and len(s2) and s1[i] == s2[i]:\n",
    "        i += 1\n",
    "    return s1[:i]\n",
    "\n",
    "s1 = \"ACCATGT\"\n",
    "s2 = \"ACCAGGT\"\n",
    "longestCommonPrefix(s1, s2)"
   ]
  },
  {
   "cell_type": "code",
   "execution_count": null,
   "metadata": {
    "collapsed": true
   },
   "outputs": [],
   "source": [
    "# whether two strings are identical\n",
    "def match(s1, s2):\n",
    "    if len(s1) != len(s2):\n",
    "        return False\n",
    "\n",
    "    i = 0\n",
    "    while i < len(s1) and len(s2):\n",
    "        if s1[i] == s2[i]:\n",
    "            return True"
   ]
  },
  {
   "cell_type": "code",
   "execution_count": 27,
   "metadata": {},
   "outputs": [
    {
     "data": {
      "text/plain": [
       "False"
      ]
     },
     "execution_count": 27,
     "metadata": {},
     "output_type": "execute_result"
    }
   ],
   "source": [
    "# whether two strings are identical\n",
    "def match(s1, s2):\n",
    "    if len(s1) != len(s2):\n",
    "        return False\n",
    "    \n",
    "    for i in range(len(s1)):\n",
    "        if s1[i] != s2[i]:\n",
    "            return False\n",
    "    \n",
    "    return True\n",
    "\n",
    "s1 = \"ACCATGT\"\n",
    "s2 = \"ACCACAG\"\n",
    "match(s1, s2)"
   ]
  },
  {
   "cell_type": "code",
   "execution_count": 28,
   "metadata": {},
   "outputs": [
    {
     "data": {
      "text/plain": [
       "True"
      ]
     },
     "execution_count": 28,
     "metadata": {},
     "output_type": "execute_result"
    }
   ],
   "source": [
    "s1 = \"ATCGT\"\n",
    "s2 = \"ATCGT\"\n",
    "match(s1, s2)"
   ]
  },
  {
   "cell_type": "code",
   "execution_count": 31,
   "metadata": {},
   "outputs": [
    {
     "name": "stdout",
     "output_type": "stream",
     "text": [
      "TAGCA\n"
     ]
    },
    {
     "data": {
      "text/plain": [
       "'ACGAT'"
      ]
     },
     "execution_count": 31,
     "metadata": {},
     "output_type": "execute_result"
    }
   ],
   "source": [
    "# reverse complement - one way\n",
    "\n",
    "def reverseComplement(s):\n",
    "    complement = \"\"\n",
    "    complements = {\"A\": \"T\", \"C\": \"G\", \"G\": \"C\", \"T\": \"A\"}\n",
    "    \n",
    "    for i in range(len(s)):\n",
    "        if s[i] in complements:\n",
    "            complement += complements[s[i]]\n",
    "    \n",
    "    print(complement)\n",
    "    return complement[::-1]\n",
    "\n",
    "s = \"ATCGT\"\n",
    "reverseComplement(s)"
   ]
  },
  {
   "cell_type": "code",
   "execution_count": 51,
   "metadata": {},
   "outputs": [
    {
     "data": {
      "text/plain": [
       "'ACGAT'"
      ]
     },
     "execution_count": 51,
     "metadata": {},
     "output_type": "execute_result"
    }
   ],
   "source": [
    "# reverse complement - one way\n",
    "\n",
    "def reverseComplement(s):\n",
    "    complement = \"\"\n",
    "    complements = {\"A\": \"T\", \"C\": \"G\", \"G\": \"C\", \"T\": \"A\"}\n",
    "    \n",
    "    # for i in range(len(s)):\n",
    "    #     if s[i] in complements:\n",
    "    #         complement += complements[s[i]]\n",
    "    \n",
    "    complement_list = [complements[x] for x in s]\n",
    "    \n",
    "    complement = \"\".join(complement_list[::-1])\n",
    "    \n",
    "    return complement\n",
    "\n",
    "s = \"ATCGT\"\n",
    "reverseComplement(s)"
   ]
  },
  {
   "cell_type": "code",
   "execution_count": null,
   "metadata": {
    "collapsed": true
   },
   "outputs": [],
   "source": [
    "def reverseComplement(s):\n",
    "    complement = \"\"\n",
    "    complements = {\"A\": \"T\", \"C\": \"G\", \"G\": \"C\", \"T\": \"A\"}\n",
    "    \n",
    "    for i in range(len(s) - 1, 0, -1):\n",
    "        if s[i] in complements:\n",
    "            complement += complements[s[i]]\n",
    "    \n",
    "    return complement"
   ]
  },
  {
   "cell_type": "code",
   "execution_count": 52,
   "metadata": {},
   "outputs": [
    {
     "name": "stdout",
     "output_type": "stream",
     "text": [
      "T\n",
      "GT\n",
      "GGT\n",
      "CGGT\n",
      "ACGGT\n",
      "CACGGT\n",
      "CCACGGT\n"
     ]
    }
   ],
   "source": [
    "def reverseComplement(s):\n",
    "    complement = \"\"\n",
    "    complements = {\"A\": \"T\", \"C\": \"G\", \"G\": \"C\", \"T\": \"A\"}\n",
    "    for base in s:\n",
    "        # complement += complements[base] would yield just the complement\n",
    "        complement = complements[base] + complement  # here we are adding letter to the beginning of the string\n",
    "        print(complement)\n",
    "\n",
    "reverseComplement(\"ACCGTGG\")"
   ]
  },
  {
   "cell_type": "code",
   "execution_count": 53,
   "metadata": {},
   "outputs": [
    {
     "name": "stdout",
     "output_type": "stream",
     "text": [
      "T\n",
      "TG\n",
      "TGG\n",
      "TGGC\n",
      "TGGCA\n",
      "TGGCAC\n",
      "TGGCACC\n"
     ]
    }
   ],
   "source": [
    "def reverseComplement(s):\n",
    "    complement = \"\"\n",
    "    complements = {\"A\": \"T\", \"C\": \"G\", \"G\": \"C\", \"T\": \"A\"}\n",
    "    for base in s:\n",
    "        complement += complements[base]\n",
    "        # complement = complement + complements[base]\n",
    "        print(complement)\n",
    "\n",
    "reverseComplement(\"ACCGTGG\")"
   ]
  },
  {
   "cell_type": "code",
   "execution_count": 37,
   "metadata": {},
   "outputs": [
    {
     "data": {
      "text/plain": [
       "'CCACGGT'"
      ]
     },
     "execution_count": 37,
     "metadata": {},
     "output_type": "execute_result"
    }
   ],
   "source": [
    "def reverseComplement(s):\n",
    "    complement = \"\"\n",
    "    complements = {\"A\": \"T\", \"C\": \"G\", \"G\": \"C\", \"T\": \"A\"}\n",
    "    for base in s:\n",
    "        # complement += complements[base] would yield just the complement\n",
    "        complement = complements[base] + complement\n",
    "    return complement\n",
    "\n",
    "reverseComplement(\"ACCGTGG\")"
   ]
  },
  {
   "cell_type": "code",
   "execution_count": 34,
   "metadata": {},
   "outputs": [
    {
     "name": "stderr",
     "output_type": "stream",
     "text": [
      "'wget' is not recognized as an internal or external command,\n",
      "operable program or batch file.\n"
     ]
    }
   ],
   "source": [
    "!wget --no-check-- https://d28rh4a8wq0iu5.cloudfront.net/ads1/data/lambda_virus.fa"
   ]
  },
  {
   "cell_type": "code",
   "execution_count": null,
   "metadata": {
    "collapsed": true
   },
   "outputs": [],
   "source": [
    "with open(\"lambda_virus.fa\") as virus_DNA:\n",
    "    sequence = virus_DNA.read()\n",
    "\n",
    "def readGenome(sequence):\n",
    "    genome = \"\"\n",
    "    # add each line of bases to the string"
   ]
  },
  {
   "cell_type": "code",
   "execution_count": 41,
   "metadata": {},
   "outputs": [
    {
     "data": {
      "text/plain": [
       "'GGGCGGCGACCTCGCGGGTTTTCGCTATTTATGAAAATTTTCCGGTTTAAGGCGTTTCCGTTCTTCTTCGTCATAACTTAATGTTTTTATTTAAAATACC'"
      ]
     },
     "execution_count": 41,
     "metadata": {},
     "output_type": "execute_result"
    }
   ],
   "source": [
    "def readGenome(filename):\n",
    "    genome = \"\"\n",
    "\n",
    "    with open(filename, \"r\") as f:\n",
    "        for line in f:\n",
    "            if not line[0] == \">\":\n",
    "                genome += line.rstrip()\n",
    "\n",
    "    return genome\n",
    "\n",
    "genome = readGenome(\"lambda_virus.fa\")\n",
    "genome[:100]"
   ]
  },
  {
   "cell_type": "code",
   "execution_count": 42,
   "metadata": {},
   "outputs": [
    {
     "data": {
      "text/plain": [
       "48502"
      ]
     },
     "execution_count": 42,
     "metadata": {},
     "output_type": "execute_result"
    }
   ],
   "source": [
    "len(genome)"
   ]
  },
  {
   "cell_type": "code",
   "execution_count": 44,
   "metadata": {},
   "outputs": [
    {
     "data": {
      "text/plain": [
       "defaultdict(int, {'A': 12334, 'C': 11362, 'G': 12820, 'T': 11986})"
      ]
     },
     "execution_count": 44,
     "metadata": {},
     "output_type": "execute_result"
    }
   ],
   "source": [
    "from collections import defaultdict\n",
    "\n",
    "# count frequency of each base\n",
    "def count_frequency(genome):\n",
    "    counts = defaultdict(int)  # values are initialized as 0\n",
    "    for base in genome:\n",
    "        counts[base] += 1\n",
    "    \n",
    "    return counts\n",
    "\n",
    "count_frequency(genome)"
   ]
  },
  {
   "cell_type": "markdown",
   "metadata": {},
   "source": [
    "### Base Qualities\n",
    "#### Usual ASCII encoding is \"Phred+33\"\n",
    "#### take Q, round to nearest integer, add 33, convert to character"
   ]
  },
  {
   "cell_type": "code",
   "execution_count": 58,
   "metadata": {},
   "outputs": [
    {
     "data": {
      "text/plain": [
       "40"
      ]
     },
     "execution_count": 58,
     "metadata": {},
     "output_type": "execute_result"
    }
   ],
   "source": [
    "def QtoPhred(Q):\n",
    "    \"\"\"Turn Q into Phred+33 ASCII-encoded quality\"\"\"\n",
    "    return chr(Q + 33)\n",
    "\n",
    "def PhredtoQ(qual):\n",
    "    \"\"\"Turn Phred+33 ASCII-encoded quality into Q\"\"\"\n",
    "    return ord(qual) - 33\n",
    "\n",
    "PhredtoQ(\"I\")"
   ]
  },
  {
   "cell_type": "code",
   "execution_count": 2,
   "metadata": {},
   "outputs": [
    {
     "name": "stderr",
     "output_type": "stream",
     "text": [
      "SYSTEM_WGETRC = c:/progra~1/wget/etc/wgetrc\n",
      "syswgetrc = C:\\Program Files (x86)\\GnuWin32/etc/wgetrc\n",
      "--2021-02-20 13:09:32--  https://d28rh4a8wq0iu5.cloudfront.net/ads1/data/SRR835775_1.first1000.fastq\n",
      "Resolving d28rh4a8wq0iu5.cloudfront.net... 13.226.211.135, 13.226.211.37, 13.226.211.176, ...\n",
      "Connecting to d28rh4a8wq0iu5.cloudfront.net|13.226.211.135|:443... connected.\n",
      "WARNING: cannot verify d28rh4a8wq0iu5.cloudfront.net's certificate, issued by `/C=US/O=DigiCert Inc/CN=DigiCert Global CA G2':\n",
      "  Unable to locally verify the issuer's authority.\n",
      "HTTP request sent, awaiting response... 200 OK\n",
      "Length: 224786 (220K) [application/octet-stream]\n",
      "Saving to: `SRR835775_1.first1000.fastq'\n",
      "\n",
      "     0K .......... .......... .......... .......... .......... 22%  319K 1s\n",
      "    50K .......... .......... .......... .......... .......... 45%  778K 0s\n",
      "   100K .......... .......... .......... .......... .......... 68% 1.21M 0s\n",
      "   150K .......... .......... .......... .......... .......... 91% 4.68M 0s\n",
      "   200K .......... .........                                  100% 1002K=0.3s\n",
      "\n",
      "2021-02-20 13:09:34 (753 KB/s) - `SRR835775_1.first1000.fastq' saved [224786/224786]\n",
      "\n"
     ]
    }
   ],
   "source": [
    "!wget --no-check https://d28rh4a8wq0iu5.cloudfront.net/ads1/data/SRR835775_1.first1000.fastq"
   ]
  },
  {
   "cell_type": "code",
   "execution_count": null,
   "metadata": {
    "collapsed": true
   },
   "outputs": [],
   "source": [
    "@SRR835775.1 1/1\n",
    "TAACCCTAACCCTAACCCTAACCCTAACCCTAACCCTAACCCTAACCCTAACCCTCACCCTAACCCTAACCCTAACCGTATCCGTCACCCTAACCCTAAC\n",
    "+\n",
    "???B1ADDD8??BB+C?B+:AA883CEE8?C3@DDD3)?D2;DC?8?=BAD=@C@(.6.6=A?=?@##################################"
   ]
  },
  {
   "cell_type": "code",
   "execution_count": 4,
   "metadata": {},
   "outputs": [],
   "source": [
    "def readFastq(filename):\n",
    "    sequences = []\n",
    "    qualities = []\n",
    "    with open(filename) as fh:\n",
    "        while True:\n",
    "            fh.readline()\n",
    "            seq = fh.readline().rstrip()\n",
    "            fh.readline()\n",
    "            qual = fh.readline().rstrip()\n",
    "            if len(seq) == 0:\n",
    "                break\n",
    "            sequences.append(seq)\n",
    "            qualities.append(qual)\n",
    "    return sequences, qualities\n",
    "\n",
    "seqs, quals = readFastq(\"SRR835775_1.first1000.fastq\")"
   ]
  },
  {
   "cell_type": "code",
   "execution_count": 6,
   "metadata": {},
   "outputs": [
    {
     "name": "stdout",
     "output_type": "stream",
     "text": [
      "seqs[:5] = ['TAACCCTAACCCTAACCCTAACCCTAACCCTAACCCTAACCCTAACCCTAACCCTCACCCTAACCCTAACCCTAACCGTATCCGTCACCCTAACCCTAAC', 'TAACCCTAACCCTAACCCTAACCCTAACCCTAACCCTAACCCTAACCCTAACCCTACCCTAACCCTAACCCTAACCCTAACCCTAACCCTAACCCTAACC', 'TAGGGTTAGGGTTAGGGTTAGGGTTAGGGTTAGGGTTAGGGTTAGGGTTAGGGTTAGGGTTAGGGTTAGGGTTAGGGTTAGGGTTAGGGTTAGGGTTAGG', 'TAGGGTTAGGGTTAGGGTTAGGGTTAGGGTTAGGGTTAGGGTTAGGGTTAGGGTTAGGGTTAGGGTTAAGGGTTGGGGGTTAGGGGTAGGGGTAGGGTTA', 'CTAACCCTAACCCTAACCCTAACCCTACCCTAACCCTAACCCTAACCCTAACCCTAACCCTAACCCTAACCCTAACCCAACCCTAACCCTAACCCTCACC']\n",
      "quals[:5] = ['???B1ADDD8??BB+C?B+:AA883CEE8?C3@DDD3)?D2;DC?8?=BAD=@C@(.6.6=A?=?@##################################', 'CCCFFFFFGHHGHJJJJJIJGIIJJJJJJJIJIJJJJJFJJFGIIIIH=CBFCF=CCEG)=>EHB2@@DEC>;;?=;(=?BBD?59?BA###########', '@@<DD?DDHHH<CBHII:CFGIGAGHIIG?CCGGE0BDHIIHIGICH8=FHGI=@EHGGGEEHH>);?CC@.;(=;?59,5<A599?CB>ABBCB><88A', '@CCFFDDFHHHDFHIJJCGGIJJHIIHJC?DHHIJ0?DGHI9BBFHICGGIGI=CDEGI=?AAEF7@?################################', '@<@FDFDDBBFHH@EBGGGEH@FFHE;EHIEGGBHG?)9?8BDGGBGGBCDGI=93=C6==C;CCD(?@>@#############################']\n"
     ]
    }
   ],
   "source": [
    "print(f\"seqs[:5] = {seqs[:5]}\")\n",
    "print(f\"quals[:5] = {quals[:5]}\")"
   ]
  },
  {
   "cell_type": "code",
   "execution_count": 9,
   "metadata": {},
   "outputs": [
    {
     "name": "stdout",
     "output_type": "stream",
     "text": [
      "# = 2\n",
      "J = 41\n"
     ]
    }
   ],
   "source": [
    "def phred33toQ(qual):\n",
    "    return ord(qual) - 33\n",
    "\n",
    "# hash symbol in the qual string:\n",
    "print(f'# = {phred33toQ(\"#\")}')\n",
    "# J symbol in the qual string:\n",
    "print(f'J = {phred33toQ(\"J\")}')"
   ]
  },
  {
   "cell_type": "code",
   "execution_count": 10,
   "metadata": {},
   "outputs": [
    {
     "name": "stdout",
     "output_type": "stream",
     "text": [
      "h = [0, 0, 6178, 0, 0, 54, 108, 574, 345, 83, 193, 124, 79, 165, 49, 236, 184, 327, 514, 238, 531, 254, 313, 798, 992, 888, 1396, 1488, 993, 1752, 3387, 4487, 3248, 5476, 8375, 11814, 4243, 7827, 6579, 8179, 9349, 8180, 0, 0, 0, 0, 0, 0, 0, 0]\n"
     ]
    }
   ],
   "source": [
    "def createHist(qualities):\n",
    "    hist = [0] * 50\n",
    "    for qual in qualities:\n",
    "        for phred in qual:\n",
    "            q = phred33toQ(phred)\n",
    "            hist[q] += 1\n",
    "    return hist\n",
    "\n",
    "h = createHist(quals)\n",
    "print(f\"h = {h}\")"
   ]
  },
  {
   "cell_type": "code",
   "execution_count": 16,
   "metadata": {},
   "outputs": [
    {
     "data": {
      "text/plain": [
       "<matplotlib.text.Text at 0x2106ceae6d8>"
      ]
     },
     "execution_count": 16,
     "metadata": {},
     "output_type": "execute_result"
    },
    {
     "data": {
      "image/png": "[encoded data removed]",
      "text/plain": [
       "<matplotlib.figure.Figure at 0x2106cd9c588>"
      ]
     },
     "metadata": {},
     "output_type": "display_data"
    }
   ],
   "source": [
    "%matplotlib inline\n",
    "import matplotlib.pyplot as plt\n",
    "\n",
    "plt.bar(range(len(h)), h)\n",
    "plt.xlabel(\"Quality Scores\")\n",
    "plt.ylabel(\"Counts\")"
   ]
  },
  {
   "cell_type": "code",
   "execution_count": 19,
   "metadata": {},
   "outputs": [
    {
     "data": {
      "text/plain": [
       "[<matplotlib.lines.Line2D at 0x2106d09b198>]"
      ]
     },
     "execution_count": 19,
     "metadata": {},
     "output_type": "execute_result"
    },
    {
     "data": {
      "image/png": "[encoded data removed]",
      "text/plain": [
       "<matplotlib.figure.Figure at 0x2106c717630>"
      ]
     },
     "metadata": {},
     "output_type": "display_data"
    }
   ],
   "source": [
    "def findGCByPos(reads):\n",
    "    gc = [0] * 100\n",
    "    totals = [0] * 100\n",
    "    \n",
    "    for read in reads:\n",
    "        for i in range(len(read)):\n",
    "            if read[i] == \"G\" or read[i] == \"C\":\n",
    "                gc[i] += 1\n",
    "            totals[i] += 1\n",
    "    \n",
    "    for i in range(len(gc)):\n",
    "        if totals[i] > 0:\n",
    "            gc[i] /= float(totals[i])\n",
    "\n",
    "    return gc\n",
    "\n",
    "# plotting average gc content\n",
    "gc = findGCByPos(seqs)\n",
    "plt.plot(range(len(gc)), gc)"
   ]
  },
  {
   "cell_type": "code",
   "execution_count": 20,
   "metadata": {},
   "outputs": [
    {
     "name": "stdout",
     "output_type": "stream",
     "text": [
      "Counter({'G': 28742, 'C': 28272, 'T': 21836, 'A': 21132, 'N': 18})\n"
     ]
    }
   ],
   "source": [
    "from collections import Counter\n",
    "\n",
    "count = Counter()\n",
    "for seq in seqs:\n",
    "    count.update(seq)\n",
    "print(count)"
   ]
  },
  {
   "cell_type": "code",
   "execution_count": 21,
   "metadata": {},
   "outputs": [
    {
     "name": "stderr",
     "output_type": "stream",
     "text": [
      "SYSTEM_WGETRC = c:/progra~1/wget/etc/wgetrc\n",
      "syswgetrc = C:\\Program Files (x86)\\GnuWin32/etc/wgetrc\n",
      "--2021-02-20 20:39:07--  https://d28rh4a8wq0iu5.cloudfront.net/ads1/data/phix.fa\n",
      "Resolving d28rh4a8wq0iu5.cloudfront.net... 13.226.211.214, 13.226.211.135, 13.226.211.37, ...\n",
      "Connecting to d28rh4a8wq0iu5.cloudfront.net|13.226.211.214|:443... connected.\n",
      "WARNING: cannot verify d28rh4a8wq0iu5.cloudfront.net's certificate, issued by `/C=US/O=DigiCert Inc/CN=DigiCert Global CA G2':\n",
      "  Unable to locally verify the issuer's authority.\n",
      "HTTP request sent, awaiting response... 200 OK\n",
      "Length: 5528 (5.4K) [application/octet-stream]\n",
      "Saving to: `phix.fa'\n",
      "\n",
      "     0K .....                                                 100%  312M=0s\n",
      "\n",
      "2021-02-20 20:39:08 (312 MB/s) - `phix.fa' saved [5528/5528]\n",
      "\n"
     ]
    }
   ],
   "source": [
    "!wget --no-check https://d28rh4a8wq0iu5.cloudfront.net/ads1/data/phix.fa"
   ]
  },
  {
   "cell_type": "code",
   "execution_count": 23,
   "metadata": {},
   "outputs": [
    {
     "name": "stdout",
     "output_type": "stream",
     "text": [
      "5386\n"
     ]
    }
   ],
   "source": [
    "def readGenome(filename):\n",
    "    genome = \"\"\n",
    "\n",
    "    with open(filename, \"r\") as f:\n",
    "        for line in f:\n",
    "            if not line[0] == \">\":\n",
    "                genome += line.rstrip()\n",
    "\n",
    "    return genome\n",
    "\n",
    "genome = readGenome(\"phix.fa\")\n",
    "print(len(genome))"
   ]
  },
  {
   "cell_type": "code",
   "execution_count": 28,
   "metadata": {},
   "outputs": [
    {
     "data": {
      "text/plain": [
       "[0, 5, 9]"
      ]
     },
     "execution_count": 28,
     "metadata": {},
     "output_type": "execute_result"
    }
   ],
   "source": [
    "def naive(p, t):\n",
    "    occurrences = []\n",
    "    for i in range(len(t) - len(p) + 1):\n",
    "        match = True\n",
    "        for j in range(len(p)):\n",
    "            if t[i+j] != p[j]:\n",
    "                match = False\n",
    "                break\n",
    "        if match:\n",
    "            occurrences.append(i)\n",
    "    return occurrences\n",
    "\n",
    "t = \"AGCTTAGATAGC\"\n",
    "p = \"AG\"\n",
    "naive(p, t)"
   ]
  },
  {
   "cell_type": "code",
   "execution_count": 29,
   "metadata": {
    "collapsed": true
   },
   "outputs": [],
   "source": [
    "import random\n",
    "\n",
    "def generateReads(genome, numReads, readLen):\n",
    "    \"\"\"Generate reads from random positions in the genome.\"\"\"\n",
    "    reads = []\n",
    "    for _ in range(numReads):\n",
    "        start = random.randint(0, len(genome) - readLen) - 1\n",
    "        reads.append(genome[start:start+readLen])\n",
    "    return reads"
   ]
  },
  {
   "cell_type": "code",
   "execution_count": 30,
   "metadata": {},
   "outputs": [
    {
     "name": "stdout",
     "output_type": "stream",
     "text": [
      "100 / 100 reads matched exactly!\n"
     ]
    }
   ],
   "source": [
    "reads = generateReads(genome, 100, 100)\n",
    "\n",
    "numMatched = 0\n",
    "for r in reads:\n",
    "    matches = naive(r, genome)\n",
    "    if len(matches) > 0:\n",
    "        numMatched += 1\n",
    "print(\"%d / %d reads matched exactly!\" % (numMatched, len(reads)))"
   ]
  },
  {
   "cell_type": "code",
   "execution_count": 31,
   "metadata": {},
   "outputs": [
    {
     "name": "stderr",
     "output_type": "stream",
     "text": [
      "SYSTEM_WGETRC = c:/progra~1/wget/etc/wgetrc\n",
      "syswgetrc = C:\\Program Files (x86)\\GnuWin32/etc/wgetrc\n",
      "--2021-02-20 22:01:25--  http://d28rh4a8wq0iu5.cloudfront.net/ads1/data/ERR266411_1.first1000.fastq\n",
      "Resolving d28rh4a8wq0iu5.cloudfront.net... 99.84.232.26, 99.84.232.33, 99.84.232.192, ...\n",
      "Connecting to d28rh4a8wq0iu5.cloudfront.net|99.84.232.26|:80... connected.\n",
      "HTTP request sent, awaiting response... 200 OK\n",
      "Length: 254384 (248K) [audio/mpeg]\n",
      "Saving to: `ERR266411_1.first1000.fastq'\n",
      "\n",
      "     0K .......... .......... .......... .......... .......... 20%  343K 1s\n",
      "    50K .......... .......... .......... .......... .......... 40%  712K 0s\n",
      "   100K .......... .......... .......... .......... .......... 60% 2.78M 0s\n",
      "   150K .......... .......... .......... .......... .......... 80%  920K 0s\n",
      "   200K .......... .......... .......... .......... ........  100% 3.07M=0.3s\n",
      "\n",
      "2021-02-20 22:01:26 (819 KB/s) - `ERR266411_1.first1000.fastq' saved [254384/254384]\n",
      "\n"
     ]
    }
   ],
   "source": [
    "!wget http://d28rh4a8wq0iu5.cloudfront.net/ads1/data/ERR266411_1.first1000.fastq"
   ]
  },
  {
   "cell_type": "code",
   "execution_count": 33,
   "metadata": {},
   "outputs": [],
   "source": [
    "def readFastq(filename):\n",
    "    sequences = []\n",
    "    qualities = []\n",
    "    with open(filename) as fh:\n",
    "        while True:\n",
    "            fh.readline()\n",
    "            seq = fh.readline().rstrip()\n",
    "            fh.readline()\n",
    "            qual = fh.readline().rstrip()\n",
    "            if len(seq) == 0:\n",
    "                break\n",
    "            sequences.append(seq)\n",
    "            qualities.append(qual)\n",
    "    return sequences, qualities\n",
    "\n",
    "phix_reads, _ = readFastq(\"ERR266411_1.first1000.fastq\")"
   ]
  },
  {
   "cell_type": "code",
   "execution_count": 40,
   "metadata": {},
   "outputs": [
    {
     "name": "stdout",
     "output_type": "stream",
     "text": [
      "7 / 1000 reads matched the genome exactly!\n"
     ]
    }
   ],
   "source": [
    "numMatched = 0\n",
    "n = 0  # n is total number of reads we processed\n",
    "\n",
    "for r in phix_reads:\n",
    "    matches = naive(r, genome)\n",
    "    n += 1\n",
    "    if len(matches) > 0:\n",
    "        numMatched += 1\n",
    "print('%d / %d reads matched the genome exactly!' % (numMatched, n))"
   ]
  },
  {
   "cell_type": "code",
   "execution_count": 41,
   "metadata": {},
   "outputs": [
    {
     "name": "stdout",
     "output_type": "stream",
     "text": [
      "459 / 1000 reads matched the genome exactly!\n"
     ]
    }
   ],
   "source": [
    "numMatched = 0\n",
    "n = 0  # n is total number of reads we processed\n",
    "\n",
    "for r in phix_reads:\n",
    "    r = r[:30]\n",
    "    matches = naive(r, genome)\n",
    "    n += 1\n",
    "    if len(matches) > 0:\n",
    "        numMatched += 1\n",
    "print('%d / %d reads matched the genome exactly!' % (numMatched, n))"
   ]
  },
  {
   "cell_type": "code",
   "execution_count": 42,
   "metadata": {},
   "outputs": [
    {
     "name": "stdout",
     "output_type": "stream",
     "text": [
      "932 / 1000 reads matched the genome exactly!\n"
     ]
    }
   ],
   "source": [
    "def naive(p, t):\n",
    "    occurrences = []\n",
    "    for i in range(len(t) - len(p) + 1):\n",
    "        match = True\n",
    "        for j in range(len(p)):\n",
    "            if t[i+j] != p[j]:\n",
    "                match = False\n",
    "                break\n",
    "        if match:\n",
    "            occurrences.append(i)\n",
    "    return occurrences\n",
    "\n",
    "def reverseComplement(s):\n",
    "    complement = \"\"\n",
    "    complements = {\"A\": \"T\", \"C\": \"G\", \"G\": \"C\", \"T\": \"A\", \"N\": \"N\"}\n",
    "    for base in s:\n",
    "        # complement += complements[base] would yield just the complement\n",
    "        complement = complements[base] + complement\n",
    "    return complement\n",
    "\n",
    "numMatched = 0\n",
    "n = 0  # n is total number of reads we processed\n",
    "\n",
    "for r in phix_reads:\n",
    "    r = r[:30]\n",
    "    matches = naive(r, genome)\n",
    "    matches.extend(naive(reverseComplement(r), genome))\n",
    "    n += 1\n",
    "    if len(matches) > 0:\n",
    "        numMatched += 1\n",
    "print('%d / %d reads matched the genome exactly!' % (numMatched, n))"
   ]
  },
  {
   "cell_type": "code",
   "execution_count": 44,
   "metadata": {},
   "outputs": [
    {
     "name": "stdout",
     "output_type": "stream",
     "text": [
      "ind: 2\n"
     ]
    }
   ],
   "source": [
    "s = \"abXXYZcdeXYZfh\"\n",
    "p = \"XYZ\"\n",
    "ind = s.find(p)\n",
    "print(f\"ind: {ind}\")\n",
    "\n"
   ]
  },
  {
   "cell_type": "code",
   "execution_count": 45,
   "metadata": {},
   "outputs": [
    {
     "data": {
      "text/plain": [
       "[1, 2, 3, 10, 20, 30]"
      ]
     },
     "execution_count": 45,
     "metadata": {},
     "output_type": "execute_result"
    }
   ],
   "source": [
    "lst1 = [1, 2, 3]\n",
    "lst2 = [10, 20, 30]\n",
    "lst1 + lst2"
   ]
  },
  {
   "cell_type": "code",
   "execution_count": 50,
   "metadata": {},
   "outputs": [
    {
     "name": "stdout",
     "output_type": "stream",
     "text": [
      "60\n"
     ]
    }
   ],
   "source": [
    "def reverseComplement(s):\n",
    "    complement = \"\"\n",
    "    complements = {\"A\": \"T\", \"C\": \"G\", \"G\": \"C\", \"T\": \"A\", \"N\": \"N\"}\n",
    "    for base in s:\n",
    "        # complement += complements[base] would yield just the complement\n",
    "        complement = complements[base] + complement\n",
    "    return complement\n",
    "\n",
    "def naive(p, t):\n",
    "    occurrences = []\n",
    "    for i in range(len(t) - len(p) + 1):\n",
    "        match = True\n",
    "        for j in range(len(p)):\n",
    "            if t[i+j] != p[j]:\n",
    "                match = False\n",
    "                break\n",
    "        if match:\n",
    "            occurrences.append(i)\n",
    "    return occurrences\n",
    "\n",
    "def naive_with_rc(p, t):\n",
    "    occurrences1 = naive(p, t)\n",
    "    occurrences2 = naive(reverseComplement(p), t)\n",
    "    return sorted(set(occurrences1 + occurrences2))\n",
    "\n",
    "# p = 'CCC'\n",
    "# ten_as = 'AAAAAAAAAA'\n",
    "# t = ten_as + 'CCC' + ten_as + 'GGG' + ten_as\n",
    "\n",
    "# p = 'CGCG'\n",
    "# ten_as = 'AAAAAAAAAA'\n",
    "# t = ten_as + 'CGCG' + ten_as + 'CGCG' + ten_as\n",
    "\n",
    "p = \"ATTA\"\n",
    "t = genome\n",
    "occurrences = naive_with_rc(p, t)\n",
    "print(len(occurrences))"
   ]
  },
  {
   "cell_type": "code",
   "execution_count": 2,
   "metadata": {},
   "outputs": [
    {
     "name": "stdout",
     "output_type": "stream",
     "text": [
      "[26028, 27733, 45382]\n",
      "offset of leftmost occurrence: 26028\n"
     ]
    }
   ],
   "source": [
    "def readGenome(filename):\n",
    "    genome = \"\"\n",
    "\n",
    "    with open(filename, \"r\") as f:\n",
    "        for line in f:\n",
    "            if not line[0] == \">\":\n",
    "                genome += line.rstrip()\n",
    "\n",
    "    return genome\n",
    "\n",
    "def reverseComplement(s):\n",
    "    complement = \"\"\n",
    "    complements = {\"A\": \"T\", \"C\": \"G\", \"G\": \"C\", \"T\": \"A\", \"N\": \"N\"}\n",
    "    for base in s:\n",
    "        # complement += complements[base] would yield just the complement\n",
    "        complement = complements[base] + complement\n",
    "    return complement\n",
    "\n",
    "def naive(p, t):\n",
    "    occurrences = []\n",
    "    for i in range(len(t) - len(p) + 1):\n",
    "        match = True\n",
    "        for j in range(len(p)):\n",
    "            if t[i+j] != p[j]:\n",
    "                match = False\n",
    "                break\n",
    "        if match:\n",
    "            occurrences.append(i)\n",
    "    return occurrences\n",
    "\n",
    "def naive_with_rc(p, t):\n",
    "    occurrences1 = naive(p, t)\n",
    "    occurrences2 = naive(reverseComplement(p), t)\n",
    "    return sorted(set(occurrences1 + occurrences2))\n",
    "\n",
    "lambda_genome = readGenome(\"lambda_virus.fa\")\n",
    "# p = \"AGGT\"\n",
    "# p = \"TTAA\"\n",
    "p = \"ACTAAGT\"\n",
    "instances = naive_with_rc(p, lambda_genome)\n",
    "print(instances)\n",
    "print('offset of leftmost occurrence: %d' % min(instances))"
   ]
  },
  {
   "cell_type": "code",
   "execution_count": 3,
   "metadata": {},
   "outputs": [
    {
     "name": "stdout",
     "output_type": "stream",
     "text": [
      "[450, 1908, 2472, 18005, 23320, 33657, 41927, 44806, 45369]\n",
      "offset of leftmost occurrence: 26028\n"
     ]
    }
   ],
   "source": [
    "p = \"AGTCGA\"\n",
    "t = lambda_genome\n",
    "print(naive_with_rc(p, t))\n",
    "print('offset of leftmost occurrence: %d' % min(instances))"
   ]
  },
  {
   "cell_type": "code",
   "execution_count": 20,
   "metadata": {},
   "outputs": [
    {
     "name": "stdout",
     "output_type": "stream",
     "text": [
      "191\n",
      "offset of leftmost occurrence: 45\n"
     ]
    }
   ],
   "source": [
    "def readGenome(filename):\n",
    "    genome = \"\"\n",
    "\n",
    "    with open(filename, \"r\") as f:\n",
    "        for line in f:\n",
    "            if not line[0] == \">\":\n",
    "                genome += line.rstrip()\n",
    "\n",
    "    return genome\n",
    "\n",
    "def reverseComplement(s):\n",
    "    complement = \"\"\n",
    "    complements = {\"A\": \"T\", \"C\": \"G\", \"G\": \"C\", \"T\": \"A\", \"N\": \"N\"}\n",
    "    for base in s:\n",
    "        # complement += complements[base] would yield just the complement\n",
    "        complement = complements[base] + complement\n",
    "    return complement\n",
    "\n",
    "def naive(p, t):\n",
    "    occurrences = []\n",
    "    for i in range(len(t) - len(p) + 1):\n",
    "        match = True\n",
    "        n_mismatches = 0\n",
    "        for j in range(len(p)):\n",
    "            if t[i+j] != p[j]:\n",
    "                # match = False\n",
    "                n_mismatches += 1\n",
    "                if n_mismatches > 2:\n",
    "                    match = False\n",
    "                    break\n",
    "        if match:\n",
    "            occurrences.append(i)\n",
    "    return occurrences\n",
    "\n",
    "def naive_2mm(p, t):\n",
    "    occurrences1 = naive(p, t)\n",
    "    # occurrences2 = naive(reverseComplement(p), t)\n",
    "    # return sorted(set(occurrences1 + occurrences2))\n",
    "    return occurrences1\n",
    "\n",
    "# lambda_genome = readGenome(\"lambda_virus.fa\")\n",
    "# p = \"AGGT\"\n",
    "# p = \"TTAA\"\n",
    "# p = \"ACTAAGT\"\n",
    "# p = 'CTGT'\n",
    "# ten_as = 'AAAAAAAAAA'\n",
    "# t = ten_as + 'CTGT' + ten_as + 'CTTT' + ten_as + 'CGGG' + ten_as\n",
    "p = \"TTCAAGCC\"\n",
    "lambda_genome = readGenome(\"lambda_virus.fa\")\n",
    "occurrences = naive_2mm(p, lambda_genome)\n",
    "print(len(occurrences))\n",
    "print('offset of leftmost occurrence: %d' % min(occurrences))\n",
    "# print(instances)"
   ]
  },
  {
   "cell_type": "code",
   "execution_count": 58,
   "metadata": {},
   "outputs": [
    {
     "name": "stderr",
     "output_type": "stream",
     "text": [
      "SYSTEM_WGETRC = c:/progra~1/wget/etc/wgetrc\n",
      "syswgetrc = C:\\Program Files (x86)\\GnuWin32/etc/wgetrc\n",
      "--2021-02-21 13:30:12--  http://d28rh4a8wq0iu5.cloudfront.net/ads1/data/ERR037900_1.first1000.fastq\n",
      "Resolving d28rh4a8wq0iu5.cloudfront.net... 13.226.211.37, 13.226.211.135, 13.226.211.214, ...\n",
      "Connecting to d28rh4a8wq0iu5.cloudfront.net|13.226.211.37|:80... connected.\n",
      "HTTP request sent, awaiting response... 200 OK\n",
      "Length: 241626 (236K) [application/octet-stream]\n",
      "Saving to: `ERR037900_1.first1000.fastq'\n",
      "\n",
      "     0K .......... .......... .......... .......... .......... 21%  363K 1s\n",
      "    50K .......... .......... .......... .......... .......... 42%  689K 0s\n",
      "   100K .......... .......... .......... .......... .......... 63% 4.14M 0s\n",
      "   150K .......... .......... .......... .......... .......... 84%  872K 0s\n",
      "   200K .......... .......... .......... .....                100% 3.19M=0.3s\n",
      "\n",
      "2021-02-21 13:30:13 (812 KB/s) - `ERR037900_1.first1000.fastq' saved [241626/241626]\n",
      "\n"
     ]
    }
   ],
   "source": [
    "!wget http://d28rh4a8wq0iu5.cloudfront.net/ads1/data/ERR037900_1.first1000.fastq"
   ]
  },
  {
   "cell_type": "code",
   "execution_count": 5,
   "metadata": {},
   "outputs": [
    {
     "name": "stdout",
     "output_type": "stream",
     "text": [
      "quals[:5]: ['HHHHHHHHHHHHHHHHHHHHHHHHHHHHHHHHHHHHHHHHHHHGFHHHFHFFHHHHHGHHFHEH@4#55554455HGFBF<@C>7EEF@FBEDDD<=C<E', 'HHHHHHHHHHHHHHHHHHHHHHHHHHHHHHHHHHHHHHHHHHHHHHHHHHHHHHHHCHHHHEHHBA#C>@54455C/7=CGHEGEB;C############', 'HHHHHHHHHHHHHHHHHHHHHHHHHHHHHHGHHHHHHHHHHHHHDHHHDEHHHHFGIHEHEGGGF4#45655366GIGEHAGBG################', 'HHHHHHHHHHHHHHHHHHHHHHHHHIHHHHHHHHHHHHHHHHHHHHHHIHHHHHIHFHHHIHHHHD#ECA54655GGIBH?BD@+BCBF?5A=::>8?##', 'HHHHHHHHHHHHHHHHHHHHHHHHHHHHHHHHHHHHHHHHHHHHHHHIHIHEHHIGHIFFHIIGF6#555:2=7=CB;?3CAACBAC2B###########']\n",
      "seqs[:5]: ['TAACCCTAACCCTAACCCTAACCCTAACCCTAACCCTAACCCTAACCCTAACCCTAACCCTAACCCNAACCCTAACCCTAACCCTAACCCTAACCCTAAC', 'TAACCCTAACCCTAACCCTAACCCTAACCCTAACCCTAACCCTAACCCTAACCCTAACCCTAACCCNAACCCTAACCCTAACCCTAACCCTNACCCTAAC', 'TAACCCTAACCCTAACCCTAACCCTAACCCTAACCCTAACCCTAACCCTAACCCTAACCCTAACCCNAACCCTAACCCTAACCCTAACCCTAACCCTAAC', 'TAACCCTAACCCTAACCCTAACCCTAACCCTAACCCTAACCCTAACCCTAACCCTAACCCTAACCCNAACCCTAACCCTAACCCTAACCCTAACCCTACC', 'AACCCTAACCCTAACCCTAACCCTAACCCTAACCCTAACCCTAACCCTAACCCTAACCCTAACCCTNACCCTAACCCTAACCCTAACCCTAAACCTAACC']\n",
      "offset of leftmost occurrence: 26028\n"
     ]
    }
   ],
   "source": [
    "def readFastq(filename):\n",
    "    sequences = []\n",
    "    qualities = []\n",
    "    with open(filename) as fh:\n",
    "        while True:\n",
    "            fh.readline()  # skip name line\n",
    "            seq = fh.readline().rstrip()  # read base sequence\n",
    "            fh.readline()  # skip placeholder line\n",
    "            qual = fh.readline().rstrip() # base quality line\n",
    "            if len(seq) == 0:\n",
    "                break\n",
    "            sequences.append(seq)\n",
    "            qualities.append(qual)\n",
    "    return sequences, qualities\n",
    "\n",
    "def naive(p, t):\n",
    "    occurrences = []\n",
    "    for i in range(len(t) - len(p) + 1):\n",
    "        match = True\n",
    "        for j in range(len(p)):\n",
    "            if t[i+j] != p[j]:\n",
    "                match = False\n",
    "                break\n",
    "        if match:\n",
    "            occurrences.append(i)\n",
    "    return occurrences\n",
    "\n",
    "def naive_with_rc(p, t):\n",
    "    occurrences1 = naive(p, t)\n",
    "    occurrences2 = naive(reverseComplement(p), t)\n",
    "    return sorted(set(occurrences1 + occurrences2))\n",
    "\n",
    "# p = \"AGGAGGTT\"\n",
    "# text = \n",
    "seqs, quals = readFastq(\"ERR037900_1.first1000.fastq\")\n",
    "print(f\"quals[:5]: {quals[:5]}\")\n",
    "print(f\"seqs[:5]: {seqs[:5]}\")\n",
    "print('offset of leftmost occurrence: %d' % min(instances))"
   ]
  },
  {
   "cell_type": "code",
   "execution_count": 14,
   "metadata": {},
   "outputs": [
    {
     "data": {
      "image/png": "[encoded data removed]",
      "text/plain": [
       "<matplotlib.figure.Figure at 0x1521cba17b8>"
      ]
     },
     "metadata": {},
     "output_type": "display_data"
    }
   ],
   "source": [
    "import matplotlib.pyplot as plt\n",
    "\n",
    "def findGCByPos(reads):\n",
    "    gc = [0] * 100\n",
    "    totals = [0] * 100\n",
    "    \n",
    "    for read in reads:\n",
    "        for i in range(len(read)):\n",
    "            if read[i] == \"G\" or read[i] == \"C\":\n",
    "                gc[i] += 1\n",
    "            totals[i] += 1\n",
    "    \n",
    "    for i in range(len(gc)):\n",
    "        if totals[i] > 0:\n",
    "            gc[i] /= float(totals[i])\n",
    "\n",
    "    return gc\n",
    "\n",
    "gc = findGCByPos(seqs)\n",
    "plt.plot(range(len(gc)), gc)\n",
    "plt.show()"
   ]
  },
  {
   "cell_type": "code",
   "execution_count": 15,
   "metadata": {},
   "outputs": [
    {
     "data": {
      "image/png": "[encoded data removed]",
      "text/plain": [
       "<matplotlib.figure.Figure at 0x1521ccbf080>"
      ]
     },
     "metadata": {},
     "output_type": "display_data"
    }
   ],
   "source": [
    "import matplotlib.pyplot as plt\n",
    "\n",
    "def findGCByPos(reads):\n",
    "    gc = [0] * 100\n",
    "    totals = [0] * 100\n",
    "    \n",
    "    for read in reads:\n",
    "        for i in range(len(read)):\n",
    "            if read[i] == \"G\" or read[i] == \"C\":\n",
    "                gc[i] += 1\n",
    "            totals[i] += 1\n",
    "    \n",
    "    for i in range(len(gc)):\n",
    "        if totals[i] > 0:\n",
    "            gc[i] /= float(totals[i])\n",
    "\n",
    "    return gc\n",
    "\n",
    "gc = findGCByPos(seqs)\n",
    "plt.plot(range(len(gc)), gc)\n",
    "plt.xticks(range(0, len(gc), 5))\n",
    "plt.show()"
   ]
  },
  {
   "cell_type": "code",
   "execution_count": 11,
   "metadata": {},
   "outputs": [
    {
     "name": "stdout",
     "output_type": "stream",
     "text": [
      "FHHHHHHGGHA?<DA?AA6>DADD<EED?FHHEHHGAE@GFFBEBHHHHHFDHHEF=F@B########################################\n",
      "60\n"
     ]
    }
   ],
   "source": [
    "print(quals[65])\n",
    "print(quals[65].find(\"#\"))"
   ]
  },
  {
   "cell_type": "code",
   "execution_count": 21,
   "metadata": {},
   "outputs": [
    {
     "name": "stdout",
     "output_type": "stream",
     "text": [
      "offset of leftmost occurrence: 26028\n",
      "offset of leftmost occurrence: 450\n"
     ]
    }
   ],
   "source": [
    "def readGenome(filename):\n",
    "    genome = \"\"\n",
    "\n",
    "    with open(filename, \"r\") as f:\n",
    "        for line in f:\n",
    "            if not line[0] == \">\":\n",
    "                genome += line.rstrip()\n",
    "\n",
    "    return genome\n",
    "\n",
    "def reverseComplement(s):\n",
    "    complement = \"\"\n",
    "    complements = {\"A\": \"T\", \"C\": \"G\", \"G\": \"C\", \"T\": \"A\", \"N\": \"N\"}\n",
    "    for base in s:\n",
    "        # complement += complements[base] would yield just the complement\n",
    "        complement = complements[base] + complement\n",
    "    return complement\n",
    "\n",
    "def naive(p, t):\n",
    "    occurrences = []\n",
    "    for i in range(len(t) - len(p) + 1):\n",
    "        match = True\n",
    "        for j in range(len(p)):\n",
    "            if t[i+j] != p[j]:\n",
    "                match = False\n",
    "                break\n",
    "        if match:\n",
    "            occurrences.append(i)\n",
    "    return occurrences\n",
    "\n",
    "def naive_with_rc(p, t):\n",
    "    occurrences1 = naive(p, t)\n",
    "    occurrences2 = naive(reverseComplement(p), t)\n",
    "    return sorted(set(occurrences1 + occurrences2))\n",
    "\n",
    "lambda_genome = readGenome(\"lambda_virus.fa\")\n",
    "p_3 = \"ACTAAGT\"  # question 3\n",
    "p_4 = \"AGTCGA\"  # question 4\n",
    "p = \"AGGAGGTT\"\n",
    "occurrences_3 = naive_with_rc(p_3, lambda_genome)\n",
    "occurrences_4 = naive_with_rc(p_4, lambda_genome)\n",
    "print('offset of leftmost occurrence: %d' % min(occurrences_3))\n",
    "print('offset of leftmost occurrence: %d' % min(occurrences_4))"
   ]
  }
 ],
 "metadata": {
  "kernelspec": {
   "display_name": "Python 3",
   "language": "python",
   "name": "python3"
  },
  "language_info": {
   "codemirror_mode": {
    "name": "ipython",
    "version": 3
   },
   "file_extension": ".py",
   "mimetype": "text/x-python",
   "name": "python",
   "nbconvert_exporter": "python",
   "pygments_lexer": "ipython3",
   "version": "3.8.5"
  }
 },
 "nbformat": 4,
 "nbformat_minor": 2
}
