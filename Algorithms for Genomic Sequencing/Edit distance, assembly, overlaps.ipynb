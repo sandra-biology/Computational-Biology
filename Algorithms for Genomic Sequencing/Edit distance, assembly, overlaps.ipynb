{
 "cells": [
  {
   "cell_type": "code",
   "execution_count": 1,
   "metadata": {
    "collapsed": true
   },
   "outputs": [],
   "source": [
    "def editDistRecursive(x, y):\n",
    "    # This implementation is very slow\n",
    "    if len(x) == 0:\n",
    "        return len(y)\n",
    "    elif len(y) == 0:\n",
    "        return len(x)\n",
    "    else:\n",
    "        distHor = editDistRecursive(x[:-1], y) + 1\n",
    "        distVer = editDistRecursive(x, y[:-1]) + 1\n",
    "        if x[-1] == y[-1]:\n",
    "            distDiag = editDistRecursive(x[:-1], y[:-1])\n",
    "        else:\n",
    "            distDiag = editDistRecursive(x[:-1], y[:-1]) + 1\n",
    "        return min(distHor, distVer, distDiag)"
   ]
  },
  {
   "cell_type": "code",
   "execution_count": 11,
   "metadata": {
    "collapsed": true
   },
   "outputs": [],
   "source": [
    "def editDistance(x, y):\n",
    "    D = []\n",
    "    for i in range(len(x) + 1):\n",
    "        D.append([0] * (len(y) + 1))\n",
    "    \n",
    "    for i in range(len(x) + 1):\n",
    "        D[i][0] = i\n",
    "    for i in range(len(y) + 1):\n",
    "        D[i][0] = i\n",
    "\n",
    "    for i in range(1, len(x) + 1):\n",
    "        for j in range(1, len(y) + 1):\n",
    "            distHor = D[i][j-1] + 1\n",
    "            distVer = D[i-1][j] + 1\n",
    "            if x[i-1] == y[j-1]:\n",
    "                distDiag = D[i-1][j-1]\n",
    "            else:\n",
    "                distDiag = D[i-1][j-1] + 1\n",
    "\n",
    "            D[i][j] = min(distHor, distVer, distDiag)\n",
    "    \n",
    "    # edit distance is the value in the bottom right corner of the table/bottom right cell of the array\n",
    "    return D[-1][-1]"
   ]
  },
  {
   "cell_type": "code",
   "execution_count": 17,
   "metadata": {},
   "outputs": [
    {
     "name": "stdout",
     "output_type": "stream",
     "text": [
      "[0, 0, 0, 0, 0]\n"
     ]
    },
    {
     "data": {
      "text/plain": [
       "[0, 0, 0, 0, 0]"
      ]
     },
     "execution_count": 17,
     "metadata": {},
     "output_type": "execute_result"
    }
   ],
   "source": [
    "print([0] * 5)\n",
    "[0 for _ in range(5)]"
   ]
  },
  {
   "cell_type": "code",
   "execution_count": 5,
   "metadata": {},
   "outputs": [
    {
     "name": "stdout",
     "output_type": "stream",
     "text": [
      "3\n",
      "Wall time: 27.1 s\n"
     ]
    }
   ],
   "source": [
    "%%time\n",
    "x = \"shake spea\"\n",
    "y = \"Shakespear\"\n",
    "print(editDistRecursive(x, y))"
   ]
  },
  {
   "cell_type": "code",
   "execution_count": 12,
   "metadata": {},
   "outputs": [
    {
     "name": "stdout",
     "output_type": "stream",
     "text": [
      "3\n",
      "Wall time: 0 ns\n"
     ]
    }
   ],
   "source": [
    "%%time\n",
    "x = \"shake spea\"\n",
    "y = \"Shakespear\"\n",
    "print(editDistance(x, y))"
   ]
  },
  {
   "cell_type": "code",
   "execution_count": 22,
   "metadata": {},
   "outputs": [
    {
     "name": "stdout",
     "output_type": "stream",
     "text": [
      "score: [[0, 4, 2, 4, 8], [4, 0, 4, 2, 8], [2, 4, 0, 4, 8], [4, 2, 4, 0, 8], [8, 8, 8, 8, 8]]\n",
      "converts from character to its offset in list alphabet: 0\n",
      "penalty associated with A (from X) mismatching with T (from Y): 2\n",
      "penalty associated with A (from X) mismatching with T (from Y): 4\n",
      "penalty associated with C (from X) being deleted in Y: 8\n"
     ]
    }
   ],
   "source": [
    "alphabet = [\"A\", \"C\", \"G\", \"T\"]\n",
    "score = [[0, 4, 2, 4, 8], \\\n",
    "         [4, 0, 4, 2, 8], \\\n",
    "         [2, 4, 0, 4, 8], \\\n",
    "         [4, 2, 4, 0, 8], \\\n",
    "         [8, 8, 8, 8, 8]]\n",
    "print(f\"score: {score}\")\n",
    "print(f\"converts from character to its offset in list alphabet: {alphabet.index('A')}\")\n",
    "print(f\"penalty associated with A (from X) mismatching with T (from Y): {alphabet.index('G')}\")\n",
    "print(f\"penalty associated with A (from X) mismatching with T (from Y): {score[alphabet.index('A')][alphabet.index('T')]}\")\n",
    "print(f\"penalty associated with C (from X) being deleted in Y: {score[alphabet.index('C')][-1]}\")"
   ]
  },
  {
   "cell_type": "code",
   "execution_count": 27,
   "metadata": {},
   "outputs": [
    {
     "data": {
      "text/plain": [
       "2"
      ]
     },
     "execution_count": 27,
     "metadata": {},
     "output_type": "execute_result"
    }
   ],
   "source": [
    "def globalalignment(x, y):\n",
    "    D = []\n",
    "    for i in range(len(x) + 1):\n",
    "        D.append([0] * (len(y) + 1))\n",
    "    \n",
    "    # initialize first row\n",
    "    for i in range(1, len(x) + 1):\n",
    "        D[i][0] = D[i-1][0] + score[alphabet.index(x[i-1])][-1]\n",
    "    # initalize first column\n",
    "    for j in range(1, len(y) + 1):\n",
    "        D[0][j] = D[0][j-1] + score[-1][alphabet.index(y[j-1])]\n",
    "\n",
    "    for i in range(1, len(x) + 1):\n",
    "        for j in range(1, len(y) + 1):\n",
    "            distHor = D[i][j-1] + score[-1][alphabet.index(y[j-1])]\n",
    "            distVer = D[i-1][j] + score[alphabet.index(x[i-1])][-1]\n",
    "            if x[i-1] == y[j-1]:\n",
    "                distDiag = D[i-1][j-1]\n",
    "            else:\n",
    "                distDiag = D[i-1][j-1] + score[alphabet.index(x[i-1])][alphabet.index(y[j-1])]\n",
    "\n",
    "            D[i][j] = min(distHor, distVer, distDiag)\n",
    "    \n",
    "    # edit distance is the value in the bottom right corner of the table/bottom right cell of the array\n",
    "    return D[-1][-1]\n",
    "\n",
    "x = \"TACCAGATTCGA\"\n",
    "# y = \"TACCAGATTCGA\"\n",
    "y = \"TACCAAATTCGA\"\n",
    "globalalignment(x, y)"
   ]
  },
  {
   "cell_type": "code",
   "execution_count": 7,
   "metadata": {},
   "outputs": [
    {
     "data": {
      "text/plain": [
       "0"
      ]
     },
     "execution_count": 7,
     "metadata": {},
     "output_type": "execute_result"
    }
   ],
   "source": [
    "def overlap(a, b, min_length=3):\n",
    "    \"\"\" Return length of longest suffix of 'a' matching\n",
    "        a prefix of 'b' that is at least 'min_length'\n",
    "        characters long.  If no such overlap exists,\n",
    "        return 0. \"\"\"\n",
    "    start = 0\n",
    "    while True:\n",
    "        start = a.find(b[:min_length], start)  # second argument is the index we want to start searching from\n",
    "        if start == -1:\n",
    "            return 0\n",
    "        if b.startswith(a[start:]):\n",
    "            return len(a) - start  # return the length of the overlap\n",
    "        start += 1\n",
    "\n",
    "# a = \"TTACGT\"\n",
    "# b = \"CGTGTGC\"\n",
    "a = \"TTACGT\"\n",
    "b = \"GTGTCG\"\n",
    "overlap(a, b)"
   ]
  },
  {
   "cell_type": "code",
   "execution_count": 11,
   "metadata": {},
   "outputs": [
    {
     "data": {
      "text/plain": [
       "[(1, 2, 3), (1, 3, 2), (2, 1, 3), (2, 3, 1), (3, 1, 2), (3, 2, 1)]"
      ]
     },
     "execution_count": 11,
     "metadata": {},
     "output_type": "execute_result"
    }
   ],
   "source": [
    "from itertools import permutations\n",
    "\n",
    "list(permutations([1,2,3], 3))"
   ]
  },
  {
   "cell_type": "code",
   "execution_count": 14,
   "metadata": {},
   "outputs": [
    {
     "data": {
      "text/plain": [
       "{('ACGGATC', 'GATCAAGT'): 4, ('TTCACGGA', 'ACGGATC'): 5}"
      ]
     },
     "execution_count": 14,
     "metadata": {},
     "output_type": "execute_result"
    }
   ],
   "source": [
    "def naive_overlap_map(reads, k):\n",
    "    olaps = {}\n",
    "    for a, b in permutations(reads, 2):\n",
    "        olen = overlap(a, b, min_length=k)\n",
    "        if olen > 0:\n",
    "            olaps[(a, b)] = olen\n",
    "    return olaps\n",
    "\n",
    "# reads = [\"ACGTTATC\", \"GATCAAGT\", \"TTCACGGA\"]\n",
    "k = 3\n",
    "reads = [\"ACGGATC\", \"GATCAAGT\", \"TTCACGGA\"]\n",
    "naive_overlap_map(reads, k)"
   ]
  },
  {
   "cell_type": "code",
   "execution_count": null,
   "metadata": {
    "collapsed": true
   },
   "outputs": [],
   "source": []
  }
 ],
 "metadata": {
  "kernelspec": {
   "display_name": "Python 3",
   "language": "python",
   "name": "python3"
  },
  "language_info": {
   "codemirror_mode": {
    "name": "ipython",
    "version": 3
   },
   "file_extension": ".py",
   "mimetype": "text/x-python",
   "name": "python",
   "nbconvert_exporter": "python",
   "pygments_lexer": "ipython3",
   "version": "3.6.1"
  }
 },
 "nbformat": 4,
 "nbformat_minor": 2
}
